{
 "cells": [
  {
   "cell_type": "markdown",
   "metadata": {},
   "source": [
    "# CHAPTER 11 - TIME SERIES"
   ]
  },
  {
   "cell_type": "markdown",
   "metadata": {},
   "source": [
    "## DATA AND TIME DATA TYPES AND TOOLS"
   ]
  },
  {
   "cell_type": "code",
   "execution_count": 1,
   "metadata": {},
   "outputs": [],
   "source": [
    "from datetime import datetime"
   ]
  },
  {
   "cell_type": "code",
   "execution_count": 2,
   "metadata": {},
   "outputs": [],
   "source": [
    "now = datetime.now()"
   ]
  },
  {
   "cell_type": "code",
   "execution_count": 3,
   "metadata": {},
   "outputs": [
    {
     "output_type": "execute_result",
     "data": {
      "text/plain": [
       "datetime.datetime(2021, 5, 11, 10, 18, 9, 64253)"
      ]
     },
     "metadata": {},
     "execution_count": 3
    }
   ],
   "source": [
    "now"
   ]
  },
  {
   "cell_type": "code",
   "execution_count": 4,
   "metadata": {},
   "outputs": [
    {
     "output_type": "execute_result",
     "data": {
      "text/plain": [
       "(2021, 5, 11)"
      ]
     },
     "metadata": {},
     "execution_count": 4
    }
   ],
   "source": [
    "now.year, now.month, now.day"
   ]
  },
  {
   "cell_type": "code",
   "execution_count": 5,
   "metadata": {},
   "outputs": [],
   "source": [
    "delta = datetime(2011, 1, 7) - datetime(2008, 6, 24, 15)"
   ]
  },
  {
   "cell_type": "code",
   "execution_count": 6,
   "metadata": {},
   "outputs": [
    {
     "output_type": "execute_result",
     "data": {
      "text/plain": [
       "datetime.timedelta(days=926, seconds=32400)"
      ]
     },
     "metadata": {},
     "execution_count": 6
    }
   ],
   "source": [
    "delta"
   ]
  },
  {
   "cell_type": "code",
   "execution_count": 7,
   "metadata": {},
   "outputs": [
    {
     "output_type": "execute_result",
     "data": {
      "text/plain": [
       "926"
      ]
     },
     "metadata": {},
     "execution_count": 7
    }
   ],
   "source": [
    "delta.days"
   ]
  },
  {
   "cell_type": "code",
   "execution_count": 8,
   "metadata": {},
   "outputs": [
    {
     "output_type": "execute_result",
     "data": {
      "text/plain": [
       "32400"
      ]
     },
     "metadata": {},
     "execution_count": 8
    }
   ],
   "source": [
    "delta.seconds"
   ]
  },
  {
   "cell_type": "code",
   "execution_count": 9,
   "metadata": {},
   "outputs": [],
   "source": [
    "from datetime import timedelta"
   ]
  },
  {
   "cell_type": "code",
   "execution_count": 10,
   "metadata": {},
   "outputs": [],
   "source": [
    "start = datetime(2011, 1, 7)"
   ]
  },
  {
   "cell_type": "code",
   "execution_count": 11,
   "metadata": {},
   "outputs": [
    {
     "output_type": "execute_result",
     "data": {
      "text/plain": [
       "datetime.datetime(2011, 1, 19, 0, 0)"
      ]
     },
     "metadata": {},
     "execution_count": 11
    }
   ],
   "source": [
    "start + timedelta(12)"
   ]
  },
  {
   "cell_type": "code",
   "execution_count": 12,
   "metadata": {},
   "outputs": [
    {
     "output_type": "execute_result",
     "data": {
      "text/plain": [
       "datetime.datetime(2010, 12, 14, 0, 0)"
      ]
     },
     "metadata": {},
     "execution_count": 12
    }
   ],
   "source": [
    "start - 2 * timedelta(12)"
   ]
  },
  {
   "cell_type": "code",
   "execution_count": 13,
   "metadata": {},
   "outputs": [],
   "source": [
    "stamp = datetime(2011, 1, 3)"
   ]
  },
  {
   "cell_type": "code",
   "execution_count": 14,
   "metadata": {},
   "outputs": [
    {
     "output_type": "execute_result",
     "data": {
      "text/plain": [
       "'2011-01-03 00:00:00'"
      ]
     },
     "metadata": {},
     "execution_count": 14
    }
   ],
   "source": [
    "str(stamp)"
   ]
  },
  {
   "cell_type": "code",
   "execution_count": 15,
   "metadata": {},
   "outputs": [
    {
     "output_type": "execute_result",
     "data": {
      "text/plain": [
       "'2011-01-03'"
      ]
     },
     "metadata": {},
     "execution_count": 15
    }
   ],
   "source": [
    "stamp.strftime('%Y-%m-%d')"
   ]
  },
  {
   "cell_type": "code",
   "execution_count": 16,
   "metadata": {},
   "outputs": [
    {
     "output_type": "execute_result",
     "data": {
      "text/plain": [
       "'2011-01-03'"
      ]
     },
     "metadata": {},
     "execution_count": 16
    }
   ],
   "source": [
    "stamp.strftime('%F')"
   ]
  },
  {
   "cell_type": "code",
   "execution_count": 17,
   "metadata": {},
   "outputs": [
    {
     "output_type": "execute_result",
     "data": {
      "text/plain": [
       "'01/03/11'"
      ]
     },
     "metadata": {},
     "execution_count": 17
    }
   ],
   "source": [
    "stamp.strftime('%D')"
   ]
  },
  {
   "cell_type": "code",
   "execution_count": 18,
   "metadata": {},
   "outputs": [],
   "source": [
    "value = '2011-01-03'"
   ]
  },
  {
   "cell_type": "code",
   "execution_count": 19,
   "metadata": {},
   "outputs": [
    {
     "output_type": "execute_result",
     "data": {
      "text/plain": [
       "datetime.datetime(2011, 1, 3, 0, 0)"
      ]
     },
     "metadata": {},
     "execution_count": 19
    }
   ],
   "source": [
    "data = datetime.strptime(value, '%Y-%m-%d')\r\n",
    "data"
   ]
  },
  {
   "cell_type": "code",
   "execution_count": 20,
   "metadata": {},
   "outputs": [],
   "source": [
    "datestrs = ['7/6/2011', '8/6/2011']"
   ]
  },
  {
   "cell_type": "code",
   "execution_count": 21,
   "metadata": {},
   "outputs": [
    {
     "output_type": "execute_result",
     "data": {
      "text/plain": [
       "[datetime.datetime(2011, 7, 6, 0, 0), datetime.datetime(2011, 8, 6, 0, 0)]"
      ]
     },
     "metadata": {},
     "execution_count": 21
    }
   ],
   "source": [
    "[datetime.strptime(x, '%m/%d/%Y') for x in datestrs]"
   ]
  },
  {
   "cell_type": "code",
   "execution_count": 22,
   "metadata": {},
   "outputs": [],
   "source": [
    "from dateutil.parser import parse"
   ]
  },
  {
   "cell_type": "code",
   "execution_count": 23,
   "metadata": {},
   "outputs": [
    {
     "output_type": "execute_result",
     "data": {
      "text/plain": [
       "datetime.datetime(2011, 1, 3, 0, 0)"
      ]
     },
     "metadata": {},
     "execution_count": 23
    }
   ],
   "source": [
    "parse('2011-01-03')"
   ]
  },
  {
   "cell_type": "code",
   "execution_count": 24,
   "metadata": {},
   "outputs": [
    {
     "output_type": "execute_result",
     "data": {
      "text/plain": [
       "datetime.datetime(1997, 1, 31, 22, 45)"
      ]
     },
     "metadata": {},
     "execution_count": 24
    }
   ],
   "source": [
    "parse('Jan 31, 1997 10:45 PM')"
   ]
  },
  {
   "cell_type": "code",
   "execution_count": 25,
   "metadata": {},
   "outputs": [
    {
     "output_type": "execute_result",
     "data": {
      "text/plain": [
       "datetime.datetime(2011, 12, 6, 0, 0)"
      ]
     },
     "metadata": {},
     "execution_count": 25
    }
   ],
   "source": [
    "parse('6/12/2011', dayfirst=True)"
   ]
  },
  {
   "cell_type": "code",
   "execution_count": 26,
   "metadata": {},
   "outputs": [],
   "source": [
    "datestrs = ['2011-07-06 12:00:00', '2011-08-06 00:00:00']"
   ]
  },
  {
   "cell_type": "code",
   "execution_count": 27,
   "metadata": {},
   "outputs": [],
   "source": [
    "import pandas as pd "
   ]
  },
  {
   "cell_type": "code",
   "execution_count": 28,
   "metadata": {},
   "outputs": [
    {
     "output_type": "execute_result",
     "data": {
      "text/plain": [
       "DatetimeIndex(['2011-07-06 12:00:00', '2011-08-06 00:00:00'], dtype='datetime64[ns]', freq=None)"
      ]
     },
     "metadata": {},
     "execution_count": 28
    }
   ],
   "source": [
    "pd.to_datetime(datestrs)"
   ]
  },
  {
   "cell_type": "code",
   "execution_count": 29,
   "metadata": {},
   "outputs": [],
   "source": [
    "idx = pd.to_datetime(datestrs + [None])"
   ]
  },
  {
   "cell_type": "code",
   "execution_count": 30,
   "metadata": {},
   "outputs": [
    {
     "output_type": "execute_result",
     "data": {
      "text/plain": [
       "DatetimeIndex(['2011-07-06 12:00:00', '2011-08-06 00:00:00', 'NaT'], dtype='datetime64[ns]', freq=None)"
      ]
     },
     "metadata": {},
     "execution_count": 30
    }
   ],
   "source": [
    "idx"
   ]
  },
  {
   "cell_type": "code",
   "execution_count": 31,
   "metadata": {},
   "outputs": [
    {
     "output_type": "execute_result",
     "data": {
      "text/plain": [
       "NaT"
      ]
     },
     "metadata": {},
     "execution_count": 31
    }
   ],
   "source": [
    "idx[2]"
   ]
  },
  {
   "cell_type": "code",
   "execution_count": 32,
   "metadata": {},
   "outputs": [
    {
     "output_type": "execute_result",
     "data": {
      "text/plain": [
       "array([False, False,  True])"
      ]
     },
     "metadata": {},
     "execution_count": 32
    }
   ],
   "source": [
    "pd.isnull(idx)"
   ]
  },
  {
   "cell_type": "markdown",
   "metadata": {},
   "source": [
    "## TIME SERIES BASICS"
   ]
  },
  {
   "cell_type": "code",
   "execution_count": 33,
   "metadata": {},
   "outputs": [],
   "source": [
    "from datetime import datetime\r\n",
    "import numpy as np "
   ]
  },
  {
   "cell_type": "code",
   "execution_count": 34,
   "metadata": {},
   "outputs": [],
   "source": [
    "dates = [datetime(2011, 1, 2), datetime(2011, 1, 5), \r\n",
    "         datetime(2011, 1, 7), datetime(2011, 1, 8),\r\n",
    "         datetime(2011, 1, 10), datetime(2011, 1, 12)]"
   ]
  },
  {
   "cell_type": "code",
   "execution_count": 35,
   "metadata": {},
   "outputs": [],
   "source": [
    "ts = pd.Series(np.random.randn(6), index=dates)"
   ]
  },
  {
   "cell_type": "code",
   "execution_count": 36,
   "metadata": {},
   "outputs": [
    {
     "output_type": "execute_result",
     "data": {
      "text/plain": [
       "2011-01-02    2.365085\n",
       "2011-01-05   -2.913799\n",
       "2011-01-07    0.161114\n",
       "2011-01-08   -0.233892\n",
       "2011-01-10   -0.898552\n",
       "2011-01-12    0.095969\n",
       "dtype: float64"
      ]
     },
     "metadata": {},
     "execution_count": 36
    }
   ],
   "source": [
    "ts"
   ]
  },
  {
   "cell_type": "code",
   "execution_count": 37,
   "metadata": {},
   "outputs": [
    {
     "output_type": "execute_result",
     "data": {
      "text/plain": [
       "DatetimeIndex(['2011-01-02', '2011-01-05', '2011-01-07', '2011-01-08',\n",
       "               '2011-01-10', '2011-01-12'],\n",
       "              dtype='datetime64[ns]', freq=None)"
      ]
     },
     "metadata": {},
     "execution_count": 37
    }
   ],
   "source": [
    "ts.index"
   ]
  },
  {
   "cell_type": "code",
   "execution_count": 38,
   "metadata": {},
   "outputs": [
    {
     "output_type": "execute_result",
     "data": {
      "text/plain": [
       "2011-01-02    4.730171\n",
       "2011-01-05         NaN\n",
       "2011-01-07    0.322228\n",
       "2011-01-08         NaN\n",
       "2011-01-10   -1.797104\n",
       "2011-01-12         NaN\n",
       "dtype: float64"
      ]
     },
     "metadata": {},
     "execution_count": 38
    }
   ],
   "source": [
    "ts + ts[::2]"
   ]
  },
  {
   "cell_type": "code",
   "execution_count": 39,
   "metadata": {},
   "outputs": [
    {
     "output_type": "execute_result",
     "data": {
      "text/plain": [
       "2011-01-02    2.365085\n",
       "2011-01-07    0.161114\n",
       "2011-01-10   -0.898552\n",
       "dtype: float64"
      ]
     },
     "metadata": {},
     "execution_count": 39
    }
   ],
   "source": [
    "ts[::2]"
   ]
  },
  {
   "cell_type": "code",
   "execution_count": 40,
   "metadata": {},
   "outputs": [
    {
     "output_type": "execute_result",
     "data": {
      "text/plain": [
       "dtype('<M8[ns]')"
      ]
     },
     "metadata": {},
     "execution_count": 40
    }
   ],
   "source": [
    "ts.index.dtype"
   ]
  },
  {
   "cell_type": "code",
   "execution_count": 41,
   "metadata": {},
   "outputs": [],
   "source": [
    "stamp = ts.index[0]"
   ]
  },
  {
   "cell_type": "code",
   "execution_count": 42,
   "metadata": {},
   "outputs": [
    {
     "output_type": "execute_result",
     "data": {
      "text/plain": [
       "Timestamp('2011-01-02 00:00:00')"
      ]
     },
     "metadata": {},
     "execution_count": 42
    }
   ],
   "source": [
    "stamp"
   ]
  },
  {
   "cell_type": "markdown",
   "metadata": {},
   "source": [
    "## INDEXING, SELECTION, SUBSETTING"
   ]
  },
  {
   "cell_type": "code",
   "execution_count": 43,
   "metadata": {},
   "outputs": [],
   "source": [
    "stamp = ts.index[2]"
   ]
  },
  {
   "cell_type": "code",
   "execution_count": 44,
   "metadata": {},
   "outputs": [
    {
     "output_type": "execute_result",
     "data": {
      "text/plain": [
       "0.16111396414961868"
      ]
     },
     "metadata": {},
     "execution_count": 44
    }
   ],
   "source": [
    "ts[stamp]"
   ]
  },
  {
   "cell_type": "code",
   "execution_count": 45,
   "metadata": {},
   "outputs": [
    {
     "output_type": "execute_result",
     "data": {
      "text/plain": [
       "-0.8985519587077354"
      ]
     },
     "metadata": {},
     "execution_count": 45
    }
   ],
   "source": [
    "ts['1/10/2011']"
   ]
  },
  {
   "cell_type": "code",
   "execution_count": 46,
   "metadata": {},
   "outputs": [
    {
     "output_type": "execute_result",
     "data": {
      "text/plain": [
       "-0.8985519587077354"
      ]
     },
     "metadata": {},
     "execution_count": 46
    }
   ],
   "source": [
    "ts['20110110']"
   ]
  },
  {
   "cell_type": "code",
   "execution_count": 47,
   "metadata": {},
   "outputs": [],
   "source": [
    "longer_ts = pd.Series(np.random.randn(1000),\r\n",
    "            index=pd.date_range('1/1/2000', periods=1000))"
   ]
  },
  {
   "cell_type": "code",
   "execution_count": 48,
   "metadata": {},
   "outputs": [
    {
     "output_type": "execute_result",
     "data": {
      "text/plain": [
       "2000-01-01   -0.150458\n",
       "2000-01-02    0.036485\n",
       "2000-01-03    2.098545\n",
       "2000-01-04    0.642419\n",
       "2000-01-05   -0.436457\n",
       "                ...   \n",
       "2002-09-22    0.584960\n",
       "2002-09-23    0.207163\n",
       "2002-09-24    1.638075\n",
       "2002-09-25   -1.537029\n",
       "2002-09-26    0.842000\n",
       "Freq: D, Length: 1000, dtype: float64"
      ]
     },
     "metadata": {},
     "execution_count": 48
    }
   ],
   "source": [
    "longer_ts"
   ]
  },
  {
   "cell_type": "code",
   "execution_count": 49,
   "metadata": {},
   "outputs": [
    {
     "output_type": "execute_result",
     "data": {
      "text/plain": [
       "2001-01-01    0.575195\n",
       "2001-01-02   -2.736178\n",
       "2001-01-03   -0.949340\n",
       "2001-01-04   -0.653961\n",
       "2001-01-05   -0.488989\n",
       "                ...   \n",
       "2001-12-27    0.411251\n",
       "2001-12-28   -0.920499\n",
       "2001-12-29    1.407613\n",
       "2001-12-30    1.614528\n",
       "2001-12-31   -1.180663\n",
       "Freq: D, Length: 365, dtype: float64"
      ]
     },
     "metadata": {},
     "execution_count": 49
    }
   ],
   "source": [
    "longer_ts['2001']"
   ]
  },
  {
   "cell_type": "code",
   "execution_count": 50,
   "metadata": {},
   "outputs": [
    {
     "output_type": "execute_result",
     "data": {
      "text/plain": [
       "2001-05-01    0.036512\n",
       "2001-05-02   -0.978372\n",
       "2001-05-03    0.432604\n",
       "2001-05-04    2.202025\n",
       "2001-05-05   -0.127440\n",
       "2001-05-06   -1.440052\n",
       "2001-05-07    0.621998\n",
       "2001-05-08   -1.258290\n",
       "2001-05-09    0.506633\n",
       "2001-05-10    0.359317\n",
       "2001-05-11   -0.171475\n",
       "2001-05-12    0.751873\n",
       "2001-05-13   -0.774495\n",
       "2001-05-14   -1.805905\n",
       "2001-05-15    1.194504\n",
       "2001-05-16    1.044283\n",
       "2001-05-17    1.976578\n",
       "2001-05-18    1.503878\n",
       "2001-05-19    0.175704\n",
       "2001-05-20   -0.604787\n",
       "2001-05-21    0.719146\n",
       "2001-05-22    0.425855\n",
       "2001-05-23    1.307043\n",
       "2001-05-24   -1.003325\n",
       "2001-05-25   -1.465278\n",
       "2001-05-26    0.610514\n",
       "2001-05-27   -0.297559\n",
       "2001-05-28    0.545718\n",
       "2001-05-29    0.683840\n",
       "2001-05-30    0.070080\n",
       "2001-05-31    0.922146\n",
       "Freq: D, dtype: float64"
      ]
     },
     "metadata": {},
     "execution_count": 50
    }
   ],
   "source": [
    "longer_ts['2001-05']"
   ]
  },
  {
   "cell_type": "code",
   "execution_count": 51,
   "metadata": {},
   "outputs": [
    {
     "output_type": "execute_result",
     "data": {
      "text/plain": [
       "2011-01-07    0.161114\n",
       "2011-01-08   -0.233892\n",
       "2011-01-10   -0.898552\n",
       "2011-01-12    0.095969\n",
       "dtype: float64"
      ]
     },
     "metadata": {},
     "execution_count": 51
    }
   ],
   "source": [
    "ts[datetime(2011, 1, 7):]"
   ]
  },
  {
   "cell_type": "code",
   "execution_count": 52,
   "metadata": {},
   "outputs": [
    {
     "output_type": "execute_result",
     "data": {
      "text/plain": [
       "2011-01-02    2.365085\n",
       "2011-01-05   -2.913799\n",
       "2011-01-07    0.161114\n",
       "2011-01-08   -0.233892\n",
       "2011-01-10   -0.898552\n",
       "2011-01-12    0.095969\n",
       "dtype: float64"
      ]
     },
     "metadata": {},
     "execution_count": 52
    }
   ],
   "source": [
    "ts"
   ]
  },
  {
   "cell_type": "code",
   "execution_count": 53,
   "metadata": {},
   "outputs": [
    {
     "output_type": "execute_result",
     "data": {
      "text/plain": [
       "2011-01-07    0.161114\n",
       "2011-01-08   -0.233892\n",
       "2011-01-10   -0.898552\n",
       "dtype: float64"
      ]
     },
     "metadata": {},
     "execution_count": 53
    }
   ],
   "source": [
    "ts['1/6/2011':'1/11/2011']"
   ]
  },
  {
   "cell_type": "code",
   "execution_count": 54,
   "metadata": {},
   "outputs": [
    {
     "output_type": "execute_result",
     "data": {
      "text/plain": [
       "2011-01-02    2.365085\n",
       "2011-01-05   -2.913799\n",
       "2011-01-07    0.161114\n",
       "2011-01-08   -0.233892\n",
       "dtype: float64"
      ]
     },
     "metadata": {},
     "execution_count": 54
    }
   ],
   "source": [
    "ts.truncate(after='1/9/2011')"
   ]
  },
  {
   "cell_type": "code",
   "execution_count": 55,
   "metadata": {},
   "outputs": [],
   "source": [
    "dates = pd.date_range('1/1/2000', periods=100, freq='W-WED')"
   ]
  },
  {
   "cell_type": "code",
   "execution_count": 56,
   "metadata": {},
   "outputs": [
    {
     "output_type": "execute_result",
     "data": {
      "text/plain": [
       "DatetimeIndex(['2000-01-05', '2000-01-12', '2000-01-19', '2000-01-26',\n",
       "               '2000-02-02', '2000-02-09', '2000-02-16', '2000-02-23',\n",
       "               '2000-03-01', '2000-03-08', '2000-03-15', '2000-03-22',\n",
       "               '2000-03-29', '2000-04-05', '2000-04-12', '2000-04-19',\n",
       "               '2000-04-26', '2000-05-03', '2000-05-10', '2000-05-17',\n",
       "               '2000-05-24', '2000-05-31', '2000-06-07', '2000-06-14',\n",
       "               '2000-06-21', '2000-06-28', '2000-07-05', '2000-07-12',\n",
       "               '2000-07-19', '2000-07-26', '2000-08-02', '2000-08-09',\n",
       "               '2000-08-16', '2000-08-23', '2000-08-30', '2000-09-06',\n",
       "               '2000-09-13', '2000-09-20', '2000-09-27', '2000-10-04',\n",
       "               '2000-10-11', '2000-10-18', '2000-10-25', '2000-11-01',\n",
       "               '2000-11-08', '2000-11-15', '2000-11-22', '2000-11-29',\n",
       "               '2000-12-06', '2000-12-13', '2000-12-20', '2000-12-27',\n",
       "               '2001-01-03', '2001-01-10', '2001-01-17', '2001-01-24',\n",
       "               '2001-01-31', '2001-02-07', '2001-02-14', '2001-02-21',\n",
       "               '2001-02-28', '2001-03-07', '2001-03-14', '2001-03-21',\n",
       "               '2001-03-28', '2001-04-04', '2001-04-11', '2001-04-18',\n",
       "               '2001-04-25', '2001-05-02', '2001-05-09', '2001-05-16',\n",
       "               '2001-05-23', '2001-05-30', '2001-06-06', '2001-06-13',\n",
       "               '2001-06-20', '2001-06-27', '2001-07-04', '2001-07-11',\n",
       "               '2001-07-18', '2001-07-25', '2001-08-01', '2001-08-08',\n",
       "               '2001-08-15', '2001-08-22', '2001-08-29', '2001-09-05',\n",
       "               '2001-09-12', '2001-09-19', '2001-09-26', '2001-10-03',\n",
       "               '2001-10-10', '2001-10-17', '2001-10-24', '2001-10-31',\n",
       "               '2001-11-07', '2001-11-14', '2001-11-21', '2001-11-28'],\n",
       "              dtype='datetime64[ns]', freq='W-WED')"
      ]
     },
     "metadata": {},
     "execution_count": 56
    }
   ],
   "source": [
    "dates"
   ]
  },
  {
   "cell_type": "code",
   "execution_count": 57,
   "metadata": {},
   "outputs": [],
   "source": [
    "long_df = pd.DataFrame(np.random.randn(100, 4),\r\n",
    "                       index=dates,\r\n",
    "                       columns=['Colorado', 'Texas',\r\n",
    "                       'New York', 'Ohio'])"
   ]
  },
  {
   "cell_type": "code",
   "execution_count": 58,
   "metadata": {},
   "outputs": [
    {
     "output_type": "execute_result",
     "data": {
      "text/plain": [
       "            Colorado     Texas  New York      Ohio\n",
       "2001-05-02  1.229324 -0.166439 -0.678815 -0.030850\n",
       "2001-05-09  0.087867 -1.737127  1.578443  0.500972\n",
       "2001-05-16 -2.691756  0.366137 -1.844227  0.028798\n",
       "2001-05-23 -0.742690  0.366918 -0.637609 -0.432480\n",
       "2001-05-30  0.398348  1.616888  1.691769  0.717473"
      ],
      "text/html": "<div>\n<style scoped>\n    .dataframe tbody tr th:only-of-type {\n        vertical-align: middle;\n    }\n\n    .dataframe tbody tr th {\n        vertical-align: top;\n    }\n\n    .dataframe thead th {\n        text-align: right;\n    }\n</style>\n<table border=\"1\" class=\"dataframe\">\n  <thead>\n    <tr style=\"text-align: right;\">\n      <th></th>\n      <th>Colorado</th>\n      <th>Texas</th>\n      <th>New York</th>\n      <th>Ohio</th>\n    </tr>\n  </thead>\n  <tbody>\n    <tr>\n      <th>2001-05-02</th>\n      <td>1.229324</td>\n      <td>-0.166439</td>\n      <td>-0.678815</td>\n      <td>-0.030850</td>\n    </tr>\n    <tr>\n      <th>2001-05-09</th>\n      <td>0.087867</td>\n      <td>-1.737127</td>\n      <td>1.578443</td>\n      <td>0.500972</td>\n    </tr>\n    <tr>\n      <th>2001-05-16</th>\n      <td>-2.691756</td>\n      <td>0.366137</td>\n      <td>-1.844227</td>\n      <td>0.028798</td>\n    </tr>\n    <tr>\n      <th>2001-05-23</th>\n      <td>-0.742690</td>\n      <td>0.366918</td>\n      <td>-0.637609</td>\n      <td>-0.432480</td>\n    </tr>\n    <tr>\n      <th>2001-05-30</th>\n      <td>0.398348</td>\n      <td>1.616888</td>\n      <td>1.691769</td>\n      <td>0.717473</td>\n    </tr>\n  </tbody>\n</table>\n</div>"
     },
     "metadata": {},
     "execution_count": 58
    }
   ],
   "source": [
    "long_df.loc['5-2001']"
   ]
  },
  {
   "cell_type": "markdown",
   "metadata": {},
   "source": [
    "## TIMES SERIES WITH DUPLICATE INDICES"
   ]
  },
  {
   "cell_type": "code",
   "execution_count": 59,
   "metadata": {},
   "outputs": [],
   "source": [
    "dates = pd.DatetimeIndex(['1/1/2000', '1/2/2000', '1/2/2000',\r\n",
    "                          '1/2/2000', '1/3/2000'])"
   ]
  },
  {
   "cell_type": "code",
   "execution_count": 60,
   "metadata": {},
   "outputs": [],
   "source": [
    "dup_ts = pd.Series(np.arange(5), index=dates)"
   ]
  },
  {
   "cell_type": "code",
   "execution_count": 61,
   "metadata": {},
   "outputs": [
    {
     "output_type": "execute_result",
     "data": {
      "text/plain": [
       "2000-01-01    0\n",
       "2000-01-02    1\n",
       "2000-01-02    2\n",
       "2000-01-02    3\n",
       "2000-01-03    4\n",
       "dtype: int32"
      ]
     },
     "metadata": {},
     "execution_count": 61
    }
   ],
   "source": [
    "dup_ts"
   ]
  },
  {
   "cell_type": "code",
   "execution_count": 62,
   "metadata": {},
   "outputs": [
    {
     "output_type": "execute_result",
     "data": {
      "text/plain": [
       "False"
      ]
     },
     "metadata": {},
     "execution_count": 62
    }
   ],
   "source": [
    "dup_ts.index.is_unique"
   ]
  },
  {
   "cell_type": "code",
   "execution_count": 63,
   "metadata": {},
   "outputs": [
    {
     "output_type": "execute_result",
     "data": {
      "text/plain": [
       "4"
      ]
     },
     "metadata": {},
     "execution_count": 63
    }
   ],
   "source": [
    "dup_ts['1/3/2000'] "
   ]
  },
  {
   "cell_type": "code",
   "execution_count": 64,
   "metadata": {},
   "outputs": [
    {
     "output_type": "execute_result",
     "data": {
      "text/plain": [
       "2000-01-02    1\n",
       "2000-01-02    2\n",
       "2000-01-02    3\n",
       "dtype: int32"
      ]
     },
     "metadata": {},
     "execution_count": 64
    }
   ],
   "source": [
    "dup_ts['1/2/2000'] "
   ]
  },
  {
   "cell_type": "code",
   "execution_count": 65,
   "metadata": {},
   "outputs": [],
   "source": [
    "grouped = dup_ts.groupby(level=0)"
   ]
  },
  {
   "cell_type": "code",
   "execution_count": 66,
   "metadata": {},
   "outputs": [
    {
     "output_type": "execute_result",
     "data": {
      "text/plain": [
       "2000-01-01    0\n",
       "2000-01-02    2\n",
       "2000-01-03    4\n",
       "dtype: int32"
      ]
     },
     "metadata": {},
     "execution_count": 66
    }
   ],
   "source": [
    "grouped.mean()"
   ]
  },
  {
   "cell_type": "code",
   "execution_count": 67,
   "metadata": {},
   "outputs": [
    {
     "output_type": "execute_result",
     "data": {
      "text/plain": [
       "2000-01-01    1\n",
       "2000-01-02    3\n",
       "2000-01-03    1\n",
       "dtype: int64"
      ]
     },
     "metadata": {},
     "execution_count": 67
    }
   ],
   "source": [
    "grouped.count()"
   ]
  },
  {
   "cell_type": "markdown",
   "metadata": {},
   "source": [
    "## DATA RANGES, FREQUENCIES, AND SHIFTING"
   ]
  },
  {
   "cell_type": "code",
   "execution_count": 68,
   "metadata": {},
   "outputs": [
    {
     "output_type": "execute_result",
     "data": {
      "text/plain": [
       "2011-01-02    2.365085\n",
       "2011-01-05   -2.913799\n",
       "2011-01-07    0.161114\n",
       "2011-01-08   -0.233892\n",
       "2011-01-10   -0.898552\n",
       "2011-01-12    0.095969\n",
       "dtype: float64"
      ]
     },
     "metadata": {},
     "execution_count": 68
    }
   ],
   "source": [
    "ts"
   ]
  },
  {
   "cell_type": "code",
   "execution_count": 69,
   "metadata": {},
   "outputs": [],
   "source": [
    "resampler = ts.resample('D')"
   ]
  },
  {
   "cell_type": "code",
   "execution_count": 70,
   "metadata": {},
   "outputs": [
    {
     "output_type": "execute_result",
     "data": {
      "text/plain": [
       "<pandas.core.resample.DatetimeIndexResampler object at 0x00000295FD9FEDC0>"
      ]
     },
     "metadata": {},
     "execution_count": 70
    }
   ],
   "source": [
    "resampler"
   ]
  },
  {
   "cell_type": "markdown",
   "metadata": {},
   "source": [
    "## GENERATING DATE RANGES"
   ]
  },
  {
   "cell_type": "code",
   "execution_count": 71,
   "metadata": {},
   "outputs": [],
   "source": [
    "index = pd.date_range('2012-04-01', '2012-06-01')"
   ]
  },
  {
   "cell_type": "code",
   "execution_count": 72,
   "metadata": {},
   "outputs": [
    {
     "output_type": "execute_result",
     "data": {
      "text/plain": [
       "DatetimeIndex(['2012-04-01', '2012-04-02', '2012-04-03', '2012-04-04',\n",
       "               '2012-04-05', '2012-04-06', '2012-04-07', '2012-04-08',\n",
       "               '2012-04-09', '2012-04-10', '2012-04-11', '2012-04-12',\n",
       "               '2012-04-13', '2012-04-14', '2012-04-15', '2012-04-16',\n",
       "               '2012-04-17', '2012-04-18', '2012-04-19', '2012-04-20',\n",
       "               '2012-04-21', '2012-04-22', '2012-04-23', '2012-04-24',\n",
       "               '2012-04-25', '2012-04-26', '2012-04-27', '2012-04-28',\n",
       "               '2012-04-29', '2012-04-30', '2012-05-01', '2012-05-02',\n",
       "               '2012-05-03', '2012-05-04', '2012-05-05', '2012-05-06',\n",
       "               '2012-05-07', '2012-05-08', '2012-05-09', '2012-05-10',\n",
       "               '2012-05-11', '2012-05-12', '2012-05-13', '2012-05-14',\n",
       "               '2012-05-15', '2012-05-16', '2012-05-17', '2012-05-18',\n",
       "               '2012-05-19', '2012-05-20', '2012-05-21', '2012-05-22',\n",
       "               '2012-05-23', '2012-05-24', '2012-05-25', '2012-05-26',\n",
       "               '2012-05-27', '2012-05-28', '2012-05-29', '2012-05-30',\n",
       "               '2012-05-31', '2012-06-01'],\n",
       "              dtype='datetime64[ns]', freq='D')"
      ]
     },
     "metadata": {},
     "execution_count": 72
    }
   ],
   "source": [
    "index"
   ]
  },
  {
   "cell_type": "code",
   "execution_count": 73,
   "metadata": {},
   "outputs": [
    {
     "output_type": "execute_result",
     "data": {
      "text/plain": [
       "DatetimeIndex(['2012-04-01', '2012-04-02', '2012-04-03', '2012-04-04',\n",
       "               '2012-04-05', '2012-04-06', '2012-04-07', '2012-04-08',\n",
       "               '2012-04-09', '2012-04-10', '2012-04-11', '2012-04-12',\n",
       "               '2012-04-13', '2012-04-14', '2012-04-15', '2012-04-16',\n",
       "               '2012-04-17', '2012-04-18', '2012-04-19', '2012-04-20'],\n",
       "              dtype='datetime64[ns]', freq='D')"
      ]
     },
     "metadata": {},
     "execution_count": 73
    }
   ],
   "source": [
    "pd.date_range(start='2012-04-01', periods=20)"
   ]
  },
  {
   "cell_type": "code",
   "execution_count": 74,
   "metadata": {},
   "outputs": [
    {
     "output_type": "execute_result",
     "data": {
      "text/plain": [
       "DatetimeIndex(['2012-04-30', '2012-05-31', '2012-06-29', '2012-07-31',\n",
       "               '2012-08-31', '2012-09-28', '2012-10-31', '2012-11-30',\n",
       "               '2012-12-31', '2013-01-31', '2013-02-28', '2013-03-29',\n",
       "               '2013-04-30', '2013-05-31', '2013-06-28', '2013-07-31',\n",
       "               '2013-08-30', '2013-09-30', '2013-10-31', '2013-11-29'],\n",
       "              dtype='datetime64[ns]', freq='BM')"
      ]
     },
     "metadata": {},
     "execution_count": 74
    }
   ],
   "source": [
    "pd.date_range(start='2012-04-01', periods=20, freq='BM')"
   ]
  },
  {
   "cell_type": "code",
   "execution_count": 75,
   "metadata": {},
   "outputs": [
    {
     "output_type": "execute_result",
     "data": {
      "text/plain": [
       "DatetimeIndex(['2012-04-01', '2012-04-02', '2012-04-03', '2012-04-04',\n",
       "               '2012-04-05', '2012-04-06', '2012-04-07', '2012-04-08',\n",
       "               '2012-04-09', '2012-04-10', '2012-04-11', '2012-04-12',\n",
       "               '2012-04-13', '2012-04-14', '2012-04-15', '2012-04-16',\n",
       "               '2012-04-17', '2012-04-18', '2012-04-19', '2012-04-20'],\n",
       "              dtype='datetime64[ns]', freq='D')"
      ]
     },
     "metadata": {},
     "execution_count": 75
    }
   ],
   "source": [
    "pd.date_range(start='2012-04-01', periods=20, freq='D')"
   ]
  },
  {
   "cell_type": "code",
   "execution_count": 76,
   "metadata": {},
   "outputs": [
    {
     "output_type": "execute_result",
     "data": {
      "text/plain": [
       "DatetimeIndex(['2012-04-02', '2012-04-03', '2012-04-04', '2012-04-05',\n",
       "               '2012-04-06', '2012-04-09', '2012-04-10', '2012-04-11',\n",
       "               '2012-04-12', '2012-04-13', '2012-04-16', '2012-04-17',\n",
       "               '2012-04-18', '2012-04-19', '2012-04-20', '2012-04-23',\n",
       "               '2012-04-24', '2012-04-25', '2012-04-26', '2012-04-27'],\n",
       "              dtype='datetime64[ns]', freq='B')"
      ]
     },
     "metadata": {},
     "execution_count": 76
    }
   ],
   "source": [
    "pd.date_range(start='2012-04-01', periods=20, freq='B')"
   ]
  },
  {
   "cell_type": "code",
   "execution_count": 77,
   "metadata": {},
   "outputs": [
    {
     "output_type": "execute_result",
     "data": {
      "text/plain": [
       "DatetimeIndex(['2012-04-01', '2012-04-08', '2012-04-15', '2012-04-22',\n",
       "               '2012-04-29', '2012-05-06', '2012-05-13', '2012-05-20',\n",
       "               '2012-05-27', '2012-06-03', '2012-06-10', '2012-06-17',\n",
       "               '2012-06-24', '2012-07-01', '2012-07-08', '2012-07-15',\n",
       "               '2012-07-22', '2012-07-29', '2012-08-05', '2012-08-12'],\n",
       "              dtype='datetime64[ns]', freq='W-SUN')"
      ]
     },
     "metadata": {},
     "execution_count": 77
    }
   ],
   "source": [
    "pd.date_range(start='2012-04-01', periods=20, freq='W')"
   ]
  },
  {
   "cell_type": "code",
   "execution_count": 78,
   "metadata": {},
   "outputs": [
    {
     "output_type": "execute_result",
     "data": {
      "text/plain": [
       "DatetimeIndex(['2012-04-30', '2012-07-31', '2012-10-31', '2013-01-31',\n",
       "               '2013-04-30', '2013-07-31', '2013-10-31', '2014-01-31',\n",
       "               '2014-04-30', '2014-07-31', '2014-10-31', '2015-01-31',\n",
       "               '2015-04-30', '2015-07-31', '2015-10-31', '2016-01-31',\n",
       "               '2016-04-30', '2016-07-31', '2016-10-31', '2017-01-31'],\n",
       "              dtype='datetime64[ns]', freq='Q-JAN')"
      ]
     },
     "metadata": {},
     "execution_count": 78
    }
   ],
   "source": [
    "pd.date_range(start='2012-04-01', periods=20, freq='Q-JAN')"
   ]
  },
  {
   "cell_type": "code",
   "execution_count": 79,
   "metadata": {},
   "outputs": [
    {
     "output_type": "execute_result",
     "data": {
      "text/plain": [
       "DatetimeIndex(['2012-05-02 12:56:31', '2012-05-03 12:56:31',\n",
       "               '2012-05-04 12:56:31', '2012-05-05 12:56:31',\n",
       "               '2012-05-06 12:56:31'],\n",
       "              dtype='datetime64[ns]', freq='D')"
      ]
     },
     "metadata": {},
     "execution_count": 79
    }
   ],
   "source": [
    "pd.date_range('2012-05-02 12:56:31', periods=5)"
   ]
  },
  {
   "cell_type": "code",
   "execution_count": 80,
   "metadata": {},
   "outputs": [
    {
     "output_type": "execute_result",
     "data": {
      "text/plain": [
       "DatetimeIndex(['2012-05-02', '2012-05-03', '2012-05-04', '2012-05-05',\n",
       "               '2012-05-06'],\n",
       "              dtype='datetime64[ns]', freq='D')"
      ]
     },
     "metadata": {},
     "execution_count": 80
    }
   ],
   "source": [
    "pd.date_range('2012-05-02 12:56:31', periods=5, normalize=True)"
   ]
  },
  {
   "cell_type": "markdown",
   "metadata": {},
   "source": [
    "## FREQUENCIES AND DATA OFFSETS"
   ]
  },
  {
   "cell_type": "code",
   "execution_count": 81,
   "metadata": {},
   "outputs": [],
   "source": [
    "from pandas.tseries.offsets import Hour, Minute"
   ]
  },
  {
   "cell_type": "code",
   "execution_count": 82,
   "metadata": {},
   "outputs": [],
   "source": [
    "hour = Hour()"
   ]
  },
  {
   "cell_type": "code",
   "execution_count": 83,
   "metadata": {},
   "outputs": [
    {
     "output_type": "execute_result",
     "data": {
      "text/plain": [
       "<Hour>"
      ]
     },
     "metadata": {},
     "execution_count": 83
    }
   ],
   "source": [
    "hour"
   ]
  },
  {
   "cell_type": "code",
   "execution_count": 84,
   "metadata": {},
   "outputs": [],
   "source": [
    "four_hours = Hour(4)"
   ]
  },
  {
   "cell_type": "code",
   "execution_count": 85,
   "metadata": {},
   "outputs": [
    {
     "output_type": "execute_result",
     "data": {
      "text/plain": [
       "<4 * Hours>"
      ]
     },
     "metadata": {},
     "execution_count": 85
    }
   ],
   "source": [
    "four_hours"
   ]
  },
  {
   "cell_type": "code",
   "execution_count": 86,
   "metadata": {},
   "outputs": [
    {
     "output_type": "execute_result",
     "data": {
      "text/plain": [
       "DatetimeIndex(['2000-01-01 00:00:00', '2000-01-01 04:00:00',\n",
       "               '2000-01-01 08:00:00', '2000-01-01 12:00:00',\n",
       "               '2000-01-01 16:00:00', '2000-01-01 20:00:00',\n",
       "               '2000-01-02 00:00:00', '2000-01-02 04:00:00',\n",
       "               '2000-01-02 08:00:00', '2000-01-02 12:00:00',\n",
       "               '2000-01-02 16:00:00', '2000-01-02 20:00:00',\n",
       "               '2000-01-03 00:00:00', '2000-01-03 04:00:00',\n",
       "               '2000-01-03 08:00:00', '2000-01-03 12:00:00',\n",
       "               '2000-01-03 16:00:00', '2000-01-03 20:00:00'],\n",
       "              dtype='datetime64[ns]', freq='4H')"
      ]
     },
     "metadata": {},
     "execution_count": 86
    }
   ],
   "source": [
    "pd.date_range('2000-01-01', '2000-01-03 23:59', freq='4h')"
   ]
  },
  {
   "cell_type": "code",
   "execution_count": 87,
   "metadata": {},
   "outputs": [
    {
     "output_type": "execute_result",
     "data": {
      "text/plain": [
       "<150 * Minutes>"
      ]
     },
     "metadata": {},
     "execution_count": 87
    }
   ],
   "source": [
    "Hour(2) + Minute(30)"
   ]
  },
  {
   "cell_type": "code",
   "execution_count": 88,
   "metadata": {},
   "outputs": [
    {
     "output_type": "execute_result",
     "data": {
      "text/plain": [
       "DatetimeIndex(['2000-01-01 00:00:00', '2000-01-01 01:30:00',\n",
       "               '2000-01-01 03:00:00', '2000-01-01 04:30:00',\n",
       "               '2000-01-01 06:00:00', '2000-01-01 07:30:00',\n",
       "               '2000-01-01 09:00:00', '2000-01-01 10:30:00',\n",
       "               '2000-01-01 12:00:00', '2000-01-01 13:30:00'],\n",
       "              dtype='datetime64[ns]', freq='90T')"
      ]
     },
     "metadata": {},
     "execution_count": 88
    }
   ],
   "source": [
    "pd.date_range('2000-01-01', periods=10, freq='1h30min')\r\n"
   ]
  },
  {
   "cell_type": "code",
   "execution_count": 89,
   "metadata": {},
   "outputs": [],
   "source": [
    "rng = pd.date_range('2012-01-01', '2012-09-01', freq='WOM-3FRI')"
   ]
  },
  {
   "cell_type": "code",
   "execution_count": 90,
   "metadata": {},
   "outputs": [
    {
     "output_type": "execute_result",
     "data": {
      "text/plain": [
       "[Timestamp('2012-01-20 00:00:00', freq='WOM-3FRI'),\n",
       " Timestamp('2012-02-17 00:00:00', freq='WOM-3FRI'),\n",
       " Timestamp('2012-03-16 00:00:00', freq='WOM-3FRI'),\n",
       " Timestamp('2012-04-20 00:00:00', freq='WOM-3FRI'),\n",
       " Timestamp('2012-05-18 00:00:00', freq='WOM-3FRI'),\n",
       " Timestamp('2012-06-15 00:00:00', freq='WOM-3FRI'),\n",
       " Timestamp('2012-07-20 00:00:00', freq='WOM-3FRI'),\n",
       " Timestamp('2012-08-17 00:00:00', freq='WOM-3FRI')]"
      ]
     },
     "metadata": {},
     "execution_count": 90
    }
   ],
   "source": [
    "list(rng)"
   ]
  },
  {
   "cell_type": "code",
   "execution_count": 91,
   "metadata": {},
   "outputs": [],
   "source": [
    "ts = pd.Series(np.random.randn(4), index=pd.date_range('1/1/2000', periods=4, freq='M'))"
   ]
  },
  {
   "cell_type": "code",
   "execution_count": 92,
   "metadata": {},
   "outputs": [
    {
     "output_type": "execute_result",
     "data": {
      "text/plain": [
       "2000-01-31   -0.356860\n",
       "2000-02-29    0.208826\n",
       "2000-03-31    0.178738\n",
       "2000-04-30    1.060435\n",
       "Freq: M, dtype: float64"
      ]
     },
     "metadata": {},
     "execution_count": 92
    }
   ],
   "source": [
    "ts"
   ]
  },
  {
   "cell_type": "code",
   "execution_count": 93,
   "metadata": {},
   "outputs": [
    {
     "output_type": "execute_result",
     "data": {
      "text/plain": [
       "2000-01-31         NaN\n",
       "2000-02-29         NaN\n",
       "2000-03-31   -0.356860\n",
       "2000-04-30    0.208826\n",
       "Freq: M, dtype: float64"
      ]
     },
     "metadata": {},
     "execution_count": 93
    }
   ],
   "source": [
    "ts.shift(2)"
   ]
  },
  {
   "cell_type": "code",
   "execution_count": 94,
   "metadata": {},
   "outputs": [
    {
     "output_type": "execute_result",
     "data": {
      "text/plain": [
       "2000-01-31    0.178738\n",
       "2000-02-29    1.060435\n",
       "2000-03-31         NaN\n",
       "2000-04-30         NaN\n",
       "Freq: M, dtype: float64"
      ]
     },
     "metadata": {},
     "execution_count": 94
    }
   ],
   "source": [
    "ts.shift(-2)"
   ]
  },
  {
   "cell_type": "code",
   "execution_count": 95,
   "metadata": {},
   "outputs": [
    {
     "output_type": "execute_result",
     "data": {
      "text/plain": [
       "2000-01-31         NaN\n",
       "2000-02-29   -1.585178\n",
       "2000-03-31   -0.144082\n",
       "2000-04-30    4.932889\n",
       "Freq: M, dtype: float64"
      ]
     },
     "metadata": {},
     "execution_count": 95
    }
   ],
   "source": [
    "ts / ts.shift(1) - 1"
   ]
  },
  {
   "cell_type": "code",
   "execution_count": 96,
   "metadata": {},
   "outputs": [
    {
     "output_type": "execute_result",
     "data": {
      "text/plain": [
       "2000-01-31   -0.356860\n",
       "2000-02-29    0.208826\n",
       "2000-03-31    0.178738\n",
       "2000-04-30    1.060435\n",
       "Freq: M, dtype: float64"
      ]
     },
     "metadata": {},
     "execution_count": 96
    }
   ],
   "source": [
    "ts"
   ]
  },
  {
   "cell_type": "code",
   "execution_count": 97,
   "metadata": {},
   "outputs": [
    {
     "output_type": "execute_result",
     "data": {
      "text/plain": [
       "2000-01-31         NaN\n",
       "2000-02-29   -0.356860\n",
       "2000-03-31    0.208826\n",
       "2000-04-30    0.178738\n",
       "Freq: M, dtype: float64"
      ]
     },
     "metadata": {},
     "execution_count": 97
    }
   ],
   "source": [
    "ts.shift(1) "
   ]
  },
  {
   "cell_type": "code",
   "execution_count": 98,
   "metadata": {},
   "outputs": [
    {
     "output_type": "execute_result",
     "data": {
      "text/plain": [
       "2000-03-31   -0.356860\n",
       "2000-04-30    0.208826\n",
       "2000-05-31    0.178738\n",
       "2000-06-30    1.060435\n",
       "Freq: M, dtype: float64"
      ]
     },
     "metadata": {},
     "execution_count": 98
    }
   ],
   "source": [
    "ts.shift(2, freq='M')"
   ]
  },
  {
   "cell_type": "code",
   "execution_count": 99,
   "metadata": {},
   "outputs": [
    {
     "output_type": "execute_result",
     "data": {
      "text/plain": [
       "2000-02-03   -0.356860\n",
       "2000-03-03    0.208826\n",
       "2000-04-03    0.178738\n",
       "2000-05-03    1.060435\n",
       "dtype: float64"
      ]
     },
     "metadata": {},
     "execution_count": 99
    }
   ],
   "source": [
    "ts.shift(3, freq='D')"
   ]
  },
  {
   "cell_type": "code",
   "execution_count": 100,
   "metadata": {},
   "outputs": [
    {
     "output_type": "execute_result",
     "data": {
      "text/plain": [
       "2000-01-31 01:30:00   -0.356860\n",
       "2000-02-29 01:30:00    0.208826\n",
       "2000-03-31 01:30:00    0.178738\n",
       "2000-04-30 01:30:00    1.060435\n",
       "dtype: float64"
      ]
     },
     "metadata": {},
     "execution_count": 100
    }
   ],
   "source": [
    "ts.shift(1, freq='90T')"
   ]
  },
  {
   "cell_type": "markdown",
   "metadata": {},
   "source": [
    "## SHIFITING DATES WITH OFFSETS "
   ]
  },
  {
   "cell_type": "code",
   "execution_count": 101,
   "metadata": {},
   "outputs": [],
   "source": [
    "from pandas.tseries.offsets import Day, MonthEnd"
   ]
  },
  {
   "cell_type": "code",
   "execution_count": 102,
   "metadata": {},
   "outputs": [],
   "source": [
    "now = datetime(2011, 11, 17)"
   ]
  },
  {
   "cell_type": "code",
   "execution_count": 103,
   "metadata": {},
   "outputs": [
    {
     "output_type": "execute_result",
     "data": {
      "text/plain": [
       "datetime.datetime(2011, 11, 17, 0, 0)"
      ]
     },
     "metadata": {},
     "execution_count": 103
    }
   ],
   "source": [
    "now"
   ]
  },
  {
   "cell_type": "code",
   "execution_count": 104,
   "metadata": {},
   "outputs": [
    {
     "output_type": "execute_result",
     "data": {
      "text/plain": [
       "Timestamp('2011-11-20 00:00:00')"
      ]
     },
     "metadata": {},
     "execution_count": 104
    }
   ],
   "source": [
    "now + 3 * Day()"
   ]
  },
  {
   "cell_type": "code",
   "execution_count": 105,
   "metadata": {},
   "outputs": [
    {
     "output_type": "execute_result",
     "data": {
      "text/plain": [
       "Timestamp('2011-11-30 00:00:00')"
      ]
     },
     "metadata": {},
     "execution_count": 105
    }
   ],
   "source": [
    "now + MonthEnd()"
   ]
  },
  {
   "cell_type": "code",
   "execution_count": 106,
   "metadata": {},
   "outputs": [
    {
     "output_type": "execute_result",
     "data": {
      "text/plain": [
       "Timestamp('2011-12-31 00:00:00')"
      ]
     },
     "metadata": {},
     "execution_count": 106
    }
   ],
   "source": [
    "now + MonthEnd(2)"
   ]
  },
  {
   "cell_type": "code",
   "execution_count": 107,
   "metadata": {},
   "outputs": [],
   "source": [
    "offset = MonthEnd()"
   ]
  },
  {
   "cell_type": "code",
   "execution_count": 108,
   "metadata": {},
   "outputs": [
    {
     "output_type": "execute_result",
     "data": {
      "text/plain": [
       "Timestamp('2011-11-30 00:00:00')"
      ]
     },
     "metadata": {},
     "execution_count": 108
    }
   ],
   "source": [
    "offset.rollforward(now)"
   ]
  },
  {
   "cell_type": "code",
   "execution_count": 109,
   "metadata": {},
   "outputs": [
    {
     "output_type": "execute_result",
     "data": {
      "text/plain": [
       "Timestamp('2011-10-31 00:00:00')"
      ]
     },
     "metadata": {},
     "execution_count": 109
    }
   ],
   "source": [
    "offset.rollback(now)"
   ]
  },
  {
   "cell_type": "code",
   "execution_count": 110,
   "metadata": {},
   "outputs": [],
   "source": [
    "ts = pd.Series(np.random.randn(20), index=pd.date_range('1/15/2000', periods=20, freq='4d'))"
   ]
  },
  {
   "cell_type": "code",
   "execution_count": 111,
   "metadata": {},
   "outputs": [
    {
     "output_type": "execute_result",
     "data": {
      "text/plain": [
       "2000-01-15    0.212081\n",
       "2000-01-19   -0.170404\n",
       "2000-01-23   -0.371552\n",
       "2000-01-27   -0.424561\n",
       "2000-01-31   -0.286949\n",
       "2000-02-04   -1.309000\n",
       "2000-02-08   -0.530616\n",
       "2000-02-12    0.092168\n",
       "2000-02-16    0.642311\n",
       "2000-02-20    0.356551\n",
       "2000-02-24    1.105267\n",
       "2000-02-28   -1.621957\n",
       "2000-03-03    1.275408\n",
       "2000-03-07    0.164287\n",
       "2000-03-11    0.540524\n",
       "2000-03-15    0.564259\n",
       "2000-03-19   -0.362366\n",
       "2000-03-23   -1.179163\n",
       "2000-03-27    0.398948\n",
       "2000-03-31   -0.824382\n",
       "Freq: 4D, dtype: float64"
      ]
     },
     "metadata": {},
     "execution_count": 111
    }
   ],
   "source": [
    "ts"
   ]
  },
  {
   "cell_type": "code",
   "execution_count": 112,
   "metadata": {},
   "outputs": [
    {
     "output_type": "execute_result",
     "data": {
      "text/plain": [
       "2000-01-31   -0.208277\n",
       "2000-02-29   -0.180754\n",
       "2000-03-31    0.072189\n",
       "dtype: float64"
      ]
     },
     "metadata": {},
     "execution_count": 112
    }
   ],
   "source": [
    "ts.groupby(offset.rollforward).mean()"
   ]
  },
  {
   "cell_type": "code",
   "execution_count": 113,
   "metadata": {},
   "outputs": [
    {
     "output_type": "execute_result",
     "data": {
      "text/plain": [
       "2000-01-31   -0.208277\n",
       "2000-02-29   -0.180754\n",
       "2000-03-31    0.072189\n",
       "Freq: M, dtype: float64"
      ]
     },
     "metadata": {},
     "execution_count": 113
    }
   ],
   "source": [
    "ts.resample('M').mean()"
   ]
  },
  {
   "cell_type": "markdown",
   "metadata": {},
   "source": [
    "## TIME ZONE HANDLING"
   ]
  },
  {
   "cell_type": "code",
   "execution_count": 114,
   "metadata": {},
   "outputs": [],
   "source": [
    "import pytz"
   ]
  },
  {
   "cell_type": "code",
   "execution_count": 115,
   "metadata": {},
   "outputs": [
    {
     "output_type": "execute_result",
     "data": {
      "text/plain": [
       "['US/Eastern', 'US/Hawaii', 'US/Mountain', 'US/Pacific', 'UTC']"
      ]
     },
     "metadata": {},
     "execution_count": 115
    }
   ],
   "source": [
    "pytz.common_timezones[-5:]"
   ]
  },
  {
   "cell_type": "code",
   "execution_count": 116,
   "metadata": {},
   "outputs": [],
   "source": [
    "tz = pytz.timezone('America/New_York')"
   ]
  },
  {
   "cell_type": "code",
   "execution_count": 117,
   "metadata": {},
   "outputs": [
    {
     "output_type": "execute_result",
     "data": {
      "text/plain": [
       "<DstTzInfo 'America/New_York' LMT-1 day, 19:04:00 STD>"
      ]
     },
     "metadata": {},
     "execution_count": 117
    }
   ],
   "source": [
    "tz"
   ]
  },
  {
   "cell_type": "markdown",
   "metadata": {},
   "source": [
    "### TIME ZONE LOCALIZATION "
   ]
  },
  {
   "cell_type": "code",
   "execution_count": 118,
   "metadata": {},
   "outputs": [],
   "source": [
    "rng = pd.date_range('3/9/2012 9:30', periods=6, freq='D')"
   ]
  },
  {
   "cell_type": "code",
   "execution_count": 119,
   "metadata": {},
   "outputs": [],
   "source": [
    " ts = pd.Series(np.random.randn(len(rng)), index=rng)"
   ]
  },
  {
   "cell_type": "code",
   "execution_count": 120,
   "metadata": {},
   "outputs": [
    {
     "output_type": "execute_result",
     "data": {
      "text/plain": [
       "DatetimeIndex(['2012-03-09 09:30:00', '2012-03-10 09:30:00',\n",
       "               '2012-03-11 09:30:00', '2012-03-12 09:30:00',\n",
       "               '2012-03-13 09:30:00', '2012-03-14 09:30:00'],\n",
       "              dtype='datetime64[ns]', freq='D')"
      ]
     },
     "metadata": {},
     "execution_count": 120
    }
   ],
   "source": [
    "rng"
   ]
  },
  {
   "cell_type": "code",
   "execution_count": 121,
   "metadata": {},
   "outputs": [
    {
     "output_type": "execute_result",
     "data": {
      "text/plain": [
       "2012-03-09 09:30:00   -0.211272\n",
       "2012-03-10 09:30:00    0.114218\n",
       "2012-03-11 09:30:00    0.484644\n",
       "2012-03-12 09:30:00    1.187376\n",
       "2012-03-13 09:30:00    0.236192\n",
       "2012-03-14 09:30:00   -0.261954\n",
       "Freq: D, dtype: float64"
      ]
     },
     "metadata": {},
     "execution_count": 121
    }
   ],
   "source": [
    "ts"
   ]
  },
  {
   "cell_type": "code",
   "execution_count": 122,
   "metadata": {},
   "outputs": [
    {
     "output_type": "stream",
     "name": "stdout",
     "text": [
      "None\n"
     ]
    }
   ],
   "source": [
    "print(ts.index.tz)"
   ]
  },
  {
   "cell_type": "code",
   "execution_count": 123,
   "metadata": {},
   "outputs": [
    {
     "output_type": "execute_result",
     "data": {
      "text/plain": [
       "DatetimeIndex(['2012-03-09 09:30:00+00:00', '2012-03-10 09:30:00+00:00',\n",
       "               '2012-03-11 09:30:00+00:00', '2012-03-12 09:30:00+00:00',\n",
       "               '2012-03-13 09:30:00+00:00', '2012-03-14 09:30:00+00:00',\n",
       "               '2012-03-15 09:30:00+00:00', '2012-03-16 09:30:00+00:00',\n",
       "               '2012-03-17 09:30:00+00:00', '2012-03-18 09:30:00+00:00'],\n",
       "              dtype='datetime64[ns, UTC]', freq='D')"
      ]
     },
     "metadata": {},
     "execution_count": 123
    }
   ],
   "source": [
    "pd.date_range('3/9/2012 9:30', periods=10, freq='D', tz='UTC')"
   ]
  },
  {
   "cell_type": "code",
   "execution_count": 124,
   "metadata": {},
   "outputs": [
    {
     "output_type": "execute_result",
     "data": {
      "text/plain": [
       "2012-03-09 09:30:00   -0.211272\n",
       "2012-03-10 09:30:00    0.114218\n",
       "2012-03-11 09:30:00    0.484644\n",
       "2012-03-12 09:30:00    1.187376\n",
       "2012-03-13 09:30:00    0.236192\n",
       "2012-03-14 09:30:00   -0.261954\n",
       "Freq: D, dtype: float64"
      ]
     },
     "metadata": {},
     "execution_count": 124
    }
   ],
   "source": [
    "ts"
   ]
  },
  {
   "cell_type": "code",
   "execution_count": 125,
   "metadata": {},
   "outputs": [],
   "source": [
    "ts_utc = ts.tz_localize('UTC')"
   ]
  },
  {
   "cell_type": "code",
   "execution_count": 126,
   "metadata": {},
   "outputs": [
    {
     "output_type": "execute_result",
     "data": {
      "text/plain": [
       "2012-03-09 09:30:00+00:00   -0.211272\n",
       "2012-03-10 09:30:00+00:00    0.114218\n",
       "2012-03-11 09:30:00+00:00    0.484644\n",
       "2012-03-12 09:30:00+00:00    1.187376\n",
       "2012-03-13 09:30:00+00:00    0.236192\n",
       "2012-03-14 09:30:00+00:00   -0.261954\n",
       "Freq: D, dtype: float64"
      ]
     },
     "metadata": {},
     "execution_count": 126
    }
   ],
   "source": [
    "ts_utc"
   ]
  },
  {
   "cell_type": "code",
   "execution_count": 127,
   "metadata": {},
   "outputs": [
    {
     "output_type": "execute_result",
     "data": {
      "text/plain": [
       "2012-03-09 04:30:00-05:00   -0.211272\n",
       "2012-03-10 04:30:00-05:00    0.114218\n",
       "2012-03-11 05:30:00-04:00    0.484644\n",
       "2012-03-12 05:30:00-04:00    1.187376\n",
       "2012-03-13 05:30:00-04:00    0.236192\n",
       "2012-03-14 05:30:00-04:00   -0.261954\n",
       "Freq: D, dtype: float64"
      ]
     },
     "metadata": {},
     "execution_count": 127
    }
   ],
   "source": [
    "ts_utc.tz_convert('America/New_York')"
   ]
  },
  {
   "cell_type": "code",
   "execution_count": 128,
   "metadata": {},
   "outputs": [],
   "source": [
    "ts_eastern = ts.tz_localize('America/New_York')"
   ]
  },
  {
   "cell_type": "code",
   "execution_count": 129,
   "metadata": {},
   "outputs": [
    {
     "output_type": "execute_result",
     "data": {
      "text/plain": [
       "2012-03-09 09:30:00-05:00   -0.211272\n",
       "2012-03-10 09:30:00-05:00    0.114218\n",
       "2012-03-11 09:30:00-04:00    0.484644\n",
       "2012-03-12 09:30:00-04:00    1.187376\n",
       "2012-03-13 09:30:00-04:00    0.236192\n",
       "2012-03-14 09:30:00-04:00   -0.261954\n",
       "dtype: float64"
      ]
     },
     "metadata": {},
     "execution_count": 129
    }
   ],
   "source": [
    "ts_eastern"
   ]
  },
  {
   "cell_type": "code",
   "execution_count": 130,
   "metadata": {},
   "outputs": [],
   "source": [
    "ts_eastern = ts.tz_localize('America/New_York')"
   ]
  },
  {
   "cell_type": "code",
   "execution_count": 131,
   "metadata": {},
   "outputs": [
    {
     "output_type": "execute_result",
     "data": {
      "text/plain": [
       "2012-03-09 15:30:00+01:00   -0.211272\n",
       "2012-03-10 15:30:00+01:00    0.114218\n",
       "2012-03-11 14:30:00+01:00    0.484644\n",
       "2012-03-12 14:30:00+01:00    1.187376\n",
       "2012-03-13 14:30:00+01:00    0.236192\n",
       "2012-03-14 14:30:00+01:00   -0.261954\n",
       "dtype: float64"
      ]
     },
     "metadata": {},
     "execution_count": 131
    }
   ],
   "source": [
    "ts_eastern.tz_convert('Europe/Berlin')"
   ]
  },
  {
   "cell_type": "code",
   "execution_count": 132,
   "metadata": {},
   "outputs": [
    {
     "output_type": "execute_result",
     "data": {
      "text/plain": [
       "DatetimeIndex(['2012-03-09 09:30:00+08:00', '2012-03-10 09:30:00+08:00',\n",
       "               '2012-03-11 09:30:00+08:00', '2012-03-12 09:30:00+08:00',\n",
       "               '2012-03-13 09:30:00+08:00', '2012-03-14 09:30:00+08:00'],\n",
       "              dtype='datetime64[ns, Asia/Shanghai]', freq=None)"
      ]
     },
     "metadata": {},
     "execution_count": 132
    }
   ],
   "source": [
    "ts.index.tz_localize('Asia/Shanghai')"
   ]
  },
  {
   "cell_type": "markdown",
   "metadata": {},
   "source": [
    "## OPERATIONS WITH TIME ZONE - AWARE TIMESTAMP OBJECTS "
   ]
  },
  {
   "cell_type": "code",
   "execution_count": 133,
   "metadata": {},
   "outputs": [],
   "source": [
    "stamp = pd.Timestamp('2011-03-12 04:00')"
   ]
  },
  {
   "cell_type": "code",
   "execution_count": 134,
   "metadata": {},
   "outputs": [],
   "source": [
    "stamp_utc = stamp.tz_localize('utc')"
   ]
  },
  {
   "cell_type": "code",
   "execution_count": 135,
   "metadata": {},
   "outputs": [
    {
     "output_type": "execute_result",
     "data": {
      "text/plain": [
       "Timestamp('2011-03-12 04:00:00')"
      ]
     },
     "metadata": {},
     "execution_count": 135
    }
   ],
   "source": [
    "stamp"
   ]
  },
  {
   "cell_type": "code",
   "execution_count": 136,
   "metadata": {},
   "outputs": [
    {
     "output_type": "execute_result",
     "data": {
      "text/plain": [
       "Timestamp('2011-03-12 04:00:00+0000', tz='UTC')"
      ]
     },
     "metadata": {},
     "execution_count": 136
    }
   ],
   "source": [
    "stamp_utc"
   ]
  },
  {
   "cell_type": "code",
   "execution_count": 137,
   "metadata": {},
   "outputs": [
    {
     "output_type": "execute_result",
     "data": {
      "text/plain": [
       "Timestamp('2011-03-11 23:00:00-0500', tz='America/New_York')"
      ]
     },
     "metadata": {},
     "execution_count": 137
    }
   ],
   "source": [
    "stamp_utc.tz_convert('America/New_York')"
   ]
  },
  {
   "cell_type": "code",
   "execution_count": 138,
   "metadata": {},
   "outputs": [],
   "source": [
    "stamp_moscow = pd.Timestamp('2011-03-12 04:00', tz='Europe/Moscow')"
   ]
  },
  {
   "cell_type": "code",
   "execution_count": 139,
   "metadata": {},
   "outputs": [
    {
     "output_type": "execute_result",
     "data": {
      "text/plain": [
       "Timestamp('2011-03-12 04:00:00+0300', tz='Europe/Moscow')"
      ]
     },
     "metadata": {},
     "execution_count": 139
    }
   ],
   "source": [
    "stamp_moscow"
   ]
  },
  {
   "cell_type": "code",
   "execution_count": 140,
   "metadata": {},
   "outputs": [
    {
     "output_type": "execute_result",
     "data": {
      "text/plain": [
       "1299902400000000000"
      ]
     },
     "metadata": {},
     "execution_count": 140
    }
   ],
   "source": [
    "stamp_utc.value"
   ]
  },
  {
   "cell_type": "code",
   "execution_count": 141,
   "metadata": {},
   "outputs": [
    {
     "output_type": "execute_result",
     "data": {
      "text/plain": [
       "1299902400000000000"
      ]
     },
     "metadata": {},
     "execution_count": 141
    }
   ],
   "source": [
    "stamp_utc.tz_convert('America/New_York').value"
   ]
  },
  {
   "cell_type": "code",
   "execution_count": 142,
   "metadata": {},
   "outputs": [],
   "source": [
    "from pandas.tseries.offsets import Hour"
   ]
  },
  {
   "cell_type": "code",
   "execution_count": 143,
   "metadata": {},
   "outputs": [],
   "source": [
    "stamp = pd.Timestamp('2012-03-12 01:30', tz='US/Eastern')"
   ]
  },
  {
   "cell_type": "code",
   "execution_count": 144,
   "metadata": {},
   "outputs": [
    {
     "output_type": "execute_result",
     "data": {
      "text/plain": [
       "Timestamp('2012-03-12 01:30:00-0400', tz='US/Eastern')"
      ]
     },
     "metadata": {},
     "execution_count": 144
    }
   ],
   "source": [
    "stamp"
   ]
  },
  {
   "cell_type": "code",
   "execution_count": 145,
   "metadata": {},
   "outputs": [
    {
     "output_type": "execute_result",
     "data": {
      "text/plain": [
       "Timestamp('2012-03-12 02:30:00-0400', tz='US/Eastern')"
      ]
     },
     "metadata": {},
     "execution_count": 145
    }
   ],
   "source": [
    "stamp + Hour()"
   ]
  },
  {
   "cell_type": "code",
   "execution_count": 146,
   "metadata": {},
   "outputs": [],
   "source": [
    "stamp = pd.Timestamp('2012-11-04 00:30', tz='US/Eastern')"
   ]
  },
  {
   "cell_type": "code",
   "execution_count": 147,
   "metadata": {},
   "outputs": [
    {
     "output_type": "execute_result",
     "data": {
      "text/plain": [
       "Timestamp('2012-11-04 00:30:00-0400', tz='US/Eastern')"
      ]
     },
     "metadata": {},
     "execution_count": 147
    }
   ],
   "source": [
    "stamp"
   ]
  },
  {
   "cell_type": "code",
   "execution_count": 148,
   "metadata": {},
   "outputs": [
    {
     "output_type": "execute_result",
     "data": {
      "text/plain": [
       "Timestamp('2012-11-04 01:30:00-0500', tz='US/Eastern')"
      ]
     },
     "metadata": {},
     "execution_count": 148
    }
   ],
   "source": [
    "stamp + 2 * Hour()"
   ]
  },
  {
   "cell_type": "markdown",
   "metadata": {},
   "source": [
    "## OPERATIONS BETWEEN DIFFERENT TIME ZONES "
   ]
  },
  {
   "cell_type": "code",
   "execution_count": 149,
   "metadata": {},
   "outputs": [],
   "source": [
    "rng = pd.date_range('3/7/2012 9:30', periods=10, freq='B')"
   ]
  },
  {
   "cell_type": "code",
   "execution_count": 150,
   "metadata": {},
   "outputs": [],
   "source": [
    "ts = pd.Series(np.random.randn(len(rng)), index=rng)"
   ]
  },
  {
   "cell_type": "code",
   "execution_count": 151,
   "metadata": {},
   "outputs": [],
   "source": [
    "ts1 = ts[:7].tz_localize('Europe/London')"
   ]
  },
  {
   "cell_type": "code",
   "execution_count": 152,
   "metadata": {},
   "outputs": [],
   "source": [
    "ts2 = ts1[2:].tz_convert('Europe/Moscow')"
   ]
  },
  {
   "cell_type": "code",
   "execution_count": 153,
   "metadata": {},
   "outputs": [],
   "source": [
    "result = ts1 + ts2"
   ]
  },
  {
   "cell_type": "code",
   "execution_count": 154,
   "metadata": {},
   "outputs": [
    {
     "output_type": "execute_result",
     "data": {
      "text/plain": [
       "DatetimeIndex(['2012-03-07 09:30:00+00:00', '2012-03-08 09:30:00+00:00',\n",
       "               '2012-03-09 09:30:00+00:00', '2012-03-12 09:30:00+00:00',\n",
       "               '2012-03-13 09:30:00+00:00', '2012-03-14 09:30:00+00:00',\n",
       "               '2012-03-15 09:30:00+00:00'],\n",
       "              dtype='datetime64[ns, UTC]', freq=None)"
      ]
     },
     "metadata": {},
     "execution_count": 154
    }
   ],
   "source": [
    "result.index"
   ]
  },
  {
   "cell_type": "code",
   "execution_count": 155,
   "metadata": {},
   "outputs": [
    {
     "output_type": "execute_result",
     "data": {
      "text/plain": [
       "2012-03-07 09:30:00+00:00   -1.059258\n",
       "2012-03-08 09:30:00+00:00   -0.587057\n",
       "2012-03-09 09:30:00+00:00   -0.602566\n",
       "2012-03-12 09:30:00+00:00    0.215488\n",
       "2012-03-13 09:30:00+00:00   -1.009580\n",
       "2012-03-14 09:30:00+00:00    0.066308\n",
       "2012-03-15 09:30:00+00:00   -0.051760\n",
       "dtype: float64"
      ]
     },
     "metadata": {},
     "execution_count": 155
    }
   ],
   "source": [
    "ts1"
   ]
  },
  {
   "cell_type": "code",
   "execution_count": 156,
   "metadata": {},
   "outputs": [
    {
     "output_type": "execute_result",
     "data": {
      "text/plain": [
       "2012-03-09 13:30:00+04:00   -0.602566\n",
       "2012-03-12 13:30:00+04:00    0.215488\n",
       "2012-03-13 13:30:00+04:00   -1.009580\n",
       "2012-03-14 13:30:00+04:00    0.066308\n",
       "2012-03-15 13:30:00+04:00   -0.051760\n",
       "dtype: float64"
      ]
     },
     "metadata": {},
     "execution_count": 156
    }
   ],
   "source": [
    "ts2"
   ]
  },
  {
   "cell_type": "markdown",
   "metadata": {},
   "source": [
    "## PERIODS AND PERIOD ARITHMETIC"
   ]
  },
  {
   "cell_type": "code",
   "execution_count": 157,
   "metadata": {},
   "outputs": [],
   "source": [
    "p = pd.Period(2007, freq='A-DEC')"
   ]
  },
  {
   "cell_type": "code",
   "execution_count": 158,
   "metadata": {},
   "outputs": [
    {
     "output_type": "execute_result",
     "data": {
      "text/plain": [
       "Period('2007', 'A-DEC')"
      ]
     },
     "metadata": {},
     "execution_count": 158
    }
   ],
   "source": [
    "p"
   ]
  },
  {
   "cell_type": "code",
   "execution_count": 159,
   "metadata": {},
   "outputs": [
    {
     "output_type": "execute_result",
     "data": {
      "text/plain": [
       "Period('2012', 'A-DEC')"
      ]
     },
     "metadata": {},
     "execution_count": 159
    }
   ],
   "source": [
    "p + 5"
   ]
  },
  {
   "cell_type": "code",
   "execution_count": 160,
   "metadata": {},
   "outputs": [
    {
     "output_type": "execute_result",
     "data": {
      "text/plain": [
       "Period('2005', 'A-DEC')"
      ]
     },
     "metadata": {},
     "execution_count": 160
    }
   ],
   "source": [
    "p - 2"
   ]
  },
  {
   "cell_type": "code",
   "execution_count": 161,
   "metadata": {},
   "outputs": [
    {
     "output_type": "execute_result",
     "data": {
      "text/plain": [
       "<7 * YearEnds: month=12>"
      ]
     },
     "metadata": {},
     "execution_count": 161
    }
   ],
   "source": [
    "pd.Period('2014', freq='A-DEC') - p"
   ]
  },
  {
   "cell_type": "code",
   "execution_count": 162,
   "metadata": {},
   "outputs": [],
   "source": [
    "rng = pd.period_range('2000-01-01', '2000-06-30', freq='M')"
   ]
  },
  {
   "cell_type": "code",
   "execution_count": 163,
   "metadata": {},
   "outputs": [
    {
     "output_type": "execute_result",
     "data": {
      "text/plain": [
       "PeriodIndex(['2000-01', '2000-02', '2000-03', '2000-04', '2000-05', '2000-06'], dtype='period[M]', freq='M')"
      ]
     },
     "metadata": {},
     "execution_count": 163
    }
   ],
   "source": [
    "rng"
   ]
  },
  {
   "cell_type": "code",
   "execution_count": 164,
   "metadata": {},
   "outputs": [
    {
     "output_type": "execute_result",
     "data": {
      "text/plain": [
       "2000-01   -0.400617\n",
       "2000-02    0.003853\n",
       "2000-03    0.280559\n",
       "2000-04    0.191348\n",
       "2000-05   -2.781193\n",
       "2000-06   -0.427800\n",
       "Freq: M, dtype: float64"
      ]
     },
     "metadata": {},
     "execution_count": 164
    }
   ],
   "source": [
    "pd.Series(np.random.randn(6), index=rng)"
   ]
  },
  {
   "cell_type": "code",
   "execution_count": 165,
   "metadata": {},
   "outputs": [],
   "source": [
    "values = ['2001Q3', '2002Q2', '2003Q1']"
   ]
  },
  {
   "cell_type": "code",
   "execution_count": 166,
   "metadata": {},
   "outputs": [],
   "source": [
    "index = pd.PeriodIndex(values, freq='Q-DEC')"
   ]
  },
  {
   "cell_type": "code",
   "execution_count": 167,
   "metadata": {},
   "outputs": [
    {
     "output_type": "execute_result",
     "data": {
      "text/plain": [
       "PeriodIndex(['2001Q3', '2002Q2', '2003Q1'], dtype='period[Q-DEC]', freq='Q-DEC')"
      ]
     },
     "metadata": {},
     "execution_count": 167
    }
   ],
   "source": [
    "index"
   ]
  },
  {
   "cell_type": "markdown",
   "metadata": {},
   "source": [
    "## PERIOD FREQUENCY CONVERSION"
   ]
  },
  {
   "cell_type": "code",
   "execution_count": 168,
   "metadata": {},
   "outputs": [],
   "source": [
    "p = pd.Period('2007', freq='A-DEC')"
   ]
  },
  {
   "cell_type": "code",
   "execution_count": 169,
   "metadata": {},
   "outputs": [
    {
     "output_type": "execute_result",
     "data": {
      "text/plain": [
       "Period('2007-01', 'M')"
      ]
     },
     "metadata": {},
     "execution_count": 169
    }
   ],
   "source": [
    "p.asfreq('M', how='start')"
   ]
  },
  {
   "cell_type": "code",
   "execution_count": 170,
   "metadata": {},
   "outputs": [
    {
     "output_type": "execute_result",
     "data": {
      "text/plain": [
       "Period('2007', 'A-DEC')"
      ]
     },
     "metadata": {},
     "execution_count": 170
    }
   ],
   "source": [
    "p"
   ]
  },
  {
   "cell_type": "code",
   "execution_count": 171,
   "metadata": {},
   "outputs": [
    {
     "output_type": "execute_result",
     "data": {
      "text/plain": [
       "Period('2007-12', 'M')"
      ]
     },
     "metadata": {},
     "execution_count": 171
    }
   ],
   "source": [
    "p.asfreq('M', how='end')"
   ]
  },
  {
   "cell_type": "code",
   "execution_count": 172,
   "metadata": {},
   "outputs": [
    {
     "output_type": "execute_result",
     "data": {
      "text/plain": [
       "Period('2008', 'A-JUN')"
      ]
     },
     "metadata": {},
     "execution_count": 172
    }
   ],
   "source": [
    "p.asfreq('A-JUN')"
   ]
  },
  {
   "cell_type": "code",
   "execution_count": 173,
   "metadata": {},
   "outputs": [],
   "source": [
    "rng = pd.period_range('2006', '2009', freq='A-DEC')"
   ]
  },
  {
   "cell_type": "code",
   "execution_count": 174,
   "metadata": {},
   "outputs": [
    {
     "output_type": "execute_result",
     "data": {
      "text/plain": [
       "PeriodIndex(['2006', '2007', '2008', '2009'], dtype='period[A-DEC]', freq='A-DEC')"
      ]
     },
     "metadata": {},
     "execution_count": 174
    }
   ],
   "source": [
    "rng"
   ]
  },
  {
   "cell_type": "code",
   "execution_count": 175,
   "metadata": {},
   "outputs": [],
   "source": [
    "ts = pd.Series(np.random.randn(len(rng)), index=rng)"
   ]
  },
  {
   "cell_type": "code",
   "execution_count": 176,
   "metadata": {},
   "outputs": [
    {
     "output_type": "execute_result",
     "data": {
      "text/plain": [
       "2006   -0.265563\n",
       "2007   -0.722822\n",
       "2008    0.102113\n",
       "2009   -1.685085\n",
       "Freq: A-DEC, dtype: float64"
      ]
     },
     "metadata": {},
     "execution_count": 176
    }
   ],
   "source": [
    "ts"
   ]
  },
  {
   "cell_type": "code",
   "execution_count": 177,
   "metadata": {},
   "outputs": [
    {
     "output_type": "execute_result",
     "data": {
      "text/plain": [
       "2006-01   -0.265563\n",
       "2007-01   -0.722822\n",
       "2008-01    0.102113\n",
       "2009-01   -1.685085\n",
       "Freq: M, dtype: float64"
      ]
     },
     "metadata": {},
     "execution_count": 177
    }
   ],
   "source": [
    "ts.asfreq('M', how='start')"
   ]
  },
  {
   "cell_type": "markdown",
   "metadata": {},
   "source": [
    "## QUARTERLY PERIOD FREQUENCIES"
   ]
  },
  {
   "cell_type": "code",
   "execution_count": 178,
   "metadata": {},
   "outputs": [],
   "source": [
    "p = pd.Period('2012Q4', freq='Q-JAN')"
   ]
  },
  {
   "cell_type": "code",
   "execution_count": 179,
   "metadata": {},
   "outputs": [
    {
     "output_type": "execute_result",
     "data": {
      "text/plain": [
       "Period('2012Q4', 'Q-JAN')"
      ]
     },
     "metadata": {},
     "execution_count": 179
    }
   ],
   "source": [
    "p"
   ]
  },
  {
   "cell_type": "code",
   "execution_count": 180,
   "metadata": {},
   "outputs": [
    {
     "output_type": "execute_result",
     "data": {
      "text/plain": [
       "Period('2011-11-01', 'D')"
      ]
     },
     "metadata": {},
     "execution_count": 180
    }
   ],
   "source": [
    "p.asfreq('D', 'start')"
   ]
  },
  {
   "cell_type": "code",
   "execution_count": 181,
   "metadata": {},
   "outputs": [
    {
     "output_type": "execute_result",
     "data": {
      "text/plain": [
       "Period('2012-01-31', 'D')"
      ]
     },
     "metadata": {},
     "execution_count": 181
    }
   ],
   "source": [
    "p.asfreq('D', 'end')"
   ]
  },
  {
   "cell_type": "code",
   "execution_count": 182,
   "metadata": {},
   "outputs": [
    {
     "output_type": "execute_result",
     "data": {
      "text/plain": [
       "Period('2012-01-31', 'B')"
      ]
     },
     "metadata": {},
     "execution_count": 182
    }
   ],
   "source": [
    "p.asfreq('B', 'e') "
   ]
  },
  {
   "cell_type": "code",
   "execution_count": 183,
   "metadata": {},
   "outputs": [
    {
     "output_type": "execute_result",
     "data": {
      "text/plain": [
       "Period('2012-01-30', 'B')"
      ]
     },
     "metadata": {},
     "execution_count": 183
    }
   ],
   "source": [
    "(p.asfreq('B', 'e') - 1)"
   ]
  },
  {
   "cell_type": "code",
   "execution_count": 184,
   "metadata": {},
   "outputs": [
    {
     "output_type": "execute_result",
     "data": {
      "text/plain": [
       "Period('2012-01-30 00:00', 'T')"
      ]
     },
     "metadata": {},
     "execution_count": 184
    }
   ],
   "source": [
    "(p.asfreq('B', 'e') - 1).asfreq('T', 's')"
   ]
  },
  {
   "cell_type": "code",
   "execution_count": 185,
   "metadata": {},
   "outputs": [],
   "source": [
    "p4pm = (p.asfreq('B', 'e') - 1).asfreq('T', 's') + 16 * 60"
   ]
  },
  {
   "cell_type": "code",
   "execution_count": 186,
   "metadata": {},
   "outputs": [
    {
     "output_type": "execute_result",
     "data": {
      "text/plain": [
       "Period('2012-01-30 16:00', 'T')"
      ]
     },
     "metadata": {},
     "execution_count": 186
    }
   ],
   "source": [
    "p4pm"
   ]
  },
  {
   "cell_type": "code",
   "execution_count": 187,
   "metadata": {},
   "outputs": [
    {
     "output_type": "execute_result",
     "data": {
      "text/plain": [
       "Timestamp('2012-01-30 16:00:00')"
      ]
     },
     "metadata": {},
     "execution_count": 187
    }
   ],
   "source": [
    "p4pm.to_timestamp()"
   ]
  },
  {
   "cell_type": "code",
   "execution_count": 188,
   "metadata": {},
   "outputs": [],
   "source": [
    "rng = pd.period_range('2011Q3', '2012Q4', freq='Q-JAN')"
   ]
  },
  {
   "cell_type": "code",
   "execution_count": 189,
   "metadata": {},
   "outputs": [],
   "source": [
    "ts = pd.Series(np.arange(len(rng)), index=rng)"
   ]
  },
  {
   "cell_type": "code",
   "execution_count": 190,
   "metadata": {},
   "outputs": [
    {
     "output_type": "execute_result",
     "data": {
      "text/plain": [
       "2011Q3    0\n",
       "2011Q4    1\n",
       "2012Q1    2\n",
       "2012Q2    3\n",
       "2012Q3    4\n",
       "2012Q4    5\n",
       "Freq: Q-JAN, dtype: int32"
      ]
     },
     "metadata": {},
     "execution_count": 190
    }
   ],
   "source": [
    "ts"
   ]
  },
  {
   "cell_type": "code",
   "execution_count": 191,
   "metadata": {},
   "outputs": [],
   "source": [
    "new_rng = (rng.asfreq('B', 'e') - 1).asfreq('T', 's') + 16 * 60"
   ]
  },
  {
   "cell_type": "code",
   "execution_count": 192,
   "metadata": {},
   "outputs": [],
   "source": [
    "ts.index = new_rng.to_timestamp()"
   ]
  },
  {
   "cell_type": "code",
   "execution_count": 193,
   "metadata": {},
   "outputs": [
    {
     "output_type": "execute_result",
     "data": {
      "text/plain": [
       "2010-10-28 16:00:00    0\n",
       "2011-01-28 16:00:00    1\n",
       "2011-04-28 16:00:00    2\n",
       "2011-07-28 16:00:00    3\n",
       "2011-10-28 16:00:00    4\n",
       "2012-01-30 16:00:00    5\n",
       "dtype: int32"
      ]
     },
     "metadata": {},
     "execution_count": 193
    }
   ],
   "source": [
    "ts"
   ]
  },
  {
   "source": [
    "## COVERTING TIMESTAMS TO PERIODS (AND BACK)"
   ],
   "cell_type": "markdown",
   "metadata": {}
  },
  {
   "cell_type": "code",
   "execution_count": 194,
   "metadata": {},
   "outputs": [],
   "source": [
    "rng = pd.date_range('2000-01-01', periods=3, freq='M')"
   ]
  },
  {
   "cell_type": "code",
   "execution_count": 195,
   "metadata": {},
   "outputs": [
    {
     "output_type": "execute_result",
     "data": {
      "text/plain": [
       "DatetimeIndex(['2000-01-31', '2000-02-29', '2000-03-31'], dtype='datetime64[ns]', freq='M')"
      ]
     },
     "metadata": {},
     "execution_count": 195
    }
   ],
   "source": [
    "rng"
   ]
  },
  {
   "cell_type": "code",
   "execution_count": 196,
   "metadata": {},
   "outputs": [],
   "source": [
    "ts = pd.Series(np.random.rand(3), index=rng)"
   ]
  },
  {
   "cell_type": "code",
   "execution_count": 197,
   "metadata": {},
   "outputs": [
    {
     "output_type": "execute_result",
     "data": {
      "text/plain": [
       "2000-01-31    0.715386\n",
       "2000-02-29    0.300618\n",
       "2000-03-31    0.472957\n",
       "Freq: M, dtype: float64"
      ]
     },
     "metadata": {},
     "execution_count": 197
    }
   ],
   "source": [
    "ts"
   ]
  },
  {
   "cell_type": "code",
   "execution_count": 198,
   "metadata": {},
   "outputs": [],
   "source": [
    "pts = ts.to_period()"
   ]
  },
  {
   "cell_type": "code",
   "execution_count": 199,
   "metadata": {},
   "outputs": [
    {
     "output_type": "execute_result",
     "data": {
      "text/plain": [
       "2000-01    0.715386\n",
       "2000-02    0.300618\n",
       "2000-03    0.472957\n",
       "Freq: M, dtype: float64"
      ]
     },
     "metadata": {},
     "execution_count": 199
    }
   ],
   "source": [
    "pts"
   ]
  },
  {
   "cell_type": "code",
   "execution_count": 200,
   "metadata": {},
   "outputs": [],
   "source": [
    " rng = pd.date_range('1/29/2000', periods=6, freq='D')"
   ]
  },
  {
   "cell_type": "code",
   "execution_count": 201,
   "metadata": {},
   "outputs": [
    {
     "output_type": "execute_result",
     "data": {
      "text/plain": [
       "DatetimeIndex(['2000-01-29', '2000-01-30', '2000-01-31', '2000-02-01',\n",
       "               '2000-02-02', '2000-02-03'],\n",
       "              dtype='datetime64[ns]', freq='D')"
      ]
     },
     "metadata": {},
     "execution_count": 201
    }
   ],
   "source": [
    "rng"
   ]
  },
  {
   "cell_type": "code",
   "execution_count": 202,
   "metadata": {},
   "outputs": [],
   "source": [
    "ts2 = pd.Series(np.random.rand(6), index=rng)"
   ]
  },
  {
   "cell_type": "code",
   "execution_count": 203,
   "metadata": {},
   "outputs": [
    {
     "output_type": "execute_result",
     "data": {
      "text/plain": [
       "2000-01-29    0.914627\n",
       "2000-01-30    0.684752\n",
       "2000-01-31    0.067323\n",
       "2000-02-01    0.609440\n",
       "2000-02-02    0.451078\n",
       "2000-02-03    0.449905\n",
       "Freq: D, dtype: float64"
      ]
     },
     "metadata": {},
     "execution_count": 203
    }
   ],
   "source": [
    "ts2"
   ]
  },
  {
   "cell_type": "code",
   "execution_count": 204,
   "metadata": {},
   "outputs": [
    {
     "output_type": "execute_result",
     "data": {
      "text/plain": [
       "2000-01    0.914627\n",
       "2000-01    0.684752\n",
       "2000-01    0.067323\n",
       "2000-02    0.609440\n",
       "2000-02    0.451078\n",
       "2000-02    0.449905\n",
       "Freq: M, dtype: float64"
      ]
     },
     "metadata": {},
     "execution_count": 204
    }
   ],
   "source": [
    "ts2.to_period('M')"
   ]
  },
  {
   "cell_type": "code",
   "execution_count": 205,
   "metadata": {},
   "outputs": [],
   "source": [
    "pts = ts2.to_period()"
   ]
  },
  {
   "cell_type": "code",
   "execution_count": 206,
   "metadata": {},
   "outputs": [
    {
     "output_type": "execute_result",
     "data": {
      "text/plain": [
       "2000-01-29    0.914627\n",
       "2000-01-30    0.684752\n",
       "2000-01-31    0.067323\n",
       "2000-02-01    0.609440\n",
       "2000-02-02    0.451078\n",
       "2000-02-03    0.449905\n",
       "Freq: D, dtype: float64"
      ]
     },
     "metadata": {},
     "execution_count": 206
    }
   ],
   "source": [
    "pts"
   ]
  },
  {
   "cell_type": "code",
   "execution_count": 207,
   "metadata": {},
   "outputs": [
    {
     "output_type": "execute_result",
     "data": {
      "text/plain": [
       "2000-01-29 23:59:59.999999999    0.914627\n",
       "2000-01-30 23:59:59.999999999    0.684752\n",
       "2000-01-31 23:59:59.999999999    0.067323\n",
       "2000-02-01 23:59:59.999999999    0.609440\n",
       "2000-02-02 23:59:59.999999999    0.451078\n",
       "2000-02-03 23:59:59.999999999    0.449905\n",
       "Freq: D, dtype: float64"
      ]
     },
     "metadata": {},
     "execution_count": 207
    }
   ],
   "source": [
    "pts.to_timestamp(how='end')"
   ]
  },
  {
   "source": [
    "##  CREATING A PERIOD INDEX FROM ARRAYS"
   ],
   "cell_type": "markdown",
   "metadata": {}
  },
  {
   "cell_type": "code",
   "execution_count": 208,
   "metadata": {},
   "outputs": [],
   "source": [
    "data = pd.read_csv('examples/macrodata.csv')"
   ]
  },
  {
   "cell_type": "code",
   "execution_count": 209,
   "metadata": {},
   "outputs": [
    {
     "output_type": "execute_result",
     "data": {
      "text/plain": [
       "     year  quarter   realgdp  realcons  realinv  realgovt  realdpi    cpi  \\\n",
       "0  1959.0      1.0  2710.349    1707.4  286.898   470.045   1886.9  28.98   \n",
       "1  1959.0      2.0  2778.801    1733.7  310.859   481.301   1919.7  29.15   \n",
       "2  1959.0      3.0  2775.488    1751.8  289.226   491.260   1916.4  29.35   \n",
       "3  1959.0      4.0  2785.204    1753.7  299.356   484.052   1931.3  29.37   \n",
       "4  1960.0      1.0  2847.699    1770.5  331.722   462.199   1955.5  29.54   \n",
       "\n",
       "      m1  tbilrate  unemp      pop  infl  realint  \n",
       "0  139.7      2.82    5.8  177.146  0.00     0.00  \n",
       "1  141.7      3.08    5.1  177.830  2.34     0.74  \n",
       "2  140.5      3.82    5.3  178.657  2.74     1.09  \n",
       "3  140.0      4.33    5.6  179.386  0.27     4.06  \n",
       "4  139.6      3.50    5.2  180.007  2.31     1.19  "
      ],
      "text/html": "<div>\n<style scoped>\n    .dataframe tbody tr th:only-of-type {\n        vertical-align: middle;\n    }\n\n    .dataframe tbody tr th {\n        vertical-align: top;\n    }\n\n    .dataframe thead th {\n        text-align: right;\n    }\n</style>\n<table border=\"1\" class=\"dataframe\">\n  <thead>\n    <tr style=\"text-align: right;\">\n      <th></th>\n      <th>year</th>\n      <th>quarter</th>\n      <th>realgdp</th>\n      <th>realcons</th>\n      <th>realinv</th>\n      <th>realgovt</th>\n      <th>realdpi</th>\n      <th>cpi</th>\n      <th>m1</th>\n      <th>tbilrate</th>\n      <th>unemp</th>\n      <th>pop</th>\n      <th>infl</th>\n      <th>realint</th>\n    </tr>\n  </thead>\n  <tbody>\n    <tr>\n      <th>0</th>\n      <td>1959.0</td>\n      <td>1.0</td>\n      <td>2710.349</td>\n      <td>1707.4</td>\n      <td>286.898</td>\n      <td>470.045</td>\n      <td>1886.9</td>\n      <td>28.98</td>\n      <td>139.7</td>\n      <td>2.82</td>\n      <td>5.8</td>\n      <td>177.146</td>\n      <td>0.00</td>\n      <td>0.00</td>\n    </tr>\n    <tr>\n      <th>1</th>\n      <td>1959.0</td>\n      <td>2.0</td>\n      <td>2778.801</td>\n      <td>1733.7</td>\n      <td>310.859</td>\n      <td>481.301</td>\n      <td>1919.7</td>\n      <td>29.15</td>\n      <td>141.7</td>\n      <td>3.08</td>\n      <td>5.1</td>\n      <td>177.830</td>\n      <td>2.34</td>\n      <td>0.74</td>\n    </tr>\n    <tr>\n      <th>2</th>\n      <td>1959.0</td>\n      <td>3.0</td>\n      <td>2775.488</td>\n      <td>1751.8</td>\n      <td>289.226</td>\n      <td>491.260</td>\n      <td>1916.4</td>\n      <td>29.35</td>\n      <td>140.5</td>\n      <td>3.82</td>\n      <td>5.3</td>\n      <td>178.657</td>\n      <td>2.74</td>\n      <td>1.09</td>\n    </tr>\n    <tr>\n      <th>3</th>\n      <td>1959.0</td>\n      <td>4.0</td>\n      <td>2785.204</td>\n      <td>1753.7</td>\n      <td>299.356</td>\n      <td>484.052</td>\n      <td>1931.3</td>\n      <td>29.37</td>\n      <td>140.0</td>\n      <td>4.33</td>\n      <td>5.6</td>\n      <td>179.386</td>\n      <td>0.27</td>\n      <td>4.06</td>\n    </tr>\n    <tr>\n      <th>4</th>\n      <td>1960.0</td>\n      <td>1.0</td>\n      <td>2847.699</td>\n      <td>1770.5</td>\n      <td>331.722</td>\n      <td>462.199</td>\n      <td>1955.5</td>\n      <td>29.54</td>\n      <td>139.6</td>\n      <td>3.50</td>\n      <td>5.2</td>\n      <td>180.007</td>\n      <td>2.31</td>\n      <td>1.19</td>\n    </tr>\n  </tbody>\n</table>\n</div>"
     },
     "metadata": {},
     "execution_count": 209
    }
   ],
   "source": [
    "data.head(5)"
   ]
  },
  {
   "cell_type": "code",
   "execution_count": 210,
   "metadata": {},
   "outputs": [
    {
     "output_type": "execute_result",
     "data": {
      "text/plain": [
       "0      1959.0\n",
       "1      1959.0\n",
       "2      1959.0\n",
       "3      1959.0\n",
       "4      1960.0\n",
       "        ...  \n",
       "198    2008.0\n",
       "199    2008.0\n",
       "200    2009.0\n",
       "201    2009.0\n",
       "202    2009.0\n",
       "Name: year, Length: 203, dtype: float64"
      ]
     },
     "metadata": {},
     "execution_count": 210
    }
   ],
   "source": [
    "data.year"
   ]
  },
  {
   "cell_type": "code",
   "execution_count": 211,
   "metadata": {},
   "outputs": [
    {
     "output_type": "execute_result",
     "data": {
      "text/plain": [
       "0      1.0\n",
       "1      2.0\n",
       "2      3.0\n",
       "3      4.0\n",
       "4      1.0\n",
       "      ... \n",
       "198    3.0\n",
       "199    4.0\n",
       "200    1.0\n",
       "201    2.0\n",
       "202    3.0\n",
       "Name: quarter, Length: 203, dtype: float64"
      ]
     },
     "metadata": {},
     "execution_count": 211
    }
   ],
   "source": [
    "data.quarter"
   ]
  },
  {
   "cell_type": "code",
   "execution_count": 212,
   "metadata": {},
   "outputs": [],
   "source": [
    "index = pd.PeriodIndex(year=data.year,\n",
    "                       quarter=data.quarter,\n",
    "                       freq='Q-DEC'\n",
    ")"
   ]
  },
  {
   "cell_type": "code",
   "execution_count": 213,
   "metadata": {},
   "outputs": [
    {
     "output_type": "execute_result",
     "data": {
      "text/plain": [
       "PeriodIndex(['1959Q1', '1959Q2', '1959Q3', '1959Q4', '1960Q1', '1960Q2',\n",
       "             '1960Q3', '1960Q4', '1961Q1', '1961Q2',\n",
       "             ...\n",
       "             '2007Q2', '2007Q3', '2007Q4', '2008Q1', '2008Q2', '2008Q3',\n",
       "             '2008Q4', '2009Q1', '2009Q2', '2009Q3'],\n",
       "            dtype='period[Q-DEC]', length=203, freq='Q-DEC')"
      ]
     },
     "metadata": {},
     "execution_count": 213
    }
   ],
   "source": [
    "index"
   ]
  },
  {
   "cell_type": "code",
   "execution_count": 214,
   "metadata": {},
   "outputs": [],
   "source": [
    "data.index = index"
   ]
  },
  {
   "cell_type": "code",
   "execution_count": 215,
   "metadata": {},
   "outputs": [
    {
     "output_type": "execute_result",
     "data": {
      "text/plain": [
       "          year  quarter    realgdp  realcons   realinv  realgovt  realdpi  \\\n",
       "1959Q1  1959.0      1.0   2710.349    1707.4   286.898   470.045   1886.9   \n",
       "1959Q2  1959.0      2.0   2778.801    1733.7   310.859   481.301   1919.7   \n",
       "1959Q3  1959.0      3.0   2775.488    1751.8   289.226   491.260   1916.4   \n",
       "1959Q4  1959.0      4.0   2785.204    1753.7   299.356   484.052   1931.3   \n",
       "1960Q1  1960.0      1.0   2847.699    1770.5   331.722   462.199   1955.5   \n",
       "...        ...      ...        ...       ...       ...       ...      ...   \n",
       "2008Q3  2008.0      3.0  13324.600    9267.7  1990.693   991.551   9838.3   \n",
       "2008Q4  2008.0      4.0  13141.920    9195.3  1857.661  1007.273   9920.4   \n",
       "2009Q1  2009.0      1.0  12925.410    9209.2  1558.494   996.287   9926.4   \n",
       "2009Q2  2009.0      2.0  12901.504    9189.0  1456.678  1023.528  10077.5   \n",
       "2009Q3  2009.0      3.0  12990.341    9256.0  1486.398  1044.088  10040.6   \n",
       "\n",
       "            cpi      m1  tbilrate  unemp      pop  infl  realint  \n",
       "1959Q1   28.980   139.7      2.82    5.8  177.146  0.00     0.00  \n",
       "1959Q2   29.150   141.7      3.08    5.1  177.830  2.34     0.74  \n",
       "1959Q3   29.350   140.5      3.82    5.3  178.657  2.74     1.09  \n",
       "1959Q4   29.370   140.0      4.33    5.6  179.386  0.27     4.06  \n",
       "1960Q1   29.540   139.6      3.50    5.2  180.007  2.31     1.19  \n",
       "...         ...     ...       ...    ...      ...   ...      ...  \n",
       "2008Q3  216.889  1474.7      1.17    6.0  305.270 -3.16     4.33  \n",
       "2008Q4  212.174  1576.5      0.12    6.9  305.952 -8.79     8.91  \n",
       "2009Q1  212.671  1592.8      0.22    8.1  306.547  0.94    -0.71  \n",
       "2009Q2  214.469  1653.6      0.18    9.2  307.226  3.37    -3.19  \n",
       "2009Q3  216.385  1673.9      0.12    9.6  308.013  3.56    -3.44  \n",
       "\n",
       "[203 rows x 14 columns]"
      ],
      "text/html": "<div>\n<style scoped>\n    .dataframe tbody tr th:only-of-type {\n        vertical-align: middle;\n    }\n\n    .dataframe tbody tr th {\n        vertical-align: top;\n    }\n\n    .dataframe thead th {\n        text-align: right;\n    }\n</style>\n<table border=\"1\" class=\"dataframe\">\n  <thead>\n    <tr style=\"text-align: right;\">\n      <th></th>\n      <th>year</th>\n      <th>quarter</th>\n      <th>realgdp</th>\n      <th>realcons</th>\n      <th>realinv</th>\n      <th>realgovt</th>\n      <th>realdpi</th>\n      <th>cpi</th>\n      <th>m1</th>\n      <th>tbilrate</th>\n      <th>unemp</th>\n      <th>pop</th>\n      <th>infl</th>\n      <th>realint</th>\n    </tr>\n  </thead>\n  <tbody>\n    <tr>\n      <th>1959Q1</th>\n      <td>1959.0</td>\n      <td>1.0</td>\n      <td>2710.349</td>\n      <td>1707.4</td>\n      <td>286.898</td>\n      <td>470.045</td>\n      <td>1886.9</td>\n      <td>28.980</td>\n      <td>139.7</td>\n      <td>2.82</td>\n      <td>5.8</td>\n      <td>177.146</td>\n      <td>0.00</td>\n      <td>0.00</td>\n    </tr>\n    <tr>\n      <th>1959Q2</th>\n      <td>1959.0</td>\n      <td>2.0</td>\n      <td>2778.801</td>\n      <td>1733.7</td>\n      <td>310.859</td>\n      <td>481.301</td>\n      <td>1919.7</td>\n      <td>29.150</td>\n      <td>141.7</td>\n      <td>3.08</td>\n      <td>5.1</td>\n      <td>177.830</td>\n      <td>2.34</td>\n      <td>0.74</td>\n    </tr>\n    <tr>\n      <th>1959Q3</th>\n      <td>1959.0</td>\n      <td>3.0</td>\n      <td>2775.488</td>\n      <td>1751.8</td>\n      <td>289.226</td>\n      <td>491.260</td>\n      <td>1916.4</td>\n      <td>29.350</td>\n      <td>140.5</td>\n      <td>3.82</td>\n      <td>5.3</td>\n      <td>178.657</td>\n      <td>2.74</td>\n      <td>1.09</td>\n    </tr>\n    <tr>\n      <th>1959Q4</th>\n      <td>1959.0</td>\n      <td>4.0</td>\n      <td>2785.204</td>\n      <td>1753.7</td>\n      <td>299.356</td>\n      <td>484.052</td>\n      <td>1931.3</td>\n      <td>29.370</td>\n      <td>140.0</td>\n      <td>4.33</td>\n      <td>5.6</td>\n      <td>179.386</td>\n      <td>0.27</td>\n      <td>4.06</td>\n    </tr>\n    <tr>\n      <th>1960Q1</th>\n      <td>1960.0</td>\n      <td>1.0</td>\n      <td>2847.699</td>\n      <td>1770.5</td>\n      <td>331.722</td>\n      <td>462.199</td>\n      <td>1955.5</td>\n      <td>29.540</td>\n      <td>139.6</td>\n      <td>3.50</td>\n      <td>5.2</td>\n      <td>180.007</td>\n      <td>2.31</td>\n      <td>1.19</td>\n    </tr>\n    <tr>\n      <th>...</th>\n      <td>...</td>\n      <td>...</td>\n      <td>...</td>\n      <td>...</td>\n      <td>...</td>\n      <td>...</td>\n      <td>...</td>\n      <td>...</td>\n      <td>...</td>\n      <td>...</td>\n      <td>...</td>\n      <td>...</td>\n      <td>...</td>\n      <td>...</td>\n    </tr>\n    <tr>\n      <th>2008Q3</th>\n      <td>2008.0</td>\n      <td>3.0</td>\n      <td>13324.600</td>\n      <td>9267.7</td>\n      <td>1990.693</td>\n      <td>991.551</td>\n      <td>9838.3</td>\n      <td>216.889</td>\n      <td>1474.7</td>\n      <td>1.17</td>\n      <td>6.0</td>\n      <td>305.270</td>\n      <td>-3.16</td>\n      <td>4.33</td>\n    </tr>\n    <tr>\n      <th>2008Q4</th>\n      <td>2008.0</td>\n      <td>4.0</td>\n      <td>13141.920</td>\n      <td>9195.3</td>\n      <td>1857.661</td>\n      <td>1007.273</td>\n      <td>9920.4</td>\n      <td>212.174</td>\n      <td>1576.5</td>\n      <td>0.12</td>\n      <td>6.9</td>\n      <td>305.952</td>\n      <td>-8.79</td>\n      <td>8.91</td>\n    </tr>\n    <tr>\n      <th>2009Q1</th>\n      <td>2009.0</td>\n      <td>1.0</td>\n      <td>12925.410</td>\n      <td>9209.2</td>\n      <td>1558.494</td>\n      <td>996.287</td>\n      <td>9926.4</td>\n      <td>212.671</td>\n      <td>1592.8</td>\n      <td>0.22</td>\n      <td>8.1</td>\n      <td>306.547</td>\n      <td>0.94</td>\n      <td>-0.71</td>\n    </tr>\n    <tr>\n      <th>2009Q2</th>\n      <td>2009.0</td>\n      <td>2.0</td>\n      <td>12901.504</td>\n      <td>9189.0</td>\n      <td>1456.678</td>\n      <td>1023.528</td>\n      <td>10077.5</td>\n      <td>214.469</td>\n      <td>1653.6</td>\n      <td>0.18</td>\n      <td>9.2</td>\n      <td>307.226</td>\n      <td>3.37</td>\n      <td>-3.19</td>\n    </tr>\n    <tr>\n      <th>2009Q3</th>\n      <td>2009.0</td>\n      <td>3.0</td>\n      <td>12990.341</td>\n      <td>9256.0</td>\n      <td>1486.398</td>\n      <td>1044.088</td>\n      <td>10040.6</td>\n      <td>216.385</td>\n      <td>1673.9</td>\n      <td>0.12</td>\n      <td>9.6</td>\n      <td>308.013</td>\n      <td>3.56</td>\n      <td>-3.44</td>\n    </tr>\n  </tbody>\n</table>\n<p>203 rows × 14 columns</p>\n</div>"
     },
     "metadata": {},
     "execution_count": 215
    }
   ],
   "source": [
    "data"
   ]
  },
  {
   "cell_type": "code",
   "execution_count": 216,
   "metadata": {},
   "outputs": [
    {
     "output_type": "execute_result",
     "data": {
      "text/plain": [
       "1959Q1    0.00\n",
       "1959Q2    2.34\n",
       "1959Q3    2.74\n",
       "1959Q4    0.27\n",
       "1960Q1    2.31\n",
       "          ... \n",
       "2008Q3   -3.16\n",
       "2008Q4   -8.79\n",
       "2009Q1    0.94\n",
       "2009Q2    3.37\n",
       "2009Q3    3.56\n",
       "Freq: Q-DEC, Name: infl, Length: 203, dtype: float64"
      ]
     },
     "metadata": {},
     "execution_count": 216
    }
   ],
   "source": [
    "data.infl"
   ]
  },
  {
   "source": [
    "## RESAMPLING AND FREQUENCY CONVERSION"
   ],
   "cell_type": "markdown",
   "metadata": {}
  },
  {
   "cell_type": "code",
   "execution_count": 217,
   "metadata": {},
   "outputs": [],
   "source": [
    "rng = pd.date_range('2000-01-01', periods=100, freq='D')"
   ]
  },
  {
   "cell_type": "code",
   "execution_count": 218,
   "metadata": {},
   "outputs": [
    {
     "output_type": "execute_result",
     "data": {
      "text/plain": [
       "DatetimeIndex(['2000-01-01', '2000-01-02', '2000-01-03', '2000-01-04',\n",
       "               '2000-01-05', '2000-01-06', '2000-01-07', '2000-01-08',\n",
       "               '2000-01-09', '2000-01-10', '2000-01-11', '2000-01-12',\n",
       "               '2000-01-13', '2000-01-14', '2000-01-15', '2000-01-16',\n",
       "               '2000-01-17', '2000-01-18', '2000-01-19', '2000-01-20',\n",
       "               '2000-01-21', '2000-01-22', '2000-01-23', '2000-01-24',\n",
       "               '2000-01-25', '2000-01-26', '2000-01-27', '2000-01-28',\n",
       "               '2000-01-29', '2000-01-30', '2000-01-31', '2000-02-01',\n",
       "               '2000-02-02', '2000-02-03', '2000-02-04', '2000-02-05',\n",
       "               '2000-02-06', '2000-02-07', '2000-02-08', '2000-02-09',\n",
       "               '2000-02-10', '2000-02-11', '2000-02-12', '2000-02-13',\n",
       "               '2000-02-14', '2000-02-15', '2000-02-16', '2000-02-17',\n",
       "               '2000-02-18', '2000-02-19', '2000-02-20', '2000-02-21',\n",
       "               '2000-02-22', '2000-02-23', '2000-02-24', '2000-02-25',\n",
       "               '2000-02-26', '2000-02-27', '2000-02-28', '2000-02-29',\n",
       "               '2000-03-01', '2000-03-02', '2000-03-03', '2000-03-04',\n",
       "               '2000-03-05', '2000-03-06', '2000-03-07', '2000-03-08',\n",
       "               '2000-03-09', '2000-03-10', '2000-03-11', '2000-03-12',\n",
       "               '2000-03-13', '2000-03-14', '2000-03-15', '2000-03-16',\n",
       "               '2000-03-17', '2000-03-18', '2000-03-19', '2000-03-20',\n",
       "               '2000-03-21', '2000-03-22', '2000-03-23', '2000-03-24',\n",
       "               '2000-03-25', '2000-03-26', '2000-03-27', '2000-03-28',\n",
       "               '2000-03-29', '2000-03-30', '2000-03-31', '2000-04-01',\n",
       "               '2000-04-02', '2000-04-03', '2000-04-04', '2000-04-05',\n",
       "               '2000-04-06', '2000-04-07', '2000-04-08', '2000-04-09'],\n",
       "              dtype='datetime64[ns]', freq='D')"
      ]
     },
     "metadata": {},
     "execution_count": 218
    }
   ],
   "source": [
    "rng"
   ]
  },
  {
   "cell_type": "code",
   "execution_count": 219,
   "metadata": {},
   "outputs": [],
   "source": [
    "ts = pd.Series(np.random.randn(len(rng)), index=rng)"
   ]
  },
  {
   "cell_type": "code",
   "execution_count": 220,
   "metadata": {},
   "outputs": [
    {
     "output_type": "execute_result",
     "data": {
      "text/plain": [
       "2000-01-01    0.778571\n",
       "2000-01-02   -1.387772\n",
       "2000-01-03   -0.443802\n",
       "2000-01-04    0.603063\n",
       "2000-01-05   -1.513101\n",
       "                ...   \n",
       "2000-04-05    0.964172\n",
       "2000-04-06   -0.937178\n",
       "2000-04-07    0.423813\n",
       "2000-04-08   -0.697209\n",
       "2000-04-09    0.837762\n",
       "Freq: D, Length: 100, dtype: float64"
      ]
     },
     "metadata": {},
     "execution_count": 220
    }
   ],
   "source": [
    "ts"
   ]
  },
  {
   "cell_type": "code",
   "execution_count": 221,
   "metadata": {},
   "outputs": [
    {
     "output_type": "execute_result",
     "data": {
      "text/plain": [
       "2000-01-31   -0.206093\n",
       "2000-02-29   -0.149288\n",
       "2000-03-31    0.080607\n",
       "2000-04-30    0.198426\n",
       "Freq: M, dtype: float64"
      ]
     },
     "metadata": {},
     "execution_count": 221
    }
   ],
   "source": [
    "ts.resample('M').mean()"
   ]
  },
  {
   "cell_type": "code",
   "execution_count": 222,
   "metadata": {},
   "outputs": [
    {
     "output_type": "execute_result",
     "data": {
      "text/plain": [
       "2000-01-01    0.778571\n",
       "2000-01-02   -1.387772\n",
       "2000-01-03   -0.443802\n",
       "2000-01-04    0.603063\n",
       "2000-01-05   -1.513101\n",
       "                ...   \n",
       "2000-04-05    0.964172\n",
       "2000-04-06   -0.937178\n",
       "2000-04-07    0.423813\n",
       "2000-04-08   -0.697209\n",
       "2000-04-09    0.837762\n",
       "Freq: D, Length: 100, dtype: float64"
      ]
     },
     "metadata": {},
     "execution_count": 222
    }
   ],
   "source": [
    "ts"
   ]
  },
  {
   "cell_type": "code",
   "execution_count": 223,
   "metadata": {},
   "outputs": [
    {
     "output_type": "execute_result",
     "data": {
      "text/plain": [
       "2000-01   -0.206093\n",
       "2000-02   -0.149288\n",
       "2000-03    0.080607\n",
       "2000-04    0.198426\n",
       "Freq: M, dtype: float64"
      ]
     },
     "metadata": {},
     "execution_count": 223
    }
   ],
   "source": [
    "ts.resample('M', kind='period').mean()"
   ]
  },
  {
   "source": [
    "## DOWNSAMPLING"
   ],
   "cell_type": "markdown",
   "metadata": {}
  },
  {
   "cell_type": "code",
   "execution_count": 224,
   "metadata": {},
   "outputs": [],
   "source": [
    "rng = pd.date_range('2000-01-01', periods=12, freq='T')"
   ]
  },
  {
   "cell_type": "code",
   "execution_count": 225,
   "metadata": {},
   "outputs": [
    {
     "output_type": "execute_result",
     "data": {
      "text/plain": [
       "DatetimeIndex(['2000-01-01 00:00:00', '2000-01-01 00:01:00',\n",
       "               '2000-01-01 00:02:00', '2000-01-01 00:03:00',\n",
       "               '2000-01-01 00:04:00', '2000-01-01 00:05:00',\n",
       "               '2000-01-01 00:06:00', '2000-01-01 00:07:00',\n",
       "               '2000-01-01 00:08:00', '2000-01-01 00:09:00',\n",
       "               '2000-01-01 00:10:00', '2000-01-01 00:11:00'],\n",
       "              dtype='datetime64[ns]', freq='T')"
      ]
     },
     "metadata": {},
     "execution_count": 225
    }
   ],
   "source": [
    "rng"
   ]
  },
  {
   "cell_type": "code",
   "execution_count": 226,
   "metadata": {},
   "outputs": [],
   "source": [
    "ts = pd.Series(np.arange(12), index=rng)"
   ]
  },
  {
   "cell_type": "code",
   "execution_count": 227,
   "metadata": {},
   "outputs": [
    {
     "output_type": "execute_result",
     "data": {
      "text/plain": [
       "2000-01-01 00:00:00     0\n",
       "2000-01-01 00:01:00     1\n",
       "2000-01-01 00:02:00     2\n",
       "2000-01-01 00:03:00     3\n",
       "2000-01-01 00:04:00     4\n",
       "2000-01-01 00:05:00     5\n",
       "2000-01-01 00:06:00     6\n",
       "2000-01-01 00:07:00     7\n",
       "2000-01-01 00:08:00     8\n",
       "2000-01-01 00:09:00     9\n",
       "2000-01-01 00:10:00    10\n",
       "2000-01-01 00:11:00    11\n",
       "Freq: T, dtype: int32"
      ]
     },
     "metadata": {},
     "execution_count": 227
    }
   ],
   "source": [
    "ts"
   ]
  },
  {
   "cell_type": "code",
   "execution_count": 228,
   "metadata": {},
   "outputs": [
    {
     "output_type": "execute_result",
     "data": {
      "text/plain": [
       "1999-12-31 23:55:00     0\n",
       "2000-01-01 00:00:00    15\n",
       "2000-01-01 00:05:00    40\n",
       "2000-01-01 00:10:00    11\n",
       "Freq: 5T, dtype: int32"
      ]
     },
     "metadata": {},
     "execution_count": 228
    }
   ],
   "source": [
    "ts.resample('5min', closed='right').sum()"
   ]
  },
  {
   "cell_type": "code",
   "execution_count": 229,
   "metadata": {},
   "outputs": [
    {
     "output_type": "execute_result",
     "data": {
      "text/plain": [
       "2000-01-01 00:00:00     0\n",
       "2000-01-01 00:05:00    15\n",
       "2000-01-01 00:10:00    40\n",
       "2000-01-01 00:15:00    11\n",
       "Freq: 5T, dtype: int32"
      ]
     },
     "metadata": {},
     "execution_count": 229
    }
   ],
   "source": [
    "ts.resample('5min', closed='right', label='right').sum()"
   ]
  },
  {
   "cell_type": "code",
   "execution_count": 230,
   "metadata": {},
   "outputs": [
    {
     "output_type": "stream",
     "name": "stderr",
     "text": [
      "<ipython-input-230-793d385fe06a>:1: FutureWarning: 'loffset' in .resample() and in Grouper() is deprecated.\n\n>>> df.resample(freq=\"3s\", loffset=\"8H\")\n\nbecomes:\n\n>>> from pandas.tseries.frequencies import to_offset\n>>> df = df.resample(freq=\"3s\").mean()\n>>> df.index = df.index.to_timestamp() + to_offset(\"8H\")\n\n  ts.resample('5min', closed='right', label='right', loffset='-1s').sum()\n"
     ]
    },
    {
     "output_type": "execute_result",
     "data": {
      "text/plain": [
       "1999-12-31 23:59:59     0\n",
       "2000-01-01 00:04:59    15\n",
       "2000-01-01 00:09:59    40\n",
       "2000-01-01 00:14:59    11\n",
       "Freq: 5T, dtype: int32"
      ]
     },
     "metadata": {},
     "execution_count": 230
    }
   ],
   "source": [
    "ts.resample('5min', closed='right', label='right', loffset='-1s').sum()"
   ]
  },
  {
   "cell_type": "code",
   "execution_count": 231,
   "metadata": {},
   "outputs": [
    {
     "output_type": "execute_result",
     "data": {
      "text/plain": [
       "                     open  high  low  close\n",
       "2000-01-01 00:00:00     0     4    0      4\n",
       "2000-01-01 00:05:00     5     9    5      9\n",
       "2000-01-01 00:10:00    10    11   10     11"
      ],
      "text/html": "<div>\n<style scoped>\n    .dataframe tbody tr th:only-of-type {\n        vertical-align: middle;\n    }\n\n    .dataframe tbody tr th {\n        vertical-align: top;\n    }\n\n    .dataframe thead th {\n        text-align: right;\n    }\n</style>\n<table border=\"1\" class=\"dataframe\">\n  <thead>\n    <tr style=\"text-align: right;\">\n      <th></th>\n      <th>open</th>\n      <th>high</th>\n      <th>low</th>\n      <th>close</th>\n    </tr>\n  </thead>\n  <tbody>\n    <tr>\n      <th>2000-01-01 00:00:00</th>\n      <td>0</td>\n      <td>4</td>\n      <td>0</td>\n      <td>4</td>\n    </tr>\n    <tr>\n      <th>2000-01-01 00:05:00</th>\n      <td>5</td>\n      <td>9</td>\n      <td>5</td>\n      <td>9</td>\n    </tr>\n    <tr>\n      <th>2000-01-01 00:10:00</th>\n      <td>10</td>\n      <td>11</td>\n      <td>10</td>\n      <td>11</td>\n    </tr>\n  </tbody>\n</table>\n</div>"
     },
     "metadata": {},
     "execution_count": 231
    }
   ],
   "source": [
    "ts.resample('5min').ohlc()"
   ]
  },
  {
   "source": [
    "## UPSAMPLING AND INTERPOLATION"
   ],
   "cell_type": "markdown",
   "metadata": {}
  },
  {
   "cell_type": "code",
   "execution_count": 233,
   "metadata": {},
   "outputs": [],
   "source": [
    "frame = pd.DataFrame(np.random.randn(2, 4),\n",
    "                     index =pd.date_range('1/1/2000',\n",
    "                                          periods=2,\n",
    "                                          freq='W-WED'),\n",
    "                    columns=['Colorado', 'Texas', 'New York', 'Ohio'])"
   ]
  },
  {
   "cell_type": "code",
   "execution_count": 234,
   "metadata": {},
   "outputs": [
    {
     "output_type": "execute_result",
     "data": {
      "text/plain": [
       "            Colorado     Texas  New York      Ohio\n",
       "2000-01-05 -0.437657  0.424963 -0.549250 -0.037466\n",
       "2000-01-12 -0.110231 -0.361400 -0.040273  0.463222"
      ],
      "text/html": "<div>\n<style scoped>\n    .dataframe tbody tr th:only-of-type {\n        vertical-align: middle;\n    }\n\n    .dataframe tbody tr th {\n        vertical-align: top;\n    }\n\n    .dataframe thead th {\n        text-align: right;\n    }\n</style>\n<table border=\"1\" class=\"dataframe\">\n  <thead>\n    <tr style=\"text-align: right;\">\n      <th></th>\n      <th>Colorado</th>\n      <th>Texas</th>\n      <th>New York</th>\n      <th>Ohio</th>\n    </tr>\n  </thead>\n  <tbody>\n    <tr>\n      <th>2000-01-05</th>\n      <td>-0.437657</td>\n      <td>0.424963</td>\n      <td>-0.549250</td>\n      <td>-0.037466</td>\n    </tr>\n    <tr>\n      <th>2000-01-12</th>\n      <td>-0.110231</td>\n      <td>-0.361400</td>\n      <td>-0.040273</td>\n      <td>0.463222</td>\n    </tr>\n  </tbody>\n</table>\n</div>"
     },
     "metadata": {},
     "execution_count": 234
    }
   ],
   "source": [
    "frame"
   ]
  },
  {
   "cell_type": "code",
   "execution_count": 235,
   "metadata": {},
   "outputs": [],
   "source": [
    "df_daily = frame.resample('D').asfreq()"
   ]
  },
  {
   "cell_type": "code",
   "execution_count": 236,
   "metadata": {},
   "outputs": [
    {
     "output_type": "execute_result",
     "data": {
      "text/plain": [
       "            Colorado     Texas  New York      Ohio\n",
       "2000-01-05 -0.437657  0.424963 -0.549250 -0.037466\n",
       "2000-01-06       NaN       NaN       NaN       NaN\n",
       "2000-01-07       NaN       NaN       NaN       NaN\n",
       "2000-01-08       NaN       NaN       NaN       NaN\n",
       "2000-01-09       NaN       NaN       NaN       NaN\n",
       "2000-01-10       NaN       NaN       NaN       NaN\n",
       "2000-01-11       NaN       NaN       NaN       NaN\n",
       "2000-01-12 -0.110231 -0.361400 -0.040273  0.463222"
      ],
      "text/html": "<div>\n<style scoped>\n    .dataframe tbody tr th:only-of-type {\n        vertical-align: middle;\n    }\n\n    .dataframe tbody tr th {\n        vertical-align: top;\n    }\n\n    .dataframe thead th {\n        text-align: right;\n    }\n</style>\n<table border=\"1\" class=\"dataframe\">\n  <thead>\n    <tr style=\"text-align: right;\">\n      <th></th>\n      <th>Colorado</th>\n      <th>Texas</th>\n      <th>New York</th>\n      <th>Ohio</th>\n    </tr>\n  </thead>\n  <tbody>\n    <tr>\n      <th>2000-01-05</th>\n      <td>-0.437657</td>\n      <td>0.424963</td>\n      <td>-0.549250</td>\n      <td>-0.037466</td>\n    </tr>\n    <tr>\n      <th>2000-01-06</th>\n      <td>NaN</td>\n      <td>NaN</td>\n      <td>NaN</td>\n      <td>NaN</td>\n    </tr>\n    <tr>\n      <th>2000-01-07</th>\n      <td>NaN</td>\n      <td>NaN</td>\n      <td>NaN</td>\n      <td>NaN</td>\n    </tr>\n    <tr>\n      <th>2000-01-08</th>\n      <td>NaN</td>\n      <td>NaN</td>\n      <td>NaN</td>\n      <td>NaN</td>\n    </tr>\n    <tr>\n      <th>2000-01-09</th>\n      <td>NaN</td>\n      <td>NaN</td>\n      <td>NaN</td>\n      <td>NaN</td>\n    </tr>\n    <tr>\n      <th>2000-01-10</th>\n      <td>NaN</td>\n      <td>NaN</td>\n      <td>NaN</td>\n      <td>NaN</td>\n    </tr>\n    <tr>\n      <th>2000-01-11</th>\n      <td>NaN</td>\n      <td>NaN</td>\n      <td>NaN</td>\n      <td>NaN</td>\n    </tr>\n    <tr>\n      <th>2000-01-12</th>\n      <td>-0.110231</td>\n      <td>-0.361400</td>\n      <td>-0.040273</td>\n      <td>0.463222</td>\n    </tr>\n  </tbody>\n</table>\n</div>"
     },
     "metadata": {},
     "execution_count": 236
    }
   ],
   "source": [
    "df_daily"
   ]
  },
  {
   "cell_type": "code",
   "execution_count": 237,
   "metadata": {},
   "outputs": [
    {
     "output_type": "execute_result",
     "data": {
      "text/plain": [
       "            Colorado     Texas  New York      Ohio\n",
       "2000-01-05 -0.437657  0.424963 -0.549250 -0.037466\n",
       "2000-01-06 -0.437657  0.424963 -0.549250 -0.037466\n",
       "2000-01-07 -0.437657  0.424963 -0.549250 -0.037466\n",
       "2000-01-08 -0.437657  0.424963 -0.549250 -0.037466\n",
       "2000-01-09 -0.437657  0.424963 -0.549250 -0.037466\n",
       "2000-01-10 -0.437657  0.424963 -0.549250 -0.037466\n",
       "2000-01-11 -0.437657  0.424963 -0.549250 -0.037466\n",
       "2000-01-12 -0.110231 -0.361400 -0.040273  0.463222"
      ],
      "text/html": "<div>\n<style scoped>\n    .dataframe tbody tr th:only-of-type {\n        vertical-align: middle;\n    }\n\n    .dataframe tbody tr th {\n        vertical-align: top;\n    }\n\n    .dataframe thead th {\n        text-align: right;\n    }\n</style>\n<table border=\"1\" class=\"dataframe\">\n  <thead>\n    <tr style=\"text-align: right;\">\n      <th></th>\n      <th>Colorado</th>\n      <th>Texas</th>\n      <th>New York</th>\n      <th>Ohio</th>\n    </tr>\n  </thead>\n  <tbody>\n    <tr>\n      <th>2000-01-05</th>\n      <td>-0.437657</td>\n      <td>0.424963</td>\n      <td>-0.549250</td>\n      <td>-0.037466</td>\n    </tr>\n    <tr>\n      <th>2000-01-06</th>\n      <td>-0.437657</td>\n      <td>0.424963</td>\n      <td>-0.549250</td>\n      <td>-0.037466</td>\n    </tr>\n    <tr>\n      <th>2000-01-07</th>\n      <td>-0.437657</td>\n      <td>0.424963</td>\n      <td>-0.549250</td>\n      <td>-0.037466</td>\n    </tr>\n    <tr>\n      <th>2000-01-08</th>\n      <td>-0.437657</td>\n      <td>0.424963</td>\n      <td>-0.549250</td>\n      <td>-0.037466</td>\n    </tr>\n    <tr>\n      <th>2000-01-09</th>\n      <td>-0.437657</td>\n      <td>0.424963</td>\n      <td>-0.549250</td>\n      <td>-0.037466</td>\n    </tr>\n    <tr>\n      <th>2000-01-10</th>\n      <td>-0.437657</td>\n      <td>0.424963</td>\n      <td>-0.549250</td>\n      <td>-0.037466</td>\n    </tr>\n    <tr>\n      <th>2000-01-11</th>\n      <td>-0.437657</td>\n      <td>0.424963</td>\n      <td>-0.549250</td>\n      <td>-0.037466</td>\n    </tr>\n    <tr>\n      <th>2000-01-12</th>\n      <td>-0.110231</td>\n      <td>-0.361400</td>\n      <td>-0.040273</td>\n      <td>0.463222</td>\n    </tr>\n  </tbody>\n</table>\n</div>"
     },
     "metadata": {},
     "execution_count": 237
    }
   ],
   "source": [
    "frame.resample('D').ffill()"
   ]
  },
  {
   "cell_type": "code",
   "execution_count": 238,
   "metadata": {},
   "outputs": [
    {
     "output_type": "execute_result",
     "data": {
      "text/plain": [
       "            Colorado     Texas  New York      Ohio\n",
       "2000-01-05 -0.437657  0.424963 -0.549250 -0.037466\n",
       "2000-01-06 -0.437657  0.424963 -0.549250 -0.037466\n",
       "2000-01-07 -0.437657  0.424963 -0.549250 -0.037466\n",
       "2000-01-08       NaN       NaN       NaN       NaN\n",
       "2000-01-09       NaN       NaN       NaN       NaN\n",
       "2000-01-10       NaN       NaN       NaN       NaN\n",
       "2000-01-11       NaN       NaN       NaN       NaN\n",
       "2000-01-12 -0.110231 -0.361400 -0.040273  0.463222"
      ],
      "text/html": "<div>\n<style scoped>\n    .dataframe tbody tr th:only-of-type {\n        vertical-align: middle;\n    }\n\n    .dataframe tbody tr th {\n        vertical-align: top;\n    }\n\n    .dataframe thead th {\n        text-align: right;\n    }\n</style>\n<table border=\"1\" class=\"dataframe\">\n  <thead>\n    <tr style=\"text-align: right;\">\n      <th></th>\n      <th>Colorado</th>\n      <th>Texas</th>\n      <th>New York</th>\n      <th>Ohio</th>\n    </tr>\n  </thead>\n  <tbody>\n    <tr>\n      <th>2000-01-05</th>\n      <td>-0.437657</td>\n      <td>0.424963</td>\n      <td>-0.549250</td>\n      <td>-0.037466</td>\n    </tr>\n    <tr>\n      <th>2000-01-06</th>\n      <td>-0.437657</td>\n      <td>0.424963</td>\n      <td>-0.549250</td>\n      <td>-0.037466</td>\n    </tr>\n    <tr>\n      <th>2000-01-07</th>\n      <td>-0.437657</td>\n      <td>0.424963</td>\n      <td>-0.549250</td>\n      <td>-0.037466</td>\n    </tr>\n    <tr>\n      <th>2000-01-08</th>\n      <td>NaN</td>\n      <td>NaN</td>\n      <td>NaN</td>\n      <td>NaN</td>\n    </tr>\n    <tr>\n      <th>2000-01-09</th>\n      <td>NaN</td>\n      <td>NaN</td>\n      <td>NaN</td>\n      <td>NaN</td>\n    </tr>\n    <tr>\n      <th>2000-01-10</th>\n      <td>NaN</td>\n      <td>NaN</td>\n      <td>NaN</td>\n      <td>NaN</td>\n    </tr>\n    <tr>\n      <th>2000-01-11</th>\n      <td>NaN</td>\n      <td>NaN</td>\n      <td>NaN</td>\n      <td>NaN</td>\n    </tr>\n    <tr>\n      <th>2000-01-12</th>\n      <td>-0.110231</td>\n      <td>-0.361400</td>\n      <td>-0.040273</td>\n      <td>0.463222</td>\n    </tr>\n  </tbody>\n</table>\n</div>"
     },
     "metadata": {},
     "execution_count": 238
    }
   ],
   "source": [
    "frame.resample('D').ffill(limit=2)"
   ]
  },
  {
   "cell_type": "code",
   "execution_count": 240,
   "metadata": {},
   "outputs": [
    {
     "output_type": "execute_result",
     "data": {
      "text/plain": [
       "            Colorado     Texas  New York      Ohio\n",
       "2000-01-06 -0.437657  0.424963 -0.549250 -0.037466\n",
       "2000-01-13 -0.110231 -0.361400 -0.040273  0.463222"
      ],
      "text/html": "<div>\n<style scoped>\n    .dataframe tbody tr th:only-of-type {\n        vertical-align: middle;\n    }\n\n    .dataframe tbody tr th {\n        vertical-align: top;\n    }\n\n    .dataframe thead th {\n        text-align: right;\n    }\n</style>\n<table border=\"1\" class=\"dataframe\">\n  <thead>\n    <tr style=\"text-align: right;\">\n      <th></th>\n      <th>Colorado</th>\n      <th>Texas</th>\n      <th>New York</th>\n      <th>Ohio</th>\n    </tr>\n  </thead>\n  <tbody>\n    <tr>\n      <th>2000-01-06</th>\n      <td>-0.437657</td>\n      <td>0.424963</td>\n      <td>-0.549250</td>\n      <td>-0.037466</td>\n    </tr>\n    <tr>\n      <th>2000-01-13</th>\n      <td>-0.110231</td>\n      <td>-0.361400</td>\n      <td>-0.040273</td>\n      <td>0.463222</td>\n    </tr>\n  </tbody>\n</table>\n</div>"
     },
     "metadata": {},
     "execution_count": 240
    }
   ],
   "source": [
    "frame.resample('W-THU').ffill()"
   ]
  },
  {
   "source": [
    "## RESAMPLING WITH PERIODS"
   ],
   "cell_type": "markdown",
   "metadata": {}
  },
  {
   "cell_type": "code",
   "execution_count": 241,
   "metadata": {},
   "outputs": [],
   "source": [
    "frame = pd.DataFrame(np.random.randn(24, 4),\n",
    "                     index=pd.period_range('1-2000', '12-2001',\n",
    "                                            freq='M'),\n",
    "                      columns=['Colorado', 'Texas', 'New York', 'Ohio'])"
   ]
  },
  {
   "cell_type": "code",
   "execution_count": 242,
   "metadata": {},
   "outputs": [
    {
     "output_type": "execute_result",
     "data": {
      "text/plain": [
       "         Colorado     Texas  New York      Ohio\n",
       "2000-01  0.385896 -0.036020  2.272944 -0.135390\n",
       "2000-02 -0.136769  0.247474 -0.689090 -0.669852\n",
       "2000-03  0.123872 -0.629506  1.022191  0.116971\n",
       "2000-04  2.490853  0.769335 -0.602553  1.076495\n",
       "2000-05 -0.776960 -0.257171  2.067551 -0.050201\n",
       "2000-06 -0.208644  1.301609 -0.944103  1.010191\n",
       "2000-07  1.985533 -0.498589  0.214587 -1.057481\n",
       "2000-08  1.367204 -0.388110 -1.089476  0.348099\n",
       "2000-09 -0.699235  1.085628 -1.175172  0.422778\n",
       "2000-10 -2.177902 -0.437479  1.067414  0.115067\n",
       "2000-11 -1.297773 -0.162594  0.366770 -0.040052\n",
       "2000-12 -1.375319  0.426202 -0.260238 -0.686304\n",
       "2001-01 -0.563746 -0.529612 -1.104627 -1.596482\n",
       "2001-02  0.862023  0.879342  0.894621 -0.285602\n",
       "2001-03 -0.811171 -0.293345 -0.638471 -1.165172\n",
       "2001-04 -0.441260 -1.066357  1.435864  1.463917\n",
       "2001-05  0.221091  0.394773 -0.659278 -0.264677\n",
       "2001-06 -0.418128  0.916630  0.296769  1.360436\n",
       "2001-07 -0.503009  0.259286  0.264301  0.899865\n",
       "2001-08 -0.073014 -0.279539 -0.005939  0.498125\n",
       "2001-09 -0.112335  1.081492 -0.085974 -0.936761\n",
       "2001-10  1.469021  0.072241  0.386858  0.663846\n",
       "2001-11  0.780281 -1.040309  0.615575  0.301379\n",
       "2001-12  0.792108 -1.308066  0.052069 -0.577845"
      ],
      "text/html": "<div>\n<style scoped>\n    .dataframe tbody tr th:only-of-type {\n        vertical-align: middle;\n    }\n\n    .dataframe tbody tr th {\n        vertical-align: top;\n    }\n\n    .dataframe thead th {\n        text-align: right;\n    }\n</style>\n<table border=\"1\" class=\"dataframe\">\n  <thead>\n    <tr style=\"text-align: right;\">\n      <th></th>\n      <th>Colorado</th>\n      <th>Texas</th>\n      <th>New York</th>\n      <th>Ohio</th>\n    </tr>\n  </thead>\n  <tbody>\n    <tr>\n      <th>2000-01</th>\n      <td>0.385896</td>\n      <td>-0.036020</td>\n      <td>2.272944</td>\n      <td>-0.135390</td>\n    </tr>\n    <tr>\n      <th>2000-02</th>\n      <td>-0.136769</td>\n      <td>0.247474</td>\n      <td>-0.689090</td>\n      <td>-0.669852</td>\n    </tr>\n    <tr>\n      <th>2000-03</th>\n      <td>0.123872</td>\n      <td>-0.629506</td>\n      <td>1.022191</td>\n      <td>0.116971</td>\n    </tr>\n    <tr>\n      <th>2000-04</th>\n      <td>2.490853</td>\n      <td>0.769335</td>\n      <td>-0.602553</td>\n      <td>1.076495</td>\n    </tr>\n    <tr>\n      <th>2000-05</th>\n      <td>-0.776960</td>\n      <td>-0.257171</td>\n      <td>2.067551</td>\n      <td>-0.050201</td>\n    </tr>\n    <tr>\n      <th>2000-06</th>\n      <td>-0.208644</td>\n      <td>1.301609</td>\n      <td>-0.944103</td>\n      <td>1.010191</td>\n    </tr>\n    <tr>\n      <th>2000-07</th>\n      <td>1.985533</td>\n      <td>-0.498589</td>\n      <td>0.214587</td>\n      <td>-1.057481</td>\n    </tr>\n    <tr>\n      <th>2000-08</th>\n      <td>1.367204</td>\n      <td>-0.388110</td>\n      <td>-1.089476</td>\n      <td>0.348099</td>\n    </tr>\n    <tr>\n      <th>2000-09</th>\n      <td>-0.699235</td>\n      <td>1.085628</td>\n      <td>-1.175172</td>\n      <td>0.422778</td>\n    </tr>\n    <tr>\n      <th>2000-10</th>\n      <td>-2.177902</td>\n      <td>-0.437479</td>\n      <td>1.067414</td>\n      <td>0.115067</td>\n    </tr>\n    <tr>\n      <th>2000-11</th>\n      <td>-1.297773</td>\n      <td>-0.162594</td>\n      <td>0.366770</td>\n      <td>-0.040052</td>\n    </tr>\n    <tr>\n      <th>2000-12</th>\n      <td>-1.375319</td>\n      <td>0.426202</td>\n      <td>-0.260238</td>\n      <td>-0.686304</td>\n    </tr>\n    <tr>\n      <th>2001-01</th>\n      <td>-0.563746</td>\n      <td>-0.529612</td>\n      <td>-1.104627</td>\n      <td>-1.596482</td>\n    </tr>\n    <tr>\n      <th>2001-02</th>\n      <td>0.862023</td>\n      <td>0.879342</td>\n      <td>0.894621</td>\n      <td>-0.285602</td>\n    </tr>\n    <tr>\n      <th>2001-03</th>\n      <td>-0.811171</td>\n      <td>-0.293345</td>\n      <td>-0.638471</td>\n      <td>-1.165172</td>\n    </tr>\n    <tr>\n      <th>2001-04</th>\n      <td>-0.441260</td>\n      <td>-1.066357</td>\n      <td>1.435864</td>\n      <td>1.463917</td>\n    </tr>\n    <tr>\n      <th>2001-05</th>\n      <td>0.221091</td>\n      <td>0.394773</td>\n      <td>-0.659278</td>\n      <td>-0.264677</td>\n    </tr>\n    <tr>\n      <th>2001-06</th>\n      <td>-0.418128</td>\n      <td>0.916630</td>\n      <td>0.296769</td>\n      <td>1.360436</td>\n    </tr>\n    <tr>\n      <th>2001-07</th>\n      <td>-0.503009</td>\n      <td>0.259286</td>\n      <td>0.264301</td>\n      <td>0.899865</td>\n    </tr>\n    <tr>\n      <th>2001-08</th>\n      <td>-0.073014</td>\n      <td>-0.279539</td>\n      <td>-0.005939</td>\n      <td>0.498125</td>\n    </tr>\n    <tr>\n      <th>2001-09</th>\n      <td>-0.112335</td>\n      <td>1.081492</td>\n      <td>-0.085974</td>\n      <td>-0.936761</td>\n    </tr>\n    <tr>\n      <th>2001-10</th>\n      <td>1.469021</td>\n      <td>0.072241</td>\n      <td>0.386858</td>\n      <td>0.663846</td>\n    </tr>\n    <tr>\n      <th>2001-11</th>\n      <td>0.780281</td>\n      <td>-1.040309</td>\n      <td>0.615575</td>\n      <td>0.301379</td>\n    </tr>\n    <tr>\n      <th>2001-12</th>\n      <td>0.792108</td>\n      <td>-1.308066</td>\n      <td>0.052069</td>\n      <td>-0.577845</td>\n    </tr>\n  </tbody>\n</table>\n</div>"
     },
     "metadata": {},
     "execution_count": 242
    }
   ],
   "source": [
    "frame"
   ]
  },
  {
   "cell_type": "code",
   "execution_count": 243,
   "metadata": {},
   "outputs": [],
   "source": [
    "annual_frame = frame.resample('A-DEC').mean()"
   ]
  },
  {
   "cell_type": "code",
   "execution_count": 244,
   "metadata": {},
   "outputs": [
    {
     "output_type": "execute_result",
     "data": {
      "text/plain": [
       "      Colorado     Texas  New York      Ohio\n",
       "2000 -0.026604  0.118398  0.187569  0.037527\n",
       "2001  0.100155 -0.076122  0.120981  0.030086"
      ],
      "text/html": "<div>\n<style scoped>\n    .dataframe tbody tr th:only-of-type {\n        vertical-align: middle;\n    }\n\n    .dataframe tbody tr th {\n        vertical-align: top;\n    }\n\n    .dataframe thead th {\n        text-align: right;\n    }\n</style>\n<table border=\"1\" class=\"dataframe\">\n  <thead>\n    <tr style=\"text-align: right;\">\n      <th></th>\n      <th>Colorado</th>\n      <th>Texas</th>\n      <th>New York</th>\n      <th>Ohio</th>\n    </tr>\n  </thead>\n  <tbody>\n    <tr>\n      <th>2000</th>\n      <td>-0.026604</td>\n      <td>0.118398</td>\n      <td>0.187569</td>\n      <td>0.037527</td>\n    </tr>\n    <tr>\n      <th>2001</th>\n      <td>0.100155</td>\n      <td>-0.076122</td>\n      <td>0.120981</td>\n      <td>0.030086</td>\n    </tr>\n  </tbody>\n</table>\n</div>"
     },
     "metadata": {},
     "execution_count": 244
    }
   ],
   "source": [
    "annual_frame"
   ]
  },
  {
   "cell_type": "code",
   "execution_count": 245,
   "metadata": {},
   "outputs": [
    {
     "output_type": "execute_result",
     "data": {
      "text/plain": [
       "        Colorado     Texas  New York      Ohio\n",
       "2000Q1 -0.026604  0.118398  0.187569  0.037527\n",
       "2000Q2 -0.026604  0.118398  0.187569  0.037527\n",
       "2000Q3 -0.026604  0.118398  0.187569  0.037527\n",
       "2000Q4 -0.026604  0.118398  0.187569  0.037527\n",
       "2001Q1  0.100155 -0.076122  0.120981  0.030086\n",
       "2001Q2  0.100155 -0.076122  0.120981  0.030086\n",
       "2001Q3  0.100155 -0.076122  0.120981  0.030086\n",
       "2001Q4  0.100155 -0.076122  0.120981  0.030086"
      ],
      "text/html": "<div>\n<style scoped>\n    .dataframe tbody tr th:only-of-type {\n        vertical-align: middle;\n    }\n\n    .dataframe tbody tr th {\n        vertical-align: top;\n    }\n\n    .dataframe thead th {\n        text-align: right;\n    }\n</style>\n<table border=\"1\" class=\"dataframe\">\n  <thead>\n    <tr style=\"text-align: right;\">\n      <th></th>\n      <th>Colorado</th>\n      <th>Texas</th>\n      <th>New York</th>\n      <th>Ohio</th>\n    </tr>\n  </thead>\n  <tbody>\n    <tr>\n      <th>2000Q1</th>\n      <td>-0.026604</td>\n      <td>0.118398</td>\n      <td>0.187569</td>\n      <td>0.037527</td>\n    </tr>\n    <tr>\n      <th>2000Q2</th>\n      <td>-0.026604</td>\n      <td>0.118398</td>\n      <td>0.187569</td>\n      <td>0.037527</td>\n    </tr>\n    <tr>\n      <th>2000Q3</th>\n      <td>-0.026604</td>\n      <td>0.118398</td>\n      <td>0.187569</td>\n      <td>0.037527</td>\n    </tr>\n    <tr>\n      <th>2000Q4</th>\n      <td>-0.026604</td>\n      <td>0.118398</td>\n      <td>0.187569</td>\n      <td>0.037527</td>\n    </tr>\n    <tr>\n      <th>2001Q1</th>\n      <td>0.100155</td>\n      <td>-0.076122</td>\n      <td>0.120981</td>\n      <td>0.030086</td>\n    </tr>\n    <tr>\n      <th>2001Q2</th>\n      <td>0.100155</td>\n      <td>-0.076122</td>\n      <td>0.120981</td>\n      <td>0.030086</td>\n    </tr>\n    <tr>\n      <th>2001Q3</th>\n      <td>0.100155</td>\n      <td>-0.076122</td>\n      <td>0.120981</td>\n      <td>0.030086</td>\n    </tr>\n    <tr>\n      <th>2001Q4</th>\n      <td>0.100155</td>\n      <td>-0.076122</td>\n      <td>0.120981</td>\n      <td>0.030086</td>\n    </tr>\n  </tbody>\n</table>\n</div>"
     },
     "metadata": {},
     "execution_count": 245
    }
   ],
   "source": [
    "annual_frame.resample('Q-DEC').ffill()"
   ]
  },
  {
   "cell_type": "code",
   "execution_count": 246,
   "metadata": {},
   "outputs": [
    {
     "output_type": "execute_result",
     "data": {
      "text/plain": [
       "        Colorado     Texas  New York      Ohio\n",
       "2000Q4 -0.026604  0.118398  0.187569  0.037527\n",
       "2001Q1 -0.026604  0.118398  0.187569  0.037527\n",
       "2001Q2 -0.026604  0.118398  0.187569  0.037527\n",
       "2001Q3 -0.026604  0.118398  0.187569  0.037527\n",
       "2001Q4  0.100155 -0.076122  0.120981  0.030086"
      ],
      "text/html": "<div>\n<style scoped>\n    .dataframe tbody tr th:only-of-type {\n        vertical-align: middle;\n    }\n\n    .dataframe tbody tr th {\n        vertical-align: top;\n    }\n\n    .dataframe thead th {\n        text-align: right;\n    }\n</style>\n<table border=\"1\" class=\"dataframe\">\n  <thead>\n    <tr style=\"text-align: right;\">\n      <th></th>\n      <th>Colorado</th>\n      <th>Texas</th>\n      <th>New York</th>\n      <th>Ohio</th>\n    </tr>\n  </thead>\n  <tbody>\n    <tr>\n      <th>2000Q4</th>\n      <td>-0.026604</td>\n      <td>0.118398</td>\n      <td>0.187569</td>\n      <td>0.037527</td>\n    </tr>\n    <tr>\n      <th>2001Q1</th>\n      <td>-0.026604</td>\n      <td>0.118398</td>\n      <td>0.187569</td>\n      <td>0.037527</td>\n    </tr>\n    <tr>\n      <th>2001Q2</th>\n      <td>-0.026604</td>\n      <td>0.118398</td>\n      <td>0.187569</td>\n      <td>0.037527</td>\n    </tr>\n    <tr>\n      <th>2001Q3</th>\n      <td>-0.026604</td>\n      <td>0.118398</td>\n      <td>0.187569</td>\n      <td>0.037527</td>\n    </tr>\n    <tr>\n      <th>2001Q4</th>\n      <td>0.100155</td>\n      <td>-0.076122</td>\n      <td>0.120981</td>\n      <td>0.030086</td>\n    </tr>\n  </tbody>\n</table>\n</div>"
     },
     "metadata": {},
     "execution_count": 246
    }
   ],
   "source": [
    "annual_frame.resample('Q-DEC', convention='end').ffill()"
   ]
  },
  {
   "cell_type": "code",
   "execution_count": 247,
   "metadata": {},
   "outputs": [
    {
     "output_type": "execute_result",
     "data": {
      "text/plain": [
       "        Colorado     Texas  New York      Ohio\n",
       "2000Q4 -0.026604  0.118398  0.187569  0.037527\n",
       "2001Q1 -0.026604  0.118398  0.187569  0.037527\n",
       "2001Q2 -0.026604  0.118398  0.187569  0.037527\n",
       "2001Q3 -0.026604  0.118398  0.187569  0.037527\n",
       "2001Q4  0.100155 -0.076122  0.120981  0.030086\n",
       "2002Q1  0.100155 -0.076122  0.120981  0.030086\n",
       "2002Q2  0.100155 -0.076122  0.120981  0.030086\n",
       "2002Q3  0.100155 -0.076122  0.120981  0.030086"
      ],
      "text/html": "<div>\n<style scoped>\n    .dataframe tbody tr th:only-of-type {\n        vertical-align: middle;\n    }\n\n    .dataframe tbody tr th {\n        vertical-align: top;\n    }\n\n    .dataframe thead th {\n        text-align: right;\n    }\n</style>\n<table border=\"1\" class=\"dataframe\">\n  <thead>\n    <tr style=\"text-align: right;\">\n      <th></th>\n      <th>Colorado</th>\n      <th>Texas</th>\n      <th>New York</th>\n      <th>Ohio</th>\n    </tr>\n  </thead>\n  <tbody>\n    <tr>\n      <th>2000Q4</th>\n      <td>-0.026604</td>\n      <td>0.118398</td>\n      <td>0.187569</td>\n      <td>0.037527</td>\n    </tr>\n    <tr>\n      <th>2001Q1</th>\n      <td>-0.026604</td>\n      <td>0.118398</td>\n      <td>0.187569</td>\n      <td>0.037527</td>\n    </tr>\n    <tr>\n      <th>2001Q2</th>\n      <td>-0.026604</td>\n      <td>0.118398</td>\n      <td>0.187569</td>\n      <td>0.037527</td>\n    </tr>\n    <tr>\n      <th>2001Q3</th>\n      <td>-0.026604</td>\n      <td>0.118398</td>\n      <td>0.187569</td>\n      <td>0.037527</td>\n    </tr>\n    <tr>\n      <th>2001Q4</th>\n      <td>0.100155</td>\n      <td>-0.076122</td>\n      <td>0.120981</td>\n      <td>0.030086</td>\n    </tr>\n    <tr>\n      <th>2002Q1</th>\n      <td>0.100155</td>\n      <td>-0.076122</td>\n      <td>0.120981</td>\n      <td>0.030086</td>\n    </tr>\n    <tr>\n      <th>2002Q2</th>\n      <td>0.100155</td>\n      <td>-0.076122</td>\n      <td>0.120981</td>\n      <td>0.030086</td>\n    </tr>\n    <tr>\n      <th>2002Q3</th>\n      <td>0.100155</td>\n      <td>-0.076122</td>\n      <td>0.120981</td>\n      <td>0.030086</td>\n    </tr>\n  </tbody>\n</table>\n</div>"
     },
     "metadata": {},
     "execution_count": 247
    }
   ],
   "source": [
    "annual_frame.resample('Q-MAR').ffill()"
   ]
  },
  {
   "source": [
    "## MOVING WINDOWS FUNVTIONS"
   ],
   "cell_type": "markdown",
   "metadata": {}
  },
  {
   "cell_type": "code",
   "execution_count": 249,
   "metadata": {},
   "outputs": [],
   "source": [
    "close_px_all = pd.read_csv('examples/stock_px_2.csv', parse_dates=True, index_col=0)"
   ]
  },
  {
   "cell_type": "code",
   "execution_count": 250,
   "metadata": {},
   "outputs": [],
   "source": [
    "close_px = close_px_all[['AAPL', 'MSFT', 'XOM']]"
   ]
  },
  {
   "cell_type": "code",
   "execution_count": 251,
   "metadata": {},
   "outputs": [],
   "source": [
    "close_px = close_px.resample('B').ffill()"
   ]
  },
  {
   "cell_type": "code",
   "execution_count": 255,
   "metadata": {},
   "outputs": [
    {
     "output_type": "execute_result",
     "data": {
      "text/plain": [
       "<AxesSubplot:>"
      ]
     },
     "metadata": {},
     "execution_count": 255
    },
    {
     "output_type": "display_data",
     "data": {
      "text/plain": "<Figure size 432x288 with 1 Axes>",
      "image/svg+xml": "<?xml version=\"1.0\" encoding=\"utf-8\" standalone=\"no\"?>\r\n<!DOCTYPE svg PUBLIC \"-//W3C//DTD SVG 1.1//EN\"\r\n  \"http://www.w3.org/Graphics/SVG/1.1/DTD/svg11.dtd\">\r\n<!-- Created with matplotlib (https://matplotlib.org/) -->\r\n<svg height=\"248.518125pt\" version=\"1.1\" viewBox=\"0 0 375.2875 248.518125\" width=\"375.2875pt\" xmlns=\"http://www.w3.org/2000/svg\" xmlns:xlink=\"http://www.w3.org/1999/xlink\">\r\n <metadata>\r\n  <rdf:RDF xmlns:cc=\"http://creativecommons.org/ns#\" xmlns:dc=\"http://purl.org/dc/elements/1.1/\" xmlns:rdf=\"http://www.w3.org/1999/02/22-rdf-syntax-ns#\">\r\n   <cc:Work>\r\n    <dc:type rdf:resource=\"http://purl.org/dc/dcmitype/StillImage\"/>\r\n    <dc:date>2021-05-11T11:08:36.165002</dc:date>\r\n    <dc:format>image/svg+xml</dc:format>\r\n    <dc:creator>\r\n     <cc:Agent>\r\n      <dc:title>Matplotlib v3.3.2, https://matplotlib.org/</dc:title>\r\n     </cc:Agent>\r\n    </dc:creator>\r\n   </cc:Work>\r\n  </rdf:RDF>\r\n </metadata>\r\n <defs>\r\n  <style type=\"text/css\">*{stroke-linecap:butt;stroke-linejoin:round;}</style>\r\n </defs>\r\n <g id=\"figure_1\">\r\n  <g id=\"patch_1\">\r\n   <path d=\"M 0 248.518125 \r\nL 375.2875 248.518125 \r\nL 375.2875 0 \r\nL 0 0 \r\nz\r\n\" style=\"fill:none;\"/>\r\n  </g>\r\n  <g id=\"axes_1\">\r\n   <g id=\"patch_2\">\r\n    <path d=\"M 33.2875 224.64 \r\nL 368.0875 224.64 \r\nL 368.0875 7.2 \r\nL 33.2875 7.2 \r\nz\r\n\" style=\"fill:#ffffff;\"/>\r\n   </g>\r\n   <g id=\"matplotlib.axis_1\">\r\n    <g id=\"xtick_1\">\r\n     <g id=\"line2d_1\">\r\n      <defs>\r\n       <path d=\"M 0 0 \r\nL 0 3.5 \r\n\" id=\"mdb0937c67b\" style=\"stroke:#000000;stroke-width:0.8;\"/>\r\n      </defs>\r\n      <g>\r\n       <use style=\"stroke:#000000;stroke-width:0.8;\" x=\"33.2875\" xlink:href=\"#mdb0937c67b\" y=\"224.64\"/>\r\n      </g>\r\n     </g>\r\n    </g>\r\n    <g id=\"xtick_2\">\r\n     <g id=\"line2d_2\">\r\n      <g>\r\n       <use style=\"stroke:#000000;stroke-width:0.8;\" x=\"71.283135\" xlink:href=\"#mdb0937c67b\" y=\"224.64\"/>\r\n      </g>\r\n     </g>\r\n     <g id=\"text_1\">\r\n      <!-- 2004 -->\r\n      <g transform=\"translate(58.558135 239.238437)scale(0.1 -0.1)\">\r\n       <defs>\r\n        <path d=\"M 19.1875 8.296875 \r\nL 53.609375 8.296875 \r\nL 53.609375 0 \r\nL 7.328125 0 \r\nL 7.328125 8.296875 \r\nQ 12.9375 14.109375 22.625 23.890625 \r\nQ 32.328125 33.6875 34.8125 36.53125 \r\nQ 39.546875 41.84375 41.421875 45.53125 \r\nQ 43.3125 49.21875 43.3125 52.78125 \r\nQ 43.3125 58.59375 39.234375 62.25 \r\nQ 35.15625 65.921875 28.609375 65.921875 \r\nQ 23.96875 65.921875 18.8125 64.3125 \r\nQ 13.671875 62.703125 7.8125 59.421875 \r\nL 7.8125 69.390625 \r\nQ 13.765625 71.78125 18.9375 73 \r\nQ 24.125 74.21875 28.421875 74.21875 \r\nQ 39.75 74.21875 46.484375 68.546875 \r\nQ 53.21875 62.890625 53.21875 53.421875 \r\nQ 53.21875 48.921875 51.53125 44.890625 \r\nQ 49.859375 40.875 45.40625 35.40625 \r\nQ 44.1875 33.984375 37.640625 27.21875 \r\nQ 31.109375 20.453125 19.1875 8.296875 \r\nz\r\n\" id=\"DejaVuSans-50\"/>\r\n        <path d=\"M 31.78125 66.40625 \r\nQ 24.171875 66.40625 20.328125 58.90625 \r\nQ 16.5 51.421875 16.5 36.375 \r\nQ 16.5 21.390625 20.328125 13.890625 \r\nQ 24.171875 6.390625 31.78125 6.390625 \r\nQ 39.453125 6.390625 43.28125 13.890625 \r\nQ 47.125 21.390625 47.125 36.375 \r\nQ 47.125 51.421875 43.28125 58.90625 \r\nQ 39.453125 66.40625 31.78125 66.40625 \r\nz\r\nM 31.78125 74.21875 \r\nQ 44.046875 74.21875 50.515625 64.515625 \r\nQ 56.984375 54.828125 56.984375 36.375 \r\nQ 56.984375 17.96875 50.515625 8.265625 \r\nQ 44.046875 -1.421875 31.78125 -1.421875 \r\nQ 19.53125 -1.421875 13.0625 8.265625 \r\nQ 6.59375 17.96875 6.59375 36.375 \r\nQ 6.59375 54.828125 13.0625 64.515625 \r\nQ 19.53125 74.21875 31.78125 74.21875 \r\nz\r\n\" id=\"DejaVuSans-48\"/>\r\n        <path d=\"M 37.796875 64.3125 \r\nL 12.890625 25.390625 \r\nL 37.796875 25.390625 \r\nz\r\nM 35.203125 72.90625 \r\nL 47.609375 72.90625 \r\nL 47.609375 25.390625 \r\nL 58.015625 25.390625 \r\nL 58.015625 17.1875 \r\nL 47.609375 17.1875 \r\nL 47.609375 0 \r\nL 37.796875 0 \r\nL 37.796875 17.1875 \r\nL 4.890625 17.1875 \r\nL 4.890625 26.703125 \r\nz\r\n\" id=\"DejaVuSans-52\"/>\r\n       </defs>\r\n       <use xlink:href=\"#DejaVuSans-50\"/>\r\n       <use x=\"63.623047\" xlink:href=\"#DejaVuSans-48\"/>\r\n       <use x=\"127.246094\" xlink:href=\"#DejaVuSans-48\"/>\r\n       <use x=\"190.869141\" xlink:href=\"#DejaVuSans-52\"/>\r\n      </g>\r\n     </g>\r\n    </g>\r\n    <g id=\"xtick_3\">\r\n     <g id=\"line2d_3\">\r\n      <g>\r\n       <use style=\"stroke:#000000;stroke-width:0.8;\" x=\"109.571044\" xlink:href=\"#mdb0937c67b\" y=\"224.64\"/>\r\n      </g>\r\n     </g>\r\n     <g id=\"text_2\">\r\n      <!-- 2005 -->\r\n      <g transform=\"translate(96.846044 239.238437)scale(0.1 -0.1)\">\r\n       <defs>\r\n        <path d=\"M 10.796875 72.90625 \r\nL 49.515625 72.90625 \r\nL 49.515625 64.59375 \r\nL 19.828125 64.59375 \r\nL 19.828125 46.734375 \r\nQ 21.96875 47.46875 24.109375 47.828125 \r\nQ 26.265625 48.1875 28.421875 48.1875 \r\nQ 40.625 48.1875 47.75 41.5 \r\nQ 54.890625 34.8125 54.890625 23.390625 \r\nQ 54.890625 11.625 47.5625 5.09375 \r\nQ 40.234375 -1.421875 26.90625 -1.421875 \r\nQ 22.3125 -1.421875 17.546875 -0.640625 \r\nQ 12.796875 0.140625 7.71875 1.703125 \r\nL 7.71875 11.625 \r\nQ 12.109375 9.234375 16.796875 8.0625 \r\nQ 21.484375 6.890625 26.703125 6.890625 \r\nQ 35.15625 6.890625 40.078125 11.328125 \r\nQ 45.015625 15.765625 45.015625 23.390625 \r\nQ 45.015625 31 40.078125 35.4375 \r\nQ 35.15625 39.890625 26.703125 39.890625 \r\nQ 22.75 39.890625 18.8125 39.015625 \r\nQ 14.890625 38.140625 10.796875 36.28125 \r\nz\r\n\" id=\"DejaVuSans-53\"/>\r\n       </defs>\r\n       <use xlink:href=\"#DejaVuSans-50\"/>\r\n       <use x=\"63.623047\" xlink:href=\"#DejaVuSans-48\"/>\r\n       <use x=\"127.246094\" xlink:href=\"#DejaVuSans-48\"/>\r\n       <use x=\"190.869141\" xlink:href=\"#DejaVuSans-53\"/>\r\n      </g>\r\n     </g>\r\n    </g>\r\n    <g id=\"xtick_4\">\r\n     <g id=\"line2d_4\">\r\n      <g>\r\n       <use style=\"stroke:#000000;stroke-width:0.8;\" x=\"147.566679\" xlink:href=\"#mdb0937c67b\" y=\"224.64\"/>\r\n      </g>\r\n     </g>\r\n     <g id=\"text_3\">\r\n      <!-- 2006 -->\r\n      <g transform=\"translate(134.841679 239.238437)scale(0.1 -0.1)\">\r\n       <defs>\r\n        <path d=\"M 33.015625 40.375 \r\nQ 26.375 40.375 22.484375 35.828125 \r\nQ 18.609375 31.296875 18.609375 23.390625 \r\nQ 18.609375 15.53125 22.484375 10.953125 \r\nQ 26.375 6.390625 33.015625 6.390625 \r\nQ 39.65625 6.390625 43.53125 10.953125 \r\nQ 47.40625 15.53125 47.40625 23.390625 \r\nQ 47.40625 31.296875 43.53125 35.828125 \r\nQ 39.65625 40.375 33.015625 40.375 \r\nz\r\nM 52.59375 71.296875 \r\nL 52.59375 62.3125 \r\nQ 48.875 64.0625 45.09375 64.984375 \r\nQ 41.3125 65.921875 37.59375 65.921875 \r\nQ 27.828125 65.921875 22.671875 59.328125 \r\nQ 17.53125 52.734375 16.796875 39.40625 \r\nQ 19.671875 43.65625 24.015625 45.921875 \r\nQ 28.375 48.1875 33.59375 48.1875 \r\nQ 44.578125 48.1875 50.953125 41.515625 \r\nQ 57.328125 34.859375 57.328125 23.390625 \r\nQ 57.328125 12.15625 50.6875 5.359375 \r\nQ 44.046875 -1.421875 33.015625 -1.421875 \r\nQ 20.359375 -1.421875 13.671875 8.265625 \r\nQ 6.984375 17.96875 6.984375 36.375 \r\nQ 6.984375 53.65625 15.1875 63.9375 \r\nQ 23.390625 74.21875 37.203125 74.21875 \r\nQ 40.921875 74.21875 44.703125 73.484375 \r\nQ 48.484375 72.75 52.59375 71.296875 \r\nz\r\n\" id=\"DejaVuSans-54\"/>\r\n       </defs>\r\n       <use xlink:href=\"#DejaVuSans-50\"/>\r\n       <use x=\"63.623047\" xlink:href=\"#DejaVuSans-48\"/>\r\n       <use x=\"127.246094\" xlink:href=\"#DejaVuSans-48\"/>\r\n       <use x=\"190.869141\" xlink:href=\"#DejaVuSans-54\"/>\r\n      </g>\r\n     </g>\r\n    </g>\r\n    <g id=\"xtick_5\">\r\n     <g id=\"line2d_5\">\r\n      <g>\r\n       <use style=\"stroke:#000000;stroke-width:0.8;\" x=\"185.562314\" xlink:href=\"#mdb0937c67b\" y=\"224.64\"/>\r\n      </g>\r\n     </g>\r\n     <g id=\"text_4\">\r\n      <!-- 2007 -->\r\n      <g transform=\"translate(172.837314 239.238437)scale(0.1 -0.1)\">\r\n       <defs>\r\n        <path d=\"M 8.203125 72.90625 \r\nL 55.078125 72.90625 \r\nL 55.078125 68.703125 \r\nL 28.609375 0 \r\nL 18.3125 0 \r\nL 43.21875 64.59375 \r\nL 8.203125 64.59375 \r\nz\r\n\" id=\"DejaVuSans-55\"/>\r\n       </defs>\r\n       <use xlink:href=\"#DejaVuSans-50\"/>\r\n       <use x=\"63.623047\" xlink:href=\"#DejaVuSans-48\"/>\r\n       <use x=\"127.246094\" xlink:href=\"#DejaVuSans-48\"/>\r\n       <use x=\"190.869141\" xlink:href=\"#DejaVuSans-55\"/>\r\n      </g>\r\n     </g>\r\n    </g>\r\n    <g id=\"xtick_6\">\r\n     <g id=\"line2d_6\">\r\n      <g>\r\n       <use style=\"stroke:#000000;stroke-width:0.8;\" x=\"223.704087\" xlink:href=\"#mdb0937c67b\" y=\"224.64\"/>\r\n      </g>\r\n     </g>\r\n     <g id=\"text_5\">\r\n      <!-- 2008 -->\r\n      <g transform=\"translate(210.979087 239.238437)scale(0.1 -0.1)\">\r\n       <defs>\r\n        <path d=\"M 31.78125 34.625 \r\nQ 24.75 34.625 20.71875 30.859375 \r\nQ 16.703125 27.09375 16.703125 20.515625 \r\nQ 16.703125 13.921875 20.71875 10.15625 \r\nQ 24.75 6.390625 31.78125 6.390625 \r\nQ 38.8125 6.390625 42.859375 10.171875 \r\nQ 46.921875 13.96875 46.921875 20.515625 \r\nQ 46.921875 27.09375 42.890625 30.859375 \r\nQ 38.875 34.625 31.78125 34.625 \r\nz\r\nM 21.921875 38.8125 \r\nQ 15.578125 40.375 12.03125 44.71875 \r\nQ 8.5 49.078125 8.5 55.328125 \r\nQ 8.5 64.0625 14.71875 69.140625 \r\nQ 20.953125 74.21875 31.78125 74.21875 \r\nQ 42.671875 74.21875 48.875 69.140625 \r\nQ 55.078125 64.0625 55.078125 55.328125 \r\nQ 55.078125 49.078125 51.53125 44.71875 \r\nQ 48 40.375 41.703125 38.8125 \r\nQ 48.828125 37.15625 52.796875 32.3125 \r\nQ 56.78125 27.484375 56.78125 20.515625 \r\nQ 56.78125 9.90625 50.3125 4.234375 \r\nQ 43.84375 -1.421875 31.78125 -1.421875 \r\nQ 19.734375 -1.421875 13.25 4.234375 \r\nQ 6.78125 9.90625 6.78125 20.515625 \r\nQ 6.78125 27.484375 10.78125 32.3125 \r\nQ 14.796875 37.15625 21.921875 38.8125 \r\nz\r\nM 18.3125 54.390625 \r\nQ 18.3125 48.734375 21.84375 45.5625 \r\nQ 25.390625 42.390625 31.78125 42.390625 \r\nQ 38.140625 42.390625 41.71875 45.5625 \r\nQ 45.3125 48.734375 45.3125 54.390625 \r\nQ 45.3125 60.0625 41.71875 63.234375 \r\nQ 38.140625 66.40625 31.78125 66.40625 \r\nQ 25.390625 66.40625 21.84375 63.234375 \r\nQ 18.3125 60.0625 18.3125 54.390625 \r\nz\r\n\" id=\"DejaVuSans-56\"/>\r\n       </defs>\r\n       <use xlink:href=\"#DejaVuSans-50\"/>\r\n       <use x=\"63.623047\" xlink:href=\"#DejaVuSans-48\"/>\r\n       <use x=\"127.246094\" xlink:href=\"#DejaVuSans-48\"/>\r\n       <use x=\"190.869141\" xlink:href=\"#DejaVuSans-56\"/>\r\n      </g>\r\n     </g>\r\n    </g>\r\n    <g id=\"xtick_7\">\r\n     <g id=\"line2d_7\">\r\n      <g>\r\n       <use style=\"stroke:#000000;stroke-width:0.8;\" x=\"261.991996\" xlink:href=\"#mdb0937c67b\" y=\"224.64\"/>\r\n      </g>\r\n     </g>\r\n     <g id=\"text_6\">\r\n      <!-- 2009 -->\r\n      <g transform=\"translate(249.266996 239.238437)scale(0.1 -0.1)\">\r\n       <defs>\r\n        <path d=\"M 10.984375 1.515625 \r\nL 10.984375 10.5 \r\nQ 14.703125 8.734375 18.5 7.8125 \r\nQ 22.3125 6.890625 25.984375 6.890625 \r\nQ 35.75 6.890625 40.890625 13.453125 \r\nQ 46.046875 20.015625 46.78125 33.40625 \r\nQ 43.953125 29.203125 39.59375 26.953125 \r\nQ 35.25 24.703125 29.984375 24.703125 \r\nQ 19.046875 24.703125 12.671875 31.3125 \r\nQ 6.296875 37.9375 6.296875 49.421875 \r\nQ 6.296875 60.640625 12.9375 67.421875 \r\nQ 19.578125 74.21875 30.609375 74.21875 \r\nQ 43.265625 74.21875 49.921875 64.515625 \r\nQ 56.59375 54.828125 56.59375 36.375 \r\nQ 56.59375 19.140625 48.40625 8.859375 \r\nQ 40.234375 -1.421875 26.421875 -1.421875 \r\nQ 22.703125 -1.421875 18.890625 -0.6875 \r\nQ 15.09375 0.046875 10.984375 1.515625 \r\nz\r\nM 30.609375 32.421875 \r\nQ 37.25 32.421875 41.125 36.953125 \r\nQ 45.015625 41.5 45.015625 49.421875 \r\nQ 45.015625 57.28125 41.125 61.84375 \r\nQ 37.25 66.40625 30.609375 66.40625 \r\nQ 23.96875 66.40625 20.09375 61.84375 \r\nQ 16.21875 57.28125 16.21875 49.421875 \r\nQ 16.21875 41.5 20.09375 36.953125 \r\nQ 23.96875 32.421875 30.609375 32.421875 \r\nz\r\n\" id=\"DejaVuSans-57\"/>\r\n       </defs>\r\n       <use xlink:href=\"#DejaVuSans-50\"/>\r\n       <use x=\"63.623047\" xlink:href=\"#DejaVuSans-48\"/>\r\n       <use x=\"127.246094\" xlink:href=\"#DejaVuSans-48\"/>\r\n       <use x=\"190.869141\" xlink:href=\"#DejaVuSans-57\"/>\r\n      </g>\r\n     </g>\r\n    </g>\r\n    <g id=\"xtick_8\">\r\n     <g id=\"line2d_8\">\r\n      <g>\r\n       <use style=\"stroke:#000000;stroke-width:0.8;\" x=\"300.133768\" xlink:href=\"#mdb0937c67b\" y=\"224.64\"/>\r\n      </g>\r\n     </g>\r\n     <g id=\"text_7\">\r\n      <!-- 2010 -->\r\n      <g transform=\"translate(287.408768 239.238437)scale(0.1 -0.1)\">\r\n       <defs>\r\n        <path d=\"M 12.40625 8.296875 \r\nL 28.515625 8.296875 \r\nL 28.515625 63.921875 \r\nL 10.984375 60.40625 \r\nL 10.984375 69.390625 \r\nL 28.421875 72.90625 \r\nL 38.28125 72.90625 \r\nL 38.28125 8.296875 \r\nL 54.390625 8.296875 \r\nL 54.390625 0 \r\nL 12.40625 0 \r\nz\r\n\" id=\"DejaVuSans-49\"/>\r\n       </defs>\r\n       <use xlink:href=\"#DejaVuSans-50\"/>\r\n       <use x=\"63.623047\" xlink:href=\"#DejaVuSans-48\"/>\r\n       <use x=\"127.246094\" xlink:href=\"#DejaVuSans-49\"/>\r\n       <use x=\"190.869141\" xlink:href=\"#DejaVuSans-48\"/>\r\n      </g>\r\n     </g>\r\n    </g>\r\n    <g id=\"xtick_9\">\r\n     <g id=\"line2d_9\">\r\n      <g>\r\n       <use style=\"stroke:#000000;stroke-width:0.8;\" x=\"338.27554\" xlink:href=\"#mdb0937c67b\" y=\"224.64\"/>\r\n      </g>\r\n     </g>\r\n     <g id=\"text_8\">\r\n      <!-- 2011 -->\r\n      <g transform=\"translate(325.55054 239.238437)scale(0.1 -0.1)\">\r\n       <use xlink:href=\"#DejaVuSans-50\"/>\r\n       <use x=\"63.623047\" xlink:href=\"#DejaVuSans-48\"/>\r\n       <use x=\"127.246094\" xlink:href=\"#DejaVuSans-49\"/>\r\n       <use x=\"190.869141\" xlink:href=\"#DejaVuSans-49\"/>\r\n      </g>\r\n     </g>\r\n    </g>\r\n    <g id=\"xtick_10\">\r\n     <g id=\"line2d_10\">\r\n      <g>\r\n       <use style=\"stroke:#000000;stroke-width:0.8;\" x=\"368.0875\" xlink:href=\"#mdb0937c67b\" y=\"224.64\"/>\r\n      </g>\r\n     </g>\r\n    </g>\r\n    <g id=\"xtick_11\">\r\n     <g id=\"line2d_11\">\r\n      <defs>\r\n       <path d=\"M 0 0 \r\nL 0 2 \r\n\" id=\"mf5979140d8\" style=\"stroke:#000000;stroke-width:0.6;\"/>\r\n      </defs>\r\n      <g>\r\n       <use style=\"stroke:#000000;stroke-width:0.6;\" x=\"42.494135\" xlink:href=\"#mf5979140d8\" y=\"224.64\"/>\r\n      </g>\r\n     </g>\r\n    </g>\r\n    <g id=\"xtick_12\">\r\n     <g id=\"line2d_12\">\r\n      <g>\r\n       <use style=\"stroke:#000000;stroke-width:0.6;\" x=\"51.993043\" xlink:href=\"#mf5979140d8\" y=\"224.64\"/>\r\n      </g>\r\n     </g>\r\n    </g>\r\n    <g id=\"xtick_13\">\r\n     <g id=\"line2d_13\">\r\n      <g>\r\n       <use style=\"stroke:#000000;stroke-width:0.6;\" x=\"61.638089\" xlink:href=\"#mf5979140d8\" y=\"224.64\"/>\r\n      </g>\r\n     </g>\r\n    </g>\r\n    <g id=\"xtick_14\">\r\n     <g id=\"line2d_14\">\r\n      <g>\r\n       <use style=\"stroke:#000000;stroke-width:0.6;\" x=\"80.782044\" xlink:href=\"#mf5979140d8\" y=\"224.64\"/>\r\n      </g>\r\n     </g>\r\n    </g>\r\n    <g id=\"xtick_15\">\r\n     <g id=\"line2d_15\">\r\n      <g>\r\n       <use style=\"stroke:#000000;stroke-width:0.6;\" x=\"90.280953\" xlink:href=\"#mf5979140d8\" y=\"224.64\"/>\r\n      </g>\r\n     </g>\r\n    </g>\r\n    <g id=\"xtick_16\">\r\n     <g id=\"line2d_16\">\r\n      <g>\r\n       <use style=\"stroke:#000000;stroke-width:0.6;\" x=\"99.925998\" xlink:href=\"#mf5979140d8\" y=\"224.64\"/>\r\n      </g>\r\n     </g>\r\n    </g>\r\n    <g id=\"xtick_17\">\r\n     <g id=\"line2d_17\">\r\n      <g>\r\n       <use style=\"stroke:#000000;stroke-width:0.6;\" x=\"118.923816\" xlink:href=\"#mf5979140d8\" y=\"224.64\"/>\r\n      </g>\r\n     </g>\r\n    </g>\r\n    <g id=\"xtick_18\">\r\n     <g id=\"line2d_18\">\r\n      <g>\r\n       <use style=\"stroke:#000000;stroke-width:0.6;\" x=\"128.422725\" xlink:href=\"#mf5979140d8\" y=\"224.64\"/>\r\n      </g>\r\n     </g>\r\n    </g>\r\n    <g id=\"xtick_19\">\r\n     <g id=\"line2d_19\">\r\n      <g>\r\n       <use style=\"stroke:#000000;stroke-width:0.6;\" x=\"138.067771\" xlink:href=\"#mf5979140d8\" y=\"224.64\"/>\r\n      </g>\r\n     </g>\r\n    </g>\r\n    <g id=\"xtick_20\">\r\n     <g id=\"line2d_20\">\r\n      <g>\r\n       <use style=\"stroke:#000000;stroke-width:0.6;\" x=\"157.065588\" xlink:href=\"#mf5979140d8\" y=\"224.64\"/>\r\n      </g>\r\n     </g>\r\n    </g>\r\n    <g id=\"xtick_21\">\r\n     <g id=\"line2d_21\">\r\n      <g>\r\n       <use style=\"stroke:#000000;stroke-width:0.6;\" x=\"166.564497\" xlink:href=\"#mf5979140d8\" y=\"224.64\"/>\r\n      </g>\r\n     </g>\r\n    </g>\r\n    <g id=\"xtick_22\">\r\n     <g id=\"line2d_22\">\r\n      <g>\r\n       <use style=\"stroke:#000000;stroke-width:0.6;\" x=\"176.063406\" xlink:href=\"#mf5979140d8\" y=\"224.64\"/>\r\n      </g>\r\n     </g>\r\n    </g>\r\n    <g id=\"xtick_23\">\r\n     <g id=\"line2d_23\">\r\n      <g>\r\n       <use style=\"stroke:#000000;stroke-width:0.6;\" x=\"195.061223\" xlink:href=\"#mf5979140d8\" y=\"224.64\"/>\r\n      </g>\r\n     </g>\r\n    </g>\r\n    <g id=\"xtick_24\">\r\n     <g id=\"line2d_24\">\r\n      <g>\r\n       <use style=\"stroke:#000000;stroke-width:0.6;\" x=\"204.560132\" xlink:href=\"#mf5979140d8\" y=\"224.64\"/>\r\n      </g>\r\n     </g>\r\n    </g>\r\n    <g id=\"xtick_25\">\r\n     <g id=\"line2d_25\">\r\n      <g>\r\n       <use style=\"stroke:#000000;stroke-width:0.6;\" x=\"214.059041\" xlink:href=\"#mf5979140d8\" y=\"224.64\"/>\r\n      </g>\r\n     </g>\r\n    </g>\r\n    <g id=\"xtick_26\">\r\n     <g id=\"line2d_26\">\r\n      <g>\r\n       <use style=\"stroke:#000000;stroke-width:0.6;\" x=\"233.202995\" xlink:href=\"#mf5979140d8\" y=\"224.64\"/>\r\n      </g>\r\n     </g>\r\n    </g>\r\n    <g id=\"xtick_27\">\r\n     <g id=\"line2d_27\">\r\n      <g>\r\n       <use style=\"stroke:#000000;stroke-width:0.6;\" x=\"242.701904\" xlink:href=\"#mf5979140d8\" y=\"224.64\"/>\r\n      </g>\r\n     </g>\r\n    </g>\r\n    <g id=\"xtick_28\">\r\n     <g id=\"line2d_28\">\r\n      <g>\r\n       <use style=\"stroke:#000000;stroke-width:0.6;\" x=\"252.34695\" xlink:href=\"#mf5979140d8\" y=\"224.64\"/>\r\n      </g>\r\n     </g>\r\n    </g>\r\n    <g id=\"xtick_29\">\r\n     <g id=\"line2d_29\">\r\n      <g>\r\n       <use style=\"stroke:#000000;stroke-width:0.6;\" x=\"271.344768\" xlink:href=\"#mf5979140d8\" y=\"224.64\"/>\r\n      </g>\r\n     </g>\r\n    </g>\r\n    <g id=\"xtick_30\">\r\n     <g id=\"line2d_30\">\r\n      <g>\r\n       <use style=\"stroke:#000000;stroke-width:0.6;\" x=\"280.843676\" xlink:href=\"#mf5979140d8\" y=\"224.64\"/>\r\n      </g>\r\n     </g>\r\n    </g>\r\n    <g id=\"xtick_31\">\r\n     <g id=\"line2d_31\">\r\n      <g>\r\n       <use style=\"stroke:#000000;stroke-width:0.6;\" x=\"290.488722\" xlink:href=\"#mf5979140d8\" y=\"224.64\"/>\r\n      </g>\r\n     </g>\r\n    </g>\r\n    <g id=\"xtick_32\">\r\n     <g id=\"line2d_32\">\r\n      <g>\r\n       <use style=\"stroke:#000000;stroke-width:0.6;\" x=\"309.48654\" xlink:href=\"#mf5979140d8\" y=\"224.64\"/>\r\n      </g>\r\n     </g>\r\n    </g>\r\n    <g id=\"xtick_33\">\r\n     <g id=\"line2d_33\">\r\n      <g>\r\n       <use style=\"stroke:#000000;stroke-width:0.6;\" x=\"318.985448\" xlink:href=\"#mf5979140d8\" y=\"224.64\"/>\r\n      </g>\r\n     </g>\r\n    </g>\r\n    <g id=\"xtick_34\">\r\n     <g id=\"line2d_34\">\r\n      <g>\r\n       <use style=\"stroke:#000000;stroke-width:0.6;\" x=\"328.630494\" xlink:href=\"#mf5979140d8\" y=\"224.64\"/>\r\n      </g>\r\n     </g>\r\n    </g>\r\n    <g id=\"xtick_35\">\r\n     <g id=\"line2d_35\">\r\n      <g>\r\n       <use style=\"stroke:#000000;stroke-width:0.6;\" x=\"347.628312\" xlink:href=\"#mf5979140d8\" y=\"224.64\"/>\r\n      </g>\r\n     </g>\r\n    </g>\r\n    <g id=\"xtick_36\">\r\n     <g id=\"line2d_36\">\r\n      <g>\r\n       <use style=\"stroke:#000000;stroke-width:0.6;\" x=\"357.127221\" xlink:href=\"#mf5979140d8\" y=\"224.64\"/>\r\n      </g>\r\n     </g>\r\n    </g>\r\n    <g id=\"xtick_37\">\r\n     <g id=\"line2d_37\">\r\n      <g>\r\n       <use style=\"stroke:#000000;stroke-width:0.6;\" x=\"366.772266\" xlink:href=\"#mf5979140d8\" y=\"224.64\"/>\r\n      </g>\r\n     </g>\r\n    </g>\r\n   </g>\r\n   <g id=\"matplotlib.axis_2\">\r\n    <g id=\"ytick_1\">\r\n     <g id=\"line2d_38\">\r\n      <defs>\r\n       <path d=\"M 0 0 \r\nL -3.5 0 \r\n\" id=\"ma6f87b0c0f\" style=\"stroke:#000000;stroke-width:0.8;\"/>\r\n      </defs>\r\n      <g>\r\n       <use style=\"stroke:#000000;stroke-width:0.8;\" x=\"33.2875\" xlink:href=\"#ma6f87b0c0f\" y=\"217.877712\"/>\r\n      </g>\r\n     </g>\r\n     <g id=\"text_9\">\r\n      <!-- 0 -->\r\n      <g transform=\"translate(19.925 221.676931)scale(0.1 -0.1)\">\r\n       <use xlink:href=\"#DejaVuSans-48\"/>\r\n      </g>\r\n     </g>\r\n    </g>\r\n    <g id=\"ytick_2\">\r\n     <g id=\"line2d_39\">\r\n      <g>\r\n       <use style=\"stroke:#000000;stroke-width:0.8;\" x=\"33.2875\" xlink:href=\"#ma6f87b0c0f\" y=\"170.296178\"/>\r\n      </g>\r\n     </g>\r\n     <g id=\"text_10\">\r\n      <!-- 100 -->\r\n      <g transform=\"translate(7.2 174.095396)scale(0.1 -0.1)\">\r\n       <use xlink:href=\"#DejaVuSans-49\"/>\r\n       <use x=\"63.623047\" xlink:href=\"#DejaVuSans-48\"/>\r\n       <use x=\"127.246094\" xlink:href=\"#DejaVuSans-48\"/>\r\n      </g>\r\n     </g>\r\n    </g>\r\n    <g id=\"ytick_3\">\r\n     <g id=\"line2d_40\">\r\n      <g>\r\n       <use style=\"stroke:#000000;stroke-width:0.8;\" x=\"33.2875\" xlink:href=\"#ma6f87b0c0f\" y=\"122.714643\"/>\r\n      </g>\r\n     </g>\r\n     <g id=\"text_11\">\r\n      <!-- 200 -->\r\n      <g transform=\"translate(7.2 126.513862)scale(0.1 -0.1)\">\r\n       <use xlink:href=\"#DejaVuSans-50\"/>\r\n       <use x=\"63.623047\" xlink:href=\"#DejaVuSans-48\"/>\r\n       <use x=\"127.246094\" xlink:href=\"#DejaVuSans-48\"/>\r\n      </g>\r\n     </g>\r\n    </g>\r\n    <g id=\"ytick_4\">\r\n     <g id=\"line2d_41\">\r\n      <g>\r\n       <use style=\"stroke:#000000;stroke-width:0.8;\" x=\"33.2875\" xlink:href=\"#ma6f87b0c0f\" y=\"75.133109\"/>\r\n      </g>\r\n     </g>\r\n     <g id=\"text_12\">\r\n      <!-- 300 -->\r\n      <g transform=\"translate(7.2 78.932327)scale(0.1 -0.1)\">\r\n       <defs>\r\n        <path d=\"M 40.578125 39.3125 \r\nQ 47.65625 37.796875 51.625 33 \r\nQ 55.609375 28.21875 55.609375 21.1875 \r\nQ 55.609375 10.40625 48.1875 4.484375 \r\nQ 40.765625 -1.421875 27.09375 -1.421875 \r\nQ 22.515625 -1.421875 17.65625 -0.515625 \r\nQ 12.796875 0.390625 7.625 2.203125 \r\nL 7.625 11.71875 \r\nQ 11.71875 9.328125 16.59375 8.109375 \r\nQ 21.484375 6.890625 26.8125 6.890625 \r\nQ 36.078125 6.890625 40.9375 10.546875 \r\nQ 45.796875 14.203125 45.796875 21.1875 \r\nQ 45.796875 27.640625 41.28125 31.265625 \r\nQ 36.765625 34.90625 28.71875 34.90625 \r\nL 20.21875 34.90625 \r\nL 20.21875 43.015625 \r\nL 29.109375 43.015625 \r\nQ 36.375 43.015625 40.234375 45.921875 \r\nQ 44.09375 48.828125 44.09375 54.296875 \r\nQ 44.09375 59.90625 40.109375 62.90625 \r\nQ 36.140625 65.921875 28.71875 65.921875 \r\nQ 24.65625 65.921875 20.015625 65.03125 \r\nQ 15.375 64.15625 9.8125 62.3125 \r\nL 9.8125 71.09375 \r\nQ 15.4375 72.65625 20.34375 73.4375 \r\nQ 25.25 74.21875 29.59375 74.21875 \r\nQ 40.828125 74.21875 47.359375 69.109375 \r\nQ 53.90625 64.015625 53.90625 55.328125 \r\nQ 53.90625 49.265625 50.4375 45.09375 \r\nQ 46.96875 40.921875 40.578125 39.3125 \r\nz\r\n\" id=\"DejaVuSans-51\"/>\r\n       </defs>\r\n       <use xlink:href=\"#DejaVuSans-51\"/>\r\n       <use x=\"63.623047\" xlink:href=\"#DejaVuSans-48\"/>\r\n       <use x=\"127.246094\" xlink:href=\"#DejaVuSans-48\"/>\r\n      </g>\r\n     </g>\r\n    </g>\r\n    <g id=\"ytick_5\">\r\n     <g id=\"line2d_42\">\r\n      <g>\r\n       <use style=\"stroke:#000000;stroke-width:0.8;\" x=\"33.2875\" xlink:href=\"#ma6f87b0c0f\" y=\"27.551574\"/>\r\n      </g>\r\n     </g>\r\n     <g id=\"text_13\">\r\n      <!-- 400 -->\r\n      <g transform=\"translate(7.2 31.350793)scale(0.1 -0.1)\">\r\n       <use xlink:href=\"#DejaVuSans-52\"/>\r\n       <use x=\"63.623047\" xlink:href=\"#DejaVuSans-48\"/>\r\n       <use x=\"127.246094\" xlink:href=\"#DejaVuSans-48\"/>\r\n      </g>\r\n     </g>\r\n    </g>\r\n   </g>\r\n   <g id=\"line2d_43\">\r\n    <path clip-path=\"url(#p1d8131392e)\" d=\"M 33.2875 214.356679 \r\nL 33.725911 214.342404 \r\nL 34.018185 214.385228 \r\nL 34.748871 214.399502 \r\nL 35.041145 214.523214 \r\nL 35.77183 214.513698 \r\nL 36.064104 214.323372 \r\nL 36.356378 214.461358 \r\nL 36.648652 214.40426 \r\nL 37.233201 214.461358 \r\nL 37.963886 214.385228 \r\nL 38.110023 214.242483 \r\nL 38.402297 214.361437 \r\nL 38.840708 214.304339 \r\nL 38.986845 214.428051 \r\nL 39.279119 214.304339 \r\nL 39.571393 214.413777 \r\nL 40.155942 214.461358 \r\nL 40.448216 214.494665 \r\nL 40.74049 214.361437 \r\nL 41.032764 214.309097 \r\nL 43.517094 214.461358 \r\nL 43.663231 214.737331 \r\nL 43.809368 214.646926 \r\nL 44.540053 214.751605 \r\nL 44.832328 214.646926 \r\nL 45.124602 214.699266 \r\nL 45.416876 214.53273 \r\nL 45.855287 214.442326 \r\nL 46.147561 213.714328 \r\nL 46.585972 213.524002 \r\nL 46.878246 213.433597 \r\nL 47.170521 213.424081 \r\nL 47.316658 213.405048 \r\nL 47.608932 213.642956 \r\nL 48.19348 213.519244 \r\nL 48.339617 213.386015 \r\nL 48.631891 213.571583 \r\nL 49.800988 213.790458 \r\nL 50.093262 213.647714 \r\nL 50.239399 213.733361 \r\nL 50.385536 213.52876 \r\nL 50.531673 213.547793 \r\nL 50.67781 213.328918 \r\nL 51.554632 213.286094 \r\nL 51.700769 213.424081 \r\nL 52.13918 213.290852 \r\nL 52.431455 213.328918 \r\nL 52.723729 213.024396 \r\nL 53.016003 213.21948 \r\nL 53.308277 213.14335 \r\nL 53.454414 213.209964 \r\nL 53.600551 213.148108 \r\nL 53.746688 212.905442 \r\nL 54.477373 212.995847 \r\nL 54.62351 212.753181 \r\nL 55.061922 213.052945 \r\nL 55.208059 212.862619 \r\nL 55.354196 212.948265 \r\nL 55.500333 212.83407 \r\nL 55.792607 213.209964 \r\nL 55.938744 213.133833 \r\nL 56.231018 213.200447 \r\nL 56.815566 213.190931 \r\nL 57.400115 212.719874 \r\nL 57.546252 212.9102 \r\nL 57.838526 212.872135 \r\nL 58.569211 212.439143 \r\nL 58.861485 212.448659 \r\nL 59.007622 212.52479 \r\nL 59.153759 212.467692 \r\nL 59.446033 212.60092 \r\nL 59.738308 212.382045 \r\nL 59.884445 212.596162 \r\nL 60.468993 212.505757 \r\nL 60.61513 212.624711 \r\nL 60.761267 212.539064 \r\nL 61.053541 213.014879 \r\nL 61.491952 212.948265 \r\nL 61.784226 212.986331 \r\nL 62.222637 212.353496 \r\nL 62.368775 212.391561 \r\nL 63.09946 211.972844 \r\nL 63.391734 212.462934 \r\nL 63.684008 212.363012 \r\nL 63.830145 212.462934 \r\nL 63.976282 212.410594 \r\nL 64.268556 212.500999 \r\nL 64.414693 212.234542 \r\nL 64.56083 212.2393 \r\nL 64.853105 212.434385 \r\nL 65.145379 212.429627 \r\nL 65.437653 212.377287 \r\nL 65.876064 212.753181 \r\nL 66.168338 212.543822 \r\nL 66.606749 213.024396 \r\nL 67.04516 213.052945 \r\nL 67.191297 212.848344 \r\nL 67.483572 212.948265 \r\nL 67.775846 212.905442 \r\nL 67.921983 212.715116 \r\nL 68.944942 213.029154 \r\nL 69.091079 212.83407 \r\nL 69.967902 213.190931 \r\nL 71.429272 212.815037 \r\nL 71.575409 212.60092 \r\nL 71.721546 212.619953 \r\nL 72.452232 212.139379 \r\nL 72.598369 212.120347 \r\nL 72.744506 212.439143 \r\nL 73.475191 212.60092 \r\nL 73.913602 212.391561 \r\nL 74.059739 212.520032 \r\nL 74.352013 212.510515 \r\nL 74.790424 212.691325 \r\nL 75.082699 212.477208 \r\nL 75.374973 212.410594 \r\nL 75.52111 212.21551 \r\nL 75.667247 212.234542 \r\nL 75.813384 212.405836 \r\nL 76.251795 212.34398 \r\nL 76.544069 212.54858 \r\nL 76.836343 212.558097 \r\nL 77.420892 212.16317 \r\nL 77.713166 212.186961 \r\nL 78.00544 211.516061 \r\nL 78.151577 211.692113 \r\nL 78.443851 211.292428 \r\nL 78.589988 211.420898 \r\nL 78.736125 211.320977 \r\nL 79.028399 211.734936 \r\nL 79.174536 211.644531 \r\nL 79.320673 211.768243 \r\nL 79.612947 211.72542 \r\nL 79.759084 211.858648 \r\nL 79.905222 211.811067 \r\nL 80.051359 211.482754 \r\nL 80.197496 211.444689 \r\nL 80.343633 211.240088 \r\nL 80.48977 211.23533 \r\nL 80.635907 211.444689 \r\nL 80.928181 211.335251 \r\nL 81.074318 211.140167 \r\nL 81.366592 211.382833 \r\nL 81.805003 211.206781 \r\nL 82.097277 211.539852 \r\nL 82.243414 210.907017 \r\nL 82.389552 210.935566 \r\nL 82.681826 211.282912 \r\nL 83.120237 211.28767 \r\nL 83.558648 211.582675 \r\nL 83.704785 211.506545 \r\nL 83.850922 211.744452 \r\nL 84.581607 211.530336 \r\nL 84.727744 211.625499 \r\nL 85.020019 211.382833 \r\nL 85.896841 211.525577 \r\nL 86.481389 211.092585 \r\nL 86.773663 211.202023 \r\nL 87.065937 211.202023 \r\nL 87.212074 210.997422 \r\nL 87.358211 211.121134 \r\nL 87.504349 211.030729 \r\nL 87.796623 210.654835 \r\nL 87.94276 210.692901 \r\nL 88.235034 210.56443 \r\nL 88.381171 210.711933 \r\nL 88.527308 210.573947 \r\nL 88.673445 210.088615 \r\nL 88.965719 210.05055 \r\nL 89.111856 210.183778 \r\nL 89.40413 209.860224 \r\nL 89.550267 209.983936 \r\nL 89.696404 209.860224 \r\nL 89.842541 210.145713 \r\nL 90.280953 210.193294 \r\nL 90.42709 210.483542 \r\nL 90.719364 210.512091 \r\nL 91.011638 210.707175 \r\nL 91.157775 210.730966 \r\nL 91.303912 210.945083 \r\nL 91.596186 210.840403 \r\nL 91.742323 210.041034 \r\nL 92.034597 210.274183 \r\nL 92.180734 210.217085 \r\nL 92.619146 210.573947 \r\nL 93.203694 210.112406 \r\nL 93.934379 210.41217 \r\nL 94.080516 210.792822 \r\nL 94.226653 210.66911 \r\nL 94.37279 210.378862 \r\nL 94.665064 210.650077 \r\nL 94.957338 210.554914 \r\nL 95.103476 210.531123 \r\nL 95.249613 210.326523 \r\nL 95.39575 210.573947 \r\nL 95.688024 210.483542 \r\nL 95.980298 210.017243 \r\nL 96.126435 209.631832 \r\nL 96.418709 209.760303 \r\nL 96.564846 209.669898 \r\nL 96.710983 209.346343 \r\nL 97.149394 209.498604 \r\nL 97.441668 209.232147 \r\nL 97.587806 209.384408 \r\nL 97.88008 209.408199 \r\nL 98.172354 209.503362 \r\nL 98.610765 208.908593 \r\nL 98.756902 208.837221 \r\nL 98.903039 209.094161 \r\nL 99.779861 208.656411 \r\nL 100.072136 208.646895 \r\nL 100.218273 208.513666 \r\nL 100.36441 208.209144 \r\nL 100.656684 208.585039 \r\nL 100.948958 208.765848 \r\nL 101.095095 208.418503 \r\nL 101.241232 207.176625 \r\nL 101.387369 207.052913 \r\nL 101.533506 206.515242 \r\nL 101.82578 206.581856 \r\nL 101.971917 206.472418 \r\nL 102.118054 206.600889 \r\nL 102.410328 206.462902 \r\nL 102.702603 205.46369 \r\nL 102.994877 205.397076 \r\nL 103.287151 204.71666 \r\nL 103.433288 204.92126 \r\nL 103.579425 204.859404 \r\nL 103.871699 205.021182 \r\nL 104.31011 204.673836 \r\nL 104.748521 204.816581 \r\nL 104.894658 204.702385 \r\nL 105.040796 204.754725 \r\nL 105.186933 203.284456 \r\nL 105.33307 203.29873 \r\nL 105.479207 202.637347 \r\nL 105.625344 202.637347 \r\nL 105.771481 202.518393 \r\nL 105.917618 201.595311 \r\nL 106.063755 201.923624 \r\nL 106.209892 201.747572 \r\nL 106.502166 202.965659 \r\nL 106.648303 202.228146 \r\nL 106.79444 202.918078 \r\nL 107.086714 202.651621 \r\nL 107.232851 202.375648 \r\nL 107.378988 202.432746 \r\nL 107.8174 202.033061 \r\nL 108.109674 202.956143 \r\nL 108.255811 202.727752 \r\nL 108.694222 202.646863 \r\nL 108.840359 202.851464 \r\nL 109.132633 202.546942 \r\nL 109.27877 202.461295 \r\nL 109.424907 202.556458 \r\nL 109.571044 202.818157 \r\nL 110.009455 202.518393 \r\nL 110.155593 201.404985 \r\nL 110.30173 201.471599 \r\nL 110.447867 202.518393 \r\nL 110.594004 202.304276 \r\nL 110.740141 201.271757 \r\nL 111.178552 201.067156 \r\nL 111.324689 201.252724 \r\nL 111.616963 201.10998 \r\nL 111.7631 201.043365 \r\nL 111.909237 200.734085 \r\nL 112.201511 200.596099 \r\nL 112.347648 200.277303 \r\nL 112.493785 199.582612 \r\nL 112.639923 199.43511 \r\nL 112.78606 198.935503 \r\nL 112.932197 199.368495 \r\nL 113.078334 199.121071 \r\nL 113.224471 199.097281 \r\nL 113.370608 198.630982 \r\nL 113.516745 199.144862 \r\nL 113.662882 199.235267 \r\nL 114.24743 196.437473 \r\nL 114.539704 197.227326 \r\nL 114.685841 197.227326 \r\nL 114.831978 197.584188 \r\nL 115.124253 196.718204 \r\nL 115.27039 196.708688 \r\nL 115.416527 196.532636 \r\nL 115.708801 196.884739 \r\nL 115.854938 197.993389 \r\nL 116.001075 197.508057 \r\nL 116.147212 197.536606 \r\nL 116.439486 199.154378 \r\nL 116.73176 198.716628 \r\nL 116.877897 198.692838 \r\nL 117.608582 197.084582 \r\nL 117.900857 197.631769 \r\nL 118.339268 197.641286 \r\nL 118.485405 198.012422 \r\nL 118.631542 197.512816 \r\nL 118.923816 198.421623 \r\nL 119.069953 198.32646 \r\nL 119.654501 197.065549 \r\nL 119.800638 197.931533 \r\nL 119.946775 197.57943 \r\nL 120.092912 198.350251 \r\nL 120.385187 201.05764 \r\nL 120.531324 200.92917 \r\nL 120.677461 200.229721 \r\nL 120.823598 200.981509 \r\nL 120.969735 200.186898 \r\nL 121.115872 200.986268 \r\nL 121.262009 200.282061 \r\nL 121.554283 200.772151 \r\nL 121.70042 200.967235 \r\nL 121.992694 200.543759 \r\nL 122.138831 200.648439 \r\nL 122.284968 200.201172 \r\nL 122.431105 200.424805 \r\nL 122.577242 200.158349 \r\nL 122.869517 200.548517 \r\nL 123.015654 200.933928 \r\nL 123.161791 201.638135 \r\nL 123.454065 200.962477 \r\nL 123.600202 201.052882 \r\nL 123.746339 200.82449 \r\nL 123.892476 200.010846 \r\nL 124.038613 200.010846 \r\nL 124.18475 198.959294 \r\nL 124.477024 198.949778 \r\nL 124.623161 198.492995 \r\nL 124.915435 198.578642 \r\nL 125.061572 198.959294 \r\nL 125.20771 198.702354 \r\nL 125.353847 198.826066 \r\nL 125.499984 199.682533 \r\nL 125.646121 199.834794 \r\nL 125.792258 200.49142 \r\nL 126.084532 199.963265 \r\nL 126.230669 200.838765 \r\nL 126.522943 200.74836 \r\nL 126.815217 199.806245 \r\nL 126.961354 199.649226 \r\nL 127.107491 199.982297 \r\nL 127.253628 199.863343 \r\nL 127.545902 199.373254 \r\nL 127.838177 200.224963 \r\nL 127.984314 200.125042 \r\nL 128.130451 200.572308 \r\nL 128.276588 200.362949 \r\nL 128.568862 200.510452 \r\nL 128.714999 199.806245 \r\nL 128.861136 200.086977 \r\nL 129.007273 199.972781 \r\nL 129.15341 199.677775 \r\nL 129.299547 199.749148 \r\nL 129.591821 199.630194 \r\nL 129.884095 198.107585 \r\nL 130.030232 198.136134 \r\nL 130.322507 197.117889 \r\nL 130.468644 197.279666 \r\nL 130.614781 196.941837 \r\nL 130.907055 197.117889 \r\nL 131.053192 196.946595 \r\nL 131.199329 197.037 \r\nL 131.345466 197.584188 \r\nL 131.491603 197.536606 \r\nL 131.63774 197.327248 \r\nL 131.783877 197.312973 \r\nL 131.930014 197.555639 \r\nL 132.076151 197.422411 \r\nL 132.222288 197.584188 \r\nL 132.368425 197.027484 \r\nL 132.514562 197.236843 \r\nL 132.660699 196.941837 \r\nL 132.952974 195.190837 \r\nL 133.099111 195.871253 \r\nL 133.245248 195.443019 \r\nL 133.537522 196.071095 \r\nL 134.12207 195.961657 \r\nL 134.268207 196.113918 \r\nL 134.414344 196.066337 \r\nL 134.706618 195.566731 \r\nL 134.852755 195.866494 \r\nL 135.145029 195.885527 \r\nL 135.291167 194.657923 \r\nL 135.437304 194.715021 \r\nL 135.875715 193.420804 \r\nL 136.021852 193.696776 \r\nL 136.167989 194.272513 \r\nL 136.314126 194.148801 \r\nL 136.752537 192.569094 \r\nL 136.898674 193.082975 \r\nL 137.044811 193.182896 \r\nL 137.337085 192.259814 \r\nL 137.483222 192.45014 \r\nL 137.629359 193.573064 \r\nL 138.067771 191.974325 \r\nL 138.360045 192.764178 \r\nL 138.798456 193.910893 \r\nL 138.944593 193.330399 \r\nL 139.09073 194.443807 \r\nL 139.236867 192.307396 \r\nL 139.383004 192.183684 \r\nL 139.529141 192.45014 \r\nL 139.675278 193.035393 \r\nL 139.967552 191.165439 \r\nL 140.113689 191.39383 \r\nL 140.259826 190.856159 \r\nL 140.405964 191.184471 \r\nL 140.552101 190.741963 \r\nL 140.844375 191.96005 \r\nL 140.990512 190.475507 \r\nL 141.136649 190.51833 \r\nL 141.428923 188.448533 \r\nL 141.867334 189.376373 \r\nL 142.013471 189.276452 \r\nL 142.305745 188.596036 \r\nL 142.451882 188.638859 \r\nL 142.598019 188.243933 \r\nL 142.744156 186.973506 \r\nL 142.890294 187.178106 \r\nL 143.036431 187.159074 \r\nL 143.182568 186.968747 \r\nL 143.474842 185.945744 \r\nL 143.620979 185.945744 \r\nL 143.767116 184.884676 \r\nL 143.913253 184.732415 \r\nL 144.05939 185.474687 \r\nL 144.205527 185.607916 \r\nL 144.497801 183.319244 \r\nL 144.643938 183.704654 \r\nL 144.790075 182.643586 \r\nL 145.082349 182.629311 \r\nL 145.228486 182.510358 \r\nL 145.374624 182.234385 \r\nL 145.520761 182.201078 \r\nL 145.666898 183.614249 \r\nL 145.813035 183.533361 \r\nL 145.959172 184.042483 \r\nL 146.105309 183.914013 \r\nL 146.251446 183.566668 \r\nL 146.54372 182.65786 \r\nL 146.689857 182.976657 \r\nL 146.835994 182.976657 \r\nL 146.982131 182.557939 \r\nL 147.128268 182.871977 \r\nL 147.274405 183.880706 \r\nL 147.420542 183.671347 \r\nL 147.566679 183.671347 \r\nL 147.712816 182.310515 \r\nL 147.858954 182.205836 \r\nL 148.005091 182.486567 \r\nL 148.151228 181.573001 \r\nL 148.297365 181.691955 \r\nL 148.589639 177.956805 \r\nL 148.735776 177.771237 \r\nL 148.881913 177.152677 \r\nL 149.02805 177.152677 \r\nL 149.174187 177.571394 \r\nL 149.466461 180.269267 \r\nL 149.612598 181.672923 \r\nL 149.758735 180.921134 \r\nL 150.343284 183.604733 \r\nL 150.489421 182.191561 \r\nL 150.635558 181.948896 \r\nL 150.781695 181.991719 \r\nL 150.927832 183.571426 \r\nL 151.073969 183.69038 \r\nL 151.220106 185.85534 \r\nL 151.366243 185.712595 \r\nL 151.51238 185.136858 \r\nL 151.658517 186.973506 \r\nL 151.804654 185.850581 \r\nL 151.950791 187.087701 \r\nL 152.243065 184.941774 \r\nL 152.389202 184.299423 \r\nL 152.681476 184.432652 \r\nL 152.827613 185.008388 \r\nL 152.973751 183.942562 \r\nL 153.119888 183.737961 \r\nL 153.412162 184.099581 \r\nL 153.558299 185.289119 \r\nL 153.850573 184.756206 \r\nL 154.142847 186.721323 \r\nL 154.288984 186.326397 \r\nL 154.435121 186.635677 \r\nL 154.727395 187.810941 \r\nL 155.019669 185.845823 \r\nL 155.311943 187.278027 \r\nL 155.458081 187.111492 \r\nL 155.604218 187.430288 \r\nL 155.750355 188.467566 \r\nL 155.896492 188.53418 \r\nL 156.042629 189.252661 \r\nL 156.334903 189.561941 \r\nL 156.48104 189.942593 \r\nL 156.627177 188.220142 \r\nL 156.773314 188.020299 \r\nL 157.065588 188.067881 \r\nL 157.211725 188.772088 \r\nL 157.503999 183.980627 \r\nL 157.942411 185.527027 \r\nL 158.088548 186.136071 \r\nL 158.380822 186.250266 \r\nL 158.526959 187.04012 \r\nL 158.673096 186.36922 \r\nL 158.819233 186.640435 \r\nL 158.96537 185.69832 \r\nL 159.111507 185.979052 \r\nL 159.257644 186.592853 \r\nL 159.403781 186.393011 \r\nL 159.696055 184.87516 \r\nL 159.842192 184.38507 \r\nL 159.988329 184.760964 \r\nL 160.134466 183.799817 \r\nL 160.280603 184.028209 \r\nL 160.426741 184.032967 \r\nL 160.572878 183.671347 \r\nL 160.719015 183.671347 \r\nL 161.011289 184.285149 \r\nL 161.157426 185.450896 \r\nL 161.303563 185.665013 \r\nL 161.4497 185.62219 \r\nL 161.595837 186.959231 \r\nL 161.741974 186.826003 \r\nL 161.888111 187.815699 \r\nL 162.034248 187.182864 \r\nL 162.180385 187.720536 \r\nL 162.326522 187.829973 \r\nL 162.472659 187.739568 \r\nL 162.618796 187.268511 \r\nL 162.764933 187.639647 \r\nL 162.91107 187.639647 \r\nL 163.203345 189.438229 \r\nL 163.349482 188.296272 \r\nL 163.495619 188.538938 \r\nL 163.641756 189.328792 \r\nL 163.787893 189.46202 \r\nL 163.93403 190.013966 \r\nL 164.080167 188.967172 \r\nL 164.372441 190.756238 \r\nL 164.518578 190.123403 \r\nL 164.664715 190.46599 \r\nL 164.810852 189.623797 \r\nL 164.956989 190.489781 \r\nL 165.103126 190.661075 \r\nL 165.3954 190.347036 \r\nL 165.541538 189.528634 \r\nL 165.687675 189.885496 \r\nL 165.833812 189.809365 \r\nL 166.126086 191.222537 \r\nL 166.272223 189.818881 \r\nL 166.41836 190.627767 \r\nL 166.564497 190.304213 \r\nL 166.710634 190.304213 \r\nL 167.149045 191.517542 \r\nL 167.295182 191.707868 \r\nL 167.441319 191.398588 \r\nL 167.733593 193.01636 \r\nL 167.87973 193.768149 \r\nL 168.172005 192.707081 \r\nL 168.318142 192.136102 \r\nL 168.464279 189.090884 \r\nL 168.610416 188.986205 \r\nL 168.90269 188.410468 \r\nL 169.048827 187.487386 \r\nL 169.194964 187.711019 \r\nL 169.487238 185.541301 \r\nL 169.633375 185.912437 \r\nL 169.925649 184.765722 \r\nL 170.510198 187.620614 \r\nL 170.656335 187.392223 \r\nL 170.802472 187.592066 \r\nL 170.948609 187.454079 \r\nL 171.240883 185.531785 \r\nL 171.38702 185.717353 \r\nL 171.533157 185.565092 \r\nL 171.679294 186.207443 \r\nL 171.825431 185.703079 \r\nL 171.971568 185.850581 \r\nL 172.263842 185.165407 \r\nL 172.556116 186.245508 \r\nL 172.84839 185.593641 \r\nL 172.994527 185.341459 \r\nL 173.140665 185.341459 \r\nL 173.286802 183.866431 \r\nL 173.432939 184.556364 \r\nL 173.579076 183.238355 \r\nL 173.87135 183.3811 \r\nL 174.017487 183.319244 \r\nL 174.163624 182.572214 \r\nL 174.602035 182.719716 \r\nL 174.748172 182.776814 \r\nL 174.894309 182.067849 \r\nL 175.040446 182.358097 \r\nL 175.186583 183.143192 \r\nL 175.478857 180.949683 \r\nL 175.624995 181.520662 \r\nL 175.771132 181.235173 \r\nL 175.917269 181.249447 \r\nL 176.209543 182.629311 \r\nL 176.35568 182.010752 \r\nL 176.647954 182.562697 \r\nL 176.794091 182.367613 \r\nL 177.086365 183.033755 \r\nL 177.232502 182.067849 \r\nL 177.378639 182.182045 \r\nL 177.524776 182.001235 \r\nL 177.670913 182.52939 \r\nL 177.81705 182.415195 \r\nL 177.963187 180.293058 \r\nL 178.255462 179.117794 \r\nL 178.401599 179.312879 \r\nL 178.693873 178.770449 \r\nL 178.84001 179.6174 \r\nL 178.986147 179.612642 \r\nL 179.132284 179.298604 \r\nL 179.278421 180.21217 \r\nL 179.424558 180.297816 \r\nL 179.570695 180.626129 \r\nL 180.155243 178.223261 \r\nL 180.30138 178.327941 \r\nL 180.593655 177.433408 \r\nL 180.739792 177.885432 \r\nL 180.885929 177.143161 \r\nL 181.032066 177.028965 \r\nL 181.178203 176.733959 \r\nL 181.470477 174.906828 \r\nL 181.616614 174.906828 \r\nL 181.762751 174.278752 \r\nL 181.908888 175.273206 \r\nL 182.055025 174.193105 \r\nL 182.347299 174.264478 \r\nL 182.639573 174.521418 \r\nL 182.78571 174.450046 \r\nL 182.931847 175.13522 \r\nL 183.077985 176.462745 \r\nL 183.370259 175.6491 \r\nL 183.516396 176.890978 \r\nL 183.662533 175.506356 \r\nL 183.954807 176.13919 \r\nL 184.100944 177.209775 \r\nL 184.247081 176.81009 \r\nL 184.685492 178.765691 \r\nL 184.831629 178.765691 \r\nL 184.977766 179.094003 \r\nL 185.123903 179.089245 \r\nL 185.27004 179.398525 \r\nL 185.416177 177.509538 \r\nL 185.708452 177.509538 \r\nL 185.854589 178.004386 \r\nL 186.000726 177.11937 \r\nL 186.146863 177.409617 \r\nL 186.293 177.209775 \r\nL 186.585274 171.723624 \r\nL 186.877548 172.856064 \r\nL 187.023685 172.856064 \r\nL 187.169822 171.676042 \r\nL 187.315959 172.699045 \r\nL 187.462096 175.496839 \r\nL 187.608233 175.768054 \r\nL 187.900507 177.100337 \r\nL 188.046644 176.624522 \r\nL 188.192782 176.838639 \r\nL 188.338919 177.252598 \r\nL 188.485056 176.986141 \r\nL 188.631193 177.171709 \r\nL 188.77733 177.086063 \r\nL 188.923467 177.55712 \r\nL 189.069604 177.552362 \r\nL 189.215741 177.937772 \r\nL 189.361878 177.837851 \r\nL 189.508015 176.88622 \r\nL 189.654152 176.871946 \r\nL 189.800289 178.256568 \r\nL 189.946426 177.490506 \r\nL 190.092563 177.576153 \r\nL 190.2387 177.290663 \r\nL 190.384837 177.333487 \r\nL 190.530974 177.514297 \r\nL 190.677112 177.514297 \r\nL 190.823249 177.005174 \r\nL 190.969386 175.434983 \r\nL 191.115523 175.287481 \r\nL 191.407797 175.763296 \r\nL 191.553934 177.94253 \r\nL 191.700071 177.618976 \r\nL 191.846208 176.453228 \r\nL 191.992345 177.238324 \r\nL 192.138482 176.805332 \r\nL 192.284619 175.915557 \r\nL 192.430756 176.13919 \r\nL 192.72303 176.020236 \r\nL 192.869167 175.116187 \r\nL 193.015304 175.815636 \r\nL 193.161442 175.054331 \r\nL 193.307579 175.258932 \r\nL 193.453716 175.249415 \r\nL 193.892127 173.212926 \r\nL 194.038264 173.170102 \r\nL 194.184401 173.379461 \r\nL 194.330538 172.270811 \r\nL 194.476675 172.456379 \r\nL 194.622812 173.512689 \r\nL 194.768949 173.270024 \r\nL 194.915086 173.669709 \r\nL 195.20736 172.913162 \r\nL 195.353497 173.0226 \r\nL 195.499634 172.827515 \r\nL 195.645771 172.827515 \r\nL 195.791909 173.317605 \r\nL 195.938046 173.032116 \r\nL 196.376457 174.940135 \r\nL 196.522594 174.373915 \r\nL 196.668731 174.887796 \r\nL 196.961005 174.925861 \r\nL 197.107142 174.59279 \r\nL 197.253279 173.384219 \r\nL 197.399416 173.512689 \r\nL 197.837827 170.334243 \r\nL 198.130101 170.54836 \r\nL 198.276239 170.11061 \r\nL 198.422376 170.105852 \r\nL 198.568513 169.910767 \r\nL 198.860787 167.888552 \r\nL 199.153061 166.803693 \r\nL 199.445335 165.842546 \r\nL 199.591472 166.718046 \r\nL 199.737609 166.803693 \r\nL 200.029883 165.528508 \r\nL 200.322157 163.853638 \r\nL 200.468294 164.162918 \r\nL 200.614431 165.209712 \r\nL 200.760569 163.815573 \r\nL 200.906706 163.815573 \r\nL 201.052843 163.468228 \r\nL 201.345117 160.213651 \r\nL 201.491254 161.541175 \r\nL 201.783528 159.509444 \r\nL 202.075802 158.843302 \r\nL 202.221939 158.64346 \r\nL 202.368076 160.689466 \r\nL 202.514213 160.599061 \r\nL 202.66035 161.969409 \r\nL 202.952624 160.541963 \r\nL 203.098761 158.357971 \r\nL 203.391036 160.042357 \r\nL 203.537173 158.924191 \r\nL 203.829447 159.666463 \r\nL 203.975584 160.946406 \r\nL 204.121721 159.88058 \r\nL 204.267858 160.513414 \r\nL 204.413995 159.809207 \r\nL 204.560132 160.180343 \r\nL 204.706269 157.368275 \r\nL 204.852406 157.368275 \r\nL 204.998543 154.713225 \r\nL 205.14468 154.927342 \r\nL 205.290817 155.864698 \r\nL 205.436954 154.903551 \r\nL 205.583091 154.884519 \r\nL 205.729229 154.085149 \r\nL 205.875366 152.343665 \r\nL 206.021503 152.167613 \r\nL 206.16764 151.782203 \r\nL 206.313777 152.158097 \r\nL 206.459914 151.263564 \r\nL 206.606051 149.479256 \r\nL 206.752188 149.503047 \r\nL 206.898325 153.69498 \r\nL 207.044462 152.567298 \r\nL 207.190599 148.408672 \r\nL 207.482873 150.583148 \r\nL 207.62901 155.184282 \r\nL 207.921284 152.933676 \r\nL 208.067421 155.141459 \r\nL 208.213558 153.523687 \r\nL 208.359696 153.628366 \r\nL 208.505833 154.113698 \r\nL 208.65197 157.739411 \r\nL 208.798107 158.400794 \r\nL 208.944244 157.073269 \r\nL 209.382655 162.183526 \r\nL 209.528792 159.799691 \r\nL 209.674929 159.723561 \r\nL 209.967203 154.827421 \r\nL 210.11334 155.512595 \r\nL 210.259477 153.499896 \r\nL 210.405614 154.951133 \r\nL 210.551751 157.53481 \r\nL 210.844026 153.047871 \r\nL 210.990163 151.986803 \r\nL 211.1363 151.986803 \r\nL 211.282437 149.284172 \r\nL 211.428574 152.805206 \r\nL 211.574711 153.637882 \r\nL 211.720848 155.179524 \r\nL 211.866985 152.828996 \r\nL 212.013122 153.409491 \r\nL 212.451533 151.829784 \r\nL 212.59767 152.02011 \r\nL 212.743807 150.825814 \r\nL 212.889944 150.897186 \r\nL 213.036081 151.116061 \r\nL 213.474493 144.992318 \r\nL 213.62063 145.187402 \r\nL 213.766767 144.364241 \r\nL 213.912904 144.854331 \r\nL 214.205178 142.484771 \r\nL 214.351315 142.736953 \r\nL 214.497452 143.536323 \r\nL 214.789726 137.983558 \r\nL 214.935863 138.007348 \r\nL 215.082 138.516471 \r\nL 215.228137 140.686189 \r\nL 215.374274 138.297596 \r\nL 215.520411 138.426066 \r\nL 215.958823 135.32375 \r\nL 216.10496 136.789261 \r\nL 216.251097 134.914549 \r\nL 216.397234 129.299928 \r\nL 216.543371 129.409365 \r\nL 216.689508 130.908183 \r\nL 216.835645 129.994618 \r\nL 216.981782 129.80905 \r\nL 217.274056 127.496587 \r\nL 217.420193 128.690884 \r\nL 217.56633 128.486283 \r\nL 217.712467 129.290411 \r\nL 217.858604 126.621087 \r\nL 218.004741 129.233313 \r\nL 218.443153 144.716345 \r\nL 218.58929 137.008136 \r\nL 218.881564 139.701251 \r\nL 219.027701 138.706797 \r\nL 219.173838 139.867786 \r\nL 219.319975 137.536291 \r\nL 219.466112 137.721859 \r\nL 219.612249 137.721859 \r\nL 219.904523 135.780533 \r\nL 220.05066 134.700432 \r\nL 220.342934 130.189702 \r\nL 220.635208 132.77338 \r\nL 220.781345 132.321355 \r\nL 221.219757 125.426791 \r\nL 221.365894 125.469614 \r\nL 221.512031 128.167487 \r\nL 221.804305 126.602055 \r\nL 221.950442 127.287229 \r\nL 222.096579 130.137363 \r\nL 222.242716 130.81302 \r\nL 222.388853 130.746406 \r\nL 222.681127 125.612359 \r\nL 222.827264 123.285622 \r\nL 223.265675 123.395059 \r\nL 223.411813 122.795532 \r\nL 223.55795 123.628209 \r\nL 223.704087 123.628209 \r\nL 223.850224 125.16985 \r\nL 223.996361 125.127027 \r\nL 224.142498 132.207159 \r\nL 224.288635 133.353874 \r\nL 224.434772 136.394334 \r\nL 224.580909 132.516439 \r\nL 224.727046 133.173064 \r\nL 224.873183 135.70916 \r\nL 225.01932 132.811445 \r\nL 225.311594 141.91855 \r\nL 225.603868 141.100148 \r\nL 225.750005 141.100148 \r\nL 225.896143 143.821812 \r\nL 226.04228 151.706072 \r\nL 226.480691 156.016959 \r\nL 226.919102 153.471347 \r\nL 227.357513 156.326239 \r\nL 227.50365 159.82824 \r\nL 227.649787 160.18986 \r\nL 227.942061 156.283416 \r\nL 228.088198 158.467408 \r\nL 228.234335 156.307207 \r\nL 228.818884 159.742593 \r\nL 228.965021 158.962256 \r\nL 229.257295 161.036811 \r\nL 229.403432 160.903583 \r\nL 229.549569 161.184314 \r\nL 229.695706 159.371457 \r\nL 229.841843 156.064541 \r\nL 230.134117 159.95671 \r\nL 230.280254 158.581604 \r\nL 230.426391 158.64346 \r\nL 230.572528 160.337363 \r\nL 230.718665 159.709286 \r\nL 230.864802 160.927374 \r\nL 231.01094 157.282628 \r\nL 231.157077 157.910704 \r\nL 231.303214 157.001897 \r\nL 231.449351 157.634731 \r\nL 231.595488 157.577634 \r\nL 231.741625 154.679918 \r\nL 231.887762 156.178736 \r\nL 232.033899 154.465801 \r\nL 232.180036 154.465801 \r\nL 232.326173 151.487197 \r\nL 232.47231 150.797265 \r\nL 232.618447 148.855938 \r\nL 232.764584 151.14461 \r\nL 232.910721 149.83136 \r\nL 233.056858 149.59821 \r\nL 233.202995 146.729044 \r\nL 233.349132 147.699707 \r\nL 233.641407 145.039899 \r\nL 233.787544 143.702858 \r\nL 234.079818 145.820236 \r\nL 234.225955 144.340451 \r\nL 234.372092 147.866242 \r\nL 234.664366 147.276231 \r\nL 234.810503 144.744894 \r\nL 234.95664 144.369 \r\nL 235.248914 137.864604 \r\nL 235.395051 141.652094 \r\nL 235.541188 140.372151 \r\nL 235.687325 137.493468 \r\nL 235.833462 137.117574 \r\nL 236.125737 134.586236 \r\nL 236.271874 135.109633 \r\nL 236.418011 132.23095 \r\nL 236.564148 131.783684 \r\nL 236.856422 129.06202 \r\nL 237.002559 130.998588 \r\nL 237.148696 129.823324 \r\nL 237.294833 130.589387 \r\nL 237.587107 127.491829 \r\nL 237.733244 129.252346 \r\nL 237.879381 127.601267 \r\nL 238.025518 128.605237 \r\nL 238.171655 130.518015 \r\nL 238.317792 129.42364 \r\nL 238.46393 133.092176 \r\nL 238.610067 133.634605 \r\nL 238.756204 131.674246 \r\nL 238.902341 131.674246 \r\nL 239.048478 129.171457 \r\nL 239.194615 128.895484 \r\nL 239.340752 129.047745 \r\nL 239.486889 128.067566 \r\nL 239.779163 129.675822 \r\nL 239.9253 129.761468 \r\nL 240.071437 127.744011 \r\nL 240.363711 131.464887 \r\nL 240.509848 129.547352 \r\nL 240.948259 135.861421 \r\nL 241.240534 131.550534 \r\nL 241.386671 132.825719 \r\nL 241.532808 131.802716 \r\nL 241.825082 135.485527 \r\nL 241.971219 135.442704 \r\nL 242.117356 133.472828 \r\nL 242.263493 137.817022 \r\nL 242.40963 136.94628 \r\nL 242.555767 138.207191 \r\nL 242.701904 134.762288 \r\nL 242.848041 137.855087 \r\nL 242.994178 136.932006 \r\nL 243.140315 136.932006 \r\nL 243.432589 132.445067 \r\nL 243.578727 134.966888 \r\nL 243.724864 133.834448 \r\nL 243.871001 135.7615 \r\nL 244.017138 135.14294 \r\nL 244.163275 137.160397 \r\nL 244.309412 135.652062 \r\nL 244.455549 136.127878 \r\nL 244.601686 139.296808 \r\nL 244.747823 138.754378 \r\nL 244.89396 140.78611 \r\nL 245.040097 138.768653 \r\nL 245.186234 142.208798 \r\nL 245.332371 140.738528 \r\nL 245.478508 144.411823 \r\nL 245.770782 141.804355 \r\nL 245.916919 142.246863 \r\nL 246.209194 144.968527 \r\nL 246.501468 139.753591 \r\nL 246.647605 140.048596 \r\nL 246.939879 135.295201 \r\nL 247.232153 132.564021 \r\nL 247.37829 132.554504 \r\nL 247.524427 134.257923 \r\nL 247.670564 134.424459 \r\nL 247.816701 135.309475 \r\nL 247.962838 134.210342 \r\nL 248.108975 134.947856 \r\nL 248.255112 133.758317 \r\nL 248.401249 135.775774 \r\nL 248.693524 134.767046 \r\nL 248.839661 135.209554 \r\nL 248.985798 137.212737 \r\nL 249.131935 137.212737 \r\nL 249.278072 138.80196 \r\nL 249.424209 138.435582 \r\nL 249.570346 141.166762 \r\nL 249.716483 141.66161 \r\nL 249.86262 142.736953 \r\nL 250.008757 145.706041 \r\nL 250.154894 145.739348 \r\nL 250.301031 145.2445 \r\nL 250.447168 147.009775 \r\nL 250.593305 151.09227 \r\nL 250.739442 151.320662 \r\nL 250.885579 157.054237 \r\nL 251.177854 150.830572 \r\nL 251.470128 157.525294 \r\nL 251.762402 155.103394 \r\nL 251.908539 156.859152 \r\nL 252.054676 167.793389 \r\nL 252.200813 163.79654 \r\nL 252.34695 165.956742 \r\nL 252.639224 171.690317 \r\nL 252.785361 171.181194 \r\nL 252.931498 175.454016 \r\nL 253.077635 175.154252 \r\nL 253.223772 175.653859 \r\nL 253.516046 165.414312 \r\nL 253.808321 171.271599 \r\nL 253.954458 169.396887 \r\nL 254.100595 171.533298 \r\nL 254.246732 171.03845 \r\nL 254.392869 174.345366 \r\nL 254.685143 171.138371 \r\nL 254.83128 172.018629 \r\nL 254.977417 174.059877 \r\nL 255.415828 165.043176 \r\nL 255.561965 166.684739 \r\nL 255.708102 166.984503 \r\nL 255.854239 165.066967 \r\nL 256.146514 170.724412 \r\nL 256.292651 171.133613 \r\nL 256.731062 174.997233 \r\nL 256.877199 171.99008 \r\nL 257.169473 175.939348 \r\nL 257.31561 175.097155 \r\nL 257.607884 179.579335 \r\nL 257.754021 178.584881 \r\nL 257.900158 173.650676 \r\nL 258.046295 174.673679 \r\nL 258.192432 172.675254 \r\nL 258.338569 172.675254 \r\nL 258.630844 175.563454 \r\nL 258.923118 172.247021 \r\nL 259.069255 174.383432 \r\nL 259.215392 173.15107 \r\nL 259.361529 170.429406 \r\nL 259.507666 170.267629 \r\nL 259.79994 172.675254 \r\nL 259.946077 171.119338 \r\nL 260.092214 172.794208 \r\nL 260.238351 172.470654 \r\nL 260.384488 175.454016 \r\nL 260.676762 175.054331 \r\nL 260.822899 177.081305 \r\nL 260.969036 176.776783 \r\nL 261.115174 177.414375 \r\nL 261.261311 177.414375 \r\nL 261.553585 176.667345 \r\nL 261.699722 176.819606 \r\nL 261.845859 177.266873 \r\nL 261.991996 177.266873 \r\nL 262.28427 172.875097 \r\nL 262.576544 174.573758 \r\nL 262.722681 173.76963 \r\nL 263.453366 178.204229 \r\nL 263.599503 178.703835 \r\nL 263.745641 178.703835 \r\nL 263.891778 180.668952 \r\nL 264.184052 175.834668 \r\nL 264.330189 175.834668 \r\nL 264.622463 174.706986 \r\nL 264.7686 173.055907 \r\nL 264.914737 173.626885 \r\nL 265.060874 174.992475 \r\nL 265.645422 171.980564 \r\nL 265.937696 169.101881 \r\nL 266.083833 171.328697 \r\nL 266.229971 171.809271 \r\nL 266.376108 170.643523 \r\nL 266.668382 170.695863 \r\nL 266.814519 172.898888 \r\nL 266.960656 172.975018 \r\nL 267.106793 174.749809 \r\nL 267.25293 174.483353 \r\nL 267.399067 176.505568 \r\nL 267.691341 174.502385 \r\nL 267.837478 175.439742 \r\nL 267.983615 175.382644 \r\nL 268.129752 176.034511 \r\nL 268.275889 175.82991 \r\nL 268.422026 174.497627 \r\nL 268.860438 178.332699 \r\nL 269.298849 172.032904 \r\nL 269.591123 172.475412 \r\nL 269.883397 169.572938 \r\nL 270.175671 169.539631 \r\nL 270.321808 166.651432 \r\nL 270.467945 167.203378 \r\nL 270.614082 167.208136 \r\nL 270.760219 165.59988 \r\nL 271.052493 168.159767 \r\nL 271.198631 167.860003 \r\nL 271.783179 161.517385 \r\nL 271.929316 163.158948 \r\nL 272.075453 162.530871 \r\nL 272.22159 160.984471 \r\nL 272.367727 160.984471 \r\nL 272.513864 160.675191 \r\nL 272.806138 161.902795 \r\nL 273.098412 159.152582 \r\nL 273.244549 160.541963 \r\nL 273.390686 159.942436 \r\nL 273.536823 160.06139 \r\nL 273.68296 158.210468 \r\nL 273.829098 158.924191 \r\nL 273.975235 158.529264 \r\nL 274.121372 158.924191 \r\nL 274.559783 157.334968 \r\nL 274.70592 155.03678 \r\nL 274.852057 154.732258 \r\nL 274.998194 154.832179 \r\nL 275.144331 156.468984 \r\nL 275.436605 156.226318 \r\nL 275.728879 161.022537 \r\nL 275.875016 159.376216 \r\nL 276.021153 159.628398 \r\nL 276.16729 157.615699 \r\nL 276.313428 157.235046 \r\nL 276.751839 159.590332 \r\nL 276.897976 159.590332 \r\nL 277.19025 154.570481 \r\nL 277.628661 151.572844 \r\nL 277.774798 151.50623 \r\nL 277.920935 150.811539 \r\nL 278.213209 149.041506 \r\nL 278.505483 149.969346 \r\nL 278.65162 151.14461 \r\nL 278.797758 151.287355 \r\nL 279.090032 153.124002 \r\nL 279.236169 153.00029 \r\nL 279.382306 153.366668 \r\nL 279.528443 153.223923 \r\nL 279.67458 151.510988 \r\nL 279.966854 154.113698 \r\nL 280.259128 151.330178 \r\nL 280.405265 150.102574 \r\nL 280.551402 150.326208 \r\nL 280.843676 149.917006 \r\nL 280.989813 151.254048 \r\nL 281.13595 151.254048 \r\nL 281.282088 151.924947 \r\nL 281.428225 153.452314 \r\nL 281.574362 152.586331 \r\nL 281.720499 152.995532 \r\nL 281.866636 151.967771 \r\nL 282.012773 150.150156 \r\nL 282.15891 150.183463 \r\nL 282.305047 147.989954 \r\nL 282.451184 147.685432 \r\nL 282.743458 145.120788 \r\nL 282.889595 145.786929 \r\nL 283.035732 143.298415 \r\nL 283.181869 142.784534 \r\nL 283.328006 141.752015 \r\nL 283.62028 141.747257 \r\nL 283.766418 141.732983 \r\nL 283.912555 140.419732 \r\nL 284.058692 140.134243 \r\nL 284.204829 138.687764 \r\nL 284.64324 139.886819 \r\nL 284.789377 139.125514 \r\nL 284.935514 139.501409 \r\nL 285.081651 140.4007 \r\nL 285.373925 137.740892 \r\nL 285.520062 138.521229 \r\nL 285.666199 141.942341 \r\nL 285.812336 139.843996 \r\nL 285.958473 139.558506 \r\nL 286.250747 137.360239 \r\nL 286.396885 137.43637 \r\nL 286.543022 137.274593 \r\nL 286.689159 138.221465 \r\nL 286.981433 136.965313 \r\nL 287.419844 139.282533 \r\nL 287.565981 138.630666 \r\nL 287.712118 136.841601 \r\nL 287.858255 136.841601 \r\nL 288.004392 135.594965 \r\nL 288.150529 136.446674 \r\nL 288.296666 135.771016 \r\nL 288.442803 135.961342 \r\nL 288.735077 134.533896 \r\nL 289.027352 130.06599 \r\nL 289.173489 129.842357 \r\nL 289.319626 130.318172 \r\nL 289.465763 130.099297 \r\nL 289.6119 129.613966 \r\nL 289.904174 131.103268 \r\nL 290.050311 129.304686 \r\nL 290.196448 129.671063 \r\nL 290.342585 129.685338 \r\nL 290.488722 131.821749 \r\nL 290.927133 127.468038 \r\nL 291.07327 127.353843 \r\nL 291.219407 127.820142 \r\nL 291.511682 127.087386 \r\nL 291.657819 127.46328 \r\nL 291.803956 126.858995 \r\nL 291.950093 127.20634 \r\nL 292.09623 128.400637 \r\nL 292.242367 127.539411 \r\nL 292.534641 120.373632 \r\nL 292.680778 120.240403 \r\nL 292.973052 121.534621 \r\nL 293.265326 126.33084 \r\nL 293.411463 124.451369 \r\nL 293.5576 128.18652 \r\nL 293.703737 127.801109 \r\nL 293.849875 128.067566 \r\nL 294.288286 125.407758 \r\nL 294.434423 122.019953 \r\nL 294.58056 121.296713 \r\nL 294.726697 121.168243 \r\nL 294.872834 121.767771 \r\nL 295.165108 119.559987 \r\nL 295.311245 119.383936 \r\nL 295.457382 119.878784 \r\nL 295.603519 122.471977 \r\nL 295.749656 122.752708 \r\nL 295.895793 119.916849 \r\nL 296.04193 120.602023 \r\nL 296.334204 120.720977 \r\nL 296.480342 122.433912 \r\nL 296.626479 122.757467 \r\nL 296.918753 124.508467 \r\nL 297.06489 124.389513 \r\nL 297.357164 127.972403 \r\nL 297.503301 127.534653 \r\nL 297.649438 123.761437 \r\nL 297.941712 125.250739 \r\nL 298.087849 124.151605 \r\nL 298.233986 125.488647 \r\nL 298.380123 125.079445 \r\nL 298.52626 126.58778 \r\nL 298.964672 122.54335 \r\nL 299.110809 121.715431 \r\nL 299.256946 118.413272 \r\nL 299.403083 118.413272 \r\nL 299.54922 117.190427 \r\nL 299.695357 118.384723 \r\nL 299.841494 117.176153 \r\nL 299.987631 117.609144 \r\nL 300.133768 117.609144 \r\nL 300.279905 116.04847 \r\nL 300.426042 115.872418 \r\nL 300.572179 117.494949 \r\nL 300.718316 117.680517 \r\nL 300.864453 117.014375 \r\nL 301.156727 119.041349 \r\nL 301.302864 117.64721 \r\nL 301.449002 118.227704 \r\nL 301.595139 119.893058 \r\nL 301.741276 119.893058 \r\nL 301.887413 115.55838 \r\nL 302.179687 118.874813 \r\nL 302.325824 123.785228 \r\nL 302.618098 119.8883 \r\nL 302.764235 118.965218 \r\nL 303.056509 126.492617 \r\nL 303.49492 123.081021 \r\nL 303.641057 126.497375 \r\nL 303.787194 124.874845 \r\nL 303.933332 125.512437 \r\nL 304.079469 124.5275 \r\nL 304.225606 125.036622 \r\nL 304.51788 122.533833 \r\nL 304.664017 122.533833 \r\nL 304.810154 121.096871 \r\nL 304.956291 121.501314 \r\nL 305.102428 121.320504 \r\nL 305.394702 122.514801 \r\nL 305.540839 124.11354 \r\nL 305.833113 121.763012 \r\nL 306.125387 118.437063 \r\nL 306.271524 118.503677 \r\nL 306.417662 118.275286 \r\nL 306.563799 117.618661 \r\nL 306.709936 113.697942 \r\nL 306.856073 113.636086 \r\nL 307.148347 110.89539 \r\nL 307.440621 110.057955 \r\nL 307.586758 111.371205 \r\nL 307.732895 111.080958 \r\nL 307.879032 111.237977 \r\nL 308.025169 110.985795 \r\nL 308.171306 112.127752 \r\nL 308.609717 108.739946 \r\nL 308.755854 110.034164 \r\nL 309.048129 107.302984 \r\nL 309.194266 105.656663 \r\nL 309.340403 106.061106 \r\nL 309.48654 105.599565 \r\nL 309.632677 105.599565 \r\nL 309.924951 103.900904 \r\nL 310.071088 103.39654 \r\nL 310.217225 103.70582 \r\nL 310.509499 102.592412 \r\nL 310.655636 102.525798 \r\nL 310.94791 99.437756 \r\nL 311.094047 100.160996 \r\nL 311.240184 100.318015 \r\nL 311.386321 101.498037 \r\nL 311.678596 91.087197 \r\nL 311.824733 89.012642 \r\nL 311.97087 89.645477 \r\nL 312.117007 93.195059 \r\nL 312.263144 93.404418 \r\nL 312.409281 90.054678 \r\nL 312.555418 93.647084 \r\nL 312.701555 91.144295 \r\nL 313.286103 105.651905 \r\nL 313.43224 97.025373 \r\nL 313.578377 95.82156 \r\nL 313.724514 93.171268 \r\nL 314.016789 97.106261 \r\nL 314.162926 96.915935 \r\nL 314.309063 97.800952 \r\nL 314.4552 99.713729 \r\nL 314.601337 104.747856 \r\nL 314.893611 100.465518 \r\nL 315.185885 101.726428 \r\nL 315.478159 95.650266 \r\nL 315.624296 95.650266 \r\nL 315.91657 92.286252 \r\nL 316.062707 92.681179 \r\nL 316.354981 98.476609 \r\nL 316.501119 99.242672 \r\nL 316.647256 102.15942 \r\nL 316.93953 97.253764 \r\nL 317.085667 96.887386 \r\nL 317.670215 87.471 \r\nL 317.816352 89.32668 \r\nL 317.962489 87.57568 \r\nL 318.4009 90.97776 \r\nL 318.547037 90.216455 \r\nL 318.839311 98.195878 \r\nL 319.131586 100.379871 \r\nL 319.277723 100.379871 \r\nL 319.42386 99.575743 \r\nL 319.569997 94.798557 \r\nL 319.716134 95.07453 \r\nL 319.862271 94.346532 \r\nL 320.008408 95.455182 \r\nL 320.154545 98.067408 \r\nL 320.300682 97.6249 \r\nL 320.592956 98.971457 \r\nL 320.739093 101.02698 \r\nL 321.031367 96.906419 \r\nL 321.177504 94.632021 \r\nL 321.323641 94.194271 \r\nL 321.469778 94.508309 \r\nL 321.615916 92.224396 \r\nL 321.90819 95.065013 \r\nL 322.054327 95.474215 \r\nL 322.200464 93.285464 \r\nL 322.346601 93.247399 \r\nL 322.492738 92.747793 \r\nL 322.785012 94.122899 \r\nL 322.931149 93.333046 \r\nL 323.077286 94.446453 \r\nL 323.223423 98.833471 \r\nL 323.36956 98.072166 \r\nL 323.661834 100.0468 \r\nL 323.954108 97.463123 \r\nL 324.100246 98.980974 \r\nL 324.246383 99.095169 \r\nL 324.538657 103.715336 \r\nL 324.684794 102.306923 \r\nL 324.830931 103.548801 \r\nL 325.123205 102.492491 \r\nL 325.269342 102.207002 \r\nL 325.561616 97.891357 \r\nL 325.707753 94.750975 \r\nL 325.85389 94.750975 \r\nL 326.000027 95.207758 \r\nL 326.146164 92.776342 \r\nL 326.438438 92.543192 \r\nL 326.730713 90.330651 \r\nL 326.87685 89.30289 \r\nL 327.022987 86.281462 \r\nL 327.169124 86.852441 \r\nL 327.315261 83.112532 \r\nL 327.461398 82.855592 \r\nL 327.753672 80.405143 \r\nL 327.899809 78.78737 \r\nL 328.045946 79.339316 \r\nL 328.192083 81.385322 \r\nL 328.33822 81.142656 \r\nL 328.776631 85.296524 \r\nL 328.922768 80.395626 \r\nL 329.215043 80.262398 \r\nL 329.507317 77.340892 \r\nL 329.799591 75.066494 \r\nL 329.945728 74.033975 \r\nL 330.238002 66.568432 \r\nL 330.384139 70.617621 \r\nL 330.530276 70.122773 \r\nL 330.676413 70.603346 \r\nL 330.82255 71.578768 \r\nL 330.968687 70.926901 \r\nL 331.260961 71.407474 \r\nL 331.553235 74.66681 \r\nL 331.991647 69.042672 \r\nL 332.137784 66.439962 \r\nL 332.283921 66.982392 \r\nL 332.430058 66.273427 \r\nL 332.576195 67.481998 \r\nL 332.722332 66.554158 \r\nL 332.868469 67.210783 \r\nL 333.014606 71.312311 \r\nL 333.160743 71.783369 \r\nL 333.30688 74.376562 \r\nL 333.453017 74.895201 \r\nL 333.599154 71.121985 \r\nL 333.745291 71.930871 \r\nL 333.891428 68.776216 \r\nL 334.037565 70.979241 \r\nL 334.183703 68.091041 \r\nL 334.475977 67.995878 \r\nL 334.622114 67.106104 \r\nL 334.768251 69.827767 \r\nL 335.060525 66.49706 \r\nL 335.206662 66.834889 \r\nL 335.352799 65.545429 \r\nL 335.498936 66.468511 \r\nL 335.645073 65.136228 \r\nL 335.79121 65.730997 \r\nL 336.083484 64.82219 \r\nL 336.229621 65.478815 \r\nL 336.375758 65.445508 \r\nL 336.521895 65.022032 \r\nL 336.668033 65.326554 \r\nL 337.106444 63.161594 \r\nL 337.252581 63.903866 \r\nL 337.398718 63.903866 \r\nL 337.690992 63.014092 \r\nL 337.837129 63.099738 \r\nL 338.129403 64.398714 \r\nL 338.421677 60.244846 \r\nL 338.567814 58.955387 \r\nL 338.713951 59.083857 \r\nL 338.860088 57.946658 \r\nL 339.006225 54.934747 \r\nL 339.152363 55.320158 \r\nL 339.590774 52.065581 \r\nL 339.736911 52.065581 \r\nL 339.883048 55.791215 \r\nL 340.029185 56.652441 \r\nL 340.321459 62.419323 \r\nL 340.613733 55.434353 \r\nL 340.75987 54.268606 \r\nL 340.906007 54.573127 \r\nL 341.052144 57.956175 \r\nL 341.198281 56.424049 \r\nL 341.344418 53.707144 \r\nL 341.636692 54.46369 \r\nL 341.928967 50.447808 \r\nL 342.221241 47.459688 \r\nL 342.367378 49.18214 \r\nL 342.951926 45.094886 \r\nL 343.390337 51.075885 \r\nL 343.536474 56.761878 \r\nL 343.682611 54.853859 \r\nL 343.828748 54.730147 \r\nL 344.121022 49.814974 \r\nL 344.26716 51.670654 \r\nL 344.413297 50.333613 \r\nL 344.559434 46.793547 \r\nL 344.705571 46.584188 \r\nL 344.851708 48.791971 \r\nL 344.997845 48.601645 \r\nL 345.290119 52.926806 \r\nL 345.582393 49.648439 \r\nL 345.72853 53.516817 \r\nL 345.874667 60.85389 \r\nL 346.020804 58.650865 \r\nL 346.166941 60.539852 \r\nL 346.313078 56.433565 \r\nL 346.459215 55.529516 \r\nL 346.605352 56.485905 \r\nL 346.897627 50.609586 \r\nL 347.043764 51.132983 \r\nL 347.189901 50.885559 \r\nL 347.336038 51.994208 \r\nL 347.482175 52.051306 \r\nL 347.920586 56.62865 \r\nL 348.066723 57.033093 \r\nL 348.21286 57.01406 \r\nL 348.505134 60.477996 \r\nL 348.651271 59.716691 \r\nL 348.797408 57.9419 \r\nL 349.089682 62.067219 \r\nL 349.528094 54.95378 \r\nL 349.674231 51.009271 \r\nL 349.820368 51.009271 \r\nL 349.966505 49.910137 \r\nL 350.112642 51.142499 \r\nL 350.258779 51.270969 \r\nL 350.404916 52.888741 \r\nL 350.551053 51.280485 \r\nL 350.69719 53.112374 \r\nL 350.989464 51.546942 \r\nL 351.135601 52.888741 \r\nL 351.281738 52.931565 \r\nL 351.427875 52.484298 \r\nL 351.574012 51.60404 \r\nL 351.866287 52.974388 \r\nL 352.158561 59.288458 \r\nL 352.596972 55.848313 \r\nL 352.743109 58.374892 \r\nL 352.889246 58.765061 \r\nL 353.035383 59.816613 \r\nL 353.18152 57.63262 \r\nL 353.327657 58.479571 \r\nL 353.473794 57.332856 \r\nL 353.619931 57.332856 \r\nL 353.766068 52.374861 \r\nL 353.912205 53.478752 \r\nL 354.058342 53.198021 \r\nL 354.204479 54.46369 \r\nL 354.496754 59.887985 \r\nL 354.642891 59.792822 \r\nL 354.789028 60.149683 \r\nL 354.935165 62.809491 \r\nL 355.081302 62.47642 \r\nL 355.227439 59.697659 \r\nL 355.519713 63.161594 \r\nL 355.811987 67.843617 \r\nL 355.958124 63.09498 \r\nL 356.104261 64.374924 \r\nL 356.250398 60.273395 \r\nL 356.396535 62.595374 \r\nL 356.688809 58.355859 \r\nL 356.834947 58.936354 \r\nL 356.981084 58.160775 \r\nL 357.127221 54.549337 \r\nL 357.273358 54.549337 \r\nL 357.711769 47.916471 \r\nL 357.857906 46.722174 \r\nL 358.004043 49.43908 \r\nL 358.15018 49.558034 \r\nL 358.296317 47.526302 \r\nL 358.442454 47.645256 \r\nL 359.027002 33.784755 \r\nL 359.173139 33.599187 \r\nL 359.611551 25.929044 \r\nL 359.757688 31.077366 \r\nL 360.049962 32.081336 \r\nL 360.196099 29.097974 \r\nL 360.342236 32.828366 \r\nL 360.488373 31.086882 \r\nL 360.926784 49.814974 \r\nL 361.072921 39.918015 \r\nL 361.219058 44.828429 \r\nL 361.511332 38.500085 \r\nL 361.657469 35.445351 \r\nL 361.803607 36.83949 \r\nL 361.949744 36.858522 \r\nL 362.242018 48.473175 \r\nL 362.388155 48.27809 \r\nL 362.534292 40.113099 \r\nL 362.680429 38.885496 \r\nL 362.826566 40.056001 \r\nL 363.11884 32.324002 \r\nL 363.264977 32.314486 \r\nL 363.703388 39.898982 \r\nL 363.849525 39.898982 \r\nL 364.141799 35.197927 \r\nL 364.287936 35.098005 \r\nL 364.434074 38.266936 \r\nL 364.580211 37.09643 \r\nL 365.164759 27.313666 \r\nL 365.310896 22.017841 \r\nL 365.457033 21.151858 \r\nL 365.60317 21.775176 \r\nL 365.749307 26.68559 \r\nL 365.895444 25.505568 \r\nL 366.041581 26.043239 \r\nL 366.479992 32.038513 \r\nL 366.772266 39.637284 \r\nL 366.918404 40.636496 \r\nL 367.064541 37.900558 \r\nL 367.210678 38.319275 \r\nL 367.356815 41.921197 \r\nL 367.649089 27.413588 \r\nL 367.795226 26.509538 \r\nL 367.941363 23.540451 \r\nL 368.0875 17.083636 \r\nL 368.0875 17.083636 \r\n\" style=\"fill:none;stroke:#1f77b4;stroke-linecap:square;stroke-width:1.5;\"/>\r\n   </g>\r\n   <g id=\"line2d_44\">\r\n    <path clip-path=\"url(#p1d8131392e)\" d=\"M 69.675627 213.489077 \r\nL 76.544069 213.144111 \r\nL 81.074318 212.803142 \r\nL 85.312293 212.515559 \r\nL 96.272572 211.75138 \r\nL 101.387369 211.249757 \r\nL 104.31011 210.677123 \r\nL 106.502166 210.094782 \r\nL 114.539704 207.57612 \r\nL 120.092912 205.49477 \r\nL 126.815217 203.520384 \r\nL 131.783877 201.93904 \r\nL 136.6064 200.109949 \r\nL 139.236867 199.077011 \r\nL 143.474842 197.42479 \r\nL 145.520761 196.371334 \r\nL 151.366243 193.465054 \r\nL 159.111507 190.861469 \r\nL 164.664715 188.88811 \r\nL 166.856771 188.349297 \r\nL 169.925649 187.740196 \r\nL 172.409979 187.11684 \r\nL 174.894309 186.497195 \r\nL 178.401599 185.564426 \r\nL 180.155243 185.1801 \r\nL 183.80867 184.415161 \r\nL 184.977766 184.278164 \r\nL 186.439137 184.213358 \r\nL 188.923467 183.589297 \r\nL 191.553934 182.986649 \r\nL 192.869167 182.562507 \r\nL 196.23032 181.379573 \r\nL 198.130101 180.778371 \r\nL 199.591472 179.988612 \r\nL 201.19898 178.88198 \r\nL 204.413995 176.161021 \r\nL 207.336736 173.39975 \r\nL 208.505833 172.361597 \r\nL 213.328356 168.54651 \r\nL 215.958823 165.668283 \r\nL 217.420193 163.750938 \r\nL 218.443153 162.563246 \r\nL 220.635208 160.200975 \r\nL 221.658168 158.789193 \r\nL 223.704087 156.014485 \r\nL 225.165457 154.26004 \r\nL 226.334554 153.261474 \r\nL 228.818884 151.914498 \r\nL 230.864802 151.068727 \r\nL 232.47231 150.289989 \r\nL 235.541188 148.070786 \r\nL 237.148696 146.641379 \r\nL 239.633026 144.531272 \r\nL 241.678945 143.021471 \r\nL 242.994178 142.411343 \r\nL 244.163275 141.899042 \r\nL 246.355331 140.934679 \r\nL 247.524427 140.334771 \r\nL 249.570346 139.436012 \r\nL 250.301031 139.395739 \r\nL 250.885579 139.527388 \r\nL 251.762402 139.887009 \r\nL 252.34695 140.30626 \r\nL 253.223772 141.277209 \r\nL 255.123554 143.311966 \r\nL 256.731062 144.726261 \r\nL 257.900158 146.214801 \r\nL 261.991996 151.246454 \r\nL 262.722681 151.800246 \r\nL 265.937696 153.355686 \r\nL 267.25293 153.827847 \r\nL 268.568163 154.488145 \r\nL 273.390686 157.608847 \r\nL 277.19025 160.508599 \r\nL 280.259128 161.92356 \r\nL 282.15891 162.55666 \r\nL 285.227788 162.970087 \r\nL 286.396885 162.964891 \r\nL 287.565981 162.594688 \r\nL 288.296666 162.218203 \r\nL 288.735077 161.887264 \r\nL 289.465763 161.075809 \r\nL 291.511682 158.695305 \r\nL 293.849875 155.782211 \r\nL 297.795575 150.228761 \r\nL 300.133768 146.743394 \r\nL 301.887413 143.956144 \r\nL 303.056509 142.35651 \r\nL 304.51788 140.367507 \r\nL 311.532459 129.910189 \r\nL 314.162926 125.414705 \r\nL 317.962489 119.668074 \r\nL 318.985448 118.069258 \r\nL 323.515697 112.602159 \r\nL 325.85389 110.338477 \r\nL 327.022987 109.091479 \r\nL 329.799591 105.664581 \r\nL 332.430058 101.855698 \r\nL 337.983266 93.592498 \r\nL 339.2985 91.395297 \r\nL 343.828748 82.970701 \r\nL 346.75149 78.54775 \r\nL 348.066723 76.847452 \r\nL 349.820368 75.09156 \r\nL 352.304698 72.037016 \r\nL 357.711769 66.556194 \r\nL 359.173139 64.529354 \r\nL 362.680429 58.644223 \r\nL 364.580211 56.08327 \r\nL 365.310896 55.017691 \r\nL 366.333855 53.54135 \r\nL 366.918404 53.019 \r\nL 367.795226 52.134993 \r\nL 368.0875 51.708262 \r\nL 368.0875 51.708262 \r\n\" style=\"fill:none;stroke:#ff7f0e;stroke-linecap:square;stroke-width:1.5;\"/>\r\n   </g>\r\n   <g id=\"patch_3\">\r\n    <path d=\"M 33.2875 224.64 \r\nL 33.2875 7.2 \r\n\" style=\"fill:none;stroke:#000000;stroke-linecap:square;stroke-linejoin:miter;stroke-width:0.8;\"/>\r\n   </g>\r\n   <g id=\"patch_4\">\r\n    <path d=\"M 368.0875 224.64 \r\nL 368.0875 7.2 \r\n\" style=\"fill:none;stroke:#000000;stroke-linecap:square;stroke-linejoin:miter;stroke-width:0.8;\"/>\r\n   </g>\r\n   <g id=\"patch_5\">\r\n    <path d=\"M 33.2875 224.64 \r\nL 368.0875 224.64 \r\n\" style=\"fill:none;stroke:#000000;stroke-linecap:square;stroke-linejoin:miter;stroke-width:0.8;\"/>\r\n   </g>\r\n   <g id=\"patch_6\">\r\n    <path d=\"M 33.2875 7.2 \r\nL 368.0875 7.2 \r\n\" style=\"fill:none;stroke:#000000;stroke-linecap:square;stroke-linejoin:miter;stroke-width:0.8;\"/>\r\n   </g>\r\n  </g>\r\n </g>\r\n <defs>\r\n  <clipPath id=\"p1d8131392e\">\r\n   <rect height=\"217.44\" width=\"334.8\" x=\"33.2875\" y=\"7.2\"/>\r\n  </clipPath>\r\n </defs>\r\n</svg>\r\n",
      "image/png": "[encoded data removed]"
     },
     "metadata": {
      "needs_background": "light"
     }
    }
   ],
   "source": [
    "close_px.AAPL.plot()\n",
    "close_px.AAPL.rolling(250).mean().plot()"
   ]
  },
  {
   "cell_type": "code",
   "execution_count": 256,
   "metadata": {},
   "outputs": [],
   "source": [
    "appl_std250 = close_px.AAPL.rolling(250, min_periods=10).std()"
   ]
  },
  {
   "cell_type": "code",
   "execution_count": 257,
   "metadata": {},
   "outputs": [
    {
     "output_type": "execute_result",
     "data": {
      "text/plain": [
       "2003-01-02          NaN\n",
       "2003-01-03          NaN\n",
       "2003-01-06          NaN\n",
       "2003-01-07          NaN\n",
       "2003-01-08          NaN\n",
       "                ...    \n",
       "2011-10-10    25.430104\n",
       "2011-10-11    25.523131\n",
       "2011-10-12    25.624851\n",
       "2011-10-13    25.758644\n",
       "2011-10-14    25.993449\n",
       "Freq: B, Name: AAPL, Length: 2292, dtype: float64"
      ]
     },
     "metadata": {},
     "execution_count": 257
    }
   ],
   "source": [
    "appl_std250"
   ]
  },
  {
   "cell_type": "code",
   "execution_count": 258,
   "metadata": {},
   "outputs": [
    {
     "output_type": "execute_result",
     "data": {
      "text/plain": [
       "<AxesSubplot:>"
      ]
     },
     "metadata": {},
     "execution_count": 258
    },
    {
     "output_type": "display_data",
     "data": {
      "text/plain": "<Figure size 432x288 with 1 Axes>",
      "image/svg+xml": "<?xml version=\"1.0\" encoding=\"utf-8\" standalone=\"no\"?>\r\n<!DOCTYPE svg PUBLIC \"-//W3C//DTD SVG 1.1//EN\"\r\n  \"http://www.w3.org/Graphics/SVG/1.1/DTD/svg11.dtd\">\r\n<!-- Created with matplotlib (https://matplotlib.org/) -->\r\n<svg height=\"248.518125pt\" version=\"1.1\" viewBox=\"0 0 368.925 248.518125\" width=\"368.925pt\" xmlns=\"http://www.w3.org/2000/svg\" xmlns:xlink=\"http://www.w3.org/1999/xlink\">\r\n <metadata>\r\n  <rdf:RDF xmlns:cc=\"http://creativecommons.org/ns#\" xmlns:dc=\"http://purl.org/dc/elements/1.1/\" xmlns:rdf=\"http://www.w3.org/1999/02/22-rdf-syntax-ns#\">\r\n   <cc:Work>\r\n    <dc:type rdf:resource=\"http://purl.org/dc/dcmitype/StillImage\"/>\r\n    <dc:date>2021-05-11T11:12:38.487549</dc:date>\r\n    <dc:format>image/svg+xml</dc:format>\r\n    <dc:creator>\r\n     <cc:Agent>\r\n      <dc:title>Matplotlib v3.3.2, https://matplotlib.org/</dc:title>\r\n     </cc:Agent>\r\n    </dc:creator>\r\n   </cc:Work>\r\n  </rdf:RDF>\r\n </metadata>\r\n <defs>\r\n  <style type=\"text/css\">*{stroke-linecap:butt;stroke-linejoin:round;}</style>\r\n </defs>\r\n <g id=\"figure_1\">\r\n  <g id=\"patch_1\">\r\n   <path d=\"M -0 248.518125 \r\nL 368.925 248.518125 \r\nL 368.925 0 \r\nL -0 0 \r\nz\r\n\" style=\"fill:none;\"/>\r\n  </g>\r\n  <g id=\"axes_1\">\r\n   <g id=\"patch_2\">\r\n    <path d=\"M 26.925 224.64 \r\nL 361.725 224.64 \r\nL 361.725 7.2 \r\nL 26.925 7.2 \r\nz\r\n\" style=\"fill:#ffffff;\"/>\r\n   </g>\r\n   <g id=\"matplotlib.axis_1\">\r\n    <g id=\"xtick_1\">\r\n     <g id=\"line2d_1\">\r\n      <defs>\r\n       <path d=\"M 0 0 \r\nL 0 3.5 \r\n\" id=\"m42b4aa1cd8\" style=\"stroke:#000000;stroke-width:0.8;\"/>\r\n      </defs>\r\n      <g>\r\n       <use style=\"stroke:#000000;stroke-width:0.8;\" x=\"26.925\" xlink:href=\"#m42b4aa1cd8\" y=\"224.64\"/>\r\n      </g>\r\n     </g>\r\n    </g>\r\n    <g id=\"xtick_2\">\r\n     <g id=\"line2d_2\">\r\n      <g>\r\n       <use style=\"stroke:#000000;stroke-width:0.8;\" x=\"64.920635\" xlink:href=\"#m42b4aa1cd8\" y=\"224.64\"/>\r\n      </g>\r\n     </g>\r\n     <g id=\"text_1\">\r\n      <!-- 2004 -->\r\n      <g transform=\"translate(52.195635 239.238437)scale(0.1 -0.1)\">\r\n       <defs>\r\n        <path d=\"M 19.1875 8.296875 \r\nL 53.609375 8.296875 \r\nL 53.609375 0 \r\nL 7.328125 0 \r\nL 7.328125 8.296875 \r\nQ 12.9375 14.109375 22.625 23.890625 \r\nQ 32.328125 33.6875 34.8125 36.53125 \r\nQ 39.546875 41.84375 41.421875 45.53125 \r\nQ 43.3125 49.21875 43.3125 52.78125 \r\nQ 43.3125 58.59375 39.234375 62.25 \r\nQ 35.15625 65.921875 28.609375 65.921875 \r\nQ 23.96875 65.921875 18.8125 64.3125 \r\nQ 13.671875 62.703125 7.8125 59.421875 \r\nL 7.8125 69.390625 \r\nQ 13.765625 71.78125 18.9375 73 \r\nQ 24.125 74.21875 28.421875 74.21875 \r\nQ 39.75 74.21875 46.484375 68.546875 \r\nQ 53.21875 62.890625 53.21875 53.421875 \r\nQ 53.21875 48.921875 51.53125 44.890625 \r\nQ 49.859375 40.875 45.40625 35.40625 \r\nQ 44.1875 33.984375 37.640625 27.21875 \r\nQ 31.109375 20.453125 19.1875 8.296875 \r\nz\r\n\" id=\"DejaVuSans-50\"/>\r\n        <path d=\"M 31.78125 66.40625 \r\nQ 24.171875 66.40625 20.328125 58.90625 \r\nQ 16.5 51.421875 16.5 36.375 \r\nQ 16.5 21.390625 20.328125 13.890625 \r\nQ 24.171875 6.390625 31.78125 6.390625 \r\nQ 39.453125 6.390625 43.28125 13.890625 \r\nQ 47.125 21.390625 47.125 36.375 \r\nQ 47.125 51.421875 43.28125 58.90625 \r\nQ 39.453125 66.40625 31.78125 66.40625 \r\nz\r\nM 31.78125 74.21875 \r\nQ 44.046875 74.21875 50.515625 64.515625 \r\nQ 56.984375 54.828125 56.984375 36.375 \r\nQ 56.984375 17.96875 50.515625 8.265625 \r\nQ 44.046875 -1.421875 31.78125 -1.421875 \r\nQ 19.53125 -1.421875 13.0625 8.265625 \r\nQ 6.59375 17.96875 6.59375 36.375 \r\nQ 6.59375 54.828125 13.0625 64.515625 \r\nQ 19.53125 74.21875 31.78125 74.21875 \r\nz\r\n\" id=\"DejaVuSans-48\"/>\r\n        <path d=\"M 37.796875 64.3125 \r\nL 12.890625 25.390625 \r\nL 37.796875 25.390625 \r\nz\r\nM 35.203125 72.90625 \r\nL 47.609375 72.90625 \r\nL 47.609375 25.390625 \r\nL 58.015625 25.390625 \r\nL 58.015625 17.1875 \r\nL 47.609375 17.1875 \r\nL 47.609375 0 \r\nL 37.796875 0 \r\nL 37.796875 17.1875 \r\nL 4.890625 17.1875 \r\nL 4.890625 26.703125 \r\nz\r\n\" id=\"DejaVuSans-52\"/>\r\n       </defs>\r\n       <use xlink:href=\"#DejaVuSans-50\"/>\r\n       <use x=\"63.623047\" xlink:href=\"#DejaVuSans-48\"/>\r\n       <use x=\"127.246094\" xlink:href=\"#DejaVuSans-48\"/>\r\n       <use x=\"190.869141\" xlink:href=\"#DejaVuSans-52\"/>\r\n      </g>\r\n     </g>\r\n    </g>\r\n    <g id=\"xtick_3\">\r\n     <g id=\"line2d_3\">\r\n      <g>\r\n       <use style=\"stroke:#000000;stroke-width:0.8;\" x=\"103.208544\" xlink:href=\"#m42b4aa1cd8\" y=\"224.64\"/>\r\n      </g>\r\n     </g>\r\n     <g id=\"text_2\">\r\n      <!-- 2005 -->\r\n      <g transform=\"translate(90.483544 239.238437)scale(0.1 -0.1)\">\r\n       <defs>\r\n        <path d=\"M 10.796875 72.90625 \r\nL 49.515625 72.90625 \r\nL 49.515625 64.59375 \r\nL 19.828125 64.59375 \r\nL 19.828125 46.734375 \r\nQ 21.96875 47.46875 24.109375 47.828125 \r\nQ 26.265625 48.1875 28.421875 48.1875 \r\nQ 40.625 48.1875 47.75 41.5 \r\nQ 54.890625 34.8125 54.890625 23.390625 \r\nQ 54.890625 11.625 47.5625 5.09375 \r\nQ 40.234375 -1.421875 26.90625 -1.421875 \r\nQ 22.3125 -1.421875 17.546875 -0.640625 \r\nQ 12.796875 0.140625 7.71875 1.703125 \r\nL 7.71875 11.625 \r\nQ 12.109375 9.234375 16.796875 8.0625 \r\nQ 21.484375 6.890625 26.703125 6.890625 \r\nQ 35.15625 6.890625 40.078125 11.328125 \r\nQ 45.015625 15.765625 45.015625 23.390625 \r\nQ 45.015625 31 40.078125 35.4375 \r\nQ 35.15625 39.890625 26.703125 39.890625 \r\nQ 22.75 39.890625 18.8125 39.015625 \r\nQ 14.890625 38.140625 10.796875 36.28125 \r\nz\r\n\" id=\"DejaVuSans-53\"/>\r\n       </defs>\r\n       <use xlink:href=\"#DejaVuSans-50\"/>\r\n       <use x=\"63.623047\" xlink:href=\"#DejaVuSans-48\"/>\r\n       <use x=\"127.246094\" xlink:href=\"#DejaVuSans-48\"/>\r\n       <use x=\"190.869141\" xlink:href=\"#DejaVuSans-53\"/>\r\n      </g>\r\n     </g>\r\n    </g>\r\n    <g id=\"xtick_4\">\r\n     <g id=\"line2d_4\">\r\n      <g>\r\n       <use style=\"stroke:#000000;stroke-width:0.8;\" x=\"141.204179\" xlink:href=\"#m42b4aa1cd8\" y=\"224.64\"/>\r\n      </g>\r\n     </g>\r\n     <g id=\"text_3\">\r\n      <!-- 2006 -->\r\n      <g transform=\"translate(128.479179 239.238437)scale(0.1 -0.1)\">\r\n       <defs>\r\n        <path d=\"M 33.015625 40.375 \r\nQ 26.375 40.375 22.484375 35.828125 \r\nQ 18.609375 31.296875 18.609375 23.390625 \r\nQ 18.609375 15.53125 22.484375 10.953125 \r\nQ 26.375 6.390625 33.015625 6.390625 \r\nQ 39.65625 6.390625 43.53125 10.953125 \r\nQ 47.40625 15.53125 47.40625 23.390625 \r\nQ 47.40625 31.296875 43.53125 35.828125 \r\nQ 39.65625 40.375 33.015625 40.375 \r\nz\r\nM 52.59375 71.296875 \r\nL 52.59375 62.3125 \r\nQ 48.875 64.0625 45.09375 64.984375 \r\nQ 41.3125 65.921875 37.59375 65.921875 \r\nQ 27.828125 65.921875 22.671875 59.328125 \r\nQ 17.53125 52.734375 16.796875 39.40625 \r\nQ 19.671875 43.65625 24.015625 45.921875 \r\nQ 28.375 48.1875 33.59375 48.1875 \r\nQ 44.578125 48.1875 50.953125 41.515625 \r\nQ 57.328125 34.859375 57.328125 23.390625 \r\nQ 57.328125 12.15625 50.6875 5.359375 \r\nQ 44.046875 -1.421875 33.015625 -1.421875 \r\nQ 20.359375 -1.421875 13.671875 8.265625 \r\nQ 6.984375 17.96875 6.984375 36.375 \r\nQ 6.984375 53.65625 15.1875 63.9375 \r\nQ 23.390625 74.21875 37.203125 74.21875 \r\nQ 40.921875 74.21875 44.703125 73.484375 \r\nQ 48.484375 72.75 52.59375 71.296875 \r\nz\r\n\" id=\"DejaVuSans-54\"/>\r\n       </defs>\r\n       <use xlink:href=\"#DejaVuSans-50\"/>\r\n       <use x=\"63.623047\" xlink:href=\"#DejaVuSans-48\"/>\r\n       <use x=\"127.246094\" xlink:href=\"#DejaVuSans-48\"/>\r\n       <use x=\"190.869141\" xlink:href=\"#DejaVuSans-54\"/>\r\n      </g>\r\n     </g>\r\n    </g>\r\n    <g id=\"xtick_5\">\r\n     <g id=\"line2d_5\">\r\n      <g>\r\n       <use style=\"stroke:#000000;stroke-width:0.8;\" x=\"179.199814\" xlink:href=\"#m42b4aa1cd8\" y=\"224.64\"/>\r\n      </g>\r\n     </g>\r\n     <g id=\"text_4\">\r\n      <!-- 2007 -->\r\n      <g transform=\"translate(166.474814 239.238437)scale(0.1 -0.1)\">\r\n       <defs>\r\n        <path d=\"M 8.203125 72.90625 \r\nL 55.078125 72.90625 \r\nL 55.078125 68.703125 \r\nL 28.609375 0 \r\nL 18.3125 0 \r\nL 43.21875 64.59375 \r\nL 8.203125 64.59375 \r\nz\r\n\" id=\"DejaVuSans-55\"/>\r\n       </defs>\r\n       <use xlink:href=\"#DejaVuSans-50\"/>\r\n       <use x=\"63.623047\" xlink:href=\"#DejaVuSans-48\"/>\r\n       <use x=\"127.246094\" xlink:href=\"#DejaVuSans-48\"/>\r\n       <use x=\"190.869141\" xlink:href=\"#DejaVuSans-55\"/>\r\n      </g>\r\n     </g>\r\n    </g>\r\n    <g id=\"xtick_6\">\r\n     <g id=\"line2d_6\">\r\n      <g>\r\n       <use style=\"stroke:#000000;stroke-width:0.8;\" x=\"217.341587\" xlink:href=\"#m42b4aa1cd8\" y=\"224.64\"/>\r\n      </g>\r\n     </g>\r\n     <g id=\"text_5\">\r\n      <!-- 2008 -->\r\n      <g transform=\"translate(204.616587 239.238437)scale(0.1 -0.1)\">\r\n       <defs>\r\n        <path d=\"M 31.78125 34.625 \r\nQ 24.75 34.625 20.71875 30.859375 \r\nQ 16.703125 27.09375 16.703125 20.515625 \r\nQ 16.703125 13.921875 20.71875 10.15625 \r\nQ 24.75 6.390625 31.78125 6.390625 \r\nQ 38.8125 6.390625 42.859375 10.171875 \r\nQ 46.921875 13.96875 46.921875 20.515625 \r\nQ 46.921875 27.09375 42.890625 30.859375 \r\nQ 38.875 34.625 31.78125 34.625 \r\nz\r\nM 21.921875 38.8125 \r\nQ 15.578125 40.375 12.03125 44.71875 \r\nQ 8.5 49.078125 8.5 55.328125 \r\nQ 8.5 64.0625 14.71875 69.140625 \r\nQ 20.953125 74.21875 31.78125 74.21875 \r\nQ 42.671875 74.21875 48.875 69.140625 \r\nQ 55.078125 64.0625 55.078125 55.328125 \r\nQ 55.078125 49.078125 51.53125 44.71875 \r\nQ 48 40.375 41.703125 38.8125 \r\nQ 48.828125 37.15625 52.796875 32.3125 \r\nQ 56.78125 27.484375 56.78125 20.515625 \r\nQ 56.78125 9.90625 50.3125 4.234375 \r\nQ 43.84375 -1.421875 31.78125 -1.421875 \r\nQ 19.734375 -1.421875 13.25 4.234375 \r\nQ 6.78125 9.90625 6.78125 20.515625 \r\nQ 6.78125 27.484375 10.78125 32.3125 \r\nQ 14.796875 37.15625 21.921875 38.8125 \r\nz\r\nM 18.3125 54.390625 \r\nQ 18.3125 48.734375 21.84375 45.5625 \r\nQ 25.390625 42.390625 31.78125 42.390625 \r\nQ 38.140625 42.390625 41.71875 45.5625 \r\nQ 45.3125 48.734375 45.3125 54.390625 \r\nQ 45.3125 60.0625 41.71875 63.234375 \r\nQ 38.140625 66.40625 31.78125 66.40625 \r\nQ 25.390625 66.40625 21.84375 63.234375 \r\nQ 18.3125 60.0625 18.3125 54.390625 \r\nz\r\n\" id=\"DejaVuSans-56\"/>\r\n       </defs>\r\n       <use xlink:href=\"#DejaVuSans-50\"/>\r\n       <use x=\"63.623047\" xlink:href=\"#DejaVuSans-48\"/>\r\n       <use x=\"127.246094\" xlink:href=\"#DejaVuSans-48\"/>\r\n       <use x=\"190.869141\" xlink:href=\"#DejaVuSans-56\"/>\r\n      </g>\r\n     </g>\r\n    </g>\r\n    <g id=\"xtick_7\">\r\n     <g id=\"line2d_7\">\r\n      <g>\r\n       <use style=\"stroke:#000000;stroke-width:0.8;\" x=\"255.629496\" xlink:href=\"#m42b4aa1cd8\" y=\"224.64\"/>\r\n      </g>\r\n     </g>\r\n     <g id=\"text_6\">\r\n      <!-- 2009 -->\r\n      <g transform=\"translate(242.904496 239.238437)scale(0.1 -0.1)\">\r\n       <defs>\r\n        <path d=\"M 10.984375 1.515625 \r\nL 10.984375 10.5 \r\nQ 14.703125 8.734375 18.5 7.8125 \r\nQ 22.3125 6.890625 25.984375 6.890625 \r\nQ 35.75 6.890625 40.890625 13.453125 \r\nQ 46.046875 20.015625 46.78125 33.40625 \r\nQ 43.953125 29.203125 39.59375 26.953125 \r\nQ 35.25 24.703125 29.984375 24.703125 \r\nQ 19.046875 24.703125 12.671875 31.3125 \r\nQ 6.296875 37.9375 6.296875 49.421875 \r\nQ 6.296875 60.640625 12.9375 67.421875 \r\nQ 19.578125 74.21875 30.609375 74.21875 \r\nQ 43.265625 74.21875 49.921875 64.515625 \r\nQ 56.59375 54.828125 56.59375 36.375 \r\nQ 56.59375 19.140625 48.40625 8.859375 \r\nQ 40.234375 -1.421875 26.421875 -1.421875 \r\nQ 22.703125 -1.421875 18.890625 -0.6875 \r\nQ 15.09375 0.046875 10.984375 1.515625 \r\nz\r\nM 30.609375 32.421875 \r\nQ 37.25 32.421875 41.125 36.953125 \r\nQ 45.015625 41.5 45.015625 49.421875 \r\nQ 45.015625 57.28125 41.125 61.84375 \r\nQ 37.25 66.40625 30.609375 66.40625 \r\nQ 23.96875 66.40625 20.09375 61.84375 \r\nQ 16.21875 57.28125 16.21875 49.421875 \r\nQ 16.21875 41.5 20.09375 36.953125 \r\nQ 23.96875 32.421875 30.609375 32.421875 \r\nz\r\n\" id=\"DejaVuSans-57\"/>\r\n       </defs>\r\n       <use xlink:href=\"#DejaVuSans-50\"/>\r\n       <use x=\"63.623047\" xlink:href=\"#DejaVuSans-48\"/>\r\n       <use x=\"127.246094\" xlink:href=\"#DejaVuSans-48\"/>\r\n       <use x=\"190.869141\" xlink:href=\"#DejaVuSans-57\"/>\r\n      </g>\r\n     </g>\r\n    </g>\r\n    <g id=\"xtick_8\">\r\n     <g id=\"line2d_8\">\r\n      <g>\r\n       <use style=\"stroke:#000000;stroke-width:0.8;\" x=\"293.771268\" xlink:href=\"#m42b4aa1cd8\" y=\"224.64\"/>\r\n      </g>\r\n     </g>\r\n     <g id=\"text_7\">\r\n      <!-- 2010 -->\r\n      <g transform=\"translate(281.046268 239.238437)scale(0.1 -0.1)\">\r\n       <defs>\r\n        <path d=\"M 12.40625 8.296875 \r\nL 28.515625 8.296875 \r\nL 28.515625 63.921875 \r\nL 10.984375 60.40625 \r\nL 10.984375 69.390625 \r\nL 28.421875 72.90625 \r\nL 38.28125 72.90625 \r\nL 38.28125 8.296875 \r\nL 54.390625 8.296875 \r\nL 54.390625 0 \r\nL 12.40625 0 \r\nz\r\n\" id=\"DejaVuSans-49\"/>\r\n       </defs>\r\n       <use xlink:href=\"#DejaVuSans-50\"/>\r\n       <use x=\"63.623047\" xlink:href=\"#DejaVuSans-48\"/>\r\n       <use x=\"127.246094\" xlink:href=\"#DejaVuSans-49\"/>\r\n       <use x=\"190.869141\" xlink:href=\"#DejaVuSans-48\"/>\r\n      </g>\r\n     </g>\r\n    </g>\r\n    <g id=\"xtick_9\">\r\n     <g id=\"line2d_9\">\r\n      <g>\r\n       <use style=\"stroke:#000000;stroke-width:0.8;\" x=\"331.91304\" xlink:href=\"#m42b4aa1cd8\" y=\"224.64\"/>\r\n      </g>\r\n     </g>\r\n     <g id=\"text_8\">\r\n      <!-- 2011 -->\r\n      <g transform=\"translate(319.18804 239.238437)scale(0.1 -0.1)\">\r\n       <use xlink:href=\"#DejaVuSans-50\"/>\r\n       <use x=\"63.623047\" xlink:href=\"#DejaVuSans-48\"/>\r\n       <use x=\"127.246094\" xlink:href=\"#DejaVuSans-49\"/>\r\n       <use x=\"190.869141\" xlink:href=\"#DejaVuSans-49\"/>\r\n      </g>\r\n     </g>\r\n    </g>\r\n    <g id=\"xtick_10\">\r\n     <g id=\"line2d_10\">\r\n      <g>\r\n       <use style=\"stroke:#000000;stroke-width:0.8;\" x=\"361.725\" xlink:href=\"#m42b4aa1cd8\" y=\"224.64\"/>\r\n      </g>\r\n     </g>\r\n    </g>\r\n    <g id=\"xtick_11\">\r\n     <g id=\"line2d_11\">\r\n      <defs>\r\n       <path d=\"M 0 0 \r\nL 0 2 \r\n\" id=\"m5087f27494\" style=\"stroke:#000000;stroke-width:0.6;\"/>\r\n      </defs>\r\n      <g>\r\n       <use style=\"stroke:#000000;stroke-width:0.6;\" x=\"36.131635\" xlink:href=\"#m5087f27494\" y=\"224.64\"/>\r\n      </g>\r\n     </g>\r\n    </g>\r\n    <g id=\"xtick_12\">\r\n     <g id=\"line2d_12\">\r\n      <g>\r\n       <use style=\"stroke:#000000;stroke-width:0.6;\" x=\"45.630543\" xlink:href=\"#m5087f27494\" y=\"224.64\"/>\r\n      </g>\r\n     </g>\r\n    </g>\r\n    <g id=\"xtick_13\">\r\n     <g id=\"line2d_13\">\r\n      <g>\r\n       <use style=\"stroke:#000000;stroke-width:0.6;\" x=\"55.275589\" xlink:href=\"#m5087f27494\" y=\"224.64\"/>\r\n      </g>\r\n     </g>\r\n    </g>\r\n    <g id=\"xtick_14\">\r\n     <g id=\"line2d_14\">\r\n      <g>\r\n       <use style=\"stroke:#000000;stroke-width:0.6;\" x=\"74.419544\" xlink:href=\"#m5087f27494\" y=\"224.64\"/>\r\n      </g>\r\n     </g>\r\n    </g>\r\n    <g id=\"xtick_15\">\r\n     <g id=\"line2d_15\">\r\n      <g>\r\n       <use style=\"stroke:#000000;stroke-width:0.6;\" x=\"83.918453\" xlink:href=\"#m5087f27494\" y=\"224.64\"/>\r\n      </g>\r\n     </g>\r\n    </g>\r\n    <g id=\"xtick_16\">\r\n     <g id=\"line2d_16\">\r\n      <g>\r\n       <use style=\"stroke:#000000;stroke-width:0.6;\" x=\"93.563498\" xlink:href=\"#m5087f27494\" y=\"224.64\"/>\r\n      </g>\r\n     </g>\r\n    </g>\r\n    <g id=\"xtick_17\">\r\n     <g id=\"line2d_17\">\r\n      <g>\r\n       <use style=\"stroke:#000000;stroke-width:0.6;\" x=\"112.561316\" xlink:href=\"#m5087f27494\" y=\"224.64\"/>\r\n      </g>\r\n     </g>\r\n    </g>\r\n    <g id=\"xtick_18\">\r\n     <g id=\"line2d_18\">\r\n      <g>\r\n       <use style=\"stroke:#000000;stroke-width:0.6;\" x=\"122.060225\" xlink:href=\"#m5087f27494\" y=\"224.64\"/>\r\n      </g>\r\n     </g>\r\n    </g>\r\n    <g id=\"xtick_19\">\r\n     <g id=\"line2d_19\">\r\n      <g>\r\n       <use style=\"stroke:#000000;stroke-width:0.6;\" x=\"131.705271\" xlink:href=\"#m5087f27494\" y=\"224.64\"/>\r\n      </g>\r\n     </g>\r\n    </g>\r\n    <g id=\"xtick_20\">\r\n     <g id=\"line2d_20\">\r\n      <g>\r\n       <use style=\"stroke:#000000;stroke-width:0.6;\" x=\"150.703088\" xlink:href=\"#m5087f27494\" y=\"224.64\"/>\r\n      </g>\r\n     </g>\r\n    </g>\r\n    <g id=\"xtick_21\">\r\n     <g id=\"line2d_21\">\r\n      <g>\r\n       <use style=\"stroke:#000000;stroke-width:0.6;\" x=\"160.201997\" xlink:href=\"#m5087f27494\" y=\"224.64\"/>\r\n      </g>\r\n     </g>\r\n    </g>\r\n    <g id=\"xtick_22\">\r\n     <g id=\"line2d_22\">\r\n      <g>\r\n       <use style=\"stroke:#000000;stroke-width:0.6;\" x=\"169.700906\" xlink:href=\"#m5087f27494\" y=\"224.64\"/>\r\n      </g>\r\n     </g>\r\n    </g>\r\n    <g id=\"xtick_23\">\r\n     <g id=\"line2d_23\">\r\n      <g>\r\n       <use style=\"stroke:#000000;stroke-width:0.6;\" x=\"188.698723\" xlink:href=\"#m5087f27494\" y=\"224.64\"/>\r\n      </g>\r\n     </g>\r\n    </g>\r\n    <g id=\"xtick_24\">\r\n     <g id=\"line2d_24\">\r\n      <g>\r\n       <use style=\"stroke:#000000;stroke-width:0.6;\" x=\"198.197632\" xlink:href=\"#m5087f27494\" y=\"224.64\"/>\r\n      </g>\r\n     </g>\r\n    </g>\r\n    <g id=\"xtick_25\">\r\n     <g id=\"line2d_25\">\r\n      <g>\r\n       <use style=\"stroke:#000000;stroke-width:0.6;\" x=\"207.696541\" xlink:href=\"#m5087f27494\" y=\"224.64\"/>\r\n      </g>\r\n     </g>\r\n    </g>\r\n    <g id=\"xtick_26\">\r\n     <g id=\"line2d_26\">\r\n      <g>\r\n       <use style=\"stroke:#000000;stroke-width:0.6;\" x=\"226.840495\" xlink:href=\"#m5087f27494\" y=\"224.64\"/>\r\n      </g>\r\n     </g>\r\n    </g>\r\n    <g id=\"xtick_27\">\r\n     <g id=\"line2d_27\">\r\n      <g>\r\n       <use style=\"stroke:#000000;stroke-width:0.6;\" x=\"236.339404\" xlink:href=\"#m5087f27494\" y=\"224.64\"/>\r\n      </g>\r\n     </g>\r\n    </g>\r\n    <g id=\"xtick_28\">\r\n     <g id=\"line2d_28\">\r\n      <g>\r\n       <use style=\"stroke:#000000;stroke-width:0.6;\" x=\"245.98445\" xlink:href=\"#m5087f27494\" y=\"224.64\"/>\r\n      </g>\r\n     </g>\r\n    </g>\r\n    <g id=\"xtick_29\">\r\n     <g id=\"line2d_29\">\r\n      <g>\r\n       <use style=\"stroke:#000000;stroke-width:0.6;\" x=\"264.982268\" xlink:href=\"#m5087f27494\" y=\"224.64\"/>\r\n      </g>\r\n     </g>\r\n    </g>\r\n    <g id=\"xtick_30\">\r\n     <g id=\"line2d_30\">\r\n      <g>\r\n       <use style=\"stroke:#000000;stroke-width:0.6;\" x=\"274.481176\" xlink:href=\"#m5087f27494\" y=\"224.64\"/>\r\n      </g>\r\n     </g>\r\n    </g>\r\n    <g id=\"xtick_31\">\r\n     <g id=\"line2d_31\">\r\n      <g>\r\n       <use style=\"stroke:#000000;stroke-width:0.6;\" x=\"284.126222\" xlink:href=\"#m5087f27494\" y=\"224.64\"/>\r\n      </g>\r\n     </g>\r\n    </g>\r\n    <g id=\"xtick_32\">\r\n     <g id=\"line2d_32\">\r\n      <g>\r\n       <use style=\"stroke:#000000;stroke-width:0.6;\" x=\"303.12404\" xlink:href=\"#m5087f27494\" y=\"224.64\"/>\r\n      </g>\r\n     </g>\r\n    </g>\r\n    <g id=\"xtick_33\">\r\n     <g id=\"line2d_33\">\r\n      <g>\r\n       <use style=\"stroke:#000000;stroke-width:0.6;\" x=\"312.622948\" xlink:href=\"#m5087f27494\" y=\"224.64\"/>\r\n      </g>\r\n     </g>\r\n    </g>\r\n    <g id=\"xtick_34\">\r\n     <g id=\"line2d_34\">\r\n      <g>\r\n       <use style=\"stroke:#000000;stroke-width:0.6;\" x=\"322.267994\" xlink:href=\"#m5087f27494\" y=\"224.64\"/>\r\n      </g>\r\n     </g>\r\n    </g>\r\n    <g id=\"xtick_35\">\r\n     <g id=\"line2d_35\">\r\n      <g>\r\n       <use style=\"stroke:#000000;stroke-width:0.6;\" x=\"341.265812\" xlink:href=\"#m5087f27494\" y=\"224.64\"/>\r\n      </g>\r\n     </g>\r\n    </g>\r\n    <g id=\"xtick_36\">\r\n     <g id=\"line2d_36\">\r\n      <g>\r\n       <use style=\"stroke:#000000;stroke-width:0.6;\" x=\"350.764721\" xlink:href=\"#m5087f27494\" y=\"224.64\"/>\r\n      </g>\r\n     </g>\r\n    </g>\r\n    <g id=\"xtick_37\">\r\n     <g id=\"line2d_37\">\r\n      <g>\r\n       <use style=\"stroke:#000000;stroke-width:0.6;\" x=\"360.409766\" xlink:href=\"#m5087f27494\" y=\"224.64\"/>\r\n      </g>\r\n     </g>\r\n    </g>\r\n   </g>\r\n   <g id=\"matplotlib.axis_2\">\r\n    <g id=\"ytick_1\">\r\n     <g id=\"line2d_38\">\r\n      <defs>\r\n       <path d=\"M 0 0 \r\nL -3.5 0 \r\n\" id=\"m1b4f3ccc60\" style=\"stroke:#000000;stroke-width:0.8;\"/>\r\n      </defs>\r\n      <g>\r\n       <use style=\"stroke:#000000;stroke-width:0.8;\" x=\"26.925\" xlink:href=\"#m1b4f3ccc60\" y=\"215.132851\"/>\r\n      </g>\r\n     </g>\r\n     <g id=\"text_9\">\r\n      <!-- 0 -->\r\n      <g transform=\"translate(13.5625 218.932069)scale(0.1 -0.1)\">\r\n       <use xlink:href=\"#DejaVuSans-48\"/>\r\n      </g>\r\n     </g>\r\n    </g>\r\n    <g id=\"ytick_2\">\r\n     <g id=\"line2d_39\">\r\n      <g>\r\n       <use style=\"stroke:#000000;stroke-width:0.8;\" x=\"26.925\" xlink:href=\"#m1b4f3ccc60\" y=\"189.953224\"/>\r\n      </g>\r\n     </g>\r\n     <g id=\"text_10\">\r\n      <!-- 5 -->\r\n      <g transform=\"translate(13.5625 193.752442)scale(0.1 -0.1)\">\r\n       <use xlink:href=\"#DejaVuSans-53\"/>\r\n      </g>\r\n     </g>\r\n    </g>\r\n    <g id=\"ytick_3\">\r\n     <g id=\"line2d_40\">\r\n      <g>\r\n       <use style=\"stroke:#000000;stroke-width:0.8;\" x=\"26.925\" xlink:href=\"#m1b4f3ccc60\" y=\"164.773596\"/>\r\n      </g>\r\n     </g>\r\n     <g id=\"text_11\">\r\n      <!-- 10 -->\r\n      <g transform=\"translate(7.2 168.572815)scale(0.1 -0.1)\">\r\n       <use xlink:href=\"#DejaVuSans-49\"/>\r\n       <use x=\"63.623047\" xlink:href=\"#DejaVuSans-48\"/>\r\n      </g>\r\n     </g>\r\n    </g>\r\n    <g id=\"ytick_4\">\r\n     <g id=\"line2d_41\">\r\n      <g>\r\n       <use style=\"stroke:#000000;stroke-width:0.8;\" x=\"26.925\" xlink:href=\"#m1b4f3ccc60\" y=\"139.593969\"/>\r\n      </g>\r\n     </g>\r\n     <g id=\"text_12\">\r\n      <!-- 15 -->\r\n      <g transform=\"translate(7.2 143.393188)scale(0.1 -0.1)\">\r\n       <use xlink:href=\"#DejaVuSans-49\"/>\r\n       <use x=\"63.623047\" xlink:href=\"#DejaVuSans-53\"/>\r\n      </g>\r\n     </g>\r\n    </g>\r\n    <g id=\"ytick_5\">\r\n     <g id=\"line2d_42\">\r\n      <g>\r\n       <use style=\"stroke:#000000;stroke-width:0.8;\" x=\"26.925\" xlink:href=\"#m1b4f3ccc60\" y=\"114.414342\"/>\r\n      </g>\r\n     </g>\r\n     <g id=\"text_13\">\r\n      <!-- 20 -->\r\n      <g transform=\"translate(7.2 118.213561)scale(0.1 -0.1)\">\r\n       <use xlink:href=\"#DejaVuSans-50\"/>\r\n       <use x=\"63.623047\" xlink:href=\"#DejaVuSans-48\"/>\r\n      </g>\r\n     </g>\r\n    </g>\r\n    <g id=\"ytick_6\">\r\n     <g id=\"line2d_43\">\r\n      <g>\r\n       <use style=\"stroke:#000000;stroke-width:0.8;\" x=\"26.925\" xlink:href=\"#m1b4f3ccc60\" y=\"89.234715\"/>\r\n      </g>\r\n     </g>\r\n     <g id=\"text_14\">\r\n      <!-- 25 -->\r\n      <g transform=\"translate(7.2 93.033934)scale(0.1 -0.1)\">\r\n       <use xlink:href=\"#DejaVuSans-50\"/>\r\n       <use x=\"63.623047\" xlink:href=\"#DejaVuSans-53\"/>\r\n      </g>\r\n     </g>\r\n    </g>\r\n    <g id=\"ytick_7\">\r\n     <g id=\"line2d_44\">\r\n      <g>\r\n       <use style=\"stroke:#000000;stroke-width:0.8;\" x=\"26.925\" xlink:href=\"#m1b4f3ccc60\" y=\"64.055088\"/>\r\n      </g>\r\n     </g>\r\n     <g id=\"text_15\">\r\n      <!-- 30 -->\r\n      <g transform=\"translate(7.2 67.854307)scale(0.1 -0.1)\">\r\n       <defs>\r\n        <path d=\"M 40.578125 39.3125 \r\nQ 47.65625 37.796875 51.625 33 \r\nQ 55.609375 28.21875 55.609375 21.1875 \r\nQ 55.609375 10.40625 48.1875 4.484375 \r\nQ 40.765625 -1.421875 27.09375 -1.421875 \r\nQ 22.515625 -1.421875 17.65625 -0.515625 \r\nQ 12.796875 0.390625 7.625 2.203125 \r\nL 7.625 11.71875 \r\nQ 11.71875 9.328125 16.59375 8.109375 \r\nQ 21.484375 6.890625 26.8125 6.890625 \r\nQ 36.078125 6.890625 40.9375 10.546875 \r\nQ 45.796875 14.203125 45.796875 21.1875 \r\nQ 45.796875 27.640625 41.28125 31.265625 \r\nQ 36.765625 34.90625 28.71875 34.90625 \r\nL 20.21875 34.90625 \r\nL 20.21875 43.015625 \r\nL 29.109375 43.015625 \r\nQ 36.375 43.015625 40.234375 45.921875 \r\nQ 44.09375 48.828125 44.09375 54.296875 \r\nQ 44.09375 59.90625 40.109375 62.90625 \r\nQ 36.140625 65.921875 28.71875 65.921875 \r\nQ 24.65625 65.921875 20.015625 65.03125 \r\nQ 15.375 64.15625 9.8125 62.3125 \r\nL 9.8125 71.09375 \r\nQ 15.4375 72.65625 20.34375 73.4375 \r\nQ 25.25 74.21875 29.59375 74.21875 \r\nQ 40.828125 74.21875 47.359375 69.109375 \r\nQ 53.90625 64.015625 53.90625 55.328125 \r\nQ 53.90625 49.265625 50.4375 45.09375 \r\nQ 46.96875 40.921875 40.578125 39.3125 \r\nz\r\n\" id=\"DejaVuSans-51\"/>\r\n       </defs>\r\n       <use xlink:href=\"#DejaVuSans-51\"/>\r\n       <use x=\"63.623047\" xlink:href=\"#DejaVuSans-48\"/>\r\n      </g>\r\n     </g>\r\n    </g>\r\n    <g id=\"ytick_8\">\r\n     <g id=\"line2d_45\">\r\n      <g>\r\n       <use style=\"stroke:#000000;stroke-width:0.8;\" x=\"26.925\" xlink:href=\"#m1b4f3ccc60\" y=\"38.875461\"/>\r\n      </g>\r\n     </g>\r\n     <g id=\"text_16\">\r\n      <!-- 35 -->\r\n      <g transform=\"translate(7.2 42.67468)scale(0.1 -0.1)\">\r\n       <use xlink:href=\"#DejaVuSans-51\"/>\r\n       <use x=\"63.623047\" xlink:href=\"#DejaVuSans-53\"/>\r\n      </g>\r\n     </g>\r\n    </g>\r\n    <g id=\"ytick_9\">\r\n     <g id=\"line2d_46\">\r\n      <g>\r\n       <use style=\"stroke:#000000;stroke-width:0.8;\" x=\"26.925\" xlink:href=\"#m1b4f3ccc60\" y=\"13.695834\"/>\r\n      </g>\r\n     </g>\r\n     <g id=\"text_17\">\r\n      <!-- 40 -->\r\n      <g transform=\"translate(7.2 17.495053)scale(0.1 -0.1)\">\r\n       <use xlink:href=\"#DejaVuSans-52\"/>\r\n       <use x=\"63.623047\" xlink:href=\"#DejaVuSans-48\"/>\r\n      </g>\r\n     </g>\r\n    </g>\r\n   </g>\r\n   <g id=\"line2d_47\">\r\n    <path clip-path=\"url(#p30a2b04fe2)\" d=\"M 28.240234 214.742589 \r\nL 28.386371 214.756364 \r\nL 28.678645 214.468053 \r\nL 29.263193 214.205558 \r\nL 33.793442 214.348094 \r\nL 37.446868 214.239142 \r\nL 38.762102 213.858091 \r\nL 39.638924 213.807499 \r\nL 40.808021 212.140492 \r\nL 41.246432 211.809988 \r\nL 42.853939 211.137154 \r\nL 44.753721 210.686937 \r\nL 47.238051 209.804534 \r\nL 48.407148 209.229569 \r\nL 49.576244 208.899836 \r\nL 51.037615 208.662831 \r\nL 51.914437 208.382212 \r\nL 53.521945 207.716576 \r\nL 54.691041 207.460381 \r\nL 55.860137 207.341809 \r\nL 58.929016 206.559023 \r\nL 59.951975 206.502716 \r\nL 63.751539 206.749261 \r\nL 66.089732 206.954798 \r\nL 66.67428 206.974502 \r\nL 68.720199 207.245262 \r\nL 72.081351 207.65456 \r\nL 72.812036 207.655735 \r\nL 74.711818 208.068182 \r\nL 76.319326 208.356413 \r\nL 77.634559 208.18692 \r\nL 80.703437 208.25698 \r\nL 82.018671 207.828366 \r\nL 82.457082 207.539576 \r\nL 84.06459 206.4401 \r\nL 84.941412 206.217033 \r\nL 85.379823 206.101985 \r\nL 86.256646 205.837554 \r\nL 87.425742 205.555047 \r\nL 88.887113 205.302768 \r\nL 89.763935 205.04066 \r\nL 92.97895 203.082978 \r\nL 94.878732 201.370846 \r\nL 96.047828 199.058514 \r\nL 97.070788 196.423844 \r\nL 98.239884 193.69951 \r\nL 98.824433 192.361498 \r\nL 99.408981 190.402902 \r\nL 99.993529 188.27661 \r\nL 102.331722 182.99703 \r\nL 105.985148 176.514596 \r\nL 107.738793 172.02716 \r\nL 108.469478 169.651328 \r\nL 109.492438 166.675329 \r\nL 109.930849 165.848791 \r\nL 110.661534 164.902923 \r\nL 111.246082 163.912126 \r\nL 112.122905 162.671619 \r\nL 112.85359 161.917009 \r\nL 113.730412 161.117127 \r\nL 114.168824 161.319971 \r\nL 115.045646 161.773194 \r\nL 116.507017 162.785647 \r\nL 118.114524 164.0159 \r\nL 118.991347 164.33177 \r\nL 119.722032 164.87401 \r\nL 120.891128 166.092945 \r\nL 121.621814 167.121874 \r\nL 122.79091 168.876302 \r\nL 123.667732 170.122877 \r\nL 124.690692 171.46821 \r\nL 125.567514 173.052325 \r\nL 126.444337 174.619512 \r\nL 127.175022 175.530958 \r\nL 128.490255 177.805999 \r\nL 129.220941 178.939995 \r\nL 129.805489 179.603402 \r\nL 130.2439 180.107289 \r\nL 130.682311 180.495844 \r\nL 131.559134 181.319526 \r\nL 131.851408 181.261762 \r\nL 132.143682 181.400739 \r\nL 132.874367 181.939471 \r\nL 133.605052 181.638647 \r\nL 134.920286 180.435238 \r\nL 136.235519 177.112388 \r\nL 138.427575 167.861599 \r\nL 139.450535 163.076588 \r\nL 141.642591 155.872088 \r\nL 142.081002 154.037284 \r\nL 143.103961 148.039391 \r\nL 143.834646 146.053116 \r\nL 144.126921 145.394696 \r\nL 144.711469 144.008598 \r\nL 147.195799 141.671483 \r\nL 147.926484 141.327425 \r\nL 148.803306 141.28259 \r\nL 149.533992 141.540461 \r\nL 150.264677 141.930488 \r\nL 152.164459 144.268163 \r\nL 154.502652 147.659063 \r\nL 155.0872 148.358184 \r\nL 155.817885 149.76986 \r\nL 157.863804 155.573427 \r\nL 159.325175 160.592854 \r\nL 160.201997 163.28625 \r\nL 161.224956 165.373724 \r\nL 161.955642 166.781886 \r\nL 163.124738 169.764113 \r\nL 164.293835 172.394678 \r\nL 165.609068 175.644073 \r\nL 166.778165 177.592838 \r\nL 168.677946 179.384909 \r\nL 169.262495 180.264965 \r\nL 169.700906 180.573287 \r\nL 169.99318 180.909181 \r\nL 170.870002 181.51017 \r\nL 171.162276 181.724477 \r\nL 171.45455 181.821713 \r\nL 172.185236 180.962032 \r\nL 172.769784 180.234924 \r\nL 173.646606 179.192945 \r\nL 174.669566 176.879572 \r\nL 175.107977 175.480152 \r\nL 176.861622 169.454725 \r\nL 177.592307 167.758849 \r\nL 178.176855 166.929648 \r\nL 178.615266 166.696775 \r\nL 179.345952 166.886122 \r\nL 179.492089 166.85141 \r\nL 179.9305 166.323142 \r\nL 180.222774 165.163958 \r\nL 180.953459 162.276554 \r\nL 181.538007 161.310014 \r\nL 182.122556 160.649082 \r\nL 183.8762 158.925932 \r\nL 185.337571 157.688012 \r\nL 185.922119 157.422553 \r\nL 186.506667 157.350658 \r\nL 186.652804 157.3886 \r\nL 187.38349 156.963847 \r\nL 188.84486 154.536398 \r\nL 190.013957 153.152096 \r\nL 191.036916 152.162992 \r\nL 191.475327 151.327017 \r\nL 192.059876 150.306685 \r\nL 192.498287 149.378425 \r\nL 195.274891 141.006429 \r\nL 196.151713 137.383544 \r\nL 196.443987 136.859695 \r\nL 196.736261 135.973702 \r\nL 197.174673 134.876821 \r\nL 197.466947 134.42911 \r\nL 197.759221 134.314479 \r\nL 198.197632 134.580187 \r\nL 198.489906 134.192103 \r\nL 199.659003 128.163947 \r\nL 200.974236 119.626335 \r\nL 201.26651 118.523358 \r\nL 201.997196 116.274551 \r\nL 202.28947 115.842796 \r\nL 202.727881 115.793385 \r\nL 203.312429 116.412835 \r\nL 203.604703 116.073737 \r\nL 204.481526 114.493103 \r\nL 205.212211 112.385245 \r\nL 205.358348 112.289173 \r\nL 206.819718 109.0474 \r\nL 207.25813 107.093453 \r\nL 208.281089 101.322749 \r\nL 209.157911 94.097214 \r\nL 210.034734 86.01693 \r\nL 211.496104 68.707329 \r\nL 211.788378 66.156374 \r\nL 212.665201 62.780909 \r\nL 213.395886 60.00071 \r\nL 213.834297 57.86695 \r\nL 214.272708 55.336551 \r\nL 214.71112 52.835015 \r\nL 215.295668 49.107204 \r\nL 215.880216 46.418674 \r\nL 216.17249 45.36436 \r\nL 216.610901 42.414378 \r\nL 217.487724 36.121251 \r\nL 217.779998 35.26878 \r\nL 217.926135 35.226143 \r\nL 218.072272 35.384289 \r\nL 218.364546 35.351276 \r\nL 218.802957 35.877828 \r\nL 219.533643 38.501563 \r\nL 220.702739 44.551058 \r\nL 222.310247 52.81113 \r\nL 224.502302 63.00042 \r\nL 225.379125 67.130708 \r\nL 226.402084 72.696941 \r\nL 228.155729 83.72936 \r\nL 228.886414 87.311429 \r\nL 229.470962 89.260856 \r\nL 230.201648 90.697039 \r\nL 230.786196 90.841945 \r\nL 231.07847 90.871768 \r\nL 232.10143 90.193094 \r\nL 232.539841 90.348953 \r\nL 232.832115 90.379242 \r\nL 233.124389 90.374558 \r\nL 233.416663 90.284268 \r\nL 233.5628 90.344146 \r\nL 233.708937 90.243445 \r\nL 233.855074 90.280117 \r\nL 234.293485 90.809548 \r\nL 234.731897 91.914185 \r\nL 235.608719 92.681271 \r\nL 236.923952 93.509638 \r\nL 237.508501 93.650207 \r\nL 237.654638 93.699448 \r\nL 238.823734 95.958263 \r\nL 239.408282 98.270415 \r\nL 239.846694 100.445929 \r\nL 240.285105 101.766943 \r\nL 241.308064 103.724762 \r\nL 241.600338 104.09214 \r\nL 243.207846 107.434912 \r\nL 243.50012 107.736178 \r\nL 244.084668 107.62545 \r\nL 244.376942 107.100836 \r\nL 244.669216 106.079516 \r\nL 244.815354 105.823611 \r\nL 245.546039 103.057048 \r\nL 247.445821 83.992173 \r\nL 248.176506 78.404731 \r\nL 249.199465 70.788018 \r\nL 250.076288 65.345254 \r\nL 251.537658 55.548875 \r\nL 251.829932 54.448127 \r\nL 252.122206 53.589796 \r\nL 252.560618 51.776342 \r\nL 252.852892 51.058886 \r\nL 253.875851 52.055801 \r\nL 254.168125 51.814412 \r\nL 254.460399 50.706779 \r\nL 255.044948 48.160738 \r\nL 255.337222 47.026163 \r\nL 255.92177 44.392476 \r\nL 256.506318 41.853822 \r\nL 257.237003 37.853063 \r\nL 257.967689 33.997658 \r\nL 258.844511 30.778408 \r\nL 259.429059 29.214531 \r\nL 259.721333 28.667794 \r\nL 260.89043 25.557898 \r\nL 262.790212 18.818121 \r\nL 263.37476 17.697996 \r\nL 263.813171 17.308374 \r\nL 264.397719 17.307671 \r\nL 264.982268 17.118085 \r\nL 265.274542 17.41785 \r\nL 266.297501 20.10539 \r\nL 266.735912 22.102806 \r\nL 267.758872 28.740997 \r\nL 269.950928 44.636289 \r\nL 271.120024 53.524649 \r\nL 273.019806 64.555719 \r\nL 273.604354 68.329659 \r\nL 274.627313 74.654692 \r\nL 275.650273 78.809563 \r\nL 276.234821 80.00074 \r\nL 276.380958 80.009646 \r\nL 277.111643 81.603433 \r\nL 277.842329 84.680119 \r\nL 278.28074 85.915023 \r\nL 278.865288 87.600815 \r\nL 279.449836 88.433824 \r\nL 279.595973 88.529606 \r\nL 279.888247 87.972693 \r\nL 280.326659 86.356866 \r\nL 280.76507 84.190038 \r\nL 281.349618 80.855765 \r\nL 282.372577 73.218958 \r\nL 283.395537 64.233817 \r\nL 285.879867 44.55378 \r\nL 286.756689 36.067864 \r\nL 287.487375 32.818699 \r\nL 288.071923 30.638785 \r\nL 289.825567 20.541525 \r\nL 290.263979 18.784696 \r\nL 290.556253 18.221908 \r\nL 290.848527 17.97307 \r\nL 291.140801 18.307491 \r\nL 291.433075 18.382539 \r\nL 292.017623 18.932861 \r\nL 292.309897 19.318733 \r\nL 292.748309 19.127707 \r\nL 293.18672 18.478911 \r\nL 293.478994 18.41935 \r\nL 293.917405 18.819285 \r\nL 294.355816 19.48258 \r\nL 294.64809 19.74152 \r\nL 294.940364 20.008756 \r\nL 295.086502 20.160791 \r\nL 295.378776 20.888059 \r\nL 295.67105 21.141904 \r\nL 296.109461 21.979383 \r\nL 296.547872 23.072962 \r\nL 297.13242 25.812069 \r\nL 298.593791 36.793049 \r\nL 300.201299 49.678318 \r\nL 300.63971 51.180064 \r\nL 301.224258 52.776755 \r\nL 301.662669 54.199485 \r\nL 302.10108 54.948062 \r\nL 302.539491 55.374651 \r\nL 303.12404 55.444722 \r\nL 304.000862 54.817459 \r\nL 304.439273 54.305647 \r\nL 305.023821 52.891415 \r\nL 305.462233 49.670098 \r\nL 305.754507 47.994063 \r\nL 305.900644 47.720903 \r\nL 306.339055 46.132586 \r\nL 306.631329 45.800449 \r\nL 306.777466 46.200564 \r\nL 307.06974 47.288159 \r\nL 307.215877 47.172457 \r\nL 307.508151 46.521432 \r\nL 308.0927 46.179514 \r\nL 308.384974 46.577602 \r\nL 308.677248 46.794342 \r\nL 308.969522 47.151754 \r\nL 309.846344 47.572398 \r\nL 310.138619 48.712628 \r\nL 310.430893 49.978759 \r\nL 310.869304 50.819886 \r\nL 311.453852 50.556613 \r\nL 311.746126 50.898738 \r\nL 312.330674 52.584087 \r\nL 313.207497 56.117135 \r\nL 313.792045 57.107856 \r\nL 314.668867 59.303661 \r\nL 315.691827 60.90938 \r\nL 316.130238 62.044452 \r\nL 316.714786 63.257242 \r\nL 317.883883 68.899123 \r\nL 319.052979 75.046508 \r\nL 319.49139 75.828395 \r\nL 319.929801 76.418411 \r\nL 320.222076 76.717579 \r\nL 320.51435 76.798208 \r\nL 320.806624 76.690742 \r\nL 321.098898 75.799786 \r\nL 322.121857 71.726262 \r\nL 322.414131 71.476822 \r\nL 322.99868 68.33808 \r\nL 323.729365 63.516376 \r\nL 324.167776 60.155519 \r\nL 326.798243 42.577806 \r\nL 327.675065 41.488346 \r\nL 328.259614 39.765494 \r\nL 328.405751 39.645605 \r\nL 329.136436 37.973479 \r\nL 329.720984 35.442519 \r\nL 331.620766 28.366031 \r\nL 331.766903 28.187585 \r\nL 332.059177 27.115947 \r\nL 332.351451 25.945443 \r\nL 332.497588 25.71944 \r\nL 333.228274 22.898779 \r\nL 333.374411 22.551765 \r\nL 333.666685 22.488547 \r\nL 334.105096 23.915083 \r\nL 334.689644 24.593142 \r\nL 334.835781 24.828857 \r\nL 335.128055 24.83519 \r\nL 335.42033 25.043339 \r\nL 335.712604 25.05232 \r\nL 336.297152 24.212814 \r\nL 336.8817 22.800109 \r\nL 337.027837 22.594276 \r\nL 337.173974 22.68854 \r\nL 337.466248 22.576331 \r\nL 338.196934 21.278359 \r\nL 338.635345 20.407333 \r\nL 338.781482 20.213762 \r\nL 338.927619 20.322811 \r\nL 339.36603 19.885669 \r\nL 339.804441 20.925191 \r\nL 340.242852 21.254009 \r\nL 340.38899 21.262481 \r\nL 341.119675 20.372337 \r\nL 341.411949 20.397576 \r\nL 341.558086 20.602519 \r\nL 341.85036 20.289108 \r\nL 342.142634 19.984514 \r\nL 342.434908 19.939844 \r\nL 342.581045 19.852096 \r\nL 342.727182 19.986382 \r\nL 343.165594 19.97371 \r\nL 343.311731 20.025178 \r\nL 343.457868 20.419897 \r\nL 344.042416 19.82865 \r\nL 344.33469 19.908194 \r\nL 344.626964 20.228515 \r\nL 345.065375 21.737666 \r\nL 345.942198 23.983467 \r\nL 346.234472 24.388016 \r\nL 346.526746 25.55178 \r\nL 347.257431 29.204073 \r\nL 347.549705 29.644269 \r\nL 347.841979 29.767462 \r\nL 348.280391 30.610373 \r\nL 348.718802 31.985515 \r\nL 349.157213 34.87104 \r\nL 349.887898 40.258131 \r\nL 350.472447 44.134036 \r\nL 351.349269 50.108053 \r\nL 351.933817 52.490731 \r\nL 352.226091 53.84561 \r\nL 352.518365 54.163384 \r\nL 352.956777 53.353715 \r\nL 353.249051 52.050262 \r\nL 353.541325 52.564421 \r\nL 354.125873 54.306962 \r\nL 354.418147 56.746153 \r\nL 356.025655 77.703433 \r\nL 356.610203 83.028751 \r\nL 357.779299 88.358176 \r\nL 358.071574 88.87511 \r\nL 358.656122 89.969161 \r\nL 358.802259 89.968945 \r\nL 358.948396 89.631188 \r\nL 359.24067 88.002816 \r\nL 359.386807 87.819889 \r\nL 359.825218 86.609628 \r\nL 360.117492 86.287871 \r\nL 360.409766 86.165509 \r\nL 360.994315 87.157639 \r\nL 361.140452 87.068745 \r\nL 361.578863 85.414241 \r\nL 361.725 84.23178 \r\nL 361.725 84.23178 \r\n\" style=\"fill:none;stroke:#1f77b4;stroke-linecap:square;stroke-width:1.5;\"/>\r\n   </g>\r\n   <g id=\"patch_3\">\r\n    <path d=\"M 26.925 224.64 \r\nL 26.925 7.2 \r\n\" style=\"fill:none;stroke:#000000;stroke-linecap:square;stroke-linejoin:miter;stroke-width:0.8;\"/>\r\n   </g>\r\n   <g id=\"patch_4\">\r\n    <path d=\"M 361.725 224.64 \r\nL 361.725 7.2 \r\n\" style=\"fill:none;stroke:#000000;stroke-linecap:square;stroke-linejoin:miter;stroke-width:0.8;\"/>\r\n   </g>\r\n   <g id=\"patch_5\">\r\n    <path d=\"M 26.925 224.64 \r\nL 361.725 224.64 \r\n\" style=\"fill:none;stroke:#000000;stroke-linecap:square;stroke-linejoin:miter;stroke-width:0.8;\"/>\r\n   </g>\r\n   <g id=\"patch_6\">\r\n    <path d=\"M 26.925 7.2 \r\nL 361.725 7.2 \r\n\" style=\"fill:none;stroke:#000000;stroke-linecap:square;stroke-linejoin:miter;stroke-width:0.8;\"/>\r\n   </g>\r\n  </g>\r\n </g>\r\n <defs>\r\n  <clipPath id=\"p30a2b04fe2\">\r\n   <rect height=\"217.44\" width=\"334.8\" x=\"26.925\" y=\"7.2\"/>\r\n  </clipPath>\r\n </defs>\r\n</svg>\r\n",
      "image/png": "[encoded data removed]"
     },
     "metadata": {
      "needs_background": "light"
     }
    }
   ],
   "source": [
    "appl_std250.plot()"
   ]
  },
  {
   "cell_type": "code",
   "execution_count": 259,
   "metadata": {},
   "outputs": [],
   "source": [
    "expanding_mean = appl_std250.expanding().mean()"
   ]
  },
  {
   "cell_type": "code",
   "execution_count": 262,
   "metadata": {},
   "outputs": [
    {
     "output_type": "display_data",
     "data": {
      "text/plain": "<Figure size 432x288 with 1 Axes>",
      "image/svg+xml": "<?xml version=\"1.0\" encoding=\"utf-8\" standalone=\"no\"?>\r\n<!DOCTYPE svg PUBLIC \"-//W3C//DTD SVG 1.1//EN\"\r\n  \"http://www.w3.org/Graphics/SVG/1.1/DTD/svg11.dtd\">\r\n<!-- Created with matplotlib (https://matplotlib.org/) -->\r\n<svg height=\"248.518125pt\" version=\"1.1\" viewBox=\"0 0 378.465625 248.518125\" width=\"378.465625pt\" xmlns=\"http://www.w3.org/2000/svg\" xmlns:xlink=\"http://www.w3.org/1999/xlink\">\r\n <metadata>\r\n  <rdf:RDF xmlns:cc=\"http://creativecommons.org/ns#\" xmlns:dc=\"http://purl.org/dc/elements/1.1/\" xmlns:rdf=\"http://www.w3.org/1999/02/22-rdf-syntax-ns#\">\r\n   <cc:Work>\r\n    <dc:type rdf:resource=\"http://purl.org/dc/dcmitype/StillImage\"/>\r\n    <dc:date>2021-05-11T11:19:01.379697</dc:date>\r\n    <dc:format>image/svg+xml</dc:format>\r\n    <dc:creator>\r\n     <cc:Agent>\r\n      <dc:title>Matplotlib v3.3.2, https://matplotlib.org/</dc:title>\r\n     </cc:Agent>\r\n    </dc:creator>\r\n   </cc:Work>\r\n  </rdf:RDF>\r\n </metadata>\r\n <defs>\r\n  <style type=\"text/css\">*{stroke-linecap:butt;stroke-linejoin:round;}</style>\r\n </defs>\r\n <g id=\"figure_1\">\r\n  <g id=\"patch_1\">\r\n   <path d=\"M 0 248.518125 \r\nL 378.465625 248.518125 \r\nL 378.465625 0 \r\nL 0 0 \r\nz\r\n\" style=\"fill:none;\"/>\r\n  </g>\r\n  <g id=\"axes_1\">\r\n   <g id=\"patch_2\">\r\n    <path d=\"M 36.465625 224.64 \r\nL 371.265625 224.64 \r\nL 371.265625 7.2 \r\nL 36.465625 7.2 \r\nz\r\n\" style=\"fill:#ffffff;\"/>\r\n   </g>\r\n   <g id=\"matplotlib.axis_1\">\r\n    <g id=\"xtick_1\">\r\n     <g id=\"line2d_1\">\r\n      <defs>\r\n       <path d=\"M 0 0 \r\nL 0 3.5 \r\n\" id=\"m6be28dd4f4\" style=\"stroke:#000000;stroke-width:0.8;\"/>\r\n      </defs>\r\n      <g>\r\n       <use style=\"stroke:#000000;stroke-width:0.8;\" x=\"36.465625\" xlink:href=\"#m6be28dd4f4\" y=\"224.64\"/>\r\n      </g>\r\n     </g>\r\n    </g>\r\n    <g id=\"xtick_2\">\r\n     <g id=\"line2d_2\">\r\n      <g>\r\n       <use style=\"stroke:#000000;stroke-width:0.8;\" x=\"74.46126\" xlink:href=\"#m6be28dd4f4\" y=\"224.64\"/>\r\n      </g>\r\n     </g>\r\n     <g id=\"text_1\">\r\n      <!-- 2004 -->\r\n      <g transform=\"translate(61.73626 239.238437)scale(0.1 -0.1)\">\r\n       <defs>\r\n        <path d=\"M 19.1875 8.296875 \r\nL 53.609375 8.296875 \r\nL 53.609375 0 \r\nL 7.328125 0 \r\nL 7.328125 8.296875 \r\nQ 12.9375 14.109375 22.625 23.890625 \r\nQ 32.328125 33.6875 34.8125 36.53125 \r\nQ 39.546875 41.84375 41.421875 45.53125 \r\nQ 43.3125 49.21875 43.3125 52.78125 \r\nQ 43.3125 58.59375 39.234375 62.25 \r\nQ 35.15625 65.921875 28.609375 65.921875 \r\nQ 23.96875 65.921875 18.8125 64.3125 \r\nQ 13.671875 62.703125 7.8125 59.421875 \r\nL 7.8125 69.390625 \r\nQ 13.765625 71.78125 18.9375 73 \r\nQ 24.125 74.21875 28.421875 74.21875 \r\nQ 39.75 74.21875 46.484375 68.546875 \r\nQ 53.21875 62.890625 53.21875 53.421875 \r\nQ 53.21875 48.921875 51.53125 44.890625 \r\nQ 49.859375 40.875 45.40625 35.40625 \r\nQ 44.1875 33.984375 37.640625 27.21875 \r\nQ 31.109375 20.453125 19.1875 8.296875 \r\nz\r\n\" id=\"DejaVuSans-50\"/>\r\n        <path d=\"M 31.78125 66.40625 \r\nQ 24.171875 66.40625 20.328125 58.90625 \r\nQ 16.5 51.421875 16.5 36.375 \r\nQ 16.5 21.390625 20.328125 13.890625 \r\nQ 24.171875 6.390625 31.78125 6.390625 \r\nQ 39.453125 6.390625 43.28125 13.890625 \r\nQ 47.125 21.390625 47.125 36.375 \r\nQ 47.125 51.421875 43.28125 58.90625 \r\nQ 39.453125 66.40625 31.78125 66.40625 \r\nz\r\nM 31.78125 74.21875 \r\nQ 44.046875 74.21875 50.515625 64.515625 \r\nQ 56.984375 54.828125 56.984375 36.375 \r\nQ 56.984375 17.96875 50.515625 8.265625 \r\nQ 44.046875 -1.421875 31.78125 -1.421875 \r\nQ 19.53125 -1.421875 13.0625 8.265625 \r\nQ 6.59375 17.96875 6.59375 36.375 \r\nQ 6.59375 54.828125 13.0625 64.515625 \r\nQ 19.53125 74.21875 31.78125 74.21875 \r\nz\r\n\" id=\"DejaVuSans-48\"/>\r\n        <path d=\"M 37.796875 64.3125 \r\nL 12.890625 25.390625 \r\nL 37.796875 25.390625 \r\nz\r\nM 35.203125 72.90625 \r\nL 47.609375 72.90625 \r\nL 47.609375 25.390625 \r\nL 58.015625 25.390625 \r\nL 58.015625 17.1875 \r\nL 47.609375 17.1875 \r\nL 47.609375 0 \r\nL 37.796875 0 \r\nL 37.796875 17.1875 \r\nL 4.890625 17.1875 \r\nL 4.890625 26.703125 \r\nz\r\n\" id=\"DejaVuSans-52\"/>\r\n       </defs>\r\n       <use xlink:href=\"#DejaVuSans-50\"/>\r\n       <use x=\"63.623047\" xlink:href=\"#DejaVuSans-48\"/>\r\n       <use x=\"127.246094\" xlink:href=\"#DejaVuSans-48\"/>\r\n       <use x=\"190.869141\" xlink:href=\"#DejaVuSans-52\"/>\r\n      </g>\r\n     </g>\r\n    </g>\r\n    <g id=\"xtick_3\">\r\n     <g id=\"line2d_3\">\r\n      <g>\r\n       <use style=\"stroke:#000000;stroke-width:0.8;\" x=\"112.749169\" xlink:href=\"#m6be28dd4f4\" y=\"224.64\"/>\r\n      </g>\r\n     </g>\r\n     <g id=\"text_2\">\r\n      <!-- 2005 -->\r\n      <g transform=\"translate(100.024169 239.238437)scale(0.1 -0.1)\">\r\n       <defs>\r\n        <path d=\"M 10.796875 72.90625 \r\nL 49.515625 72.90625 \r\nL 49.515625 64.59375 \r\nL 19.828125 64.59375 \r\nL 19.828125 46.734375 \r\nQ 21.96875 47.46875 24.109375 47.828125 \r\nQ 26.265625 48.1875 28.421875 48.1875 \r\nQ 40.625 48.1875 47.75 41.5 \r\nQ 54.890625 34.8125 54.890625 23.390625 \r\nQ 54.890625 11.625 47.5625 5.09375 \r\nQ 40.234375 -1.421875 26.90625 -1.421875 \r\nQ 22.3125 -1.421875 17.546875 -0.640625 \r\nQ 12.796875 0.140625 7.71875 1.703125 \r\nL 7.71875 11.625 \r\nQ 12.109375 9.234375 16.796875 8.0625 \r\nQ 21.484375 6.890625 26.703125 6.890625 \r\nQ 35.15625 6.890625 40.078125 11.328125 \r\nQ 45.015625 15.765625 45.015625 23.390625 \r\nQ 45.015625 31 40.078125 35.4375 \r\nQ 35.15625 39.890625 26.703125 39.890625 \r\nQ 22.75 39.890625 18.8125 39.015625 \r\nQ 14.890625 38.140625 10.796875 36.28125 \r\nz\r\n\" id=\"DejaVuSans-53\"/>\r\n       </defs>\r\n       <use xlink:href=\"#DejaVuSans-50\"/>\r\n       <use x=\"63.623047\" xlink:href=\"#DejaVuSans-48\"/>\r\n       <use x=\"127.246094\" xlink:href=\"#DejaVuSans-48\"/>\r\n       <use x=\"190.869141\" xlink:href=\"#DejaVuSans-53\"/>\r\n      </g>\r\n     </g>\r\n    </g>\r\n    <g id=\"xtick_4\">\r\n     <g id=\"line2d_4\">\r\n      <g>\r\n       <use style=\"stroke:#000000;stroke-width:0.8;\" x=\"150.744804\" xlink:href=\"#m6be28dd4f4\" y=\"224.64\"/>\r\n      </g>\r\n     </g>\r\n     <g id=\"text_3\">\r\n      <!-- 2006 -->\r\n      <g transform=\"translate(138.019804 239.238437)scale(0.1 -0.1)\">\r\n       <defs>\r\n        <path d=\"M 33.015625 40.375 \r\nQ 26.375 40.375 22.484375 35.828125 \r\nQ 18.609375 31.296875 18.609375 23.390625 \r\nQ 18.609375 15.53125 22.484375 10.953125 \r\nQ 26.375 6.390625 33.015625 6.390625 \r\nQ 39.65625 6.390625 43.53125 10.953125 \r\nQ 47.40625 15.53125 47.40625 23.390625 \r\nQ 47.40625 31.296875 43.53125 35.828125 \r\nQ 39.65625 40.375 33.015625 40.375 \r\nz\r\nM 52.59375 71.296875 \r\nL 52.59375 62.3125 \r\nQ 48.875 64.0625 45.09375 64.984375 \r\nQ 41.3125 65.921875 37.59375 65.921875 \r\nQ 27.828125 65.921875 22.671875 59.328125 \r\nQ 17.53125 52.734375 16.796875 39.40625 \r\nQ 19.671875 43.65625 24.015625 45.921875 \r\nQ 28.375 48.1875 33.59375 48.1875 \r\nQ 44.578125 48.1875 50.953125 41.515625 \r\nQ 57.328125 34.859375 57.328125 23.390625 \r\nQ 57.328125 12.15625 50.6875 5.359375 \r\nQ 44.046875 -1.421875 33.015625 -1.421875 \r\nQ 20.359375 -1.421875 13.671875 8.265625 \r\nQ 6.984375 17.96875 6.984375 36.375 \r\nQ 6.984375 53.65625 15.1875 63.9375 \r\nQ 23.390625 74.21875 37.203125 74.21875 \r\nQ 40.921875 74.21875 44.703125 73.484375 \r\nQ 48.484375 72.75 52.59375 71.296875 \r\nz\r\n\" id=\"DejaVuSans-54\"/>\r\n       </defs>\r\n       <use xlink:href=\"#DejaVuSans-50\"/>\r\n       <use x=\"63.623047\" xlink:href=\"#DejaVuSans-48\"/>\r\n       <use x=\"127.246094\" xlink:href=\"#DejaVuSans-48\"/>\r\n       <use x=\"190.869141\" xlink:href=\"#DejaVuSans-54\"/>\r\n      </g>\r\n     </g>\r\n    </g>\r\n    <g id=\"xtick_5\">\r\n     <g id=\"line2d_5\">\r\n      <g>\r\n       <use style=\"stroke:#000000;stroke-width:0.8;\" x=\"188.740439\" xlink:href=\"#m6be28dd4f4\" y=\"224.64\"/>\r\n      </g>\r\n     </g>\r\n     <g id=\"text_4\">\r\n      <!-- 2007 -->\r\n      <g transform=\"translate(176.015439 239.238437)scale(0.1 -0.1)\">\r\n       <defs>\r\n        <path d=\"M 8.203125 72.90625 \r\nL 55.078125 72.90625 \r\nL 55.078125 68.703125 \r\nL 28.609375 0 \r\nL 18.3125 0 \r\nL 43.21875 64.59375 \r\nL 8.203125 64.59375 \r\nz\r\n\" id=\"DejaVuSans-55\"/>\r\n       </defs>\r\n       <use xlink:href=\"#DejaVuSans-50\"/>\r\n       <use x=\"63.623047\" xlink:href=\"#DejaVuSans-48\"/>\r\n       <use x=\"127.246094\" xlink:href=\"#DejaVuSans-48\"/>\r\n       <use x=\"190.869141\" xlink:href=\"#DejaVuSans-55\"/>\r\n      </g>\r\n     </g>\r\n    </g>\r\n    <g id=\"xtick_6\">\r\n     <g id=\"line2d_6\">\r\n      <g>\r\n       <use style=\"stroke:#000000;stroke-width:0.8;\" x=\"226.882212\" xlink:href=\"#m6be28dd4f4\" y=\"224.64\"/>\r\n      </g>\r\n     </g>\r\n     <g id=\"text_5\">\r\n      <!-- 2008 -->\r\n      <g transform=\"translate(214.157212 239.238437)scale(0.1 -0.1)\">\r\n       <defs>\r\n        <path d=\"M 31.78125 34.625 \r\nQ 24.75 34.625 20.71875 30.859375 \r\nQ 16.703125 27.09375 16.703125 20.515625 \r\nQ 16.703125 13.921875 20.71875 10.15625 \r\nQ 24.75 6.390625 31.78125 6.390625 \r\nQ 38.8125 6.390625 42.859375 10.171875 \r\nQ 46.921875 13.96875 46.921875 20.515625 \r\nQ 46.921875 27.09375 42.890625 30.859375 \r\nQ 38.875 34.625 31.78125 34.625 \r\nz\r\nM 21.921875 38.8125 \r\nQ 15.578125 40.375 12.03125 44.71875 \r\nQ 8.5 49.078125 8.5 55.328125 \r\nQ 8.5 64.0625 14.71875 69.140625 \r\nQ 20.953125 74.21875 31.78125 74.21875 \r\nQ 42.671875 74.21875 48.875 69.140625 \r\nQ 55.078125 64.0625 55.078125 55.328125 \r\nQ 55.078125 49.078125 51.53125 44.71875 \r\nQ 48 40.375 41.703125 38.8125 \r\nQ 48.828125 37.15625 52.796875 32.3125 \r\nQ 56.78125 27.484375 56.78125 20.515625 \r\nQ 56.78125 9.90625 50.3125 4.234375 \r\nQ 43.84375 -1.421875 31.78125 -1.421875 \r\nQ 19.734375 -1.421875 13.25 4.234375 \r\nQ 6.78125 9.90625 6.78125 20.515625 \r\nQ 6.78125 27.484375 10.78125 32.3125 \r\nQ 14.796875 37.15625 21.921875 38.8125 \r\nz\r\nM 18.3125 54.390625 \r\nQ 18.3125 48.734375 21.84375 45.5625 \r\nQ 25.390625 42.390625 31.78125 42.390625 \r\nQ 38.140625 42.390625 41.71875 45.5625 \r\nQ 45.3125 48.734375 45.3125 54.390625 \r\nQ 45.3125 60.0625 41.71875 63.234375 \r\nQ 38.140625 66.40625 31.78125 66.40625 \r\nQ 25.390625 66.40625 21.84375 63.234375 \r\nQ 18.3125 60.0625 18.3125 54.390625 \r\nz\r\n\" id=\"DejaVuSans-56\"/>\r\n       </defs>\r\n       <use xlink:href=\"#DejaVuSans-50\"/>\r\n       <use x=\"63.623047\" xlink:href=\"#DejaVuSans-48\"/>\r\n       <use x=\"127.246094\" xlink:href=\"#DejaVuSans-48\"/>\r\n       <use x=\"190.869141\" xlink:href=\"#DejaVuSans-56\"/>\r\n      </g>\r\n     </g>\r\n    </g>\r\n    <g id=\"xtick_7\">\r\n     <g id=\"line2d_7\">\r\n      <g>\r\n       <use style=\"stroke:#000000;stroke-width:0.8;\" x=\"265.170121\" xlink:href=\"#m6be28dd4f4\" y=\"224.64\"/>\r\n      </g>\r\n     </g>\r\n     <g id=\"text_6\">\r\n      <!-- 2009 -->\r\n      <g transform=\"translate(252.445121 239.238437)scale(0.1 -0.1)\">\r\n       <defs>\r\n        <path d=\"M 10.984375 1.515625 \r\nL 10.984375 10.5 \r\nQ 14.703125 8.734375 18.5 7.8125 \r\nQ 22.3125 6.890625 25.984375 6.890625 \r\nQ 35.75 6.890625 40.890625 13.453125 \r\nQ 46.046875 20.015625 46.78125 33.40625 \r\nQ 43.953125 29.203125 39.59375 26.953125 \r\nQ 35.25 24.703125 29.984375 24.703125 \r\nQ 19.046875 24.703125 12.671875 31.3125 \r\nQ 6.296875 37.9375 6.296875 49.421875 \r\nQ 6.296875 60.640625 12.9375 67.421875 \r\nQ 19.578125 74.21875 30.609375 74.21875 \r\nQ 43.265625 74.21875 49.921875 64.515625 \r\nQ 56.59375 54.828125 56.59375 36.375 \r\nQ 56.59375 19.140625 48.40625 8.859375 \r\nQ 40.234375 -1.421875 26.421875 -1.421875 \r\nQ 22.703125 -1.421875 18.890625 -0.6875 \r\nQ 15.09375 0.046875 10.984375 1.515625 \r\nz\r\nM 30.609375 32.421875 \r\nQ 37.25 32.421875 41.125 36.953125 \r\nQ 45.015625 41.5 45.015625 49.421875 \r\nQ 45.015625 57.28125 41.125 61.84375 \r\nQ 37.25 66.40625 30.609375 66.40625 \r\nQ 23.96875 66.40625 20.09375 61.84375 \r\nQ 16.21875 57.28125 16.21875 49.421875 \r\nQ 16.21875 41.5 20.09375 36.953125 \r\nQ 23.96875 32.421875 30.609375 32.421875 \r\nz\r\n\" id=\"DejaVuSans-57\"/>\r\n       </defs>\r\n       <use xlink:href=\"#DejaVuSans-50\"/>\r\n       <use x=\"63.623047\" xlink:href=\"#DejaVuSans-48\"/>\r\n       <use x=\"127.246094\" xlink:href=\"#DejaVuSans-48\"/>\r\n       <use x=\"190.869141\" xlink:href=\"#DejaVuSans-57\"/>\r\n      </g>\r\n     </g>\r\n    </g>\r\n    <g id=\"xtick_8\">\r\n     <g id=\"line2d_8\">\r\n      <g>\r\n       <use style=\"stroke:#000000;stroke-width:0.8;\" x=\"303.311893\" xlink:href=\"#m6be28dd4f4\" y=\"224.64\"/>\r\n      </g>\r\n     </g>\r\n     <g id=\"text_7\">\r\n      <!-- 2010 -->\r\n      <g transform=\"translate(290.586893 239.238437)scale(0.1 -0.1)\">\r\n       <defs>\r\n        <path d=\"M 12.40625 8.296875 \r\nL 28.515625 8.296875 \r\nL 28.515625 63.921875 \r\nL 10.984375 60.40625 \r\nL 10.984375 69.390625 \r\nL 28.421875 72.90625 \r\nL 38.28125 72.90625 \r\nL 38.28125 8.296875 \r\nL 54.390625 8.296875 \r\nL 54.390625 0 \r\nL 12.40625 0 \r\nz\r\n\" id=\"DejaVuSans-49\"/>\r\n       </defs>\r\n       <use xlink:href=\"#DejaVuSans-50\"/>\r\n       <use x=\"63.623047\" xlink:href=\"#DejaVuSans-48\"/>\r\n       <use x=\"127.246094\" xlink:href=\"#DejaVuSans-49\"/>\r\n       <use x=\"190.869141\" xlink:href=\"#DejaVuSans-48\"/>\r\n      </g>\r\n     </g>\r\n    </g>\r\n    <g id=\"xtick_9\">\r\n     <g id=\"line2d_9\">\r\n      <g>\r\n       <use style=\"stroke:#000000;stroke-width:0.8;\" x=\"341.453665\" xlink:href=\"#m6be28dd4f4\" y=\"224.64\"/>\r\n      </g>\r\n     </g>\r\n     <g id=\"text_8\">\r\n      <!-- 2011 -->\r\n      <g transform=\"translate(328.728665 239.238437)scale(0.1 -0.1)\">\r\n       <use xlink:href=\"#DejaVuSans-50\"/>\r\n       <use x=\"63.623047\" xlink:href=\"#DejaVuSans-48\"/>\r\n       <use x=\"127.246094\" xlink:href=\"#DejaVuSans-49\"/>\r\n       <use x=\"190.869141\" xlink:href=\"#DejaVuSans-49\"/>\r\n      </g>\r\n     </g>\r\n    </g>\r\n    <g id=\"xtick_10\">\r\n     <g id=\"line2d_10\">\r\n      <g>\r\n       <use style=\"stroke:#000000;stroke-width:0.8;\" x=\"371.265625\" xlink:href=\"#m6be28dd4f4\" y=\"224.64\"/>\r\n      </g>\r\n     </g>\r\n    </g>\r\n    <g id=\"xtick_11\">\r\n     <g id=\"line2d_11\">\r\n      <defs>\r\n       <path d=\"M 0 0 \r\nL 0 2 \r\n\" id=\"m79565b4fc4\" style=\"stroke:#000000;stroke-width:0.6;\"/>\r\n      </defs>\r\n      <g>\r\n       <use style=\"stroke:#000000;stroke-width:0.6;\" x=\"45.67226\" xlink:href=\"#m79565b4fc4\" y=\"224.64\"/>\r\n      </g>\r\n     </g>\r\n    </g>\r\n    <g id=\"xtick_12\">\r\n     <g id=\"line2d_12\">\r\n      <g>\r\n       <use style=\"stroke:#000000;stroke-width:0.6;\" x=\"55.171168\" xlink:href=\"#m79565b4fc4\" y=\"224.64\"/>\r\n      </g>\r\n     </g>\r\n    </g>\r\n    <g id=\"xtick_13\">\r\n     <g id=\"line2d_13\">\r\n      <g>\r\n       <use style=\"stroke:#000000;stroke-width:0.6;\" x=\"64.816214\" xlink:href=\"#m79565b4fc4\" y=\"224.64\"/>\r\n      </g>\r\n     </g>\r\n    </g>\r\n    <g id=\"xtick_14\">\r\n     <g id=\"line2d_14\">\r\n      <g>\r\n       <use style=\"stroke:#000000;stroke-width:0.6;\" x=\"83.960169\" xlink:href=\"#m79565b4fc4\" y=\"224.64\"/>\r\n      </g>\r\n     </g>\r\n    </g>\r\n    <g id=\"xtick_15\">\r\n     <g id=\"line2d_15\">\r\n      <g>\r\n       <use style=\"stroke:#000000;stroke-width:0.6;\" x=\"93.459078\" xlink:href=\"#m79565b4fc4\" y=\"224.64\"/>\r\n      </g>\r\n     </g>\r\n    </g>\r\n    <g id=\"xtick_16\">\r\n     <g id=\"line2d_16\">\r\n      <g>\r\n       <use style=\"stroke:#000000;stroke-width:0.6;\" x=\"103.104123\" xlink:href=\"#m79565b4fc4\" y=\"224.64\"/>\r\n      </g>\r\n     </g>\r\n    </g>\r\n    <g id=\"xtick_17\">\r\n     <g id=\"line2d_17\">\r\n      <g>\r\n       <use style=\"stroke:#000000;stroke-width:0.6;\" x=\"122.101941\" xlink:href=\"#m79565b4fc4\" y=\"224.64\"/>\r\n      </g>\r\n     </g>\r\n    </g>\r\n    <g id=\"xtick_18\">\r\n     <g id=\"line2d_18\">\r\n      <g>\r\n       <use style=\"stroke:#000000;stroke-width:0.6;\" x=\"131.60085\" xlink:href=\"#m79565b4fc4\" y=\"224.64\"/>\r\n      </g>\r\n     </g>\r\n    </g>\r\n    <g id=\"xtick_19\">\r\n     <g id=\"line2d_19\">\r\n      <g>\r\n       <use style=\"stroke:#000000;stroke-width:0.6;\" x=\"141.245896\" xlink:href=\"#m79565b4fc4\" y=\"224.64\"/>\r\n      </g>\r\n     </g>\r\n    </g>\r\n    <g id=\"xtick_20\">\r\n     <g id=\"line2d_20\">\r\n      <g>\r\n       <use style=\"stroke:#000000;stroke-width:0.6;\" x=\"160.243713\" xlink:href=\"#m79565b4fc4\" y=\"224.64\"/>\r\n      </g>\r\n     </g>\r\n    </g>\r\n    <g id=\"xtick_21\">\r\n     <g id=\"line2d_21\">\r\n      <g>\r\n       <use style=\"stroke:#000000;stroke-width:0.6;\" x=\"169.742622\" xlink:href=\"#m79565b4fc4\" y=\"224.64\"/>\r\n      </g>\r\n     </g>\r\n    </g>\r\n    <g id=\"xtick_22\">\r\n     <g id=\"line2d_22\">\r\n      <g>\r\n       <use style=\"stroke:#000000;stroke-width:0.6;\" x=\"179.241531\" xlink:href=\"#m79565b4fc4\" y=\"224.64\"/>\r\n      </g>\r\n     </g>\r\n    </g>\r\n    <g id=\"xtick_23\">\r\n     <g id=\"line2d_23\">\r\n      <g>\r\n       <use style=\"stroke:#000000;stroke-width:0.6;\" x=\"198.239348\" xlink:href=\"#m79565b4fc4\" y=\"224.64\"/>\r\n      </g>\r\n     </g>\r\n    </g>\r\n    <g id=\"xtick_24\">\r\n     <g id=\"line2d_24\">\r\n      <g>\r\n       <use style=\"stroke:#000000;stroke-width:0.6;\" x=\"207.738257\" xlink:href=\"#m79565b4fc4\" y=\"224.64\"/>\r\n      </g>\r\n     </g>\r\n    </g>\r\n    <g id=\"xtick_25\">\r\n     <g id=\"line2d_25\">\r\n      <g>\r\n       <use style=\"stroke:#000000;stroke-width:0.6;\" x=\"217.237166\" xlink:href=\"#m79565b4fc4\" y=\"224.64\"/>\r\n      </g>\r\n     </g>\r\n    </g>\r\n    <g id=\"xtick_26\">\r\n     <g id=\"line2d_26\">\r\n      <g>\r\n       <use style=\"stroke:#000000;stroke-width:0.6;\" x=\"236.38112\" xlink:href=\"#m79565b4fc4\" y=\"224.64\"/>\r\n      </g>\r\n     </g>\r\n    </g>\r\n    <g id=\"xtick_27\">\r\n     <g id=\"line2d_27\">\r\n      <g>\r\n       <use style=\"stroke:#000000;stroke-width:0.6;\" x=\"245.880029\" xlink:href=\"#m79565b4fc4\" y=\"224.64\"/>\r\n      </g>\r\n     </g>\r\n    </g>\r\n    <g id=\"xtick_28\">\r\n     <g id=\"line2d_28\">\r\n      <g>\r\n       <use style=\"stroke:#000000;stroke-width:0.6;\" x=\"255.525075\" xlink:href=\"#m79565b4fc4\" y=\"224.64\"/>\r\n      </g>\r\n     </g>\r\n    </g>\r\n    <g id=\"xtick_29\">\r\n     <g id=\"line2d_29\">\r\n      <g>\r\n       <use style=\"stroke:#000000;stroke-width:0.6;\" x=\"274.522893\" xlink:href=\"#m79565b4fc4\" y=\"224.64\"/>\r\n      </g>\r\n     </g>\r\n    </g>\r\n    <g id=\"xtick_30\">\r\n     <g id=\"line2d_30\">\r\n      <g>\r\n       <use style=\"stroke:#000000;stroke-width:0.6;\" x=\"284.021801\" xlink:href=\"#m79565b4fc4\" y=\"224.64\"/>\r\n      </g>\r\n     </g>\r\n    </g>\r\n    <g id=\"xtick_31\">\r\n     <g id=\"line2d_31\">\r\n      <g>\r\n       <use style=\"stroke:#000000;stroke-width:0.6;\" x=\"293.666847\" xlink:href=\"#m79565b4fc4\" y=\"224.64\"/>\r\n      </g>\r\n     </g>\r\n    </g>\r\n    <g id=\"xtick_32\">\r\n     <g id=\"line2d_32\">\r\n      <g>\r\n       <use style=\"stroke:#000000;stroke-width:0.6;\" x=\"312.664665\" xlink:href=\"#m79565b4fc4\" y=\"224.64\"/>\r\n      </g>\r\n     </g>\r\n    </g>\r\n    <g id=\"xtick_33\">\r\n     <g id=\"line2d_33\">\r\n      <g>\r\n       <use style=\"stroke:#000000;stroke-width:0.6;\" x=\"322.163573\" xlink:href=\"#m79565b4fc4\" y=\"224.64\"/>\r\n      </g>\r\n     </g>\r\n    </g>\r\n    <g id=\"xtick_34\">\r\n     <g id=\"line2d_34\">\r\n      <g>\r\n       <use style=\"stroke:#000000;stroke-width:0.6;\" x=\"331.808619\" xlink:href=\"#m79565b4fc4\" y=\"224.64\"/>\r\n      </g>\r\n     </g>\r\n    </g>\r\n    <g id=\"xtick_35\">\r\n     <g id=\"line2d_35\">\r\n      <g>\r\n       <use style=\"stroke:#000000;stroke-width:0.6;\" x=\"350.806437\" xlink:href=\"#m79565b4fc4\" y=\"224.64\"/>\r\n      </g>\r\n     </g>\r\n    </g>\r\n    <g id=\"xtick_36\">\r\n     <g id=\"line2d_36\">\r\n      <g>\r\n       <use style=\"stroke:#000000;stroke-width:0.6;\" x=\"360.305346\" xlink:href=\"#m79565b4fc4\" y=\"224.64\"/>\r\n      </g>\r\n     </g>\r\n    </g>\r\n    <g id=\"xtick_37\">\r\n     <g id=\"line2d_37\">\r\n      <g>\r\n       <use style=\"stroke:#000000;stroke-width:0.6;\" x=\"369.950391\" xlink:href=\"#m79565b4fc4\" y=\"224.64\"/>\r\n      </g>\r\n     </g>\r\n    </g>\r\n   </g>\r\n   <g id=\"matplotlib.axis_2\">\r\n    <g id=\"ytick_1\">\r\n     <g id=\"line2d_38\">\r\n      <defs>\r\n       <path d=\"M 0 0 \r\nL -3.5 0 \r\n\" id=\"m6df9ee0ee0\" style=\"stroke:#000000;stroke-width:0.8;\"/>\r\n      </defs>\r\n      <g>\r\n       <use style=\"stroke:#000000;stroke-width:0.8;\" x=\"36.465625\" xlink:href=\"#m6df9ee0ee0\" y=\"215.571655\"/>\r\n      </g>\r\n     </g>\r\n     <g id=\"text_9\">\r\n      <!-- 0.0 -->\r\n      <g transform=\"translate(13.5625 219.370874)scale(0.1 -0.1)\">\r\n       <defs>\r\n        <path d=\"M 10.6875 12.40625 \r\nL 21 12.40625 \r\nL 21 0 \r\nL 10.6875 0 \r\nz\r\n\" id=\"DejaVuSans-46\"/>\r\n       </defs>\r\n       <use xlink:href=\"#DejaVuSans-48\"/>\r\n       <use x=\"63.623047\" xlink:href=\"#DejaVuSans-46\"/>\r\n       <use x=\"95.410156\" xlink:href=\"#DejaVuSans-48\"/>\r\n      </g>\r\n     </g>\r\n    </g>\r\n    <g id=\"ytick_2\">\r\n     <g id=\"line2d_39\">\r\n      <g>\r\n       <use style=\"stroke:#000000;stroke-width:0.8;\" x=\"36.465625\" xlink:href=\"#m6df9ee0ee0\" y=\"188.797899\"/>\r\n      </g>\r\n     </g>\r\n     <g id=\"text_10\">\r\n      <!-- 2.5 -->\r\n      <g transform=\"translate(13.5625 192.597118)scale(0.1 -0.1)\">\r\n       <use xlink:href=\"#DejaVuSans-50\"/>\r\n       <use x=\"63.623047\" xlink:href=\"#DejaVuSans-46\"/>\r\n       <use x=\"95.410156\" xlink:href=\"#DejaVuSans-53\"/>\r\n      </g>\r\n     </g>\r\n    </g>\r\n    <g id=\"ytick_3\">\r\n     <g id=\"line2d_40\">\r\n      <g>\r\n       <use style=\"stroke:#000000;stroke-width:0.8;\" x=\"36.465625\" xlink:href=\"#m6df9ee0ee0\" y=\"162.024143\"/>\r\n      </g>\r\n     </g>\r\n     <g id=\"text_11\">\r\n      <!-- 5.0 -->\r\n      <g transform=\"translate(13.5625 165.823362)scale(0.1 -0.1)\">\r\n       <use xlink:href=\"#DejaVuSans-53\"/>\r\n       <use x=\"63.623047\" xlink:href=\"#DejaVuSans-46\"/>\r\n       <use x=\"95.410156\" xlink:href=\"#DejaVuSans-48\"/>\r\n      </g>\r\n     </g>\r\n    </g>\r\n    <g id=\"ytick_4\">\r\n     <g id=\"line2d_41\">\r\n      <g>\r\n       <use style=\"stroke:#000000;stroke-width:0.8;\" x=\"36.465625\" xlink:href=\"#m6df9ee0ee0\" y=\"135.250387\"/>\r\n      </g>\r\n     </g>\r\n     <g id=\"text_12\">\r\n      <!-- 7.5 -->\r\n      <g transform=\"translate(13.5625 139.049605)scale(0.1 -0.1)\">\r\n       <use xlink:href=\"#DejaVuSans-55\"/>\r\n       <use x=\"63.623047\" xlink:href=\"#DejaVuSans-46\"/>\r\n       <use x=\"95.410156\" xlink:href=\"#DejaVuSans-53\"/>\r\n      </g>\r\n     </g>\r\n    </g>\r\n    <g id=\"ytick_5\">\r\n     <g id=\"line2d_42\">\r\n      <g>\r\n       <use style=\"stroke:#000000;stroke-width:0.8;\" x=\"36.465625\" xlink:href=\"#m6df9ee0ee0\" y=\"108.47663\"/>\r\n      </g>\r\n     </g>\r\n     <g id=\"text_13\">\r\n      <!-- 10.0 -->\r\n      <g transform=\"translate(7.2 112.275849)scale(0.1 -0.1)\">\r\n       <use xlink:href=\"#DejaVuSans-49\"/>\r\n       <use x=\"63.623047\" xlink:href=\"#DejaVuSans-48\"/>\r\n       <use x=\"127.246094\" xlink:href=\"#DejaVuSans-46\"/>\r\n       <use x=\"159.033203\" xlink:href=\"#DejaVuSans-48\"/>\r\n      </g>\r\n     </g>\r\n    </g>\r\n    <g id=\"ytick_6\">\r\n     <g id=\"line2d_43\">\r\n      <g>\r\n       <use style=\"stroke:#000000;stroke-width:0.8;\" x=\"36.465625\" xlink:href=\"#m6df9ee0ee0\" y=\"81.702874\"/>\r\n      </g>\r\n     </g>\r\n     <g id=\"text_14\">\r\n      <!-- 12.5 -->\r\n      <g transform=\"translate(7.2 85.502093)scale(0.1 -0.1)\">\r\n       <use xlink:href=\"#DejaVuSans-49\"/>\r\n       <use x=\"63.623047\" xlink:href=\"#DejaVuSans-50\"/>\r\n       <use x=\"127.246094\" xlink:href=\"#DejaVuSans-46\"/>\r\n       <use x=\"159.033203\" xlink:href=\"#DejaVuSans-53\"/>\r\n      </g>\r\n     </g>\r\n    </g>\r\n    <g id=\"ytick_7\">\r\n     <g id=\"line2d_44\">\r\n      <g>\r\n       <use style=\"stroke:#000000;stroke-width:0.8;\" x=\"36.465625\" xlink:href=\"#m6df9ee0ee0\" y=\"54.929118\"/>\r\n      </g>\r\n     </g>\r\n     <g id=\"text_15\">\r\n      <!-- 15.0 -->\r\n      <g transform=\"translate(7.2 58.728337)scale(0.1 -0.1)\">\r\n       <use xlink:href=\"#DejaVuSans-49\"/>\r\n       <use x=\"63.623047\" xlink:href=\"#DejaVuSans-53\"/>\r\n       <use x=\"127.246094\" xlink:href=\"#DejaVuSans-46\"/>\r\n       <use x=\"159.033203\" xlink:href=\"#DejaVuSans-48\"/>\r\n      </g>\r\n     </g>\r\n    </g>\r\n    <g id=\"ytick_8\">\r\n     <g id=\"line2d_45\">\r\n      <g>\r\n       <use style=\"stroke:#000000;stroke-width:0.8;\" x=\"36.465625\" xlink:href=\"#m6df9ee0ee0\" y=\"28.155362\"/>\r\n      </g>\r\n     </g>\r\n     <g id=\"text_16\">\r\n      <!-- 17.5 -->\r\n      <g transform=\"translate(7.2 31.95458)scale(0.1 -0.1)\">\r\n       <use xlink:href=\"#DejaVuSans-49\"/>\r\n       <use x=\"63.623047\" xlink:href=\"#DejaVuSans-55\"/>\r\n       <use x=\"127.246094\" xlink:href=\"#DejaVuSans-46\"/>\r\n       <use x=\"159.033203\" xlink:href=\"#DejaVuSans-53\"/>\r\n      </g>\r\n     </g>\r\n    </g>\r\n   </g>\r\n   <g id=\"line2d_46\">\r\n    <path clip-path=\"url(#paaf6d510ac)\" d=\"M 37.780859 214.741717 \r\nL 37.926996 214.756364 \r\nL 38.657681 214.219674 \r\nL 39.242229 214.003825 \r\nL 40.265189 213.912009 \r\nL 49.471823 213.682832 \r\nL 50.494783 213.391838 \r\nL 67.00827 207.498992 \r\nL 71.246245 206.225761 \r\nL 74.753534 205.422004 \r\nL 78.845372 204.729867 \r\nL 83.083347 204.249686 \r\nL 87.759732 203.925693 \r\nL 94.482037 203.403124 \r\nL 100.912068 202.521522 \r\nL 104.419357 201.834541 \r\nL 106.319139 201.27986 \r\nL 108.218921 200.496494 \r\nL 109.972565 199.547542 \r\nL 112.310758 198.000761 \r\nL 115.379636 195.700687 \r\nL 117.863966 193.574885 \r\nL 120.64057 190.848049 \r\nL 126.63219 184.936819 \r\nL 129.701068 182.354959 \r\nL 132.185398 180.535309 \r\nL 134.669728 179.002561 \r\nL 137.007921 177.823446 \r\nL 139.346114 176.878706 \r\nL 142.561129 175.843781 \r\nL 146.068419 174.704159 \r\nL 147.822063 173.903848 \r\nL 149.575708 172.859541 \r\nL 151.767764 171.312652 \r\nL 153.813683 169.57167 \r\nL 161.558947 162.779388 \r\nL 164.335551 160.726033 \r\nL 166.673744 159.230765 \r\nL 168.719663 158.176342 \r\nL 170.911718 157.311642 \r\nL 173.249911 156.605881 \r\nL 175.588104 156.122688 \r\nL 178.80312 155.702387 \r\nL 185.671561 154.910046 \r\nL 188.594302 154.149444 \r\nL 191.517044 153.24567 \r\nL 197.362526 151.101409 \r\nL 201.746638 149.296605 \r\nL 204.523242 147.954874 \r\nL 207.153709 146.434126 \r\nL 210.07645 144.541465 \r\nL 213.291465 142.026953 \r\nL 217.237166 138.780707 \r\nL 219.136948 136.965512 \r\nL 220.744455 135.146787 \r\nL 223.374922 131.71327 \r\nL 226.151526 127.762664 \r\nL 231.558598 119.867475 \r\nL 233.89679 117.011694 \r\nL 236.234983 114.498891 \r\nL 238.280902 112.632689 \r\nL 241.642055 109.944965 \r\nL 246.172303 106.527954 \r\nL 249.679593 104.142327 \r\nL 252.894608 102.300307 \r\nL 256.109623 100.467318 \r\nL 258.009405 99.034573 \r\nL 260.347598 96.96258 \r\nL 264.001024 93.31783 \r\nL 267.069903 90.071683 \r\nL 271.16174 85.331082 \r\nL 278.030182 77.269451 \r\nL 280.076101 75.325919 \r\nL 282.268157 73.57224 \r\nL 284.460213 72.093503 \r\nL 287.529091 70.345298 \r\nL 292.643888 67.569964 \r\nL 294.689807 66.084105 \r\nL 296.735725 64.339935 \r\nL 299.804604 61.40732 \r\nL 305.503949 55.822913 \r\nL 308.134416 53.509161 \r\nL 310.180335 52.022903 \r\nL 314.418309 49.292204 \r\nL 318.510147 46.518974 \r\nL 322.455848 44.007697 \r\nL 326.109274 41.984608 \r\nL 328.593604 40.814129 \r\nL 333.854538 38.491809 \r\nL 336.192731 37.139417 \r\nL 340.72298 34.153749 \r\nL 348.17597 28.758487 \r\nL 355.336686 23.64678 \r\nL 358.551701 21.598956 \r\nL 360.743757 20.421216 \r\nL 364.397183 18.773311 \r\nL 366.150828 18.228632 \r\nL 370.388803 17.283715 \r\nL 371.265625 17.083636 \r\nL 371.265625 17.083636 \r\n\" style=\"fill:none;stroke:#1f77b4;stroke-linecap:square;stroke-width:1.5;\"/>\r\n   </g>\r\n   <g id=\"patch_3\">\r\n    <path d=\"M 36.465625 224.64 \r\nL 36.465625 7.2 \r\n\" style=\"fill:none;stroke:#000000;stroke-linecap:square;stroke-linejoin:miter;stroke-width:0.8;\"/>\r\n   </g>\r\n   <g id=\"patch_4\">\r\n    <path d=\"M 371.265625 224.64 \r\nL 371.265625 7.2 \r\n\" style=\"fill:none;stroke:#000000;stroke-linecap:square;stroke-linejoin:miter;stroke-width:0.8;\"/>\r\n   </g>\r\n   <g id=\"patch_5\">\r\n    <path d=\"M 36.465625 224.64 \r\nL 371.265625 224.64 \r\n\" style=\"fill:none;stroke:#000000;stroke-linecap:square;stroke-linejoin:miter;stroke-width:0.8;\"/>\r\n   </g>\r\n   <g id=\"patch_6\">\r\n    <path d=\"M 36.465625 7.2 \r\nL 371.265625 7.2 \r\n\" style=\"fill:none;stroke:#000000;stroke-linecap:square;stroke-linejoin:miter;stroke-width:0.8;\"/>\r\n   </g>\r\n  </g>\r\n </g>\r\n <defs>\r\n  <clipPath id=\"paaf6d510ac\">\r\n   <rect height=\"217.44\" width=\"334.8\" x=\"36.465625\" y=\"7.2\"/>\r\n  </clipPath>\r\n </defs>\r\n</svg>\r\n",
      "image/png": "[encoded data removed]"
     },
     "metadata": {
      "needs_background": "light"
     }
    }
   ],
   "source": [
    "expanding_mean = appl_std250.expanding().mean().plot()"
   ]
  },
  {
   "cell_type": "code",
   "execution_count": 266,
   "metadata": {},
   "outputs": [
    {
     "output_type": "execute_result",
     "data": {
      "text/plain": [
       "<AxesSubplot:>"
      ]
     },
     "metadata": {},
     "execution_count": 266
    },
    {
     "output_type": "display_data",
     "data": {
      "text/plain": "<Figure size 432x288 with 1 Axes>",
      "image/svg+xml": "<?xml version=\"1.0\" encoding=\"utf-8\" standalone=\"no\"?>\r\n<!DOCTYPE svg PUBLIC \"-//W3C//DTD SVG 1.1//EN\"\r\n  \"http://www.w3.org/Graphics/SVG/1.1/DTD/svg11.dtd\">\r\n<!-- Created with matplotlib (https://matplotlib.org/) -->\r\n<svg height=\"248.518125pt\" version=\"1.1\" viewBox=\"0 0 373.8 248.518125\" width=\"373.8pt\" xmlns=\"http://www.w3.org/2000/svg\" xmlns:xlink=\"http://www.w3.org/1999/xlink\">\r\n <metadata>\r\n  <rdf:RDF xmlns:cc=\"http://creativecommons.org/ns#\" xmlns:dc=\"http://purl.org/dc/elements/1.1/\" xmlns:rdf=\"http://www.w3.org/1999/02/22-rdf-syntax-ns#\">\r\n   <cc:Work>\r\n    <dc:type rdf:resource=\"http://purl.org/dc/dcmitype/StillImage\"/>\r\n    <dc:date>2021-05-11T11:20:10.332893</dc:date>\r\n    <dc:format>image/svg+xml</dc:format>\r\n    <dc:creator>\r\n     <cc:Agent>\r\n      <dc:title>Matplotlib v3.3.2, https://matplotlib.org/</dc:title>\r\n     </cc:Agent>\r\n    </dc:creator>\r\n   </cc:Work>\r\n  </rdf:RDF>\r\n </metadata>\r\n <defs>\r\n  <style type=\"text/css\">*{stroke-linecap:butt;stroke-linejoin:round;}</style>\r\n </defs>\r\n <g id=\"figure_1\">\r\n  <g id=\"patch_1\">\r\n   <path d=\"M 0 248.518125 \r\nL 373.8 248.518125 \r\nL 373.8 0 \r\nL 0 0 \r\nz\r\n\" style=\"fill:none;\"/>\r\n  </g>\r\n  <g id=\"axes_1\">\r\n   <g id=\"patch_2\">\r\n    <path d=\"M 31.8 224.64 \r\nL 366.6 224.64 \r\nL 366.6 7.2 \r\nL 31.8 7.2 \r\nz\r\n\" style=\"fill:#ffffff;\"/>\r\n   </g>\r\n   <g id=\"matplotlib.axis_1\">\r\n    <g id=\"xtick_1\">\r\n     <g id=\"line2d_1\">\r\n      <defs>\r\n       <path d=\"M 0 0 \r\nL 0 3.5 \r\n\" id=\"m53c0cde8ac\" style=\"stroke:#000000;stroke-width:0.8;\"/>\r\n      </defs>\r\n      <g>\r\n       <use style=\"stroke:#000000;stroke-width:0.8;\" x=\"31.8\" xlink:href=\"#m53c0cde8ac\" y=\"224.64\"/>\r\n      </g>\r\n     </g>\r\n    </g>\r\n    <g id=\"xtick_2\">\r\n     <g id=\"line2d_2\">\r\n      <g>\r\n       <use style=\"stroke:#000000;stroke-width:0.8;\" x=\"69.795635\" xlink:href=\"#m53c0cde8ac\" y=\"224.64\"/>\r\n      </g>\r\n     </g>\r\n     <g id=\"text_1\">\r\n      <!-- 2004 -->\r\n      <g transform=\"translate(57.070635 239.238437)scale(0.1 -0.1)\">\r\n       <defs>\r\n        <path d=\"M 19.1875 8.296875 \r\nL 53.609375 8.296875 \r\nL 53.609375 0 \r\nL 7.328125 0 \r\nL 7.328125 8.296875 \r\nQ 12.9375 14.109375 22.625 23.890625 \r\nQ 32.328125 33.6875 34.8125 36.53125 \r\nQ 39.546875 41.84375 41.421875 45.53125 \r\nQ 43.3125 49.21875 43.3125 52.78125 \r\nQ 43.3125 58.59375 39.234375 62.25 \r\nQ 35.15625 65.921875 28.609375 65.921875 \r\nQ 23.96875 65.921875 18.8125 64.3125 \r\nQ 13.671875 62.703125 7.8125 59.421875 \r\nL 7.8125 69.390625 \r\nQ 13.765625 71.78125 18.9375 73 \r\nQ 24.125 74.21875 28.421875 74.21875 \r\nQ 39.75 74.21875 46.484375 68.546875 \r\nQ 53.21875 62.890625 53.21875 53.421875 \r\nQ 53.21875 48.921875 51.53125 44.890625 \r\nQ 49.859375 40.875 45.40625 35.40625 \r\nQ 44.1875 33.984375 37.640625 27.21875 \r\nQ 31.109375 20.453125 19.1875 8.296875 \r\nz\r\n\" id=\"DejaVuSans-50\"/>\r\n        <path d=\"M 31.78125 66.40625 \r\nQ 24.171875 66.40625 20.328125 58.90625 \r\nQ 16.5 51.421875 16.5 36.375 \r\nQ 16.5 21.390625 20.328125 13.890625 \r\nQ 24.171875 6.390625 31.78125 6.390625 \r\nQ 39.453125 6.390625 43.28125 13.890625 \r\nQ 47.125 21.390625 47.125 36.375 \r\nQ 47.125 51.421875 43.28125 58.90625 \r\nQ 39.453125 66.40625 31.78125 66.40625 \r\nz\r\nM 31.78125 74.21875 \r\nQ 44.046875 74.21875 50.515625 64.515625 \r\nQ 56.984375 54.828125 56.984375 36.375 \r\nQ 56.984375 17.96875 50.515625 8.265625 \r\nQ 44.046875 -1.421875 31.78125 -1.421875 \r\nQ 19.53125 -1.421875 13.0625 8.265625 \r\nQ 6.59375 17.96875 6.59375 36.375 \r\nQ 6.59375 54.828125 13.0625 64.515625 \r\nQ 19.53125 74.21875 31.78125 74.21875 \r\nz\r\n\" id=\"DejaVuSans-48\"/>\r\n        <path d=\"M 37.796875 64.3125 \r\nL 12.890625 25.390625 \r\nL 37.796875 25.390625 \r\nz\r\nM 35.203125 72.90625 \r\nL 47.609375 72.90625 \r\nL 47.609375 25.390625 \r\nL 58.015625 25.390625 \r\nL 58.015625 17.1875 \r\nL 47.609375 17.1875 \r\nL 47.609375 0 \r\nL 37.796875 0 \r\nL 37.796875 17.1875 \r\nL 4.890625 17.1875 \r\nL 4.890625 26.703125 \r\nz\r\n\" id=\"DejaVuSans-52\"/>\r\n       </defs>\r\n       <use xlink:href=\"#DejaVuSans-50\"/>\r\n       <use x=\"63.623047\" xlink:href=\"#DejaVuSans-48\"/>\r\n       <use x=\"127.246094\" xlink:href=\"#DejaVuSans-48\"/>\r\n       <use x=\"190.869141\" xlink:href=\"#DejaVuSans-52\"/>\r\n      </g>\r\n     </g>\r\n    </g>\r\n    <g id=\"xtick_3\">\r\n     <g id=\"line2d_3\">\r\n      <g>\r\n       <use style=\"stroke:#000000;stroke-width:0.8;\" x=\"108.083544\" xlink:href=\"#m53c0cde8ac\" y=\"224.64\"/>\r\n      </g>\r\n     </g>\r\n     <g id=\"text_2\">\r\n      <!-- 2005 -->\r\n      <g transform=\"translate(95.358544 239.238437)scale(0.1 -0.1)\">\r\n       <defs>\r\n        <path d=\"M 10.796875 72.90625 \r\nL 49.515625 72.90625 \r\nL 49.515625 64.59375 \r\nL 19.828125 64.59375 \r\nL 19.828125 46.734375 \r\nQ 21.96875 47.46875 24.109375 47.828125 \r\nQ 26.265625 48.1875 28.421875 48.1875 \r\nQ 40.625 48.1875 47.75 41.5 \r\nQ 54.890625 34.8125 54.890625 23.390625 \r\nQ 54.890625 11.625 47.5625 5.09375 \r\nQ 40.234375 -1.421875 26.90625 -1.421875 \r\nQ 22.3125 -1.421875 17.546875 -0.640625 \r\nQ 12.796875 0.140625 7.71875 1.703125 \r\nL 7.71875 11.625 \r\nQ 12.109375 9.234375 16.796875 8.0625 \r\nQ 21.484375 6.890625 26.703125 6.890625 \r\nQ 35.15625 6.890625 40.078125 11.328125 \r\nQ 45.015625 15.765625 45.015625 23.390625 \r\nQ 45.015625 31 40.078125 35.4375 \r\nQ 35.15625 39.890625 26.703125 39.890625 \r\nQ 22.75 39.890625 18.8125 39.015625 \r\nQ 14.890625 38.140625 10.796875 36.28125 \r\nz\r\n\" id=\"DejaVuSans-53\"/>\r\n       </defs>\r\n       <use xlink:href=\"#DejaVuSans-50\"/>\r\n       <use x=\"63.623047\" xlink:href=\"#DejaVuSans-48\"/>\r\n       <use x=\"127.246094\" xlink:href=\"#DejaVuSans-48\"/>\r\n       <use x=\"190.869141\" xlink:href=\"#DejaVuSans-53\"/>\r\n      </g>\r\n     </g>\r\n    </g>\r\n    <g id=\"xtick_4\">\r\n     <g id=\"line2d_4\">\r\n      <g>\r\n       <use style=\"stroke:#000000;stroke-width:0.8;\" x=\"146.079179\" xlink:href=\"#m53c0cde8ac\" y=\"224.64\"/>\r\n      </g>\r\n     </g>\r\n     <g id=\"text_3\">\r\n      <!-- 2006 -->\r\n      <g transform=\"translate(133.354179 239.238437)scale(0.1 -0.1)\">\r\n       <defs>\r\n        <path d=\"M 33.015625 40.375 \r\nQ 26.375 40.375 22.484375 35.828125 \r\nQ 18.609375 31.296875 18.609375 23.390625 \r\nQ 18.609375 15.53125 22.484375 10.953125 \r\nQ 26.375 6.390625 33.015625 6.390625 \r\nQ 39.65625 6.390625 43.53125 10.953125 \r\nQ 47.40625 15.53125 47.40625 23.390625 \r\nQ 47.40625 31.296875 43.53125 35.828125 \r\nQ 39.65625 40.375 33.015625 40.375 \r\nz\r\nM 52.59375 71.296875 \r\nL 52.59375 62.3125 \r\nQ 48.875 64.0625 45.09375 64.984375 \r\nQ 41.3125 65.921875 37.59375 65.921875 \r\nQ 27.828125 65.921875 22.671875 59.328125 \r\nQ 17.53125 52.734375 16.796875 39.40625 \r\nQ 19.671875 43.65625 24.015625 45.921875 \r\nQ 28.375 48.1875 33.59375 48.1875 \r\nQ 44.578125 48.1875 50.953125 41.515625 \r\nQ 57.328125 34.859375 57.328125 23.390625 \r\nQ 57.328125 12.15625 50.6875 5.359375 \r\nQ 44.046875 -1.421875 33.015625 -1.421875 \r\nQ 20.359375 -1.421875 13.671875 8.265625 \r\nQ 6.984375 17.96875 6.984375 36.375 \r\nQ 6.984375 53.65625 15.1875 63.9375 \r\nQ 23.390625 74.21875 37.203125 74.21875 \r\nQ 40.921875 74.21875 44.703125 73.484375 \r\nQ 48.484375 72.75 52.59375 71.296875 \r\nz\r\n\" id=\"DejaVuSans-54\"/>\r\n       </defs>\r\n       <use xlink:href=\"#DejaVuSans-50\"/>\r\n       <use x=\"63.623047\" xlink:href=\"#DejaVuSans-48\"/>\r\n       <use x=\"127.246094\" xlink:href=\"#DejaVuSans-48\"/>\r\n       <use x=\"190.869141\" xlink:href=\"#DejaVuSans-54\"/>\r\n      </g>\r\n     </g>\r\n    </g>\r\n    <g id=\"xtick_5\">\r\n     <g id=\"line2d_5\">\r\n      <g>\r\n       <use style=\"stroke:#000000;stroke-width:0.8;\" x=\"184.074814\" xlink:href=\"#m53c0cde8ac\" y=\"224.64\"/>\r\n      </g>\r\n     </g>\r\n     <g id=\"text_4\">\r\n      <!-- 2007 -->\r\n      <g transform=\"translate(171.349814 239.238437)scale(0.1 -0.1)\">\r\n       <defs>\r\n        <path d=\"M 8.203125 72.90625 \r\nL 55.078125 72.90625 \r\nL 55.078125 68.703125 \r\nL 28.609375 0 \r\nL 18.3125 0 \r\nL 43.21875 64.59375 \r\nL 8.203125 64.59375 \r\nz\r\n\" id=\"DejaVuSans-55\"/>\r\n       </defs>\r\n       <use xlink:href=\"#DejaVuSans-50\"/>\r\n       <use x=\"63.623047\" xlink:href=\"#DejaVuSans-48\"/>\r\n       <use x=\"127.246094\" xlink:href=\"#DejaVuSans-48\"/>\r\n       <use x=\"190.869141\" xlink:href=\"#DejaVuSans-55\"/>\r\n      </g>\r\n     </g>\r\n    </g>\r\n    <g id=\"xtick_6\">\r\n     <g id=\"line2d_6\">\r\n      <g>\r\n       <use style=\"stroke:#000000;stroke-width:0.8;\" x=\"222.216587\" xlink:href=\"#m53c0cde8ac\" y=\"224.64\"/>\r\n      </g>\r\n     </g>\r\n     <g id=\"text_5\">\r\n      <!-- 2008 -->\r\n      <g transform=\"translate(209.491587 239.238437)scale(0.1 -0.1)\">\r\n       <defs>\r\n        <path d=\"M 31.78125 34.625 \r\nQ 24.75 34.625 20.71875 30.859375 \r\nQ 16.703125 27.09375 16.703125 20.515625 \r\nQ 16.703125 13.921875 20.71875 10.15625 \r\nQ 24.75 6.390625 31.78125 6.390625 \r\nQ 38.8125 6.390625 42.859375 10.171875 \r\nQ 46.921875 13.96875 46.921875 20.515625 \r\nQ 46.921875 27.09375 42.890625 30.859375 \r\nQ 38.875 34.625 31.78125 34.625 \r\nz\r\nM 21.921875 38.8125 \r\nQ 15.578125 40.375 12.03125 44.71875 \r\nQ 8.5 49.078125 8.5 55.328125 \r\nQ 8.5 64.0625 14.71875 69.140625 \r\nQ 20.953125 74.21875 31.78125 74.21875 \r\nQ 42.671875 74.21875 48.875 69.140625 \r\nQ 55.078125 64.0625 55.078125 55.328125 \r\nQ 55.078125 49.078125 51.53125 44.71875 \r\nQ 48 40.375 41.703125 38.8125 \r\nQ 48.828125 37.15625 52.796875 32.3125 \r\nQ 56.78125 27.484375 56.78125 20.515625 \r\nQ 56.78125 9.90625 50.3125 4.234375 \r\nQ 43.84375 -1.421875 31.78125 -1.421875 \r\nQ 19.734375 -1.421875 13.25 4.234375 \r\nQ 6.78125 9.90625 6.78125 20.515625 \r\nQ 6.78125 27.484375 10.78125 32.3125 \r\nQ 14.796875 37.15625 21.921875 38.8125 \r\nz\r\nM 18.3125 54.390625 \r\nQ 18.3125 48.734375 21.84375 45.5625 \r\nQ 25.390625 42.390625 31.78125 42.390625 \r\nQ 38.140625 42.390625 41.71875 45.5625 \r\nQ 45.3125 48.734375 45.3125 54.390625 \r\nQ 45.3125 60.0625 41.71875 63.234375 \r\nQ 38.140625 66.40625 31.78125 66.40625 \r\nQ 25.390625 66.40625 21.84375 63.234375 \r\nQ 18.3125 60.0625 18.3125 54.390625 \r\nz\r\n\" id=\"DejaVuSans-56\"/>\r\n       </defs>\r\n       <use xlink:href=\"#DejaVuSans-50\"/>\r\n       <use x=\"63.623047\" xlink:href=\"#DejaVuSans-48\"/>\r\n       <use x=\"127.246094\" xlink:href=\"#DejaVuSans-48\"/>\r\n       <use x=\"190.869141\" xlink:href=\"#DejaVuSans-56\"/>\r\n      </g>\r\n     </g>\r\n    </g>\r\n    <g id=\"xtick_7\">\r\n     <g id=\"line2d_7\">\r\n      <g>\r\n       <use style=\"stroke:#000000;stroke-width:0.8;\" x=\"260.504496\" xlink:href=\"#m53c0cde8ac\" y=\"224.64\"/>\r\n      </g>\r\n     </g>\r\n     <g id=\"text_6\">\r\n      <!-- 2009 -->\r\n      <g transform=\"translate(247.779496 239.238437)scale(0.1 -0.1)\">\r\n       <defs>\r\n        <path d=\"M 10.984375 1.515625 \r\nL 10.984375 10.5 \r\nQ 14.703125 8.734375 18.5 7.8125 \r\nQ 22.3125 6.890625 25.984375 6.890625 \r\nQ 35.75 6.890625 40.890625 13.453125 \r\nQ 46.046875 20.015625 46.78125 33.40625 \r\nQ 43.953125 29.203125 39.59375 26.953125 \r\nQ 35.25 24.703125 29.984375 24.703125 \r\nQ 19.046875 24.703125 12.671875 31.3125 \r\nQ 6.296875 37.9375 6.296875 49.421875 \r\nQ 6.296875 60.640625 12.9375 67.421875 \r\nQ 19.578125 74.21875 30.609375 74.21875 \r\nQ 43.265625 74.21875 49.921875 64.515625 \r\nQ 56.59375 54.828125 56.59375 36.375 \r\nQ 56.59375 19.140625 48.40625 8.859375 \r\nQ 40.234375 -1.421875 26.421875 -1.421875 \r\nQ 22.703125 -1.421875 18.890625 -0.6875 \r\nQ 15.09375 0.046875 10.984375 1.515625 \r\nz\r\nM 30.609375 32.421875 \r\nQ 37.25 32.421875 41.125 36.953125 \r\nQ 45.015625 41.5 45.015625 49.421875 \r\nQ 45.015625 57.28125 41.125 61.84375 \r\nQ 37.25 66.40625 30.609375 66.40625 \r\nQ 23.96875 66.40625 20.09375 61.84375 \r\nQ 16.21875 57.28125 16.21875 49.421875 \r\nQ 16.21875 41.5 20.09375 36.953125 \r\nQ 23.96875 32.421875 30.609375 32.421875 \r\nz\r\n\" id=\"DejaVuSans-57\"/>\r\n       </defs>\r\n       <use xlink:href=\"#DejaVuSans-50\"/>\r\n       <use x=\"63.623047\" xlink:href=\"#DejaVuSans-48\"/>\r\n       <use x=\"127.246094\" xlink:href=\"#DejaVuSans-48\"/>\r\n       <use x=\"190.869141\" xlink:href=\"#DejaVuSans-57\"/>\r\n      </g>\r\n     </g>\r\n    </g>\r\n    <g id=\"xtick_8\">\r\n     <g id=\"line2d_8\">\r\n      <g>\r\n       <use style=\"stroke:#000000;stroke-width:0.8;\" x=\"298.646268\" xlink:href=\"#m53c0cde8ac\" y=\"224.64\"/>\r\n      </g>\r\n     </g>\r\n     <g id=\"text_7\">\r\n      <!-- 2010 -->\r\n      <g transform=\"translate(285.921268 239.238437)scale(0.1 -0.1)\">\r\n       <defs>\r\n        <path d=\"M 12.40625 8.296875 \r\nL 28.515625 8.296875 \r\nL 28.515625 63.921875 \r\nL 10.984375 60.40625 \r\nL 10.984375 69.390625 \r\nL 28.421875 72.90625 \r\nL 38.28125 72.90625 \r\nL 38.28125 8.296875 \r\nL 54.390625 8.296875 \r\nL 54.390625 0 \r\nL 12.40625 0 \r\nz\r\n\" id=\"DejaVuSans-49\"/>\r\n       </defs>\r\n       <use xlink:href=\"#DejaVuSans-50\"/>\r\n       <use x=\"63.623047\" xlink:href=\"#DejaVuSans-48\"/>\r\n       <use x=\"127.246094\" xlink:href=\"#DejaVuSans-49\"/>\r\n       <use x=\"190.869141\" xlink:href=\"#DejaVuSans-48\"/>\r\n      </g>\r\n     </g>\r\n    </g>\r\n    <g id=\"xtick_9\">\r\n     <g id=\"line2d_9\">\r\n      <g>\r\n       <use style=\"stroke:#000000;stroke-width:0.8;\" x=\"336.78804\" xlink:href=\"#m53c0cde8ac\" y=\"224.64\"/>\r\n      </g>\r\n     </g>\r\n     <g id=\"text_8\">\r\n      <!-- 2011 -->\r\n      <g transform=\"translate(324.06304 239.238437)scale(0.1 -0.1)\">\r\n       <use xlink:href=\"#DejaVuSans-50\"/>\r\n       <use x=\"63.623047\" xlink:href=\"#DejaVuSans-48\"/>\r\n       <use x=\"127.246094\" xlink:href=\"#DejaVuSans-49\"/>\r\n       <use x=\"190.869141\" xlink:href=\"#DejaVuSans-49\"/>\r\n      </g>\r\n     </g>\r\n    </g>\r\n    <g id=\"xtick_10\">\r\n     <g id=\"line2d_10\">\r\n      <g>\r\n       <use style=\"stroke:#000000;stroke-width:0.8;\" x=\"366.6\" xlink:href=\"#m53c0cde8ac\" y=\"224.64\"/>\r\n      </g>\r\n     </g>\r\n    </g>\r\n    <g id=\"xtick_11\">\r\n     <g id=\"line2d_11\">\r\n      <defs>\r\n       <path d=\"M 0 0 \r\nL 0 2 \r\n\" id=\"ma577df392a\" style=\"stroke:#000000;stroke-width:0.6;\"/>\r\n      </defs>\r\n      <g>\r\n       <use style=\"stroke:#000000;stroke-width:0.6;\" x=\"41.006635\" xlink:href=\"#ma577df392a\" y=\"224.64\"/>\r\n      </g>\r\n     </g>\r\n    </g>\r\n    <g id=\"xtick_12\">\r\n     <g id=\"line2d_12\">\r\n      <g>\r\n       <use style=\"stroke:#000000;stroke-width:0.6;\" x=\"50.505543\" xlink:href=\"#ma577df392a\" y=\"224.64\"/>\r\n      </g>\r\n     </g>\r\n    </g>\r\n    <g id=\"xtick_13\">\r\n     <g id=\"line2d_13\">\r\n      <g>\r\n       <use style=\"stroke:#000000;stroke-width:0.6;\" x=\"60.150589\" xlink:href=\"#ma577df392a\" y=\"224.64\"/>\r\n      </g>\r\n     </g>\r\n    </g>\r\n    <g id=\"xtick_14\">\r\n     <g id=\"line2d_14\">\r\n      <g>\r\n       <use style=\"stroke:#000000;stroke-width:0.6;\" x=\"79.294544\" xlink:href=\"#ma577df392a\" y=\"224.64\"/>\r\n      </g>\r\n     </g>\r\n    </g>\r\n    <g id=\"xtick_15\">\r\n     <g id=\"line2d_15\">\r\n      <g>\r\n       <use style=\"stroke:#000000;stroke-width:0.6;\" x=\"88.793453\" xlink:href=\"#ma577df392a\" y=\"224.64\"/>\r\n      </g>\r\n     </g>\r\n    </g>\r\n    <g id=\"xtick_16\">\r\n     <g id=\"line2d_16\">\r\n      <g>\r\n       <use style=\"stroke:#000000;stroke-width:0.6;\" x=\"98.438498\" xlink:href=\"#ma577df392a\" y=\"224.64\"/>\r\n      </g>\r\n     </g>\r\n    </g>\r\n    <g id=\"xtick_17\">\r\n     <g id=\"line2d_17\">\r\n      <g>\r\n       <use style=\"stroke:#000000;stroke-width:0.6;\" x=\"117.436316\" xlink:href=\"#ma577df392a\" y=\"224.64\"/>\r\n      </g>\r\n     </g>\r\n    </g>\r\n    <g id=\"xtick_18\">\r\n     <g id=\"line2d_18\">\r\n      <g>\r\n       <use style=\"stroke:#000000;stroke-width:0.6;\" x=\"126.935225\" xlink:href=\"#ma577df392a\" y=\"224.64\"/>\r\n      </g>\r\n     </g>\r\n    </g>\r\n    <g id=\"xtick_19\">\r\n     <g id=\"line2d_19\">\r\n      <g>\r\n       <use style=\"stroke:#000000;stroke-width:0.6;\" x=\"136.580271\" xlink:href=\"#ma577df392a\" y=\"224.64\"/>\r\n      </g>\r\n     </g>\r\n    </g>\r\n    <g id=\"xtick_20\">\r\n     <g id=\"line2d_20\">\r\n      <g>\r\n       <use style=\"stroke:#000000;stroke-width:0.6;\" x=\"155.578088\" xlink:href=\"#ma577df392a\" y=\"224.64\"/>\r\n      </g>\r\n     </g>\r\n    </g>\r\n    <g id=\"xtick_21\">\r\n     <g id=\"line2d_21\">\r\n      <g>\r\n       <use style=\"stroke:#000000;stroke-width:0.6;\" x=\"165.076997\" xlink:href=\"#ma577df392a\" y=\"224.64\"/>\r\n      </g>\r\n     </g>\r\n    </g>\r\n    <g id=\"xtick_22\">\r\n     <g id=\"line2d_22\">\r\n      <g>\r\n       <use style=\"stroke:#000000;stroke-width:0.6;\" x=\"174.575906\" xlink:href=\"#ma577df392a\" y=\"224.64\"/>\r\n      </g>\r\n     </g>\r\n    </g>\r\n    <g id=\"xtick_23\">\r\n     <g id=\"line2d_23\">\r\n      <g>\r\n       <use style=\"stroke:#000000;stroke-width:0.6;\" x=\"193.573723\" xlink:href=\"#ma577df392a\" y=\"224.64\"/>\r\n      </g>\r\n     </g>\r\n    </g>\r\n    <g id=\"xtick_24\">\r\n     <g id=\"line2d_24\">\r\n      <g>\r\n       <use style=\"stroke:#000000;stroke-width:0.6;\" x=\"203.072632\" xlink:href=\"#ma577df392a\" y=\"224.64\"/>\r\n      </g>\r\n     </g>\r\n    </g>\r\n    <g id=\"xtick_25\">\r\n     <g id=\"line2d_25\">\r\n      <g>\r\n       <use style=\"stroke:#000000;stroke-width:0.6;\" x=\"212.571541\" xlink:href=\"#ma577df392a\" y=\"224.64\"/>\r\n      </g>\r\n     </g>\r\n    </g>\r\n    <g id=\"xtick_26\">\r\n     <g id=\"line2d_26\">\r\n      <g>\r\n       <use style=\"stroke:#000000;stroke-width:0.6;\" x=\"231.715495\" xlink:href=\"#ma577df392a\" y=\"224.64\"/>\r\n      </g>\r\n     </g>\r\n    </g>\r\n    <g id=\"xtick_27\">\r\n     <g id=\"line2d_27\">\r\n      <g>\r\n       <use style=\"stroke:#000000;stroke-width:0.6;\" x=\"241.214404\" xlink:href=\"#ma577df392a\" y=\"224.64\"/>\r\n      </g>\r\n     </g>\r\n    </g>\r\n    <g id=\"xtick_28\">\r\n     <g id=\"line2d_28\">\r\n      <g>\r\n       <use style=\"stroke:#000000;stroke-width:0.6;\" x=\"250.85945\" xlink:href=\"#ma577df392a\" y=\"224.64\"/>\r\n      </g>\r\n     </g>\r\n    </g>\r\n    <g id=\"xtick_29\">\r\n     <g id=\"line2d_29\">\r\n      <g>\r\n       <use style=\"stroke:#000000;stroke-width:0.6;\" x=\"269.857268\" xlink:href=\"#ma577df392a\" y=\"224.64\"/>\r\n      </g>\r\n     </g>\r\n    </g>\r\n    <g id=\"xtick_30\">\r\n     <g id=\"line2d_30\">\r\n      <g>\r\n       <use style=\"stroke:#000000;stroke-width:0.6;\" x=\"279.356176\" xlink:href=\"#ma577df392a\" y=\"224.64\"/>\r\n      </g>\r\n     </g>\r\n    </g>\r\n    <g id=\"xtick_31\">\r\n     <g id=\"line2d_31\">\r\n      <g>\r\n       <use style=\"stroke:#000000;stroke-width:0.6;\" x=\"289.001222\" xlink:href=\"#ma577df392a\" y=\"224.64\"/>\r\n      </g>\r\n     </g>\r\n    </g>\r\n    <g id=\"xtick_32\">\r\n     <g id=\"line2d_32\">\r\n      <g>\r\n       <use style=\"stroke:#000000;stroke-width:0.6;\" x=\"307.99904\" xlink:href=\"#ma577df392a\" y=\"224.64\"/>\r\n      </g>\r\n     </g>\r\n    </g>\r\n    <g id=\"xtick_33\">\r\n     <g id=\"line2d_33\">\r\n      <g>\r\n       <use style=\"stroke:#000000;stroke-width:0.6;\" x=\"317.497948\" xlink:href=\"#ma577df392a\" y=\"224.64\"/>\r\n      </g>\r\n     </g>\r\n    </g>\r\n    <g id=\"xtick_34\">\r\n     <g id=\"line2d_34\">\r\n      <g>\r\n       <use style=\"stroke:#000000;stroke-width:0.6;\" x=\"327.142994\" xlink:href=\"#ma577df392a\" y=\"224.64\"/>\r\n      </g>\r\n     </g>\r\n    </g>\r\n    <g id=\"xtick_35\">\r\n     <g id=\"line2d_35\">\r\n      <g>\r\n       <use style=\"stroke:#000000;stroke-width:0.6;\" x=\"346.140812\" xlink:href=\"#ma577df392a\" y=\"224.64\"/>\r\n      </g>\r\n     </g>\r\n    </g>\r\n    <g id=\"xtick_36\">\r\n     <g id=\"line2d_36\">\r\n      <g>\r\n       <use style=\"stroke:#000000;stroke-width:0.6;\" x=\"355.639721\" xlink:href=\"#ma577df392a\" y=\"224.64\"/>\r\n      </g>\r\n     </g>\r\n    </g>\r\n    <g id=\"xtick_37\">\r\n     <g id=\"line2d_37\">\r\n      <g>\r\n       <use style=\"stroke:#000000;stroke-width:0.6;\" x=\"365.284766\" xlink:href=\"#ma577df392a\" y=\"224.64\"/>\r\n      </g>\r\n     </g>\r\n    </g>\r\n   </g>\r\n   <g id=\"matplotlib.axis_2\">\r\n    <g id=\"ytick_1\">\r\n     <g id=\"line2d_38\">\r\n      <defs>\r\n       <path d=\"M 0 0 \r\nL -3.5 0 \r\n\" id=\"m0a0842604a\" style=\"stroke:#000000;stroke-width:0.8;\"/>\r\n      </defs>\r\n      <g>\r\n       <use style=\"stroke:#000000;stroke-width:0.8;\" x=\"31.8\" xlink:href=\"#m0a0842604a\" y=\"198.238707\"/>\r\n      </g>\r\n     </g>\r\n     <g id=\"text_9\">\r\n      <!-- $\\mathdefault{10^{1}}$ -->\r\n      <g transform=\"translate(7.2 202.037925)scale(0.1 -0.1)\">\r\n       <use transform=\"translate(0 0.684375)\" xlink:href=\"#DejaVuSans-49\"/>\r\n       <use transform=\"translate(63.623047 0.684375)\" xlink:href=\"#DejaVuSans-48\"/>\r\n       <use transform=\"translate(128.203125 38.965625)scale(0.7)\" xlink:href=\"#DejaVuSans-49\"/>\r\n      </g>\r\n     </g>\r\n    </g>\r\n    <g id=\"ytick_2\">\r\n     <g id=\"line2d_39\">\r\n      <g>\r\n       <use style=\"stroke:#000000;stroke-width:0.8;\" x=\"31.8\" xlink:href=\"#m0a0842604a\" y=\"84.05017\"/>\r\n      </g>\r\n     </g>\r\n     <g id=\"text_10\">\r\n      <!-- $\\mathdefault{10^{2}}$ -->\r\n      <g transform=\"translate(7.2 87.849389)scale(0.1 -0.1)\">\r\n       <use transform=\"translate(0 0.765625)\" xlink:href=\"#DejaVuSans-49\"/>\r\n       <use transform=\"translate(63.623047 0.765625)\" xlink:href=\"#DejaVuSans-48\"/>\r\n       <use transform=\"translate(128.203125 39.046875)scale(0.7)\" xlink:href=\"#DejaVuSans-50\"/>\r\n      </g>\r\n     </g>\r\n    </g>\r\n    <g id=\"ytick_3\">\r\n     <g id=\"line2d_40\">\r\n      <defs>\r\n       <path d=\"M 0 0 \r\nL -2 0 \r\n\" id=\"m4f4a258b3a\" style=\"stroke:#000000;stroke-width:0.6;\"/>\r\n      </defs>\r\n      <g>\r\n       <use style=\"stroke:#000000;stroke-width:0.6;\" x=\"31.8\" xlink:href=\"#m4f4a258b3a\" y=\"223.571291\"/>\r\n      </g>\r\n     </g>\r\n    </g>\r\n    <g id=\"ytick_4\">\r\n     <g id=\"line2d_41\">\r\n      <g>\r\n       <use style=\"stroke:#000000;stroke-width:0.6;\" x=\"31.8\" xlink:href=\"#m4f4a258b3a\" y=\"215.926735\"/>\r\n      </g>\r\n     </g>\r\n    </g>\r\n    <g id=\"ytick_5\">\r\n     <g id=\"line2d_42\">\r\n      <g>\r\n       <use style=\"stroke:#000000;stroke-width:0.6;\" x=\"31.8\" xlink:href=\"#m4f4a258b3a\" y=\"209.304719\"/>\r\n      </g>\r\n     </g>\r\n    </g>\r\n    <g id=\"ytick_6\">\r\n     <g id=\"line2d_43\">\r\n      <g>\r\n       <use style=\"stroke:#000000;stroke-width:0.6;\" x=\"31.8\" xlink:href=\"#m4f4a258b3a\" y=\"203.463688\"/>\r\n      </g>\r\n     </g>\r\n    </g>\r\n    <g id=\"ytick_7\">\r\n     <g id=\"line2d_44\">\r\n      <g>\r\n       <use style=\"stroke:#000000;stroke-width:0.6;\" x=\"31.8\" xlink:href=\"#m4f4a258b3a\" y=\"163.864532\"/>\r\n      </g>\r\n     </g>\r\n    </g>\r\n    <g id=\"ytick_8\">\r\n     <g id=\"line2d_45\">\r\n      <g>\r\n       <use style=\"stroke:#000000;stroke-width:0.6;\" x=\"31.8\" xlink:href=\"#m4f4a258b3a\" y=\"143.756929\"/>\r\n      </g>\r\n     </g>\r\n    </g>\r\n    <g id=\"ytick_9\">\r\n     <g id=\"line2d_46\">\r\n      <g>\r\n       <use style=\"stroke:#000000;stroke-width:0.6;\" x=\"31.8\" xlink:href=\"#m4f4a258b3a\" y=\"129.490357\"/>\r\n      </g>\r\n     </g>\r\n    </g>\r\n    <g id=\"ytick_10\">\r\n     <g id=\"line2d_47\">\r\n      <g>\r\n       <use style=\"stroke:#000000;stroke-width:0.6;\" x=\"31.8\" xlink:href=\"#m4f4a258b3a\" y=\"118.424345\"/>\r\n      </g>\r\n     </g>\r\n    </g>\r\n    <g id=\"ytick_11\">\r\n     <g id=\"line2d_48\">\r\n      <g>\r\n       <use style=\"stroke:#000000;stroke-width:0.6;\" x=\"31.8\" xlink:href=\"#m4f4a258b3a\" y=\"109.382754\"/>\r\n      </g>\r\n     </g>\r\n    </g>\r\n    <g id=\"ytick_12\">\r\n     <g id=\"line2d_49\">\r\n      <g>\r\n       <use style=\"stroke:#000000;stroke-width:0.6;\" x=\"31.8\" xlink:href=\"#m4f4a258b3a\" y=\"101.738198\"/>\r\n      </g>\r\n     </g>\r\n    </g>\r\n    <g id=\"ytick_13\">\r\n     <g id=\"line2d_50\">\r\n      <g>\r\n       <use style=\"stroke:#000000;stroke-width:0.6;\" x=\"31.8\" xlink:href=\"#m4f4a258b3a\" y=\"95.116183\"/>\r\n      </g>\r\n     </g>\r\n    </g>\r\n    <g id=\"ytick_14\">\r\n     <g id=\"line2d_51\">\r\n      <g>\r\n       <use style=\"stroke:#000000;stroke-width:0.6;\" x=\"31.8\" xlink:href=\"#m4f4a258b3a\" y=\"89.275151\"/>\r\n      </g>\r\n     </g>\r\n    </g>\r\n    <g id=\"ytick_15\">\r\n     <g id=\"line2d_52\">\r\n      <g>\r\n       <use style=\"stroke:#000000;stroke-width:0.6;\" x=\"31.8\" xlink:href=\"#m4f4a258b3a\" y=\"49.675995\"/>\r\n      </g>\r\n     </g>\r\n    </g>\r\n    <g id=\"ytick_16\">\r\n     <g id=\"line2d_53\">\r\n      <g>\r\n       <use style=\"stroke:#000000;stroke-width:0.6;\" x=\"31.8\" xlink:href=\"#m4f4a258b3a\" y=\"29.568392\"/>\r\n      </g>\r\n     </g>\r\n    </g>\r\n    <g id=\"ytick_17\">\r\n     <g id=\"line2d_54\">\r\n      <g>\r\n       <use style=\"stroke:#000000;stroke-width:0.6;\" x=\"31.8\" xlink:href=\"#m4f4a258b3a\" y=\"15.30182\"/>\r\n      </g>\r\n     </g>\r\n    </g>\r\n   </g>\r\n   <g id=\"line2d_55\">\r\n    <path clip-path=\"url(#p0e46f587e7)\" d=\"M 40.422086 213.909115 \r\nL 42.614142 214.25838 \r\nL 44.075513 214.751751 \r\nL 44.367787 214.739069 \r\nL 44.660061 214.458578 \r\nL 46.852117 211.499474 \r\nL 47.875076 210.266556 \r\nL 49.044173 209.1366 \r\nL 51.382366 205.07656 \r\nL 53.428285 201.035367 \r\nL 54.305107 200.44599 \r\nL 55.328066 199.975542 \r\nL 56.058752 199.434949 \r\nL 56.6433 198.779714 \r\nL 57.812396 197.085983 \r\nL 59.858315 195.48571 \r\nL 60.442863 195.327239 \r\nL 61.173549 194.76306 \r\nL 61.904234 194.171712 \r\nL 63.219467 193.305935 \r\nL 64.242427 192.5522 \r\nL 64.973112 192.401349 \r\nL 65.411523 192.530832 \r\nL 66.434483 193.011246 \r\nL 67.165168 193.264797 \r\nL 68.480402 193.793954 \r\nL 69.06495 193.904404 \r\nL 69.649498 194.120721 \r\nL 70.52632 194.548533 \r\nL 72.133828 194.551602 \r\nL 73.595199 194.513251 \r\nL 74.03361 194.225804 \r\nL 74.764295 193.735047 \r\nL 76.079529 193.075257 \r\nL 76.51794 192.580213 \r\nL 77.102488 191.569292 \r\nL 77.687036 190.628877 \r\nL 79.294544 188.743234 \r\nL 82.94797 185.062652 \r\nL 85.578437 183.077686 \r\nL 86.162986 182.863239 \r\nL 87.332082 181.626412 \r\nL 88.647316 180.21583 \r\nL 89.378001 179.670031 \r\nL 90.108686 179.50434 \r\nL 92.593016 177.167974 \r\nL 95.223483 175.273704 \r\nL 96.246443 174.525143 \r\nL 97.561676 173.663686 \r\nL 98.292361 172.749166 \r\nL 99.899869 170.289989 \r\nL 101.653514 165.458623 \r\nL 103.114884 160.614406 \r\nL 104.137844 157.356501 \r\nL 105.891488 151.385003 \r\nL 107.352859 147.322054 \r\nL 108.81423 143.908414 \r\nL 109.398778 142.818124 \r\nL 110.2756 141.227535 \r\nL 111.444697 139.097277 \r\nL 114.221301 133.748155 \r\nL 115.098123 132.603272 \r\nL 115.828808 131.61432 \r\nL 117.290179 129.397048 \r\nL 117.874727 128.739593 \r\nL 118.605412 127.98118 \r\nL 119.189961 127.912277 \r\nL 120.066783 128.095561 \r\nL 121.382017 128.808025 \r\nL 122.404976 130.008391 \r\nL 122.989524 130.452615 \r\nL 124.304758 130.747388 \r\nL 124.743169 131.087863 \r\nL 125.327717 131.614967 \r\nL 126.789088 132.582815 \r\nL 127.227499 132.965641 \r\nL 127.519773 133.038389 \r\nL 128.542732 132.519516 \r\nL 132.488433 128.532226 \r\nL 132.926844 128.099579 \r\nL 134.242078 126.159212 \r\nL 137.310956 120.788111 \r\nL 138.480052 119.48817 \r\nL 140.964382 115.570586 \r\nL 141.987342 113.547874 \r\nL 145.05622 107.269016 \r\nL 146.809865 103.997233 \r\nL 148.125098 101.07226 \r\nL 148.709646 100.339671 \r\nL 149.148058 99.868289 \r\nL 149.586469 99.454539 \r\nL 150.171017 99.280516 \r\nL 151.193976 99.159646 \r\nL 152.070799 99.1925 \r\nL 152.801484 99.575679 \r\nL 153.970581 100.243454 \r\nL 154.701266 100.899675 \r\nL 155.578088 101.83334 \r\nL 156.308773 102.814836 \r\nL 157.039459 103.63671 \r\nL 157.770144 104.096565 \r\nL 158.208555 104.336749 \r\nL 158.500829 104.326298 \r\nL 159.669926 103.995997 \r\nL 160.254474 104.184808 \r\nL 160.985159 104.611246 \r\nL 161.861982 104.913952 \r\nL 162.154256 105.004797 \r\nL 162.884941 105.400224 \r\nL 164.638586 105.967763 \r\nL 167.561327 108.965467 \r\nL 168.145875 109.264289 \r\nL 168.584286 109.269787 \r\nL 169.607246 109.249999 \r\nL 170.922479 108.582422 \r\nL 171.653165 108.006042 \r\nL 173.114535 106.09381 \r\nL 174.283632 104.257677 \r\nL 175.745002 101.768553 \r\nL 179.982977 96.733965 \r\nL 181.152073 95.000707 \r\nL 181.882759 94.221835 \r\nL 183.051855 93.342433 \r\nL 183.928677 92.917703 \r\nL 184.951637 92.127517 \r\nL 185.390048 91.605487 \r\nL 186.120733 91.055565 \r\nL 187.435967 90.592808 \r\nL 188.312789 90.58847 \r\nL 188.897337 90.735798 \r\nL 189.628023 90.945929 \r\nL 191.381667 91.115859 \r\nL 191.820079 90.982606 \r\nL 192.404627 90.616674 \r\nL 193.135312 90.120596 \r\nL 193.71986 89.877752 \r\nL 194.596683 89.970518 \r\nL 195.765779 89.645343 \r\nL 196.20419 89.355573 \r\nL 197.519424 87.964849 \r\nL 199.565343 85.031393 \r\nL 201.757399 81.342621 \r\nL 203.65718 78.299808 \r\nL 206.433784 73.014252 \r\nL 207.456744 72.025654 \r\nL 209.794937 70.818636 \r\nL 210.379485 70.450292 \r\nL 211.11017 69.998049 \r\nL 213.156089 68.002353 \r\nL 215.055871 65.558171 \r\nL 215.932693 63.780502 \r\nL 216.809515 61.856769 \r\nL 218.56316 59.736929 \r\nL 219.732257 57.817779 \r\nL 220.462942 56.608954 \r\nL 222.508861 54.309965 \r\nL 223.093409 54.165976 \r\nL 223.677957 54.192722 \r\nL 224.55478 55.002743 \r\nL 225.870013 56.948458 \r\nL 227.623658 59.669142 \r\nL 229.231165 63.428716 \r\nL 231.569358 68.806055 \r\nL 232.738455 69.746543 \r\nL 233.176866 69.964192 \r\nL 233.615277 69.564208 \r\nL 235.076648 67.040376 \r\nL 236.538018 63.548562 \r\nL 238.145526 60.006917 \r\nL 239.314622 57.833414 \r\nL 240.337582 56.615418 \r\nL 241.360541 55.966528 \r\nL 241.798952 55.658176 \r\nL 242.237364 55.314997 \r\nL 242.968049 55.132483 \r\nL 243.552597 55.276858 \r\nL 244.429419 55.968827 \r\nL 245.452379 56.760416 \r\nL 245.89079 56.788026 \r\nL 246.621475 57.015977 \r\nL 248.228983 57.735982 \r\nL 248.667394 58.105943 \r\nL 249.398079 58.947279 \r\nL 250.421039 60.296299 \r\nL 251.590135 63.424735 \r\nL 252.174684 64.893421 \r\nL 253.782191 68.851174 \r\nL 254.366739 70.375959 \r\nL 255.535836 74.577224 \r\nL 257.435618 81.751888 \r\nL 258.020166 83.328355 \r\nL 258.458577 84.243789 \r\nL 259.627674 86.439776 \r\nL 260.066085 86.76915 \r\nL 260.650633 86.915612 \r\nL 261.089044 87.211424 \r\nL 262.258141 87.919166 \r\nL 263.2811 89.113141 \r\nL 263.865648 89.299953 \r\nL 264.304059 89.181291 \r\nL 265.180882 88.50406 \r\nL 265.619293 88.515455 \r\nL 266.496115 88.672344 \r\nL 267.519075 89.293889 \r\nL 268.103623 89.055141 \r\nL 268.688171 88.490409 \r\nL 269.564993 87.479952 \r\nL 270.003405 87.040906 \r\nL 270.73409 85.744053 \r\nL 271.903186 83.404659 \r\nL 273.21842 81.205229 \r\nL 274.095242 79.738972 \r\nL 274.533653 79.071775 \r\nL 277.894806 72.511791 \r\nL 280.086862 70.114857 \r\nL 280.67141 69.66534 \r\nL 282.278918 67.78247 \r\nL 283.15574 66.417186 \r\nL 284.324836 64.626499 \r\nL 285.64007 63.207042 \r\nL 286.224618 62.627096 \r\nL 287.539852 60.81702 \r\nL 290.462593 56.598927 \r\nL 291.047141 55.931213 \r\nL 291.777826 55.103105 \r\nL 292.508512 54.500767 \r\nL 293.09306 53.894047 \r\nL 294.846704 51.962929 \r\nL 295.723527 51.300524 \r\nL 296.892623 50.877106 \r\nL 297.623309 50.60304 \r\nL 298.500131 50.017656 \r\nL 299.815364 49.330064 \r\nL 300.54605 49.138905 \r\nL 301.569009 48.845553 \r\nL 303.907202 49.17252 \r\nL 304.49175 49.085298 \r\nL 305.806984 48.261113 \r\nL 306.391532 47.84958 \r\nL 307.852903 47.14198 \r\nL 308.875862 46.339942 \r\nL 310.044959 45.110407 \r\nL 311.798603 42.289418 \r\nL 313.259974 40.526214 \r\nL 315.013619 39.092967 \r\nL 315.598167 38.741243 \r\nL 316.328852 38.097778 \r\nL 317.059537 37.552574 \r\nL 317.644086 37.419287 \r\nL 319.105456 37.354099 \r\nL 319.543867 37.487825 \r\nL 320.128416 37.528049 \r\nL 322.320471 37.183583 \r\nL 322.758883 37.189205 \r\nL 324.36639 37.467402 \r\nL 325.827761 37.480876 \r\nL 326.412309 36.999631 \r\nL 326.996857 36.563698 \r\nL 327.581405 36.191226 \r\nL 328.458228 35.355832 \r\nL 329.773461 33.987544 \r\nL 330.650284 33.074669 \r\nL 332.550065 30.641197 \r\nL 333.573025 29.518495 \r\nL 334.595984 28.605208 \r\nL 337.226451 26.92963 \r\nL 337.957137 26.544429 \r\nL 338.833959 26.035267 \r\nL 339.856918 25.550382 \r\nL 340.441467 25.205066 \r\nL 341.7567 24.127218 \r\nL 344.24103 22.840584 \r\nL 345.117852 22.679169 \r\nL 346.286949 22.374587 \r\nL 350.524924 22.646619 \r\nL 351.109472 22.706151 \r\nL 354.470624 23.513221 \r\nL 355.055172 23.685819 \r\nL 355.785858 23.659839 \r\nL 357.539502 23.055553 \r\nL 360.754518 21.001378 \r\nL 361.485203 20.67048 \r\nL 363.677259 18.740305 \r\nL 364.554081 17.812284 \r\nL 365.138629 17.48718 \r\nL 366.6 17.083636 \r\nL 366.6 17.083636 \r\n\" style=\"fill:none;stroke:#1f77b4;stroke-linecap:square;stroke-width:1.5;\"/>\r\n   </g>\r\n   <g id=\"line2d_56\">\r\n    <path clip-path=\"url(#p0e46f587e7)\" d=\"M 40.422086 164.666511 \r\nL 41.298909 165.126013 \r\nL 42.468005 165.742377 \r\nL 43.052553 165.732077 \r\nL 44.367787 165.186669 \r\nL 45.829158 164.527267 \r\nL 47.436665 164.202073 \r\nL 47.875076 164.104805 \r\nL 49.19031 164.3667 \r\nL 51.090092 163.846352 \r\nL 51.67464 163.557604 \r\nL 52.405325 163.28768 \r\nL 55.181929 162.998502 \r\nL 56.497163 162.512747 \r\nL 57.373985 161.961261 \r\nL 57.958533 161.615277 \r\nL 58.543082 161.318385 \r\nL 59.712178 160.604731 \r\nL 61.465823 159.993233 \r\nL 62.781056 159.355966 \r\nL 63.511742 159.195476 \r\nL 64.826975 159.164643 \r\nL 66.142209 159.57645 \r\nL 68.188127 160.519284 \r\nL 69.211087 160.754715 \r\nL 70.234046 160.99439 \r\nL 71.695417 161.194093 \r\nL 75.641117 159.985589 \r\nL 76.51794 159.977565 \r\nL 77.248625 160.226943 \r\nL 78.417722 160.837459 \r\nL 80.609777 161.962056 \r\nL 81.632737 162.48983 \r\nL 82.801833 162.623462 \r\nL 85.286163 162.996065 \r\nL 86.309123 162.81528 \r\nL 86.893671 162.566665 \r\nL 88.93959 161.247771 \r\nL 90.108686 160.613245 \r\nL 90.547097 160.533966 \r\nL 91.131646 160.295348 \r\nL 93.031427 159.48935 \r\nL 95.808031 158.916049 \r\nL 96.538717 159.004021 \r\nL 98.438498 159.317115 \r\nL 100.484417 159.291859 \r\nL 101.215103 159.317115 \r\nL 102.091925 159.071884 \r\nL 103.261021 158.414052 \r\nL 107.498996 156.208642 \r\nL 110.567874 155.443603 \r\nL 111.590834 155.500477 \r\nL 114.805849 156.447911 \r\nL 116.121082 157.047222 \r\nL 117.72859 157.944217 \r\nL 118.313138 158.116894 \r\nL 120.066783 158.568315 \r\nL 120.797468 158.734237 \r\nL 122.112702 158.886884 \r\nL 125.035443 158.395913 \r\nL 126.642951 158.053264 \r\nL 127.958184 158.008809 \r\nL 129.273418 157.696907 \r\nL 130.15024 157.540598 \r\nL 131.173199 157.104524 \r\nL 136.434134 155.690414 \r\nL 137.018682 155.763715 \r\nL 139.356875 156.445065 \r\nL 140.08756 156.575829 \r\nL 141.110519 156.50595 \r\nL 144.179398 155.726174 \r\nL 147.248276 154.52457 \r\nL 148.125098 154.167451 \r\nL 149.878743 153.978846 \r\nL 151.632388 154.390904 \r\nL 152.50921 154.53039 \r\nL 153.386032 154.507799 \r\nL 154.555129 154.28859 \r\nL 155.870362 154.136193 \r\nL 157.770144 154.012376 \r\nL 158.500829 154.263044 \r\nL 160.108337 155.349885 \r\nL 162.592667 157.567525 \r\nL 164.054038 159.205257 \r\nL 165.369271 160.470634 \r\nL 166.39223 161.46149 \r\nL 166.976779 162.058395 \r\nL 167.707464 161.995873 \r\nL 168.87656 161.753698 \r\nL 170.484068 160.99088 \r\nL 171.507027 160.115314 \r\nL 172.529987 159.215791 \r\nL 173.114535 158.705924 \r\nL 175.891139 155.943743 \r\nL 178.375469 153.633354 \r\nL 179.982977 152.347312 \r\nL 181.29821 151.332656 \r\nL 183.197992 150.267293 \r\nL 184.951637 149.567595 \r\nL 185.390048 149.381471 \r\nL 186.851419 148.687684 \r\nL 187.874378 148.453918 \r\nL 188.605063 148.512711 \r\nL 190.650982 148.763211 \r\nL 191.381667 149.073524 \r\nL 192.112353 149.417899 \r\nL 196.20419 150.969037 \r\nL 196.788739 150.887852 \r\nL 199.273069 149.904201 \r\nL 202.049673 148.39822 \r\nL 204.095591 147.850036 \r\nL 205.703099 147.504753 \r\nL 207.310607 147.933287 \r\nL 209.356526 148.774489 \r\nL 212.13313 149.33212 \r\nL 214.61746 149.411723 \r\nL 215.202008 149.188972 \r\nL 216.224967 147.827002 \r\nL 216.809515 147.063985 \r\nL 218.124749 145.665257 \r\nL 219.147708 144.775119 \r\nL 219.732257 144.250887 \r\nL 222.654998 141.259485 \r\nL 223.53182 140.719878 \r\nL 223.970231 140.564636 \r\nL 224.55478 140.841564 \r\nL 226.308424 142.022704 \r\nL 229.085028 144.82858 \r\nL 231.569358 147.915607 \r\nL 232.153907 148.439685 \r\nL 233.176866 149.325647 \r\nL 234.053688 149.743539 \r\nL 234.930511 149.774945 \r\nL 236.245744 149.464553 \r\nL 236.830292 149.26188 \r\nL 237.707115 149.149026 \r\nL 238.145526 149.113409 \r\nL 238.730074 149.211418 \r\nL 241.214404 149.544678 \r\nL 242.529638 150.398785 \r\nL 243.844871 151.311475 \r\nL 245.452379 152.356487 \r\nL 247.498298 152.523883 \r\nL 248.082846 152.612076 \r\nL 248.667394 152.936244 \r\nL 250.421039 153.376474 \r\nL 250.713313 153.37547 \r\nL 251.297861 153.273225 \r\nL 251.736272 153.650168 \r\nL 252.028546 153.785222 \r\nL 252.905369 154.159635 \r\nL 253.636054 154.742421 \r\nL 254.366739 155.514444 \r\nL 255.389699 156.974878 \r\nL 258.020166 161.487482 \r\nL 258.458577 162.048434 \r\nL 259.773811 164.322468 \r\nL 260.212222 164.974485 \r\nL 262.988826 167.688779 \r\nL 263.427237 168.226461 \r\nL 263.865648 168.65793 \r\nL 264.450196 168.812941 \r\nL 264.742471 168.808375 \r\nL 265.034745 168.76 \r\nL 266.057704 169.333939 \r\nL 266.642252 169.949159 \r\nL 267.519075 171.029346 \r\nL 268.688171 171.843925 \r\nL 269.272719 172.013134 \r\nL 270.003405 172.381748 \r\nL 270.73409 172.445088 \r\nL 271.318638 172.414144 \r\nL 271.757049 172.137003 \r\nL 272.341598 171.783771 \r\nL 272.780009 171.509639 \r\nL 273.510694 171.292667 \r\nL 274.095242 171.165141 \r\nL 274.533653 170.894874 \r\nL 275.70275 169.549905 \r\nL 279.210039 164.153 \r\nL 279.794588 163.510394 \r\nL 280.67141 162.648054 \r\nL 281.694369 161.360016 \r\nL 282.571192 160.501517 \r\nL 283.301877 159.777743 \r\nL 284.61711 158.683583 \r\nL 285.64007 157.917085 \r\nL 286.516892 157.597016 \r\nL 287.685989 157.139875 \r\nL 288.416674 156.777101 \r\nL 289.58577 156.114529 \r\nL 290.754867 155.630521 \r\nL 291.485552 155.015482 \r\nL 296.600349 149.43983 \r\nL 297.769446 148.292444 \r\nL 299.084679 146.844475 \r\nL 300.54605 145.868672 \r\nL 301.569009 145.613461 \r\nL 302.445832 145.773029 \r\nL 303.614928 146.123469 \r\nL 304.49175 146.282081 \r\nL 306.099258 146.581872 \r\nL 308.583588 147.101696 \r\nL 309.314273 147.153006 \r\nL 310.044959 146.911371 \r\nL 312.090877 146.079853 \r\nL 312.9677 146.034545 \r\nL 313.552248 146.257445 \r\nL 316.767263 148.413349 \r\nL 317.351811 149.04593 \r\nL 319.690004 152.024029 \r\nL 320.42069 152.64799 \r\nL 321.151375 153.118921 \r\nL 322.174334 153.774769 \r\nL 323.635705 154.289953 \r\nL 325.38935 154.834307 \r\nL 325.973898 154.683661 \r\nL 326.85072 154.428472 \r\nL 327.581405 154.49035 \r\nL 328.458228 154.56224 \r\nL 330.211873 154.540319 \r\nL 332.257791 153.522524 \r\nL 332.988477 153.248865 \r\nL 333.573025 152.990645 \r\nL 334.157573 152.683271 \r\nL 334.888258 152.291322 \r\nL 337.518725 150.287089 \r\nL 338.833959 149.519915 \r\nL 342.487385 148.399128 \r\nL 343.218071 148.506344 \r\nL 344.094893 148.840683 \r\nL 348.040594 150.994853 \r\nL 348.625142 151.274271 \r\nL 350.524924 151.949549 \r\nL 351.547883 152.401398 \r\nL 352.424705 152.627559 \r\nL 355.493584 153.22685 \r\nL 356.224269 153.118588 \r\nL 357.539502 152.720887 \r\nL 357.977914 152.564998 \r\nL 358.708599 152.262206 \r\nL 359.585421 152.075809 \r\nL 360.023832 152.056914 \r\nL 360.754518 151.943374 \r\nL 361.339066 151.931352 \r\nL 362.069751 151.575267 \r\nL 363.969533 150.743638 \r\nL 364.407944 150.776954 \r\nL 365.138629 150.910761 \r\nL 365.577041 151.023235 \r\nL 366.6 151.021321 \r\nL 366.6 151.021321 \r\n\" style=\"fill:none;stroke:#ff7f0e;stroke-linecap:square;stroke-width:1.5;\"/>\r\n   </g>\r\n   <g id=\"line2d_57\">\r\n    <path clip-path=\"url(#p0e46f587e7)\" d=\"M 40.422086 146.438583 \r\nL 41.73732 146.39992 \r\nL 42.614142 146.336612 \r\nL 47.582802 144.739978 \r\nL 48.605762 144.259236 \r\nL 50.213269 143.803512 \r\nL 53.282148 143.376264 \r\nL 57.958533 142.927733 \r\nL 59.858315 142.636247 \r\nL 60.589 142.395493 \r\nL 62.634919 141.442157 \r\nL 63.365605 141.261581 \r\nL 64.242427 141.342077 \r\nL 65.411523 141.51057 \r\nL 66.726757 141.843186 \r\nL 67.457442 141.83974 \r\nL 68.334265 141.612047 \r\nL 70.672457 140.624605 \r\nL 71.841554 140.088498 \r\nL 77.102488 136.124182 \r\nL 78.271584 135.803743 \r\nL 79.148407 135.797172 \r\nL 80.025229 135.596948 \r\nL 82.363422 134.79323 \r\nL 83.094107 134.583728 \r\nL 84.263204 134.457491 \r\nL 85.578437 134.24235 \r\nL 86.893671 133.86402 \r\nL 89.378001 132.799475 \r\nL 90.839371 132.344767 \r\nL 93.323701 131.457558 \r\nL 94.492798 131.195103 \r\nL 95.661894 130.800612 \r\nL 99.753732 128.973384 \r\nL 100.922828 128.525133 \r\nL 101.945788 128.052788 \r\nL 104.430118 126.564862 \r\nL 105.30694 126.225333 \r\nL 107.937407 125.474596 \r\nL 109.106504 125.30168 \r\nL 111.29856 124.694333 \r\nL 112.467656 123.938902 \r\nL 113.344478 123.241055 \r\nL 113.78289 122.720614 \r\nL 115.098123 120.992943 \r\nL 116.26722 119.757603 \r\nL 119.189961 117.151122 \r\nL 120.651331 116.474247 \r\nL 121.528154 116.401827 \r\nL 122.112702 116.656557 \r\nL 122.843387 117.153377 \r\nL 123.866347 117.695281 \r\nL 125.18158 118.059868 \r\nL 126.350677 117.992471 \r\nL 127.958184 117.98608 \r\nL 128.396595 117.963638 \r\nL 128.981144 117.943497 \r\nL 130.880925 117.365707 \r\nL 131.757748 116.894807 \r\nL 134.826626 116.177459 \r\nL 136.726408 115.232465 \r\nL 138.918464 115.433753 \r\nL 141.402794 115.925644 \r\nL 142.718027 116.007761 \r\nL 143.594849 116.229305 \r\nL 144.910083 116.941953 \r\nL 145.494631 117.268391 \r\nL 146.517591 117.40974 \r\nL 147.102139 117.278404 \r\nL 150.317154 115.903015 \r\nL 152.216936 115.69966 \r\nL 154.116718 115.27697 \r\nL 155.285814 114.793284 \r\nL 158.793103 114.110041 \r\nL 160.400611 113.703485 \r\nL 161.861982 113.552519 \r\nL 162.300393 113.507139 \r\nL 164.054038 113.922345 \r\nL 164.784723 114.007257 \r\nL 166.830642 113.845265 \r\nL 168.145875 113.498906 \r\nL 168.87656 113.09256 \r\nL 172.676124 110.064898 \r\nL 173.552946 109.644349 \r\nL 176.767962 108.687991 \r\nL 178.375469 108.32595 \r\nL 179.398429 107.888411 \r\nL 180.421388 107.533733 \r\nL 180.859799 107.241038 \r\nL 182.32117 105.842164 \r\nL 183.051855 105.241954 \r\nL 184.951637 104.076881 \r\nL 189.628023 103.414051 \r\nL 190.358708 103.616962 \r\nL 192.696901 104.444869 \r\nL 193.281449 104.39788 \r\nL 193.865997 104.197959 \r\nL 195.035094 103.72549 \r\nL 196.934876 103.004282 \r\nL 198.542383 102.248656 \r\nL 199.126931 101.784387 \r\nL 200.880576 100.140564 \r\nL 202.341947 99.169287 \r\nL 203.218769 98.740182 \r\nL 204.826277 97.634993 \r\nL 205.849236 96.88395 \r\nL 207.018333 96.550496 \r\nL 207.895155 96.532845 \r\nL 209.794937 96.303006 \r\nL 210.379485 96.242515 \r\nL 210.817896 96.133986 \r\nL 211.986993 95.514405 \r\nL 213.009952 95.126515 \r\nL 214.325186 94.937768 \r\nL 216.663378 93.95498 \r\nL 218.270886 93.744696 \r\nL 219.293845 93.635877 \r\nL 220.462942 93.531998 \r\nL 221.485901 93.528796 \r\nL 222.508861 93.364469 \r\nL 223.677957 93.526295 \r\nL 226.01615 94.193431 \r\nL 227.769795 94.333576 \r\nL 228.646617 94.398909 \r\nL 229.231165 94.621197 \r\nL 231.861632 95.724605 \r\nL 232.446181 95.770333 \r\nL 233.176866 95.509511 \r\nL 235.076648 94.412251 \r\nL 235.95347 94.152377 \r\nL 237.560978 93.725706 \r\nL 239.899171 93.290026 \r\nL 241.945089 93.388709 \r\nL 242.968049 94.022444 \r\nL 244.137145 94.709346 \r\nL 244.575557 94.920682 \r\nL 245.89079 96.136728 \r\nL 246.767612 96.788219 \r\nL 248.959668 98.18973 \r\nL 249.544216 98.643022 \r\nL 250.421039 99.148774 \r\nL 250.85945 99.416215 \r\nL 252.174684 100.284258 \r\nL 252.613095 100.738565 \r\nL 252.905369 100.892362 \r\nL 253.197643 101.206416 \r\nL 253.636054 101.4622 \r\nL 255.389699 101.99283 \r\nL 256.412658 102.410687 \r\nL 257.289481 102.215861 \r\nL 258.458577 101.960321 \r\nL 259.481536 101.941704 \r\nL 260.066085 101.972539 \r\nL 260.504496 101.768553 \r\nL 260.79677 101.453394 \r\nL 262.842689 100.286436 \r\nL 265.034745 99.590715 \r\nL 265.473156 99.791029 \r\nL 266.934526 100.739606 \r\nL 267.811349 101.7068 \r\nL 269.418856 102.706957 \r\nL 270.003405 103.178285 \r\nL 271.318638 103.98883 \r\nL 272.926146 105.443211 \r\nL 273.510694 105.900943 \r\nL 274.095242 106.082467 \r\nL 275.264339 106.17703 \r\nL 276.287298 105.69437 \r\nL 277.602532 105.068399 \r\nL 278.479354 104.969119 \r\nL 280.817547 104.937498 \r\nL 283.15574 104.452975 \r\nL 284.178699 104.503887 \r\nL 284.763247 104.527738 \r\nL 285.493933 104.601238 \r\nL 286.955303 104.932334 \r\nL 291.923963 104.189646 \r\nL 292.946923 103.876151 \r\nL 293.677608 103.61733 \r\nL 294.700567 103.132359 \r\nL 295.431253 102.756348 \r\nL 296.454212 102.451637 \r\nL 299.084679 102.421819 \r\nL 300.399913 102.788779 \r\nL 302.00742 103.573569 \r\nL 302.884243 104.197586 \r\nL 305.368573 105.925219 \r\nL 307.268354 106.128629 \r\nL 309.606547 106.272291 \r\nL 311.94474 105.782942 \r\nL 313.259974 106.013304 \r\nL 314.721344 106.710618 \r\nL 315.744304 107.183681 \r\nL 316.767263 107.576883 \r\nL 317.497948 108.199891 \r\nL 318.520908 109.126232 \r\nL 320.274553 110.488622 \r\nL 321.443649 110.734752 \r\nL 323.927979 110.827419 \r\nL 325.827761 110.833093 \r\nL 328.458228 109.563541 \r\nL 331.088695 108.020648 \r\nL 332.988477 106.199503 \r\nL 333.865299 105.434433 \r\nL 339.564644 100.308687 \r\nL 340.587604 99.324583 \r\nL 343.948756 95.908818 \r\nL 345.117852 95.165489 \r\nL 347.163771 93.879546 \r\nL 349.648101 93.082537 \r\nL 350.524924 93.172065 \r\nL 352.424705 93.55582 \r\nL 353.739939 93.612718 \r\nL 355.347447 94.104979 \r\nL 356.224269 94.234621 \r\nL 357.539502 94.468305 \r\nL 359.14701 94.769739 \r\nL 359.585421 95.023801 \r\nL 360.169969 95.419929 \r\nL 360.754518 95.813587 \r\nL 361.485203 96.29962 \r\nL 363.092711 97.069303 \r\nL 363.531122 97.273586 \r\nL 363.969533 97.387453 \r\nL 364.700218 97.924868 \r\nL 366.453863 98.984642 \r\nL 366.6 99.057858 \r\nL 366.6 99.057858 \r\n\" style=\"fill:none;stroke:#2ca02c;stroke-linecap:square;stroke-width:1.5;\"/>\r\n   </g>\r\n   <g id=\"patch_3\">\r\n    <path d=\"M 31.8 224.64 \r\nL 31.8 7.2 \r\n\" style=\"fill:none;stroke:#000000;stroke-linecap:square;stroke-linejoin:miter;stroke-width:0.8;\"/>\r\n   </g>\r\n   <g id=\"patch_4\">\r\n    <path d=\"M 366.6 224.64 \r\nL 366.6 7.2 \r\n\" style=\"fill:none;stroke:#000000;stroke-linecap:square;stroke-linejoin:miter;stroke-width:0.8;\"/>\r\n   </g>\r\n   <g id=\"patch_5\">\r\n    <path d=\"M 31.8 224.64 \r\nL 366.6 224.64 \r\n\" style=\"fill:none;stroke:#000000;stroke-linecap:square;stroke-linejoin:miter;stroke-width:0.8;\"/>\r\n   </g>\r\n   <g id=\"patch_6\">\r\n    <path d=\"M 31.8 7.2 \r\nL 366.6 7.2 \r\n\" style=\"fill:none;stroke:#000000;stroke-linecap:square;stroke-linejoin:miter;stroke-width:0.8;\"/>\r\n   </g>\r\n   <g id=\"legend_1\">\r\n    <g id=\"patch_7\">\r\n     <path d=\"M 38.8 59.234375 \r\nL 97.460938 59.234375 \r\nQ 99.460938 59.234375 99.460938 57.234375 \r\nL 99.460938 14.2 \r\nQ 99.460938 12.2 97.460938 12.2 \r\nL 38.8 12.2 \r\nQ 36.8 12.2 36.8 14.2 \r\nL 36.8 57.234375 \r\nQ 36.8 59.234375 38.8 59.234375 \r\nz\r\n\" style=\"fill:#ffffff;opacity:0.8;stroke:#cccccc;stroke-linejoin:miter;\"/>\r\n    </g>\r\n    <g id=\"line2d_58\">\r\n     <path d=\"M 40.8 20.298437 \r\nL 60.8 20.298437 \r\n\" style=\"fill:none;stroke:#1f77b4;stroke-linecap:square;stroke-width:1.5;\"/>\r\n    </g>\r\n    <g id=\"line2d_59\"/>\r\n    <g id=\"text_11\">\r\n     <!-- AAPL -->\r\n     <g transform=\"translate(68.8 23.798437)scale(0.1 -0.1)\">\r\n      <defs>\r\n       <path d=\"M 34.1875 63.1875 \r\nL 20.796875 26.90625 \r\nL 47.609375 26.90625 \r\nz\r\nM 28.609375 72.90625 \r\nL 39.796875 72.90625 \r\nL 67.578125 0 \r\nL 57.328125 0 \r\nL 50.6875 18.703125 \r\nL 17.828125 18.703125 \r\nL 11.1875 0 \r\nL 0.78125 0 \r\nz\r\n\" id=\"DejaVuSans-65\"/>\r\n       <path d=\"M 19.671875 64.796875 \r\nL 19.671875 37.40625 \r\nL 32.078125 37.40625 \r\nQ 38.96875 37.40625 42.71875 40.96875 \r\nQ 46.484375 44.53125 46.484375 51.125 \r\nQ 46.484375 57.671875 42.71875 61.234375 \r\nQ 38.96875 64.796875 32.078125 64.796875 \r\nz\r\nM 9.8125 72.90625 \r\nL 32.078125 72.90625 \r\nQ 44.34375 72.90625 50.609375 67.359375 \r\nQ 56.890625 61.8125 56.890625 51.125 \r\nQ 56.890625 40.328125 50.609375 34.8125 \r\nQ 44.34375 29.296875 32.078125 29.296875 \r\nL 19.671875 29.296875 \r\nL 19.671875 0 \r\nL 9.8125 0 \r\nz\r\n\" id=\"DejaVuSans-80\"/>\r\n       <path d=\"M 9.8125 72.90625 \r\nL 19.671875 72.90625 \r\nL 19.671875 8.296875 \r\nL 55.171875 8.296875 \r\nL 55.171875 0 \r\nL 9.8125 0 \r\nz\r\n\" id=\"DejaVuSans-76\"/>\r\n      </defs>\r\n      <use xlink:href=\"#DejaVuSans-65\"/>\r\n      <use x=\"71.158203\" xlink:href=\"#DejaVuSans-65\"/>\r\n      <use x=\"139.566406\" xlink:href=\"#DejaVuSans-80\"/>\r\n      <use x=\"199.869141\" xlink:href=\"#DejaVuSans-76\"/>\r\n     </g>\r\n    </g>\r\n    <g id=\"line2d_60\">\r\n     <path d=\"M 40.8 34.976562 \r\nL 60.8 34.976562 \r\n\" style=\"fill:none;stroke:#ff7f0e;stroke-linecap:square;stroke-width:1.5;\"/>\r\n    </g>\r\n    <g id=\"line2d_61\"/>\r\n    <g id=\"text_12\">\r\n     <!-- MSFT -->\r\n     <g transform=\"translate(68.8 38.476562)scale(0.1 -0.1)\">\r\n      <defs>\r\n       <path d=\"M 9.8125 72.90625 \r\nL 24.515625 72.90625 \r\nL 43.109375 23.296875 \r\nL 61.8125 72.90625 \r\nL 76.515625 72.90625 \r\nL 76.515625 0 \r\nL 66.890625 0 \r\nL 66.890625 64.015625 \r\nL 48.09375 14.015625 \r\nL 38.1875 14.015625 \r\nL 19.390625 64.015625 \r\nL 19.390625 0 \r\nL 9.8125 0 \r\nz\r\n\" id=\"DejaVuSans-77\"/>\r\n       <path d=\"M 53.515625 70.515625 \r\nL 53.515625 60.890625 \r\nQ 47.90625 63.578125 42.921875 64.890625 \r\nQ 37.9375 66.21875 33.296875 66.21875 \r\nQ 25.25 66.21875 20.875 63.09375 \r\nQ 16.5 59.96875 16.5 54.203125 \r\nQ 16.5 49.359375 19.40625 46.890625 \r\nQ 22.3125 44.4375 30.421875 42.921875 \r\nL 36.375 41.703125 \r\nQ 47.40625 39.59375 52.65625 34.296875 \r\nQ 57.90625 29 57.90625 20.125 \r\nQ 57.90625 9.515625 50.796875 4.046875 \r\nQ 43.703125 -1.421875 29.984375 -1.421875 \r\nQ 24.8125 -1.421875 18.96875 -0.25 \r\nQ 13.140625 0.921875 6.890625 3.21875 \r\nL 6.890625 13.375 \r\nQ 12.890625 10.015625 18.65625 8.296875 \r\nQ 24.421875 6.59375 29.984375 6.59375 \r\nQ 38.421875 6.59375 43.015625 9.90625 \r\nQ 47.609375 13.234375 47.609375 19.390625 \r\nQ 47.609375 24.75 44.3125 27.78125 \r\nQ 41.015625 30.8125 33.5 32.328125 \r\nL 27.484375 33.5 \r\nQ 16.453125 35.6875 11.515625 40.375 \r\nQ 6.59375 45.0625 6.59375 53.421875 \r\nQ 6.59375 63.09375 13.40625 68.65625 \r\nQ 20.21875 74.21875 32.171875 74.21875 \r\nQ 37.3125 74.21875 42.625 73.28125 \r\nQ 47.953125 72.359375 53.515625 70.515625 \r\nz\r\n\" id=\"DejaVuSans-83\"/>\r\n       <path d=\"M 9.8125 72.90625 \r\nL 51.703125 72.90625 \r\nL 51.703125 64.59375 \r\nL 19.671875 64.59375 \r\nL 19.671875 43.109375 \r\nL 48.578125 43.109375 \r\nL 48.578125 34.8125 \r\nL 19.671875 34.8125 \r\nL 19.671875 0 \r\nL 9.8125 0 \r\nz\r\n\" id=\"DejaVuSans-70\"/>\r\n       <path d=\"M -0.296875 72.90625 \r\nL 61.375 72.90625 \r\nL 61.375 64.59375 \r\nL 35.5 64.59375 \r\nL 35.5 0 \r\nL 25.59375 0 \r\nL 25.59375 64.59375 \r\nL -0.296875 64.59375 \r\nz\r\n\" id=\"DejaVuSans-84\"/>\r\n      </defs>\r\n      <use xlink:href=\"#DejaVuSans-77\"/>\r\n      <use x=\"86.279297\" xlink:href=\"#DejaVuSans-83\"/>\r\n      <use x=\"149.755859\" xlink:href=\"#DejaVuSans-70\"/>\r\n      <use x=\"205.525391\" xlink:href=\"#DejaVuSans-84\"/>\r\n     </g>\r\n    </g>\r\n    <g id=\"line2d_62\">\r\n     <path d=\"M 40.8 49.654687 \r\nL 60.8 49.654687 \r\n\" style=\"fill:none;stroke:#2ca02c;stroke-linecap:square;stroke-width:1.5;\"/>\r\n    </g>\r\n    <g id=\"line2d_63\"/>\r\n    <g id=\"text_13\">\r\n     <!-- XOM -->\r\n     <g transform=\"translate(68.8 53.154687)scale(0.1 -0.1)\">\r\n      <defs>\r\n       <path d=\"M 6.296875 72.90625 \r\nL 16.890625 72.90625 \r\nL 35.015625 45.796875 \r\nL 53.21875 72.90625 \r\nL 63.8125 72.90625 \r\nL 40.375 37.890625 \r\nL 65.375 0 \r\nL 54.78125 0 \r\nL 34.28125 31 \r\nL 13.625 0 \r\nL 2.984375 0 \r\nL 29 38.921875 \r\nz\r\n\" id=\"DejaVuSans-88\"/>\r\n       <path d=\"M 39.40625 66.21875 \r\nQ 28.65625 66.21875 22.328125 58.203125 \r\nQ 16.015625 50.203125 16.015625 36.375 \r\nQ 16.015625 22.609375 22.328125 14.59375 \r\nQ 28.65625 6.59375 39.40625 6.59375 \r\nQ 50.140625 6.59375 56.421875 14.59375 \r\nQ 62.703125 22.609375 62.703125 36.375 \r\nQ 62.703125 50.203125 56.421875 58.203125 \r\nQ 50.140625 66.21875 39.40625 66.21875 \r\nz\r\nM 39.40625 74.21875 \r\nQ 54.734375 74.21875 63.90625 63.9375 \r\nQ 73.09375 53.65625 73.09375 36.375 \r\nQ 73.09375 19.140625 63.90625 8.859375 \r\nQ 54.734375 -1.421875 39.40625 -1.421875 \r\nQ 24.03125 -1.421875 14.8125 8.828125 \r\nQ 5.609375 19.09375 5.609375 36.375 \r\nQ 5.609375 53.65625 14.8125 63.9375 \r\nQ 24.03125 74.21875 39.40625 74.21875 \r\nz\r\n\" id=\"DejaVuSans-79\"/>\r\n      </defs>\r\n      <use xlink:href=\"#DejaVuSans-88\"/>\r\n      <use x=\"62.130859\" xlink:href=\"#DejaVuSans-79\"/>\r\n      <use x=\"140.841797\" xlink:href=\"#DejaVuSans-77\"/>\r\n     </g>\r\n    </g>\r\n   </g>\r\n  </g>\r\n </g>\r\n <defs>\r\n  <clipPath id=\"p0e46f587e7\">\r\n   <rect height=\"217.44\" width=\"334.8\" x=\"31.8\" y=\"7.2\"/>\r\n  </clipPath>\r\n </defs>\r\n</svg>\r\n",
      "image/png": "[encoded data removed]"
     },
     "metadata": {
      "needs_background": "light"
     }
    }
   ],
   "source": [
    "close_px.rolling(60).mean().plot(logy=True)"
   ]
  },
  {
   "cell_type": "code",
   "execution_count": 267,
   "metadata": {},
   "outputs": [
    {
     "output_type": "execute_result",
     "data": {
      "text/plain": [
       "<AxesSubplot:>"
      ]
     },
     "metadata": {},
     "execution_count": 267
    },
    {
     "output_type": "display_data",
     "data": {
      "text/plain": "<Figure size 432x288 with 1 Axes>",
      "image/svg+xml": "<?xml version=\"1.0\" encoding=\"utf-8\" standalone=\"no\"?>\r\n<!DOCTYPE svg PUBLIC \"-//W3C//DTD SVG 1.1//EN\"\r\n  \"http://www.w3.org/Graphics/SVG/1.1/DTD/svg11.dtd\">\r\n<!-- Created with matplotlib (https://matplotlib.org/) -->\r\n<svg height=\"248.518125pt\" version=\"1.1\" viewBox=\"0 0 373.8 248.518125\" width=\"373.8pt\" xmlns=\"http://www.w3.org/2000/svg\" xmlns:xlink=\"http://www.w3.org/1999/xlink\">\r\n <metadata>\r\n  <rdf:RDF xmlns:cc=\"http://creativecommons.org/ns#\" xmlns:dc=\"http://purl.org/dc/elements/1.1/\" xmlns:rdf=\"http://www.w3.org/1999/02/22-rdf-syntax-ns#\">\r\n   <cc:Work>\r\n    <dc:type rdf:resource=\"http://purl.org/dc/dcmitype/StillImage\"/>\r\n    <dc:date>2021-05-11T11:27:59.801731</dc:date>\r\n    <dc:format>image/svg+xml</dc:format>\r\n    <dc:creator>\r\n     <cc:Agent>\r\n      <dc:title>Matplotlib v3.3.2, https://matplotlib.org/</dc:title>\r\n     </cc:Agent>\r\n    </dc:creator>\r\n   </cc:Work>\r\n  </rdf:RDF>\r\n </metadata>\r\n <defs>\r\n  <style type=\"text/css\">*{stroke-linecap:butt;stroke-linejoin:round;}</style>\r\n </defs>\r\n <g id=\"figure_1\">\r\n  <g id=\"patch_1\">\r\n   <path d=\"M 0 248.518125 \r\nL 373.8 248.518125 \r\nL 373.8 0 \r\nL 0 0 \r\nz\r\n\" style=\"fill:none;\"/>\r\n  </g>\r\n  <g id=\"axes_1\">\r\n   <g id=\"patch_2\">\r\n    <path d=\"M 31.8 224.64 \r\nL 366.6 224.64 \r\nL 366.6 7.2 \r\nL 31.8 7.2 \r\nz\r\n\" style=\"fill:#ffffff;\"/>\r\n   </g>\r\n   <g id=\"matplotlib.axis_1\">\r\n    <g id=\"xtick_1\">\r\n     <g id=\"line2d_1\">\r\n      <defs>\r\n       <path d=\"M 0 0 \r\nL 0 3.5 \r\n\" id=\"m1eb897b0d4\" style=\"stroke:#000000;stroke-width:0.8;\"/>\r\n      </defs>\r\n      <g>\r\n       <use style=\"stroke:#000000;stroke-width:0.8;\" x=\"31.8\" xlink:href=\"#m1eb897b0d4\" y=\"224.64\"/>\r\n      </g>\r\n     </g>\r\n    </g>\r\n    <g id=\"xtick_2\">\r\n     <g id=\"line2d_2\">\r\n      <g>\r\n       <use style=\"stroke:#000000;stroke-width:0.8;\" x=\"69.795635\" xlink:href=\"#m1eb897b0d4\" y=\"224.64\"/>\r\n      </g>\r\n     </g>\r\n     <g id=\"text_1\">\r\n      <!-- 2004 -->\r\n      <g transform=\"translate(57.070635 239.238437)scale(0.1 -0.1)\">\r\n       <defs>\r\n        <path d=\"M 19.1875 8.296875 \r\nL 53.609375 8.296875 \r\nL 53.609375 0 \r\nL 7.328125 0 \r\nL 7.328125 8.296875 \r\nQ 12.9375 14.109375 22.625 23.890625 \r\nQ 32.328125 33.6875 34.8125 36.53125 \r\nQ 39.546875 41.84375 41.421875 45.53125 \r\nQ 43.3125 49.21875 43.3125 52.78125 \r\nQ 43.3125 58.59375 39.234375 62.25 \r\nQ 35.15625 65.921875 28.609375 65.921875 \r\nQ 23.96875 65.921875 18.8125 64.3125 \r\nQ 13.671875 62.703125 7.8125 59.421875 \r\nL 7.8125 69.390625 \r\nQ 13.765625 71.78125 18.9375 73 \r\nQ 24.125 74.21875 28.421875 74.21875 \r\nQ 39.75 74.21875 46.484375 68.546875 \r\nQ 53.21875 62.890625 53.21875 53.421875 \r\nQ 53.21875 48.921875 51.53125 44.890625 \r\nQ 49.859375 40.875 45.40625 35.40625 \r\nQ 44.1875 33.984375 37.640625 27.21875 \r\nQ 31.109375 20.453125 19.1875 8.296875 \r\nz\r\n\" id=\"DejaVuSans-50\"/>\r\n        <path d=\"M 31.78125 66.40625 \r\nQ 24.171875 66.40625 20.328125 58.90625 \r\nQ 16.5 51.421875 16.5 36.375 \r\nQ 16.5 21.390625 20.328125 13.890625 \r\nQ 24.171875 6.390625 31.78125 6.390625 \r\nQ 39.453125 6.390625 43.28125 13.890625 \r\nQ 47.125 21.390625 47.125 36.375 \r\nQ 47.125 51.421875 43.28125 58.90625 \r\nQ 39.453125 66.40625 31.78125 66.40625 \r\nz\r\nM 31.78125 74.21875 \r\nQ 44.046875 74.21875 50.515625 64.515625 \r\nQ 56.984375 54.828125 56.984375 36.375 \r\nQ 56.984375 17.96875 50.515625 8.265625 \r\nQ 44.046875 -1.421875 31.78125 -1.421875 \r\nQ 19.53125 -1.421875 13.0625 8.265625 \r\nQ 6.59375 17.96875 6.59375 36.375 \r\nQ 6.59375 54.828125 13.0625 64.515625 \r\nQ 19.53125 74.21875 31.78125 74.21875 \r\nz\r\n\" id=\"DejaVuSans-48\"/>\r\n        <path d=\"M 37.796875 64.3125 \r\nL 12.890625 25.390625 \r\nL 37.796875 25.390625 \r\nz\r\nM 35.203125 72.90625 \r\nL 47.609375 72.90625 \r\nL 47.609375 25.390625 \r\nL 58.015625 25.390625 \r\nL 58.015625 17.1875 \r\nL 47.609375 17.1875 \r\nL 47.609375 0 \r\nL 37.796875 0 \r\nL 37.796875 17.1875 \r\nL 4.890625 17.1875 \r\nL 4.890625 26.703125 \r\nz\r\n\" id=\"DejaVuSans-52\"/>\r\n       </defs>\r\n       <use xlink:href=\"#DejaVuSans-50\"/>\r\n       <use x=\"63.623047\" xlink:href=\"#DejaVuSans-48\"/>\r\n       <use x=\"127.246094\" xlink:href=\"#DejaVuSans-48\"/>\r\n       <use x=\"190.869141\" xlink:href=\"#DejaVuSans-52\"/>\r\n      </g>\r\n     </g>\r\n    </g>\r\n    <g id=\"xtick_3\">\r\n     <g id=\"line2d_3\">\r\n      <g>\r\n       <use style=\"stroke:#000000;stroke-width:0.8;\" x=\"108.083544\" xlink:href=\"#m1eb897b0d4\" y=\"224.64\"/>\r\n      </g>\r\n     </g>\r\n     <g id=\"text_2\">\r\n      <!-- 2005 -->\r\n      <g transform=\"translate(95.358544 239.238437)scale(0.1 -0.1)\">\r\n       <defs>\r\n        <path d=\"M 10.796875 72.90625 \r\nL 49.515625 72.90625 \r\nL 49.515625 64.59375 \r\nL 19.828125 64.59375 \r\nL 19.828125 46.734375 \r\nQ 21.96875 47.46875 24.109375 47.828125 \r\nQ 26.265625 48.1875 28.421875 48.1875 \r\nQ 40.625 48.1875 47.75 41.5 \r\nQ 54.890625 34.8125 54.890625 23.390625 \r\nQ 54.890625 11.625 47.5625 5.09375 \r\nQ 40.234375 -1.421875 26.90625 -1.421875 \r\nQ 22.3125 -1.421875 17.546875 -0.640625 \r\nQ 12.796875 0.140625 7.71875 1.703125 \r\nL 7.71875 11.625 \r\nQ 12.109375 9.234375 16.796875 8.0625 \r\nQ 21.484375 6.890625 26.703125 6.890625 \r\nQ 35.15625 6.890625 40.078125 11.328125 \r\nQ 45.015625 15.765625 45.015625 23.390625 \r\nQ 45.015625 31 40.078125 35.4375 \r\nQ 35.15625 39.890625 26.703125 39.890625 \r\nQ 22.75 39.890625 18.8125 39.015625 \r\nQ 14.890625 38.140625 10.796875 36.28125 \r\nz\r\n\" id=\"DejaVuSans-53\"/>\r\n       </defs>\r\n       <use xlink:href=\"#DejaVuSans-50\"/>\r\n       <use x=\"63.623047\" xlink:href=\"#DejaVuSans-48\"/>\r\n       <use x=\"127.246094\" xlink:href=\"#DejaVuSans-48\"/>\r\n       <use x=\"190.869141\" xlink:href=\"#DejaVuSans-53\"/>\r\n      </g>\r\n     </g>\r\n    </g>\r\n    <g id=\"xtick_4\">\r\n     <g id=\"line2d_4\">\r\n      <g>\r\n       <use style=\"stroke:#000000;stroke-width:0.8;\" x=\"146.079179\" xlink:href=\"#m1eb897b0d4\" y=\"224.64\"/>\r\n      </g>\r\n     </g>\r\n     <g id=\"text_3\">\r\n      <!-- 2006 -->\r\n      <g transform=\"translate(133.354179 239.238437)scale(0.1 -0.1)\">\r\n       <defs>\r\n        <path d=\"M 33.015625 40.375 \r\nQ 26.375 40.375 22.484375 35.828125 \r\nQ 18.609375 31.296875 18.609375 23.390625 \r\nQ 18.609375 15.53125 22.484375 10.953125 \r\nQ 26.375 6.390625 33.015625 6.390625 \r\nQ 39.65625 6.390625 43.53125 10.953125 \r\nQ 47.40625 15.53125 47.40625 23.390625 \r\nQ 47.40625 31.296875 43.53125 35.828125 \r\nQ 39.65625 40.375 33.015625 40.375 \r\nz\r\nM 52.59375 71.296875 \r\nL 52.59375 62.3125 \r\nQ 48.875 64.0625 45.09375 64.984375 \r\nQ 41.3125 65.921875 37.59375 65.921875 \r\nQ 27.828125 65.921875 22.671875 59.328125 \r\nQ 17.53125 52.734375 16.796875 39.40625 \r\nQ 19.671875 43.65625 24.015625 45.921875 \r\nQ 28.375 48.1875 33.59375 48.1875 \r\nQ 44.578125 48.1875 50.953125 41.515625 \r\nQ 57.328125 34.859375 57.328125 23.390625 \r\nQ 57.328125 12.15625 50.6875 5.359375 \r\nQ 44.046875 -1.421875 33.015625 -1.421875 \r\nQ 20.359375 -1.421875 13.671875 8.265625 \r\nQ 6.984375 17.96875 6.984375 36.375 \r\nQ 6.984375 53.65625 15.1875 63.9375 \r\nQ 23.390625 74.21875 37.203125 74.21875 \r\nQ 40.921875 74.21875 44.703125 73.484375 \r\nQ 48.484375 72.75 52.59375 71.296875 \r\nz\r\n\" id=\"DejaVuSans-54\"/>\r\n       </defs>\r\n       <use xlink:href=\"#DejaVuSans-50\"/>\r\n       <use x=\"63.623047\" xlink:href=\"#DejaVuSans-48\"/>\r\n       <use x=\"127.246094\" xlink:href=\"#DejaVuSans-48\"/>\r\n       <use x=\"190.869141\" xlink:href=\"#DejaVuSans-54\"/>\r\n      </g>\r\n     </g>\r\n    </g>\r\n    <g id=\"xtick_5\">\r\n     <g id=\"line2d_5\">\r\n      <g>\r\n       <use style=\"stroke:#000000;stroke-width:0.8;\" x=\"184.074814\" xlink:href=\"#m1eb897b0d4\" y=\"224.64\"/>\r\n      </g>\r\n     </g>\r\n     <g id=\"text_4\">\r\n      <!-- 2007 -->\r\n      <g transform=\"translate(171.349814 239.238437)scale(0.1 -0.1)\">\r\n       <defs>\r\n        <path d=\"M 8.203125 72.90625 \r\nL 55.078125 72.90625 \r\nL 55.078125 68.703125 \r\nL 28.609375 0 \r\nL 18.3125 0 \r\nL 43.21875 64.59375 \r\nL 8.203125 64.59375 \r\nz\r\n\" id=\"DejaVuSans-55\"/>\r\n       </defs>\r\n       <use xlink:href=\"#DejaVuSans-50\"/>\r\n       <use x=\"63.623047\" xlink:href=\"#DejaVuSans-48\"/>\r\n       <use x=\"127.246094\" xlink:href=\"#DejaVuSans-48\"/>\r\n       <use x=\"190.869141\" xlink:href=\"#DejaVuSans-55\"/>\r\n      </g>\r\n     </g>\r\n    </g>\r\n    <g id=\"xtick_6\">\r\n     <g id=\"line2d_6\">\r\n      <g>\r\n       <use style=\"stroke:#000000;stroke-width:0.8;\" x=\"222.216587\" xlink:href=\"#m1eb897b0d4\" y=\"224.64\"/>\r\n      </g>\r\n     </g>\r\n     <g id=\"text_5\">\r\n      <!-- 2008 -->\r\n      <g transform=\"translate(209.491587 239.238437)scale(0.1 -0.1)\">\r\n       <defs>\r\n        <path d=\"M 31.78125 34.625 \r\nQ 24.75 34.625 20.71875 30.859375 \r\nQ 16.703125 27.09375 16.703125 20.515625 \r\nQ 16.703125 13.921875 20.71875 10.15625 \r\nQ 24.75 6.390625 31.78125 6.390625 \r\nQ 38.8125 6.390625 42.859375 10.171875 \r\nQ 46.921875 13.96875 46.921875 20.515625 \r\nQ 46.921875 27.09375 42.890625 30.859375 \r\nQ 38.875 34.625 31.78125 34.625 \r\nz\r\nM 21.921875 38.8125 \r\nQ 15.578125 40.375 12.03125 44.71875 \r\nQ 8.5 49.078125 8.5 55.328125 \r\nQ 8.5 64.0625 14.71875 69.140625 \r\nQ 20.953125 74.21875 31.78125 74.21875 \r\nQ 42.671875 74.21875 48.875 69.140625 \r\nQ 55.078125 64.0625 55.078125 55.328125 \r\nQ 55.078125 49.078125 51.53125 44.71875 \r\nQ 48 40.375 41.703125 38.8125 \r\nQ 48.828125 37.15625 52.796875 32.3125 \r\nQ 56.78125 27.484375 56.78125 20.515625 \r\nQ 56.78125 9.90625 50.3125 4.234375 \r\nQ 43.84375 -1.421875 31.78125 -1.421875 \r\nQ 19.734375 -1.421875 13.25 4.234375 \r\nQ 6.78125 9.90625 6.78125 20.515625 \r\nQ 6.78125 27.484375 10.78125 32.3125 \r\nQ 14.796875 37.15625 21.921875 38.8125 \r\nz\r\nM 18.3125 54.390625 \r\nQ 18.3125 48.734375 21.84375 45.5625 \r\nQ 25.390625 42.390625 31.78125 42.390625 \r\nQ 38.140625 42.390625 41.71875 45.5625 \r\nQ 45.3125 48.734375 45.3125 54.390625 \r\nQ 45.3125 60.0625 41.71875 63.234375 \r\nQ 38.140625 66.40625 31.78125 66.40625 \r\nQ 25.390625 66.40625 21.84375 63.234375 \r\nQ 18.3125 60.0625 18.3125 54.390625 \r\nz\r\n\" id=\"DejaVuSans-56\"/>\r\n       </defs>\r\n       <use xlink:href=\"#DejaVuSans-50\"/>\r\n       <use x=\"63.623047\" xlink:href=\"#DejaVuSans-48\"/>\r\n       <use x=\"127.246094\" xlink:href=\"#DejaVuSans-48\"/>\r\n       <use x=\"190.869141\" xlink:href=\"#DejaVuSans-56\"/>\r\n      </g>\r\n     </g>\r\n    </g>\r\n    <g id=\"xtick_7\">\r\n     <g id=\"line2d_7\">\r\n      <g>\r\n       <use style=\"stroke:#000000;stroke-width:0.8;\" x=\"260.504496\" xlink:href=\"#m1eb897b0d4\" y=\"224.64\"/>\r\n      </g>\r\n     </g>\r\n     <g id=\"text_6\">\r\n      <!-- 2009 -->\r\n      <g transform=\"translate(247.779496 239.238437)scale(0.1 -0.1)\">\r\n       <defs>\r\n        <path d=\"M 10.984375 1.515625 \r\nL 10.984375 10.5 \r\nQ 14.703125 8.734375 18.5 7.8125 \r\nQ 22.3125 6.890625 25.984375 6.890625 \r\nQ 35.75 6.890625 40.890625 13.453125 \r\nQ 46.046875 20.015625 46.78125 33.40625 \r\nQ 43.953125 29.203125 39.59375 26.953125 \r\nQ 35.25 24.703125 29.984375 24.703125 \r\nQ 19.046875 24.703125 12.671875 31.3125 \r\nQ 6.296875 37.9375 6.296875 49.421875 \r\nQ 6.296875 60.640625 12.9375 67.421875 \r\nQ 19.578125 74.21875 30.609375 74.21875 \r\nQ 43.265625 74.21875 49.921875 64.515625 \r\nQ 56.59375 54.828125 56.59375 36.375 \r\nQ 56.59375 19.140625 48.40625 8.859375 \r\nQ 40.234375 -1.421875 26.421875 -1.421875 \r\nQ 22.703125 -1.421875 18.890625 -0.6875 \r\nQ 15.09375 0.046875 10.984375 1.515625 \r\nz\r\nM 30.609375 32.421875 \r\nQ 37.25 32.421875 41.125 36.953125 \r\nQ 45.015625 41.5 45.015625 49.421875 \r\nQ 45.015625 57.28125 41.125 61.84375 \r\nQ 37.25 66.40625 30.609375 66.40625 \r\nQ 23.96875 66.40625 20.09375 61.84375 \r\nQ 16.21875 57.28125 16.21875 49.421875 \r\nQ 16.21875 41.5 20.09375 36.953125 \r\nQ 23.96875 32.421875 30.609375 32.421875 \r\nz\r\n\" id=\"DejaVuSans-57\"/>\r\n       </defs>\r\n       <use xlink:href=\"#DejaVuSans-50\"/>\r\n       <use x=\"63.623047\" xlink:href=\"#DejaVuSans-48\"/>\r\n       <use x=\"127.246094\" xlink:href=\"#DejaVuSans-48\"/>\r\n       <use x=\"190.869141\" xlink:href=\"#DejaVuSans-57\"/>\r\n      </g>\r\n     </g>\r\n    </g>\r\n    <g id=\"xtick_8\">\r\n     <g id=\"line2d_8\">\r\n      <g>\r\n       <use style=\"stroke:#000000;stroke-width:0.8;\" x=\"298.646268\" xlink:href=\"#m1eb897b0d4\" y=\"224.64\"/>\r\n      </g>\r\n     </g>\r\n     <g id=\"text_7\">\r\n      <!-- 2010 -->\r\n      <g transform=\"translate(285.921268 239.238437)scale(0.1 -0.1)\">\r\n       <defs>\r\n        <path d=\"M 12.40625 8.296875 \r\nL 28.515625 8.296875 \r\nL 28.515625 63.921875 \r\nL 10.984375 60.40625 \r\nL 10.984375 69.390625 \r\nL 28.421875 72.90625 \r\nL 38.28125 72.90625 \r\nL 38.28125 8.296875 \r\nL 54.390625 8.296875 \r\nL 54.390625 0 \r\nL 12.40625 0 \r\nz\r\n\" id=\"DejaVuSans-49\"/>\r\n       </defs>\r\n       <use xlink:href=\"#DejaVuSans-50\"/>\r\n       <use x=\"63.623047\" xlink:href=\"#DejaVuSans-48\"/>\r\n       <use x=\"127.246094\" xlink:href=\"#DejaVuSans-49\"/>\r\n       <use x=\"190.869141\" xlink:href=\"#DejaVuSans-48\"/>\r\n      </g>\r\n     </g>\r\n    </g>\r\n    <g id=\"xtick_9\">\r\n     <g id=\"line2d_9\">\r\n      <g>\r\n       <use style=\"stroke:#000000;stroke-width:0.8;\" x=\"336.78804\" xlink:href=\"#m1eb897b0d4\" y=\"224.64\"/>\r\n      </g>\r\n     </g>\r\n     <g id=\"text_8\">\r\n      <!-- 2011 -->\r\n      <g transform=\"translate(324.06304 239.238437)scale(0.1 -0.1)\">\r\n       <use xlink:href=\"#DejaVuSans-50\"/>\r\n       <use x=\"63.623047\" xlink:href=\"#DejaVuSans-48\"/>\r\n       <use x=\"127.246094\" xlink:href=\"#DejaVuSans-49\"/>\r\n       <use x=\"190.869141\" xlink:href=\"#DejaVuSans-49\"/>\r\n      </g>\r\n     </g>\r\n    </g>\r\n    <g id=\"xtick_10\">\r\n     <g id=\"line2d_10\">\r\n      <g>\r\n       <use style=\"stroke:#000000;stroke-width:0.8;\" x=\"366.6\" xlink:href=\"#m1eb897b0d4\" y=\"224.64\"/>\r\n      </g>\r\n     </g>\r\n    </g>\r\n    <g id=\"xtick_11\">\r\n     <g id=\"line2d_11\">\r\n      <defs>\r\n       <path d=\"M 0 0 \r\nL 0 2 \r\n\" id=\"m34a30de777\" style=\"stroke:#000000;stroke-width:0.6;\"/>\r\n      </defs>\r\n      <g>\r\n       <use style=\"stroke:#000000;stroke-width:0.6;\" x=\"41.006635\" xlink:href=\"#m34a30de777\" y=\"224.64\"/>\r\n      </g>\r\n     </g>\r\n    </g>\r\n    <g id=\"xtick_12\">\r\n     <g id=\"line2d_12\">\r\n      <g>\r\n       <use style=\"stroke:#000000;stroke-width:0.6;\" x=\"50.505543\" xlink:href=\"#m34a30de777\" y=\"224.64\"/>\r\n      </g>\r\n     </g>\r\n    </g>\r\n    <g id=\"xtick_13\">\r\n     <g id=\"line2d_13\">\r\n      <g>\r\n       <use style=\"stroke:#000000;stroke-width:0.6;\" x=\"60.150589\" xlink:href=\"#m34a30de777\" y=\"224.64\"/>\r\n      </g>\r\n     </g>\r\n    </g>\r\n    <g id=\"xtick_14\">\r\n     <g id=\"line2d_14\">\r\n      <g>\r\n       <use style=\"stroke:#000000;stroke-width:0.6;\" x=\"79.294544\" xlink:href=\"#m34a30de777\" y=\"224.64\"/>\r\n      </g>\r\n     </g>\r\n    </g>\r\n    <g id=\"xtick_15\">\r\n     <g id=\"line2d_15\">\r\n      <g>\r\n       <use style=\"stroke:#000000;stroke-width:0.6;\" x=\"88.793453\" xlink:href=\"#m34a30de777\" y=\"224.64\"/>\r\n      </g>\r\n     </g>\r\n    </g>\r\n    <g id=\"xtick_16\">\r\n     <g id=\"line2d_16\">\r\n      <g>\r\n       <use style=\"stroke:#000000;stroke-width:0.6;\" x=\"98.438498\" xlink:href=\"#m34a30de777\" y=\"224.64\"/>\r\n      </g>\r\n     </g>\r\n    </g>\r\n    <g id=\"xtick_17\">\r\n     <g id=\"line2d_17\">\r\n      <g>\r\n       <use style=\"stroke:#000000;stroke-width:0.6;\" x=\"117.436316\" xlink:href=\"#m34a30de777\" y=\"224.64\"/>\r\n      </g>\r\n     </g>\r\n    </g>\r\n    <g id=\"xtick_18\">\r\n     <g id=\"line2d_18\">\r\n      <g>\r\n       <use style=\"stroke:#000000;stroke-width:0.6;\" x=\"126.935225\" xlink:href=\"#m34a30de777\" y=\"224.64\"/>\r\n      </g>\r\n     </g>\r\n    </g>\r\n    <g id=\"xtick_19\">\r\n     <g id=\"line2d_19\">\r\n      <g>\r\n       <use style=\"stroke:#000000;stroke-width:0.6;\" x=\"136.580271\" xlink:href=\"#m34a30de777\" y=\"224.64\"/>\r\n      </g>\r\n     </g>\r\n    </g>\r\n    <g id=\"xtick_20\">\r\n     <g id=\"line2d_20\">\r\n      <g>\r\n       <use style=\"stroke:#000000;stroke-width:0.6;\" x=\"155.578088\" xlink:href=\"#m34a30de777\" y=\"224.64\"/>\r\n      </g>\r\n     </g>\r\n    </g>\r\n    <g id=\"xtick_21\">\r\n     <g id=\"line2d_21\">\r\n      <g>\r\n       <use style=\"stroke:#000000;stroke-width:0.6;\" x=\"165.076997\" xlink:href=\"#m34a30de777\" y=\"224.64\"/>\r\n      </g>\r\n     </g>\r\n    </g>\r\n    <g id=\"xtick_22\">\r\n     <g id=\"line2d_22\">\r\n      <g>\r\n       <use style=\"stroke:#000000;stroke-width:0.6;\" x=\"174.575906\" xlink:href=\"#m34a30de777\" y=\"224.64\"/>\r\n      </g>\r\n     </g>\r\n    </g>\r\n    <g id=\"xtick_23\">\r\n     <g id=\"line2d_23\">\r\n      <g>\r\n       <use style=\"stroke:#000000;stroke-width:0.6;\" x=\"193.573723\" xlink:href=\"#m34a30de777\" y=\"224.64\"/>\r\n      </g>\r\n     </g>\r\n    </g>\r\n    <g id=\"xtick_24\">\r\n     <g id=\"line2d_24\">\r\n      <g>\r\n       <use style=\"stroke:#000000;stroke-width:0.6;\" x=\"203.072632\" xlink:href=\"#m34a30de777\" y=\"224.64\"/>\r\n      </g>\r\n     </g>\r\n    </g>\r\n    <g id=\"xtick_25\">\r\n     <g id=\"line2d_25\">\r\n      <g>\r\n       <use style=\"stroke:#000000;stroke-width:0.6;\" x=\"212.571541\" xlink:href=\"#m34a30de777\" y=\"224.64\"/>\r\n      </g>\r\n     </g>\r\n    </g>\r\n    <g id=\"xtick_26\">\r\n     <g id=\"line2d_26\">\r\n      <g>\r\n       <use style=\"stroke:#000000;stroke-width:0.6;\" x=\"231.715495\" xlink:href=\"#m34a30de777\" y=\"224.64\"/>\r\n      </g>\r\n     </g>\r\n    </g>\r\n    <g id=\"xtick_27\">\r\n     <g id=\"line2d_27\">\r\n      <g>\r\n       <use style=\"stroke:#000000;stroke-width:0.6;\" x=\"241.214404\" xlink:href=\"#m34a30de777\" y=\"224.64\"/>\r\n      </g>\r\n     </g>\r\n    </g>\r\n    <g id=\"xtick_28\">\r\n     <g id=\"line2d_28\">\r\n      <g>\r\n       <use style=\"stroke:#000000;stroke-width:0.6;\" x=\"250.85945\" xlink:href=\"#m34a30de777\" y=\"224.64\"/>\r\n      </g>\r\n     </g>\r\n    </g>\r\n    <g id=\"xtick_29\">\r\n     <g id=\"line2d_29\">\r\n      <g>\r\n       <use style=\"stroke:#000000;stroke-width:0.6;\" x=\"269.857268\" xlink:href=\"#m34a30de777\" y=\"224.64\"/>\r\n      </g>\r\n     </g>\r\n    </g>\r\n    <g id=\"xtick_30\">\r\n     <g id=\"line2d_30\">\r\n      <g>\r\n       <use style=\"stroke:#000000;stroke-width:0.6;\" x=\"279.356176\" xlink:href=\"#m34a30de777\" y=\"224.64\"/>\r\n      </g>\r\n     </g>\r\n    </g>\r\n    <g id=\"xtick_31\">\r\n     <g id=\"line2d_31\">\r\n      <g>\r\n       <use style=\"stroke:#000000;stroke-width:0.6;\" x=\"289.001222\" xlink:href=\"#m34a30de777\" y=\"224.64\"/>\r\n      </g>\r\n     </g>\r\n    </g>\r\n    <g id=\"xtick_32\">\r\n     <g id=\"line2d_32\">\r\n      <g>\r\n       <use style=\"stroke:#000000;stroke-width:0.6;\" x=\"307.99904\" xlink:href=\"#m34a30de777\" y=\"224.64\"/>\r\n      </g>\r\n     </g>\r\n    </g>\r\n    <g id=\"xtick_33\">\r\n     <g id=\"line2d_33\">\r\n      <g>\r\n       <use style=\"stroke:#000000;stroke-width:0.6;\" x=\"317.497948\" xlink:href=\"#m34a30de777\" y=\"224.64\"/>\r\n      </g>\r\n     </g>\r\n    </g>\r\n    <g id=\"xtick_34\">\r\n     <g id=\"line2d_34\">\r\n      <g>\r\n       <use style=\"stroke:#000000;stroke-width:0.6;\" x=\"327.142994\" xlink:href=\"#m34a30de777\" y=\"224.64\"/>\r\n      </g>\r\n     </g>\r\n    </g>\r\n    <g id=\"xtick_35\">\r\n     <g id=\"line2d_35\">\r\n      <g>\r\n       <use style=\"stroke:#000000;stroke-width:0.6;\" x=\"346.140812\" xlink:href=\"#m34a30de777\" y=\"224.64\"/>\r\n      </g>\r\n     </g>\r\n    </g>\r\n    <g id=\"xtick_36\">\r\n     <g id=\"line2d_36\">\r\n      <g>\r\n       <use style=\"stroke:#000000;stroke-width:0.6;\" x=\"355.639721\" xlink:href=\"#m34a30de777\" y=\"224.64\"/>\r\n      </g>\r\n     </g>\r\n    </g>\r\n    <g id=\"xtick_37\">\r\n     <g id=\"line2d_37\">\r\n      <g>\r\n       <use style=\"stroke:#000000;stroke-width:0.6;\" x=\"365.284766\" xlink:href=\"#m34a30de777\" y=\"224.64\"/>\r\n      </g>\r\n     </g>\r\n    </g>\r\n   </g>\r\n   <g id=\"matplotlib.axis_2\">\r\n    <g id=\"ytick_1\">\r\n     <g id=\"line2d_38\">\r\n      <defs>\r\n       <path d=\"M 0 0 \r\nL -3.5 0 \r\n\" id=\"m7dcf824a0b\" style=\"stroke:#000000;stroke-width:0.8;\"/>\r\n      </defs>\r\n      <g>\r\n       <use style=\"stroke:#000000;stroke-width:0.8;\" x=\"31.8\" xlink:href=\"#m7dcf824a0b\" y=\"191.925227\"/>\r\n      </g>\r\n     </g>\r\n     <g id=\"text_9\">\r\n      <!-- $\\mathdefault{10^{1}}$ -->\r\n      <g transform=\"translate(7.2 195.724446)scale(0.1 -0.1)\">\r\n       <use transform=\"translate(0 0.684375)\" xlink:href=\"#DejaVuSans-49\"/>\r\n       <use transform=\"translate(63.623047 0.684375)\" xlink:href=\"#DejaVuSans-48\"/>\r\n       <use transform=\"translate(128.203125 38.965625)scale(0.7)\" xlink:href=\"#DejaVuSans-49\"/>\r\n      </g>\r\n     </g>\r\n    </g>\r\n    <g id=\"ytick_2\">\r\n     <g id=\"line2d_39\">\r\n      <g>\r\n       <use style=\"stroke:#000000;stroke-width:0.8;\" x=\"31.8\" xlink:href=\"#m7dcf824a0b\" y=\"32.701759\"/>\r\n      </g>\r\n     </g>\r\n     <g id=\"text_10\">\r\n      <!-- $\\mathdefault{10^{2}}$ -->\r\n      <g transform=\"translate(7.2 36.500978)scale(0.1 -0.1)\">\r\n       <use transform=\"translate(0 0.765625)\" xlink:href=\"#DejaVuSans-49\"/>\r\n       <use transform=\"translate(63.623047 0.765625)\" xlink:href=\"#DejaVuSans-48\"/>\r\n       <use transform=\"translate(128.203125 39.046875)scale(0.7)\" xlink:href=\"#DejaVuSans-50\"/>\r\n      </g>\r\n     </g>\r\n    </g>\r\n    <g id=\"ytick_3\">\r\n     <g id=\"line2d_40\">\r\n      <defs>\r\n       <path d=\"M 0 0 \r\nL -2 0 \r\n\" id=\"m224ab139d3\" style=\"stroke:#000000;stroke-width:0.6;\"/>\r\n      </defs>\r\n      <g>\r\n       <use style=\"stroke:#000000;stroke-width:0.6;\" x=\"31.8\" xlink:href=\"#m224ab139d3\" y=\"216.589254\"/>\r\n      </g>\r\n     </g>\r\n    </g>\r\n    <g id=\"ytick_4\">\r\n     <g id=\"line2d_41\">\r\n      <g>\r\n       <use style=\"stroke:#000000;stroke-width:0.6;\" x=\"31.8\" xlink:href=\"#m224ab139d3\" y=\"207.355575\"/>\r\n      </g>\r\n     </g>\r\n    </g>\r\n    <g id=\"ytick_5\">\r\n     <g id=\"line2d_42\">\r\n      <g>\r\n       <use style=\"stroke:#000000;stroke-width:0.6;\" x=\"31.8\" xlink:href=\"#m224ab139d3\" y=\"199.210893\"/>\r\n      </g>\r\n     </g>\r\n    </g>\r\n    <g id=\"ytick_6\">\r\n     <g id=\"line2d_43\">\r\n      <g>\r\n       <use style=\"stroke:#000000;stroke-width:0.6;\" x=\"31.8\" xlink:href=\"#m224ab139d3\" y=\"143.994187\"/>\r\n      </g>\r\n     </g>\r\n    </g>\r\n    <g id=\"ytick_7\">\r\n     <g id=\"line2d_44\">\r\n      <g>\r\n       <use style=\"stroke:#000000;stroke-width:0.6;\" x=\"31.8\" xlink:href=\"#m224ab139d3\" y=\"115.956326\"/>\r\n      </g>\r\n     </g>\r\n    </g>\r\n    <g id=\"ytick_8\">\r\n     <g id=\"line2d_45\">\r\n      <g>\r\n       <use style=\"stroke:#000000;stroke-width:0.6;\" x=\"31.8\" xlink:href=\"#m224ab139d3\" y=\"96.063147\"/>\r\n      </g>\r\n     </g>\r\n    </g>\r\n    <g id=\"ytick_9\">\r\n     <g id=\"line2d_46\">\r\n      <g>\r\n       <use style=\"stroke:#000000;stroke-width:0.6;\" x=\"31.8\" xlink:href=\"#m224ab139d3\" y=\"80.632799\"/>\r\n      </g>\r\n     </g>\r\n    </g>\r\n    <g id=\"ytick_10\">\r\n     <g id=\"line2d_47\">\r\n      <g>\r\n       <use style=\"stroke:#000000;stroke-width:0.6;\" x=\"31.8\" xlink:href=\"#m224ab139d3\" y=\"68.025286\"/>\r\n      </g>\r\n     </g>\r\n    </g>\r\n    <g id=\"ytick_11\">\r\n     <g id=\"line2d_48\">\r\n      <g>\r\n       <use style=\"stroke:#000000;stroke-width:0.6;\" x=\"31.8\" xlink:href=\"#m224ab139d3\" y=\"57.365786\"/>\r\n      </g>\r\n     </g>\r\n    </g>\r\n    <g id=\"ytick_12\">\r\n     <g id=\"line2d_49\">\r\n      <g>\r\n       <use style=\"stroke:#000000;stroke-width:0.6;\" x=\"31.8\" xlink:href=\"#m224ab139d3\" y=\"48.132108\"/>\r\n      </g>\r\n     </g>\r\n    </g>\r\n    <g id=\"ytick_13\">\r\n     <g id=\"line2d_50\">\r\n      <g>\r\n       <use style=\"stroke:#000000;stroke-width:0.6;\" x=\"31.8\" xlink:href=\"#m224ab139d3\" y=\"39.987426\"/>\r\n      </g>\r\n     </g>\r\n    </g>\r\n   </g>\r\n   <g id=\"line2d_51\">\r\n    <path clip-path=\"url(#p92df35f031)\" d=\"M 31.8 212.746606 \r\nL 32.092274 212.435819 \r\nL 32.238411 212.443572 \r\nL 32.530685 212.824521 \r\nL 32.969096 213.027513 \r\nL 33.699782 213.843231 \r\nL 34.138193 214.359342 \r\nL 34.430467 214.40911 \r\nL 34.576604 214.291576 \r\nL 35.015015 214.307988 \r\nL 35.453426 214.294883 \r\nL 35.891838 214.386704 \r\nL 36.476386 214.316048 \r\nL 36.76866 214.151794 \r\nL 38.230031 213.864483 \r\nL 39.837538 213.775451 \r\nL 40.275949 213.761328 \r\nL 42.321868 214.06999 \r\nL 43.929376 214.74651 \r\nL 44.367787 214.752828 \r\nL 44.660061 214.491406 \r\nL 45.683021 213.136085 \r\nL 46.267569 212.495692 \r\nL 47.436665 211.353 \r\nL 49.336447 210.05054 \r\nL 50.797818 208.798389 \r\nL 52.113051 207.638928 \r\nL 53.720559 206.10924 \r\nL 54.743518 205.384392 \r\nL 56.058752 204.494324 \r\nL 56.935574 203.760827 \r\nL 58.396945 202.477747 \r\nL 59.712178 201.594105 \r\nL 61.173549 200.677029 \r\nL 62.196508 199.87877 \r\nL 64.680838 198.449152 \r\nL 65.849935 198.120557 \r\nL 68.918813 197.404262 \r\nL 70.234046 197.041846 \r\nL 75.056569 195.281251 \r\nL 76.225666 194.882099 \r\nL 77.248625 194.269056 \r\nL 82.509559 191.458257 \r\nL 85.286163 190.225457 \r\nL 86.893671 189.350105 \r\nL 88.062767 188.532458 \r\nL 89.231864 187.796005 \r\nL 95.808031 184.298011 \r\nL 99.753732 181.544924 \r\nL 101.215103 180.00499 \r\nL 103.991707 176.521929 \r\nL 106.914448 172.360382 \r\nL 111.590834 166.132075 \r\nL 113.636753 162.904023 \r\nL 114.951986 160.952273 \r\nL 119.189961 155.690472 \r\nL 126.20454 149.739107 \r\nL 128.981144 147.56937 \r\nL 133.219118 143.759724 \r\nL 134.972763 142.077609 \r\nL 138.041641 139.041395 \r\nL 139.649149 137.416516 \r\nL 142.57189 134.035543 \r\nL 144.617809 131.400616 \r\nL 150.02488 124.93035 \r\nL 152.216936 122.91785 \r\nL 153.678306 121.737788 \r\nL 157.770144 118.794633 \r\nL 162.008119 115.905955 \r\nL 164.784723 114.553721 \r\nL 169.168835 112.456585 \r\nL 171.945439 110.915996 \r\nL 179.544566 106.097843 \r\nL 184.367089 102.855554 \r\nL 190.797119 99.017073 \r\nL 196.496464 95.706259 \r\nL 198.834657 94.132397 \r\nL 202.19581 91.57542 \r\nL 204.972414 89.346609 \r\nL 207.018333 87.650925 \r\nL 211.986993 84.002567 \r\nL 214.471323 81.768201 \r\nL 216.224967 79.990578 \r\nL 217.247927 79.073684 \r\nL 219.58612 77.020591 \r\nL 222.654998 74.132768 \r\nL 224.408643 72.840589 \r\nL 226.308424 71.946843 \r\nL 229.085028 70.801788 \r\nL 231.277084 69.836428 \r\nL 233.907551 68.405187 \r\nL 235.661196 67.247187 \r\nL 240.191445 64.278203 \r\nL 243.844871 62.294674 \r\nL 246.183064 61.137174 \r\nL 248.813531 59.878433 \r\nL 250.421039 59.376432 \r\nL 254.805151 58.730245 \r\nL 259.773811 58.226877 \r\nL 265.327019 57.713558 \r\nL 270.880227 57.020887 \r\nL 276.433435 55.773064 \r\nL 285.201659 53.173411 \r\nL 290.024182 51.377546 \r\nL 309.168136 43.635288 \r\nL 321.88206 37.814943 \r\nL 326.996857 35.654566 \r\nL 330.35801 34.004651 \r\nL 346.579223 25.915955 \r\nL 353.886076 22.727983 \r\nL 357.685639 21.131867 \r\nL 361.192929 19.52259 \r\nL 366.6 17.083636 \r\nL 366.6 17.083636 \r\n\" style=\"fill:none;stroke:#1f77b4;stroke-linecap:square;stroke-width:1.5;\"/>\r\n   </g>\r\n   <g id=\"line2d_52\">\r\n    <path clip-path=\"url(#p92df35f031)\" d=\"M 31.8 140.259085 \r\nL 31.946137 140.209967 \r\nL 32.238411 139.234865 \r\nL 32.384548 139.309138 \r\nL 32.969096 138.296313 \r\nL 33.261371 138.173564 \r\nL 33.845919 139.53784 \r\nL 34.138193 140.022484 \r\nL 35.015015 141.7913 \r\nL 35.891838 143.314386 \r\nL 36.330249 143.840931 \r\nL 36.914797 144.14995 \r\nL 37.353208 144.363082 \r\nL 38.960716 145.504898 \r\nL 39.399127 145.452471 \r\nL 40.422086 145.11246 \r\nL 44.22165 144.936922 \r\nL 45.829158 144.643456 \r\nL 48.021213 144.90466 \r\nL 48.751899 144.957738 \r\nL 50.505543 144.754172 \r\nL 53.428285 144.100779 \r\nL 55.328066 143.99248 \r\nL 56.789437 143.833159 \r\nL 57.520122 143.652992 \r\nL 59.858315 142.9447 \r\nL 61.173549 142.585582 \r\nL 63.219467 142.164059 \r\nL 66.434483 142.210346 \r\nL 68.188127 142.14436 \r\nL 75.348843 141.481393 \r\nL 77.687036 141.513282 \r\nL 81.4866 141.693552 \r\nL 83.386381 141.656961 \r\nL 87.624356 141.590043 \r\nL 93.323701 141.108981 \r\nL 100.046006 140.771582 \r\nL 103.991707 140.384403 \r\nL 112.321519 139.533001 \r\nL 116.121082 139.374773 \r\nL 120.943605 139.276317 \r\nL 131.173199 138.796276 \r\nL 136.726408 138.446254 \r\nL 141.110519 138.292086 \r\nL 147.54055 137.813205 \r\nL 159.231515 137.170406 \r\nL 172.822261 137.335854 \r\nL 178.521606 136.932443 \r\nL 193.865997 135.612297 \r\nL 199.419206 135.139206 \r\nL 206.579921 134.537219 \r\nL 217.247927 133.66882 \r\nL 226.746835 132.570836 \r\nL 244.429419 131.962784 \r\nL 250.713313 131.866983 \r\nL 253.782191 131.939786 \r\nL 258.31244 132.209914 \r\nL 278.479354 133.536659 \r\nL 289.731907 133.552189 \r\nL 293.969882 133.388784 \r\nL 313.406111 132.328235 \r\nL 324.074116 132.2581 \r\nL 333.865299 132.149957 \r\nL 354.324487 131.740439 \r\nL 363.969533 131.567514 \r\nL 366.6 131.522196 \r\nL 366.6 131.522196 \r\n\" style=\"fill:none;stroke:#ff7f0e;stroke-linecap:square;stroke-width:1.5;\"/>\r\n   </g>\r\n   <g id=\"line2d_53\">\r\n    <path clip-path=\"url(#p92df35f031)\" d=\"M 31.8 117.778009 \r\nL 31.946137 117.754348 \r\nL 32.092274 117.181073 \r\nL 32.384548 117.730694 \r\nL 32.530685 117.651909 \r\nL 33.699782 118.375596 \r\nL 34.722741 119.798504 \r\nL 36.184112 120.180445 \r\nL 36.914797 120.300423 \r\nL 39.545264 120.009231 \r\nL 41.298909 119.461722 \r\nL 42.029594 119.395006 \r\nL 43.052553 119.319345 \r\nL 48.167351 118.374298 \r\nL 50.067132 117.819341 \r\nL 51.820777 117.658585 \r\nL 54.743518 117.512808 \r\nL 61.904234 116.287613 \r\nL 63.365605 116.097957 \r\nL 66.142209 116.026488 \r\nL 68.04199 115.835166 \r\nL 69.941772 115.395292 \r\nL 72.279965 114.817568 \r\nL 80.025229 113.043433 \r\nL 91.862331 110.30348 \r\nL 111.883108 105.190924 \r\nL 113.78289 104.471411 \r\nL 116.26722 103.417653 \r\nL 119.774509 102.223614 \r\nL 121.966565 101.630771 \r\nL 124.889306 100.903988 \r\nL 132.926844 98.785727 \r\nL 135.265037 98.137129 \r\nL 137.457093 97.548932 \r\nL 140.818245 96.946891 \r\nL 148.125098 95.592482 \r\nL 154.701266 94.360123 \r\nL 163.9079 92.760938 \r\nL 166.538368 92.328471 \r\nL 170.484068 91.474551 \r\nL 173.260672 90.914571 \r\nL 177.060236 90.182183 \r\nL 183.490266 88.613744 \r\nL 186.705282 87.911036 \r\nL 200.003754 84.982572 \r\nL 217.540201 80.543115 \r\nL 221.04749 79.73227 \r\nL 224.847054 78.879762 \r\nL 244.283282 75.355456 \r\nL 251.151724 74.621378 \r\nL 254.512876 74.391616 \r\nL 258.020166 74.078346 \r\nL 265.327019 73.377789 \r\nL 271.318638 73.101923 \r\nL 283.740288 72.502179 \r\nL 295.431253 71.869889 \r\nL 300.253776 71.647233 \r\nL 310.044959 71.345008 \r\nL 315.45203 71.248187 \r\nL 333.134614 70.971496 \r\nL 339.418507 70.589418 \r\nL 346.140812 69.963568 \r\nL 356.078132 69.11989 \r\nL 361.923614 68.748685 \r\nL 366.6 68.524417 \r\nL 366.6 68.524417 \r\n\" style=\"fill:none;stroke:#2ca02c;stroke-linecap:square;stroke-width:1.5;\"/>\r\n   </g>\r\n   <g id=\"patch_3\">\r\n    <path d=\"M 31.8 224.64 \r\nL 31.8 7.2 \r\n\" style=\"fill:none;stroke:#000000;stroke-linecap:square;stroke-linejoin:miter;stroke-width:0.8;\"/>\r\n   </g>\r\n   <g id=\"patch_4\">\r\n    <path d=\"M 366.6 224.64 \r\nL 366.6 7.2 \r\n\" style=\"fill:none;stroke:#000000;stroke-linecap:square;stroke-linejoin:miter;stroke-width:0.8;\"/>\r\n   </g>\r\n   <g id=\"patch_5\">\r\n    <path d=\"M 31.8 224.64 \r\nL 366.6 224.64 \r\n\" style=\"fill:none;stroke:#000000;stroke-linecap:square;stroke-linejoin:miter;stroke-width:0.8;\"/>\r\n   </g>\r\n   <g id=\"patch_6\">\r\n    <path d=\"M 31.8 7.2 \r\nL 366.6 7.2 \r\n\" style=\"fill:none;stroke:#000000;stroke-linecap:square;stroke-linejoin:miter;stroke-width:0.8;\"/>\r\n   </g>\r\n   <g id=\"legend_1\">\r\n    <g id=\"patch_7\">\r\n     <path d=\"M 38.8 59.234375 \r\nL 97.460938 59.234375 \r\nQ 99.460938 59.234375 99.460938 57.234375 \r\nL 99.460938 14.2 \r\nQ 99.460938 12.2 97.460938 12.2 \r\nL 38.8 12.2 \r\nQ 36.8 12.2 36.8 14.2 \r\nL 36.8 57.234375 \r\nQ 36.8 59.234375 38.8 59.234375 \r\nz\r\n\" style=\"fill:#ffffff;opacity:0.8;stroke:#cccccc;stroke-linejoin:miter;\"/>\r\n    </g>\r\n    <g id=\"line2d_54\">\r\n     <path d=\"M 40.8 20.298437 \r\nL 60.8 20.298437 \r\n\" style=\"fill:none;stroke:#1f77b4;stroke-linecap:square;stroke-width:1.5;\"/>\r\n    </g>\r\n    <g id=\"line2d_55\"/>\r\n    <g id=\"text_11\">\r\n     <!-- AAPL -->\r\n     <g transform=\"translate(68.8 23.798437)scale(0.1 -0.1)\">\r\n      <defs>\r\n       <path d=\"M 34.1875 63.1875 \r\nL 20.796875 26.90625 \r\nL 47.609375 26.90625 \r\nz\r\nM 28.609375 72.90625 \r\nL 39.796875 72.90625 \r\nL 67.578125 0 \r\nL 57.328125 0 \r\nL 50.6875 18.703125 \r\nL 17.828125 18.703125 \r\nL 11.1875 0 \r\nL 0.78125 0 \r\nz\r\n\" id=\"DejaVuSans-65\"/>\r\n       <path d=\"M 19.671875 64.796875 \r\nL 19.671875 37.40625 \r\nL 32.078125 37.40625 \r\nQ 38.96875 37.40625 42.71875 40.96875 \r\nQ 46.484375 44.53125 46.484375 51.125 \r\nQ 46.484375 57.671875 42.71875 61.234375 \r\nQ 38.96875 64.796875 32.078125 64.796875 \r\nz\r\nM 9.8125 72.90625 \r\nL 32.078125 72.90625 \r\nQ 44.34375 72.90625 50.609375 67.359375 \r\nQ 56.890625 61.8125 56.890625 51.125 \r\nQ 56.890625 40.328125 50.609375 34.8125 \r\nQ 44.34375 29.296875 32.078125 29.296875 \r\nL 19.671875 29.296875 \r\nL 19.671875 0 \r\nL 9.8125 0 \r\nz\r\n\" id=\"DejaVuSans-80\"/>\r\n       <path d=\"M 9.8125 72.90625 \r\nL 19.671875 72.90625 \r\nL 19.671875 8.296875 \r\nL 55.171875 8.296875 \r\nL 55.171875 0 \r\nL 9.8125 0 \r\nz\r\n\" id=\"DejaVuSans-76\"/>\r\n      </defs>\r\n      <use xlink:href=\"#DejaVuSans-65\"/>\r\n      <use x=\"71.158203\" xlink:href=\"#DejaVuSans-65\"/>\r\n      <use x=\"139.566406\" xlink:href=\"#DejaVuSans-80\"/>\r\n      <use x=\"199.869141\" xlink:href=\"#DejaVuSans-76\"/>\r\n     </g>\r\n    </g>\r\n    <g id=\"line2d_56\">\r\n     <path d=\"M 40.8 34.976562 \r\nL 60.8 34.976562 \r\n\" style=\"fill:none;stroke:#ff7f0e;stroke-linecap:square;stroke-width:1.5;\"/>\r\n    </g>\r\n    <g id=\"line2d_57\"/>\r\n    <g id=\"text_12\">\r\n     <!-- MSFT -->\r\n     <g transform=\"translate(68.8 38.476562)scale(0.1 -0.1)\">\r\n      <defs>\r\n       <path d=\"M 9.8125 72.90625 \r\nL 24.515625 72.90625 \r\nL 43.109375 23.296875 \r\nL 61.8125 72.90625 \r\nL 76.515625 72.90625 \r\nL 76.515625 0 \r\nL 66.890625 0 \r\nL 66.890625 64.015625 \r\nL 48.09375 14.015625 \r\nL 38.1875 14.015625 \r\nL 19.390625 64.015625 \r\nL 19.390625 0 \r\nL 9.8125 0 \r\nz\r\n\" id=\"DejaVuSans-77\"/>\r\n       <path d=\"M 53.515625 70.515625 \r\nL 53.515625 60.890625 \r\nQ 47.90625 63.578125 42.921875 64.890625 \r\nQ 37.9375 66.21875 33.296875 66.21875 \r\nQ 25.25 66.21875 20.875 63.09375 \r\nQ 16.5 59.96875 16.5 54.203125 \r\nQ 16.5 49.359375 19.40625 46.890625 \r\nQ 22.3125 44.4375 30.421875 42.921875 \r\nL 36.375 41.703125 \r\nQ 47.40625 39.59375 52.65625 34.296875 \r\nQ 57.90625 29 57.90625 20.125 \r\nQ 57.90625 9.515625 50.796875 4.046875 \r\nQ 43.703125 -1.421875 29.984375 -1.421875 \r\nQ 24.8125 -1.421875 18.96875 -0.25 \r\nQ 13.140625 0.921875 6.890625 3.21875 \r\nL 6.890625 13.375 \r\nQ 12.890625 10.015625 18.65625 8.296875 \r\nQ 24.421875 6.59375 29.984375 6.59375 \r\nQ 38.421875 6.59375 43.015625 9.90625 \r\nQ 47.609375 13.234375 47.609375 19.390625 \r\nQ 47.609375 24.75 44.3125 27.78125 \r\nQ 41.015625 30.8125 33.5 32.328125 \r\nL 27.484375 33.5 \r\nQ 16.453125 35.6875 11.515625 40.375 \r\nQ 6.59375 45.0625 6.59375 53.421875 \r\nQ 6.59375 63.09375 13.40625 68.65625 \r\nQ 20.21875 74.21875 32.171875 74.21875 \r\nQ 37.3125 74.21875 42.625 73.28125 \r\nQ 47.953125 72.359375 53.515625 70.515625 \r\nz\r\n\" id=\"DejaVuSans-83\"/>\r\n       <path d=\"M 9.8125 72.90625 \r\nL 51.703125 72.90625 \r\nL 51.703125 64.59375 \r\nL 19.671875 64.59375 \r\nL 19.671875 43.109375 \r\nL 48.578125 43.109375 \r\nL 48.578125 34.8125 \r\nL 19.671875 34.8125 \r\nL 19.671875 0 \r\nL 9.8125 0 \r\nz\r\n\" id=\"DejaVuSans-70\"/>\r\n       <path d=\"M -0.296875 72.90625 \r\nL 61.375 72.90625 \r\nL 61.375 64.59375 \r\nL 35.5 64.59375 \r\nL 35.5 0 \r\nL 25.59375 0 \r\nL 25.59375 64.59375 \r\nL -0.296875 64.59375 \r\nz\r\n\" id=\"DejaVuSans-84\"/>\r\n      </defs>\r\n      <use xlink:href=\"#DejaVuSans-77\"/>\r\n      <use x=\"86.279297\" xlink:href=\"#DejaVuSans-83\"/>\r\n      <use x=\"149.755859\" xlink:href=\"#DejaVuSans-70\"/>\r\n      <use x=\"205.525391\" xlink:href=\"#DejaVuSans-84\"/>\r\n     </g>\r\n    </g>\r\n    <g id=\"line2d_58\">\r\n     <path d=\"M 40.8 49.654687 \r\nL 60.8 49.654687 \r\n\" style=\"fill:none;stroke:#2ca02c;stroke-linecap:square;stroke-width:1.5;\"/>\r\n    </g>\r\n    <g id=\"line2d_59\"/>\r\n    <g id=\"text_13\">\r\n     <!-- XOM -->\r\n     <g transform=\"translate(68.8 53.154687)scale(0.1 -0.1)\">\r\n      <defs>\r\n       <path d=\"M 6.296875 72.90625 \r\nL 16.890625 72.90625 \r\nL 35.015625 45.796875 \r\nL 53.21875 72.90625 \r\nL 63.8125 72.90625 \r\nL 40.375 37.890625 \r\nL 65.375 0 \r\nL 54.78125 0 \r\nL 34.28125 31 \r\nL 13.625 0 \r\nL 2.984375 0 \r\nL 29 38.921875 \r\nz\r\n\" id=\"DejaVuSans-88\"/>\r\n       <path d=\"M 39.40625 66.21875 \r\nQ 28.65625 66.21875 22.328125 58.203125 \r\nQ 16.015625 50.203125 16.015625 36.375 \r\nQ 16.015625 22.609375 22.328125 14.59375 \r\nQ 28.65625 6.59375 39.40625 6.59375 \r\nQ 50.140625 6.59375 56.421875 14.59375 \r\nQ 62.703125 22.609375 62.703125 36.375 \r\nQ 62.703125 50.203125 56.421875 58.203125 \r\nQ 50.140625 66.21875 39.40625 66.21875 \r\nz\r\nM 39.40625 74.21875 \r\nQ 54.734375 74.21875 63.90625 63.9375 \r\nQ 73.09375 53.65625 73.09375 36.375 \r\nQ 73.09375 19.140625 63.90625 8.859375 \r\nQ 54.734375 -1.421875 39.40625 -1.421875 \r\nQ 24.03125 -1.421875 14.8125 8.828125 \r\nQ 5.609375 19.09375 5.609375 36.375 \r\nQ 5.609375 53.65625 14.8125 63.9375 \r\nQ 24.03125 74.21875 39.40625 74.21875 \r\nz\r\n\" id=\"DejaVuSans-79\"/>\r\n      </defs>\r\n      <use xlink:href=\"#DejaVuSans-88\"/>\r\n      <use x=\"62.130859\" xlink:href=\"#DejaVuSans-79\"/>\r\n      <use x=\"140.841797\" xlink:href=\"#DejaVuSans-77\"/>\r\n     </g>\r\n    </g>\r\n   </g>\r\n  </g>\r\n </g>\r\n <defs>\r\n  <clipPath id=\"p92df35f031\">\r\n   <rect height=\"217.44\" width=\"334.8\" x=\"31.8\" y=\"7.2\"/>\r\n  </clipPath>\r\n </defs>\r\n</svg>\r\n",
      "image/png": "[encoded data removed]"
     },
     "metadata": {
      "needs_background": "light"
     }
    }
   ],
   "source": [
    "close_px.expanding().mean().plot(logy=True)"
   ]
  },
  {
   "cell_type": "code",
   "execution_count": 268,
   "metadata": {},
   "outputs": [
    {
     "output_type": "execute_result",
     "data": {
      "text/plain": [
       "                  AAPL       MSFT        XOM\n",
       "2003-01-02    7.400000  21.110000  29.220000\n",
       "2003-01-03    7.425000  21.125000  29.230000\n",
       "2003-01-06    7.433333  21.256667  29.473333\n",
       "2003-01-07    7.432500  21.425000  29.342500\n",
       "2003-01-08    7.402000  21.402000  29.240000\n",
       "...                ...        ...        ...\n",
       "2011-10-10  389.351429  25.602143  72.527857\n",
       "2011-10-11  388.505000  25.674286  72.835000\n",
       "2011-10-12  388.531429  25.810000  73.400714\n",
       "2011-10-13  388.826429  25.961429  73.905000\n",
       "2011-10-14  391.038000  26.048667  74.185333\n",
       "\n",
       "[2292 rows x 3 columns]"
      ],
      "text/html": "<div>\n<style scoped>\n    .dataframe tbody tr th:only-of-type {\n        vertical-align: middle;\n    }\n\n    .dataframe tbody tr th {\n        vertical-align: top;\n    }\n\n    .dataframe thead th {\n        text-align: right;\n    }\n</style>\n<table border=\"1\" class=\"dataframe\">\n  <thead>\n    <tr style=\"text-align: right;\">\n      <th></th>\n      <th>AAPL</th>\n      <th>MSFT</th>\n      <th>XOM</th>\n    </tr>\n  </thead>\n  <tbody>\n    <tr>\n      <th>2003-01-02</th>\n      <td>7.400000</td>\n      <td>21.110000</td>\n      <td>29.220000</td>\n    </tr>\n    <tr>\n      <th>2003-01-03</th>\n      <td>7.425000</td>\n      <td>21.125000</td>\n      <td>29.230000</td>\n    </tr>\n    <tr>\n      <th>2003-01-06</th>\n      <td>7.433333</td>\n      <td>21.256667</td>\n      <td>29.473333</td>\n    </tr>\n    <tr>\n      <th>2003-01-07</th>\n      <td>7.432500</td>\n      <td>21.425000</td>\n      <td>29.342500</td>\n    </tr>\n    <tr>\n      <th>2003-01-08</th>\n      <td>7.402000</td>\n      <td>21.402000</td>\n      <td>29.240000</td>\n    </tr>\n    <tr>\n      <th>...</th>\n      <td>...</td>\n      <td>...</td>\n      <td>...</td>\n    </tr>\n    <tr>\n      <th>2011-10-10</th>\n      <td>389.351429</td>\n      <td>25.602143</td>\n      <td>72.527857</td>\n    </tr>\n    <tr>\n      <th>2011-10-11</th>\n      <td>388.505000</td>\n      <td>25.674286</td>\n      <td>72.835000</td>\n    </tr>\n    <tr>\n      <th>2011-10-12</th>\n      <td>388.531429</td>\n      <td>25.810000</td>\n      <td>73.400714</td>\n    </tr>\n    <tr>\n      <th>2011-10-13</th>\n      <td>388.826429</td>\n      <td>25.961429</td>\n      <td>73.905000</td>\n    </tr>\n    <tr>\n      <th>2011-10-14</th>\n      <td>391.038000</td>\n      <td>26.048667</td>\n      <td>74.185333</td>\n    </tr>\n  </tbody>\n</table>\n<p>2292 rows × 3 columns</p>\n</div>"
     },
     "metadata": {},
     "execution_count": 268
    }
   ],
   "source": [
    "close_px.rolling('20D').mean()"
   ]
  },
  {
   "source": [
    "## EXPONENTIALLY WEIGHTED FUNCTIONS"
   ],
   "cell_type": "markdown",
   "metadata": {}
  },
  {
   "cell_type": "code",
   "execution_count": 269,
   "metadata": {},
   "outputs": [],
   "source": [
    "aapl_px = close_px.AAPL['2006':'2007']"
   ]
  },
  {
   "cell_type": "code",
   "execution_count": 270,
   "metadata": {},
   "outputs": [],
   "source": [
    "ma60 = aapl_px.rolling(30, min_periods=20).mean()"
   ]
  },
  {
   "cell_type": "code",
   "execution_count": 271,
   "metadata": {},
   "outputs": [],
   "source": [
    "ewma60 = aapl_px.ewm(span=30).mean()"
   ]
  },
  {
   "cell_type": "code",
   "execution_count": 275,
   "metadata": {},
   "outputs": [
    {
     "output_type": "execute_result",
     "data": {
      "text/plain": [
       "<AxesSubplot:>"
      ]
     },
     "metadata": {},
     "execution_count": 275
    },
    {
     "output_type": "display_data",
     "data": {
      "text/plain": "<Figure size 432x288 with 1 Axes>",
      "image/svg+xml": "<?xml version=\"1.0\" encoding=\"utf-8\" standalone=\"no\"?>\r\n<!DOCTYPE svg PUBLIC \"-//W3C//DTD SVG 1.1//EN\"\r\n  \"http://www.w3.org/Graphics/SVG/1.1/DTD/svg11.dtd\">\r\n<!-- Created with matplotlib (https://matplotlib.org/) -->\r\n<svg height=\"259.715937pt\" version=\"1.1\" viewBox=\"0 0 375.2875 259.715937\" width=\"375.2875pt\" xmlns=\"http://www.w3.org/2000/svg\" xmlns:xlink=\"http://www.w3.org/1999/xlink\">\r\n <metadata>\r\n  <rdf:RDF xmlns:cc=\"http://creativecommons.org/ns#\" xmlns:dc=\"http://purl.org/dc/elements/1.1/\" xmlns:rdf=\"http://www.w3.org/1999/02/22-rdf-syntax-ns#\">\r\n   <cc:Work>\r\n    <dc:type rdf:resource=\"http://purl.org/dc/dcmitype/StillImage\"/>\r\n    <dc:date>2021-05-11T11:36:42.572134</dc:date>\r\n    <dc:format>image/svg+xml</dc:format>\r\n    <dc:creator>\r\n     <cc:Agent>\r\n      <dc:title>Matplotlib v3.3.2, https://matplotlib.org/</dc:title>\r\n     </cc:Agent>\r\n    </dc:creator>\r\n   </cc:Work>\r\n  </rdf:RDF>\r\n </metadata>\r\n <defs>\r\n  <style type=\"text/css\">*{stroke-linecap:butt;stroke-linejoin:round;}</style>\r\n </defs>\r\n <g id=\"figure_1\">\r\n  <g id=\"patch_1\">\r\n   <path d=\"M 0 259.715937 \r\nL 375.2875 259.715937 \r\nL 375.2875 0 \r\nL 0 0 \r\nz\r\n\" style=\"fill:none;\"/>\r\n  </g>\r\n  <g id=\"axes_1\">\r\n   <g id=\"patch_2\">\r\n    <path d=\"M 33.2875 224.64 \r\nL 368.0875 224.64 \r\nL 368.0875 7.2 \r\nL 33.2875 7.2 \r\nz\r\n\" style=\"fill:#ffffff;\"/>\r\n   </g>\r\n   <g id=\"matplotlib.axis_1\">\r\n    <g id=\"xtick_1\">\r\n     <g id=\"line2d_1\">\r\n      <defs>\r\n       <path d=\"M 0 0 \r\nL 0 3.5 \r\n\" id=\"md6d5c44a8c\" style=\"stroke:#000000;stroke-width:0.8;\"/>\r\n      </defs>\r\n      <g>\r\n       <use style=\"stroke:#000000;stroke-width:0.8;\" x=\"33.2875\" xlink:href=\"#md6d5c44a8c\" y=\"224.64\"/>\r\n      </g>\r\n     </g>\r\n     <g id=\"text_1\">\r\n      <!-- Jan -->\r\n      <g transform=\"translate(25.579688 239.238438)scale(0.1 -0.1)\">\r\n       <defs>\r\n        <path d=\"M 9.8125 72.90625 \r\nL 19.671875 72.90625 \r\nL 19.671875 5.078125 \r\nQ 19.671875 -8.109375 14.671875 -14.0625 \r\nQ 9.671875 -20.015625 -1.421875 -20.015625 \r\nL -5.171875 -20.015625 \r\nL -5.171875 -11.71875 \r\nL -2.09375 -11.71875 \r\nQ 4.4375 -11.71875 7.125 -8.046875 \r\nQ 9.8125 -4.390625 9.8125 5.078125 \r\nz\r\n\" id=\"DejaVuSans-74\"/>\r\n        <path d=\"M 34.28125 27.484375 \r\nQ 23.390625 27.484375 19.1875 25 \r\nQ 14.984375 22.515625 14.984375 16.5 \r\nQ 14.984375 11.71875 18.140625 8.90625 \r\nQ 21.296875 6.109375 26.703125 6.109375 \r\nQ 34.1875 6.109375 38.703125 11.40625 \r\nQ 43.21875 16.703125 43.21875 25.484375 \r\nL 43.21875 27.484375 \r\nz\r\nM 52.203125 31.203125 \r\nL 52.203125 0 \r\nL 43.21875 0 \r\nL 43.21875 8.296875 \r\nQ 40.140625 3.328125 35.546875 0.953125 \r\nQ 30.953125 -1.421875 24.3125 -1.421875 \r\nQ 15.921875 -1.421875 10.953125 3.296875 \r\nQ 6 8.015625 6 15.921875 \r\nQ 6 25.140625 12.171875 29.828125 \r\nQ 18.359375 34.515625 30.609375 34.515625 \r\nL 43.21875 34.515625 \r\nL 43.21875 35.40625 \r\nQ 43.21875 41.609375 39.140625 45 \r\nQ 35.0625 48.390625 27.6875 48.390625 \r\nQ 23 48.390625 18.546875 47.265625 \r\nQ 14.109375 46.140625 10.015625 43.890625 \r\nL 10.015625 52.203125 \r\nQ 14.9375 54.109375 19.578125 55.046875 \r\nQ 24.21875 56 28.609375 56 \r\nQ 40.484375 56 46.34375 49.84375 \r\nQ 52.203125 43.703125 52.203125 31.203125 \r\nz\r\n\" id=\"DejaVuSans-97\"/>\r\n        <path d=\"M 54.890625 33.015625 \r\nL 54.890625 0 \r\nL 45.90625 0 \r\nL 45.90625 32.71875 \r\nQ 45.90625 40.484375 42.875 44.328125 \r\nQ 39.84375 48.1875 33.796875 48.1875 \r\nQ 26.515625 48.1875 22.3125 43.546875 \r\nQ 18.109375 38.921875 18.109375 30.90625 \r\nL 18.109375 0 \r\nL 9.078125 0 \r\nL 9.078125 54.6875 \r\nL 18.109375 54.6875 \r\nL 18.109375 46.1875 \r\nQ 21.34375 51.125 25.703125 53.5625 \r\nQ 30.078125 56 35.796875 56 \r\nQ 45.21875 56 50.046875 50.171875 \r\nQ 54.890625 44.34375 54.890625 33.015625 \r\nz\r\n\" id=\"DejaVuSans-110\"/>\r\n       </defs>\r\n       <use xlink:href=\"#DejaVuSans-74\"/>\r\n       <use x=\"29.492188\" xlink:href=\"#DejaVuSans-97\"/>\r\n       <use x=\"90.771484\" xlink:href=\"#DejaVuSans-110\"/>\r\n      </g>\r\n      <!-- 2006 -->\r\n      <g transform=\"translate(20.5625 250.43625)scale(0.1 -0.1)\">\r\n       <defs>\r\n        <path d=\"M 19.1875 8.296875 \r\nL 53.609375 8.296875 \r\nL 53.609375 0 \r\nL 7.328125 0 \r\nL 7.328125 8.296875 \r\nQ 12.9375 14.109375 22.625 23.890625 \r\nQ 32.328125 33.6875 34.8125 36.53125 \r\nQ 39.546875 41.84375 41.421875 45.53125 \r\nQ 43.3125 49.21875 43.3125 52.78125 \r\nQ 43.3125 58.59375 39.234375 62.25 \r\nQ 35.15625 65.921875 28.609375 65.921875 \r\nQ 23.96875 65.921875 18.8125 64.3125 \r\nQ 13.671875 62.703125 7.8125 59.421875 \r\nL 7.8125 69.390625 \r\nQ 13.765625 71.78125 18.9375 73 \r\nQ 24.125 74.21875 28.421875 74.21875 \r\nQ 39.75 74.21875 46.484375 68.546875 \r\nQ 53.21875 62.890625 53.21875 53.421875 \r\nQ 53.21875 48.921875 51.53125 44.890625 \r\nQ 49.859375 40.875 45.40625 35.40625 \r\nQ 44.1875 33.984375 37.640625 27.21875 \r\nQ 31.109375 20.453125 19.1875 8.296875 \r\nz\r\n\" id=\"DejaVuSans-50\"/>\r\n        <path d=\"M 31.78125 66.40625 \r\nQ 24.171875 66.40625 20.328125 58.90625 \r\nQ 16.5 51.421875 16.5 36.375 \r\nQ 16.5 21.390625 20.328125 13.890625 \r\nQ 24.171875 6.390625 31.78125 6.390625 \r\nQ 39.453125 6.390625 43.28125 13.890625 \r\nQ 47.125 21.390625 47.125 36.375 \r\nQ 47.125 51.421875 43.28125 58.90625 \r\nQ 39.453125 66.40625 31.78125 66.40625 \r\nz\r\nM 31.78125 74.21875 \r\nQ 44.046875 74.21875 50.515625 64.515625 \r\nQ 56.984375 54.828125 56.984375 36.375 \r\nQ 56.984375 17.96875 50.515625 8.265625 \r\nQ 44.046875 -1.421875 31.78125 -1.421875 \r\nQ 19.53125 -1.421875 13.0625 8.265625 \r\nQ 6.59375 17.96875 6.59375 36.375 \r\nQ 6.59375 54.828125 13.0625 64.515625 \r\nQ 19.53125 74.21875 31.78125 74.21875 \r\nz\r\n\" id=\"DejaVuSans-48\"/>\r\n        <path d=\"M 33.015625 40.375 \r\nQ 26.375 40.375 22.484375 35.828125 \r\nQ 18.609375 31.296875 18.609375 23.390625 \r\nQ 18.609375 15.53125 22.484375 10.953125 \r\nQ 26.375 6.390625 33.015625 6.390625 \r\nQ 39.65625 6.390625 43.53125 10.953125 \r\nQ 47.40625 15.53125 47.40625 23.390625 \r\nQ 47.40625 31.296875 43.53125 35.828125 \r\nQ 39.65625 40.375 33.015625 40.375 \r\nz\r\nM 52.59375 71.296875 \r\nL 52.59375 62.3125 \r\nQ 48.875 64.0625 45.09375 64.984375 \r\nQ 41.3125 65.921875 37.59375 65.921875 \r\nQ 27.828125 65.921875 22.671875 59.328125 \r\nQ 17.53125 52.734375 16.796875 39.40625 \r\nQ 19.671875 43.65625 24.015625 45.921875 \r\nQ 28.375 48.1875 33.59375 48.1875 \r\nQ 44.578125 48.1875 50.953125 41.515625 \r\nQ 57.328125 34.859375 57.328125 23.390625 \r\nQ 57.328125 12.15625 50.6875 5.359375 \r\nQ 44.046875 -1.421875 33.015625 -1.421875 \r\nQ 20.359375 -1.421875 13.671875 8.265625 \r\nQ 6.984375 17.96875 6.984375 36.375 \r\nQ 6.984375 53.65625 15.1875 63.9375 \r\nQ 23.390625 74.21875 37.203125 74.21875 \r\nQ 40.921875 74.21875 44.703125 73.484375 \r\nQ 48.484375 72.75 52.59375 71.296875 \r\nz\r\n\" id=\"DejaVuSans-54\"/>\r\n       </defs>\r\n       <use xlink:href=\"#DejaVuSans-50\"/>\r\n       <use x=\"63.623047\" xlink:href=\"#DejaVuSans-48\"/>\r\n       <use x=\"127.246094\" xlink:href=\"#DejaVuSans-48\"/>\r\n       <use x=\"190.869141\" xlink:href=\"#DejaVuSans-54\"/>\r\n      </g>\r\n     </g>\r\n    </g>\r\n    <g id=\"xtick_2\">\r\n     <g id=\"line2d_2\">\r\n      <g>\r\n       <use style=\"stroke:#000000;stroke-width:0.8;\" x=\"75.1375\" xlink:href=\"#md6d5c44a8c\" y=\"224.64\"/>\r\n      </g>\r\n     </g>\r\n     <g id=\"text_2\">\r\n      <!-- Apr -->\r\n      <g transform=\"translate(66.4875 239.238438)scale(0.1 -0.1)\">\r\n       <defs>\r\n        <path d=\"M 34.1875 63.1875 \r\nL 20.796875 26.90625 \r\nL 47.609375 26.90625 \r\nz\r\nM 28.609375 72.90625 \r\nL 39.796875 72.90625 \r\nL 67.578125 0 \r\nL 57.328125 0 \r\nL 50.6875 18.703125 \r\nL 17.828125 18.703125 \r\nL 11.1875 0 \r\nL 0.78125 0 \r\nz\r\n\" id=\"DejaVuSans-65\"/>\r\n        <path d=\"M 18.109375 8.203125 \r\nL 18.109375 -20.796875 \r\nL 9.078125 -20.796875 \r\nL 9.078125 54.6875 \r\nL 18.109375 54.6875 \r\nL 18.109375 46.390625 \r\nQ 20.953125 51.265625 25.265625 53.625 \r\nQ 29.59375 56 35.59375 56 \r\nQ 45.5625 56 51.78125 48.09375 \r\nQ 58.015625 40.1875 58.015625 27.296875 \r\nQ 58.015625 14.40625 51.78125 6.484375 \r\nQ 45.5625 -1.421875 35.59375 -1.421875 \r\nQ 29.59375 -1.421875 25.265625 0.953125 \r\nQ 20.953125 3.328125 18.109375 8.203125 \r\nz\r\nM 48.6875 27.296875 \r\nQ 48.6875 37.203125 44.609375 42.84375 \r\nQ 40.53125 48.484375 33.40625 48.484375 \r\nQ 26.265625 48.484375 22.1875 42.84375 \r\nQ 18.109375 37.203125 18.109375 27.296875 \r\nQ 18.109375 17.390625 22.1875 11.75 \r\nQ 26.265625 6.109375 33.40625 6.109375 \r\nQ 40.53125 6.109375 44.609375 11.75 \r\nQ 48.6875 17.390625 48.6875 27.296875 \r\nz\r\n\" id=\"DejaVuSans-112\"/>\r\n        <path d=\"M 41.109375 46.296875 \r\nQ 39.59375 47.171875 37.8125 47.578125 \r\nQ 36.03125 48 33.890625 48 \r\nQ 26.265625 48 22.1875 43.046875 \r\nQ 18.109375 38.09375 18.109375 28.8125 \r\nL 18.109375 0 \r\nL 9.078125 0 \r\nL 9.078125 54.6875 \r\nL 18.109375 54.6875 \r\nL 18.109375 46.1875 \r\nQ 20.953125 51.171875 25.484375 53.578125 \r\nQ 30.03125 56 36.53125 56 \r\nQ 37.453125 56 38.578125 55.875 \r\nQ 39.703125 55.765625 41.0625 55.515625 \r\nz\r\n\" id=\"DejaVuSans-114\"/>\r\n       </defs>\r\n       <use xlink:href=\"#DejaVuSans-65\"/>\r\n       <use x=\"68.408203\" xlink:href=\"#DejaVuSans-112\"/>\r\n       <use x=\"131.884766\" xlink:href=\"#DejaVuSans-114\"/>\r\n      </g>\r\n     </g>\r\n    </g>\r\n    <g id=\"xtick_3\">\r\n     <g id=\"line2d_3\">\r\n      <g>\r\n       <use style=\"stroke:#000000;stroke-width:0.8;\" x=\"116.9875\" xlink:href=\"#md6d5c44a8c\" y=\"224.64\"/>\r\n      </g>\r\n     </g>\r\n     <g id=\"text_3\">\r\n      <!-- Jul -->\r\n      <g transform=\"translate(110.954688 239.238438)scale(0.1 -0.1)\">\r\n       <defs>\r\n        <path d=\"M 8.5 21.578125 \r\nL 8.5 54.6875 \r\nL 17.484375 54.6875 \r\nL 17.484375 21.921875 \r\nQ 17.484375 14.15625 20.5 10.265625 \r\nQ 23.53125 6.390625 29.59375 6.390625 \r\nQ 36.859375 6.390625 41.078125 11.03125 \r\nQ 45.3125 15.671875 45.3125 23.6875 \r\nL 45.3125 54.6875 \r\nL 54.296875 54.6875 \r\nL 54.296875 0 \r\nL 45.3125 0 \r\nL 45.3125 8.40625 \r\nQ 42.046875 3.421875 37.71875 1 \r\nQ 33.40625 -1.421875 27.6875 -1.421875 \r\nQ 18.265625 -1.421875 13.375 4.4375 \r\nQ 8.5 10.296875 8.5 21.578125 \r\nz\r\nM 31.109375 56 \r\nz\r\n\" id=\"DejaVuSans-117\"/>\r\n        <path d=\"M 9.421875 75.984375 \r\nL 18.40625 75.984375 \r\nL 18.40625 0 \r\nL 9.421875 0 \r\nz\r\n\" id=\"DejaVuSans-108\"/>\r\n       </defs>\r\n       <use xlink:href=\"#DejaVuSans-74\"/>\r\n       <use x=\"29.492188\" xlink:href=\"#DejaVuSans-117\"/>\r\n       <use x=\"92.871094\" xlink:href=\"#DejaVuSans-108\"/>\r\n      </g>\r\n     </g>\r\n    </g>\r\n    <g id=\"xtick_4\">\r\n     <g id=\"line2d_4\">\r\n      <g>\r\n       <use style=\"stroke:#000000;stroke-width:0.8;\" x=\"158.8375\" xlink:href=\"#md6d5c44a8c\" y=\"224.64\"/>\r\n      </g>\r\n     </g>\r\n     <g id=\"text_4\">\r\n      <!-- Oct -->\r\n      <g transform=\"translate(150.192188 239.238438)scale(0.1 -0.1)\">\r\n       <defs>\r\n        <path d=\"M 39.40625 66.21875 \r\nQ 28.65625 66.21875 22.328125 58.203125 \r\nQ 16.015625 50.203125 16.015625 36.375 \r\nQ 16.015625 22.609375 22.328125 14.59375 \r\nQ 28.65625 6.59375 39.40625 6.59375 \r\nQ 50.140625 6.59375 56.421875 14.59375 \r\nQ 62.703125 22.609375 62.703125 36.375 \r\nQ 62.703125 50.203125 56.421875 58.203125 \r\nQ 50.140625 66.21875 39.40625 66.21875 \r\nz\r\nM 39.40625 74.21875 \r\nQ 54.734375 74.21875 63.90625 63.9375 \r\nQ 73.09375 53.65625 73.09375 36.375 \r\nQ 73.09375 19.140625 63.90625 8.859375 \r\nQ 54.734375 -1.421875 39.40625 -1.421875 \r\nQ 24.03125 -1.421875 14.8125 8.828125 \r\nQ 5.609375 19.09375 5.609375 36.375 \r\nQ 5.609375 53.65625 14.8125 63.9375 \r\nQ 24.03125 74.21875 39.40625 74.21875 \r\nz\r\n\" id=\"DejaVuSans-79\"/>\r\n        <path d=\"M 48.78125 52.59375 \r\nL 48.78125 44.1875 \r\nQ 44.96875 46.296875 41.140625 47.34375 \r\nQ 37.3125 48.390625 33.40625 48.390625 \r\nQ 24.65625 48.390625 19.8125 42.84375 \r\nQ 14.984375 37.3125 14.984375 27.296875 \r\nQ 14.984375 17.28125 19.8125 11.734375 \r\nQ 24.65625 6.203125 33.40625 6.203125 \r\nQ 37.3125 6.203125 41.140625 7.25 \r\nQ 44.96875 8.296875 48.78125 10.40625 \r\nL 48.78125 2.09375 \r\nQ 45.015625 0.34375 40.984375 -0.53125 \r\nQ 36.96875 -1.421875 32.421875 -1.421875 \r\nQ 20.0625 -1.421875 12.78125 6.34375 \r\nQ 5.515625 14.109375 5.515625 27.296875 \r\nQ 5.515625 40.671875 12.859375 48.328125 \r\nQ 20.21875 56 33.015625 56 \r\nQ 37.15625 56 41.109375 55.140625 \r\nQ 45.0625 54.296875 48.78125 52.59375 \r\nz\r\n\" id=\"DejaVuSans-99\"/>\r\n        <path d=\"M 18.3125 70.21875 \r\nL 18.3125 54.6875 \r\nL 36.8125 54.6875 \r\nL 36.8125 47.703125 \r\nL 18.3125 47.703125 \r\nL 18.3125 18.015625 \r\nQ 18.3125 11.328125 20.140625 9.421875 \r\nQ 21.96875 7.515625 27.59375 7.515625 \r\nL 36.8125 7.515625 \r\nL 36.8125 0 \r\nL 27.59375 0 \r\nQ 17.1875 0 13.234375 3.875 \r\nQ 9.28125 7.765625 9.28125 18.015625 \r\nL 9.28125 47.703125 \r\nL 2.6875 47.703125 \r\nL 2.6875 54.6875 \r\nL 9.28125 54.6875 \r\nL 9.28125 70.21875 \r\nz\r\n\" id=\"DejaVuSans-116\"/>\r\n       </defs>\r\n       <use xlink:href=\"#DejaVuSans-79\"/>\r\n       <use x=\"78.710938\" xlink:href=\"#DejaVuSans-99\"/>\r\n       <use x=\"133.691406\" xlink:href=\"#DejaVuSans-116\"/>\r\n      </g>\r\n     </g>\r\n    </g>\r\n    <g id=\"xtick_5\">\r\n     <g id=\"line2d_5\">\r\n      <g>\r\n       <use style=\"stroke:#000000;stroke-width:0.8;\" x=\"200.6875\" xlink:href=\"#md6d5c44a8c\" y=\"224.64\"/>\r\n      </g>\r\n     </g>\r\n     <g id=\"text_5\">\r\n      <!-- Jan -->\r\n      <g transform=\"translate(192.979688 239.238438)scale(0.1 -0.1)\">\r\n       <use xlink:href=\"#DejaVuSans-74\"/>\r\n       <use x=\"29.492188\" xlink:href=\"#DejaVuSans-97\"/>\r\n       <use x=\"90.771484\" xlink:href=\"#DejaVuSans-110\"/>\r\n      </g>\r\n      <!-- 2007 -->\r\n      <g transform=\"translate(187.9625 250.43625)scale(0.1 -0.1)\">\r\n       <defs>\r\n        <path d=\"M 8.203125 72.90625 \r\nL 55.078125 72.90625 \r\nL 55.078125 68.703125 \r\nL 28.609375 0 \r\nL 18.3125 0 \r\nL 43.21875 64.59375 \r\nL 8.203125 64.59375 \r\nz\r\n\" id=\"DejaVuSans-55\"/>\r\n       </defs>\r\n       <use xlink:href=\"#DejaVuSans-50\"/>\r\n       <use x=\"63.623047\" xlink:href=\"#DejaVuSans-48\"/>\r\n       <use x=\"127.246094\" xlink:href=\"#DejaVuSans-48\"/>\r\n       <use x=\"190.869141\" xlink:href=\"#DejaVuSans-55\"/>\r\n      </g>\r\n     </g>\r\n    </g>\r\n    <g id=\"xtick_6\">\r\n     <g id=\"line2d_6\">\r\n      <g>\r\n       <use style=\"stroke:#000000;stroke-width:0.8;\" x=\"242.5375\" xlink:href=\"#md6d5c44a8c\" y=\"224.64\"/>\r\n      </g>\r\n     </g>\r\n     <g id=\"text_6\">\r\n      <!-- Apr -->\r\n      <g transform=\"translate(233.8875 239.238438)scale(0.1 -0.1)\">\r\n       <use xlink:href=\"#DejaVuSans-65\"/>\r\n       <use x=\"68.408203\" xlink:href=\"#DejaVuSans-112\"/>\r\n       <use x=\"131.884766\" xlink:href=\"#DejaVuSans-114\"/>\r\n      </g>\r\n     </g>\r\n    </g>\r\n    <g id=\"xtick_7\">\r\n     <g id=\"line2d_7\">\r\n      <g>\r\n       <use style=\"stroke:#000000;stroke-width:0.8;\" x=\"284.3875\" xlink:href=\"#md6d5c44a8c\" y=\"224.64\"/>\r\n      </g>\r\n     </g>\r\n     <g id=\"text_7\">\r\n      <!-- Jul -->\r\n      <g transform=\"translate(278.354688 239.238438)scale(0.1 -0.1)\">\r\n       <use xlink:href=\"#DejaVuSans-74\"/>\r\n       <use x=\"29.492188\" xlink:href=\"#DejaVuSans-117\"/>\r\n       <use x=\"92.871094\" xlink:href=\"#DejaVuSans-108\"/>\r\n      </g>\r\n     </g>\r\n    </g>\r\n    <g id=\"xtick_8\">\r\n     <g id=\"line2d_8\">\r\n      <g>\r\n       <use style=\"stroke:#000000;stroke-width:0.8;\" x=\"326.2375\" xlink:href=\"#md6d5c44a8c\" y=\"224.64\"/>\r\n      </g>\r\n     </g>\r\n     <g id=\"text_8\">\r\n      <!-- Oct -->\r\n      <g transform=\"translate(317.592188 239.238438)scale(0.1 -0.1)\">\r\n       <use xlink:href=\"#DejaVuSans-79\"/>\r\n       <use x=\"78.710938\" xlink:href=\"#DejaVuSans-99\"/>\r\n       <use x=\"133.691406\" xlink:href=\"#DejaVuSans-116\"/>\r\n      </g>\r\n     </g>\r\n    </g>\r\n    <g id=\"xtick_9\">\r\n     <g id=\"line2d_9\">\r\n      <g>\r\n       <use style=\"stroke:#000000;stroke-width:0.8;\" x=\"368.0875\" xlink:href=\"#md6d5c44a8c\" y=\"224.64\"/>\r\n      </g>\r\n     </g>\r\n    </g>\r\n    <g id=\"xtick_10\">\r\n     <g id=\"line2d_10\">\r\n      <defs>\r\n       <path d=\"M 0 0 \r\nL 0 2 \r\n\" id=\"mae5ed798b9\" style=\"stroke:#000000;stroke-width:0.6;\"/>\r\n      </defs>\r\n      <g>\r\n       <use style=\"stroke:#000000;stroke-width:0.6;\" x=\"47.452115\" xlink:href=\"#mae5ed798b9\" y=\"224.64\"/>\r\n      </g>\r\n     </g>\r\n    </g>\r\n    <g id=\"xtick_11\">\r\n     <g id=\"line2d_11\">\r\n      <g>\r\n       <use style=\"stroke:#000000;stroke-width:0.6;\" x=\"60.329038\" xlink:href=\"#mae5ed798b9\" y=\"224.64\"/>\r\n      </g>\r\n     </g>\r\n    </g>\r\n    <g id=\"xtick_12\">\r\n     <g id=\"line2d_12\">\r\n      <g>\r\n       <use style=\"stroke:#000000;stroke-width:0.6;\" x=\"88.014423\" xlink:href=\"#mae5ed798b9\" y=\"224.64\"/>\r\n      </g>\r\n     </g>\r\n    </g>\r\n    <g id=\"xtick_13\">\r\n     <g id=\"line2d_13\">\r\n      <g>\r\n       <use style=\"stroke:#000000;stroke-width:0.6;\" x=\"102.822885\" xlink:href=\"#mae5ed798b9\" y=\"224.64\"/>\r\n      </g>\r\n     </g>\r\n    </g>\r\n    <g id=\"xtick_14\">\r\n     <g id=\"line2d_14\">\r\n      <g>\r\n       <use style=\"stroke:#000000;stroke-width:0.6;\" x=\"130.508269\" xlink:href=\"#mae5ed798b9\" y=\"224.64\"/>\r\n      </g>\r\n     </g>\r\n    </g>\r\n    <g id=\"xtick_15\">\r\n     <g id=\"line2d_15\">\r\n      <g>\r\n       <use style=\"stroke:#000000;stroke-width:0.6;\" x=\"145.316731\" xlink:href=\"#mae5ed798b9\" y=\"224.64\"/>\r\n      </g>\r\n     </g>\r\n    </g>\r\n    <g id=\"xtick_16\">\r\n     <g id=\"line2d_16\">\r\n      <g>\r\n       <use style=\"stroke:#000000;stroke-width:0.6;\" x=\"173.002115\" xlink:href=\"#mae5ed798b9\" y=\"224.64\"/>\r\n      </g>\r\n     </g>\r\n    </g>\r\n    <g id=\"xtick_17\">\r\n     <g id=\"line2d_17\">\r\n      <g>\r\n       <use style=\"stroke:#000000;stroke-width:0.6;\" x=\"187.166731\" xlink:href=\"#mae5ed798b9\" y=\"224.64\"/>\r\n      </g>\r\n     </g>\r\n    </g>\r\n    <g id=\"xtick_18\">\r\n     <g id=\"line2d_18\">\r\n      <g>\r\n       <use style=\"stroke:#000000;stroke-width:0.6;\" x=\"215.495962\" xlink:href=\"#mae5ed798b9\" y=\"224.64\"/>\r\n      </g>\r\n     </g>\r\n    </g>\r\n    <g id=\"xtick_19\">\r\n     <g id=\"line2d_19\">\r\n      <g>\r\n       <use style=\"stroke:#000000;stroke-width:0.6;\" x=\"228.372885\" xlink:href=\"#mae5ed798b9\" y=\"224.64\"/>\r\n      </g>\r\n     </g>\r\n    </g>\r\n    <g id=\"xtick_20\">\r\n     <g id=\"line2d_20\">\r\n      <g>\r\n       <use style=\"stroke:#000000;stroke-width:0.6;\" x=\"256.058269\" xlink:href=\"#mae5ed798b9\" y=\"224.64\"/>\r\n      </g>\r\n     </g>\r\n    </g>\r\n    <g id=\"xtick_21\">\r\n     <g id=\"line2d_21\">\r\n      <g>\r\n       <use style=\"stroke:#000000;stroke-width:0.6;\" x=\"270.866731\" xlink:href=\"#mae5ed798b9\" y=\"224.64\"/>\r\n      </g>\r\n     </g>\r\n    </g>\r\n    <g id=\"xtick_22\">\r\n     <g id=\"line2d_22\">\r\n      <g>\r\n       <use style=\"stroke:#000000;stroke-width:0.6;\" x=\"298.552115\" xlink:href=\"#mae5ed798b9\" y=\"224.64\"/>\r\n      </g>\r\n     </g>\r\n    </g>\r\n    <g id=\"xtick_23\">\r\n     <g id=\"line2d_23\">\r\n      <g>\r\n       <use style=\"stroke:#000000;stroke-width:0.6;\" x=\"313.360577\" xlink:href=\"#mae5ed798b9\" y=\"224.64\"/>\r\n      </g>\r\n     </g>\r\n    </g>\r\n    <g id=\"xtick_24\">\r\n     <g id=\"line2d_24\">\r\n      <g>\r\n       <use style=\"stroke:#000000;stroke-width:0.6;\" x=\"341.045962\" xlink:href=\"#mae5ed798b9\" y=\"224.64\"/>\r\n      </g>\r\n     </g>\r\n    </g>\r\n    <g id=\"xtick_25\">\r\n     <g id=\"line2d_25\">\r\n      <g>\r\n       <use style=\"stroke:#000000;stroke-width:0.6;\" x=\"355.210577\" xlink:href=\"#mae5ed798b9\" y=\"224.64\"/>\r\n      </g>\r\n     </g>\r\n    </g>\r\n   </g>\r\n   <g id=\"matplotlib.axis_2\">\r\n    <g id=\"ytick_1\">\r\n     <g id=\"line2d_26\">\r\n      <defs>\r\n       <path d=\"M 0 0 \r\nL -3.5 0 \r\n\" id=\"m89d64e29bc\" style=\"stroke:#000000;stroke-width:0.8;\"/>\r\n      </defs>\r\n      <g>\r\n       <use style=\"stroke:#000000;stroke-width:0.8;\" x=\"33.2875\" xlink:href=\"#m89d64e29bc\" y=\"202.391879\"/>\r\n      </g>\r\n     </g>\r\n     <g id=\"text_9\">\r\n      <!-- 60 -->\r\n      <g transform=\"translate(13.5625 206.191098)scale(0.1 -0.1)\">\r\n       <use xlink:href=\"#DejaVuSans-54\"/>\r\n       <use x=\"63.623047\" xlink:href=\"#DejaVuSans-48\"/>\r\n      </g>\r\n     </g>\r\n    </g>\r\n    <g id=\"ytick_2\">\r\n     <g id=\"line2d_27\">\r\n      <g>\r\n       <use style=\"stroke:#000000;stroke-width:0.8;\" x=\"33.2875\" xlink:href=\"#m89d64e29bc\" y=\"175.887088\"/>\r\n      </g>\r\n     </g>\r\n     <g id=\"text_10\">\r\n      <!-- 80 -->\r\n      <g transform=\"translate(13.5625 179.686307)scale(0.1 -0.1)\">\r\n       <defs>\r\n        <path d=\"M 31.78125 34.625 \r\nQ 24.75 34.625 20.71875 30.859375 \r\nQ 16.703125 27.09375 16.703125 20.515625 \r\nQ 16.703125 13.921875 20.71875 10.15625 \r\nQ 24.75 6.390625 31.78125 6.390625 \r\nQ 38.8125 6.390625 42.859375 10.171875 \r\nQ 46.921875 13.96875 46.921875 20.515625 \r\nQ 46.921875 27.09375 42.890625 30.859375 \r\nQ 38.875 34.625 31.78125 34.625 \r\nz\r\nM 21.921875 38.8125 \r\nQ 15.578125 40.375 12.03125 44.71875 \r\nQ 8.5 49.078125 8.5 55.328125 \r\nQ 8.5 64.0625 14.71875 69.140625 \r\nQ 20.953125 74.21875 31.78125 74.21875 \r\nQ 42.671875 74.21875 48.875 69.140625 \r\nQ 55.078125 64.0625 55.078125 55.328125 \r\nQ 55.078125 49.078125 51.53125 44.71875 \r\nQ 48 40.375 41.703125 38.8125 \r\nQ 48.828125 37.15625 52.796875 32.3125 \r\nQ 56.78125 27.484375 56.78125 20.515625 \r\nQ 56.78125 9.90625 50.3125 4.234375 \r\nQ 43.84375 -1.421875 31.78125 -1.421875 \r\nQ 19.734375 -1.421875 13.25 4.234375 \r\nQ 6.78125 9.90625 6.78125 20.515625 \r\nQ 6.78125 27.484375 10.78125 32.3125 \r\nQ 14.796875 37.15625 21.921875 38.8125 \r\nz\r\nM 18.3125 54.390625 \r\nQ 18.3125 48.734375 21.84375 45.5625 \r\nQ 25.390625 42.390625 31.78125 42.390625 \r\nQ 38.140625 42.390625 41.71875 45.5625 \r\nQ 45.3125 48.734375 45.3125 54.390625 \r\nQ 45.3125 60.0625 41.71875 63.234375 \r\nQ 38.140625 66.40625 31.78125 66.40625 \r\nQ 25.390625 66.40625 21.84375 63.234375 \r\nQ 18.3125 60.0625 18.3125 54.390625 \r\nz\r\n\" id=\"DejaVuSans-56\"/>\r\n       </defs>\r\n       <use xlink:href=\"#DejaVuSans-56\"/>\r\n       <use x=\"63.623047\" xlink:href=\"#DejaVuSans-48\"/>\r\n      </g>\r\n     </g>\r\n    </g>\r\n    <g id=\"ytick_3\">\r\n     <g id=\"line2d_28\">\r\n      <g>\r\n       <use style=\"stroke:#000000;stroke-width:0.8;\" x=\"33.2875\" xlink:href=\"#m89d64e29bc\" y=\"149.382298\"/>\r\n      </g>\r\n     </g>\r\n     <g id=\"text_11\">\r\n      <!-- 100 -->\r\n      <g transform=\"translate(7.2 153.181517)scale(0.1 -0.1)\">\r\n       <defs>\r\n        <path d=\"M 12.40625 8.296875 \r\nL 28.515625 8.296875 \r\nL 28.515625 63.921875 \r\nL 10.984375 60.40625 \r\nL 10.984375 69.390625 \r\nL 28.421875 72.90625 \r\nL 38.28125 72.90625 \r\nL 38.28125 8.296875 \r\nL 54.390625 8.296875 \r\nL 54.390625 0 \r\nL 12.40625 0 \r\nz\r\n\" id=\"DejaVuSans-49\"/>\r\n       </defs>\r\n       <use xlink:href=\"#DejaVuSans-49\"/>\r\n       <use x=\"63.623047\" xlink:href=\"#DejaVuSans-48\"/>\r\n       <use x=\"127.246094\" xlink:href=\"#DejaVuSans-48\"/>\r\n      </g>\r\n     </g>\r\n    </g>\r\n    <g id=\"ytick_4\">\r\n     <g id=\"line2d_29\">\r\n      <g>\r\n       <use style=\"stroke:#000000;stroke-width:0.8;\" x=\"33.2875\" xlink:href=\"#m89d64e29bc\" y=\"122.877507\"/>\r\n      </g>\r\n     </g>\r\n     <g id=\"text_12\">\r\n      <!-- 120 -->\r\n      <g transform=\"translate(7.2 126.676726)scale(0.1 -0.1)\">\r\n       <use xlink:href=\"#DejaVuSans-49\"/>\r\n       <use x=\"63.623047\" xlink:href=\"#DejaVuSans-50\"/>\r\n       <use x=\"127.246094\" xlink:href=\"#DejaVuSans-48\"/>\r\n      </g>\r\n     </g>\r\n    </g>\r\n    <g id=\"ytick_5\">\r\n     <g id=\"line2d_30\">\r\n      <g>\r\n       <use style=\"stroke:#000000;stroke-width:0.8;\" x=\"33.2875\" xlink:href=\"#m89d64e29bc\" y=\"96.372717\"/>\r\n      </g>\r\n     </g>\r\n     <g id=\"text_13\">\r\n      <!-- 140 -->\r\n      <g transform=\"translate(7.2 100.171936)scale(0.1 -0.1)\">\r\n       <defs>\r\n        <path d=\"M 37.796875 64.3125 \r\nL 12.890625 25.390625 \r\nL 37.796875 25.390625 \r\nz\r\nM 35.203125 72.90625 \r\nL 47.609375 72.90625 \r\nL 47.609375 25.390625 \r\nL 58.015625 25.390625 \r\nL 58.015625 17.1875 \r\nL 47.609375 17.1875 \r\nL 47.609375 0 \r\nL 37.796875 0 \r\nL 37.796875 17.1875 \r\nL 4.890625 17.1875 \r\nL 4.890625 26.703125 \r\nz\r\n\" id=\"DejaVuSans-52\"/>\r\n       </defs>\r\n       <use xlink:href=\"#DejaVuSans-49\"/>\r\n       <use x=\"63.623047\" xlink:href=\"#DejaVuSans-52\"/>\r\n       <use x=\"127.246094\" xlink:href=\"#DejaVuSans-48\"/>\r\n      </g>\r\n     </g>\r\n    </g>\r\n    <g id=\"ytick_6\">\r\n     <g id=\"line2d_31\">\r\n      <g>\r\n       <use style=\"stroke:#000000;stroke-width:0.8;\" x=\"33.2875\" xlink:href=\"#m89d64e29bc\" y=\"69.867927\"/>\r\n      </g>\r\n     </g>\r\n     <g id=\"text_14\">\r\n      <!-- 160 -->\r\n      <g transform=\"translate(7.2 73.667145)scale(0.1 -0.1)\">\r\n       <use xlink:href=\"#DejaVuSans-49\"/>\r\n       <use x=\"63.623047\" xlink:href=\"#DejaVuSans-54\"/>\r\n       <use x=\"127.246094\" xlink:href=\"#DejaVuSans-48\"/>\r\n      </g>\r\n     </g>\r\n    </g>\r\n    <g id=\"ytick_7\">\r\n     <g id=\"line2d_32\">\r\n      <g>\r\n       <use style=\"stroke:#000000;stroke-width:0.8;\" x=\"33.2875\" xlink:href=\"#m89d64e29bc\" y=\"43.363136\"/>\r\n      </g>\r\n     </g>\r\n     <g id=\"text_15\">\r\n      <!-- 180 -->\r\n      <g transform=\"translate(7.2 47.162355)scale(0.1 -0.1)\">\r\n       <use xlink:href=\"#DejaVuSans-49\"/>\r\n       <use x=\"63.623047\" xlink:href=\"#DejaVuSans-56\"/>\r\n       <use x=\"127.246094\" xlink:href=\"#DejaVuSans-48\"/>\r\n      </g>\r\n     </g>\r\n    </g>\r\n    <g id=\"ytick_8\">\r\n     <g id=\"line2d_33\">\r\n      <g>\r\n       <use style=\"stroke:#000000;stroke-width:0.8;\" x=\"33.2875\" xlink:href=\"#m89d64e29bc\" y=\"16.858346\"/>\r\n      </g>\r\n     </g>\r\n     <g id=\"text_16\">\r\n      <!-- 200 -->\r\n      <g transform=\"translate(7.2 20.657564)scale(0.1 -0.1)\">\r\n       <use xlink:href=\"#DejaVuSans-50\"/>\r\n       <use x=\"63.623047\" xlink:href=\"#DejaVuSans-48\"/>\r\n       <use x=\"127.246094\" xlink:href=\"#DejaVuSans-48\"/>\r\n      </g>\r\n     </g>\r\n    </g>\r\n   </g>\r\n   <g id=\"line2d_34\">\r\n    <path clip-path=\"url(#pe1620b4596)\" d=\"M 45.520577 178.327517 \r\nL 48.739808 179.43608 \r\nL 50.0275 180.405174 \r\nL 50.671346 180.773436 \r\nL 51.959038 181.673084 \r\nL 53.890577 182.558344 \r\nL 55.178269 182.992139 \r\nL 55.822115 183.246585 \r\nL 57.753654 184.87663 \r\nL 60.972885 187.870346 \r\nL 61.616731 188.240088 \r\nL 62.904423 189.208396 \r\nL 68.055192 192.188418 \r\nL 69.342885 192.590407 \r\nL 71.274423 193.442095 \r\nL 71.918269 193.671803 \r\nL 73.205962 194.370646 \r\nL 75.781346 195.737409 \r\nL 76.425192 195.918967 \r\nL 77.712885 196.015268 \r\nL 80.932115 196.439345 \r\nL 82.863654 196.473359 \r\nL 84.151346 196.139841 \r\nL 86.082885 196.102734 \r\nL 88.014423 195.378711 \r\nL 90.589808 193.515425 \r\nL 91.8775 192.424311 \r\nL 93.165192 191.820443 \r\nL 95.096731 191.20509 \r\nL 95.740577 191.291231 \r\nL 97.028269 191.880521 \r\nL 98.959808 192.476879 \r\nL 100.891346 192.756062 \r\nL 104.110577 193.96954 \r\nL 104.754423 194.254466 \r\nL 106.685962 195.550551 \r\nL 109.905192 198.44399 \r\nL 111.836731 200.254709 \r\nL 115.055962 202.155545 \r\nL 115.699808 202.34152 \r\nL 116.9875 202.901213 \r\nL 118.275192 203.410988 \r\nL 120.206731 204.52684 \r\nL 121.494423 205.073722 \r\nL 123.425962 206.334466 \r\nL 124.713654 206.832757 \r\nL 126.001346 206.778863 \r\nL 128.576731 205.970467 \r\nL 129.864423 205.140426 \r\nL 133.083654 203.032853 \r\nL 135.015192 202.148477 \r\nL 136.946731 201.226552 \r\nL 139.522115 199.156086 \r\nL 140.809808 197.993409 \r\nL 144.029038 194.694004 \r\nL 147.248269 193.029503 \r\nL 148.535962 192.308131 \r\nL 151.111346 191.397692 \r\nL 152.399038 190.846392 \r\nL 153.686731 189.933744 \r\nL 157.549808 187.250134 \r\nL 158.8375 186.48282 \r\nL 162.056731 184.951285 \r\nL 165.275962 183.41975 \r\nL 166.563654 183.096833 \r\nL 167.851346 182.495174 \r\nL 169.782885 181.396993 \r\nL 171.070577 180.76397 \r\nL 173.002115 179.980312 \r\nL 176.221346 178.985498 \r\nL 177.509038 178.434641 \r\nL 180.084423 176.673839 \r\nL 181.372115 175.63706 \r\nL 183.303654 173.564385 \r\nL 185.879038 170.669179 \r\nL 187.166731 169.60722 \r\nL 189.098269 168.369005 \r\nL 189.742115 168.154758 \r\nL 192.961346 166.356849 \r\nL 193.605192 165.940282 \r\nL 194.892885 165.429623 \r\nL 195.536731 165.32758 \r\nL 197.468269 165.482633 \r\nL 200.043654 166.002569 \r\nL 201.331346 166.24067 \r\nL 203.262885 167.024328 \r\nL 203.906731 167.204119 \r\nL 204.550577 167.170546 \r\nL 205.838269 166.757955 \r\nL 207.125962 166.457567 \r\nL 208.413654 165.973855 \r\nL 209.701346 165.873579 \r\nL 212.920577 166.288379 \r\nL 215.495962 166.177058 \r\nL 218.071346 165.666399 \r\nL 218.715192 165.431832 \r\nL 220.002885 165.499419 \r\nL 223.222115 165.497211 \r\nL 226.441346 166.929353 \r\nL 227.729038 167.967899 \r\nL 229.660577 168.213952 \r\nL 234.1675 167.379051 \r\nL 236.099038 166.634266 \r\nL 238.030577 165.625759 \r\nL 241.249808 163.485055 \r\nL 243.825192 162.134636 \r\nL 245.756731 161.431376 \r\nL 247.044423 160.62298 \r\nL 248.975962 159.957268 \r\nL 251.551346 159.510662 \r\nL 252.839038 159.136061 \r\nL 253.482885 158.899726 \r\nL 256.058269 157.297954 \r\nL 258.633654 156.046928 \r\nL 259.2775 155.622851 \r\nL 261.209038 153.72069 \r\nL 262.496731 152.451553 \r\nL 263.784423 151.222172 \r\nL 265.072115 149.734812 \r\nL 267.003654 147.168706 \r\nL 269.579038 142.842241 \r\nL 270.866731 140.26465 \r\nL 274.085962 134.286053 \r\nL 276.0175 131.705811 \r\nL 277.305192 130.025408 \r\nL 278.592885 128.268582 \r\nL 282.455962 124.50711 \r\nL 285.031346 122.472868 \r\nL 285.675192 121.842054 \r\nL 286.962885 120.042378 \r\nL 288.894423 117.907418 \r\nL 289.538269 117.338448 \r\nL 290.825962 115.743743 \r\nL 293.401346 112.832192 \r\nL 294.045192 111.793646 \r\nL 294.689038 111.152672 \r\nL 295.332885 110.279781 \r\nL 296.620577 108.044543 \r\nL 297.264423 107.322729 \r\nL 297.908269 106.964915 \r\nL 299.195962 105.814607 \r\nL 299.839808 105.423661 \r\nL 301.771346 103.638564 \r\nL 302.415192 103.381025 \r\nL 303.059038 103.250268 \r\nL 303.702885 102.961808 \r\nL 304.346731 103.100516 \r\nL 304.990577 103.421666 \r\nL 305.634423 104.115208 \r\nL 306.922115 104.925813 \r\nL 307.565962 105.136968 \r\nL 308.209808 105.131667 \r\nL 310.141346 105.629957 \r\nL 310.785192 106.164028 \r\nL 313.360577 106.971541 \r\nL 314.004423 106.562042 \r\nL 314.648269 106.584129 \r\nL 315.935962 107.603238 \r\nL 316.579808 107.811743 \r\nL 317.8675 107.565248 \r\nL 318.511346 107.533884 \r\nL 319.155192 107.226429 \r\nL 319.799038 107.086837 \r\nL 321.086731 106.528027 \r\nL 321.730577 105.913116 \r\nL 323.018269 104.162033 \r\nL 324.305962 101.422321 \r\nL 325.593654 98.380455 \r\nL 326.881346 95.509103 \r\nL 328.812885 92.119582 \r\nL 330.744423 87.286433 \r\nL 332.032115 84.867871 \r\nL 333.963654 80.896128 \r\nL 335.895192 75.82532 \r\nL 337.826731 69.405418 \r\nL 342.333654 55.420607 \r\nL 343.621346 52.233848 \r\nL 344.265192 51.307505 \r\nL 344.909038 50.781827 \r\nL 345.552885 50.895798 \r\nL 346.196731 50.387347 \r\nL 347.484423 49.669509 \r\nL 348.128269 49.451286 \r\nL 348.772115 49.626218 \r\nL 350.059808 49.508714 \r\nL 351.991346 48.798385 \r\nL 353.279038 48.237367 \r\nL 354.566731 47.239462 \r\nL 355.210577 47.040676 \r\nL 355.854423 47.321185 \r\nL 356.498269 47.34018 \r\nL 357.785962 46.599371 \r\nL 358.429808 46.196498 \r\nL 360.361346 45.894344 \r\nL 361.005192 45.783023 \r\nL 361.649038 45.861654 \r\nL 362.292885 46.250833 \r\nL 362.936731 46.391308 \r\nL 363.580577 45.872698 \r\nL 364.224423 44.611953 \r\nL 364.868269 42.622327 \r\nL 366.155962 39.897635 \r\nL 368.0875 35.398888 \r\nL 368.0875 35.398888 \r\n\" style=\"fill:none;stroke:#000000;stroke-dasharray:5.55,2.4;stroke-dashoffset:0;stroke-width:1.5;\"/>\r\n   </g>\r\n   <g id=\"line2d_35\">\r\n    <path clip-path=\"url(#pe1620b4596)\" d=\"M 33.2875 186.634781 \r\nL 33.931346 184.676519 \r\nL 34.575192 183.920999 \r\nL 35.219038 183.759517 \r\nL 35.862885 183.083988 \r\nL 36.506731 182.700114 \r\nL 37.150577 181.324637 \r\nL 38.438269 178.316257 \r\nL 39.725962 175.953198 \r\nL 40.369808 175.214339 \r\nL 41.013654 174.922006 \r\nL 41.6575 175.159844 \r\nL 42.301346 175.762797 \r\nL 42.945192 176.078708 \r\nL 43.589038 176.559726 \r\nL 44.876731 178.001463 \r\nL 45.520577 178.741441 \r\nL 46.808269 179.296896 \r\nL 47.452115 179.515687 \r\nL 48.739808 180.595002 \r\nL 50.0275 182.377562 \r\nL 50.671346 183.013893 \r\nL 51.315192 183.980614 \r\nL 51.959038 184.631454 \r\nL 52.602885 185.482216 \r\nL 53.246731 185.978706 \r\nL 53.890577 186.283007 \r\nL 55.822115 186.752924 \r\nL 56.465962 187.007107 \r\nL 59.041346 187.086819 \r\nL 60.329038 187.568216 \r\nL 60.972885 187.710497 \r\nL 61.616731 188.012655 \r\nL 62.904423 188.867587 \r\nL 64.192115 189.803285 \r\nL 64.835962 190.362639 \r\nL 65.479808 190.663098 \r\nL 66.7675 191.01994 \r\nL 69.342885 192.593559 \r\nL 70.630577 193.691283 \r\nL 72.562115 195.449582 \r\nL 74.493654 196.089969 \r\nL 75.1375 196.272204 \r\nL 75.781346 196.570407 \r\nL 76.425192 196.326924 \r\nL 77.069038 195.751424 \r\nL 78.356731 195.050144 \r\nL 79.000577 194.838929 \r\nL 80.932115 194.634395 \r\nL 81.575962 194.724191 \r\nL 83.5075 194.54398 \r\nL 84.151346 194.447918 \r\nL 85.439038 194.452464 \r\nL 86.726731 193.990015 \r\nL 91.233654 191.594099 \r\nL 92.521346 191.153016 \r\nL 94.452885 191.299482 \r\nL 97.672115 192.864753 \r\nL 98.959808 193.517568 \r\nL 100.891346 194.215894 \r\nL 102.822885 195.440876 \r\nL 104.110577 196.176524 \r\nL 108.6175 199.166183 \r\nL 109.261346 199.427396 \r\nL 111.192885 200.58812 \r\nL 111.836731 200.887542 \r\nL 113.768269 201.371792 \r\nL 116.343654 202.404301 \r\nL 118.275192 202.975979 \r\nL 120.850577 204.251457 \r\nL 122.138269 205.245047 \r\nL 122.782115 205.858735 \r\nL 124.069808 206.643206 \r\nL 124.713654 206.87339 \r\nL 127.289038 205.456517 \r\nL 129.220577 203.861285 \r\nL 130.508269 202.427192 \r\nL 132.439808 200.333481 \r\nL 133.083654 199.849816 \r\nL 134.371346 199.477971 \r\nL 136.946731 198.735649 \r\nL 138.878269 197.518152 \r\nL 140.809808 196.676582 \r\nL 142.741346 195.83192 \r\nL 144.029038 195.537692 \r\nL 145.960577 194.806451 \r\nL 146.604423 194.314297 \r\nL 147.248269 193.977871 \r\nL 148.535962 192.934284 \r\nL 154.330577 188.818056 \r\nL 154.974423 188.582295 \r\nL 158.8375 185.968526 \r\nL 160.125192 185.578165 \r\nL 162.056731 185.129152 \r\nL 163.988269 184.863196 \r\nL 165.919808 184.464302 \r\nL 166.563654 184.378614 \r\nL 167.851346 183.403335 \r\nL 169.782885 181.703551 \r\nL 170.426731 181.141051 \r\nL 172.358269 180.03174 \r\nL 173.645962 179.668593 \r\nL 174.289808 179.570829 \r\nL 175.5775 179.090431 \r\nL 178.152885 177.297508 \r\nL 182.015962 174.177733 \r\nL 183.9475 171.89728 \r\nL 184.591346 171.339024 \r\nL 186.522885 169.339339 \r\nL 188.454423 167.826654 \r\nL 189.098269 167.506224 \r\nL 190.385962 167.283436 \r\nL 191.029808 167.090391 \r\nL 191.673654 167.132954 \r\nL 192.961346 166.771214 \r\nL 193.605192 166.699281 \r\nL 195.536731 167.044352 \r\nL 198.112115 168.44219 \r\nL 199.399808 169.175875 \r\nL 203.906731 169.227462 \r\nL 204.550577 168.582388 \r\nL 205.838269 166.783921 \r\nL 208.413654 164.152225 \r\nL 209.701346 164.165364 \r\nL 212.276731 164.937954 \r\nL 214.208269 165.571191 \r\nL 215.495962 165.995765 \r\nL 218.071346 166.826759 \r\nL 218.715192 166.88291 \r\nL 219.359038 167.184242 \r\nL 221.934423 167.65938 \r\nL 223.222115 167.887493 \r\nL 223.865962 167.89915 \r\nL 225.7975 167.123111 \r\nL 226.441346 166.96093 \r\nL 227.729038 167.367052 \r\nL 228.372885 167.313107 \r\nL 229.660577 167.410674 \r\nL 231.592115 167.033436 \r\nL 232.235962 166.92321 \r\nL 232.879808 166.657646 \r\nL 233.523654 166.5349 \r\nL 236.742885 165.272824 \r\nL 239.962115 162.796067 \r\nL 245.112885 160.514583 \r\nL 247.044423 160.064546 \r\nL 247.688269 160.043119 \r\nL 248.975962 160.225269 \r\nL 251.551346 160.630471 \r\nL 253.482885 160.014701 \r\nL 258.633654 155.275076 \r\nL 259.921346 153.546295 \r\nL 262.496731 150.011986 \r\nL 263.784423 148.539166 \r\nL 265.072115 146.818734 \r\nL 266.359808 144.953787 \r\nL 267.003654 144.325509 \r\nL 268.935192 141.90708 \r\nL 274.085962 132.878925 \r\nL 275.373654 131.582362 \r\nL 276.661346 130.80222 \r\nL 277.305192 130.248198 \r\nL 278.592885 128.607778 \r\nL 279.236731 128.10556 \r\nL 280.524423 126.8843 \r\nL 281.168269 126.425729 \r\nL 281.812115 126.226737 \r\nL 282.455962 125.849063 \r\nL 283.743654 125.258796 \r\nL 284.3875 124.997436 \r\nL 285.675192 123.54621 \r\nL 286.962885 121.391281 \r\nL 288.250577 119.694723 \r\nL 289.538269 117.898189 \r\nL 291.469808 114.409987 \r\nL 292.7575 112.308043 \r\nL 294.045192 109.701916 \r\nL 294.689038 109.278869 \r\nL 295.332885 108.680482 \r\nL 295.976731 107.373437 \r\nL 296.620577 106.334541 \r\nL 297.264423 105.569578 \r\nL 297.908269 105.680747 \r\nL 298.552115 105.507725 \r\nL 299.195962 105.218473 \r\nL 299.839808 105.344598 \r\nL 301.1275 105.029132 \r\nL 301.771346 104.982795 \r\nL 304.346731 107.383775 \r\nL 306.278269 110.260556 \r\nL 306.922115 110.884745 \r\nL 307.565962 111.011242 \r\nL 308.209808 110.707211 \r\nL 308.853654 110.545913 \r\nL 309.4975 110.033361 \r\nL 310.141346 109.814648 \r\nL 310.785192 110.074308 \r\nL 311.429038 109.696491 \r\nL 312.072885 109.157515 \r\nL 313.360577 107.812611 \r\nL 314.004423 106.718877 \r\nL 314.648269 106.3284 \r\nL 315.292115 106.11274 \r\nL 315.935962 106.188011 \r\nL 316.579808 105.836059 \r\nL 317.8675 105.284419 \r\nL 319.155192 104.497313 \r\nL 319.799038 104.109089 \r\nL 321.086731 103.00363 \r\nL 321.730577 102.549324 \r\nL 322.374423 101.796011 \r\nL 323.018269 100.738187 \r\nL 324.949808 96.699303 \r\nL 326.2375 94.184089 \r\nL 327.525192 91.449544 \r\nL 328.169038 90.378659 \r\nL 328.812885 88.931412 \r\nL 330.100577 85.246264 \r\nL 330.744423 83.673573 \r\nL 331.388269 82.592222 \r\nL 335.895192 72.411752 \r\nL 337.182885 67.784746 \r\nL 341.689808 55.392102 \r\nL 342.333654 54.087654 \r\nL 342.9775 52.387712 \r\nL 343.621346 51.266836 \r\nL 344.265192 51.144232 \r\nL 344.909038 51.893081 \r\nL 345.552885 53.586264 \r\nL 346.196731 53.78512 \r\nL 348.772115 55.952639 \r\nL 350.703654 56.413731 \r\nL 351.991346 56.098587 \r\nL 352.635192 55.720687 \r\nL 353.279038 54.904615 \r\nL 353.922885 53.793212 \r\nL 354.566731 52.930495 \r\nL 355.854423 51.843245 \r\nL 356.498269 50.825895 \r\nL 357.142115 49.493709 \r\nL 358.429808 46.369479 \r\nL 359.7175 44.382498 \r\nL 361.005192 42.42067 \r\nL 361.649038 42.105277 \r\nL 362.936731 41.757238 \r\nL 363.580577 41.244394 \r\nL 364.224423 40.191792 \r\nL 366.155962 36.236281 \r\nL 368.0875 33.007234 \r\nL 368.0875 33.007234 \r\n\" style=\"fill:none;stroke:#000000;stroke-linecap:square;stroke-width:1.5;\"/>\r\n   </g>\r\n   <g id=\"line2d_36\">\r\n    <path clip-path=\"url(#pe1620b4596)\" d=\"M 33.2875 186.634781 \r\nL 33.931346 182.844596 \r\nL 34.575192 182.553043 \r\nL 35.219038 183.334935 \r\nL 35.862885 180.790475 \r\nL 36.506731 181.121785 \r\nL 37.150577 174.747382 \r\nL 37.794423 170.718654 \r\nL 38.438269 170.201811 \r\nL 39.082115 168.478999 \r\nL 39.725962 168.478999 \r\nL 40.369808 169.64521 \r\nL 41.013654 172.587242 \r\nL 42.301346 181.068775 \r\nL 42.945192 178.974897 \r\nL 44.232885 183.573478 \r\nL 44.876731 186.051676 \r\nL 45.520577 186.449247 \r\nL 46.164423 182.513286 \r\nL 46.808269 181.837414 \r\nL 47.452115 181.956685 \r\nL 48.095962 186.356481 \r\nL 48.739808 186.687791 \r\nL 49.383654 192.71763 \r\nL 50.0275 192.320059 \r\nL 50.671346 190.716519 \r\nL 51.315192 195.831943 \r\nL 51.959038 192.704378 \r\nL 52.602885 196.150001 \r\nL 53.246731 192.267049 \r\nL 54.534423 188.384097 \r\nL 55.178269 188.755164 \r\nL 55.822115 188.755164 \r\nL 56.465962 190.358704 \r\nL 57.109808 187.390167 \r\nL 57.753654 186.820314 \r\nL 58.3975 187.204634 \r\nL 59.041346 187.827497 \r\nL 59.685192 191.140595 \r\nL 60.972885 189.656327 \r\nL 61.616731 192.16103 \r\nL 62.260577 195.129566 \r\nL 62.904423 194.029617 \r\nL 63.548269 194.891023 \r\nL 64.192115 197.183688 \r\nL 64.835962 198.164365 \r\nL 65.479808 194.864518 \r\nL 66.123654 192.691126 \r\nL 66.7675 194.135637 \r\nL 67.411346 196.680097 \r\nL 68.055192 196.216263 \r\nL 68.699038 197.104173 \r\nL 69.342885 199.993195 \r\nL 69.986731 200.178729 \r\nL 70.630577 202.179841 \r\nL 71.274423 202.444888 \r\nL 71.918269 203.041246 \r\nL 72.562115 204.101438 \r\nL 73.205962 199.304071 \r\nL 73.849808 198.74747 \r\nL 75.1375 198.879994 \r\nL 75.781346 200.841349 \r\nL 76.425192 192.836902 \r\nL 77.069038 187.496187 \r\nL 77.712885 189.417784 \r\nL 78.356731 190.902052 \r\nL 79.000577 191.803215 \r\nL 79.644423 193.499522 \r\nL 80.288269 193.817579 \r\nL 80.932115 193.817579 \r\nL 81.575962 196.017477 \r\nL 82.219808 194.148889 \r\nL 82.863654 194.904276 \r\nL 83.5075 192.280301 \r\nL 84.151346 193.062193 \r\nL 84.795192 194.771752 \r\nL 85.439038 194.215151 \r\nL 86.082885 191.591177 \r\nL 87.370577 188.62264 \r\nL 88.014423 189.669579 \r\nL 88.658269 186.992596 \r\nL 89.302115 187.628711 \r\nL 89.945962 187.641963 \r\nL 90.589808 186.634781 \r\nL 91.233654 186.634781 \r\nL 91.8775 187.774487 \r\nL 92.521346 188.34434 \r\nL 93.165192 191.591177 \r\nL 93.809038 192.187535 \r\nL 94.452885 192.068263 \r\nL 95.096731 195.792186 \r\nL 95.740577 195.421119 \r\nL 96.384423 198.177617 \r\nL 97.028269 196.415049 \r\nL 97.672115 197.912569 \r\nL 98.315962 198.217374 \r\nL 98.959808 197.965579 \r\nL 99.603654 196.653592 \r\nL 100.2475 197.687279 \r\nL 100.891346 197.687279 \r\nL 101.535192 200.775087 \r\nL 102.179038 202.696684 \r\nL 102.822885 199.516109 \r\nL 103.466731 200.191981 \r\nL 104.110577 202.391879 \r\nL 104.754423 202.762946 \r\nL 105.398269 204.300224 \r\nL 106.042115 201.384697 \r\nL 106.685962 203.399061 \r\nL 107.329808 206.367597 \r\nL 107.973654 204.605029 \r\nL 108.6175 205.559201 \r\nL 109.261346 203.213527 \r\nL 109.905192 205.625463 \r\nL 110.549038 206.10255 \r\nL 111.192885 205.744735 \r\nL 111.836731 205.227891 \r\nL 112.480577 202.948479 \r\nL 113.124423 203.942409 \r\nL 113.768269 203.730371 \r\nL 115.055962 207.666332 \r\nL 115.699808 203.756876 \r\nL 116.343654 206.009783 \r\nL 116.9875 205.10862 \r\nL 117.631346 205.10862 \r\nL 118.275192 206.367597 \r\nL 118.919038 207.997642 \r\nL 120.206731 209.018077 \r\nL 120.850577 208.156671 \r\nL 121.494423 211.721565 \r\nL 122.138269 212.662485 \r\nL 122.782115 214.756364 \r\nL 123.425962 212.503456 \r\nL 124.069808 211.801079 \r\nL 124.713654 210.210792 \r\nL 125.3575 201.729259 \r\nL 126.001346 201.437706 \r\nL 126.645192 200.510039 \r\nL 127.289038 199.834167 \r\nL 127.932885 197.263202 \r\nL 128.576731 197.886065 \r\nL 129.864423 191.842972 \r\nL 130.508269 192.876659 \r\nL 131.152115 191.577924 \r\nL 131.795962 189.682832 \r\nL 133.083654 192.836902 \r\nL 133.7275 196.057234 \r\nL 134.371346 197.634269 \r\nL 135.015192 196.998154 \r\nL 135.659038 197.554755 \r\nL 136.302885 197.170435 \r\nL 136.946731 193.844084 \r\nL 137.590577 191.816467 \r\nL 138.234423 192.333311 \r\nL 138.878269 191.909234 \r\nL 139.522115 193.698308 \r\nL 140.165962 192.293554 \r\nL 140.809808 192.704378 \r\nL 141.453654 192.041758 \r\nL 142.0975 190.796033 \r\nL 142.741346 193.141707 \r\nL 143.385192 193.804327 \r\nL 144.029038 193.168212 \r\nL 144.672885 191.988749 \r\nL 145.316731 191.286372 \r\nL 145.960577 191.286372 \r\nL 146.604423 187.178129 \r\nL 147.248269 189.099726 \r\nL 147.892115 185.428813 \r\nL 148.535962 185.79988 \r\nL 149.179808 185.826385 \r\nL 149.823654 185.654104 \r\nL 150.4675 183.573478 \r\nL 151.755192 183.706002 \r\nL 153.042885 184.143331 \r\nL 153.686731 182.168724 \r\nL 154.330577 182.97712 \r\nL 154.974423 185.163765 \r\nL 155.618269 181.519356 \r\nL 156.262115 179.054411 \r\nL 156.905962 180.644698 \r\nL 157.549808 179.849555 \r\nL 158.193654 179.889312 \r\nL 158.8375 182.69882 \r\nL 159.481346 183.732506 \r\nL 160.125192 182.009695 \r\nL 161.412885 183.546973 \r\nL 162.056731 183.003625 \r\nL 162.700577 184.090321 \r\nL 163.344423 184.85896 \r\nL 163.988269 182.168724 \r\nL 164.632115 182.486781 \r\nL 165.275962 181.98319 \r\nL 165.919808 183.454206 \r\nL 166.563654 183.136149 \r\nL 167.2075 177.22558 \r\nL 167.851346 175.95335 \r\nL 168.495192 173.952239 \r\nL 169.139038 174.495587 \r\nL 170.426731 172.984814 \r\nL 171.070577 175.34374 \r\nL 171.714423 175.330488 \r\nL 172.358269 174.45583 \r\nL 173.002115 177.00029 \r\nL 173.645962 177.238833 \r\nL 174.289808 178.153248 \r\nL 174.933654 176.271408 \r\nL 175.5775 175.211216 \r\nL 176.221346 172.640252 \r\nL 176.865192 171.460788 \r\nL 177.509038 171.752341 \r\nL 178.152885 170.122296 \r\nL 178.796731 169.260891 \r\nL 179.440577 170.519868 \r\nL 180.084423 168.452495 \r\nL 180.728269 168.134437 \r\nL 181.372115 167.312789 \r\nL 182.015962 164.490029 \r\nL 182.659808 162.223869 \r\nL 183.303654 162.223869 \r\nL 183.9475 160.474553 \r\nL 184.591346 163.244303 \r\nL 185.235192 160.23601 \r\nL 185.879038 160.249262 \r\nL 186.522885 160.434796 \r\nL 187.166731 160.885377 \r\nL 187.810577 161.150425 \r\nL 188.454423 160.951639 \r\nL 189.098269 162.859984 \r\nL 189.742115 166.557402 \r\nL 190.385962 164.94061 \r\nL 191.029808 164.291243 \r\nL 191.673654 167.750118 \r\nL 192.3175 163.893671 \r\nL 192.961346 164.55629 \r\nL 193.605192 165.656239 \r\nL 194.249038 168.638028 \r\nL 194.892885 167.524827 \r\nL 195.536731 169.578948 \r\nL 196.180577 172.043894 \r\nL 196.824423 172.971561 \r\nL 197.468269 172.971561 \r\nL 198.112115 173.885977 \r\nL 198.755962 173.872724 \r\nL 199.399808 174.73413 \r\nL 200.043654 169.472929 \r\nL 201.331346 169.472929 \r\nL 201.975192 170.851178 \r\nL 202.619038 168.386233 \r\nL 203.262885 169.194629 \r\nL 203.906731 168.638028 \r\nL 204.550577 159.228828 \r\nL 205.194423 153.358017 \r\nL 206.482115 156.512087 \r\nL 207.125962 156.512087 \r\nL 207.769808 153.225493 \r\nL 208.413654 156.074758 \r\nL 209.0575 163.867166 \r\nL 209.701346 164.622552 \r\nL 210.345192 166.888712 \r\nL 210.989038 168.333223 \r\nL 211.632885 167.007984 \r\nL 212.276731 167.604341 \r\nL 212.920577 168.7573 \r\nL 213.564423 168.015166 \r\nL 214.208269 168.532009 \r\nL 214.852115 168.293466 \r\nL 215.495962 169.605453 \r\nL 216.139808 169.592201 \r\nL 216.783654 170.665645 \r\nL 217.4275 170.387344 \r\nL 218.071346 167.736865 \r\nL 218.715192 167.697108 \r\nL 219.359038 171.553555 \r\nL 220.002885 169.41992 \r\nL 220.646731 169.658463 \r\nL 221.290577 168.863319 \r\nL 221.934423 168.982591 \r\nL 222.578269 169.486182 \r\nL 223.222115 169.486182 \r\nL 223.865962 168.068175 \r\nL 224.509808 163.694885 \r\nL 225.153654 163.284061 \r\nL 225.7975 163.867166 \r\nL 226.441346 164.6093 \r\nL 227.085192 170.678897 \r\nL 227.729038 169.777734 \r\nL 228.372885 166.530897 \r\nL 229.016731 168.717543 \r\nL 229.660577 167.511575 \r\nL 230.304423 165.033377 \r\nL 230.948269 165.656239 \r\nL 231.592115 165.285172 \r\nL 232.235962 165.324929 \r\nL 232.879808 162.806974 \r\nL 233.523654 164.755076 \r\nL 234.1675 162.634693 \r\nL 234.811346 163.204546 \r\nL 235.455192 163.178041 \r\nL 236.099038 161.137173 \r\nL 236.742885 160.673339 \r\nL 237.386731 157.506016 \r\nL 238.030577 157.386745 \r\nL 238.674423 157.96985 \r\nL 239.318269 154.882042 \r\nL 239.962115 155.398885 \r\nL 240.605962 158.340917 \r\nL 241.249808 157.665045 \r\nL 241.893654 158.778246 \r\nL 243.181346 156.671115 \r\nL 243.825192 156.97592 \r\nL 244.469038 156.432572 \r\nL 245.112885 156.432572 \r\nL 245.756731 157.797569 \r\nL 246.400577 157.002425 \r\nL 247.044423 159.202323 \r\nL 247.688269 159.732419 \r\nL 248.332115 162.316636 \r\nL 248.975962 160.739601 \r\nL 249.619808 162.170859 \r\nL 250.263654 162.104597 \r\nL 250.9075 162.276879 \r\nL 251.551346 161.349211 \r\nL 252.195192 157.983102 \r\nL 252.839038 158.340917 \r\nL 253.482885 155.544662 \r\nL 254.126731 150.919576 \r\nL 254.770577 149.488317 \r\nL 255.414423 149.647346 \r\nL 256.058269 150.084675 \r\nL 256.702115 148.865455 \r\nL 257.345962 148.852202 \r\nL 257.989808 148.308854 \r\nL 258.633654 144.187359 \r\nL 259.2775 142.676586 \r\nL 259.921346 140.26465 \r\nL 260.565192 139.65504 \r\nL 261.209038 137.799705 \r\nL 261.852885 136.978056 \r\nL 262.496731 139.416497 \r\nL 263.140577 139.65504 \r\nL 263.784423 136.872037 \r\nL 264.428269 136.103398 \r\nL 265.072115 133.505928 \r\nL 265.715962 131.438555 \r\nL 266.359808 132.299961 \r\nL 267.003654 135.215487 \r\nL 267.6475 131.332536 \r\nL 268.291346 131.332536 \r\nL 268.935192 130.365111 \r\nL 269.579038 124.507552 \r\nL 270.222885 121.300472 \r\nL 270.866731 124.997891 \r\nL 271.510577 121.114939 \r\nL 272.154423 119.339118 \r\nL 272.798269 118.053636 \r\nL 274.085962 116.927182 \r\nL 274.729808 122.625712 \r\nL 275.373654 122.373916 \r\nL 276.0175 126.190606 \r\nL 276.661346 124.534057 \r\nL 277.305192 122.214888 \r\nL 277.949038 116.132038 \r\nL 278.592885 118.027131 \r\nL 279.236731 120.823386 \r\nL 279.880577 117.709073 \r\nL 280.524423 118.901789 \r\nL 281.168269 119.776447 \r\nL 281.812115 123.341341 \r\nL 282.455962 120.372805 \r\nL 283.099808 122.135373 \r\nL 283.743654 120.174019 \r\nL 284.3875 121.207706 \r\nL 285.031346 113.37554 \r\nL 285.675192 113.37554 \r\nL 286.319038 105.980704 \r\nL 286.962885 106.577061 \r\nL 287.606731 109.187783 \r\nL 288.250577 106.510799 \r\nL 288.894423 106.45779 \r\nL 289.538269 104.231387 \r\nL 290.182115 99.381011 \r\nL 290.825962 98.890672 \r\nL 291.469808 97.817228 \r\nL 292.113654 98.864167 \r\nL 292.7575 96.372717 \r\nL 293.401346 91.403069 \r\nL 294.045192 91.469331 \r\nL 294.689038 103.144691 \r\nL 295.332885 100.003873 \r\nL 295.976731 88.42128 \r\nL 297.264423 94.477625 \r\nL 297.908269 107.292691 \r\nL 298.552115 102.998915 \r\nL 299.195962 101.024308 \r\nL 299.839808 107.173419 \r\nL 300.483654 102.667605 \r\nL 301.1275 102.959157 \r\nL 301.771346 104.310902 \r\nL 302.415192 114.409227 \r\nL 303.059038 116.25131 \r\nL 303.702885 112.553892 \r\nL 305.634423 126.786964 \r\nL 306.278269 120.147514 \r\nL 306.922115 119.935476 \r\nL 308.209808 106.298761 \r\nL 308.853654 108.207106 \r\nL 309.4975 102.601343 \r\nL 310.141346 106.643323 \r\nL 310.785192 113.839374 \r\nL 311.429038 104.218135 \r\nL 312.716731 98.387081 \r\nL 313.360577 98.387081 \r\nL 314.004423 90.859721 \r\nL 314.648269 100.666493 \r\nL 315.292115 102.985662 \r\nL 315.935962 107.279438 \r\nL 316.579808 100.732755 \r\nL 317.223654 102.349547 \r\nL 317.8675 100.547222 \r\nL 318.511346 100.083388 \r\nL 319.155192 97.949752 \r\nL 319.799038 98.479848 \r\nL 320.442885 95.153497 \r\nL 321.086731 95.352283 \r\nL 321.730577 95.961893 \r\nL 323.018269 85.399734 \r\nL 323.662115 78.90606 \r\nL 324.305962 79.449408 \r\nL 324.949808 77.156744 \r\nL 325.593654 78.521741 \r\nL 326.2375 74.718303 \r\nL 326.881346 71.922048 \r\nL 327.525192 72.624425 \r\nL 328.169038 74.850827 \r\nL 328.812885 67.946329 \r\nL 329.456731 59.385282 \r\nL 330.100577 59.451544 \r\nL 330.744423 60.86955 \r\nL 331.388269 66.912642 \r\nL 332.032115 60.25994 \r\nL 332.675962 60.617755 \r\nL 333.319808 57.172132 \r\nL 333.963654 52.971123 \r\nL 334.6075 51.977193 \r\nL 335.251346 56.058931 \r\nL 335.895192 50.837487 \r\nL 336.539038 35.199661 \r\nL 337.182885 35.504466 \r\nL 337.826731 39.67897 \r\nL 338.470577 37.13451 \r\nL 339.114423 36.617667 \r\nL 339.758269 34.086459 \r\nL 340.402115 30.177003 \r\nL 341.045962 33.503354 \r\nL 341.689808 32.933501 \r\nL 342.333654 35.173156 \r\nL 342.9775 27.738562 \r\nL 343.621346 35.014127 \r\nL 345.552885 78.137421 \r\nL 346.196731 56.668541 \r\nL 346.840577 61.770713 \r\nL 347.484423 64.169397 \r\nL 348.128269 61.399646 \r\nL 348.772115 64.63323 \r\nL 349.415962 58.139557 \r\nL 350.059808 58.6564 \r\nL 350.703654 58.6564 \r\nL 351.3475 54.574662 \r\nL 351.991346 53.249423 \r\nL 352.635192 50.241129 \r\nL 353.279038 43.071583 \r\nL 353.922885 37.677859 \r\nL 354.566731 40.421104 \r\nL 355.210577 44.873909 \r\nL 355.854423 43.614932 \r\nL 356.498269 36.074319 \r\nL 357.785962 24.412211 \r\nL 358.429808 24.531482 \r\nL 359.073654 32.045591 \r\nL 359.7175 28.971035 \r\nL 360.361346 27.685553 \r\nL 361.005192 29.593897 \r\nL 361.649038 37.532082 \r\nL 362.292885 39.413922 \r\nL 362.936731 39.228389 \r\nL 363.580577 33.808159 \r\nL 364.224423 24.929054 \r\nL 364.868269 18.448633 \r\nL 365.512115 18.448633 \r\nL 366.155962 18.249847 \r\nL 366.799808 18.753438 \r\nL 367.443654 17.083636 \r\nL 368.0875 19.402806 \r\nL 368.0875 19.402806 \r\n\" style=\"fill:none;stroke:#1f77b4;stroke-linecap:square;stroke-width:1.5;\"/>\r\n   </g>\r\n   <g id=\"patch_3\">\r\n    <path d=\"M 33.2875 224.64 \r\nL 33.2875 7.2 \r\n\" style=\"fill:none;stroke:#000000;stroke-linecap:square;stroke-linejoin:miter;stroke-width:0.8;\"/>\r\n   </g>\r\n   <g id=\"patch_4\">\r\n    <path d=\"M 368.0875 224.64 \r\nL 368.0875 7.2 \r\n\" style=\"fill:none;stroke:#000000;stroke-linecap:square;stroke-linejoin:miter;stroke-width:0.8;\"/>\r\n   </g>\r\n   <g id=\"patch_5\">\r\n    <path d=\"M 33.2875 224.64 \r\nL 368.0875 224.64 \r\n\" style=\"fill:none;stroke:#000000;stroke-linecap:square;stroke-linejoin:miter;stroke-width:0.8;\"/>\r\n   </g>\r\n   <g id=\"patch_6\">\r\n    <path d=\"M 33.2875 7.2 \r\nL 368.0875 7.2 \r\n\" style=\"fill:none;stroke:#000000;stroke-linecap:square;stroke-linejoin:miter;stroke-width:0.8;\"/>\r\n   </g>\r\n  </g>\r\n </g>\r\n <defs>\r\n  <clipPath id=\"pe1620b4596\">\r\n   <rect height=\"217.44\" width=\"334.8\" x=\"33.2875\" y=\"7.2\"/>\r\n  </clipPath>\r\n </defs>\r\n</svg>\r\n",
      "image/png": "[encoded data removed]"
     },
     "metadata": {
      "needs_background": "light"
     }
    }
   ],
   "source": [
    "ma60.plot(style='k--', label='Simple MA')\n",
    "ewma60.plot(style='k-', label='EW MA')\n",
    "aapl_px.plot()\n"
   ]
  },
  {
   "source": [
    "## BINARY MOVING WINDOW FUNCTIONS"
   ],
   "cell_type": "markdown",
   "metadata": {}
  },
  {
   "cell_type": "code",
   "execution_count": 277,
   "metadata": {},
   "outputs": [],
   "source": [
    "spx_px = close_px_all['SPX']"
   ]
  },
  {
   "cell_type": "code",
   "execution_count": 278,
   "metadata": {},
   "outputs": [],
   "source": [
    "spx_rets = spx_px.pct_change()"
   ]
  },
  {
   "cell_type": "code",
   "execution_count": 279,
   "metadata": {},
   "outputs": [],
   "source": [
    "returns = close_px.pct_change()"
   ]
  },
  {
   "cell_type": "code",
   "execution_count": 280,
   "metadata": {},
   "outputs": [
    {
     "output_type": "execute_result",
     "data": {
      "text/plain": [
       "2003-01-02         NaN\n",
       "2003-01-03   -0.000484\n",
       "2003-01-06    0.022474\n",
       "2003-01-07   -0.006545\n",
       "2003-01-08   -0.014086\n",
       "                ...   \n",
       "2011-10-10    0.034125\n",
       "2011-10-11    0.000544\n",
       "2011-10-12    0.009795\n",
       "2011-10-13   -0.002974\n",
       "2011-10-14    0.017380\n",
       "Name: SPX, Length: 2214, dtype: float64"
      ]
     },
     "metadata": {},
     "execution_count": 280
    }
   ],
   "source": [
    "spx_rets "
   ]
  },
  {
   "cell_type": "code",
   "execution_count": 281,
   "metadata": {},
   "outputs": [],
   "source": [
    "corr = returns.AAPL.rolling(125, min_periods=100).corr(spx_rets)"
   ]
  },
  {
   "cell_type": "code",
   "execution_count": 283,
   "metadata": {},
   "outputs": [
    {
     "output_type": "execute_result",
     "data": {
      "text/plain": [
       "<AxesSubplot:>"
      ]
     },
     "metadata": {},
     "execution_count": 283
    },
    {
     "output_type": "display_data",
     "data": {
      "text/plain": "<Figure size 432x288 with 1 Axes>",
      "image/svg+xml": "<?xml version=\"1.0\" encoding=\"utf-8\" standalone=\"no\"?>\r\n<!DOCTYPE svg PUBLIC \"-//W3C//DTD SVG 1.1//EN\"\r\n  \"http://www.w3.org/Graphics/SVG/1.1/DTD/svg11.dtd\">\r\n<!-- Created with matplotlib (https://matplotlib.org/) -->\r\n<svg height=\"248.518125pt\" version=\"1.1\" viewBox=\"0 0 372.103125 248.518125\" width=\"372.103125pt\" xmlns=\"http://www.w3.org/2000/svg\" xmlns:xlink=\"http://www.w3.org/1999/xlink\">\r\n <metadata>\r\n  <rdf:RDF xmlns:cc=\"http://creativecommons.org/ns#\" xmlns:dc=\"http://purl.org/dc/elements/1.1/\" xmlns:rdf=\"http://www.w3.org/1999/02/22-rdf-syntax-ns#\">\r\n   <cc:Work>\r\n    <dc:type rdf:resource=\"http://purl.org/dc/dcmitype/StillImage\"/>\r\n    <dc:date>2021-05-11T11:44:51.405727</dc:date>\r\n    <dc:format>image/svg+xml</dc:format>\r\n    <dc:creator>\r\n     <cc:Agent>\r\n      <dc:title>Matplotlib v3.3.2, https://matplotlib.org/</dc:title>\r\n     </cc:Agent>\r\n    </dc:creator>\r\n   </cc:Work>\r\n  </rdf:RDF>\r\n </metadata>\r\n <defs>\r\n  <style type=\"text/css\">*{stroke-linecap:butt;stroke-linejoin:round;}</style>\r\n </defs>\r\n <g id=\"figure_1\">\r\n  <g id=\"patch_1\">\r\n   <path d=\"M 0 248.518125 \r\nL 372.103125 248.518125 \r\nL 372.103125 0 \r\nL 0 0 \r\nz\r\n\" style=\"fill:none;\"/>\r\n  </g>\r\n  <g id=\"axes_1\">\r\n   <g id=\"patch_2\">\r\n    <path d=\"M 30.103125 224.64 \r\nL 364.903125 224.64 \r\nL 364.903125 7.2 \r\nL 30.103125 7.2 \r\nz\r\n\" style=\"fill:#ffffff;\"/>\r\n   </g>\r\n   <g id=\"matplotlib.axis_1\">\r\n    <g id=\"xtick_1\">\r\n     <g id=\"line2d_1\">\r\n      <defs>\r\n       <path d=\"M 0 0 \r\nL 0 3.5 \r\n\" id=\"m7047d06bb6\" style=\"stroke:#000000;stroke-width:0.8;\"/>\r\n      </defs>\r\n      <g>\r\n       <use style=\"stroke:#000000;stroke-width:0.8;\" x=\"30.103125\" xlink:href=\"#m7047d06bb6\" y=\"224.64\"/>\r\n      </g>\r\n     </g>\r\n    </g>\r\n    <g id=\"xtick_2\">\r\n     <g id=\"line2d_2\">\r\n      <g>\r\n       <use style=\"stroke:#000000;stroke-width:0.8;\" x=\"68.09876\" xlink:href=\"#m7047d06bb6\" y=\"224.64\"/>\r\n      </g>\r\n     </g>\r\n     <g id=\"text_1\">\r\n      <!-- 2004 -->\r\n      <g transform=\"translate(55.37376 239.238437)scale(0.1 -0.1)\">\r\n       <defs>\r\n        <path d=\"M 19.1875 8.296875 \r\nL 53.609375 8.296875 \r\nL 53.609375 0 \r\nL 7.328125 0 \r\nL 7.328125 8.296875 \r\nQ 12.9375 14.109375 22.625 23.890625 \r\nQ 32.328125 33.6875 34.8125 36.53125 \r\nQ 39.546875 41.84375 41.421875 45.53125 \r\nQ 43.3125 49.21875 43.3125 52.78125 \r\nQ 43.3125 58.59375 39.234375 62.25 \r\nQ 35.15625 65.921875 28.609375 65.921875 \r\nQ 23.96875 65.921875 18.8125 64.3125 \r\nQ 13.671875 62.703125 7.8125 59.421875 \r\nL 7.8125 69.390625 \r\nQ 13.765625 71.78125 18.9375 73 \r\nQ 24.125 74.21875 28.421875 74.21875 \r\nQ 39.75 74.21875 46.484375 68.546875 \r\nQ 53.21875 62.890625 53.21875 53.421875 \r\nQ 53.21875 48.921875 51.53125 44.890625 \r\nQ 49.859375 40.875 45.40625 35.40625 \r\nQ 44.1875 33.984375 37.640625 27.21875 \r\nQ 31.109375 20.453125 19.1875 8.296875 \r\nz\r\n\" id=\"DejaVuSans-50\"/>\r\n        <path d=\"M 31.78125 66.40625 \r\nQ 24.171875 66.40625 20.328125 58.90625 \r\nQ 16.5 51.421875 16.5 36.375 \r\nQ 16.5 21.390625 20.328125 13.890625 \r\nQ 24.171875 6.390625 31.78125 6.390625 \r\nQ 39.453125 6.390625 43.28125 13.890625 \r\nQ 47.125 21.390625 47.125 36.375 \r\nQ 47.125 51.421875 43.28125 58.90625 \r\nQ 39.453125 66.40625 31.78125 66.40625 \r\nz\r\nM 31.78125 74.21875 \r\nQ 44.046875 74.21875 50.515625 64.515625 \r\nQ 56.984375 54.828125 56.984375 36.375 \r\nQ 56.984375 17.96875 50.515625 8.265625 \r\nQ 44.046875 -1.421875 31.78125 -1.421875 \r\nQ 19.53125 -1.421875 13.0625 8.265625 \r\nQ 6.59375 17.96875 6.59375 36.375 \r\nQ 6.59375 54.828125 13.0625 64.515625 \r\nQ 19.53125 74.21875 31.78125 74.21875 \r\nz\r\n\" id=\"DejaVuSans-48\"/>\r\n        <path d=\"M 37.796875 64.3125 \r\nL 12.890625 25.390625 \r\nL 37.796875 25.390625 \r\nz\r\nM 35.203125 72.90625 \r\nL 47.609375 72.90625 \r\nL 47.609375 25.390625 \r\nL 58.015625 25.390625 \r\nL 58.015625 17.1875 \r\nL 47.609375 17.1875 \r\nL 47.609375 0 \r\nL 37.796875 0 \r\nL 37.796875 17.1875 \r\nL 4.890625 17.1875 \r\nL 4.890625 26.703125 \r\nz\r\n\" id=\"DejaVuSans-52\"/>\r\n       </defs>\r\n       <use xlink:href=\"#DejaVuSans-50\"/>\r\n       <use x=\"63.623047\" xlink:href=\"#DejaVuSans-48\"/>\r\n       <use x=\"127.246094\" xlink:href=\"#DejaVuSans-48\"/>\r\n       <use x=\"190.869141\" xlink:href=\"#DejaVuSans-52\"/>\r\n      </g>\r\n     </g>\r\n    </g>\r\n    <g id=\"xtick_3\">\r\n     <g id=\"line2d_3\">\r\n      <g>\r\n       <use style=\"stroke:#000000;stroke-width:0.8;\" x=\"106.386669\" xlink:href=\"#m7047d06bb6\" y=\"224.64\"/>\r\n      </g>\r\n     </g>\r\n     <g id=\"text_2\">\r\n      <!-- 2005 -->\r\n      <g transform=\"translate(93.661669 239.238437)scale(0.1 -0.1)\">\r\n       <defs>\r\n        <path d=\"M 10.796875 72.90625 \r\nL 49.515625 72.90625 \r\nL 49.515625 64.59375 \r\nL 19.828125 64.59375 \r\nL 19.828125 46.734375 \r\nQ 21.96875 47.46875 24.109375 47.828125 \r\nQ 26.265625 48.1875 28.421875 48.1875 \r\nQ 40.625 48.1875 47.75 41.5 \r\nQ 54.890625 34.8125 54.890625 23.390625 \r\nQ 54.890625 11.625 47.5625 5.09375 \r\nQ 40.234375 -1.421875 26.90625 -1.421875 \r\nQ 22.3125 -1.421875 17.546875 -0.640625 \r\nQ 12.796875 0.140625 7.71875 1.703125 \r\nL 7.71875 11.625 \r\nQ 12.109375 9.234375 16.796875 8.0625 \r\nQ 21.484375 6.890625 26.703125 6.890625 \r\nQ 35.15625 6.890625 40.078125 11.328125 \r\nQ 45.015625 15.765625 45.015625 23.390625 \r\nQ 45.015625 31 40.078125 35.4375 \r\nQ 35.15625 39.890625 26.703125 39.890625 \r\nQ 22.75 39.890625 18.8125 39.015625 \r\nQ 14.890625 38.140625 10.796875 36.28125 \r\nz\r\n\" id=\"DejaVuSans-53\"/>\r\n       </defs>\r\n       <use xlink:href=\"#DejaVuSans-50\"/>\r\n       <use x=\"63.623047\" xlink:href=\"#DejaVuSans-48\"/>\r\n       <use x=\"127.246094\" xlink:href=\"#DejaVuSans-48\"/>\r\n       <use x=\"190.869141\" xlink:href=\"#DejaVuSans-53\"/>\r\n      </g>\r\n     </g>\r\n    </g>\r\n    <g id=\"xtick_4\">\r\n     <g id=\"line2d_4\">\r\n      <g>\r\n       <use style=\"stroke:#000000;stroke-width:0.8;\" x=\"144.382304\" xlink:href=\"#m7047d06bb6\" y=\"224.64\"/>\r\n      </g>\r\n     </g>\r\n     <g id=\"text_3\">\r\n      <!-- 2006 -->\r\n      <g transform=\"translate(131.657304 239.238437)scale(0.1 -0.1)\">\r\n       <defs>\r\n        <path d=\"M 33.015625 40.375 \r\nQ 26.375 40.375 22.484375 35.828125 \r\nQ 18.609375 31.296875 18.609375 23.390625 \r\nQ 18.609375 15.53125 22.484375 10.953125 \r\nQ 26.375 6.390625 33.015625 6.390625 \r\nQ 39.65625 6.390625 43.53125 10.953125 \r\nQ 47.40625 15.53125 47.40625 23.390625 \r\nQ 47.40625 31.296875 43.53125 35.828125 \r\nQ 39.65625 40.375 33.015625 40.375 \r\nz\r\nM 52.59375 71.296875 \r\nL 52.59375 62.3125 \r\nQ 48.875 64.0625 45.09375 64.984375 \r\nQ 41.3125 65.921875 37.59375 65.921875 \r\nQ 27.828125 65.921875 22.671875 59.328125 \r\nQ 17.53125 52.734375 16.796875 39.40625 \r\nQ 19.671875 43.65625 24.015625 45.921875 \r\nQ 28.375 48.1875 33.59375 48.1875 \r\nQ 44.578125 48.1875 50.953125 41.515625 \r\nQ 57.328125 34.859375 57.328125 23.390625 \r\nQ 57.328125 12.15625 50.6875 5.359375 \r\nQ 44.046875 -1.421875 33.015625 -1.421875 \r\nQ 20.359375 -1.421875 13.671875 8.265625 \r\nQ 6.984375 17.96875 6.984375 36.375 \r\nQ 6.984375 53.65625 15.1875 63.9375 \r\nQ 23.390625 74.21875 37.203125 74.21875 \r\nQ 40.921875 74.21875 44.703125 73.484375 \r\nQ 48.484375 72.75 52.59375 71.296875 \r\nz\r\n\" id=\"DejaVuSans-54\"/>\r\n       </defs>\r\n       <use xlink:href=\"#DejaVuSans-50\"/>\r\n       <use x=\"63.623047\" xlink:href=\"#DejaVuSans-48\"/>\r\n       <use x=\"127.246094\" xlink:href=\"#DejaVuSans-48\"/>\r\n       <use x=\"190.869141\" xlink:href=\"#DejaVuSans-54\"/>\r\n      </g>\r\n     </g>\r\n    </g>\r\n    <g id=\"xtick_5\">\r\n     <g id=\"line2d_5\">\r\n      <g>\r\n       <use style=\"stroke:#000000;stroke-width:0.8;\" x=\"182.377939\" xlink:href=\"#m7047d06bb6\" y=\"224.64\"/>\r\n      </g>\r\n     </g>\r\n     <g id=\"text_4\">\r\n      <!-- 2007 -->\r\n      <g transform=\"translate(169.652939 239.238437)scale(0.1 -0.1)\">\r\n       <defs>\r\n        <path d=\"M 8.203125 72.90625 \r\nL 55.078125 72.90625 \r\nL 55.078125 68.703125 \r\nL 28.609375 0 \r\nL 18.3125 0 \r\nL 43.21875 64.59375 \r\nL 8.203125 64.59375 \r\nz\r\n\" id=\"DejaVuSans-55\"/>\r\n       </defs>\r\n       <use xlink:href=\"#DejaVuSans-50\"/>\r\n       <use x=\"63.623047\" xlink:href=\"#DejaVuSans-48\"/>\r\n       <use x=\"127.246094\" xlink:href=\"#DejaVuSans-48\"/>\r\n       <use x=\"190.869141\" xlink:href=\"#DejaVuSans-55\"/>\r\n      </g>\r\n     </g>\r\n    </g>\r\n    <g id=\"xtick_6\">\r\n     <g id=\"line2d_6\">\r\n      <g>\r\n       <use style=\"stroke:#000000;stroke-width:0.8;\" x=\"220.519712\" xlink:href=\"#m7047d06bb6\" y=\"224.64\"/>\r\n      </g>\r\n     </g>\r\n     <g id=\"text_5\">\r\n      <!-- 2008 -->\r\n      <g transform=\"translate(207.794712 239.238437)scale(0.1 -0.1)\">\r\n       <defs>\r\n        <path d=\"M 31.78125 34.625 \r\nQ 24.75 34.625 20.71875 30.859375 \r\nQ 16.703125 27.09375 16.703125 20.515625 \r\nQ 16.703125 13.921875 20.71875 10.15625 \r\nQ 24.75 6.390625 31.78125 6.390625 \r\nQ 38.8125 6.390625 42.859375 10.171875 \r\nQ 46.921875 13.96875 46.921875 20.515625 \r\nQ 46.921875 27.09375 42.890625 30.859375 \r\nQ 38.875 34.625 31.78125 34.625 \r\nz\r\nM 21.921875 38.8125 \r\nQ 15.578125 40.375 12.03125 44.71875 \r\nQ 8.5 49.078125 8.5 55.328125 \r\nQ 8.5 64.0625 14.71875 69.140625 \r\nQ 20.953125 74.21875 31.78125 74.21875 \r\nQ 42.671875 74.21875 48.875 69.140625 \r\nQ 55.078125 64.0625 55.078125 55.328125 \r\nQ 55.078125 49.078125 51.53125 44.71875 \r\nQ 48 40.375 41.703125 38.8125 \r\nQ 48.828125 37.15625 52.796875 32.3125 \r\nQ 56.78125 27.484375 56.78125 20.515625 \r\nQ 56.78125 9.90625 50.3125 4.234375 \r\nQ 43.84375 -1.421875 31.78125 -1.421875 \r\nQ 19.734375 -1.421875 13.25 4.234375 \r\nQ 6.78125 9.90625 6.78125 20.515625 \r\nQ 6.78125 27.484375 10.78125 32.3125 \r\nQ 14.796875 37.15625 21.921875 38.8125 \r\nz\r\nM 18.3125 54.390625 \r\nQ 18.3125 48.734375 21.84375 45.5625 \r\nQ 25.390625 42.390625 31.78125 42.390625 \r\nQ 38.140625 42.390625 41.71875 45.5625 \r\nQ 45.3125 48.734375 45.3125 54.390625 \r\nQ 45.3125 60.0625 41.71875 63.234375 \r\nQ 38.140625 66.40625 31.78125 66.40625 \r\nQ 25.390625 66.40625 21.84375 63.234375 \r\nQ 18.3125 60.0625 18.3125 54.390625 \r\nz\r\n\" id=\"DejaVuSans-56\"/>\r\n       </defs>\r\n       <use xlink:href=\"#DejaVuSans-50\"/>\r\n       <use x=\"63.623047\" xlink:href=\"#DejaVuSans-48\"/>\r\n       <use x=\"127.246094\" xlink:href=\"#DejaVuSans-48\"/>\r\n       <use x=\"190.869141\" xlink:href=\"#DejaVuSans-56\"/>\r\n      </g>\r\n     </g>\r\n    </g>\r\n    <g id=\"xtick_7\">\r\n     <g id=\"line2d_7\">\r\n      <g>\r\n       <use style=\"stroke:#000000;stroke-width:0.8;\" x=\"258.807621\" xlink:href=\"#m7047d06bb6\" y=\"224.64\"/>\r\n      </g>\r\n     </g>\r\n     <g id=\"text_6\">\r\n      <!-- 2009 -->\r\n      <g transform=\"translate(246.082621 239.238437)scale(0.1 -0.1)\">\r\n       <defs>\r\n        <path d=\"M 10.984375 1.515625 \r\nL 10.984375 10.5 \r\nQ 14.703125 8.734375 18.5 7.8125 \r\nQ 22.3125 6.890625 25.984375 6.890625 \r\nQ 35.75 6.890625 40.890625 13.453125 \r\nQ 46.046875 20.015625 46.78125 33.40625 \r\nQ 43.953125 29.203125 39.59375 26.953125 \r\nQ 35.25 24.703125 29.984375 24.703125 \r\nQ 19.046875 24.703125 12.671875 31.3125 \r\nQ 6.296875 37.9375 6.296875 49.421875 \r\nQ 6.296875 60.640625 12.9375 67.421875 \r\nQ 19.578125 74.21875 30.609375 74.21875 \r\nQ 43.265625 74.21875 49.921875 64.515625 \r\nQ 56.59375 54.828125 56.59375 36.375 \r\nQ 56.59375 19.140625 48.40625 8.859375 \r\nQ 40.234375 -1.421875 26.421875 -1.421875 \r\nQ 22.703125 -1.421875 18.890625 -0.6875 \r\nQ 15.09375 0.046875 10.984375 1.515625 \r\nz\r\nM 30.609375 32.421875 \r\nQ 37.25 32.421875 41.125 36.953125 \r\nQ 45.015625 41.5 45.015625 49.421875 \r\nQ 45.015625 57.28125 41.125 61.84375 \r\nQ 37.25 66.40625 30.609375 66.40625 \r\nQ 23.96875 66.40625 20.09375 61.84375 \r\nQ 16.21875 57.28125 16.21875 49.421875 \r\nQ 16.21875 41.5 20.09375 36.953125 \r\nQ 23.96875 32.421875 30.609375 32.421875 \r\nz\r\n\" id=\"DejaVuSans-57\"/>\r\n       </defs>\r\n       <use xlink:href=\"#DejaVuSans-50\"/>\r\n       <use x=\"63.623047\" xlink:href=\"#DejaVuSans-48\"/>\r\n       <use x=\"127.246094\" xlink:href=\"#DejaVuSans-48\"/>\r\n       <use x=\"190.869141\" xlink:href=\"#DejaVuSans-57\"/>\r\n      </g>\r\n     </g>\r\n    </g>\r\n    <g id=\"xtick_8\">\r\n     <g id=\"line2d_8\">\r\n      <g>\r\n       <use style=\"stroke:#000000;stroke-width:0.8;\" x=\"296.949393\" xlink:href=\"#m7047d06bb6\" y=\"224.64\"/>\r\n      </g>\r\n     </g>\r\n     <g id=\"text_7\">\r\n      <!-- 2010 -->\r\n      <g transform=\"translate(284.224393 239.238437)scale(0.1 -0.1)\">\r\n       <defs>\r\n        <path d=\"M 12.40625 8.296875 \r\nL 28.515625 8.296875 \r\nL 28.515625 63.921875 \r\nL 10.984375 60.40625 \r\nL 10.984375 69.390625 \r\nL 28.421875 72.90625 \r\nL 38.28125 72.90625 \r\nL 38.28125 8.296875 \r\nL 54.390625 8.296875 \r\nL 54.390625 0 \r\nL 12.40625 0 \r\nz\r\n\" id=\"DejaVuSans-49\"/>\r\n       </defs>\r\n       <use xlink:href=\"#DejaVuSans-50\"/>\r\n       <use x=\"63.623047\" xlink:href=\"#DejaVuSans-48\"/>\r\n       <use x=\"127.246094\" xlink:href=\"#DejaVuSans-49\"/>\r\n       <use x=\"190.869141\" xlink:href=\"#DejaVuSans-48\"/>\r\n      </g>\r\n     </g>\r\n    </g>\r\n    <g id=\"xtick_9\">\r\n     <g id=\"line2d_9\">\r\n      <g>\r\n       <use style=\"stroke:#000000;stroke-width:0.8;\" x=\"335.091165\" xlink:href=\"#m7047d06bb6\" y=\"224.64\"/>\r\n      </g>\r\n     </g>\r\n     <g id=\"text_8\">\r\n      <!-- 2011 -->\r\n      <g transform=\"translate(322.366165 239.238437)scale(0.1 -0.1)\">\r\n       <use xlink:href=\"#DejaVuSans-50\"/>\r\n       <use x=\"63.623047\" xlink:href=\"#DejaVuSans-48\"/>\r\n       <use x=\"127.246094\" xlink:href=\"#DejaVuSans-49\"/>\r\n       <use x=\"190.869141\" xlink:href=\"#DejaVuSans-49\"/>\r\n      </g>\r\n     </g>\r\n    </g>\r\n    <g id=\"xtick_10\">\r\n     <g id=\"line2d_10\">\r\n      <g>\r\n       <use style=\"stroke:#000000;stroke-width:0.8;\" x=\"364.903125\" xlink:href=\"#m7047d06bb6\" y=\"224.64\"/>\r\n      </g>\r\n     </g>\r\n    </g>\r\n    <g id=\"xtick_11\">\r\n     <g id=\"line2d_11\">\r\n      <defs>\r\n       <path d=\"M 0 0 \r\nL 0 2 \r\n\" id=\"md25ebba604\" style=\"stroke:#000000;stroke-width:0.6;\"/>\r\n      </defs>\r\n      <g>\r\n       <use style=\"stroke:#000000;stroke-width:0.6;\" x=\"39.30976\" xlink:href=\"#md25ebba604\" y=\"224.64\"/>\r\n      </g>\r\n     </g>\r\n    </g>\r\n    <g id=\"xtick_12\">\r\n     <g id=\"line2d_12\">\r\n      <g>\r\n       <use style=\"stroke:#000000;stroke-width:0.6;\" x=\"48.808668\" xlink:href=\"#md25ebba604\" y=\"224.64\"/>\r\n      </g>\r\n     </g>\r\n    </g>\r\n    <g id=\"xtick_13\">\r\n     <g id=\"line2d_13\">\r\n      <g>\r\n       <use style=\"stroke:#000000;stroke-width:0.6;\" x=\"58.453714\" xlink:href=\"#md25ebba604\" y=\"224.64\"/>\r\n      </g>\r\n     </g>\r\n    </g>\r\n    <g id=\"xtick_14\">\r\n     <g id=\"line2d_14\">\r\n      <g>\r\n       <use style=\"stroke:#000000;stroke-width:0.6;\" x=\"77.597669\" xlink:href=\"#md25ebba604\" y=\"224.64\"/>\r\n      </g>\r\n     </g>\r\n    </g>\r\n    <g id=\"xtick_15\">\r\n     <g id=\"line2d_15\">\r\n      <g>\r\n       <use style=\"stroke:#000000;stroke-width:0.6;\" x=\"87.096578\" xlink:href=\"#md25ebba604\" y=\"224.64\"/>\r\n      </g>\r\n     </g>\r\n    </g>\r\n    <g id=\"xtick_16\">\r\n     <g id=\"line2d_16\">\r\n      <g>\r\n       <use style=\"stroke:#000000;stroke-width:0.6;\" x=\"96.741623\" xlink:href=\"#md25ebba604\" y=\"224.64\"/>\r\n      </g>\r\n     </g>\r\n    </g>\r\n    <g id=\"xtick_17\">\r\n     <g id=\"line2d_17\">\r\n      <g>\r\n       <use style=\"stroke:#000000;stroke-width:0.6;\" x=\"115.739441\" xlink:href=\"#md25ebba604\" y=\"224.64\"/>\r\n      </g>\r\n     </g>\r\n    </g>\r\n    <g id=\"xtick_18\">\r\n     <g id=\"line2d_18\">\r\n      <g>\r\n       <use style=\"stroke:#000000;stroke-width:0.6;\" x=\"125.23835\" xlink:href=\"#md25ebba604\" y=\"224.64\"/>\r\n      </g>\r\n     </g>\r\n    </g>\r\n    <g id=\"xtick_19\">\r\n     <g id=\"line2d_19\">\r\n      <g>\r\n       <use style=\"stroke:#000000;stroke-width:0.6;\" x=\"134.883396\" xlink:href=\"#md25ebba604\" y=\"224.64\"/>\r\n      </g>\r\n     </g>\r\n    </g>\r\n    <g id=\"xtick_20\">\r\n     <g id=\"line2d_20\">\r\n      <g>\r\n       <use style=\"stroke:#000000;stroke-width:0.6;\" x=\"153.881213\" xlink:href=\"#md25ebba604\" y=\"224.64\"/>\r\n      </g>\r\n     </g>\r\n    </g>\r\n    <g id=\"xtick_21\">\r\n     <g id=\"line2d_21\">\r\n      <g>\r\n       <use style=\"stroke:#000000;stroke-width:0.6;\" x=\"163.380122\" xlink:href=\"#md25ebba604\" y=\"224.64\"/>\r\n      </g>\r\n     </g>\r\n    </g>\r\n    <g id=\"xtick_22\">\r\n     <g id=\"line2d_22\">\r\n      <g>\r\n       <use style=\"stroke:#000000;stroke-width:0.6;\" x=\"172.879031\" xlink:href=\"#md25ebba604\" y=\"224.64\"/>\r\n      </g>\r\n     </g>\r\n    </g>\r\n    <g id=\"xtick_23\">\r\n     <g id=\"line2d_23\">\r\n      <g>\r\n       <use style=\"stroke:#000000;stroke-width:0.6;\" x=\"191.876848\" xlink:href=\"#md25ebba604\" y=\"224.64\"/>\r\n      </g>\r\n     </g>\r\n    </g>\r\n    <g id=\"xtick_24\">\r\n     <g id=\"line2d_24\">\r\n      <g>\r\n       <use style=\"stroke:#000000;stroke-width:0.6;\" x=\"201.375757\" xlink:href=\"#md25ebba604\" y=\"224.64\"/>\r\n      </g>\r\n     </g>\r\n    </g>\r\n    <g id=\"xtick_25\">\r\n     <g id=\"line2d_25\">\r\n      <g>\r\n       <use style=\"stroke:#000000;stroke-width:0.6;\" x=\"210.874666\" xlink:href=\"#md25ebba604\" y=\"224.64\"/>\r\n      </g>\r\n     </g>\r\n    </g>\r\n    <g id=\"xtick_26\">\r\n     <g id=\"line2d_26\">\r\n      <g>\r\n       <use style=\"stroke:#000000;stroke-width:0.6;\" x=\"230.01862\" xlink:href=\"#md25ebba604\" y=\"224.64\"/>\r\n      </g>\r\n     </g>\r\n    </g>\r\n    <g id=\"xtick_27\">\r\n     <g id=\"line2d_27\">\r\n      <g>\r\n       <use style=\"stroke:#000000;stroke-width:0.6;\" x=\"239.517529\" xlink:href=\"#md25ebba604\" y=\"224.64\"/>\r\n      </g>\r\n     </g>\r\n    </g>\r\n    <g id=\"xtick_28\">\r\n     <g id=\"line2d_28\">\r\n      <g>\r\n       <use style=\"stroke:#000000;stroke-width:0.6;\" x=\"249.162575\" xlink:href=\"#md25ebba604\" y=\"224.64\"/>\r\n      </g>\r\n     </g>\r\n    </g>\r\n    <g id=\"xtick_29\">\r\n     <g id=\"line2d_29\">\r\n      <g>\r\n       <use style=\"stroke:#000000;stroke-width:0.6;\" x=\"268.160393\" xlink:href=\"#md25ebba604\" y=\"224.64\"/>\r\n      </g>\r\n     </g>\r\n    </g>\r\n    <g id=\"xtick_30\">\r\n     <g id=\"line2d_30\">\r\n      <g>\r\n       <use style=\"stroke:#000000;stroke-width:0.6;\" x=\"277.659301\" xlink:href=\"#md25ebba604\" y=\"224.64\"/>\r\n      </g>\r\n     </g>\r\n    </g>\r\n    <g id=\"xtick_31\">\r\n     <g id=\"line2d_31\">\r\n      <g>\r\n       <use style=\"stroke:#000000;stroke-width:0.6;\" x=\"287.304347\" xlink:href=\"#md25ebba604\" y=\"224.64\"/>\r\n      </g>\r\n     </g>\r\n    </g>\r\n    <g id=\"xtick_32\">\r\n     <g id=\"line2d_32\">\r\n      <g>\r\n       <use style=\"stroke:#000000;stroke-width:0.6;\" x=\"306.302165\" xlink:href=\"#md25ebba604\" y=\"224.64\"/>\r\n      </g>\r\n     </g>\r\n    </g>\r\n    <g id=\"xtick_33\">\r\n     <g id=\"line2d_33\">\r\n      <g>\r\n       <use style=\"stroke:#000000;stroke-width:0.6;\" x=\"315.801073\" xlink:href=\"#md25ebba604\" y=\"224.64\"/>\r\n      </g>\r\n     </g>\r\n    </g>\r\n    <g id=\"xtick_34\">\r\n     <g id=\"line2d_34\">\r\n      <g>\r\n       <use style=\"stroke:#000000;stroke-width:0.6;\" x=\"325.446119\" xlink:href=\"#md25ebba604\" y=\"224.64\"/>\r\n      </g>\r\n     </g>\r\n    </g>\r\n    <g id=\"xtick_35\">\r\n     <g id=\"line2d_35\">\r\n      <g>\r\n       <use style=\"stroke:#000000;stroke-width:0.6;\" x=\"344.443937\" xlink:href=\"#md25ebba604\" y=\"224.64\"/>\r\n      </g>\r\n     </g>\r\n    </g>\r\n    <g id=\"xtick_36\">\r\n     <g id=\"line2d_36\">\r\n      <g>\r\n       <use style=\"stroke:#000000;stroke-width:0.6;\" x=\"353.942846\" xlink:href=\"#md25ebba604\" y=\"224.64\"/>\r\n      </g>\r\n     </g>\r\n    </g>\r\n    <g id=\"xtick_37\">\r\n     <g id=\"line2d_37\">\r\n      <g>\r\n       <use style=\"stroke:#000000;stroke-width:0.6;\" x=\"363.587891\" xlink:href=\"#md25ebba604\" y=\"224.64\"/>\r\n      </g>\r\n     </g>\r\n    </g>\r\n   </g>\r\n   <g id=\"matplotlib.axis_2\">\r\n    <g id=\"ytick_1\">\r\n     <g id=\"line2d_38\">\r\n      <defs>\r\n       <path d=\"M 0 0 \r\nL -3.5 0 \r\n\" id=\"m3934c2c61a\" style=\"stroke:#000000;stroke-width:0.8;\"/>\r\n      </defs>\r\n      <g>\r\n       <use style=\"stroke:#000000;stroke-width:0.8;\" x=\"30.103125\" xlink:href=\"#m3934c2c61a\" y=\"209.634037\"/>\r\n      </g>\r\n     </g>\r\n     <g id=\"text_9\">\r\n      <!-- 0.2 -->\r\n      <g transform=\"translate(7.2 213.433255)scale(0.1 -0.1)\">\r\n       <defs>\r\n        <path d=\"M 10.6875 12.40625 \r\nL 21 12.40625 \r\nL 21 0 \r\nL 10.6875 0 \r\nz\r\n\" id=\"DejaVuSans-46\"/>\r\n       </defs>\r\n       <use xlink:href=\"#DejaVuSans-48\"/>\r\n       <use x=\"63.623047\" xlink:href=\"#DejaVuSans-46\"/>\r\n       <use x=\"95.410156\" xlink:href=\"#DejaVuSans-50\"/>\r\n      </g>\r\n     </g>\r\n    </g>\r\n    <g id=\"ytick_2\">\r\n     <g id=\"line2d_39\">\r\n      <g>\r\n       <use style=\"stroke:#000000;stroke-width:0.8;\" x=\"30.103125\" xlink:href=\"#m3934c2c61a\" y=\"177.688856\"/>\r\n      </g>\r\n     </g>\r\n     <g id=\"text_10\">\r\n      <!-- 0.3 -->\r\n      <g transform=\"translate(7.2 181.488074)scale(0.1 -0.1)\">\r\n       <defs>\r\n        <path d=\"M 40.578125 39.3125 \r\nQ 47.65625 37.796875 51.625 33 \r\nQ 55.609375 28.21875 55.609375 21.1875 \r\nQ 55.609375 10.40625 48.1875 4.484375 \r\nQ 40.765625 -1.421875 27.09375 -1.421875 \r\nQ 22.515625 -1.421875 17.65625 -0.515625 \r\nQ 12.796875 0.390625 7.625 2.203125 \r\nL 7.625 11.71875 \r\nQ 11.71875 9.328125 16.59375 8.109375 \r\nQ 21.484375 6.890625 26.8125 6.890625 \r\nQ 36.078125 6.890625 40.9375 10.546875 \r\nQ 45.796875 14.203125 45.796875 21.1875 \r\nQ 45.796875 27.640625 41.28125 31.265625 \r\nQ 36.765625 34.90625 28.71875 34.90625 \r\nL 20.21875 34.90625 \r\nL 20.21875 43.015625 \r\nL 29.109375 43.015625 \r\nQ 36.375 43.015625 40.234375 45.921875 \r\nQ 44.09375 48.828125 44.09375 54.296875 \r\nQ 44.09375 59.90625 40.109375 62.90625 \r\nQ 36.140625 65.921875 28.71875 65.921875 \r\nQ 24.65625 65.921875 20.015625 65.03125 \r\nQ 15.375 64.15625 9.8125 62.3125 \r\nL 9.8125 71.09375 \r\nQ 15.4375 72.65625 20.34375 73.4375 \r\nQ 25.25 74.21875 29.59375 74.21875 \r\nQ 40.828125 74.21875 47.359375 69.109375 \r\nQ 53.90625 64.015625 53.90625 55.328125 \r\nQ 53.90625 49.265625 50.4375 45.09375 \r\nQ 46.96875 40.921875 40.578125 39.3125 \r\nz\r\n\" id=\"DejaVuSans-51\"/>\r\n       </defs>\r\n       <use xlink:href=\"#DejaVuSans-48\"/>\r\n       <use x=\"63.623047\" xlink:href=\"#DejaVuSans-46\"/>\r\n       <use x=\"95.410156\" xlink:href=\"#DejaVuSans-51\"/>\r\n      </g>\r\n     </g>\r\n    </g>\r\n    <g id=\"ytick_3\">\r\n     <g id=\"line2d_40\">\r\n      <g>\r\n       <use style=\"stroke:#000000;stroke-width:0.8;\" x=\"30.103125\" xlink:href=\"#m3934c2c61a\" y=\"145.743675\"/>\r\n      </g>\r\n     </g>\r\n     <g id=\"text_11\">\r\n      <!-- 0.4 -->\r\n      <g transform=\"translate(7.2 149.542893)scale(0.1 -0.1)\">\r\n       <use xlink:href=\"#DejaVuSans-48\"/>\r\n       <use x=\"63.623047\" xlink:href=\"#DejaVuSans-46\"/>\r\n       <use x=\"95.410156\" xlink:href=\"#DejaVuSans-52\"/>\r\n      </g>\r\n     </g>\r\n    </g>\r\n    <g id=\"ytick_4\">\r\n     <g id=\"line2d_41\">\r\n      <g>\r\n       <use style=\"stroke:#000000;stroke-width:0.8;\" x=\"30.103125\" xlink:href=\"#m3934c2c61a\" y=\"113.798494\"/>\r\n      </g>\r\n     </g>\r\n     <g id=\"text_12\">\r\n      <!-- 0.5 -->\r\n      <g transform=\"translate(7.2 117.597712)scale(0.1 -0.1)\">\r\n       <use xlink:href=\"#DejaVuSans-48\"/>\r\n       <use x=\"63.623047\" xlink:href=\"#DejaVuSans-46\"/>\r\n       <use x=\"95.410156\" xlink:href=\"#DejaVuSans-53\"/>\r\n      </g>\r\n     </g>\r\n    </g>\r\n    <g id=\"ytick_5\">\r\n     <g id=\"line2d_42\">\r\n      <g>\r\n       <use style=\"stroke:#000000;stroke-width:0.8;\" x=\"30.103125\" xlink:href=\"#m3934c2c61a\" y=\"81.853313\"/>\r\n      </g>\r\n     </g>\r\n     <g id=\"text_13\">\r\n      <!-- 0.6 -->\r\n      <g transform=\"translate(7.2 85.652531)scale(0.1 -0.1)\">\r\n       <use xlink:href=\"#DejaVuSans-48\"/>\r\n       <use x=\"63.623047\" xlink:href=\"#DejaVuSans-46\"/>\r\n       <use x=\"95.410156\" xlink:href=\"#DejaVuSans-54\"/>\r\n      </g>\r\n     </g>\r\n    </g>\r\n    <g id=\"ytick_6\">\r\n     <g id=\"line2d_43\">\r\n      <g>\r\n       <use style=\"stroke:#000000;stroke-width:0.8;\" x=\"30.103125\" xlink:href=\"#m3934c2c61a\" y=\"49.908132\"/>\r\n      </g>\r\n     </g>\r\n     <g id=\"text_14\">\r\n      <!-- 0.7 -->\r\n      <g transform=\"translate(7.2 53.70735)scale(0.1 -0.1)\">\r\n       <use xlink:href=\"#DejaVuSans-48\"/>\r\n       <use x=\"63.623047\" xlink:href=\"#DejaVuSans-46\"/>\r\n       <use x=\"95.410156\" xlink:href=\"#DejaVuSans-55\"/>\r\n      </g>\r\n     </g>\r\n    </g>\r\n    <g id=\"ytick_7\">\r\n     <g id=\"line2d_44\">\r\n      <g>\r\n       <use style=\"stroke:#000000;stroke-width:0.8;\" x=\"30.103125\" xlink:href=\"#m3934c2c61a\" y=\"17.96295\"/>\r\n      </g>\r\n     </g>\r\n     <g id=\"text_15\">\r\n      <!-- 0.8 -->\r\n      <g transform=\"translate(7.2 21.762169)scale(0.1 -0.1)\">\r\n       <use xlink:href=\"#DejaVuSans-48\"/>\r\n       <use x=\"63.623047\" xlink:href=\"#DejaVuSans-46\"/>\r\n       <use x=\"95.410156\" xlink:href=\"#DejaVuSans-56\"/>\r\n      </g>\r\n     </g>\r\n    </g>\r\n   </g>\r\n   <g id=\"line2d_45\">\r\n    <path clip-path=\"url(#p9f43d21a48)\" d=\"M 45.301379 102.066439 \r\nL 45.447516 101.854003 \r\nL 45.73979 106.522347 \r\nL 45.885927 107.20251 \r\nL 46.032064 106.31433 \r\nL 46.178201 106.347545 \r\nL 46.324338 106.716328 \r\nL 46.616613 104.721429 \r\nL 46.76275 104.009337 \r\nL 46.908887 104.370467 \r\nL 47.055024 103.325135 \r\nL 47.201161 99.083041 \r\nL 47.347298 99.134051 \r\nL 47.493435 103.365231 \r\nL 47.639572 104.302977 \r\nL 47.785709 104.302812 \r\nL 47.931846 104.095075 \r\nL 48.077983 104.636234 \r\nL 48.22412 106.41203 \r\nL 48.370257 106.209983 \r\nL 48.662531 103.12377 \r\nL 48.808668 103.445042 \r\nL 48.954805 104.710161 \r\nL 49.100943 103.724268 \r\nL 49.24708 103.721304 \r\nL 49.393217 101.004215 \r\nL 49.539354 100.763433 \r\nL 49.685491 100.947637 \r\nL 49.831628 99.433917 \r\nL 49.977765 101.213598 \r\nL 50.123902 101.364152 \r\nL 50.270039 101.087189 \r\nL 50.416176 102.639436 \r\nL 50.70845 116.673626 \r\nL 50.854587 110.789778 \r\nL 51.146861 112.546815 \r\nL 51.292998 116.858233 \r\nL 51.439135 112.972576 \r\nL 51.585273 113.315584 \r\nL 51.73141 112.595909 \r\nL 51.877547 113.051847 \r\nL 52.023684 114.000851 \r\nL 52.169821 114.188993 \r\nL 52.315958 114.732429 \r\nL 52.462095 111.052216 \r\nL 52.608232 112.04584 \r\nL 52.754369 111.431149 \r\nL 53.046643 111.456233 \r\nL 53.485054 119.39367 \r\nL 53.923465 120.964322 \r\nL 54.21574 127.272976 \r\nL 54.361877 125.284563 \r\nL 54.508014 126.458251 \r\nL 54.654151 126.392319 \r\nL 54.800288 126.714552 \r\nL 54.946425 126.607627 \r\nL 55.092562 125.748224 \r\nL 55.238699 125.721071 \r\nL 55.384836 126.38382 \r\nL 55.530973 126.26995 \r\nL 55.67711 129.868245 \r\nL 55.823247 129.072101 \r\nL 56.115521 125.535919 \r\nL 56.553933 121.725708 \r\nL 56.70007 129.061255 \r\nL 56.846207 130.015835 \r\nL 56.992344 130.219817 \r\nL 57.284618 127.047029 \r\nL 57.430755 128.385358 \r\nL 57.576892 127.012044 \r\nL 57.723029 123.118256 \r\nL 57.869166 122.316415 \r\nL 58.015303 123.358208 \r\nL 58.307577 120.227231 \r\nL 58.453714 124.567554 \r\nL 58.599851 125.117451 \r\nL 58.745988 121.361494 \r\nL 58.892125 123.196051 \r\nL 59.038262 121.766367 \r\nL 59.1844 122.29896 \r\nL 59.330537 118.242143 \r\nL 59.476674 118.376702 \r\nL 59.622811 117.727929 \r\nL 59.768948 119.469072 \r\nL 59.915085 119.414259 \r\nL 60.061222 126.146506 \r\nL 60.207359 124.497015 \r\nL 60.353496 127.201352 \r\nL 60.499633 127.366267 \r\nL 60.64577 125.46567 \r\nL 60.791907 125.237248 \r\nL 60.938044 123.315914 \r\nL 61.230318 98.952826 \r\nL 61.376455 98.221188 \r\nL 61.522592 94.54091 \r\nL 61.66873 95.685321 \r\nL 61.814867 95.776248 \r\nL 61.961004 94.967931 \r\nL 62.253278 95.670752 \r\nL 62.399415 94.838345 \r\nL 62.545552 98.448266 \r\nL 62.691689 98.569292 \r\nL 62.837826 96.537181 \r\nL 62.983963 97.482989 \r\nL 63.276237 95.136953 \r\nL 63.422374 95.702462 \r\nL 63.568511 94.373101 \r\nL 63.714648 95.124871 \r\nL 64.006922 85.791501 \r\nL 64.15306 85.968528 \r\nL 64.299197 86.483658 \r\nL 64.591471 86.380116 \r\nL 64.737608 85.644854 \r\nL 65.029882 86.869606 \r\nL 65.176019 86.628132 \r\nL 65.322156 87.226131 \r\nL 65.468293 92.823501 \r\nL 65.61443 91.2306 \r\nL 65.906704 81.188561 \r\nL 66.052841 82.077781 \r\nL 66.198978 80.183386 \r\nL 66.345115 80.340138 \r\nL 66.491252 77.223053 \r\nL 66.63739 77.654704 \r\nL 66.783527 79.557069 \r\nL 67.075801 77.912511 \r\nL 67.221938 80.144801 \r\nL 67.368075 80.153567 \r\nL 67.514212 80.412336 \r\nL 67.660349 83.475879 \r\nL 67.806486 83.52257 \r\nL 68.09876 84.733071 \r\nL 68.244897 85.128998 \r\nL 68.391034 82.116342 \r\nL 68.537171 82.563514 \r\nL 68.683308 80.602191 \r\nL 68.829445 64.037548 \r\nL 69.12172 60.180145 \r\nL 69.560131 68.601249 \r\nL 69.706268 74.169112 \r\nL 69.852405 74.291239 \r\nL 69.998542 74.704088 \r\nL 70.144679 76.145202 \r\nL 70.290816 74.33255 \r\nL 70.436953 76.469027 \r\nL 70.58309 75.254107 \r\nL 70.729227 81.367273 \r\nL 70.875364 77.297408 \r\nL 71.021501 77.752254 \r\nL 71.167638 76.520927 \r\nL 71.313775 77.24422 \r\nL 71.459912 76.152693 \r\nL 71.606049 70.376967 \r\nL 71.752187 69.534727 \r\nL 71.898324 69.658007 \r\nL 72.044461 71.14981 \r\nL 72.190598 70.777469 \r\nL 72.336735 65.215846 \r\nL 72.482872 64.647005 \r\nL 72.629009 66.092029 \r\nL 72.775146 66.098443 \r\nL 72.921283 66.577698 \r\nL 73.213557 66.228483 \r\nL 73.359694 66.641541 \r\nL 73.798105 66.172348 \r\nL 73.944242 66.174187 \r\nL 74.090379 69.671178 \r\nL 74.382654 70.873809 \r\nL 74.528791 70.015118 \r\nL 74.821065 77.606646 \r\nL 74.967202 76.215226 \r\nL 75.405613 92.800088 \r\nL 75.55175 92.902773 \r\nL 75.697887 90.446903 \r\nL 75.844024 94.126552 \r\nL 76.136298 102.302671 \r\nL 76.282435 103.162923 \r\nL 76.574709 109.536087 \r\nL 76.866984 97.525409 \r\nL 77.013121 100.293397 \r\nL 77.159258 98.166615 \r\nL 77.305395 98.593559 \r\nL 77.597669 100.276656 \r\nL 77.889943 99.258665 \r\nL 78.03608 99.099555 \r\nL 78.182217 97.186781 \r\nL 78.328354 88.615623 \r\nL 78.474491 90.155525 \r\nL 78.620628 90.195491 \r\nL 78.766765 86.016488 \r\nL 78.912902 86.698261 \r\nL 79.059039 100.43667 \r\nL 79.351314 103.103351 \r\nL 79.497451 106.400514 \r\nL 79.643588 106.788917 \r\nL 79.789725 108.93776 \r\nL 80.081999 107.626396 \r\nL 80.228136 108.4205 \r\nL 80.374273 107.09267 \r\nL 80.52041 109.169489 \r\nL 80.666547 108.615759 \r\nL 80.812684 109.698341 \r\nL 80.958821 109.586196 \r\nL 81.104958 112.453625 \r\nL 81.251095 112.645452 \r\nL 81.397232 117.87092 \r\nL 81.543369 117.701051 \r\nL 81.689506 118.73661 \r\nL 81.981781 117.440234 \r\nL 82.127918 117.176289 \r\nL 82.274055 120.936835 \r\nL 82.566329 118.488662 \r\nL 82.712466 118.522213 \r\nL 82.858603 118.017555 \r\nL 83.00474 121.226519 \r\nL 83.150877 117.005031 \r\nL 83.297014 116.998799 \r\nL 83.589288 119.633527 \r\nL 83.735425 119.666925 \r\nL 83.881562 121.95233 \r\nL 84.027699 121.789239 \r\nL 84.173836 123.896361 \r\nL 84.904522 116.973924 \r\nL 85.050659 116.699407 \r\nL 85.342933 113.737545 \r\nL 85.48907 115.781953 \r\nL 85.635207 115.77204 \r\nL 85.781344 115.935428 \r\nL 85.927481 115.768939 \r\nL 86.073618 115.347184 \r\nL 86.365892 113.933432 \r\nL 86.512029 115.727262 \r\nL 86.658166 120.614811 \r\nL 86.804304 120.623559 \r\nL 87.096578 121.8108 \r\nL 87.388852 123.950803 \r\nL 87.534989 122.204547 \r\nL 87.681126 122.702004 \r\nL 87.827263 116.971239 \r\nL 87.9734 115.813443 \r\nL 88.119537 117.946425 \r\nL 88.265674 117.965089 \r\nL 88.411811 116.987741 \r\nL 88.557948 137.24389 \r\nL 88.704085 135.791572 \r\nL 88.850222 137.052485 \r\nL 88.996359 136.375512 \r\nL 89.142496 137.217852 \r\nL 89.288634 137.36031 \r\nL 89.434771 134.840643 \r\nL 89.580908 134.300518 \r\nL 89.727045 131.301672 \r\nL 89.873182 133.039261 \r\nL 90.019319 132.94331 \r\nL 90.165456 133.144415 \r\nL 90.311593 135.942343 \r\nL 90.45773 135.816062 \r\nL 90.603867 139.128655 \r\nL 90.750004 138.551245 \r\nL 90.896141 133.111926 \r\nL 91.042278 132.971859 \r\nL 91.188415 128.52788 \r\nL 91.334552 128.009137 \r\nL 91.480689 126.708805 \r\nL 91.626826 126.624634 \r\nL 91.772963 129.965237 \r\nL 91.919101 129.924392 \r\nL 92.065238 128.414198 \r\nL 92.211375 128.179997 \r\nL 92.503649 127.091835 \r\nL 92.649786 127.836778 \r\nL 92.795923 125.973554 \r\nL 92.94206 127.722679 \r\nL 93.088197 126.693279 \r\nL 93.234334 128.239407 \r\nL 93.526608 117.036364 \r\nL 93.672745 121.415255 \r\nL 93.818882 121.299202 \r\nL 93.965019 125.975603 \r\nL 94.111156 122.113095 \r\nL 94.403431 124.616368 \r\nL 94.695705 121.341431 \r\nL 94.841842 121.542002 \r\nL 94.987979 120.764288 \r\nL 95.134116 127.377832 \r\nL 95.280253 126.59727 \r\nL 95.42639 131.234207 \r\nL 95.572527 130.904594 \r\nL 95.718664 126.61555 \r\nL 96.010938 127.601738 \r\nL 96.157075 130.17952 \r\nL 96.303212 129.810953 \r\nL 96.449349 130.502841 \r\nL 96.595486 130.379768 \r\nL 96.741623 134.626001 \r\nL 96.887761 135.416184 \r\nL 97.033898 141.015377 \r\nL 97.180035 139.322489 \r\nL 97.326172 127.307977 \r\nL 97.618446 124.268125 \r\nL 97.764583 126.988573 \r\nL 97.91072 132.942715 \r\nL 98.056857 165.221151 \r\nL 98.202994 164.813573 \r\nL 98.495268 162.459635 \r\nL 98.641405 165.100598 \r\nL 98.787542 163.588501 \r\nL 98.933679 164.484691 \r\nL 99.079816 164.390509 \r\nL 99.225953 165.570446 \r\nL 99.372091 160.271381 \r\nL 99.518228 160.526386 \r\nL 99.664365 159.144023 \r\nL 99.956639 163.321849 \r\nL 100.102776 160.356642 \r\nL 100.248913 168.356354 \r\nL 100.39505 168.631484 \r\nL 100.541187 170.663537 \r\nL 100.687324 171.03701 \r\nL 100.833461 172.007603 \r\nL 100.979598 172.195358 \r\nL 101.125735 173.4979 \r\nL 101.271872 173.439746 \r\nL 101.418009 177.732399 \r\nL 101.564146 178.441479 \r\nL 101.856421 176.084955 \r\nL 102.002558 174.474077 \r\nL 102.148695 174.407002 \r\nL 102.294832 173.954289 \r\nL 102.440969 175.877681 \r\nL 102.587106 176.089401 \r\nL 102.733243 184.514091 \r\nL 102.87938 183.473353 \r\nL 103.171654 185.858494 \r\nL 103.317791 187.000495 \r\nL 103.463928 191.289731 \r\nL 103.610065 186.023109 \r\nL 103.756202 185.330013 \r\nL 103.902339 185.207449 \r\nL 104.048476 185.389755 \r\nL 104.194613 188.23129 \r\nL 104.34075 188.787654 \r\nL 104.633025 191.491531 \r\nL 104.779162 187.897495 \r\nL 104.925299 188.620988 \r\nL 105.071436 187.877094 \r\nL 105.217573 187.799918 \r\nL 105.509847 190.195831 \r\nL 105.655984 189.183206 \r\nL 105.802121 189.266258 \r\nL 105.948258 188.513333 \r\nL 106.094395 189.649839 \r\nL 106.240532 188.905451 \r\nL 106.386669 185.772798 \r\nL 106.532806 187.522367 \r\nL 106.678943 187.346512 \r\nL 106.82508 173.484507 \r\nL 106.971218 179.774584 \r\nL 107.117355 180.45027 \r\nL 107.263492 176.452324 \r\nL 107.409629 179.117372 \r\nL 107.701903 194.000545 \r\nL 107.84804 193.453161 \r\nL 107.994177 197.176229 \r\nL 108.140314 195.371531 \r\nL 108.286451 196.189721 \r\nL 108.432588 195.632343 \r\nL 108.578725 193.305253 \r\nL 108.870999 194.192214 \r\nL 109.017136 197.042925 \r\nL 109.163273 209.029189 \r\nL 109.30941 206.093208 \r\nL 109.455548 211.056684 \r\nL 109.601685 211.668658 \r\nL 109.747822 214.756364 \r\nL 109.893959 214.572011 \r\nL 110.040096 211.323194 \r\nL 110.186233 211.415196 \r\nL 110.33237 209.866221 \r\nL 110.478507 212.824384 \r\nL 110.624644 209.908558 \r\nL 110.770781 210.293231 \r\nL 110.916918 209.14269 \r\nL 111.063055 211.589184 \r\nL 111.209192 206.781667 \r\nL 111.355329 206.316997 \r\nL 111.501466 207.700825 \r\nL 111.79374 201.98157 \r\nL 111.939878 199.213702 \r\nL 112.086015 202.028113 \r\nL 112.232152 202.416514 \r\nL 112.378289 204.372488 \r\nL 112.524426 203.351948 \r\nL 112.670563 203.763259 \r\nL 112.8167 201.799932 \r\nL 112.962837 201.801018 \r\nL 113.255111 195.08912 \r\nL 113.401248 195.518841 \r\nL 113.547385 197.206261 \r\nL 113.693522 196.73622 \r\nL 113.839659 198.212126 \r\nL 113.985796 204.169601 \r\nL 114.131933 203.565857 \r\nL 114.27807 203.64196 \r\nL 114.424207 204.559943 \r\nL 114.570345 201.605859 \r\nL 114.716482 202.145331 \r\nL 114.862619 202.051833 \r\nL 115.008756 198.270512 \r\nL 115.154893 198.304622 \r\nL 115.30103 195.92375 \r\nL 115.447167 195.626156 \r\nL 115.593304 199.244726 \r\nL 115.739441 199.061326 \r\nL 116.031715 198.424778 \r\nL 116.177852 193.756819 \r\nL 116.323989 162.577772 \r\nL 116.470126 163.423364 \r\nL 116.616263 166.443136 \r\nL 116.7624 166.612158 \r\nL 117.493086 141.94608 \r\nL 117.639223 141.475716 \r\nL 117.931497 132.805748 \r\nL 118.223771 128.474813 \r\nL 118.369908 131.701383 \r\nL 118.516045 123.487771 \r\nL 118.954456 123.349873 \r\nL 119.24673 121.088266 \r\nL 119.392867 120.372403 \r\nL 119.539005 121.902152 \r\nL 119.685142 121.165488 \r\nL 119.831279 122.657157 \r\nL 119.977416 119.630066 \r\nL 120.123553 120.355842 \r\nL 120.26969 117.792125 \r\nL 120.561964 119.52461 \r\nL 120.708101 118.69785 \r\nL 120.854238 118.715723 \r\nL 121.000375 112.628323 \r\nL 121.146512 113.252399 \r\nL 121.292649 112.244593 \r\nL 121.73106 105.517499 \r\nL 121.877197 108.244306 \r\nL 122.023335 107.968602 \r\nL 122.169472 108.519935 \r\nL 122.461746 104.402558 \r\nL 122.607883 105.750906 \r\nL 122.75402 106.067519 \r\nL 122.900157 104.374429 \r\nL 123.046294 106.538015 \r\nL 123.192431 105.11142 \r\nL 123.338568 105.586523 \r\nL 123.484705 105.377219 \r\nL 123.630842 104.894888 \r\nL 123.776979 104.813112 \r\nL 124.21539 106.438413 \r\nL 124.361527 109.353145 \r\nL 124.507665 107.775547 \r\nL 124.653802 108.851883 \r\nL 124.799939 106.001651 \r\nL 124.946076 105.452946 \r\nL 125.092213 107.27248 \r\nL 125.23835 101.108794 \r\nL 125.384487 100.663474 \r\nL 125.676761 98.861814 \r\nL 125.822898 83.781507 \r\nL 125.969035 83.384905 \r\nL 126.115172 84.482646 \r\nL 126.261309 83.751276 \r\nL 126.407446 83.772131 \r\nL 126.553583 84.197285 \r\nL 126.69972 83.707692 \r\nL 126.845857 83.63536 \r\nL 127.138132 82.290559 \r\nL 127.284269 82.21897 \r\nL 127.430406 80.506277 \r\nL 127.576543 82.276856 \r\nL 127.868817 82.439358 \r\nL 128.014954 83.701433 \r\nL 128.161091 82.165915 \r\nL 128.307228 82.124594 \r\nL 128.453365 81.444719 \r\nL 128.599502 82.9463 \r\nL 128.745639 81.987069 \r\nL 128.891776 85.190951 \r\nL 129.18405 81.597278 \r\nL 129.330187 81.008499 \r\nL 129.476324 81.874366 \r\nL 129.622462 89.788823 \r\nL 129.768599 89.892288 \r\nL 129.914736 87.796083 \r\nL 130.060873 89.049254 \r\nL 130.20701 88.937859 \r\nL 130.645421 84.669778 \r\nL 130.791558 85.413672 \r\nL 130.937695 81.415768 \r\nL 131.66838 87.901077 \r\nL 131.960654 84.929131 \r\nL 132.106792 77.280723 \r\nL 132.252929 75.661133 \r\nL 132.399066 77.767428 \r\nL 132.69134 73.619357 \r\nL 132.837477 74.341052 \r\nL 132.983614 73.80632 \r\nL 133.129751 73.836942 \r\nL 133.275888 72.648814 \r\nL 133.568162 80.089082 \r\nL 133.860436 79.90555 \r\nL 134.006573 81.400612 \r\nL 134.15271 81.502457 \r\nL 134.298847 82.065864 \r\nL 134.444984 85.527202 \r\nL 134.591122 85.343169 \r\nL 134.883396 82.567501 \r\nL 135.029533 82.79677 \r\nL 135.321807 87.262822 \r\nL 135.467944 95.501009 \r\nL 135.614081 94.291049 \r\nL 135.906355 100.869143 \r\nL 136.052492 119.279302 \r\nL 136.344766 127.400414 \r\nL 136.490903 126.985344 \r\nL 136.63704 118.758754 \r\nL 136.783177 128.870829 \r\nL 136.929314 129.398175 \r\nL 137.221589 128.838064 \r\nL 137.367726 132.509662 \r\nL 137.513863 129.529368 \r\nL 137.66 139.415061 \r\nL 137.806137 134.666775 \r\nL 137.952274 136.078931 \r\nL 138.098411 129.758765 \r\nL 138.244548 133.520418 \r\nL 138.390685 131.937817 \r\nL 138.536822 134.328001 \r\nL 138.682959 132.054293 \r\nL 138.829096 132.167188 \r\nL 139.12137 132.664376 \r\nL 139.267507 132.715008 \r\nL 139.559781 134.30743 \r\nL 139.705919 138.696683 \r\nL 140.290467 140.083603 \r\nL 140.436604 139.676767 \r\nL 140.582741 143.138915 \r\nL 140.728878 143.761512 \r\nL 141.021152 142.186628 \r\nL 141.167289 136.669003 \r\nL 141.459563 135.554826 \r\nL 141.6057 135.664134 \r\nL 141.751837 135.48879 \r\nL 142.044111 136.127924 \r\nL 142.190249 135.898555 \r\nL 142.336386 136.674106 \r\nL 142.482523 142.071695 \r\nL 142.62866 139.546794 \r\nL 142.774797 141.905442 \r\nL 142.920934 142.205784 \r\nL 143.505482 138.687366 \r\nL 143.651619 138.687366 \r\nL 143.943893 147.142847 \r\nL 144.09003 146.276263 \r\nL 144.236167 147.22126 \r\nL 144.382304 145.508552 \r\nL 144.528441 139.762518 \r\nL 144.674579 140.064858 \r\nL 144.966853 136.966872 \r\nL 145.11299 137.935912 \r\nL 145.259127 144.882339 \r\nL 145.405264 144.346099 \r\nL 145.697538 146.247662 \r\nL 145.843675 146.702672 \r\nL 146.135949 144.294165 \r\nL 146.282086 150.091289 \r\nL 146.428223 144.79805 \r\nL 146.57436 144.567216 \r\nL 146.720497 146.313428 \r\nL 146.866634 146.141125 \r\nL 147.012771 152.515804 \r\nL 147.305046 154.494773 \r\nL 147.59732 156.987431 \r\nL 147.889594 145.479475 \r\nL 148.181868 155.728495 \r\nL 148.328005 154.578103 \r\nL 148.474142 155.780255 \r\nL 148.620279 155.286353 \r\nL 148.766416 154.257419 \r\nL 148.912553 150.342729 \r\nL 149.204827 148.596377 \r\nL 149.350964 148.942099 \r\nL 149.497101 148.419609 \r\nL 149.935513 144.008212 \r\nL 150.08165 144.268875 \r\nL 150.227787 145.018266 \r\nL 150.373924 147.149725 \r\nL 150.520061 146.97628 \r\nL 150.666198 145.327885 \r\nL 150.812335 147.278617 \r\nL 150.958472 144.787633 \r\nL 151.250746 147.407326 \r\nL 151.396883 145.978873 \r\nL 151.54302 150.182606 \r\nL 151.835294 142.785973 \r\nL 152.127568 147.146822 \r\nL 152.419843 146.271445 \r\nL 152.712117 142.807518 \r\nL 152.858254 143.907572 \r\nL 153.004391 143.690225 \r\nL 153.150528 142.808189 \r\nL 153.296665 142.690304 \r\nL 153.442802 140.772688 \r\nL 153.588939 142.169491 \r\nL 153.735076 141.631942 \r\nL 154.02735 144.878531 \r\nL 154.173487 149.562694 \r\nL 154.465761 144.103743 \r\nL 154.611898 143.739485 \r\nL 154.758036 145.505391 \r\nL 154.904173 153.186973 \r\nL 155.05031 143.784002 \r\nL 155.342584 143.394482 \r\nL 155.488721 142.747995 \r\nL 155.634858 141.144543 \r\nL 155.780995 144.843887 \r\nL 155.927132 134.697971 \r\nL 156.365543 142.126183 \r\nL 156.51168 142.743829 \r\nL 156.657817 142.84936 \r\nL 157.096228 139.695969 \r\nL 157.242366 140.959925 \r\nL 157.53464 141.195477 \r\nL 157.826914 138.991645 \r\nL 157.973051 131.666803 \r\nL 158.119188 132.331958 \r\nL 158.265325 132.42002 \r\nL 158.411462 133.612609 \r\nL 158.557599 140.179526 \r\nL 158.99601 134.642042 \r\nL 159.288284 133.989567 \r\nL 159.580558 141.750595 \r\nL 159.726695 142.026616 \r\nL 159.872833 136.817356 \r\nL 160.01897 141.017339 \r\nL 160.165107 135.981739 \r\nL 160.311244 136.358342 \r\nL 160.457381 134.096782 \r\nL 160.603518 133.842332 \r\nL 160.749655 128.655427 \r\nL 160.895792 129.003616 \r\nL 161.041929 128.432588 \r\nL 161.188066 123.830576 \r\nL 161.48034 132.144402 \r\nL 161.626477 128.879382 \r\nL 161.772614 128.116412 \r\nL 161.918751 128.581468 \r\nL 162.064888 125.340627 \r\nL 162.211025 125.230231 \r\nL 162.357163 129.279548 \r\nL 162.5033 128.370449 \r\nL 162.649437 128.400017 \r\nL 162.941711 134.661916 \r\nL 163.087848 125.835456 \r\nL 163.233985 127.661563 \r\nL 163.380122 126.802796 \r\nL 163.526259 122.695371 \r\nL 163.818533 122.388002 \r\nL 164.110807 122.772012 \r\nL 164.256944 122.455127 \r\nL 164.549218 114.677967 \r\nL 164.841493 119.490795 \r\nL 165.133767 116.554364 \r\nL 165.279904 139.728891 \r\nL 165.426041 139.666559 \r\nL 165.572178 139.413725 \r\nL 165.718315 138.496831 \r\nL 165.864452 139.352855 \r\nL 166.010589 142.109294 \r\nL 166.302863 137.087329 \r\nL 166.449 135.541119 \r\nL 166.595137 135.991567 \r\nL 166.741274 134.471469 \r\nL 167.033548 134.731192 \r\nL 167.179685 137.654903 \r\nL 167.325823 137.606606 \r\nL 167.47196 138.505825 \r\nL 167.764234 138.359268 \r\nL 167.910371 134.63948 \r\nL 168.056508 135.142411 \r\nL 168.348782 134.634027 \r\nL 168.494919 133.623161 \r\nL 168.641056 136.483181 \r\nL 168.787193 136.629741 \r\nL 168.93333 136.257416 \r\nL 169.079467 136.516258 \r\nL 169.225604 141.017673 \r\nL 169.517878 140.380725 \r\nL 169.664015 141.834763 \r\nL 169.810152 139.798109 \r\nL 169.95629 139.57847 \r\nL 170.102427 142.152392 \r\nL 170.248564 139.188692 \r\nL 170.394701 141.672833 \r\nL 170.686975 142.317513 \r\nL 170.833112 145.001212 \r\nL 170.979249 143.718998 \r\nL 171.271523 144.142 \r\nL 171.41766 144.311897 \r\nL 171.563797 145.066496 \r\nL 171.709934 147.016639 \r\nL 172.002208 145.974096 \r\nL 172.44062 136.155883 \r\nL 172.586757 130.617611 \r\nL 172.732894 132.39879 \r\nL 172.879031 131.317017 \r\nL 173.025168 132.316335 \r\nL 173.171305 130.480848 \r\nL 173.317442 130.782018 \r\nL 173.463579 130.535662 \r\nL 173.609716 131.032716 \r\nL 173.755853 133.295769 \r\nL 173.90199 132.66301 \r\nL 174.048127 130.013277 \r\nL 174.194264 130.15102 \r\nL 174.340401 130.450955 \r\nL 174.486538 129.11812 \r\nL 174.632675 129.226187 \r\nL 174.778812 132.838485 \r\nL 174.92495 132.702739 \r\nL 175.071087 132.332626 \r\nL 175.217224 133.65502 \r\nL 175.363361 133.76129 \r\nL 175.509498 133.526562 \r\nL 175.655635 132.025313 \r\nL 175.947909 131.935322 \r\nL 176.094046 130.412322 \r\nL 176.240183 134.477482 \r\nL 176.38632 134.075372 \r\nL 176.678594 132.345541 \r\nL 176.824731 127.996561 \r\nL 176.970868 131.614644 \r\nL 177.263142 132.972482 \r\nL 177.40928 133.080884 \r\nL 177.701554 134.315988 \r\nL 177.847691 132.539457 \r\nL 177.993828 132.676532 \r\nL 178.139965 139.003743 \r\nL 178.286102 133.963505 \r\nL 178.432239 138.239683 \r\nL 178.724513 140.399318 \r\nL 178.87065 140.105673 \r\nL 179.016787 143.389808 \r\nL 179.162924 142.503661 \r\nL 179.309061 143.822529 \r\nL 179.455198 151.698594 \r\nL 179.747472 142.786844 \r\nL 180.039747 146.753404 \r\nL 180.185884 147.17857 \r\nL 180.332021 146.958045 \r\nL 180.478158 147.255186 \r\nL 180.624295 144.937538 \r\nL 180.770432 145.436785 \r\nL 180.916569 143.798546 \r\nL 181.062706 147.410609 \r\nL 181.208843 143.141058 \r\nL 181.35498 154.014662 \r\nL 181.501117 154.082949 \r\nL 181.647254 154.573049 \r\nL 181.793391 155.830844 \r\nL 181.939528 158.986149 \r\nL 182.085665 157.030734 \r\nL 182.231802 165.983178 \r\nL 182.377939 165.734037 \r\nL 182.524077 166.088254 \r\nL 182.816351 178.224721 \r\nL 182.962488 180.561593 \r\nL 183.108625 177.912385 \r\nL 183.400899 189.548119 \r\nL 183.547036 150.458603 \r\nL 183.693173 151.376886 \r\nL 183.83931 149.162218 \r\nL 183.985447 149.938943 \r\nL 184.277721 146.451401 \r\nL 184.423858 152.852762 \r\nL 184.569995 146.61196 \r\nL 184.716132 149.336391 \r\nL 184.862269 149.680807 \r\nL 185.008407 151.051386 \r\nL 185.154544 150.966947 \r\nL 185.300681 152.504178 \r\nL 185.739092 161.95026 \r\nL 185.885229 162.692562 \r\nL 186.031366 162.223652 \r\nL 186.32364 174.080605 \r\nL 186.469777 173.827452 \r\nL 186.615914 168.046956 \r\nL 186.908188 174.471075 \r\nL 187.200462 175.015086 \r\nL 187.346599 173.955687 \r\nL 187.492737 169.283866 \r\nL 187.638874 168.492067 \r\nL 187.785011 172.49998 \r\nL 188.077285 171.474847 \r\nL 188.223422 171.10683 \r\nL 188.369559 146.743715 \r\nL 188.515696 149.472843 \r\nL 188.80797 141.877762 \r\nL 188.954107 145.784094 \r\nL 189.100244 141.49357 \r\nL 189.392518 142.539776 \r\nL 189.538655 142.355175 \r\nL 189.684792 141.893499 \r\nL 189.830929 140.738245 \r\nL 189.977067 140.702959 \r\nL 190.415478 144.912596 \r\nL 190.561615 147.266976 \r\nL 190.707752 142.816968 \r\nL 191.000026 143.03445 \r\nL 191.146163 144.736923 \r\nL 191.584574 142.142385 \r\nL 191.730711 142.37242 \r\nL 191.876848 142.220157 \r\nL 192.022985 141.335457 \r\nL 192.169122 141.826872 \r\nL 192.315259 144.74163 \r\nL 192.461396 144.488313 \r\nL 192.607534 144.818874 \r\nL 192.753671 145.602568 \r\nL 192.899808 143.804992 \r\nL 193.045945 140.520229 \r\nL 193.192082 142.898957 \r\nL 193.338219 143.107296 \r\nL 193.630493 144.086179 \r\nL 193.77663 144.252709 \r\nL 194.068904 149.652778 \r\nL 194.215041 149.432782 \r\nL 194.361178 149.562299 \r\nL 194.653452 153.274683 \r\nL 194.799589 155.546191 \r\nL 194.945726 156.03558 \r\nL 195.091864 155.587861 \r\nL 195.238001 154.127004 \r\nL 195.384138 153.935678 \r\nL 195.530275 154.215347 \r\nL 195.676412 155.018529 \r\nL 195.822549 153.787317 \r\nL 195.968686 157.233617 \r\nL 196.114823 156.220954 \r\nL 196.26096 156.317164 \r\nL 196.407097 155.867341 \r\nL 196.699371 158.440785 \r\nL 196.845508 156.785033 \r\nL 197.137782 162.525465 \r\nL 197.283919 161.121496 \r\nL 197.576194 156.853664 \r\nL 197.722331 155.283203 \r\nL 197.868468 155.062438 \r\nL 198.014605 152.040915 \r\nL 198.453016 157.15649 \r\nL 199.329838 166.111085 \r\nL 199.475975 177.192649 \r\nL 199.622112 178.069903 \r\nL 199.768249 178.124443 \r\nL 199.914386 180.781609 \r\nL 200.060524 180.199406 \r\nL 200.206661 175.700778 \r\nL 200.352798 174.784864 \r\nL 200.498935 166.433514 \r\nL 200.645072 166.016961 \r\nL 201.083483 163.446147 \r\nL 201.22962 164.766659 \r\nL 201.375757 167.653093 \r\nL 201.521894 157.3908 \r\nL 201.668031 155.427497 \r\nL 201.814168 155.877011 \r\nL 201.960305 154.494543 \r\nL 202.106442 155.103893 \r\nL 202.252579 160.456727 \r\nL 202.398716 160.734493 \r\nL 202.690991 157.232218 \r\nL 202.837128 158.935074 \r\nL 202.983265 157.434367 \r\nL 203.275539 158.236555 \r\nL 203.421676 166.892151 \r\nL 203.567813 167.37786 \r\nL 203.71395 149.412315 \r\nL 203.860087 148.211618 \r\nL 204.006224 181.362849 \r\nL 204.152361 177.646691 \r\nL 204.298498 182.577587 \r\nL 204.444635 173.581089 \r\nL 204.590772 171.939252 \r\nL 204.736909 171.672421 \r\nL 205.029183 158.893091 \r\nL 205.175321 158.592367 \r\nL 205.321458 162.286765 \r\nL 205.467595 146.018754 \r\nL 205.759869 146.938172 \r\nL 206.052143 136.429575 \r\nL 206.19828 138.588796 \r\nL 206.344417 131.772804 \r\nL 206.490554 131.800572 \r\nL 206.636691 147.313332 \r\nL 206.928965 142.491979 \r\nL 207.075102 142.12973 \r\nL 207.221239 138.711177 \r\nL 207.513513 124.831739 \r\nL 207.659651 125.517263 \r\nL 207.805788 124.785731 \r\nL 207.951925 124.849058 \r\nL 208.098062 124.514753 \r\nL 208.244199 121.602862 \r\nL 208.390336 122.283474 \r\nL 208.536473 119.567574 \r\nL 208.974884 127.52549 \r\nL 209.121021 128.046603 \r\nL 209.267158 127.982246 \r\nL 209.413295 127.462458 \r\nL 209.559432 128.196629 \r\nL 209.705569 130.087851 \r\nL 209.997843 129.58089 \r\nL 210.290118 133.356273 \r\nL 210.436255 133.838085 \r\nL 210.728529 133.412676 \r\nL 210.874666 132.259681 \r\nL 211.020803 132.453258 \r\nL 211.16694 133.183964 \r\nL 211.313077 132.873165 \r\nL 211.459214 129.715218 \r\nL 211.605351 132.818738 \r\nL 211.751488 133.025915 \r\nL 211.897625 132.871555 \r\nL 212.189899 131.542623 \r\nL 212.336036 130.110207 \r\nL 212.628311 132.313391 \r\nL 213.212859 127.047973 \r\nL 213.505133 126.856425 \r\nL 213.943544 127.771006 \r\nL 214.089681 127.521536 \r\nL 214.235818 125.757239 \r\nL 214.381955 126.02191 \r\nL 214.528092 125.610753 \r\nL 214.674229 123.791459 \r\nL 214.820366 118.7829 \r\nL 214.966503 122.176662 \r\nL 215.258778 117.711978 \r\nL 215.404915 105.696786 \r\nL 215.551052 105.064148 \r\nL 215.843326 105.715742 \r\nL 216.1356 104.731098 \r\nL 216.281737 106.242786 \r\nL 216.427874 106.094525 \r\nL 216.574011 104.132832 \r\nL 216.720148 107.136293 \r\nL 216.866285 106.720741 \r\nL 217.158559 103.293251 \r\nL 217.304696 104.036358 \r\nL 217.450833 102.023062 \r\nL 217.59697 101.933908 \r\nL 217.743108 95.302182 \r\nL 217.889245 94.579949 \r\nL 218.035382 95.382174 \r\nL 218.181519 94.563286 \r\nL 218.327656 91.877898 \r\nL 218.61993 92.903141 \r\nL 218.766067 92.920566 \r\nL 218.912204 91.281731 \r\nL 219.204478 92.502672 \r\nL 219.350615 92.054652 \r\nL 219.789026 87.368317 \r\nL 219.935163 87.405303 \r\nL 220.227438 86.048541 \r\nL 220.373575 85.26831 \r\nL 220.665849 81.815684 \r\nL 220.811986 81.17207 \r\nL 220.958123 76.247854 \r\nL 221.10426 77.028745 \r\nL 221.396534 73.555646 \r\nL 221.542671 74.811516 \r\nL 221.834945 69.237507 \r\nL 221.981082 68.444648 \r\nL 222.127219 70.033064 \r\nL 222.273356 59.187417 \r\nL 222.419493 59.616263 \r\nL 222.711768 56.38443 \r\nL 222.857905 87.255907 \r\nL 223.004042 90.315642 \r\nL 223.150179 90.515728 \r\nL 223.296316 93.025068 \r\nL 223.442453 92.512702 \r\nL 223.58859 90.88512 \r\nL 223.880864 96.72643 \r\nL 224.027001 95.833329 \r\nL 224.319275 99.655255 \r\nL 224.465412 99.236071 \r\nL 224.611549 104.291454 \r\nL 224.757686 103.825244 \r\nL 224.903823 106.092781 \r\nL 225.04996 105.894987 \r\nL 225.196098 105.365863 \r\nL 225.634509 111.243601 \r\nL 225.780646 115.490671 \r\nL 225.926783 114.055325 \r\nL 226.219057 116.80914 \r\nL 226.511331 121.392369 \r\nL 226.657468 126.947442 \r\nL 226.803605 124.852335 \r\nL 227.095879 123.545372 \r\nL 227.242016 123.701187 \r\nL 227.388153 121.617528 \r\nL 227.53429 122.531253 \r\nL 227.680427 121.559596 \r\nL 227.826565 113.214796 \r\nL 228.118839 112.402707 \r\nL 228.264976 113.068452 \r\nL 228.411113 111.887418 \r\nL 228.55725 106.11368 \r\nL 228.849524 103.39629 \r\nL 228.995661 103.428202 \r\nL 229.141798 101.962723 \r\nL 229.287935 101.780856 \r\nL 229.434072 104.088981 \r\nL 229.580209 102.856064 \r\nL 229.726346 105.153506 \r\nL 229.872483 103.389868 \r\nL 230.01862 99.646372 \r\nL 230.164757 99.706322 \r\nL 230.457032 100.203392 \r\nL 230.603169 100.079643 \r\nL 230.749306 99.086298 \r\nL 231.04158 98.693612 \r\nL 231.187717 96.375443 \r\nL 231.333854 96.651494 \r\nL 231.479991 96.599255 \r\nL 231.626128 94.333279 \r\nL 231.772265 94.13215 \r\nL 231.918402 92.12453 \r\nL 232.064539 93.942553 \r\nL 232.210676 93.083622 \r\nL 232.356813 93.443 \r\nL 232.50295 92.528352 \r\nL 232.649087 92.528818 \r\nL 232.795225 92.851821 \r\nL 233.087499 95.627072 \r\nL 233.233636 91.413353 \r\nL 233.52591 93.688282 \r\nL 233.672047 100.942682 \r\nL 233.818184 100.223666 \r\nL 233.964321 100.40326 \r\nL 234.110458 100.406043 \r\nL 234.256595 100.089408 \r\nL 234.402732 100.242687 \r\nL 234.548869 100.706128 \r\nL 234.695006 100.145621 \r\nL 234.841143 101.023257 \r\nL 234.98728 98.660989 \r\nL 235.133417 100.162238 \r\nL 235.425692 99.938724 \r\nL 235.571829 102.11879 \r\nL 235.717966 102.404349 \r\nL 235.864103 101.499662 \r\nL 236.156377 104.486764 \r\nL 236.448651 103.044488 \r\nL 236.594788 104.993284 \r\nL 236.740925 105.269872 \r\nL 237.033199 103.760185 \r\nL 237.179336 105.955394 \r\nL 237.325473 106.075118 \r\nL 237.47161 104.667576 \r\nL 237.910022 112.597778 \r\nL 238.056159 114.456818 \r\nL 238.348433 113.280398 \r\nL 238.49457 111.474843 \r\nL 238.640707 111.805496 \r\nL 238.932981 111.972357 \r\nL 239.079118 107.160456 \r\nL 239.225255 113.086323 \r\nL 239.371392 112.943089 \r\nL 239.517529 115.487824 \r\nL 239.663666 115.324041 \r\nL 239.809803 114.471584 \r\nL 239.95594 115.854251 \r\nL 240.248214 123.365117 \r\nL 240.686626 114.166334 \r\nL 240.9789 115.185738 \r\nL 241.125037 82.022193 \r\nL 241.271174 79.881924 \r\nL 241.417311 84.173012 \r\nL 241.563448 82.347326 \r\nL 241.709585 87.579072 \r\nL 241.855722 87.30966 \r\nL 242.294133 80.415841 \r\nL 242.44027 80.127393 \r\nL 243.024819 74.604344 \r\nL 243.170956 66.381157 \r\nL 243.46323 68.890749 \r\nL 243.609367 65.714414 \r\nL 243.755504 65.384979 \r\nL 244.047778 67.755177 \r\nL 244.193915 68.838202 \r\nL 244.486189 67.631444 \r\nL 244.778463 65.089506 \r\nL 244.9246 57.62619 \r\nL 245.070737 60.190348 \r\nL 245.363012 56.163041 \r\nL 245.509149 55.963228 \r\nL 245.655286 59.975226 \r\nL 245.801423 57.983758 \r\nL 245.94756 58.957999 \r\nL 246.093697 65.50042 \r\nL 246.239834 65.890962 \r\nL 246.385971 63.290402 \r\nL 246.532108 63.693285 \r\nL 246.678245 68.789825 \r\nL 246.824382 69.71623 \r\nL 247.262793 75.010703 \r\nL 247.40893 69.359567 \r\nL 247.555067 71.635045 \r\nL 247.847341 53.914737 \r\nL 248.139616 43.052311 \r\nL 248.285753 44.568594 \r\nL 248.43189 44.855141 \r\nL 248.578027 43.257727 \r\nL 248.724164 45.069749 \r\nL 248.870301 23.356835 \r\nL 249.016438 18.954273 \r\nL 249.162575 19.90831 \r\nL 249.308712 17.083636 \r\nL 249.454849 17.458486 \r\nL 249.600986 24.128061 \r\nL 249.747123 19.76196 \r\nL 249.89326 21.35741 \r\nL 250.185534 45.483494 \r\nL 250.331671 30.49061 \r\nL 250.623946 32.679043 \r\nL 250.770083 31.452606 \r\nL 250.91622 32.321804 \r\nL 251.062357 34.337883 \r\nL 251.208494 33.055452 \r\nL 251.354631 51.121429 \r\nL 251.646905 51.818492 \r\nL 251.793042 50.399115 \r\nL 251.939179 45.939623 \r\nL 252.085316 48.832707 \r\nL 252.231453 47.909458 \r\nL 252.37759 49.985424 \r\nL 252.523727 50.219335 \r\nL 252.669864 49.104614 \r\nL 252.816001 46.392257 \r\nL 252.962139 45.950278 \r\nL 253.108276 47.318296 \r\nL 253.40055 46.544241 \r\nL 253.546687 45.498473 \r\nL 253.838961 39.878398 \r\nL 254.277372 39.43662 \r\nL 254.423509 37.555099 \r\nL 254.569646 38.242214 \r\nL 254.715783 34.677215 \r\nL 254.86192 35.287384 \r\nL 255.008057 34.354541 \r\nL 255.154194 34.646323 \r\nL 255.300331 35.434731 \r\nL 255.446469 36.837641 \r\nL 256.177154 31.462886 \r\nL 256.323291 31.420531 \r\nL 256.469428 32.122632 \r\nL 256.615565 31.83145 \r\nL 256.761702 32.171338 \r\nL 256.907839 32.144102 \r\nL 257.34625 35.773232 \r\nL 257.638524 35.417248 \r\nL 257.784661 35.023884 \r\nL 257.930799 35.441574 \r\nL 258.223073 35.357781 \r\nL 258.36921 34.506604 \r\nL 258.661484 35.91723 \r\nL 258.807621 35.966543 \r\nL 258.953758 35.335671 \r\nL 259.246032 36.80066 \r\nL 259.392169 36.960215 \r\nL 259.538306 36.828645 \r\nL 259.684443 35.928517 \r\nL 259.83058 35.784693 \r\nL 260.122854 34.510757 \r\nL 260.415128 35.296633 \r\nL 260.561266 35.332713 \r\nL 260.85354 33.607766 \r\nL 260.999677 37.628754 \r\nL 261.291951 37.582593 \r\nL 261.438088 38.141576 \r\nL 261.584225 37.388023 \r\nL 262.022636 37.852567 \r\nL 262.168773 37.034098 \r\nL 262.31491 37.009487 \r\nL 262.461047 36.76891 \r\nL 262.607184 35.93899 \r\nL 262.753321 36.068023 \r\nL 262.899458 35.394257 \r\nL 263.191733 35.798309 \r\nL 263.484007 36.120949 \r\nL 263.630144 35.440105 \r\nL 263.776281 35.4764 \r\nL 263.922418 35.351226 \r\nL 264.068555 35.641733 \r\nL 264.360829 34.327902 \r\nL 264.79924 35.238689 \r\nL 264.945377 34.974147 \r\nL 265.091514 35.481627 \r\nL 265.237651 35.050661 \r\nL 265.383788 35.025875 \r\nL 265.529926 35.547839 \r\nL 265.676063 36.55714 \r\nL 265.8222 34.407777 \r\nL 265.968337 36.14112 \r\nL 266.114474 36.427012 \r\nL 266.406748 38.252411 \r\nL 266.699022 37.360473 \r\nL 266.845159 37.722324 \r\nL 266.991296 37.282759 \r\nL 267.28357 41.523902 \r\nL 267.429707 40.873381 \r\nL 267.575844 41.151588 \r\nL 267.721981 40.904256 \r\nL 267.868118 38.911854 \r\nL 268.014256 41.041111 \r\nL 268.160393 40.650774 \r\nL 268.30653 37.531812 \r\nL 268.452667 30.477196 \r\nL 268.598804 39.352624 \r\nL 268.744941 37.133635 \r\nL 269.037215 39.623423 \r\nL 269.475626 37.236593 \r\nL 269.621763 23.237666 \r\nL 269.7679 23.200762 \r\nL 269.914037 23.34589 \r\nL 270.060174 23.857426 \r\nL 270.206311 27.601544 \r\nL 270.352448 24.485158 \r\nL 270.498585 24.700219 \r\nL 270.644723 23.187843 \r\nL 270.79086 23.424413 \r\nL 270.936997 24.210735 \r\nL 271.229271 27.721766 \r\nL 271.521545 24.937761 \r\nL 271.667682 25.081336 \r\nL 272.398367 35.937495 \r\nL 272.544504 36.471196 \r\nL 272.690641 40.563826 \r\nL 272.836778 39.052646 \r\nL 272.982915 43.168999 \r\nL 273.129053 41.808298 \r\nL 273.27519 43.343447 \r\nL 273.421327 43.067176 \r\nL 273.713601 40.86267 \r\nL 273.859738 41.894632 \r\nL 274.152012 46.210983 \r\nL 274.298149 47.050311 \r\nL 274.444286 48.91021 \r\nL 274.73656 46.91196 \r\nL 274.882697 48.035005 \r\nL 275.028834 47.654703 \r\nL 275.174971 47.672851 \r\nL 275.467245 40.527636 \r\nL 275.613383 39.960588 \r\nL 275.75952 40.938569 \r\nL 275.905657 41.147988 \r\nL 276.051794 40.980995 \r\nL 276.197931 39.952866 \r\nL 276.344068 40.150764 \r\nL 276.490205 40.652939 \r\nL 276.782479 39.486032 \r\nL 277.074753 37.204531 \r\nL 277.22089 39.143122 \r\nL 277.513164 35.19341 \r\nL 277.659301 36.06348 \r\nL 277.805438 35.245278 \r\nL 278.097713 37.122327 \r\nL 278.24385 36.033196 \r\nL 278.389987 37.509796 \r\nL 278.828398 35.2877 \r\nL 279.120672 41.384016 \r\nL 279.266809 28.820022 \r\nL 279.412946 29.920258 \r\nL 279.559083 30.021187 \r\nL 279.70522 30.629308 \r\nL 279.997494 34.802502 \r\nL 280.143631 35.970646 \r\nL 280.289768 35.708648 \r\nL 280.435905 35.861863 \r\nL 280.582043 35.569438 \r\nL 280.72818 35.771989 \r\nL 280.874317 36.856697 \r\nL 281.020454 35.537866 \r\nL 281.166591 39.569113 \r\nL 281.458865 37.496824 \r\nL 281.751139 37.454758 \r\nL 281.897276 41.015785 \r\nL 282.043413 40.865554 \r\nL 282.335687 39.485632 \r\nL 282.627961 43.142281 \r\nL 282.774098 42.329937 \r\nL 282.920235 43.094734 \r\nL 283.21251 40.698769 \r\nL 283.358647 40.475227 \r\nL 283.650921 43.495484 \r\nL 283.797058 39.63921 \r\nL 283.943195 39.541457 \r\nL 284.089332 45.970165 \r\nL 284.235469 41.702138 \r\nL 284.381606 44.49435 \r\nL 284.527743 43.427486 \r\nL 284.67388 43.54673 \r\nL 284.966154 48.047249 \r\nL 285.112291 47.65215 \r\nL 285.258428 46.685313 \r\nL 285.404565 55.333288 \r\nL 285.550702 55.955306 \r\nL 285.69684 54.837116 \r\nL 286.135251 62.084832 \r\nL 286.281388 61.905044 \r\nL 286.573662 66.487829 \r\nL 286.719799 66.221136 \r\nL 286.865936 61.951864 \r\nL 287.012073 65.108113 \r\nL 287.15821 65.256448 \r\nL 287.304347 64.444064 \r\nL 287.450484 66.923802 \r\nL 287.742758 68.140968 \r\nL 287.888895 66.210416 \r\nL 288.035032 68.423311 \r\nL 288.18117 68.350974 \r\nL 288.327307 71.058277 \r\nL 288.473444 70.424884 \r\nL 288.765718 71.649164 \r\nL 289.057992 64.73197 \r\nL 289.350266 80.705535 \r\nL 289.496403 81.322708 \r\nL 289.64254 80.950651 \r\nL 289.788677 85.582877 \r\nL 289.934814 85.969017 \r\nL 290.080951 80.64529 \r\nL 290.227088 81.117205 \r\nL 290.519362 69.346062 \r\nL 290.6655 65.484075 \r\nL 290.811637 71.118564 \r\nL 290.957774 70.970868 \r\nL 291.103911 71.253458 \r\nL 291.250048 72.059207 \r\nL 291.396185 72.008276 \r\nL 291.688459 73.516587 \r\nL 291.834596 73.134231 \r\nL 291.980733 73.112675 \r\nL 292.12687 78.303069 \r\nL 292.273007 71.048664 \r\nL 292.565281 68.991519 \r\nL 292.711418 70.184551 \r\nL 292.857555 70.240782 \r\nL 293.003692 67.294687 \r\nL 293.149829 68.144633 \r\nL 293.295967 65.910601 \r\nL 293.442104 66.310622 \r\nL 293.588241 70.055363 \r\nL 293.734378 70.015956 \r\nL 293.880515 69.823238 \r\nL 294.026652 70.296318 \r\nL 294.172789 70.214539 \r\nL 294.318926 70.352098 \r\nL 294.465063 74.131373 \r\nL 294.6112 74.791058 \r\nL 294.757337 74.412201 \r\nL 294.903474 74.813109 \r\nL 295.049611 71.571321 \r\nL 295.195748 71.807702 \r\nL 295.341885 72.940489 \r\nL 295.780297 68.665375 \r\nL 295.926434 68.663446 \r\nL 296.072571 72.477084 \r\nL 296.218708 72.477084 \r\nL 296.364845 72.098428 \r\nL 296.510982 75.476765 \r\nL 296.803256 74.173565 \r\nL 296.949393 72.215283 \r\nL 297.09553 74.438184 \r\nL 297.241667 74.127133 \r\nL 297.387804 79.531837 \r\nL 297.533941 79.601919 \r\nL 297.680078 76.406429 \r\nL 297.826215 76.831116 \r\nL 297.972352 74.884926 \r\nL 298.264627 67.40751 \r\nL 298.410764 65.793433 \r\nL 298.556901 65.711966 \r\nL 298.703038 64.985241 \r\nL 298.995312 62.812878 \r\nL 299.141449 57.086536 \r\nL 299.433723 60.062309 \r\nL 299.57986 59.988407 \r\nL 299.872134 58.243886 \r\nL 300.018271 57.892517 \r\nL 300.164408 59.021009 \r\nL 300.310545 62.173319 \r\nL 300.456682 57.594783 \r\nL 300.602819 58.264754 \r\nL 300.748957 63.406904 \r\nL 300.895094 64.187123 \r\nL 301.041231 63.962681 \r\nL 301.187368 63.470028 \r\nL 301.333505 64.908728 \r\nL 301.479642 64.919784 \r\nL 301.625779 64.415136 \r\nL 301.771916 64.508504 \r\nL 302.06419 64.990094 \r\nL 302.210327 65.543973 \r\nL 302.356464 65.500539 \r\nL 302.502601 64.726933 \r\nL 302.648738 65.234215 \r\nL 302.794875 66.875967 \r\nL 302.941012 65.931051 \r\nL 303.087149 66.610619 \r\nL 303.233287 64.458023 \r\nL 303.379424 64.415851 \r\nL 303.525561 62.496585 \r\nL 303.671698 62.666149 \r\nL 303.817835 63.224311 \r\nL 303.963972 65.533737 \r\nL 304.110109 64.237512 \r\nL 304.256246 64.300922 \r\nL 304.402383 64.985118 \r\nL 304.54852 65.082602 \r\nL 304.694657 63.894481 \r\nL 304.840794 64.372804 \r\nL 304.986931 64.331321 \r\nL 305.133068 65.554658 \r\nL 305.279205 65.191908 \r\nL 305.425342 65.79149 \r\nL 305.571479 68.511858 \r\nL 305.863754 65.037381 \r\nL 306.009891 67.152766 \r\nL 306.156028 66.975734 \r\nL 306.302165 65.815955 \r\nL 306.448302 65.883852 \r\nL 306.594439 65.441873 \r\nL 306.740576 65.565386 \r\nL 307.03285 64.527403 \r\nL 307.325124 65.396116 \r\nL 307.617398 43.338822 \r\nL 307.763535 42.71642 \r\nL 308.201946 45.597457 \r\nL 308.348084 62.011409 \r\nL 308.494221 64.288641 \r\nL 308.640358 71.561718 \r\nL 308.786495 71.063565 \r\nL 308.932632 66.573915 \r\nL 309.078769 67.199219 \r\nL 309.224906 65.650841 \r\nL 309.371043 62.214464 \r\nL 309.51718 65.367471 \r\nL 309.663317 61.290704 \r\nL 309.809454 60.480419 \r\nL 310.101728 52.264075 \r\nL 310.247865 38.281696 \r\nL 310.394002 39.005229 \r\nL 310.540139 38.085532 \r\nL 310.686276 38.890719 \r\nL 310.832414 38.258439 \r\nL 310.978551 39.5631 \r\nL 311.124688 39.744159 \r\nL 311.270825 39.205784 \r\nL 311.416962 35.17343 \r\nL 311.563099 35.275655 \r\nL 311.709236 39.527461 \r\nL 311.855373 35.274214 \r\nL 312.00151 35.055218 \r\nL 312.147647 32.293154 \r\nL 312.293784 33.18596 \r\nL 312.439921 32.200488 \r\nL 312.586058 36.349648 \r\nL 312.732195 36.277996 \r\nL 312.878332 35.617553 \r\nL 313.170606 32.84931 \r\nL 313.316744 35.083102 \r\nL 313.462881 35.482425 \r\nL 313.609018 34.761256 \r\nL 313.755155 34.798476 \r\nL 313.901292 35.125679 \r\nL 314.047429 34.805922 \r\nL 314.193566 36.802697 \r\nL 314.339703 36.213947 \r\nL 314.631977 36.197387 \r\nL 314.778114 39.705708 \r\nL 314.924251 39.578136 \r\nL 315.070388 39.783302 \r\nL 315.362662 40.887896 \r\nL 315.654936 35.416998 \r\nL 315.947211 35.213736 \r\nL 316.093348 34.640015 \r\nL 316.239485 34.890824 \r\nL 316.385622 32.379718 \r\nL 316.824033 33.928434 \r\nL 316.97017 40.332494 \r\nL 317.116307 40.810291 \r\nL 317.262444 41.784356 \r\nL 317.554718 48.406767 \r\nL 317.700855 46.705686 \r\nL 317.846992 48.801637 \r\nL 317.993129 48.105643 \r\nL 318.139266 47.97857 \r\nL 318.431541 50.018747 \r\nL 318.577678 48.141495 \r\nL 318.723815 51.910159 \r\nL 319.016089 51.512962 \r\nL 319.308363 51.74587 \r\nL 319.4545 52.231843 \r\nL 319.600637 51.756497 \r\nL 319.746774 51.713435 \r\nL 319.892911 51.852555 \r\nL 320.039048 47.93595 \r\nL 320.185185 48.158886 \r\nL 320.331322 47.734183 \r\nL 320.623596 47.9374 \r\nL 320.769733 48.403346 \r\nL 321.062008 47.49469 \r\nL 321.208145 48.224538 \r\nL 321.354282 47.079035 \r\nL 321.500419 47.045306 \r\nL 321.646556 46.853009 \r\nL 321.93883 49.94695 \r\nL 322.084967 49.54644 \r\nL 322.231104 47.386718 \r\nL 322.377241 47.302691 \r\nL 322.669515 45.793925 \r\nL 322.815652 45.685999 \r\nL 322.961789 45.143682 \r\nL 323.254063 45.555556 \r\nL 323.400201 45.315722 \r\nL 323.546338 45.602403 \r\nL 323.692475 45.221364 \r\nL 323.838612 46.233036 \r\nL 323.984749 45.786377 \r\nL 324.277023 44.338443 \r\nL 324.569297 45.855521 \r\nL 324.861571 46.317309 \r\nL 325.007708 47.994161 \r\nL 325.299982 47.586447 \r\nL 325.446119 48.143627 \r\nL 325.592256 47.848546 \r\nL 325.738393 45.823908 \r\nL 325.88453 46.164706 \r\nL 326.322942 45.357071 \r\nL 326.469079 43.674008 \r\nL 326.615216 34.010463 \r\nL 326.761353 32.941036 \r\nL 326.90749 36.813634 \r\nL 327.053627 36.712591 \r\nL 327.199764 37.455606 \r\nL 327.345901 37.377731 \r\nL 327.492038 38.239879 \r\nL 327.930449 42.645165 \r\nL 328.076586 42.847693 \r\nL 328.36886 48.586061 \r\nL 328.514998 60.244029 \r\nL 328.661135 59.147574 \r\nL 328.807272 60.24508 \r\nL 328.953409 60.044694 \r\nL 329.099546 62.037219 \r\nL 329.245683 62.206538 \r\nL 329.537957 62.149872 \r\nL 329.684094 70.6831 \r\nL 329.830231 70.547439 \r\nL 330.122505 63.293923 \r\nL 330.268642 63.541917 \r\nL 330.414779 67.628646 \r\nL 330.560916 63.934834 \r\nL 330.707053 66.17445 \r\nL 330.999328 56.447758 \r\nL 331.145465 56.053997 \r\nL 331.437739 62.074214 \r\nL 331.730013 58.31002 \r\nL 331.87615 62.567677 \r\nL 332.168424 63.199107 \r\nL 332.314561 65.387885 \r\nL 332.460698 61.561463 \r\nL 332.606835 61.103293 \r\nL 332.752972 61.076724 \r\nL 332.899109 61.211126 \r\nL 333.045246 54.674194 \r\nL 333.191383 54.956766 \r\nL 333.33752 54.829842 \r\nL 333.629795 53.63217 \r\nL 333.775932 62.87376 \r\nL 333.922069 64.411159 \r\nL 334.068206 64.489185 \r\nL 334.214343 64.867098 \r\nL 334.506617 65.031574 \r\nL 334.652754 73.607518 \r\nL 334.798891 72.068966 \r\nL 334.945028 72.163901 \r\nL 335.091165 70.323691 \r\nL 335.237302 58.566643 \r\nL 335.529576 57.987105 \r\nL 335.82185 52.309888 \r\nL 335.967988 54.025066 \r\nL 336.114125 48.94219 \r\nL 336.260262 50.492133 \r\nL 336.406399 49.887912 \r\nL 336.552536 47.275771 \r\nL 336.990947 50.726123 \r\nL 337.429358 57.174895 \r\nL 337.575495 56.945355 \r\nL 337.721632 57.237077 \r\nL 337.867769 54.437064 \r\nL 338.013906 54.220038 \r\nL 338.160043 53.624933 \r\nL 338.30618 62.063676 \r\nL 338.452317 60.974794 \r\nL 338.598455 61.531143 \r\nL 338.744592 61.099309 \r\nL 339.32914 65.489362 \r\nL 339.475277 66.056139 \r\nL 339.621414 70.557244 \r\nL 339.767551 70.183768 \r\nL 340.059825 74.81039 \r\nL 340.205962 70.521228 \r\nL 340.352099 62.511718 \r\nL 340.498236 70.860723 \r\nL 340.644373 70.848269 \r\nL 340.79051 72.504355 \r\nL 340.936647 72.125054 \r\nL 341.082785 70.534431 \r\nL 341.228922 71.149596 \r\nL 341.375059 68.180285 \r\nL 341.521196 68.717127 \r\nL 341.667333 68.178359 \r\nL 341.81347 69.153885 \r\nL 341.959607 69.195608 \r\nL 342.105744 63.453715 \r\nL 342.251881 62.672892 \r\nL 342.398018 67.304767 \r\nL 342.544155 64.395004 \r\nL 342.836429 51.37088 \r\nL 342.982566 52.247352 \r\nL 343.27484 47.543238 \r\nL 343.420977 47.98806 \r\nL 343.567115 47.267869 \r\nL 343.713252 47.150276 \r\nL 343.859389 48.054441 \r\nL 344.151663 55.911927 \r\nL 344.2978 55.894282 \r\nL 344.443937 58.618897 \r\nL 344.882348 59.273068 \r\nL 345.028485 58.035393 \r\nL 345.174622 49.934901 \r\nL 345.320759 50.299145 \r\nL 345.466896 56.523789 \r\nL 345.613033 56.627624 \r\nL 345.75917 56.948315 \r\nL 345.905307 59.105142 \r\nL 346.051445 66.318844 \r\nL 346.197582 65.960758 \r\nL 346.343719 64.815046 \r\nL 346.489856 64.734927 \r\nL 346.635993 64.106698 \r\nL 346.78213 64.245223 \r\nL 346.928267 68.209786 \r\nL 347.074404 68.949704 \r\nL 347.220541 72.322745 \r\nL 347.512815 71.250063 \r\nL 347.805089 74.529429 \r\nL 347.951226 74.146333 \r\nL 348.097363 77.897267 \r\nL 348.2435 78.03161 \r\nL 348.389637 81.134302 \r\nL 348.535774 80.928135 \r\nL 348.681912 85.718083 \r\nL 348.828049 83.241797 \r\nL 348.974186 78.136492 \r\nL 349.26646 83.032762 \r\nL 349.412597 83.018533 \r\nL 349.558734 80.278743 \r\nL 349.851008 82.313611 \r\nL 349.997145 84.590741 \r\nL 350.143282 84.922584 \r\nL 350.435556 83.474407 \r\nL 350.581693 80.515272 \r\nL 350.72783 84.358858 \r\nL 351.020104 82.999194 \r\nL 351.166242 80.894056 \r\nL 351.312379 81.717854 \r\nL 351.458516 81.637283 \r\nL 351.604653 82.776331 \r\nL 351.75079 80.255493 \r\nL 351.896927 80.370446 \r\nL 352.189201 76.039324 \r\nL 352.335338 76.481426 \r\nL 352.627612 82.395464 \r\nL 352.773749 78.589028 \r\nL 352.919886 78.068952 \r\nL 353.066023 83.312327 \r\nL 353.21216 81.672623 \r\nL 353.358297 82.486606 \r\nL 353.504434 81.637453 \r\nL 353.650572 83.592256 \r\nL 353.796709 83.708134 \r\nL 354.088983 77.793398 \r\nL 354.381257 80.103215 \r\nL 354.527394 78.458867 \r\nL 354.673531 80.855284 \r\nL 355.111942 76.249403 \r\nL 355.258079 75.716718 \r\nL 355.404216 72.765274 \r\nL 355.550353 79.778686 \r\nL 355.69649 79.72985 \r\nL 356.427176 96.223917 \r\nL 356.573313 90.694789 \r\nL 356.71945 90.30744 \r\nL 356.865587 90.345118 \r\nL 357.011724 93.554347 \r\nL 357.303998 89.3829 \r\nL 357.450135 77.614218 \r\nL 357.596272 78.31474 \r\nL 357.888546 48.894236 \r\nL 358.18082 44.764437 \r\nL 358.473094 41.272544 \r\nL 358.619232 42.814504 \r\nL 358.765369 41.566646 \r\nL 358.911506 36.882423 \r\nL 359.057643 36.745471 \r\nL 359.20378 36.88358 \r\nL 359.349917 32.716927 \r\nL 359.496054 32.818501 \r\nL 359.642191 33.873029 \r\nL 359.788328 32.706181 \r\nL 359.934465 32.801356 \r\nL 360.080602 32.480457 \r\nL 360.372876 34.307837 \r\nL 360.66515 33.182629 \r\nL 360.957424 36.634756 \r\nL 361.103561 37.46731 \r\nL 361.249699 35.112048 \r\nL 361.395836 35.876533 \r\nL 361.68811 34.487636 \r\nL 361.834247 34.872394 \r\nL 361.980384 34.510924 \r\nL 362.126521 39.942549 \r\nL 362.272658 39.765112 \r\nL 362.418795 40.708615 \r\nL 362.711069 37.083756 \r\nL 363.003343 41.853812 \r\nL 363.14948 41.881045 \r\nL 363.295617 44.830782 \r\nL 363.587891 41.609727 \r\nL 363.734029 44.847007 \r\nL 363.880166 43.992753 \r\nL 364.026303 45.320003 \r\nL 364.17244 43.88785 \r\nL 364.318577 38.25972 \r\nL 364.464714 40.354543 \r\nL 364.756988 41.23034 \r\nL 364.903125 40.369947 \r\nL 364.903125 40.369947 \r\n\" style=\"fill:none;stroke:#1f77b4;stroke-linecap:square;stroke-width:1.5;\"/>\r\n   </g>\r\n   <g id=\"patch_3\">\r\n    <path d=\"M 30.103125 224.64 \r\nL 30.103125 7.2 \r\n\" style=\"fill:none;stroke:#000000;stroke-linecap:square;stroke-linejoin:miter;stroke-width:0.8;\"/>\r\n   </g>\r\n   <g id=\"patch_4\">\r\n    <path d=\"M 364.903125 224.64 \r\nL 364.903125 7.2 \r\n\" style=\"fill:none;stroke:#000000;stroke-linecap:square;stroke-linejoin:miter;stroke-width:0.8;\"/>\r\n   </g>\r\n   <g id=\"patch_5\">\r\n    <path d=\"M 30.103125 224.64 \r\nL 364.903125 224.64 \r\n\" style=\"fill:none;stroke:#000000;stroke-linecap:square;stroke-linejoin:miter;stroke-width:0.8;\"/>\r\n   </g>\r\n   <g id=\"patch_6\">\r\n    <path d=\"M 30.103125 7.2 \r\nL 364.903125 7.2 \r\n\" style=\"fill:none;stroke:#000000;stroke-linecap:square;stroke-linejoin:miter;stroke-width:0.8;\"/>\r\n   </g>\r\n  </g>\r\n </g>\r\n <defs>\r\n  <clipPath id=\"p9f43d21a48\">\r\n   <rect height=\"217.44\" width=\"334.8\" x=\"30.103125\" y=\"7.2\"/>\r\n  </clipPath>\r\n </defs>\r\n</svg>\r\n",
      "image/png": "[encoded data removed]"
     },
     "metadata": {
      "needs_background": "light"
     }
    }
   ],
   "source": [
    "corr.plot()"
   ]
  },
  {
   "cell_type": "code",
   "execution_count": 284,
   "metadata": {},
   "outputs": [],
   "source": [
    "corr = returns.rolling(125, min_periods=100).corr(spx_rets)"
   ]
  },
  {
   "cell_type": "code",
   "execution_count": 285,
   "metadata": {},
   "outputs": [
    {
     "output_type": "execute_result",
     "data": {
      "text/plain": [
       "<AxesSubplot:>"
      ]
     },
     "metadata": {},
     "execution_count": 285
    },
    {
     "output_type": "display_data",
     "data": {
      "text/plain": "<Figure size 432x288 with 1 Axes>",
      "image/svg+xml": "<?xml version=\"1.0\" encoding=\"utf-8\" standalone=\"no\"?>\r\n<!DOCTYPE svg PUBLIC \"-//W3C//DTD SVG 1.1//EN\"\r\n  \"http://www.w3.org/Graphics/SVG/1.1/DTD/svg11.dtd\">\r\n<!-- Created with matplotlib (https://matplotlib.org/) -->\r\n<svg height=\"248.518125pt\" version=\"1.1\" viewBox=\"0 0 372.103125 248.518125\" width=\"372.103125pt\" xmlns=\"http://www.w3.org/2000/svg\" xmlns:xlink=\"http://www.w3.org/1999/xlink\">\r\n <metadata>\r\n  <rdf:RDF xmlns:cc=\"http://creativecommons.org/ns#\" xmlns:dc=\"http://purl.org/dc/elements/1.1/\" xmlns:rdf=\"http://www.w3.org/1999/02/22-rdf-syntax-ns#\">\r\n   <cc:Work>\r\n    <dc:type rdf:resource=\"http://purl.org/dc/dcmitype/StillImage\"/>\r\n    <dc:date>2021-05-11T11:49:24.585637</dc:date>\r\n    <dc:format>image/svg+xml</dc:format>\r\n    <dc:creator>\r\n     <cc:Agent>\r\n      <dc:title>Matplotlib v3.3.2, https://matplotlib.org/</dc:title>\r\n     </cc:Agent>\r\n    </dc:creator>\r\n   </cc:Work>\r\n  </rdf:RDF>\r\n </metadata>\r\n <defs>\r\n  <style type=\"text/css\">*{stroke-linecap:butt;stroke-linejoin:round;}</style>\r\n </defs>\r\n <g id=\"figure_1\">\r\n  <g id=\"patch_1\">\r\n   <path d=\"M 0 248.518125 \r\nL 372.103125 248.518125 \r\nL 372.103125 0 \r\nL 0 0 \r\nz\r\n\" style=\"fill:none;\"/>\r\n  </g>\r\n  <g id=\"axes_1\">\r\n   <g id=\"patch_2\">\r\n    <path d=\"M 30.103125 224.64 \r\nL 364.903125 224.64 \r\nL 364.903125 7.2 \r\nL 30.103125 7.2 \r\nz\r\n\" style=\"fill:#ffffff;\"/>\r\n   </g>\r\n   <g id=\"matplotlib.axis_1\">\r\n    <g id=\"xtick_1\">\r\n     <g id=\"line2d_1\">\r\n      <defs>\r\n       <path d=\"M 0 0 \r\nL 0 3.5 \r\n\" id=\"mc71414d0cc\" style=\"stroke:#000000;stroke-width:0.8;\"/>\r\n      </defs>\r\n      <g>\r\n       <use style=\"stroke:#000000;stroke-width:0.8;\" x=\"30.103125\" xlink:href=\"#mc71414d0cc\" y=\"224.64\"/>\r\n      </g>\r\n     </g>\r\n    </g>\r\n    <g id=\"xtick_2\">\r\n     <g id=\"line2d_2\">\r\n      <g>\r\n       <use style=\"stroke:#000000;stroke-width:0.8;\" x=\"68.09876\" xlink:href=\"#mc71414d0cc\" y=\"224.64\"/>\r\n      </g>\r\n     </g>\r\n     <g id=\"text_1\">\r\n      <!-- 2004 -->\r\n      <g transform=\"translate(55.37376 239.238437)scale(0.1 -0.1)\">\r\n       <defs>\r\n        <path d=\"M 19.1875 8.296875 \r\nL 53.609375 8.296875 \r\nL 53.609375 0 \r\nL 7.328125 0 \r\nL 7.328125 8.296875 \r\nQ 12.9375 14.109375 22.625 23.890625 \r\nQ 32.328125 33.6875 34.8125 36.53125 \r\nQ 39.546875 41.84375 41.421875 45.53125 \r\nQ 43.3125 49.21875 43.3125 52.78125 \r\nQ 43.3125 58.59375 39.234375 62.25 \r\nQ 35.15625 65.921875 28.609375 65.921875 \r\nQ 23.96875 65.921875 18.8125 64.3125 \r\nQ 13.671875 62.703125 7.8125 59.421875 \r\nL 7.8125 69.390625 \r\nQ 13.765625 71.78125 18.9375 73 \r\nQ 24.125 74.21875 28.421875 74.21875 \r\nQ 39.75 74.21875 46.484375 68.546875 \r\nQ 53.21875 62.890625 53.21875 53.421875 \r\nQ 53.21875 48.921875 51.53125 44.890625 \r\nQ 49.859375 40.875 45.40625 35.40625 \r\nQ 44.1875 33.984375 37.640625 27.21875 \r\nQ 31.109375 20.453125 19.1875 8.296875 \r\nz\r\n\" id=\"DejaVuSans-50\"/>\r\n        <path d=\"M 31.78125 66.40625 \r\nQ 24.171875 66.40625 20.328125 58.90625 \r\nQ 16.5 51.421875 16.5 36.375 \r\nQ 16.5 21.390625 20.328125 13.890625 \r\nQ 24.171875 6.390625 31.78125 6.390625 \r\nQ 39.453125 6.390625 43.28125 13.890625 \r\nQ 47.125 21.390625 47.125 36.375 \r\nQ 47.125 51.421875 43.28125 58.90625 \r\nQ 39.453125 66.40625 31.78125 66.40625 \r\nz\r\nM 31.78125 74.21875 \r\nQ 44.046875 74.21875 50.515625 64.515625 \r\nQ 56.984375 54.828125 56.984375 36.375 \r\nQ 56.984375 17.96875 50.515625 8.265625 \r\nQ 44.046875 -1.421875 31.78125 -1.421875 \r\nQ 19.53125 -1.421875 13.0625 8.265625 \r\nQ 6.59375 17.96875 6.59375 36.375 \r\nQ 6.59375 54.828125 13.0625 64.515625 \r\nQ 19.53125 74.21875 31.78125 74.21875 \r\nz\r\n\" id=\"DejaVuSans-48\"/>\r\n        <path d=\"M 37.796875 64.3125 \r\nL 12.890625 25.390625 \r\nL 37.796875 25.390625 \r\nz\r\nM 35.203125 72.90625 \r\nL 47.609375 72.90625 \r\nL 47.609375 25.390625 \r\nL 58.015625 25.390625 \r\nL 58.015625 17.1875 \r\nL 47.609375 17.1875 \r\nL 47.609375 0 \r\nL 37.796875 0 \r\nL 37.796875 17.1875 \r\nL 4.890625 17.1875 \r\nL 4.890625 26.703125 \r\nz\r\n\" id=\"DejaVuSans-52\"/>\r\n       </defs>\r\n       <use xlink:href=\"#DejaVuSans-50\"/>\r\n       <use x=\"63.623047\" xlink:href=\"#DejaVuSans-48\"/>\r\n       <use x=\"127.246094\" xlink:href=\"#DejaVuSans-48\"/>\r\n       <use x=\"190.869141\" xlink:href=\"#DejaVuSans-52\"/>\r\n      </g>\r\n     </g>\r\n    </g>\r\n    <g id=\"xtick_3\">\r\n     <g id=\"line2d_3\">\r\n      <g>\r\n       <use style=\"stroke:#000000;stroke-width:0.8;\" x=\"106.386669\" xlink:href=\"#mc71414d0cc\" y=\"224.64\"/>\r\n      </g>\r\n     </g>\r\n     <g id=\"text_2\">\r\n      <!-- 2005 -->\r\n      <g transform=\"translate(93.661669 239.238437)scale(0.1 -0.1)\">\r\n       <defs>\r\n        <path d=\"M 10.796875 72.90625 \r\nL 49.515625 72.90625 \r\nL 49.515625 64.59375 \r\nL 19.828125 64.59375 \r\nL 19.828125 46.734375 \r\nQ 21.96875 47.46875 24.109375 47.828125 \r\nQ 26.265625 48.1875 28.421875 48.1875 \r\nQ 40.625 48.1875 47.75 41.5 \r\nQ 54.890625 34.8125 54.890625 23.390625 \r\nQ 54.890625 11.625 47.5625 5.09375 \r\nQ 40.234375 -1.421875 26.90625 -1.421875 \r\nQ 22.3125 -1.421875 17.546875 -0.640625 \r\nQ 12.796875 0.140625 7.71875 1.703125 \r\nL 7.71875 11.625 \r\nQ 12.109375 9.234375 16.796875 8.0625 \r\nQ 21.484375 6.890625 26.703125 6.890625 \r\nQ 35.15625 6.890625 40.078125 11.328125 \r\nQ 45.015625 15.765625 45.015625 23.390625 \r\nQ 45.015625 31 40.078125 35.4375 \r\nQ 35.15625 39.890625 26.703125 39.890625 \r\nQ 22.75 39.890625 18.8125 39.015625 \r\nQ 14.890625 38.140625 10.796875 36.28125 \r\nz\r\n\" id=\"DejaVuSans-53\"/>\r\n       </defs>\r\n       <use xlink:href=\"#DejaVuSans-50\"/>\r\n       <use x=\"63.623047\" xlink:href=\"#DejaVuSans-48\"/>\r\n       <use x=\"127.246094\" xlink:href=\"#DejaVuSans-48\"/>\r\n       <use x=\"190.869141\" xlink:href=\"#DejaVuSans-53\"/>\r\n      </g>\r\n     </g>\r\n    </g>\r\n    <g id=\"xtick_4\">\r\n     <g id=\"line2d_4\">\r\n      <g>\r\n       <use style=\"stroke:#000000;stroke-width:0.8;\" x=\"144.382304\" xlink:href=\"#mc71414d0cc\" y=\"224.64\"/>\r\n      </g>\r\n     </g>\r\n     <g id=\"text_3\">\r\n      <!-- 2006 -->\r\n      <g transform=\"translate(131.657304 239.238437)scale(0.1 -0.1)\">\r\n       <defs>\r\n        <path d=\"M 33.015625 40.375 \r\nQ 26.375 40.375 22.484375 35.828125 \r\nQ 18.609375 31.296875 18.609375 23.390625 \r\nQ 18.609375 15.53125 22.484375 10.953125 \r\nQ 26.375 6.390625 33.015625 6.390625 \r\nQ 39.65625 6.390625 43.53125 10.953125 \r\nQ 47.40625 15.53125 47.40625 23.390625 \r\nQ 47.40625 31.296875 43.53125 35.828125 \r\nQ 39.65625 40.375 33.015625 40.375 \r\nz\r\nM 52.59375 71.296875 \r\nL 52.59375 62.3125 \r\nQ 48.875 64.0625 45.09375 64.984375 \r\nQ 41.3125 65.921875 37.59375 65.921875 \r\nQ 27.828125 65.921875 22.671875 59.328125 \r\nQ 17.53125 52.734375 16.796875 39.40625 \r\nQ 19.671875 43.65625 24.015625 45.921875 \r\nQ 28.375 48.1875 33.59375 48.1875 \r\nQ 44.578125 48.1875 50.953125 41.515625 \r\nQ 57.328125 34.859375 57.328125 23.390625 \r\nQ 57.328125 12.15625 50.6875 5.359375 \r\nQ 44.046875 -1.421875 33.015625 -1.421875 \r\nQ 20.359375 -1.421875 13.671875 8.265625 \r\nQ 6.984375 17.96875 6.984375 36.375 \r\nQ 6.984375 53.65625 15.1875 63.9375 \r\nQ 23.390625 74.21875 37.203125 74.21875 \r\nQ 40.921875 74.21875 44.703125 73.484375 \r\nQ 48.484375 72.75 52.59375 71.296875 \r\nz\r\n\" id=\"DejaVuSans-54\"/>\r\n       </defs>\r\n       <use xlink:href=\"#DejaVuSans-50\"/>\r\n       <use x=\"63.623047\" xlink:href=\"#DejaVuSans-48\"/>\r\n       <use x=\"127.246094\" xlink:href=\"#DejaVuSans-48\"/>\r\n       <use x=\"190.869141\" xlink:href=\"#DejaVuSans-54\"/>\r\n      </g>\r\n     </g>\r\n    </g>\r\n    <g id=\"xtick_5\">\r\n     <g id=\"line2d_5\">\r\n      <g>\r\n       <use style=\"stroke:#000000;stroke-width:0.8;\" x=\"182.377939\" xlink:href=\"#mc71414d0cc\" y=\"224.64\"/>\r\n      </g>\r\n     </g>\r\n     <g id=\"text_4\">\r\n      <!-- 2007 -->\r\n      <g transform=\"translate(169.652939 239.238437)scale(0.1 -0.1)\">\r\n       <defs>\r\n        <path d=\"M 8.203125 72.90625 \r\nL 55.078125 72.90625 \r\nL 55.078125 68.703125 \r\nL 28.609375 0 \r\nL 18.3125 0 \r\nL 43.21875 64.59375 \r\nL 8.203125 64.59375 \r\nz\r\n\" id=\"DejaVuSans-55\"/>\r\n       </defs>\r\n       <use xlink:href=\"#DejaVuSans-50\"/>\r\n       <use x=\"63.623047\" xlink:href=\"#DejaVuSans-48\"/>\r\n       <use x=\"127.246094\" xlink:href=\"#DejaVuSans-48\"/>\r\n       <use x=\"190.869141\" xlink:href=\"#DejaVuSans-55\"/>\r\n      </g>\r\n     </g>\r\n    </g>\r\n    <g id=\"xtick_6\">\r\n     <g id=\"line2d_6\">\r\n      <g>\r\n       <use style=\"stroke:#000000;stroke-width:0.8;\" x=\"220.519712\" xlink:href=\"#mc71414d0cc\" y=\"224.64\"/>\r\n      </g>\r\n     </g>\r\n     <g id=\"text_5\">\r\n      <!-- 2008 -->\r\n      <g transform=\"translate(207.794712 239.238437)scale(0.1 -0.1)\">\r\n       <defs>\r\n        <path d=\"M 31.78125 34.625 \r\nQ 24.75 34.625 20.71875 30.859375 \r\nQ 16.703125 27.09375 16.703125 20.515625 \r\nQ 16.703125 13.921875 20.71875 10.15625 \r\nQ 24.75 6.390625 31.78125 6.390625 \r\nQ 38.8125 6.390625 42.859375 10.171875 \r\nQ 46.921875 13.96875 46.921875 20.515625 \r\nQ 46.921875 27.09375 42.890625 30.859375 \r\nQ 38.875 34.625 31.78125 34.625 \r\nz\r\nM 21.921875 38.8125 \r\nQ 15.578125 40.375 12.03125 44.71875 \r\nQ 8.5 49.078125 8.5 55.328125 \r\nQ 8.5 64.0625 14.71875 69.140625 \r\nQ 20.953125 74.21875 31.78125 74.21875 \r\nQ 42.671875 74.21875 48.875 69.140625 \r\nQ 55.078125 64.0625 55.078125 55.328125 \r\nQ 55.078125 49.078125 51.53125 44.71875 \r\nQ 48 40.375 41.703125 38.8125 \r\nQ 48.828125 37.15625 52.796875 32.3125 \r\nQ 56.78125 27.484375 56.78125 20.515625 \r\nQ 56.78125 9.90625 50.3125 4.234375 \r\nQ 43.84375 -1.421875 31.78125 -1.421875 \r\nQ 19.734375 -1.421875 13.25 4.234375 \r\nQ 6.78125 9.90625 6.78125 20.515625 \r\nQ 6.78125 27.484375 10.78125 32.3125 \r\nQ 14.796875 37.15625 21.921875 38.8125 \r\nz\r\nM 18.3125 54.390625 \r\nQ 18.3125 48.734375 21.84375 45.5625 \r\nQ 25.390625 42.390625 31.78125 42.390625 \r\nQ 38.140625 42.390625 41.71875 45.5625 \r\nQ 45.3125 48.734375 45.3125 54.390625 \r\nQ 45.3125 60.0625 41.71875 63.234375 \r\nQ 38.140625 66.40625 31.78125 66.40625 \r\nQ 25.390625 66.40625 21.84375 63.234375 \r\nQ 18.3125 60.0625 18.3125 54.390625 \r\nz\r\n\" id=\"DejaVuSans-56\"/>\r\n       </defs>\r\n       <use xlink:href=\"#DejaVuSans-50\"/>\r\n       <use x=\"63.623047\" xlink:href=\"#DejaVuSans-48\"/>\r\n       <use x=\"127.246094\" xlink:href=\"#DejaVuSans-48\"/>\r\n       <use x=\"190.869141\" xlink:href=\"#DejaVuSans-56\"/>\r\n      </g>\r\n     </g>\r\n    </g>\r\n    <g id=\"xtick_7\">\r\n     <g id=\"line2d_7\">\r\n      <g>\r\n       <use style=\"stroke:#000000;stroke-width:0.8;\" x=\"258.807621\" xlink:href=\"#mc71414d0cc\" y=\"224.64\"/>\r\n      </g>\r\n     </g>\r\n     <g id=\"text_6\">\r\n      <!-- 2009 -->\r\n      <g transform=\"translate(246.082621 239.238437)scale(0.1 -0.1)\">\r\n       <defs>\r\n        <path d=\"M 10.984375 1.515625 \r\nL 10.984375 10.5 \r\nQ 14.703125 8.734375 18.5 7.8125 \r\nQ 22.3125 6.890625 25.984375 6.890625 \r\nQ 35.75 6.890625 40.890625 13.453125 \r\nQ 46.046875 20.015625 46.78125 33.40625 \r\nQ 43.953125 29.203125 39.59375 26.953125 \r\nQ 35.25 24.703125 29.984375 24.703125 \r\nQ 19.046875 24.703125 12.671875 31.3125 \r\nQ 6.296875 37.9375 6.296875 49.421875 \r\nQ 6.296875 60.640625 12.9375 67.421875 \r\nQ 19.578125 74.21875 30.609375 74.21875 \r\nQ 43.265625 74.21875 49.921875 64.515625 \r\nQ 56.59375 54.828125 56.59375 36.375 \r\nQ 56.59375 19.140625 48.40625 8.859375 \r\nQ 40.234375 -1.421875 26.421875 -1.421875 \r\nQ 22.703125 -1.421875 18.890625 -0.6875 \r\nQ 15.09375 0.046875 10.984375 1.515625 \r\nz\r\nM 30.609375 32.421875 \r\nQ 37.25 32.421875 41.125 36.953125 \r\nQ 45.015625 41.5 45.015625 49.421875 \r\nQ 45.015625 57.28125 41.125 61.84375 \r\nQ 37.25 66.40625 30.609375 66.40625 \r\nQ 23.96875 66.40625 20.09375 61.84375 \r\nQ 16.21875 57.28125 16.21875 49.421875 \r\nQ 16.21875 41.5 20.09375 36.953125 \r\nQ 23.96875 32.421875 30.609375 32.421875 \r\nz\r\n\" id=\"DejaVuSans-57\"/>\r\n       </defs>\r\n       <use xlink:href=\"#DejaVuSans-50\"/>\r\n       <use x=\"63.623047\" xlink:href=\"#DejaVuSans-48\"/>\r\n       <use x=\"127.246094\" xlink:href=\"#DejaVuSans-48\"/>\r\n       <use x=\"190.869141\" xlink:href=\"#DejaVuSans-57\"/>\r\n      </g>\r\n     </g>\r\n    </g>\r\n    <g id=\"xtick_8\">\r\n     <g id=\"line2d_8\">\r\n      <g>\r\n       <use style=\"stroke:#000000;stroke-width:0.8;\" x=\"296.949393\" xlink:href=\"#mc71414d0cc\" y=\"224.64\"/>\r\n      </g>\r\n     </g>\r\n     <g id=\"text_7\">\r\n      <!-- 2010 -->\r\n      <g transform=\"translate(284.224393 239.238437)scale(0.1 -0.1)\">\r\n       <defs>\r\n        <path d=\"M 12.40625 8.296875 \r\nL 28.515625 8.296875 \r\nL 28.515625 63.921875 \r\nL 10.984375 60.40625 \r\nL 10.984375 69.390625 \r\nL 28.421875 72.90625 \r\nL 38.28125 72.90625 \r\nL 38.28125 8.296875 \r\nL 54.390625 8.296875 \r\nL 54.390625 0 \r\nL 12.40625 0 \r\nz\r\n\" id=\"DejaVuSans-49\"/>\r\n       </defs>\r\n       <use xlink:href=\"#DejaVuSans-50\"/>\r\n       <use x=\"63.623047\" xlink:href=\"#DejaVuSans-48\"/>\r\n       <use x=\"127.246094\" xlink:href=\"#DejaVuSans-49\"/>\r\n       <use x=\"190.869141\" xlink:href=\"#DejaVuSans-48\"/>\r\n      </g>\r\n     </g>\r\n    </g>\r\n    <g id=\"xtick_9\">\r\n     <g id=\"line2d_9\">\r\n      <g>\r\n       <use style=\"stroke:#000000;stroke-width:0.8;\" x=\"335.091165\" xlink:href=\"#mc71414d0cc\" y=\"224.64\"/>\r\n      </g>\r\n     </g>\r\n     <g id=\"text_8\">\r\n      <!-- 2011 -->\r\n      <g transform=\"translate(322.366165 239.238437)scale(0.1 -0.1)\">\r\n       <use xlink:href=\"#DejaVuSans-50\"/>\r\n       <use x=\"63.623047\" xlink:href=\"#DejaVuSans-48\"/>\r\n       <use x=\"127.246094\" xlink:href=\"#DejaVuSans-49\"/>\r\n       <use x=\"190.869141\" xlink:href=\"#DejaVuSans-49\"/>\r\n      </g>\r\n     </g>\r\n    </g>\r\n    <g id=\"xtick_10\">\r\n     <g id=\"line2d_10\">\r\n      <g>\r\n       <use style=\"stroke:#000000;stroke-width:0.8;\" x=\"364.903125\" xlink:href=\"#mc71414d0cc\" y=\"224.64\"/>\r\n      </g>\r\n     </g>\r\n    </g>\r\n    <g id=\"xtick_11\">\r\n     <g id=\"line2d_11\">\r\n      <defs>\r\n       <path d=\"M 0 0 \r\nL 0 2 \r\n\" id=\"m1cf73e4528\" style=\"stroke:#000000;stroke-width:0.6;\"/>\r\n      </defs>\r\n      <g>\r\n       <use style=\"stroke:#000000;stroke-width:0.6;\" x=\"39.30976\" xlink:href=\"#m1cf73e4528\" y=\"224.64\"/>\r\n      </g>\r\n     </g>\r\n    </g>\r\n    <g id=\"xtick_12\">\r\n     <g id=\"line2d_12\">\r\n      <g>\r\n       <use style=\"stroke:#000000;stroke-width:0.6;\" x=\"48.808668\" xlink:href=\"#m1cf73e4528\" y=\"224.64\"/>\r\n      </g>\r\n     </g>\r\n    </g>\r\n    <g id=\"xtick_13\">\r\n     <g id=\"line2d_13\">\r\n      <g>\r\n       <use style=\"stroke:#000000;stroke-width:0.6;\" x=\"58.453714\" xlink:href=\"#m1cf73e4528\" y=\"224.64\"/>\r\n      </g>\r\n     </g>\r\n    </g>\r\n    <g id=\"xtick_14\">\r\n     <g id=\"line2d_14\">\r\n      <g>\r\n       <use style=\"stroke:#000000;stroke-width:0.6;\" x=\"77.597669\" xlink:href=\"#m1cf73e4528\" y=\"224.64\"/>\r\n      </g>\r\n     </g>\r\n    </g>\r\n    <g id=\"xtick_15\">\r\n     <g id=\"line2d_15\">\r\n      <g>\r\n       <use style=\"stroke:#000000;stroke-width:0.6;\" x=\"87.096578\" xlink:href=\"#m1cf73e4528\" y=\"224.64\"/>\r\n      </g>\r\n     </g>\r\n    </g>\r\n    <g id=\"xtick_16\">\r\n     <g id=\"line2d_16\">\r\n      <g>\r\n       <use style=\"stroke:#000000;stroke-width:0.6;\" x=\"96.741623\" xlink:href=\"#m1cf73e4528\" y=\"224.64\"/>\r\n      </g>\r\n     </g>\r\n    </g>\r\n    <g id=\"xtick_17\">\r\n     <g id=\"line2d_17\">\r\n      <g>\r\n       <use style=\"stroke:#000000;stroke-width:0.6;\" x=\"115.739441\" xlink:href=\"#m1cf73e4528\" y=\"224.64\"/>\r\n      </g>\r\n     </g>\r\n    </g>\r\n    <g id=\"xtick_18\">\r\n     <g id=\"line2d_18\">\r\n      <g>\r\n       <use style=\"stroke:#000000;stroke-width:0.6;\" x=\"125.23835\" xlink:href=\"#m1cf73e4528\" y=\"224.64\"/>\r\n      </g>\r\n     </g>\r\n    </g>\r\n    <g id=\"xtick_19\">\r\n     <g id=\"line2d_19\">\r\n      <g>\r\n       <use style=\"stroke:#000000;stroke-width:0.6;\" x=\"134.883396\" xlink:href=\"#m1cf73e4528\" y=\"224.64\"/>\r\n      </g>\r\n     </g>\r\n    </g>\r\n    <g id=\"xtick_20\">\r\n     <g id=\"line2d_20\">\r\n      <g>\r\n       <use style=\"stroke:#000000;stroke-width:0.6;\" x=\"153.881213\" xlink:href=\"#m1cf73e4528\" y=\"224.64\"/>\r\n      </g>\r\n     </g>\r\n    </g>\r\n    <g id=\"xtick_21\">\r\n     <g id=\"line2d_21\">\r\n      <g>\r\n       <use style=\"stroke:#000000;stroke-width:0.6;\" x=\"163.380122\" xlink:href=\"#m1cf73e4528\" y=\"224.64\"/>\r\n      </g>\r\n     </g>\r\n    </g>\r\n    <g id=\"xtick_22\">\r\n     <g id=\"line2d_22\">\r\n      <g>\r\n       <use style=\"stroke:#000000;stroke-width:0.6;\" x=\"172.879031\" xlink:href=\"#m1cf73e4528\" y=\"224.64\"/>\r\n      </g>\r\n     </g>\r\n    </g>\r\n    <g id=\"xtick_23\">\r\n     <g id=\"line2d_23\">\r\n      <g>\r\n       <use style=\"stroke:#000000;stroke-width:0.6;\" x=\"191.876848\" xlink:href=\"#m1cf73e4528\" y=\"224.64\"/>\r\n      </g>\r\n     </g>\r\n    </g>\r\n    <g id=\"xtick_24\">\r\n     <g id=\"line2d_24\">\r\n      <g>\r\n       <use style=\"stroke:#000000;stroke-width:0.6;\" x=\"201.375757\" xlink:href=\"#m1cf73e4528\" y=\"224.64\"/>\r\n      </g>\r\n     </g>\r\n    </g>\r\n    <g id=\"xtick_25\">\r\n     <g id=\"line2d_25\">\r\n      <g>\r\n       <use style=\"stroke:#000000;stroke-width:0.6;\" x=\"210.874666\" xlink:href=\"#m1cf73e4528\" y=\"224.64\"/>\r\n      </g>\r\n     </g>\r\n    </g>\r\n    <g id=\"xtick_26\">\r\n     <g id=\"line2d_26\">\r\n      <g>\r\n       <use style=\"stroke:#000000;stroke-width:0.6;\" x=\"230.01862\" xlink:href=\"#m1cf73e4528\" y=\"224.64\"/>\r\n      </g>\r\n     </g>\r\n    </g>\r\n    <g id=\"xtick_27\">\r\n     <g id=\"line2d_27\">\r\n      <g>\r\n       <use style=\"stroke:#000000;stroke-width:0.6;\" x=\"239.517529\" xlink:href=\"#m1cf73e4528\" y=\"224.64\"/>\r\n      </g>\r\n     </g>\r\n    </g>\r\n    <g id=\"xtick_28\">\r\n     <g id=\"line2d_28\">\r\n      <g>\r\n       <use style=\"stroke:#000000;stroke-width:0.6;\" x=\"249.162575\" xlink:href=\"#m1cf73e4528\" y=\"224.64\"/>\r\n      </g>\r\n     </g>\r\n    </g>\r\n    <g id=\"xtick_29\">\r\n     <g id=\"line2d_29\">\r\n      <g>\r\n       <use style=\"stroke:#000000;stroke-width:0.6;\" x=\"268.160393\" xlink:href=\"#m1cf73e4528\" y=\"224.64\"/>\r\n      </g>\r\n     </g>\r\n    </g>\r\n    <g id=\"xtick_30\">\r\n     <g id=\"line2d_30\">\r\n      <g>\r\n       <use style=\"stroke:#000000;stroke-width:0.6;\" x=\"277.659301\" xlink:href=\"#m1cf73e4528\" y=\"224.64\"/>\r\n      </g>\r\n     </g>\r\n    </g>\r\n    <g id=\"xtick_31\">\r\n     <g id=\"line2d_31\">\r\n      <g>\r\n       <use style=\"stroke:#000000;stroke-width:0.6;\" x=\"287.304347\" xlink:href=\"#m1cf73e4528\" y=\"224.64\"/>\r\n      </g>\r\n     </g>\r\n    </g>\r\n    <g id=\"xtick_32\">\r\n     <g id=\"line2d_32\">\r\n      <g>\r\n       <use style=\"stroke:#000000;stroke-width:0.6;\" x=\"306.302165\" xlink:href=\"#m1cf73e4528\" y=\"224.64\"/>\r\n      </g>\r\n     </g>\r\n    </g>\r\n    <g id=\"xtick_33\">\r\n     <g id=\"line2d_33\">\r\n      <g>\r\n       <use style=\"stroke:#000000;stroke-width:0.6;\" x=\"315.801073\" xlink:href=\"#m1cf73e4528\" y=\"224.64\"/>\r\n      </g>\r\n     </g>\r\n    </g>\r\n    <g id=\"xtick_34\">\r\n     <g id=\"line2d_34\">\r\n      <g>\r\n       <use style=\"stroke:#000000;stroke-width:0.6;\" x=\"325.446119\" xlink:href=\"#m1cf73e4528\" y=\"224.64\"/>\r\n      </g>\r\n     </g>\r\n    </g>\r\n    <g id=\"xtick_35\">\r\n     <g id=\"line2d_35\">\r\n      <g>\r\n       <use style=\"stroke:#000000;stroke-width:0.6;\" x=\"344.443937\" xlink:href=\"#m1cf73e4528\" y=\"224.64\"/>\r\n      </g>\r\n     </g>\r\n    </g>\r\n    <g id=\"xtick_36\">\r\n     <g id=\"line2d_36\">\r\n      <g>\r\n       <use style=\"stroke:#000000;stroke-width:0.6;\" x=\"353.942846\" xlink:href=\"#m1cf73e4528\" y=\"224.64\"/>\r\n      </g>\r\n     </g>\r\n    </g>\r\n    <g id=\"xtick_37\">\r\n     <g id=\"line2d_37\">\r\n      <g>\r\n       <use style=\"stroke:#000000;stroke-width:0.6;\" x=\"363.587891\" xlink:href=\"#m1cf73e4528\" y=\"224.64\"/>\r\n      </g>\r\n     </g>\r\n    </g>\r\n   </g>\r\n   <g id=\"matplotlib.axis_2\">\r\n    <g id=\"ytick_1\">\r\n     <g id=\"line2d_38\">\r\n      <defs>\r\n       <path d=\"M 0 0 \r\nL -3.5 0 \r\n\" id=\"m79d6311359\" style=\"stroke:#000000;stroke-width:0.8;\"/>\r\n      </defs>\r\n      <g>\r\n       <use style=\"stroke:#000000;stroke-width:0.8;\" x=\"30.103125\" xlink:href=\"#m79d6311359\" y=\"210.424103\"/>\r\n      </g>\r\n     </g>\r\n     <g id=\"text_9\">\r\n      <!-- 0.2 -->\r\n      <g transform=\"translate(7.2 214.223322)scale(0.1 -0.1)\">\r\n       <defs>\r\n        <path d=\"M 10.6875 12.40625 \r\nL 21 12.40625 \r\nL 21 0 \r\nL 10.6875 0 \r\nz\r\n\" id=\"DejaVuSans-46\"/>\r\n       </defs>\r\n       <use xlink:href=\"#DejaVuSans-48\"/>\r\n       <use x=\"63.623047\" xlink:href=\"#DejaVuSans-46\"/>\r\n       <use x=\"95.410156\" xlink:href=\"#DejaVuSans-50\"/>\r\n      </g>\r\n     </g>\r\n    </g>\r\n    <g id=\"ytick_2\">\r\n     <g id=\"line2d_39\">\r\n      <g>\r\n       <use style=\"stroke:#000000;stroke-width:0.8;\" x=\"30.103125\" xlink:href=\"#m79d6311359\" y=\"183.406138\"/>\r\n      </g>\r\n     </g>\r\n     <g id=\"text_10\">\r\n      <!-- 0.3 -->\r\n      <g transform=\"translate(7.2 187.205357)scale(0.1 -0.1)\">\r\n       <defs>\r\n        <path d=\"M 40.578125 39.3125 \r\nQ 47.65625 37.796875 51.625 33 \r\nQ 55.609375 28.21875 55.609375 21.1875 \r\nQ 55.609375 10.40625 48.1875 4.484375 \r\nQ 40.765625 -1.421875 27.09375 -1.421875 \r\nQ 22.515625 -1.421875 17.65625 -0.515625 \r\nQ 12.796875 0.390625 7.625 2.203125 \r\nL 7.625 11.71875 \r\nQ 11.71875 9.328125 16.59375 8.109375 \r\nQ 21.484375 6.890625 26.8125 6.890625 \r\nQ 36.078125 6.890625 40.9375 10.546875 \r\nQ 45.796875 14.203125 45.796875 21.1875 \r\nQ 45.796875 27.640625 41.28125 31.265625 \r\nQ 36.765625 34.90625 28.71875 34.90625 \r\nL 20.21875 34.90625 \r\nL 20.21875 43.015625 \r\nL 29.109375 43.015625 \r\nQ 36.375 43.015625 40.234375 45.921875 \r\nQ 44.09375 48.828125 44.09375 54.296875 \r\nQ 44.09375 59.90625 40.109375 62.90625 \r\nQ 36.140625 65.921875 28.71875 65.921875 \r\nQ 24.65625 65.921875 20.015625 65.03125 \r\nQ 15.375 64.15625 9.8125 62.3125 \r\nL 9.8125 71.09375 \r\nQ 15.4375 72.65625 20.34375 73.4375 \r\nQ 25.25 74.21875 29.59375 74.21875 \r\nQ 40.828125 74.21875 47.359375 69.109375 \r\nQ 53.90625 64.015625 53.90625 55.328125 \r\nQ 53.90625 49.265625 50.4375 45.09375 \r\nQ 46.96875 40.921875 40.578125 39.3125 \r\nz\r\n\" id=\"DejaVuSans-51\"/>\r\n       </defs>\r\n       <use xlink:href=\"#DejaVuSans-48\"/>\r\n       <use x=\"63.623047\" xlink:href=\"#DejaVuSans-46\"/>\r\n       <use x=\"95.410156\" xlink:href=\"#DejaVuSans-51\"/>\r\n      </g>\r\n     </g>\r\n    </g>\r\n    <g id=\"ytick_3\">\r\n     <g id=\"line2d_40\">\r\n      <g>\r\n       <use style=\"stroke:#000000;stroke-width:0.8;\" x=\"30.103125\" xlink:href=\"#m79d6311359\" y=\"156.388173\"/>\r\n      </g>\r\n     </g>\r\n     <g id=\"text_11\">\r\n      <!-- 0.4 -->\r\n      <g transform=\"translate(7.2 160.187391)scale(0.1 -0.1)\">\r\n       <use xlink:href=\"#DejaVuSans-48\"/>\r\n       <use x=\"63.623047\" xlink:href=\"#DejaVuSans-46\"/>\r\n       <use x=\"95.410156\" xlink:href=\"#DejaVuSans-52\"/>\r\n      </g>\r\n     </g>\r\n    </g>\r\n    <g id=\"ytick_4\">\r\n     <g id=\"line2d_41\">\r\n      <g>\r\n       <use style=\"stroke:#000000;stroke-width:0.8;\" x=\"30.103125\" xlink:href=\"#m79d6311359\" y=\"129.370207\"/>\r\n      </g>\r\n     </g>\r\n     <g id=\"text_12\">\r\n      <!-- 0.5 -->\r\n      <g transform=\"translate(7.2 133.169426)scale(0.1 -0.1)\">\r\n       <use xlink:href=\"#DejaVuSans-48\"/>\r\n       <use x=\"63.623047\" xlink:href=\"#DejaVuSans-46\"/>\r\n       <use x=\"95.410156\" xlink:href=\"#DejaVuSans-53\"/>\r\n      </g>\r\n     </g>\r\n    </g>\r\n    <g id=\"ytick_5\">\r\n     <g id=\"line2d_42\">\r\n      <g>\r\n       <use style=\"stroke:#000000;stroke-width:0.8;\" x=\"30.103125\" xlink:href=\"#m79d6311359\" y=\"102.352242\"/>\r\n      </g>\r\n     </g>\r\n     <g id=\"text_13\">\r\n      <!-- 0.6 -->\r\n      <g transform=\"translate(7.2 106.151461)scale(0.1 -0.1)\">\r\n       <use xlink:href=\"#DejaVuSans-48\"/>\r\n       <use x=\"63.623047\" xlink:href=\"#DejaVuSans-46\"/>\r\n       <use x=\"95.410156\" xlink:href=\"#DejaVuSans-54\"/>\r\n      </g>\r\n     </g>\r\n    </g>\r\n    <g id=\"ytick_6\">\r\n     <g id=\"line2d_43\">\r\n      <g>\r\n       <use style=\"stroke:#000000;stroke-width:0.8;\" x=\"30.103125\" xlink:href=\"#m79d6311359\" y=\"75.334277\"/>\r\n      </g>\r\n     </g>\r\n     <g id=\"text_14\">\r\n      <!-- 0.7 -->\r\n      <g transform=\"translate(7.2 79.133496)scale(0.1 -0.1)\">\r\n       <use xlink:href=\"#DejaVuSans-48\"/>\r\n       <use x=\"63.623047\" xlink:href=\"#DejaVuSans-46\"/>\r\n       <use x=\"95.410156\" xlink:href=\"#DejaVuSans-55\"/>\r\n      </g>\r\n     </g>\r\n    </g>\r\n    <g id=\"ytick_7\">\r\n     <g id=\"line2d_44\">\r\n      <g>\r\n       <use style=\"stroke:#000000;stroke-width:0.8;\" x=\"30.103125\" xlink:href=\"#m79d6311359\" y=\"48.316312\"/>\r\n      </g>\r\n     </g>\r\n     <g id=\"text_15\">\r\n      <!-- 0.8 -->\r\n      <g transform=\"translate(7.2 52.115531)scale(0.1 -0.1)\">\r\n       <use xlink:href=\"#DejaVuSans-48\"/>\r\n       <use x=\"63.623047\" xlink:href=\"#DejaVuSans-46\"/>\r\n       <use x=\"95.410156\" xlink:href=\"#DejaVuSans-56\"/>\r\n      </g>\r\n     </g>\r\n    </g>\r\n    <g id=\"ytick_8\">\r\n     <g id=\"line2d_45\">\r\n      <g>\r\n       <use style=\"stroke:#000000;stroke-width:0.8;\" x=\"30.103125\" xlink:href=\"#m79d6311359\" y=\"21.298347\"/>\r\n      </g>\r\n     </g>\r\n     <g id=\"text_16\">\r\n      <!-- 0.9 -->\r\n      <g transform=\"translate(7.2 25.097565)scale(0.1 -0.1)\">\r\n       <use xlink:href=\"#DejaVuSans-48\"/>\r\n       <use x=\"63.623047\" xlink:href=\"#DejaVuSans-46\"/>\r\n       <use x=\"95.410156\" xlink:href=\"#DejaVuSans-57\"/>\r\n      </g>\r\n     </g>\r\n    </g>\r\n   </g>\r\n   <g id=\"line2d_46\">\r\n    <path clip-path=\"url(#pcbe2a2e957)\" d=\"M 45.301379 119.447701 \r\nL 45.447516 119.268032 \r\nL 45.73979 123.216331 \r\nL 45.885927 123.791587 \r\nL 46.032064 123.0404 \r\nL 46.178201 123.068491 \r\nL 46.324338 123.380393 \r\nL 46.616613 121.693186 \r\nL 46.76275 121.090928 \r\nL 46.908887 121.396357 \r\nL 47.055024 120.512257 \r\nL 47.201161 116.924462 \r\nL 47.347298 116.967605 \r\nL 47.493435 120.546169 \r\nL 47.639572 121.339277 \r\nL 47.785709 121.339137 \r\nL 47.931846 121.163441 \r\nL 48.077983 121.621132 \r\nL 48.22412 123.12303 \r\nL 48.370257 122.952147 \r\nL 48.662531 120.341951 \r\nL 48.808668 120.61367 \r\nL 48.954805 121.683657 \r\nL 49.100943 120.849827 \r\nL 49.24708 120.847321 \r\nL 49.393217 118.549315 \r\nL 49.539354 118.345671 \r\nL 49.685491 118.501464 \r\nL 49.831628 117.221219 \r\nL 49.977765 118.726402 \r\nL 50.123902 118.853735 \r\nL 50.270039 118.619491 \r\nL 50.416176 119.932319 \r\nL 50.70845 131.80188 \r\nL 50.854587 126.825556 \r\nL 51.146861 128.311587 \r\nL 51.292998 131.958014 \r\nL 51.439135 128.671679 \r\nL 51.585273 128.961782 \r\nL 51.73141 128.353109 \r\nL 51.877547 128.738724 \r\nL 52.023684 129.541353 \r\nL 52.169821 129.700476 \r\nL 52.315958 130.160093 \r\nL 52.462095 127.047515 \r\nL 52.608232 127.887883 \r\nL 52.754369 127.368002 \r\nL 53.046643 127.389216 \r\nL 53.485054 134.102386 \r\nL 53.923465 135.43078 \r\nL 54.21574 140.76639 \r\nL 54.361877 139.084669 \r\nL 54.508014 140.077328 \r\nL 54.654151 140.021565 \r\nL 54.800288 140.294097 \r\nL 54.946425 140.203664 \r\nL 55.092562 139.476815 \r\nL 55.238699 139.45385 \r\nL 55.384836 140.014376 \r\nL 55.530973 139.918069 \r\nL 55.67711 142.961365 \r\nL 55.823247 142.288018 \r\nL 56.115521 139.297256 \r\nL 56.553933 136.07473 \r\nL 56.70007 142.278845 \r\nL 56.846207 143.086191 \r\nL 56.992344 143.25871 \r\nL 57.284618 140.575293 \r\nL 57.430755 141.707198 \r\nL 57.576892 140.545704 \r\nL 57.723029 137.252492 \r\nL 57.869166 136.574327 \r\nL 58.015303 137.455434 \r\nL 58.307577 134.807378 \r\nL 58.453714 138.478251 \r\nL 58.599851 138.943332 \r\nL 58.745988 135.766693 \r\nL 58.892125 137.318288 \r\nL 59.038262 136.109118 \r\nL 59.1844 136.559565 \r\nL 59.330537 133.128469 \r\nL 59.476674 133.242275 \r\nL 59.622811 132.693568 \r\nL 59.768948 134.166158 \r\nL 59.915085 134.119798 \r\nL 60.061222 139.813666 \r\nL 60.207359 138.418592 \r\nL 60.353496 140.705812 \r\nL 60.499633 140.845291 \r\nL 60.64577 139.237841 \r\nL 60.791907 139.044652 \r\nL 60.938044 137.419664 \r\nL 61.230318 116.814332 \r\nL 61.376455 116.195541 \r\nL 61.522592 113.082908 \r\nL 61.66873 114.050805 \r\nL 61.814867 114.127708 \r\nL 61.961004 113.444066 \r\nL 62.253278 114.038484 \r\nL 62.399415 113.334467 \r\nL 62.545552 116.387595 \r\nL 62.691689 116.489954 \r\nL 62.837826 114.771275 \r\nL 62.983963 115.571201 \r\nL 63.276237 113.587018 \r\nL 63.422374 114.065303 \r\nL 63.568511 112.940982 \r\nL 63.714648 113.576799 \r\nL 64.006922 105.683005 \r\nL 64.15306 105.832728 \r\nL 64.299197 106.268404 \r\nL 64.591471 106.180833 \r\nL 64.737608 105.558977 \r\nL 65.029882 106.594824 \r\nL 65.176019 106.390595 \r\nL 65.322156 106.896359 \r\nL 65.468293 111.630392 \r\nL 65.61443 110.283179 \r\nL 65.906704 101.790022 \r\nL 66.052841 102.542088 \r\nL 66.198978 100.939885 \r\nL 66.345115 101.07246 \r\nL 66.491252 98.436152 \r\nL 66.63739 98.801226 \r\nL 66.783527 100.410171 \r\nL 67.075801 99.019269 \r\nL 67.221938 100.907251 \r\nL 67.368075 100.914665 \r\nL 67.514212 101.133521 \r\nL 67.660349 103.724545 \r\nL 67.806486 103.764034 \r\nL 68.09876 104.787828 \r\nL 68.244897 105.122687 \r\nL 68.391034 102.574702 \r\nL 68.537171 102.952902 \r\nL 68.683308 101.294093 \r\nL 68.829445 87.284376 \r\nL 69.12172 84.021938 \r\nL 69.560131 91.144173 \r\nL 69.706268 95.853251 \r\nL 69.852405 95.95654 \r\nL 69.998542 96.305712 \r\nL 70.144679 97.524549 \r\nL 70.290816 95.99148 \r\nL 70.436953 97.798427 \r\nL 70.58309 96.770896 \r\nL 70.729227 101.941169 \r\nL 70.875364 98.499039 \r\nL 71.021501 98.88373 \r\nL 71.167638 97.842323 \r\nL 71.313775 98.454055 \r\nL 71.459912 97.530884 \r\nL 71.606049 92.646005 \r\nL 71.752187 91.933672 \r\nL 71.898324 92.037938 \r\nL 72.044461 93.299645 \r\nL 72.190598 92.984734 \r\nL 72.336735 88.280934 \r\nL 72.482872 87.799831 \r\nL 72.629009 89.021975 \r\nL 72.775146 89.0274 \r\nL 72.921283 89.432734 \r\nL 73.213557 89.137382 \r\nL 73.359694 89.48673 \r\nL 73.798105 89.089905 \r\nL 73.944242 89.091461 \r\nL 74.090379 92.049077 \r\nL 74.382654 93.066214 \r\nL 74.528791 92.339968 \r\nL 74.821065 98.76058 \r\nL 74.967202 97.583773 \r\nL 75.405613 111.61059 \r\nL 75.55175 111.697437 \r\nL 75.697887 109.62036 \r\nL 75.844024 112.73246 \r\nL 76.136298 119.647497 \r\nL 76.282435 120.375064 \r\nL 76.574709 125.765234 \r\nL 76.866984 115.607079 \r\nL 77.013121 117.948133 \r\nL 77.159258 116.149385 \r\nL 77.305395 116.510477 \r\nL 77.597669 117.933974 \r\nL 77.889943 117.072998 \r\nL 78.03608 116.938429 \r\nL 78.182217 115.320681 \r\nL 78.328354 108.071536 \r\nL 78.474491 109.373924 \r\nL 78.620628 109.407726 \r\nL 78.766765 105.873291 \r\nL 78.912902 106.449907 \r\nL 79.059039 118.069308 \r\nL 79.351314 120.324681 \r\nL 79.497451 123.11329 \r\nL 79.643588 123.441786 \r\nL 79.789725 125.259192 \r\nL 80.081999 124.150093 \r\nL 80.228136 124.821714 \r\nL 80.374273 123.698688 \r\nL 80.52041 125.45518 \r\nL 80.666547 124.986856 \r\nL 80.812684 125.902461 \r\nL 80.958821 125.807613 \r\nL 81.104958 128.232771 \r\nL 81.251095 128.395011 \r\nL 81.397232 132.814504 \r\nL 81.543369 132.670835 \r\nL 81.689506 133.54667 \r\nL 81.981781 132.450246 \r\nL 82.127918 132.227013 \r\nL 82.274055 135.407533 \r\nL 82.566329 133.336966 \r\nL 82.712466 133.365342 \r\nL 82.858603 132.938522 \r\nL 83.00474 135.652536 \r\nL 83.150877 132.082169 \r\nL 83.297014 132.076898 \r\nL 83.589288 134.305247 \r\nL 83.735425 134.333493 \r\nL 83.881562 136.266398 \r\nL 84.027699 136.128462 \r\nL 84.173836 137.910583 \r\nL 84.904522 132.055861 \r\nL 85.050659 131.823685 \r\nL 85.342933 129.318659 \r\nL 85.48907 131.047739 \r\nL 85.635207 131.039355 \r\nL 85.781344 131.177541 \r\nL 85.927481 131.036732 \r\nL 86.073618 130.680029 \r\nL 86.365892 129.484333 \r\nL 86.512029 131.001483 \r\nL 86.658166 135.135178 \r\nL 86.804304 135.142576 \r\nL 87.096578 136.146698 \r\nL 87.388852 137.956627 \r\nL 87.534989 136.479713 \r\nL 87.681126 136.900443 \r\nL 87.827263 132.05359 \r\nL 87.9734 131.074372 \r\nL 88.119537 132.878363 \r\nL 88.265674 132.894148 \r\nL 88.411811 132.067546 \r\nL 88.557948 149.199393 \r\nL 88.704085 147.971079 \r\nL 88.850222 149.03751 \r\nL 88.996359 148.464952 \r\nL 89.142496 149.177371 \r\nL 89.288634 149.297856 \r\nL 89.434771 147.166821 \r\nL 89.580908 146.710006 \r\nL 89.727045 144.1737 \r\nL 89.873182 145.643284 \r\nL 90.019319 145.562133 \r\nL 90.165456 145.732219 \r\nL 90.311593 148.098596 \r\nL 90.45773 147.991793 \r\nL 90.603867 150.793451 \r\nL 90.750004 150.305101 \r\nL 90.896141 145.704741 \r\nL 91.042278 145.586279 \r\nL 91.188415 141.827737 \r\nL 91.334552 141.389005 \r\nL 91.480689 140.289236 \r\nL 91.626826 140.218048 \r\nL 91.772963 143.043397 \r\nL 91.919101 143.008851 \r\nL 92.065238 141.73159 \r\nL 92.211375 141.533512 \r\nL 92.503649 140.613187 \r\nL 92.649786 141.243231 \r\nL 92.795923 139.66739 \r\nL 92.94206 141.146731 \r\nL 93.088197 140.276105 \r\nL 93.234334 141.583759 \r\nL 93.526608 132.10867 \r\nL 93.672745 135.812161 \r\nL 93.818882 135.714009 \r\nL 93.965019 139.669123 \r\nL 94.111156 136.402367 \r\nL 94.403431 138.519536 \r\nL 94.695705 135.749724 \r\nL 94.841842 135.919359 \r\nL 94.987979 135.2616 \r\nL 95.134116 140.855073 \r\nL 95.280253 140.194904 \r\nL 95.42639 144.116641 \r\nL 95.572527 143.837868 \r\nL 95.718664 140.210364 \r\nL 96.010938 141.044443 \r\nL 96.157075 143.224629 \r\nL 96.303212 142.912909 \r\nL 96.449349 143.498081 \r\nL 96.595486 143.393991 \r\nL 96.741623 146.985286 \r\nL 96.887761 147.653591 \r\nL 97.033898 152.389166 \r\nL 97.180035 150.957389 \r\nL 97.326172 140.795992 \r\nL 97.618446 138.225006 \r\nL 97.764583 140.525853 \r\nL 97.91072 145.561629 \r\nL 98.056857 172.861449 \r\nL 98.202994 172.516735 \r\nL 98.495268 170.525868 \r\nL 98.641405 172.759489 \r\nL 98.787542 171.480618 \r\nL 98.933679 172.238579 \r\nL 99.079816 172.158924 \r\nL 99.225953 173.156868 \r\nL 99.372091 168.67513 \r\nL 99.518228 168.890803 \r\nL 99.664365 167.721655 \r\nL 99.956639 171.255094 \r\nL 100.102776 168.74724 \r\nL 100.248913 175.513079 \r\nL 100.39505 175.745772 \r\nL 100.541187 177.464403 \r\nL 100.687324 177.780271 \r\nL 100.833461 178.60116 \r\nL 100.979598 178.759956 \r\nL 101.125735 179.861594 \r\nL 101.271872 179.81241 \r\nL 101.418009 183.442965 \r\nL 101.564146 184.042676 \r\nL 101.856421 182.049622 \r\nL 102.002558 180.687206 \r\nL 102.148695 180.630477 \r\nL 102.294832 180.24759 \r\nL 102.440969 181.874319 \r\nL 102.587106 182.053382 \r\nL 102.733243 189.178651 \r\nL 102.87938 188.298436 \r\nL 103.171654 190.315693 \r\nL 103.317791 191.281553 \r\nL 103.463928 194.909218 \r\nL 103.610065 190.454918 \r\nL 103.756202 189.868725 \r\nL 103.902339 189.765065 \r\nL 104.048476 189.919253 \r\nL 104.194613 192.32251 \r\nL 104.34075 192.793061 \r\nL 104.633025 195.079892 \r\nL 104.779162 192.040199 \r\nL 104.925299 192.652101 \r\nL 105.071436 192.022945 \r\nL 105.217573 191.957673 \r\nL 105.509847 193.984041 \r\nL 105.655984 193.127603 \r\nL 105.802121 193.197845 \r\nL 105.948258 192.561051 \r\nL 106.094395 193.522262 \r\nL 106.240532 192.892688 \r\nL 106.386669 190.243215 \r\nL 106.532806 191.722931 \r\nL 106.678943 191.5742 \r\nL 106.82508 179.850267 \r\nL 106.971218 185.170164 \r\nL 107.117355 185.741633 \r\nL 107.263492 182.360329 \r\nL 107.409629 184.614321 \r\nL 107.701903 197.201916 \r\nL 107.84804 196.738961 \r\nL 107.994177 199.887784 \r\nL 108.140314 198.361442 \r\nL 108.286451 199.053435 \r\nL 108.432588 198.582026 \r\nL 108.578725 196.613867 \r\nL 108.870999 197.364023 \r\nL 109.017136 199.775041 \r\nL 109.163273 209.912547 \r\nL 109.30941 207.429411 \r\nL 109.455548 211.627321 \r\nL 109.601685 212.144905 \r\nL 109.747822 214.756364 \r\nL 109.893959 214.600446 \r\nL 110.040096 211.852725 \r\nL 110.186233 211.930536 \r\nL 110.33237 210.620476 \r\nL 110.478507 213.122372 \r\nL 110.624644 210.656282 \r\nL 110.770781 210.981623 \r\nL 110.916918 210.008541 \r\nL 111.063055 212.077689 \r\nL 111.209192 208.011682 \r\nL 111.355329 207.618683 \r\nL 111.501466 208.789069 \r\nL 111.79374 203.95195 \r\nL 111.939878 201.610998 \r\nL 112.086015 203.991315 \r\nL 112.232152 204.319809 \r\nL 112.378289 205.974094 \r\nL 112.524426 205.110962 \r\nL 112.670563 205.458833 \r\nL 112.8167 203.798329 \r\nL 112.962837 203.799247 \r\nL 113.255111 198.12259 \r\nL 113.401248 198.486031 \r\nL 113.547385 199.913184 \r\nL 113.693522 199.515642 \r\nL 113.839659 200.763905 \r\nL 113.985796 205.802501 \r\nL 114.131933 205.291877 \r\nL 114.27807 205.356242 \r\nL 114.424207 206.132636 \r\nL 114.570345 203.634189 \r\nL 114.716482 204.090453 \r\nL 114.862619 204.011376 \r\nL 115.008756 200.813285 \r\nL 115.154893 200.842134 \r\nL 115.30103 198.828487 \r\nL 115.447167 198.576794 \r\nL 115.593304 201.637237 \r\nL 115.739441 201.482124 \r\nL 116.031715 200.943757 \r\nL 116.177852 196.995783 \r\nL 116.323989 170.625783 \r\nL 116.470126 171.340952 \r\nL 116.616263 173.894955 \r\nL 116.7624 174.037907 \r\nL 117.493086 153.176318 \r\nL 117.639223 152.778503 \r\nL 117.931497 145.445788 \r\nL 118.223771 141.782856 \r\nL 118.369908 144.51176 \r\nL 118.516045 137.565013 \r\nL 118.954456 137.448385 \r\nL 119.24673 135.535608 \r\nL 119.392867 134.930159 \r\nL 119.539005 136.22396 \r\nL 119.685142 135.600919 \r\nL 119.831279 136.862513 \r\nL 119.977416 134.302319 \r\nL 120.123553 134.916152 \r\nL 120.26969 132.747862 \r\nL 120.561964 134.21313 \r\nL 120.708101 133.513888 \r\nL 120.854238 133.529005 \r\nL 121.000375 128.380523 \r\nL 121.146512 128.908342 \r\nL 121.292649 128.05598 \r\nL 121.73106 122.366472 \r\nL 121.877197 124.672696 \r\nL 122.023335 124.439517 \r\nL 122.169472 124.905813 \r\nL 122.461746 121.423498 \r\nL 122.75402 122.831656 \r\nL 122.900157 121.399708 \r\nL 123.046294 123.229583 \r\nL 123.192431 122.023026 \r\nL 123.338568 122.424849 \r\nL 123.484705 122.247828 \r\nL 123.630842 121.839892 \r\nL 123.776979 121.770728 \r\nL 124.21539 123.145343 \r\nL 124.361527 125.610508 \r\nL 124.507665 124.276239 \r\nL 124.653802 125.186561 \r\nL 124.799939 122.775947 \r\nL 124.946076 122.311875 \r\nL 125.092213 123.850765 \r\nL 125.23835 118.637763 \r\nL 125.384487 118.26113 \r\nL 125.676761 116.737357 \r\nL 125.822898 103.983032 \r\nL 125.969035 103.647602 \r\nL 126.115172 104.576028 \r\nL 126.261309 103.957464 \r\nL 126.407446 103.975103 \r\nL 126.553583 104.334681 \r\nL 126.69972 103.920603 \r\nL 126.845857 103.859427 \r\nL 127.138132 102.722048 \r\nL 127.284269 102.661501 \r\nL 127.430406 101.212973 \r\nL 127.576543 102.710459 \r\nL 127.868817 102.847896 \r\nL 128.014954 103.915309 \r\nL 128.161091 102.616629 \r\nL 128.307228 102.581682 \r\nL 128.453365 102.00667 \r\nL 128.599502 103.276648 \r\nL 128.745639 102.465368 \r\nL 128.891776 105.175084 \r\nL 129.18405 102.135698 \r\nL 129.330187 101.637732 \r\nL 129.476324 102.370049 \r\nL 129.622462 109.063782 \r\nL 129.768599 109.151289 \r\nL 129.914736 107.378402 \r\nL 130.060873 108.438284 \r\nL 130.20701 108.344071 \r\nL 130.645421 104.734297 \r\nL 130.791558 105.363453 \r\nL 130.937695 101.982185 \r\nL 131.66838 107.467201 \r\nL 131.960654 104.953647 \r\nL 132.106792 98.484927 \r\nL 132.252929 97.115143 \r\nL 132.399066 98.896563 \r\nL 132.69134 95.38829 \r\nL 132.837477 95.99867 \r\nL 132.983614 95.546416 \r\nL 133.129751 95.572314 \r\nL 133.275888 94.567443 \r\nL 133.568162 100.860126 \r\nL 133.860436 100.704902 \r\nL 134.006573 101.969366 \r\nL 134.15271 102.055503 \r\nL 134.298847 102.53201 \r\nL 134.444984 105.459472 \r\nL 134.591122 105.303824 \r\nL 134.883396 102.956274 \r\nL 135.029533 103.150181 \r\nL 135.321807 106.92739 \r\nL 135.467944 113.894922 \r\nL 135.614081 112.871586 \r\nL 135.906355 118.435076 \r\nL 136.052492 134.005658 \r\nL 136.344766 140.874171 \r\nL 136.490903 140.523122 \r\nL 136.63704 133.565399 \r\nL 136.783177 142.11779 \r\nL 136.929314 142.563799 \r\nL 137.221589 142.090079 \r\nL 137.367726 145.19537 \r\nL 137.513863 142.674756 \r\nL 137.66 151.035682 \r\nL 137.806137 147.019771 \r\nL 137.952274 148.214116 \r\nL 138.098411 142.868771 \r\nL 138.244548 146.050227 \r\nL 138.390685 144.711727 \r\nL 138.536822 146.733249 \r\nL 138.682959 144.810237 \r\nL 138.829096 144.90572 \r\nL 139.12137 145.326222 \r\nL 139.267507 145.369044 \r\nL 139.559781 146.715851 \r\nL 139.705919 150.428107 \r\nL 140.290467 151.601109 \r\nL 140.436604 151.257023 \r\nL 140.582741 154.185171 \r\nL 140.728878 154.711738 \r\nL 141.021152 153.379764 \r\nL 141.167289 148.713176 \r\nL 141.459563 147.77085 \r\nL 141.6057 147.863297 \r\nL 141.751837 147.714999 \r\nL 142.044111 148.255553 \r\nL 142.190249 148.061562 \r\nL 142.336386 148.717492 \r\nL 142.482523 153.282558 \r\nL 142.62866 151.147097 \r\nL 142.774797 153.141948 \r\nL 142.920934 153.395965 \r\nL 143.505482 150.420227 \r\nL 143.651619 150.420227 \r\nL 143.943893 157.571537 \r\nL 144.09003 156.838615 \r\nL 144.236167 157.637856 \r\nL 144.382304 156.189315 \r\nL 144.528441 151.329548 \r\nL 144.674579 151.585255 \r\nL 144.966853 148.965102 \r\nL 145.11299 149.784677 \r\nL 145.259127 155.65969 \r\nL 145.405264 155.206158 \r\nL 145.697538 156.814425 \r\nL 145.843675 157.199254 \r\nL 146.135949 155.162235 \r\nL 146.282086 160.065212 \r\nL 146.428223 155.588401 \r\nL 146.57436 155.39317 \r\nL 146.720497 156.870048 \r\nL 146.866634 156.724321 \r\nL 147.012771 162.115771 \r\nL 147.305046 163.789504 \r\nL 147.59732 165.897695 \r\nL 147.889594 156.164723 \r\nL 148.181868 164.832937 \r\nL 148.328005 163.859981 \r\nL 148.474142 164.876714 \r\nL 148.620279 164.458991 \r\nL 148.766416 163.58876 \r\nL 148.912553 160.27787 \r\nL 149.204827 158.800875 \r\nL 149.350964 159.093273 \r\nL 149.497101 158.651372 \r\nL 149.935513 154.920387 \r\nL 150.08165 155.140845 \r\nL 150.227787 155.77465 \r\nL 150.373924 157.577354 \r\nL 150.520061 157.430661 \r\nL 150.666198 156.036514 \r\nL 150.812335 157.686366 \r\nL 150.958472 155.57959 \r\nL 151.250746 157.795223 \r\nL 151.396883 156.587094 \r\nL 151.54302 160.142444 \r\nL 151.835294 153.886666 \r\nL 152.127568 157.574899 \r\nL 152.419843 156.83454 \r\nL 152.712117 153.904888 \r\nL 152.858254 154.83527 \r\nL 153.004391 154.651447 \r\nL 153.150528 153.905455 \r\nL 153.296665 153.805753 \r\nL 153.442802 152.18391 \r\nL 153.588939 153.36527 \r\nL 153.735076 152.910632 \r\nL 154.02735 155.656468 \r\nL 154.173487 159.618148 \r\nL 154.465761 155.001183 \r\nL 154.611898 154.693109 \r\nL 154.758036 156.186642 \r\nL 154.904173 162.683418 \r\nL 155.05031 154.730759 \r\nL 155.342584 154.401319 \r\nL 155.488721 153.854545 \r\nL 155.634858 152.49841 \r\nL 155.780995 155.627168 \r\nL 155.927132 147.046155 \r\nL 156.365543 153.328642 \r\nL 156.51168 153.851022 \r\nL 156.657817 153.940276 \r\nL 157.096228 151.273264 \r\nL 157.242366 152.342267 \r\nL 157.53464 152.541488 \r\nL 157.826914 150.677574 \r\nL 157.973051 144.482513 \r\nL 158.119188 145.045076 \r\nL 158.265325 145.119555 \r\nL 158.411462 146.128199 \r\nL 158.557599 151.682237 \r\nL 158.99601 146.998853 \r\nL 159.288284 146.447015 \r\nL 159.580558 153.010984 \r\nL 159.726695 153.244432 \r\nL 159.872833 148.838647 \r\nL 160.01897 152.390826 \r\nL 160.165107 148.131915 \r\nL 160.311244 148.450431 \r\nL 160.457381 146.537693 \r\nL 160.603518 146.32249 \r\nL 160.749655 141.935611 \r\nL 160.895792 142.230096 \r\nL 161.041929 141.747143 \r\nL 161.188066 137.854944 \r\nL 161.48034 144.886448 \r\nL 161.626477 142.125024 \r\nL 161.772614 141.479734 \r\nL 161.918751 141.87306 \r\nL 162.064888 139.132086 \r\nL 162.211025 139.038716 \r\nL 162.357163 142.463468 \r\nL 162.5033 141.694589 \r\nL 162.649437 141.719596 \r\nL 162.941711 147.015661 \r\nL 163.087848 139.550592 \r\nL 163.233985 141.095041 \r\nL 163.380122 140.368729 \r\nL 163.526259 136.894833 \r\nL 163.818533 136.634872 \r\nL 164.110807 136.959653 \r\nL 164.256944 136.691644 \r\nL 164.549218 130.114031 \r\nL 164.841493 134.18453 \r\nL 165.133767 131.701014 \r\nL 165.279904 151.301107 \r\nL 165.426041 151.24839 \r\nL 165.572178 151.034553 \r\nL 165.718315 150.25908 \r\nL 165.864452 150.983072 \r\nL 166.010589 153.314358 \r\nL 166.302863 149.066979 \r\nL 166.449 147.759257 \r\nL 166.595137 148.140227 \r\nL 166.741274 146.854589 \r\nL 167.033548 147.074252 \r\nL 167.179685 149.547011 \r\nL 167.325823 149.506163 \r\nL 167.47196 150.266687 \r\nL 167.764234 150.142735 \r\nL 167.910371 146.996686 \r\nL 168.056508 147.422045 \r\nL 168.348782 146.992074 \r\nL 168.494919 146.137124 \r\nL 168.641056 148.556015 \r\nL 168.787193 148.67997 \r\nL 168.93333 148.365071 \r\nL 169.079467 148.583991 \r\nL 169.225604 152.391108 \r\nL 169.517878 151.852403 \r\nL 169.664015 153.08217 \r\nL 169.810152 151.359649 \r\nL 169.95629 151.173887 \r\nL 170.102427 153.350809 \r\nL 170.248564 150.844229 \r\nL 170.394701 152.945216 \r\nL 170.686975 153.490461 \r\nL 170.833112 155.760227 \r\nL 170.979249 154.675782 \r\nL 171.271523 155.03354 \r\nL 171.41766 155.177232 \r\nL 171.563797 155.815442 \r\nL 171.709934 157.464795 \r\nL 172.002208 156.583054 \r\nL 172.44062 148.279199 \r\nL 172.586757 143.595149 \r\nL 172.732894 145.101599 \r\nL 172.879031 144.186679 \r\nL 173.025168 145.031862 \r\nL 173.171305 143.47948 \r\nL 173.317442 143.734198 \r\nL 173.463579 143.525839 \r\nL 173.609716 143.946228 \r\nL 173.755853 145.860229 \r\nL 173.90199 145.325066 \r\nL 174.048127 143.084027 \r\nL 174.340401 143.454198 \r\nL 174.486538 142.326939 \r\nL 174.632675 142.418338 \r\nL 174.778812 145.473476 \r\nL 174.92495 145.358667 \r\nL 175.071087 145.04564 \r\nL 175.217224 146.164068 \r\nL 175.363361 146.253948 \r\nL 175.509498 146.055424 \r\nL 175.655635 144.785728 \r\nL 175.947909 144.709617 \r\nL 176.094046 143.421523 \r\nL 176.240183 146.859675 \r\nL 176.38632 146.519586 \r\nL 176.678594 145.056564 \r\nL 176.824731 141.378369 \r\nL 176.970868 144.4384 \r\nL 177.263142 145.586805 \r\nL 177.40928 145.678487 \r\nL 177.701554 146.723089 \r\nL 177.847691 145.22057 \r\nL 177.993828 145.336503 \r\nL 178.139965 150.687806 \r\nL 178.286102 146.424973 \r\nL 178.432239 150.041594 \r\nL 178.724513 151.868128 \r\nL 178.87065 151.619775 \r\nL 179.016787 154.397366 \r\nL 179.162924 153.647897 \r\nL 179.309061 154.763344 \r\nL 179.455198 161.424607 \r\nL 179.747472 153.887403 \r\nL 180.039747 157.242161 \r\nL 180.185884 157.601751 \r\nL 180.332021 157.415239 \r\nL 180.478158 157.666549 \r\nL 180.624295 155.706374 \r\nL 180.770432 156.128618 \r\nL 180.916569 154.74306 \r\nL 181.062706 157.797999 \r\nL 181.208843 154.186982 \r\nL 181.35498 163.383445 \r\nL 181.501117 163.441199 \r\nL 181.647254 163.855707 \r\nL 181.793391 164.9195 \r\nL 181.939528 167.588132 \r\nL 182.085665 165.934319 \r\nL 182.231802 173.505941 \r\nL 182.377939 173.295227 \r\nL 182.524077 173.59481 \r\nL 182.816351 183.859351 \r\nL 182.962488 185.835785 \r\nL 183.108625 183.59519 \r\nL 183.400899 193.436232 \r\nL 183.547036 160.375872 \r\nL 183.693173 161.152519 \r\nL 183.83931 159.279441 \r\nL 183.985447 159.936364 \r\nL 184.277721 156.98674 \r\nL 184.423858 162.400756 \r\nL 184.569995 157.122534 \r\nL 184.716132 159.426749 \r\nL 184.862269 159.718042 \r\nL 185.008407 160.877224 \r\nL 185.154544 160.805809 \r\nL 185.300681 162.105938 \r\nL 185.739092 170.095059 \r\nL 185.885229 170.722868 \r\nL 186.031366 170.326283 \r\nL 186.32364 180.354423 \r\nL 186.469777 180.140316 \r\nL 186.615914 175.251402 \r\nL 186.908188 180.684667 \r\nL 187.200462 181.144769 \r\nL 187.346599 180.248772 \r\nL 187.492737 176.297531 \r\nL 187.638874 175.627859 \r\nL 187.785011 179.017593 \r\nL 188.077285 178.150576 \r\nL 188.223422 177.839322 \r\nL 188.369559 157.233967 \r\nL 188.515696 159.542156 \r\nL 188.80797 153.118538 \r\nL 188.954107 156.422358 \r\nL 189.100244 152.793603 \r\nL 189.392518 153.678442 \r\nL 189.538655 153.522314 \r\nL 189.684792 153.131847 \r\nL 189.830929 152.154779 \r\nL 189.977067 152.124936 \r\nL 190.415478 155.685279 \r\nL 190.561615 157.67652 \r\nL 190.707752 153.91288 \r\nL 191.000026 154.096818 \r\nL 191.146163 155.536702 \r\nL 191.584574 153.342345 \r\nL 191.730711 153.536899 \r\nL 191.876848 153.408122 \r\nL 192.022985 152.659878 \r\nL 192.169122 153.075496 \r\nL 192.315259 155.540683 \r\nL 192.461396 155.326437 \r\nL 192.607534 155.606013 \r\nL 192.753671 156.26883 \r\nL 192.899808 154.748512 \r\nL 193.045945 151.97039 \r\nL 193.192082 153.982224 \r\nL 193.338219 154.158428 \r\nL 193.630493 154.986329 \r\nL 193.77663 155.127173 \r\nL 194.068904 159.694337 \r\nL 194.215041 159.508273 \r\nL 194.361178 159.617813 \r\nL 194.653452 162.7576 \r\nL 194.799589 164.678751 \r\nL 194.945726 165.092658 \r\nL 195.091864 164.713994 \r\nL 195.238001 163.47846 \r\nL 195.384138 163.316643 \r\nL 195.530275 163.553177 \r\nL 195.676412 164.232476 \r\nL 195.822549 163.191166 \r\nL 195.968686 166.105909 \r\nL 196.114823 165.24944 \r\nL 196.26096 165.33081 \r\nL 196.407097 164.950368 \r\nL 196.699371 167.126884 \r\nL 196.845508 165.726515 \r\nL 197.137782 170.581544 \r\nL 197.283919 169.394123 \r\nL 197.576194 165.78456 \r\nL 197.722331 164.456327 \r\nL 197.868468 164.269613 \r\nL 198.014605 161.714129 \r\nL 198.453016 166.040678 \r\nL 199.329838 173.61412 \r\nL 199.475975 182.986466 \r\nL 199.622112 183.728412 \r\nL 199.768249 183.77454 \r\nL 199.914386 186.021866 \r\nL 200.060524 185.529461 \r\nL 200.206661 181.7247 \r\nL 200.352798 180.950057 \r\nL 200.498935 173.886817 \r\nL 200.645072 173.534513 \r\nL 201.083483 171.360221 \r\nL 201.22962 172.477057 \r\nL 201.375757 174.918289 \r\nL 201.521894 166.238849 \r\nL 201.668031 164.578365 \r\nL 201.814168 164.958546 \r\nL 201.960305 163.78931 \r\nL 202.106442 164.304673 \r\nL 202.252579 168.831888 \r\nL 202.398716 169.066811 \r\nL 202.690991 166.104726 \r\nL 202.837128 167.544934 \r\nL 202.983265 166.275696 \r\nL 203.275539 166.954155 \r\nL 203.421676 174.274714 \r\nL 203.567813 174.685507 \r\nL 203.71395 159.490963 \r\nL 203.860087 158.475461 \r\nL 204.006224 186.513456 \r\nL 204.152361 183.370477 \r\nL 204.298498 187.540833 \r\nL 204.444635 179.931952 \r\nL 204.590772 178.543352 \r\nL 204.736909 178.317676 \r\nL 205.029183 167.509427 \r\nL 205.175321 167.255086 \r\nL 205.321458 170.379661 \r\nL 205.467595 156.620823 \r\nL 205.759869 157.398431 \r\nL 206.052143 148.510677 \r\nL 206.19828 150.33686 \r\nL 206.344417 144.572165 \r\nL 206.490554 144.59565 \r\nL 206.636691 157.715726 \r\nL 206.928965 153.638017 \r\nL 207.075102 153.331641 \r\nL 207.221239 150.440365 \r\nL 207.513513 138.701688 \r\nL 207.659651 139.281477 \r\nL 207.805788 138.662776 \r\nL 207.951925 138.716336 \r\nL 208.098062 138.433594 \r\nL 208.244199 135.970832 \r\nL 208.390336 136.546466 \r\nL 208.536473 134.249466 \r\nL 208.974884 140.979956 \r\nL 209.121021 141.420692 \r\nL 209.267158 141.366262 \r\nL 209.413295 140.926646 \r\nL 209.559432 141.547579 \r\nL 209.705569 143.147099 \r\nL 209.997843 142.718332 \r\nL 210.290118 145.911401 \r\nL 210.436255 146.318898 \r\nL 210.728529 145.959104 \r\nL 210.874666 144.983946 \r\nL 211.020803 145.147666 \r\nL 211.16694 145.765669 \r\nL 211.313077 145.502807 \r\nL 211.459214 142.83194 \r\nL 211.605351 145.456775 \r\nL 211.751488 145.631997 \r\nL 211.897625 145.501445 \r\nL 212.189899 144.377487 \r\nL 212.336036 143.166007 \r\nL 212.628311 145.029373 \r\nL 213.212859 140.576091 \r\nL 213.505133 140.414087 \r\nL 213.943544 141.187603 \r\nL 214.089681 140.976611 \r\nL 214.235818 139.48444 \r\nL 214.381955 139.708288 \r\nL 214.528092 139.360548 \r\nL 214.674229 137.82186 \r\nL 214.820366 133.58582 \r\nL 214.966503 136.45613 \r\nL 215.258778 132.680077 \r\nL 215.404915 122.518105 \r\nL 215.551052 121.983045 \r\nL 215.843326 122.534138 \r\nL 216.1356 121.701364 \r\nL 216.281737 122.97989 \r\nL 216.427874 122.854497 \r\nL 216.574011 121.195374 \r\nL 216.720148 123.735583 \r\nL 216.866285 123.384126 \r\nL 217.158559 120.485291 \r\nL 217.304696 121.113781 \r\nL 217.450833 119.411015 \r\nL 217.59697 119.335612 \r\nL 217.743108 113.726762 \r\nL 217.889245 113.115926 \r\nL 218.035382 113.794416 \r\nL 218.181519 113.101833 \r\nL 218.327656 110.830639 \r\nL 218.61993 111.697749 \r\nL 218.766067 111.712486 \r\nL 218.912204 110.326424 \r\nL 219.204478 111.359048 \r\nL 219.350615 110.98013 \r\nL 219.789026 107.016614 \r\nL 219.935163 107.047895 \r\nL 220.227438 105.9004 \r\nL 220.373575 105.240511 \r\nL 220.665849 102.320417 \r\nL 220.811986 101.776074 \r\nL 220.958123 97.611368 \r\nL 221.10426 98.271815 \r\nL 221.396534 95.334406 \r\nL 221.542671 96.396571 \r\nL 221.834945 91.682295 \r\nL 221.981082 91.011727 \r\nL 222.127219 92.355145 \r\nL 222.273356 83.182328 \r\nL 222.419493 83.545029 \r\nL 222.711768 80.811673 \r\nL 222.857905 106.921542 \r\nL 223.004042 109.509344 \r\nL 223.150179 109.67857 \r\nL 223.296316 111.800869 \r\nL 223.442453 111.36753 \r\nL 223.58859 109.990986 \r\nL 223.880864 114.931334 \r\nL 224.027001 114.175985 \r\nL 224.319275 117.408418 \r\nL 224.465412 117.053889 \r\nL 224.611549 121.329531 \r\nL 224.757686 120.935229 \r\nL 224.903823 122.853022 \r\nL 225.04996 122.685736 \r\nL 225.196098 122.238224 \r\nL 225.634509 127.209381 \r\nL 225.780646 130.801384 \r\nL 225.926783 129.587425 \r\nL 226.219057 131.916492 \r\nL 226.511331 135.792806 \r\nL 226.657468 140.491066 \r\nL 226.803605 138.719107 \r\nL 227.095879 137.61373 \r\nL 227.242016 137.745512 \r\nL 227.388153 135.983236 \r\nL 227.53429 136.756028 \r\nL 227.680427 135.93424 \r\nL 227.826565 128.87654 \r\nL 228.118839 128.189706 \r\nL 228.264976 128.752767 \r\nL 228.411113 127.753895 \r\nL 228.55725 122.870697 \r\nL 228.849524 120.572436 \r\nL 228.995661 120.599427 \r\nL 229.141798 119.359982 \r\nL 229.287935 119.206167 \r\nL 229.434072 121.158287 \r\nL 229.580209 120.115535 \r\nL 229.726346 122.05862 \r\nL 229.872483 120.567006 \r\nL 230.01862 117.400905 \r\nL 230.164757 117.451608 \r\nL 230.457032 117.872011 \r\nL 230.603169 117.767349 \r\nL 230.749306 116.927217 \r\nL 231.04158 116.595098 \r\nL 231.187717 114.634483 \r\nL 231.333854 114.867957 \r\nL 231.479991 114.823775 \r\nL 231.626128 112.907302 \r\nL 231.772265 112.737195 \r\nL 231.918402 111.03923 \r\nL 232.064539 112.576842 \r\nL 232.210676 111.850392 \r\nL 232.356813 112.15434 \r\nL 232.50295 111.380766 \r\nL 232.649087 111.381161 \r\nL 232.795225 111.654344 \r\nL 233.087499 114.001541 \r\nL 233.233636 110.437745 \r\nL 233.52591 112.361789 \r\nL 233.672047 118.497272 \r\nL 233.818184 117.889158 \r\nL 234.110458 118.043405 \r\nL 234.256595 117.775608 \r\nL 234.402732 117.905244 \r\nL 234.548869 118.297205 \r\nL 234.695006 117.82315 \r\nL 234.841143 118.56542 \r\nL 234.98728 116.567507 \r\nL 235.133417 117.837204 \r\nL 235.425692 117.648165 \r\nL 235.571829 119.491978 \r\nL 235.717966 119.733493 \r\nL 235.864103 118.968344 \r\nL 236.156377 121.494716 \r\nL 236.448651 120.274897 \r\nL 236.594788 121.923111 \r\nL 236.740925 122.157038 \r\nL 237.033199 120.880205 \r\nL 237.179336 122.736825 \r\nL 237.325473 122.838083 \r\nL 237.47161 121.64764 \r\nL 237.910022 128.35469 \r\nL 238.056159 129.926992 \r\nL 238.348433 128.932022 \r\nL 238.49457 127.404956 \r\nL 238.640707 127.684609 \r\nL 238.932981 127.825734 \r\nL 239.079118 123.756019 \r\nL 239.225255 128.767882 \r\nL 239.371392 128.64674 \r\nL 239.517529 130.798976 \r\nL 239.663666 130.660455 \r\nL 239.809803 129.939481 \r\nL 239.95594 131.108885 \r\nL 240.248214 137.461278 \r\nL 240.686626 129.681312 \r\nL 240.9789 130.543484 \r\nL 241.125037 102.495074 \r\nL 241.271174 100.68492 \r\nL 241.417311 104.314152 \r\nL 241.563448 102.770059 \r\nL 241.709585 107.194862 \r\nL 241.855722 106.967004 \r\nL 242.294133 101.136486 \r\nL 242.44027 100.892528 \r\nL 243.024819 96.221353 \r\nL 243.170956 89.266507 \r\nL 243.46323 91.389021 \r\nL 243.609367 88.702603 \r\nL 243.755504 88.42398 \r\nL 244.047778 90.428599 \r\nL 244.193915 91.344579 \r\nL 244.486189 90.323951 \r\nL 244.778463 88.174081 \r\nL 244.9246 81.861904 \r\nL 245.070737 84.030567 \r\nL 245.363012 80.624431 \r\nL 245.509149 80.455437 \r\nL 245.655286 83.848625 \r\nL 245.801423 82.164321 \r\nL 245.94756 82.988296 \r\nL 246.093697 88.521615 \r\nL 246.239834 88.85192 \r\nL 246.385971 86.65247 \r\nL 246.532108 86.993213 \r\nL 246.678245 91.303664 \r\nL 246.824382 92.08718 \r\nL 247.262793 96.565035 \r\nL 247.40893 91.785529 \r\nL 247.555067 93.710038 \r\nL 247.847341 78.722905 \r\nL 248.139616 69.535897 \r\nL 248.285753 70.818308 \r\nL 248.43189 71.060659 \r\nL 248.578027 69.709629 \r\nL 248.724164 71.242165 \r\nL 248.870301 52.878245 \r\nL 249.016438 49.154733 \r\nL 249.162575 49.96162 \r\nL 249.308712 47.572623 \r\nL 249.454849 47.889656 \r\nL 249.600986 53.530517 \r\nL 249.747123 49.837843 \r\nL 249.89326 51.187211 \r\nL 250.185534 71.592094 \r\nL 250.331671 58.911709 \r\nL 250.623946 60.762598 \r\nL 250.770083 59.725327 \r\nL 250.91622 60.46046 \r\nL 251.062357 62.165579 \r\nL 251.208494 61.08095 \r\nL 251.354631 76.360436 \r\nL 251.646905 76.949984 \r\nL 251.793042 75.749531 \r\nL 251.939179 71.97787 \r\nL 252.085316 74.424726 \r\nL 252.231453 73.643878 \r\nL 252.37759 75.399648 \r\nL 252.523727 75.597481 \r\nL 252.669864 74.654694 \r\nL 252.816001 72.36069 \r\nL 252.962139 71.986882 \r\nL 253.108276 73.143897 \r\nL 253.40055 72.489232 \r\nL 253.546687 71.604763 \r\nL 253.838961 66.851526 \r\nL 254.277372 66.477888 \r\nL 254.423509 64.886573 \r\nL 254.569646 65.467707 \r\nL 254.715783 62.452572 \r\nL 254.86192 62.96863 \r\nL 255.008057 62.179668 \r\nL 255.154194 62.426445 \r\nL 255.300331 63.09325 \r\nL 255.446469 64.279775 \r\nL 256.177154 59.734021 \r\nL 256.323291 59.698199 \r\nL 256.469428 60.292008 \r\nL 256.615565 60.045738 \r\nL 256.761702 60.333201 \r\nL 256.907839 60.310167 \r\nL 257.34625 63.379541 \r\nL 257.638524 63.078464 \r\nL 257.784661 62.745772 \r\nL 257.930799 63.099037 \r\nL 258.223073 63.028168 \r\nL 258.36921 62.308277 \r\nL 258.661484 63.501329 \r\nL 258.807621 63.543035 \r\nL 258.953758 63.009469 \r\nL 259.246032 64.248499 \r\nL 259.392169 64.383443 \r\nL 259.538306 64.272167 \r\nL 259.684443 63.510874 \r\nL 259.83058 63.389234 \r\nL 260.122854 62.311789 \r\nL 260.415128 62.976452 \r\nL 260.561266 63.006967 \r\nL 260.85354 61.548076 \r\nL 260.999677 64.948867 \r\nL 261.291951 64.909826 \r\nL 261.438088 65.382592 \r\nL 261.584225 64.745267 \r\nL 262.022636 65.13816 \r\nL 262.168773 64.445931 \r\nL 262.31491 64.425116 \r\nL 262.461047 64.221646 \r\nL 262.607184 63.519732 \r\nL 262.753321 63.628863 \r\nL 262.899458 63.059018 \r\nL 263.33787 63.553233 \r\nL 263.484007 63.673625 \r\nL 263.630144 63.097795 \r\nL 263.776281 63.128491 \r\nL 263.922418 63.022624 \r\nL 264.068555 63.268324 \r\nL 264.360829 62.157138 \r\nL 264.79924 62.927445 \r\nL 264.945377 62.703706 \r\nL 265.091514 63.132913 \r\nL 265.237651 62.768419 \r\nL 265.383788 62.747455 \r\nL 265.529926 63.188912 \r\nL 265.676063 64.042539 \r\nL 265.8222 62.224693 \r\nL 265.968337 63.690686 \r\nL 266.114474 63.932481 \r\nL 266.406748 65.476332 \r\nL 266.699022 64.721966 \r\nL 266.845159 65.028005 \r\nL 266.991296 64.656238 \r\nL 267.28357 68.243229 \r\nL 267.429707 67.693044 \r\nL 267.575844 67.928341 \r\nL 267.721981 67.719157 \r\nL 267.868118 66.034062 \r\nL 268.014256 67.834903 \r\nL 268.160393 67.504772 \r\nL 268.30653 64.866878 \r\nL 268.452667 58.900364 \r\nL 268.598804 66.406848 \r\nL 268.744941 64.530116 \r\nL 269.037215 66.635879 \r\nL 269.475626 64.617193 \r\nL 269.621763 52.777457 \r\nL 269.7679 52.746245 \r\nL 269.914037 52.868988 \r\nL 270.060174 53.301625 \r\nL 270.206311 56.468251 \r\nL 270.352448 53.832536 \r\nL 270.498585 54.014426 \r\nL 270.644723 52.735318 \r\nL 270.79086 52.9354 \r\nL 270.936997 53.60044 \r\nL 271.229271 56.56993 \r\nL 271.521545 54.21533 \r\nL 271.667682 54.336759 \r\nL 272.398367 63.518468 \r\nL 272.544504 63.969851 \r\nL 272.690641 67.431235 \r\nL 272.836778 66.153139 \r\nL 272.982915 69.634587 \r\nL 273.129053 68.48376 \r\nL 273.27519 69.782128 \r\nL 273.421327 69.548468 \r\nL 273.713601 67.683985 \r\nL 273.859738 68.556777 \r\nL 274.152012 72.207376 \r\nL 274.298149 72.917246 \r\nL 274.444286 74.490275 \r\nL 274.73656 72.800234 \r\nL 274.882697 73.750061 \r\nL 275.028834 73.428417 \r\nL 275.174971 73.443766 \r\nL 275.467245 67.400627 \r\nL 275.613383 66.92104 \r\nL 275.75952 67.748178 \r\nL 275.905657 67.925295 \r\nL 276.051794 67.784059 \r\nL 276.197931 66.914509 \r\nL 276.344068 67.081883 \r\nL 276.490205 67.506603 \r\nL 276.782479 66.51968 \r\nL 277.074753 64.590076 \r\nL 277.22089 66.22966 \r\nL 277.513164 62.88915 \r\nL 277.659301 63.625021 \r\nL 277.805438 62.933018 \r\nL 278.097713 64.520552 \r\nL 278.24385 63.599408 \r\nL 278.389987 64.848257 \r\nL 278.828398 62.968897 \r\nL 279.120672 68.124918 \r\nL 279.266809 57.498792 \r\nL 279.412946 58.429327 \r\nL 279.559083 58.51469 \r\nL 279.70522 59.029014 \r\nL 279.997494 62.558536 \r\nL 280.143631 63.546506 \r\nL 280.289768 63.324918 \r\nL 280.435905 63.454501 \r\nL 280.582043 63.207179 \r\nL 280.72818 63.378489 \r\nL 280.874317 64.295893 \r\nL 281.020454 63.180477 \r\nL 281.166591 66.589946 \r\nL 281.458865 64.837286 \r\nL 281.751139 64.801708 \r\nL 281.897276 67.813484 \r\nL 282.043413 67.686424 \r\nL 282.335687 66.519341 \r\nL 282.627961 69.611989 \r\nL 282.774098 68.924941 \r\nL 282.920235 69.571776 \r\nL 283.21251 67.545364 \r\nL 283.358647 67.356301 \r\nL 283.650921 69.910715 \r\nL 283.797058 66.649231 \r\nL 283.943195 66.566555 \r\nL 284.089332 72.003702 \r\nL 284.235469 68.393974 \r\nL 284.381606 70.755516 \r\nL 284.527743 69.853205 \r\nL 284.67388 69.954056 \r\nL 284.966154 73.760417 \r\nL 285.112291 73.426258 \r\nL 285.258428 72.608545 \r\nL 285.404565 79.922659 \r\nL 285.550702 80.448737 \r\nL 285.69684 79.503017 \r\nL 286.135251 85.632847 \r\nL 286.281388 85.480789 \r\nL 286.573662 89.356726 \r\nL 286.719799 89.131168 \r\nL 286.865936 85.520388 \r\nL 287.012073 88.189818 \r\nL 287.15821 88.315273 \r\nL 287.304347 87.628192 \r\nL 287.450484 89.725455 \r\nL 287.742758 90.754886 \r\nL 287.888895 89.122102 \r\nL 288.035032 90.993681 \r\nL 288.18117 90.932501 \r\nL 288.327307 93.22223 \r\nL 288.473444 92.686531 \r\nL 288.765718 93.721979 \r\nL 289.057992 87.871691 \r\nL 289.350266 101.381497 \r\nL 289.496403 101.903478 \r\nL 289.64254 101.588807 \r\nL 289.788677 105.50656 \r\nL 289.934814 105.833142 \r\nL 290.080951 101.330545 \r\nL 290.227088 101.729672 \r\nL 290.519362 91.774106 \r\nL 290.6655 88.507792 \r\nL 290.811637 93.273219 \r\nL 290.957774 93.148303 \r\nL 291.103911 93.387306 \r\nL 291.250048 94.068776 \r\nL 291.396185 94.025701 \r\nL 291.688459 95.301371 \r\nL 291.834596 94.977989 \r\nL 291.980733 94.959758 \r\nL 292.12687 99.349587 \r\nL 292.273007 93.2141 \r\nL 292.565281 91.474248 \r\nL 292.711418 92.483267 \r\nL 292.857555 92.530825 \r\nL 293.003692 90.039135 \r\nL 293.149829 90.757986 \r\nL 293.295967 88.86853 \r\nL 293.442104 89.206852 \r\nL 293.588241 92.374005 \r\nL 293.734378 92.340676 \r\nL 293.880515 92.177683 \r\nL 294.026652 92.577795 \r\nL 294.172789 92.50863 \r\nL 294.318926 92.624971 \r\nL 294.465063 95.821333 \r\nL 294.6112 96.379268 \r\nL 294.757337 96.058845 \r\nL 294.903474 96.397918 \r\nL 295.049611 93.656143 \r\nL 295.195748 93.856064 \r\nL 295.341885 94.81413 \r\nL 295.780297 91.198408 \r\nL 295.926434 91.196777 \r\nL 296.072571 94.422201 \r\nL 296.218708 94.422201 \r\nL 296.364845 94.101948 \r\nL 296.510982 96.959211 \r\nL 296.803256 95.857017 \r\nL 296.949393 94.20078 \r\nL 297.09553 96.080821 \r\nL 297.241667 95.817747 \r\nL 297.387804 100.388831 \r\nL 297.533941 100.448103 \r\nL 297.680078 97.745484 \r\nL 297.826215 98.104668 \r\nL 297.972352 96.458657 \r\nL 298.264627 90.134556 \r\nL 298.410764 88.769434 \r\nL 298.556901 88.700533 \r\nL 298.703038 88.085897 \r\nL 298.995312 86.248599 \r\nL 299.141449 81.405486 \r\nL 299.433723 83.922277 \r\nL 299.57986 83.859774 \r\nL 299.872134 82.384327 \r\nL 300.018271 82.087153 \r\nL 300.164408 83.041587 \r\nL 300.310545 85.707686 \r\nL 300.456682 81.835341 \r\nL 300.602819 82.401977 \r\nL 300.748957 86.751002 \r\nL 300.895094 87.410881 \r\nL 301.041231 87.221056 \r\nL 301.187368 86.80439 \r\nL 301.333505 88.021186 \r\nL 301.479642 88.030536 \r\nL 301.625779 87.603725 \r\nL 301.771916 87.682692 \r\nL 302.06419 88.090002 \r\nL 302.210327 88.55845 \r\nL 302.356464 88.521716 \r\nL 302.502601 87.867431 \r\nL 302.648738 88.29647 \r\nL 302.794875 89.684999 \r\nL 302.941012 88.885826 \r\nL 303.087149 89.460578 \r\nL 303.233287 87.639998 \r\nL 303.379424 87.60433 \r\nL 303.525561 85.981091 \r\nL 303.671698 86.124501 \r\nL 303.817835 86.596572 \r\nL 303.963972 88.549793 \r\nL 304.110109 87.453497 \r\nL 304.256246 87.507127 \r\nL 304.402383 88.085793 \r\nL 304.54852 88.168241 \r\nL 304.694657 87.163376 \r\nL 304.840794 87.567922 \r\nL 304.986931 87.532838 \r\nL 305.133068 88.567487 \r\nL 305.279205 88.260688 \r\nL 305.425342 88.767791 \r\nL 305.571479 91.06857 \r\nL 305.863754 88.129995 \r\nL 306.009891 89.919104 \r\nL 306.156028 89.769378 \r\nL 306.302165 88.788482 \r\nL 306.448302 88.845907 \r\nL 306.594439 88.472098 \r\nL 306.740576 88.576561 \r\nL 307.03285 87.698676 \r\nL 307.325124 88.433399 \r\nL 307.617398 69.778216 \r\nL 307.763535 69.251813 \r\nL 308.201946 71.68848 \r\nL 308.348084 85.570748 \r\nL 308.494221 87.496741 \r\nL 308.640358 93.64802 \r\nL 308.786495 93.226702 \r\nL 308.932632 89.429535 \r\nL 309.078769 89.958392 \r\nL 309.224906 88.648836 \r\nL 309.371043 85.742484 \r\nL 309.51718 88.409172 \r\nL 309.663317 84.961204 \r\nL 309.809454 84.275898 \r\nL 310.101728 77.32684 \r\nL 310.247865 65.501099 \r\nL 310.394002 66.113035 \r\nL 310.540139 65.335192 \r\nL 310.686276 66.016187 \r\nL 310.832414 65.48143 \r\nL 310.978551 66.58486 \r\nL 311.124688 66.737993 \r\nL 311.270825 66.282657 \r\nL 311.416962 62.872252 \r\nL 311.563099 62.95871 \r\nL 311.709236 66.554718 \r\nL 311.855373 62.957491 \r\nL 312.00151 62.772273 \r\nL 312.147647 60.436228 \r\nL 312.293784 61.191329 \r\nL 312.439921 60.357856 \r\nL 312.586058 63.86705 \r\nL 312.732195 63.80645 \r\nL 312.878332 63.247874 \r\nL 313.170606 60.906604 \r\nL 313.316744 62.795856 \r\nL 313.462881 63.133588 \r\nL 313.609018 62.523651 \r\nL 313.755155 62.555131 \r\nL 313.901292 62.831866 \r\nL 314.047429 62.561428 \r\nL 314.193566 64.250222 \r\nL 314.339703 63.75228 \r\nL 314.631977 63.738274 \r\nL 314.778114 66.705472 \r\nL 314.924251 66.597577 \r\nL 315.070388 66.771098 \r\nL 315.362662 67.70532 \r\nL 315.654936 63.078252 \r\nL 315.947211 62.906341 \r\nL 316.093348 62.42111 \r\nL 316.239485 62.633235 \r\nL 316.385622 60.509441 \r\nL 316.824033 61.819284 \r\nL 316.97017 67.235583 \r\nL 317.116307 67.639685 \r\nL 317.262444 68.463511 \r\nL 317.554718 74.064483 \r\nL 317.700855 72.625776 \r\nL 317.846992 74.398448 \r\nL 317.993129 73.809804 \r\nL 318.139266 73.702331 \r\nL 318.431541 75.427831 \r\nL 318.577678 73.840126 \r\nL 318.723815 77.027513 \r\nL 319.016089 76.691579 \r\nL 319.308363 76.888563 \r\nL 319.4545 77.29958 \r\nL 319.600637 76.897551 \r\nL 319.746774 76.861131 \r\nL 319.892911 76.978793 \r\nL 320.039048 73.666284 \r\nL 320.185185 73.854834 \r\nL 320.331322 73.495638 \r\nL 320.623596 73.66751 \r\nL 320.769733 74.061589 \r\nL 321.062008 73.293084 \r\nL 321.208145 73.91036 \r\nL 321.354282 72.94154 \r\nL 321.500419 72.913013 \r\nL 321.646556 72.750376 \r\nL 321.93883 75.367108 \r\nL 322.084967 75.028373 \r\nL 322.231104 73.201766 \r\nL 322.377241 73.130699 \r\nL 322.669515 71.854645 \r\nL 322.815652 71.763366 \r\nL 322.961789 71.304695 \r\nL 323.254063 71.653042 \r\nL 323.400201 71.4502 \r\nL 323.546338 71.692663 \r\nL 323.692475 71.370395 \r\nL 323.838612 72.226027 \r\nL 323.984749 71.848261 \r\nL 324.277023 70.623655 \r\nL 324.569297 71.90674 \r\nL 324.861571 72.297302 \r\nL 325.007708 73.715517 \r\nL 325.299982 73.370689 \r\nL 325.446119 73.84193 \r\nL 325.592256 73.592362 \r\nL 325.738393 71.880003 \r\nL 325.88453 72.168236 \r\nL 326.322942 71.485171 \r\nL 326.469079 70.061703 \r\nL 326.615216 61.888661 \r\nL 326.761353 60.984182 \r\nL 326.90749 64.259472 \r\nL 327.053627 64.174013 \r\nL 327.199764 64.802425 \r\nL 327.345901 64.736562 \r\nL 327.492038 65.465733 \r\nL 327.930449 69.191549 \r\nL 328.076586 69.362839 \r\nL 328.36886 74.216122 \r\nL 328.514998 84.075968 \r\nL 328.661135 83.148631 \r\nL 328.807272 84.076857 \r\nL 328.953409 83.907379 \r\nL 329.099546 85.592577 \r\nL 329.245683 85.73578 \r\nL 329.537957 85.687855 \r\nL 329.684094 92.90492 \r\nL 329.830231 92.790183 \r\nL 330.122505 86.655448 \r\nL 330.268642 86.865192 \r\nL 330.414779 90.321584 \r\nL 330.560916 87.197505 \r\nL 330.707053 89.091683 \r\nL 330.999328 80.865233 \r\nL 331.145465 80.532206 \r\nL 331.437739 85.623867 \r\nL 331.730013 82.44026 \r\nL 331.87615 86.041217 \r\nL 332.168424 86.575256 \r\nL 332.314561 88.426438 \r\nL 332.460698 85.190202 \r\nL 332.606835 84.8027 \r\nL 332.752972 84.780229 \r\nL 332.899109 84.893901 \r\nL 333.045246 79.365224 \r\nL 333.191383 79.604212 \r\nL 333.33752 79.496864 \r\nL 333.629795 78.483921 \r\nL 333.775932 86.300091 \r\nL 333.922069 87.600362 \r\nL 334.068206 87.666353 \r\nL 334.214343 87.985977 \r\nL 334.506617 88.125084 \r\nL 334.652754 95.378277 \r\nL 334.798891 94.07703 \r\nL 334.945028 94.157323 \r\nL 335.091165 92.600947 \r\nL 335.237302 82.657302 \r\nL 335.529576 82.167152 \r\nL 335.82185 77.365587 \r\nL 335.967988 78.816216 \r\nL 336.114125 74.517322 \r\nL 336.260262 75.828202 \r\nL 336.406399 75.317176 \r\nL 336.552536 73.107931 \r\nL 336.990947 76.026102 \r\nL 337.429358 81.480217 \r\nL 337.575495 81.286081 \r\nL 337.721632 81.532808 \r\nL 337.867769 79.164668 \r\nL 338.013906 78.981117 \r\nL 338.160043 78.4778 \r\nL 338.30618 85.614954 \r\nL 338.452317 84.694021 \r\nL 338.598455 85.164558 \r\nL 338.744592 84.79933 \r\nL 339.32914 88.512263 \r\nL 339.475277 88.99162 \r\nL 339.621414 92.798476 \r\nL 339.767551 92.482605 \r\nL 340.059825 96.395618 \r\nL 340.205962 92.768015 \r\nL 340.352099 85.99389 \r\nL 340.498236 93.055147 \r\nL 340.644373 93.044613 \r\nL 340.79051 94.445265 \r\nL 340.936647 94.124468 \r\nL 341.082785 92.779181 \r\nL 341.228922 93.299464 \r\nL 341.375059 90.788139 \r\nL 341.521196 91.242178 \r\nL 341.667333 90.78651 \r\nL 341.81347 91.611571 \r\nL 341.959607 91.646858 \r\nL 342.105744 86.790593 \r\nL 342.251881 86.130204 \r\nL 342.398018 90.047661 \r\nL 342.544155 87.586698 \r\nL 342.836429 76.571412 \r\nL 342.982566 77.312697 \r\nL 343.27484 73.334144 \r\nL 343.420977 73.710357 \r\nL 343.567115 73.101248 \r\nL 343.713252 73.001793 \r\nL 343.859389 73.766499 \r\nL 344.151663 80.412049 \r\nL 344.2978 80.397125 \r\nL 344.443937 82.701497 \r\nL 344.882348 83.254768 \r\nL 345.028485 82.207992 \r\nL 345.174622 75.356917 \r\nL 345.320759 75.664981 \r\nL 345.466896 80.929537 \r\nL 345.613033 81.017357 \r\nL 345.75917 81.288585 \r\nL 345.905307 83.112743 \r\nL 346.051445 89.213806 \r\nL 346.197582 88.910951 \r\nL 346.343719 87.941953 \r\nL 346.489856 87.874191 \r\nL 346.635993 87.342861 \r\nL 346.78213 87.460019 \r\nL 346.928267 90.81309 \r\nL 347.074404 91.438883 \r\nL 347.220541 94.291667 \r\nL 347.512815 93.384435 \r\nL 347.805089 96.157992 \r\nL 347.951226 95.833985 \r\nL 348.097363 99.006376 \r\nL 348.2435 99.119998 \r\nL 348.389637 101.744132 \r\nL 348.535774 101.569764 \r\nL 348.681912 105.620911 \r\nL 348.828049 103.526567 \r\nL 348.974186 99.208703 \r\nL 349.26646 103.349774 \r\nL 349.412597 103.33774 \r\nL 349.558734 101.020534 \r\nL 349.851008 102.741545 \r\nL 349.997145 104.66745 \r\nL 350.143282 104.94811 \r\nL 350.435556 103.723299 \r\nL 350.581693 101.220581 \r\nL 350.72783 104.471333 \r\nL 351.020104 103.321384 \r\nL 351.166242 101.540941 \r\nL 351.312379 102.237677 \r\nL 351.458516 102.169533 \r\nL 351.604653 103.132894 \r\nL 351.75079 101.00087 \r\nL 351.896927 101.098093 \r\nL 352.189201 97.435002 \r\nL 352.335338 97.808914 \r\nL 352.627612 102.810772 \r\nL 352.773749 99.59144 \r\nL 352.919886 99.151581 \r\nL 353.066023 103.586219 \r\nL 353.21216 102.199423 \r\nL 353.358297 102.887857 \r\nL 353.504434 102.169677 \r\nL 353.650572 103.822971 \r\nL 353.796709 103.920976 \r\nL 354.088983 98.918528 \r\nL 354.381257 100.872079 \r\nL 354.527394 99.481355 \r\nL 354.673531 101.50815 \r\nL 355.111942 97.612678 \r\nL 355.258079 97.162154 \r\nL 355.404216 94.66594 \r\nL 355.550353 100.597606 \r\nL 355.69649 100.556302 \r\nL 356.427176 114.506329 \r\nL 356.573313 109.830012 \r\nL 356.71945 109.502408 \r\nL 356.865587 109.534274 \r\nL 357.011724 112.248512 \r\nL 357.303998 108.720468 \r\nL 357.450135 98.766984 \r\nL 357.596272 99.359458 \r\nL 357.888546 74.476765 \r\nL 358.18082 70.983944 \r\nL 358.473094 68.030641 \r\nL 358.619232 69.334768 \r\nL 358.765369 68.27938 \r\nL 358.911506 64.31765 \r\nL 359.057643 64.201822 \r\nL 359.20378 64.318629 \r\nL 359.349917 60.794639 \r\nL 359.496054 60.880546 \r\nL 359.642191 61.772424 \r\nL 359.788328 60.785551 \r\nL 359.934465 60.866046 \r\nL 360.080602 60.594642 \r\nL 360.372876 62.140168 \r\nL 360.66515 61.188511 \r\nL 360.957424 64.108183 \r\nL 361.103561 64.812325 \r\nL 361.249699 62.820338 \r\nL 361.395836 63.466908 \r\nL 361.68811 62.292234 \r\nL 361.834247 62.617647 \r\nL 361.980384 62.31193 \r\nL 362.126521 66.905783 \r\nL 362.272658 66.755714 \r\nL 362.418795 67.553691 \r\nL 362.711069 64.48793 \r\nL 363.003343 68.522254 \r\nL 363.14948 68.545286 \r\nL 363.295617 71.040057 \r\nL 363.587891 68.315816 \r\nL 363.734029 71.053779 \r\nL 363.880166 70.331285 \r\nL 364.026303 71.45382 \r\nL 364.17244 70.242562 \r\nL 364.318577 65.482514 \r\nL 364.464714 67.254231 \r\nL 364.756988 67.994946 \r\nL 364.903125 67.267259 \r\nL 364.903125 67.267259 \r\n\" style=\"fill:none;stroke:#1f77b4;stroke-linecap:square;stroke-width:1.5;\"/>\r\n   </g>\r\n   <g id=\"line2d_47\">\r\n    <path clip-path=\"url(#pcbe2a2e957)\" d=\"M 45.301379 47.854856 \r\nL 45.73979 48.168353 \r\nL 45.885927 48.125412 \r\nL 46.032064 49.275434 \r\nL 46.178201 52.605081 \r\nL 46.324338 52.806849 \r\nL 46.616613 55.309879 \r\nL 46.908887 55.412882 \r\nL 47.055024 55.146817 \r\nL 47.201161 53.827955 \r\nL 47.347298 54.989773 \r\nL 47.493435 55.150543 \r\nL 47.639572 56.562929 \r\nL 47.785709 56.778086 \r\nL 47.931846 56.147295 \r\nL 48.077983 56.198332 \r\nL 48.370257 55.553285 \r\nL 48.662531 56.01584 \r\nL 48.808668 53.59594 \r\nL 48.954805 54.00313 \r\nL 49.100943 54.83134 \r\nL 49.24708 54.809783 \r\nL 49.393217 53.282999 \r\nL 49.685491 53.377091 \r\nL 49.831628 52.814873 \r\nL 49.977765 49.361807 \r\nL 50.123902 49.392771 \r\nL 50.270039 48.253684 \r\nL 50.416176 49.225486 \r\nL 50.562313 48.874332 \r\nL 50.70845 51.72991 \r\nL 50.854587 50.99084 \r\nL 51.000724 48.901273 \r\nL 51.146861 48.730926 \r\nL 51.292998 50.132604 \r\nL 51.439135 45.727359 \r\nL 51.585273 45.288437 \r\nL 51.73141 46.066124 \r\nL 51.877547 46.181759 \r\nL 52.023684 44.936736 \r\nL 52.315958 45.36214 \r\nL 52.462095 45.05999 \r\nL 52.754369 43.423386 \r\nL 52.900506 44.655428 \r\nL 53.046643 44.668376 \r\nL 53.19278 45.899811 \r\nL 53.338917 46.138639 \r\nL 53.777328 47.974031 \r\nL 54.069603 51.777581 \r\nL 54.21574 51.195659 \r\nL 54.654151 53.025188 \r\nL 54.800288 53.322419 \r\nL 54.946425 53.358632 \r\nL 55.092562 53.640583 \r\nL 55.238699 54.759083 \r\nL 55.384836 54.090856 \r\nL 55.530973 55.893923 \r\nL 55.67711 60.722979 \r\nL 55.823247 60.81124 \r\nL 55.969384 64.363802 \r\nL 56.553933 62.549712 \r\nL 56.70007 68.57158 \r\nL 56.846207 67.647535 \r\nL 56.992344 67.790737 \r\nL 57.138481 66.877608 \r\nL 57.284618 68.907313 \r\nL 57.576892 67.691549 \r\nL 57.723029 69.455825 \r\nL 57.869166 68.938029 \r\nL 58.16144 65.988783 \r\nL 58.307577 63.772033 \r\nL 58.453714 64.01931 \r\nL 58.745988 63.438783 \r\nL 58.892125 64.549125 \r\nL 59.038262 63.847096 \r\nL 59.1844 59.135072 \r\nL 59.330537 60.149313 \r\nL 59.476674 60.134996 \r\nL 59.768948 62.077758 \r\nL 59.915085 63.458687 \r\nL 60.061222 63.650222 \r\nL 60.207359 63.458374 \r\nL 60.353496 64.248909 \r\nL 60.499633 64.244961 \r\nL 60.791907 63.421505 \r\nL 60.938044 75.147366 \r\nL 61.084181 75.432726 \r\nL 61.522592 78.083451 \r\nL 61.66873 79.487854 \r\nL 61.814867 76.649227 \r\nL 61.961004 76.410627 \r\nL 62.107141 76.65211 \r\nL 62.399415 76.698879 \r\nL 62.545552 79.449959 \r\nL 62.691689 79.504956 \r\nL 62.837826 76.969007 \r\nL 63.1301 76.907637 \r\nL 63.276237 76.439109 \r\nL 63.422374 78.782058 \r\nL 63.714648 77.332665 \r\nL 63.860785 76.767928 \r\nL 64.006922 75.204107 \r\nL 64.15306 75.9951 \r\nL 64.299197 73.774786 \r\nL 64.445334 69.403512 \r\nL 64.591471 69.588446 \r\nL 64.737608 67.930828 \r\nL 64.883745 67.842787 \r\nL 65.029882 67.438178 \r\nL 65.176019 67.460277 \r\nL 65.322156 67.826828 \r\nL 65.61443 70.344403 \r\nL 65.760567 70.533211 \r\nL 65.906704 68.989245 \r\nL 66.052841 68.782795 \r\nL 66.198978 70.837159 \r\nL 66.345115 70.41813 \r\nL 66.63739 71.731433 \r\nL 66.783527 71.168719 \r\nL 67.075801 72.436614 \r\nL 67.368075 74.382093 \r\nL 67.514212 74.407616 \r\nL 67.660349 77.825236 \r\nL 67.806486 77.945887 \r\nL 67.952623 78.411641 \r\nL 68.244897 80.952343 \r\nL 68.391034 79.225061 \r\nL 68.537171 79.315552 \r\nL 68.683308 77.257083 \r\nL 68.829445 79.993939 \r\nL 68.975582 78.664435 \r\nL 69.12172 82.216039 \r\nL 69.267857 82.775101 \r\nL 69.413994 82.427309 \r\nL 69.560131 83.500524 \r\nL 69.706268 86.803913 \r\nL 69.852405 87.001202 \r\nL 69.998542 87.697884 \r\nL 70.144679 87.738008 \r\nL 70.290816 87.4477 \r\nL 70.436953 89.656809 \r\nL 70.58309 89.320745 \r\nL 70.729227 89.442297 \r\nL 71.021501 87.246091 \r\nL 71.167638 86.53877 \r\nL 71.313775 87.36424 \r\nL 71.752187 86.25485 \r\nL 71.898324 87.210886 \r\nL 72.044461 86.909958 \r\nL 72.190598 83.852064 \r\nL 72.336735 84.490731 \r\nL 72.482872 83.73258 \r\nL 72.629009 81.587165 \r\nL 73.213557 79.594379 \r\nL 73.505831 80.24288 \r\nL 73.651968 83.531573 \r\nL 73.798105 81.626734 \r\nL 73.944242 81.817129 \r\nL 74.090379 81.288771 \r\nL 74.382654 82.763836 \r\nL 74.528791 85.451624 \r\nL 74.674928 85.848087 \r\nL 74.821065 85.071217 \r\nL 74.967202 83.243878 \r\nL 75.113339 85.150461 \r\nL 75.259476 85.142911 \r\nL 75.405613 88.52168 \r\nL 75.55175 85.035384 \r\nL 75.697887 88.840356 \r\nL 75.844024 89.471183 \r\nL 75.990161 97.740378 \r\nL 76.136298 97.984773 \r\nL 76.282435 97.050658 \r\nL 76.574709 102.807783 \r\nL 76.720847 110.003447 \r\nL 76.866984 104.537875 \r\nL 77.013121 106.271097 \r\nL 77.159258 105.153304 \r\nL 77.305395 105.350483 \r\nL 77.451532 106.038629 \r\nL 77.597669 105.922452 \r\nL 78.03608 103.007085 \r\nL 78.182217 99.168264 \r\nL 78.328354 99.240254 \r\nL 78.620628 99.860929 \r\nL 79.059039 103.276758 \r\nL 79.205177 82.121636 \r\nL 79.497451 84.706814 \r\nL 79.643588 82.299399 \r\nL 79.789725 77.208078 \r\nL 79.935862 99.810364 \r\nL 80.228136 101.132001 \r\nL 80.374273 97.365255 \r\nL 80.52041 97.751256 \r\nL 80.812684 96.733879 \r\nL 80.958821 96.689144 \r\nL 81.104958 96.992637 \r\nL 81.397232 95.168693 \r\nL 81.543369 99.343812 \r\nL 81.689506 98.911426 \r\nL 81.835644 99.445897 \r\nL 81.981781 100.679539 \r\nL 82.127918 100.848818 \r\nL 82.274055 103.667841 \r\nL 82.420192 101.504919 \r\nL 82.566329 101.298883 \r\nL 82.712466 101.3712 \r\nL 82.858603 100.487519 \r\nL 83.00474 100.74748 \r\nL 83.150877 99.545151 \r\nL 83.443151 99.470406 \r\nL 83.735425 100.871313 \r\nL 84.027699 97.77355 \r\nL 84.173836 95.778551 \r\nL 84.319974 95.852659 \r\nL 84.466111 91.982867 \r\nL 84.904522 93.962524 \r\nL 85.050659 93.97335 \r\nL 85.196796 95.913614 \r\nL 85.342933 95.18275 \r\nL 85.48907 95.432524 \r\nL 85.781344 98.601774 \r\nL 86.073618 99.747139 \r\nL 86.365892 100.506929 \r\nL 86.512029 101.576737 \r\nL 86.658166 104.939152 \r\nL 86.950441 104.676558 \r\nL 87.242715 107.926994 \r\nL 87.534989 105.845158 \r\nL 87.681126 106.587746 \r\nL 87.827263 104.71201 \r\nL 87.9734 105.194898 \r\nL 88.265674 105.217891 \r\nL 88.411811 109.206122 \r\nL 88.557948 109.022997 \r\nL 88.704085 106.327336 \r\nL 88.996359 109.885207 \r\nL 89.142496 123.429846 \r\nL 89.288634 123.717383 \r\nL 89.434771 121.260114 \r\nL 89.580908 122.712116 \r\nL 89.873182 127.140841 \r\nL 90.019319 127.760746 \r\nL 90.165456 127.284795 \r\nL 90.311593 127.663197 \r\nL 90.603867 126.478713 \r\nL 90.896141 121.901071 \r\nL 91.042278 121.890197 \r\nL 91.188415 120.586598 \r\nL 91.334552 120.852803 \r\nL 91.480689 118.725163 \r\nL 91.626826 118.350489 \r\nL 91.772963 119.510943 \r\nL 91.919101 119.007786 \r\nL 92.211375 115.26314 \r\nL 92.357512 115.386663 \r\nL 92.649786 116.702781 \r\nL 92.795923 115.645049 \r\nL 93.088197 115.553283 \r\nL 93.818882 120.903314 \r\nL 93.965019 121.539278 \r\nL 94.111156 120.507645 \r\nL 94.257293 117.856359 \r\nL 94.403431 117.799329 \r\nL 94.695705 119.359633 \r\nL 94.841842 118.935918 \r\nL 94.987979 116.969189 \r\nL 95.134116 123.174966 \r\nL 95.280253 122.721319 \r\nL 95.572527 125.886986 \r\nL 95.718664 125.644762 \r\nL 96.010938 130.333068 \r\nL 96.157075 130.082565 \r\nL 96.449349 130.383485 \r\nL 96.595486 130.411978 \r\nL 96.741623 126.198085 \r\nL 97.033898 127.732156 \r\nL 97.180035 127.483906 \r\nL 97.472309 123.475792 \r\nL 97.618446 123.073392 \r\nL 97.91072 124.214082 \r\nL 98.056857 126.705888 \r\nL 98.202994 108.645047 \r\nL 98.349131 108.333283 \r\nL 98.495268 107.273782 \r\nL 98.641405 113.460519 \r\nL 98.787542 114.344863 \r\nL 98.933679 112.570871 \r\nL 99.079816 113.340881 \r\nL 99.372091 111.512072 \r\nL 99.518228 112.660131 \r\nL 99.664365 115.255436 \r\nL 99.810502 111.77698 \r\nL 100.102776 110.390066 \r\nL 100.248913 106.587531 \r\nL 100.39505 106.033653 \r\nL 100.833461 110.977043 \r\nL 100.979598 110.286695 \r\nL 101.418009 114.186084 \r\nL 101.710283 114.423692 \r\nL 101.856421 113.362736 \r\nL 102.002558 115.649355 \r\nL 102.294832 115.267174 \r\nL 102.440969 116.379252 \r\nL 102.587106 116.260554 \r\nL 102.733243 120.89406 \r\nL 102.87938 121.262478 \r\nL 103.025517 118.637356 \r\nL 103.171654 119.160599 \r\nL 103.317791 119.208237 \r\nL 103.463928 116.531645 \r\nL 103.756202 115.226048 \r\nL 104.194613 112.732797 \r\nL 104.34075 112.594786 \r\nL 104.633025 111.763359 \r\nL 104.779162 109.218675 \r\nL 104.925299 108.974263 \r\nL 105.071436 109.071533 \r\nL 105.217573 109.701628 \r\nL 105.36371 107.234013 \r\nL 105.509847 107.316782 \r\nL 105.655984 106.87055 \r\nL 105.802121 108.974727 \r\nL 105.948258 108.997147 \r\nL 106.094395 111.201326 \r\nL 106.240532 111.331 \r\nL 106.386669 112.482269 \r\nL 106.532806 115.032398 \r\nL 106.678943 110.062454 \r\nL 106.971218 111.692053 \r\nL 107.117355 109.035347 \r\nL 107.263492 110.113965 \r\nL 107.409629 95.32727 \r\nL 107.555766 93.399893 \r\nL 107.701903 96.783866 \r\nL 107.994177 84.480455 \r\nL 108.286451 81.498174 \r\nL 108.432588 80.798285 \r\nL 108.578725 81.036768 \r\nL 108.870999 82.418676 \r\nL 109.163273 90.150875 \r\nL 109.30941 90.256523 \r\nL 109.455548 93.44625 \r\nL 109.601685 93.593295 \r\nL 109.747822 97.263614 \r\nL 109.893959 97.002702 \r\nL 110.040096 95.309802 \r\nL 110.186233 95.220921 \r\nL 110.624644 99.618614 \r\nL 110.770781 98.677803 \r\nL 110.916918 98.851676 \r\nL 111.063055 100.405434 \r\nL 111.209192 99.637318 \r\nL 111.501466 100.731006 \r\nL 111.647603 98.643785 \r\nL 111.939878 99.884896 \r\nL 112.086015 103.083398 \r\nL 112.232152 102.830748 \r\nL 112.524426 103.7771 \r\nL 112.670563 103.865592 \r\nL 112.8167 105.777974 \r\nL 113.108974 104.841349 \r\nL 113.255111 106.319085 \r\nL 113.401248 106.415554 \r\nL 113.547385 104.975108 \r\nL 113.693522 104.67537 \r\nL 113.985796 98.071908 \r\nL 114.131933 95.10891 \r\nL 114.27807 95.476702 \r\nL 114.424207 95.293126 \r\nL 114.570345 94.183794 \r\nL 114.862619 95.255215 \r\nL 115.008756 100.643828 \r\nL 115.154893 100.199153 \r\nL 115.447167 95.526494 \r\nL 115.739441 98.711064 \r\nL 115.885578 98.629161 \r\nL 116.031715 98.180828 \r\nL 116.177852 97.299371 \r\nL 116.323989 98.336543 \r\nL 116.470126 98.011073 \r\nL 116.616263 98.344926 \r\nL 116.7624 99.039194 \r\nL 117.054675 90.820564 \r\nL 117.200812 87.836969 \r\nL 117.346949 87.841323 \r\nL 117.493086 90.291402 \r\nL 117.639223 89.268202 \r\nL 117.78536 80.609354 \r\nL 117.931497 79.441253 \r\nL 118.077634 80.460031 \r\nL 118.223771 79.108784 \r\nL 118.369908 79.843728 \r\nL 118.516045 81.22354 \r\nL 118.662182 80.278196 \r\nL 118.808319 81.113552 \r\nL 118.954456 78.210602 \r\nL 119.100593 83.536975 \r\nL 119.24673 84.733847 \r\nL 119.539005 81.332568 \r\nL 119.685142 81.411159 \r\nL 119.831279 81.538652 \r\nL 120.123553 89.365585 \r\nL 120.26969 85.210171 \r\nL 120.415827 86.105543 \r\nL 120.708101 84.728148 \r\nL 120.854238 84.75234 \r\nL 121.146512 82.594369 \r\nL 121.292649 85.75465 \r\nL 121.438786 84.995131 \r\nL 121.584923 85.080264 \r\nL 121.73106 84.774357 \r\nL 121.877197 85.11475 \r\nL 122.023335 86.511298 \r\nL 122.315609 83.963205 \r\nL 122.461746 84.695938 \r\nL 122.607883 84.838381 \r\nL 122.900157 83.689238 \r\nL 123.338568 84.977047 \r\nL 123.484705 84.747557 \r\nL 123.630842 86.82932 \r\nL 123.776979 87.119219 \r\nL 124.069253 88.150073 \r\nL 124.21539 88.230285 \r\nL 124.361527 94.887488 \r\nL 124.653802 92.457507 \r\nL 124.799939 89.069589 \r\nL 124.946076 89.201009 \r\nL 125.092213 88.068762 \r\nL 125.384487 89.063183 \r\nL 125.676761 86.436791 \r\nL 125.822898 88.309387 \r\nL 125.969035 83.791778 \r\nL 126.115172 83.184039 \r\nL 126.69972 88.203029 \r\nL 126.845857 87.099182 \r\nL 126.991994 87.302724 \r\nL 127.138132 87.023848 \r\nL 127.284269 90.82997 \r\nL 127.430406 102.637188 \r\nL 127.576543 103.01528 \r\nL 127.72268 103.788228 \r\nL 127.868817 103.459092 \r\nL 128.014954 103.884917 \r\nL 128.161091 103.786006 \r\nL 128.453365 105.37387 \r\nL 128.745639 108.447236 \r\nL 129.037913 114.718398 \r\nL 129.18405 113.833509 \r\nL 129.330187 114.060545 \r\nL 129.476324 113.417277 \r\nL 129.622462 112.263755 \r\nL 129.768599 112.07634 \r\nL 130.060873 110.227207 \r\nL 130.20701 110.626058 \r\nL 130.353147 107.943433 \r\nL 130.791558 108.258168 \r\nL 130.937695 107.972093 \r\nL 131.083832 106.336353 \r\nL 131.229969 106.058644 \r\nL 131.376106 106.367319 \r\nL 131.522243 105.682257 \r\nL 131.66838 106.303335 \r\nL 131.814517 107.513113 \r\nL 131.960654 107.079144 \r\nL 132.252929 113.069461 \r\nL 132.399066 112.184105 \r\nL 132.69134 113.667133 \r\nL 132.837477 114.333165 \r\nL 133.129751 113.548089 \r\nL 133.275888 116.991351 \r\nL 133.422025 116.458288 \r\nL 133.568162 117.322917 \r\nL 133.714299 116.524841 \r\nL 133.860436 117.671958 \r\nL 134.006573 117.677353 \r\nL 134.15271 117.830728 \r\nL 134.444984 119.151381 \r\nL 134.591122 119.057512 \r\nL 134.737259 120.232452 \r\nL 134.883396 120.10486 \r\nL 135.029533 117.93508 \r\nL 135.17567 117.65623 \r\nL 135.321807 119.111441 \r\nL 135.467944 123.445433 \r\nL 135.614081 123.369572 \r\nL 135.760218 122.644566 \r\nL 135.906355 124.549214 \r\nL 136.052492 139.614201 \r\nL 136.198629 141.124383 \r\nL 136.344766 141.025384 \r\nL 136.490903 144.790426 \r\nL 136.63704 139.167341 \r\nL 136.783177 141.258309 \r\nL 136.929314 148.498048 \r\nL 137.075451 143.7825 \r\nL 137.221589 143.27543 \r\nL 137.806137 126.122101 \r\nL 137.952274 129.579242 \r\nL 138.390685 121.083458 \r\nL 138.536822 122.825073 \r\nL 138.682959 122.019536 \r\nL 138.829096 123.66504 \r\nL 138.975233 124.035066 \r\nL 139.12137 123.859439 \r\nL 139.267507 124.252872 \r\nL 139.413644 125.800095 \r\nL 139.559781 125.811715 \r\nL 139.852056 125.286886 \r\nL 139.998193 125.234491 \r\nL 140.14433 128.959585 \r\nL 140.290467 127.982924 \r\nL 140.436604 127.86695 \r\nL 140.582741 130.512766 \r\nL 140.728878 131.08437 \r\nL 140.875015 130.834164 \r\nL 141.021152 131.527587 \r\nL 141.167289 131.009131 \r\nL 141.313426 131.302513 \r\nL 141.459563 130.369159 \r\nL 141.751837 130.991728 \r\nL 141.897974 129.026074 \r\nL 142.044111 128.661983 \r\nL 142.190249 129.432708 \r\nL 142.336386 132.77847 \r\nL 142.482523 133.266669 \r\nL 142.62866 127.350053 \r\nL 142.774797 129.000453 \r\nL 142.920934 128.886129 \r\nL 143.067071 127.883158 \r\nL 143.213208 128.475038 \r\nL 143.359345 131.20186 \r\nL 143.505482 130.52775 \r\nL 143.651619 130.52775 \r\nL 143.797756 131.123025 \r\nL 143.943893 133.291499 \r\nL 144.09003 132.641435 \r\nL 144.382304 136.947029 \r\nL 144.528441 128.746593 \r\nL 144.674579 128.515965 \r\nL 144.820716 128.607535 \r\nL 145.259127 133.959346 \r\nL 145.405264 133.419907 \r\nL 145.551401 129.175877 \r\nL 145.697538 117.076208 \r\nL 145.843675 116.824706 \r\nL 145.989812 115.639307 \r\nL 146.135949 115.650738 \r\nL 146.282086 114.674004 \r\nL 146.428223 108.063757 \r\nL 146.720497 106.815783 \r\nL 147.012771 103.390834 \r\nL 147.305046 100.133875 \r\nL 147.451183 102.176151 \r\nL 147.59732 101.978039 \r\nL 147.743457 101.294938 \r\nL 147.889594 101.681489 \r\nL 148.328005 106.580135 \r\nL 148.474142 106.694327 \r\nL 148.620279 106.562996 \r\nL 148.766416 106.156503 \r\nL 149.05869 104.310572 \r\nL 149.204827 105.732839 \r\nL 149.350964 105.482294 \r\nL 149.497101 106.031479 \r\nL 149.643238 105.273313 \r\nL 149.789376 105.429877 \r\nL 149.935513 104.974655 \r\nL 150.227787 105.561311 \r\nL 150.520061 100.411102 \r\nL 150.666198 100.806142 \r\nL 150.812335 99.358536 \r\nL 150.958472 99.905896 \r\nL 151.250746 101.288928 \r\nL 151.396883 100.540203 \r\nL 151.54302 96.061067 \r\nL 151.689157 96.441633 \r\nL 151.835294 97.281412 \r\nL 151.981431 99.04101 \r\nL 152.127568 98.039682 \r\nL 152.273706 98.165295 \r\nL 152.419843 100.788452 \r\nL 152.56598 100.236037 \r\nL 152.712117 107.769186 \r\nL 152.858254 108.779949 \r\nL 153.004391 108.228446 \r\nL 153.150528 108.315464 \r\nL 153.442802 113.886531 \r\nL 153.588939 114.453319 \r\nL 153.735076 113.248998 \r\nL 154.02735 114.494084 \r\nL 154.173487 114.937444 \r\nL 154.758036 106.579726 \r\nL 155.05031 114.365897 \r\nL 155.196447 114.301605 \r\nL 155.342584 116.278559 \r\nL 155.488721 113.464827 \r\nL 155.634858 113.302804 \r\nL 155.780995 115.321488 \r\nL 155.927132 124.184011 \r\nL 156.073269 124.904733 \r\nL 156.219406 122.474843 \r\nL 156.365543 126.566688 \r\nL 156.51168 125.761575 \r\nL 156.657817 175.989935 \r\nL 156.950091 179.458304 \r\nL 157.096228 177.222193 \r\nL 157.242366 177.222826 \r\nL 157.388503 174.60889 \r\nL 157.53464 174.329196 \r\nL 157.680777 172.749638 \r\nL 157.826914 173.56151 \r\nL 157.973051 169.65802 \r\nL 158.119188 171.352036 \r\nL 158.265325 171.468835 \r\nL 158.557599 168.604113 \r\nL 158.99601 172.845307 \r\nL 159.288284 172.739294 \r\nL 159.434421 171.995846 \r\nL 159.726695 172.498651 \r\nL 159.872833 166.684174 \r\nL 160.01897 171.557012 \r\nL 160.165107 170.541879 \r\nL 160.311244 170.685031 \r\nL 160.749655 167.390871 \r\nL 160.895792 167.379926 \r\nL 161.188066 165.844381 \r\nL 161.334203 165.172713 \r\nL 161.626477 162.555003 \r\nL 161.772614 162.937101 \r\nL 161.918751 168.873882 \r\nL 162.064888 169.202937 \r\nL 162.211025 165.81437 \r\nL 162.357163 165.401777 \r\nL 162.5033 165.695765 \r\nL 162.649437 164.720107 \r\nL 162.795574 172.253198 \r\nL 162.941711 171.394401 \r\nL 163.380122 165.438416 \r\nL 163.526259 165.326143 \r\nL 163.672396 164.534536 \r\nL 163.818533 164.500425 \r\nL 164.110807 163.907249 \r\nL 164.256944 166.12983 \r\nL 164.549218 162.055377 \r\nL 164.695355 166.957668 \r\nL 164.841493 167.300006 \r\nL 164.98763 166.894028 \r\nL 165.279904 157.781323 \r\nL 165.426041 171.056629 \r\nL 165.572178 171.10475 \r\nL 165.718315 169.686468 \r\nL 165.864452 169.67131 \r\nL 166.010589 170.100056 \r\nL 166.302863 167.386617 \r\nL 166.449 167.960198 \r\nL 166.595137 166.500012 \r\nL 167.033548 167.260962 \r\nL 167.325823 169.995739 \r\nL 167.47196 169.34013 \r\nL 167.618097 169.465964 \r\nL 167.764234 169.393314 \r\nL 167.910371 169.038047 \r\nL 168.056508 169.496977 \r\nL 168.348782 169.551643 \r\nL 168.787193 173.924334 \r\nL 169.079467 174.094108 \r\nL 169.371741 173.5256 \r\nL 169.517878 173.694555 \r\nL 169.810152 174.402703 \r\nL 169.95629 174.287965 \r\nL 170.102427 174.794755 \r\nL 170.248564 175.820004 \r\nL 170.686975 174.386724 \r\nL 170.833112 175.155893 \r\nL 170.979249 171.887463 \r\nL 171.125386 172.895719 \r\nL 171.271523 172.624879 \r\nL 171.41766 172.674535 \r\nL 171.563797 173.061083 \r\nL 171.709934 172.4346 \r\nL 172.002208 170.946773 \r\nL 172.294482 169.414642 \r\nL 172.586757 169.898889 \r\nL 172.732894 171.12741 \r\nL 172.879031 171.246109 \r\nL 173.025168 171.646566 \r\nL 173.171305 168.742388 \r\nL 173.463579 168.701428 \r\nL 173.609716 169.164462 \r\nL 173.755853 171.212223 \r\nL 173.90199 170.670404 \r\nL 174.048127 167.92313 \r\nL 174.194264 167.761084 \r\nL 174.486538 167.662133 \r\nL 174.632675 167.541636 \r\nL 174.778812 167.912084 \r\nL 174.92495 138.699667 \r\nL 175.071087 138.412123 \r\nL 175.363361 135.180076 \r\nL 175.509498 135.663483 \r\nL 175.655635 137.811524 \r\nL 175.947909 137.922062 \r\nL 176.094046 138.53515 \r\nL 176.240183 143.108476 \r\nL 176.38632 142.878029 \r\nL 176.678594 143.749588 \r\nL 176.970868 147.515389 \r\nL 177.263142 143.117947 \r\nL 177.40928 144.376153 \r\nL 177.555417 142.195156 \r\nL 177.701554 143.275353 \r\nL 177.847691 142.684899 \r\nL 177.993828 144.081993 \r\nL 178.139965 151.298676 \r\nL 178.286102 143.412716 \r\nL 178.432239 143.522243 \r\nL 178.578376 142.640797 \r\nL 178.87065 143.969449 \r\nL 179.162924 144.969395 \r\nL 179.309061 145.379191 \r\nL 179.455198 147.44789 \r\nL 179.601335 151.105909 \r\nL 179.747472 151.678144 \r\nL 179.89361 149.921536 \r\nL 180.039747 150.406627 \r\nL 180.185884 141.146537 \r\nL 180.332021 140.96875 \r\nL 180.478158 144.404344 \r\nL 180.770432 143.214899 \r\nL 180.916569 143.017202 \r\nL 181.062706 141.588197 \r\nL 181.35498 143.576107 \r\nL 181.501117 142.34849 \r\nL 181.647254 144.676949 \r\nL 181.793391 143.966197 \r\nL 181.939528 147.888876 \r\nL 182.085665 147.818138 \r\nL 182.231802 148.813449 \r\nL 182.377939 148.757464 \r\nL 182.524077 144.522768 \r\nL 182.816351 157.408939 \r\nL 183.108625 154.593337 \r\nL 183.254762 154.432207 \r\nL 183.547036 172.483626 \r\nL 183.693173 144.150485 \r\nL 183.83931 141.267382 \r\nL 183.985447 142.214925 \r\nL 184.131584 141.498185 \r\nL 184.277721 143.357649 \r\nL 184.423858 147.639819 \r\nL 184.569995 145.376358 \r\nL 184.716132 146.469831 \r\nL 184.862269 145.799266 \r\nL 185.008407 136.882724 \r\nL 185.446818 137.818048 \r\nL 185.592955 134.88926 \r\nL 185.885229 140.182133 \r\nL 186.031366 140.541327 \r\nL 186.469777 139.50947 \r\nL 186.762051 126.812254 \r\nL 187.054325 119.738606 \r\nL 187.200462 119.778305 \r\nL 187.346599 121.942823 \r\nL 187.492737 122.052649 \r\nL 187.638874 121.418907 \r\nL 187.785011 125.867463 \r\nL 187.931148 126.273831 \r\nL 188.077285 125.030654 \r\nL 188.223422 125.910849 \r\nL 188.369559 98.003615 \r\nL 188.515696 95.121772 \r\nL 188.661833 95.657147 \r\nL 189.246381 90.209218 \r\nL 189.392518 92.541337 \r\nL 189.538655 91.233015 \r\nL 189.684792 90.986038 \r\nL 189.830929 83.672493 \r\nL 189.977067 84.059438 \r\nL 190.269341 86.553187 \r\nL 190.415478 85.271893 \r\nL 190.561615 86.669267 \r\nL 190.707752 81.483516 \r\nL 190.853889 81.631412 \r\nL 191.000026 82.416984 \r\nL 191.146163 82.333015 \r\nL 191.2923 81.247756 \r\nL 191.438437 84.512049 \r\nL 191.584574 84.262988 \r\nL 191.876848 84.961795 \r\nL 192.022985 85.054994 \r\nL 192.315259 90.263164 \r\nL 192.607534 90.374483 \r\nL 192.753671 90.926166 \r\nL 193.192082 88.616697 \r\nL 193.338219 88.751772 \r\nL 193.484356 88.511635 \r\nL 193.77663 89.03471 \r\nL 193.922767 86.682182 \r\nL 194.215041 85.781771 \r\nL 194.361178 83.458419 \r\nL 194.507315 83.796831 \r\nL 194.653452 92.287706 \r\nL 194.799589 91.15763 \r\nL 194.945726 91.617487 \r\nL 195.091864 91.263181 \r\nL 195.238001 88.000666 \r\nL 195.384138 89.63786 \r\nL 195.530275 89.624471 \r\nL 195.822549 88.619411 \r\nL 195.968686 89.200107 \r\nL 196.114823 88.32479 \r\nL 196.26096 86.441269 \r\nL 196.553234 86.522871 \r\nL 196.699371 86.471864 \r\nL 196.845508 88.47517 \r\nL 196.991645 88.80614 \r\nL 197.283919 88.597988 \r\nL 197.430056 86.785551 \r\nL 197.576194 86.584419 \r\nL 197.722331 86.825967 \r\nL 198.014605 85.256069 \r\nL 198.160742 86.437 \r\nL 198.306879 85.67624 \r\nL 198.599153 85.678789 \r\nL 198.74529 84.906123 \r\nL 199.037564 81.290109 \r\nL 199.329838 82.065855 \r\nL 199.475975 79.64092 \r\nL 199.622112 79.627197 \r\nL 199.768249 81.023775 \r\nL 199.914386 81.102929 \r\nL 200.060524 81.392999 \r\nL 200.206661 79.340382 \r\nL 200.352798 79.026637 \r\nL 200.498935 76.378939 \r\nL 200.791209 76.870182 \r\nL 200.937346 76.041958 \r\nL 201.083483 75.981345 \r\nL 201.22962 76.394707 \r\nL 201.668031 74.691244 \r\nL 201.814168 72.247175 \r\nL 202.106442 72.424198 \r\nL 202.252579 70.551707 \r\nL 202.398716 70.362247 \r\nL 202.544854 68.159457 \r\nL 202.837128 70.590775 \r\nL 203.129402 75.983285 \r\nL 203.275539 78.318395 \r\nL 203.421676 77.167663 \r\nL 203.567813 77.405993 \r\nL 203.71395 76.853198 \r\nL 203.860087 78.012973 \r\nL 204.152361 69.422229 \r\nL 204.298498 69.072527 \r\nL 204.590772 67.208373 \r\nL 204.736909 67.037289 \r\nL 204.883046 66.439829 \r\nL 205.029183 64.744189 \r\nL 205.175321 65.199118 \r\nL 205.321458 64.64205 \r\nL 205.613732 62.006431 \r\nL 205.759869 62.02301 \r\nL 205.906006 62.418387 \r\nL 206.052143 60.519074 \r\nL 206.19828 61.788481 \r\nL 206.490554 60.313274 \r\nL 206.636691 68.064118 \r\nL 206.928965 68.687945 \r\nL 207.221239 68.152472 \r\nL 207.513513 63.93627 \r\nL 207.659651 61.330179 \r\nL 207.805788 60.938486 \r\nL 207.951925 60.960212 \r\nL 208.098062 64.220384 \r\nL 208.244199 62.356872 \r\nL 208.390336 62.193408 \r\nL 208.536473 60.550041 \r\nL 208.68261 61.352793 \r\nL 208.828747 60.017254 \r\nL 208.974884 61.90845 \r\nL 209.413295 60.287729 \r\nL 209.705569 65.455734 \r\nL 209.997843 64.803576 \r\nL 210.290118 69.542423 \r\nL 210.436255 67.222671 \r\nL 210.728529 67.37993 \r\nL 211.020803 66.23827 \r\nL 211.459214 66.704299 \r\nL 211.605351 66.619228 \r\nL 212.043762 65.733839 \r\nL 212.189899 66.121401 \r\nL 212.336036 65.991478 \r\nL 212.628311 71.231584 \r\nL 212.774448 71.178917 \r\nL 212.920585 59.408833 \r\nL 213.066722 59.696364 \r\nL 213.212859 58.446667 \r\nL 213.358996 60.011462 \r\nL 213.505133 63.848236 \r\nL 213.65127 83.660853 \r\nL 213.797407 85.254825 \r\nL 213.943544 90.908884 \r\nL 214.089681 89.712105 \r\nL 214.235818 96.430284 \r\nL 214.381955 96.830175 \r\nL 214.528092 96.539517 \r\nL 214.674229 99.475436 \r\nL 214.820366 96.165598 \r\nL 214.966503 97.588933 \r\nL 215.11264 94.897991 \r\nL 215.258778 94.414379 \r\nL 215.404915 89.432581 \r\nL 215.551052 89.067539 \r\nL 215.697189 89.720867 \r\nL 215.843326 89.740355 \r\nL 215.989463 90.389316 \r\nL 216.281737 90.144953 \r\nL 216.427874 89.412981 \r\nL 216.574011 91.641187 \r\nL 216.720148 88.451254 \r\nL 216.866285 89.452993 \r\nL 217.012422 88.827456 \r\nL 217.304696 91.514954 \r\nL 217.59697 91.479519 \r\nL 218.035382 90.295099 \r\nL 218.181519 90.199027 \r\nL 218.327656 88.653312 \r\nL 218.61993 90.199534 \r\nL 218.766067 92.320717 \r\nL 218.912204 90.862875 \r\nL 219.058341 90.6289 \r\nL 219.204478 90.991335 \r\nL 219.350615 90.99261 \r\nL 219.496752 90.06583 \r\nL 219.642889 89.857726 \r\nL 219.935163 89.958533 \r\nL 220.0813 88.905869 \r\nL 220.227438 88.745784 \r\nL 220.373575 88.340218 \r\nL 220.519712 89.353329 \r\nL 220.665849 88.858429 \r\nL 220.811986 89.997374 \r\nL 220.958123 86.743367 \r\nL 221.10426 86.512314 \r\nL 221.396534 82.137422 \r\nL 221.542671 82.886222 \r\nL 221.688808 82.791554 \r\nL 221.834945 82.156127 \r\nL 221.981082 82.652946 \r\nL 222.127219 82.592997 \r\nL 222.419493 87.720093 \r\nL 222.56563 87.052348 \r\nL 222.711768 87.37219 \r\nL 222.857905 90.220791 \r\nL 223.004042 90.383207 \r\nL 223.150179 91.318922 \r\nL 223.296316 95.396445 \r\nL 223.442453 95.71278 \r\nL 223.58859 96.335373 \r\nL 223.734727 98.033749 \r\nL 223.880864 114.886889 \r\nL 224.027001 114.52943 \r\nL 224.173138 109.963565 \r\nL 224.319275 109.583964 \r\nL 224.757686 113.599552 \r\nL 224.903823 113.358769 \r\nL 225.196098 111.194837 \r\nL 225.634509 114.023019 \r\nL 225.780646 116.209686 \r\nL 225.926783 116.406622 \r\nL 226.07292 118.682001 \r\nL 226.219057 118.739214 \r\nL 226.365194 118.041649 \r\nL 226.511331 118.587579 \r\nL 226.657468 118.359266 \r\nL 226.803605 116.755799 \r\nL 226.949742 116.938312 \r\nL 227.095879 119.36159 \r\nL 227.242016 119.025994 \r\nL 227.388153 117.786523 \r\nL 227.680427 120.688502 \r\nL 227.826565 112.564889 \r\nL 227.972702 111.125134 \r\nL 228.118839 111.50513 \r\nL 228.264976 110.027337 \r\nL 228.411113 110.3539 \r\nL 228.703387 102.644634 \r\nL 228.849524 101.449886 \r\nL 228.995661 101.453865 \r\nL 229.141798 102.758934 \r\nL 229.287935 102.802005 \r\nL 229.872483 101.586887 \r\nL 230.01862 97.712714 \r\nL 230.164757 97.802933 \r\nL 230.457032 98.191119 \r\nL 230.603169 98.240292 \r\nL 230.749306 97.538446 \r\nL 231.04158 97.346361 \r\nL 231.187717 98.002527 \r\nL 231.333854 98.098029 \r\nL 231.479991 98.359117 \r\nL 231.772265 95.442408 \r\nL 231.918402 87.183406 \r\nL 232.064539 86.933046 \r\nL 232.210676 83.454681 \r\nL 232.356813 86.284565 \r\nL 232.50295 81.826666 \r\nL 232.649087 93.032034 \r\nL 232.795225 94.324725 \r\nL 232.941362 92.908126 \r\nL 233.087499 94.311691 \r\nL 233.233636 92.009047 \r\nL 233.379773 93.240147 \r\nL 233.52591 93.427555 \r\nL 233.672047 96.443153 \r\nL 233.964321 95.789558 \r\nL 234.110458 96.436355 \r\nL 234.256595 95.038632 \r\nL 234.548869 95.086489 \r\nL 234.841143 93.574702 \r\nL 234.98728 96.667357 \r\nL 235.133417 95.698853 \r\nL 235.279555 95.963799 \r\nL 235.425692 95.89154 \r\nL 235.571829 95.20681 \r\nL 235.717966 95.303918 \r\nL 235.864103 94.990069 \r\nL 236.01024 96.935185 \r\nL 236.156377 97.363274 \r\nL 236.302514 97.336578 \r\nL 236.448651 96.979559 \r\nL 236.740925 98.103144 \r\nL 237.033199 92.003115 \r\nL 237.325473 93.742192 \r\nL 237.47161 92.327682 \r\nL 237.617747 94.490972 \r\nL 237.763884 93.851014 \r\nL 237.910022 94.323765 \r\nL 238.056159 94.340867 \r\nL 238.202296 94.081465 \r\nL 238.348433 94.715047 \r\nL 238.49457 93.503136 \r\nL 238.640707 93.888836 \r\nL 238.932981 93.901681 \r\nL 239.079118 93.068996 \r\nL 239.225255 94.852209 \r\nL 239.371392 95.020355 \r\nL 239.517529 98.583139 \r\nL 239.809803 97.598538 \r\nL 239.95594 97.900223 \r\nL 240.248214 100.590101 \r\nL 240.394352 99.212528 \r\nL 240.540489 96.079931 \r\nL 240.686626 95.993685 \r\nL 240.832763 96.130791 \r\nL 240.9789 104.067131 \r\nL 241.125037 98.442832 \r\nL 241.271174 98.368947 \r\nL 241.417311 104.532623 \r\nL 241.563448 102.548344 \r\nL 241.709585 102.198972 \r\nL 241.855722 102.495899 \r\nL 242.001859 100.340982 \r\nL 242.147996 85.992943 \r\nL 242.294133 84.89782 \r\nL 242.586407 87.346698 \r\nL 242.878682 83.847907 \r\nL 243.024819 82.77489 \r\nL 243.170956 79.934326 \r\nL 243.317093 81.627999 \r\nL 243.46323 85.840848 \r\nL 243.609367 84.214842 \r\nL 243.901641 86.374989 \r\nL 244.047778 86.15618 \r\nL 244.193915 86.070104 \r\nL 244.340052 84.627692 \r\nL 244.778463 85.059602 \r\nL 244.9246 85.491293 \r\nL 245.216874 86.685421 \r\nL 245.509149 85.953875 \r\nL 245.655286 86.442589 \r\nL 245.94756 82.432595 \r\nL 246.093697 86.669574 \r\nL 246.239834 87.11749 \r\nL 246.385971 86.441934 \r\nL 246.532108 90.121921 \r\nL 246.678245 87.704924 \r\nL 246.824382 96.722873 \r\nL 246.970519 98.409636 \r\nL 247.116656 98.099915 \r\nL 247.262793 98.080905 \r\nL 247.40893 95.905699 \r\nL 247.555067 103.485048 \r\nL 247.701204 96.47297 \r\nL 247.847341 95.451487 \r\nL 248.285753 114.239798 \r\nL 248.43189 114.421097 \r\nL 248.578027 112.049013 \r\nL 248.724164 112.521672 \r\nL 249.016438 86.696638 \r\nL 249.162575 86.312019 \r\nL 249.454849 89.698559 \r\nL 249.747123 80.180189 \r\nL 249.89326 81.060527 \r\nL 250.185534 83.918959 \r\nL 250.331671 60.486583 \r\nL 250.477809 62.692408 \r\nL 250.770083 58.441002 \r\nL 250.91622 53.230607 \r\nL 251.354631 48.763893 \r\nL 251.500768 49.062316 \r\nL 251.646905 49.185426 \r\nL 251.793042 48.657845 \r\nL 251.939179 45.086206 \r\nL 252.085316 45.212948 \r\nL 252.37759 48.263482 \r\nL 252.523727 48.555869 \r\nL 252.816001 46.349869 \r\nL 253.108276 44.671453 \r\nL 253.254413 44.30293 \r\nL 253.40055 44.469585 \r\nL 253.985098 42.533119 \r\nL 254.131235 42.523461 \r\nL 254.277372 40.948637 \r\nL 254.423509 40.950267 \r\nL 254.715783 39.01887 \r\nL 254.86192 40.276641 \r\nL 255.008057 40.146878 \r\nL 255.154194 40.347171 \r\nL 255.300331 41.066226 \r\nL 255.446469 39.328668 \r\nL 255.738743 38.837482 \r\nL 256.031017 37.443441 \r\nL 256.177154 36.854524 \r\nL 256.323291 36.775176 \r\nL 256.469428 36.908616 \r\nL 256.615565 36.878547 \r\nL 256.761702 37.074064 \r\nL 256.907839 36.968859 \r\nL 257.053976 36.142107 \r\nL 257.34625 36.096761 \r\nL 257.492387 36.215438 \r\nL 257.638524 36.547605 \r\nL 257.784661 36.157428 \r\nL 258.223073 36.288248 \r\nL 258.36921 36.235889 \r\nL 258.515347 35.641861 \r\nL 258.807621 35.844663 \r\nL 258.953758 35.502546 \r\nL 259.099895 35.615064 \r\nL 259.246032 33.88173 \r\nL 259.392169 34.090352 \r\nL 259.538306 34.51198 \r\nL 259.684443 32.01879 \r\nL 259.976717 32.325615 \r\nL 260.122854 31.911063 \r\nL 260.268991 31.98029 \r\nL 260.415128 31.79653 \r\nL 260.561266 31.863176 \r\nL 260.85354 30.689305 \r\nL 260.999677 36.418397 \r\nL 261.145814 36.393529 \r\nL 261.291951 36.506608 \r\nL 261.438088 36.87075 \r\nL 261.584225 36.507485 \r\nL 261.730362 35.707798 \r\nL 261.876499 35.780664 \r\nL 262.022636 36.617524 \r\nL 262.168773 36.355308 \r\nL 262.31491 36.471622 \r\nL 262.461047 36.333569 \r\nL 262.607184 36.039873 \r\nL 262.899458 36.066079 \r\nL 263.484007 35.903867 \r\nL 263.630144 35.272642 \r\nL 263.922418 35.341703 \r\nL 264.068555 35.51652 \r\nL 264.214692 35.241203 \r\nL 264.360829 36.609535 \r\nL 264.653103 36.618416 \r\nL 264.79924 35.971538 \r\nL 264.945377 36.33902 \r\nL 265.091514 35.663141 \r\nL 265.237651 35.673064 \r\nL 265.383788 35.258399 \r\nL 265.676063 35.155585 \r\nL 265.8222 32.320305 \r\nL 266.114474 34.929792 \r\nL 266.552885 32.199581 \r\nL 266.699022 32.338158 \r\nL 266.845159 32.810219 \r\nL 266.991296 32.688594 \r\nL 267.137433 32.953626 \r\nL 267.28357 33.703535 \r\nL 267.429707 33.821752 \r\nL 267.721981 32.887131 \r\nL 267.868118 33.02877 \r\nL 268.014256 34.343146 \r\nL 268.160393 34.645988 \r\nL 268.30653 33.859381 \r\nL 268.452667 34.633096 \r\nL 268.598804 38.938574 \r\nL 268.744941 38.029992 \r\nL 268.891078 38.212553 \r\nL 269.037215 38.837907 \r\nL 269.183352 38.850276 \r\nL 269.475626 39.352765 \r\nL 269.621763 42.175202 \r\nL 269.7679 42.413814 \r\nL 270.060174 43.222652 \r\nL 270.206311 45.865247 \r\nL 270.352448 45.786936 \r\nL 270.498585 44.050301 \r\nL 270.644723 47.393733 \r\nL 270.79086 47.236487 \r\nL 271.083134 49.383233 \r\nL 271.521545 52.385135 \r\nL 271.667682 52.176387 \r\nL 272.398367 56.609644 \r\nL 272.544504 59.339222 \r\nL 272.690641 59.480027 \r\nL 272.982915 64.919082 \r\nL 273.129053 63.371746 \r\nL 273.27519 63.745961 \r\nL 273.421327 63.429394 \r\nL 273.567464 62.787971 \r\nL 273.713601 67.150056 \r\nL 273.859738 66.994068 \r\nL 274.298149 69.526774 \r\nL 274.590423 71.302997 \r\nL 275.028834 73.692154 \r\nL 275.174971 73.930863 \r\nL 275.467245 77.364949 \r\nL 275.905657 78.239979 \r\nL 276.197931 78.087293 \r\nL 276.490205 78.651694 \r\nL 276.636342 77.559857 \r\nL 276.782479 77.842459 \r\nL 276.928616 77.66601 \r\nL 277.074753 77.670698 \r\nL 277.22089 79.380939 \r\nL 277.367027 79.027991 \r\nL 277.513164 79.094517 \r\nL 277.659301 80.716892 \r\nL 277.805438 79.337808 \r\nL 277.951575 80.083757 \r\nL 278.097713 79.763381 \r\nL 278.24385 78.92808 \r\nL 278.389987 80.378455 \r\nL 278.682261 80.48169 \r\nL 278.828398 79.504804 \r\nL 278.974535 83.759632 \r\nL 279.120672 84.677768 \r\nL 279.266809 76.784506 \r\nL 279.412946 76.829856 \r\nL 279.70522 76.38559 \r\nL 279.997494 76.851644 \r\nL 280.143631 86.464713 \r\nL 280.289768 84.838548 \r\nL 280.435905 85.66718 \r\nL 280.582043 85.82715 \r\nL 280.72818 86.519206 \r\nL 280.874317 87.788244 \r\nL 281.020454 87.422956 \r\nL 281.166591 89.08701 \r\nL 281.312728 89.149192 \r\nL 281.458865 89.017817 \r\nL 281.605002 89.330745 \r\nL 281.751139 89.267462 \r\nL 281.897276 92.310089 \r\nL 282.043413 92.082451 \r\nL 282.18955 92.409515 \r\nL 282.335687 92.126119 \r\nL 282.481824 94.259328 \r\nL 282.627961 90.335402 \r\nL 282.774098 90.701202 \r\nL 282.920235 91.89306 \r\nL 283.066372 91.797528 \r\nL 283.21251 92.380213 \r\nL 283.358647 92.079805 \r\nL 283.504784 92.134458 \r\nL 283.650921 96.978174 \r\nL 283.797058 96.953074 \r\nL 283.943195 97.243965 \r\nL 284.089332 106.506257 \r\nL 284.235469 104.887832 \r\nL 284.527743 97.344146 \r\nL 284.67388 97.245824 \r\nL 284.820017 99.588863 \r\nL 284.966154 99.015025 \r\nL 285.258428 97.209405 \r\nL 285.404565 108.691991 \r\nL 285.550702 110.249537 \r\nL 285.69684 110.528456 \r\nL 286.281388 121.273721 \r\nL 286.427525 122.675586 \r\nL 286.573662 120.886084 \r\nL 286.719799 116.75989 \r\nL 286.865936 116.503488 \r\nL 287.012073 114.838841 \r\nL 287.15821 115.430381 \r\nL 287.304347 113.437964 \r\nL 287.450484 113.599974 \r\nL 287.596621 116.042438 \r\nL 287.742758 116.028846 \r\nL 287.888895 111.718923 \r\nL 288.035032 112.718644 \r\nL 288.18117 110.588088 \r\nL 288.473444 115.912663 \r\nL 288.765718 117.718681 \r\nL 288.911855 110.832043 \r\nL 289.057992 113.023715 \r\nL 289.204129 112.821105 \r\nL 289.496403 115.452733 \r\nL 289.64254 129.233864 \r\nL 289.788677 128.039299 \r\nL 289.934814 128.018511 \r\nL 290.080951 124.020302 \r\nL 290.227088 126.762287 \r\nL 290.373225 122.994132 \r\nL 290.519362 122.98282 \r\nL 290.6655 121.621248 \r\nL 290.811637 121.952774 \r\nL 290.957774 121.831047 \r\nL 291.103911 120.453728 \r\nL 291.396185 120.705915 \r\nL 291.542322 120.509964 \r\nL 291.688459 124.745858 \r\nL 291.834596 124.732422 \r\nL 291.980733 126.344143 \r\nL 292.273007 131.81862 \r\nL 292.419144 131.57234 \r\nL 292.565281 132.621938 \r\nL 292.711418 135.112141 \r\nL 292.857555 135.027517 \r\nL 293.003692 131.919419 \r\nL 293.149829 131.736401 \r\nL 293.295967 128.474018 \r\nL 293.442104 128.480302 \r\nL 293.734378 125.55652 \r\nL 293.880515 126.13745 \r\nL 294.026652 125.26776 \r\nL 294.318926 120.546497 \r\nL 294.465063 120.063228 \r\nL 294.757337 118.148271 \r\nL 294.903474 124.323684 \r\nL 295.049611 124.140467 \r\nL 295.195748 124.208439 \r\nL 295.341885 123.333494 \r\nL 295.488022 123.182483 \r\nL 295.634159 124.001672 \r\nL 295.926434 124.235067 \r\nL 296.072571 129.96105 \r\nL 296.218708 129.96105 \r\nL 296.364845 129.710496 \r\nL 296.510982 134.862709 \r\nL 296.657119 135.084977 \r\nL 296.803256 133.127722 \r\nL 296.949393 133.313783 \r\nL 297.09553 138.066881 \r\nL 297.241667 137.563534 \r\nL 297.387804 146.995729 \r\nL 297.533941 148.473558 \r\nL 297.680078 148.531012 \r\nL 297.826215 149.641795 \r\nL 298.118489 148.656258 \r\nL 298.264627 154.793064 \r\nL 298.410764 132.146138 \r\nL 298.703038 128.635927 \r\nL 298.995312 119.985858 \r\nL 299.141449 112.745674 \r\nL 299.433723 113.900324 \r\nL 299.57986 113.737327 \r\nL 299.872134 111.107496 \r\nL 300.018271 111.146978 \r\nL 300.310545 115.344591 \r\nL 300.456682 109.136968 \r\nL 300.602819 108.36501 \r\nL 300.748957 110.524123 \r\nL 300.895094 111.005245 \r\nL 301.041231 110.886454 \r\nL 301.187368 110.177742 \r\nL 301.333505 113.802191 \r\nL 301.479642 113.407638 \r\nL 301.625779 111.025194 \r\nL 301.918053 110.425694 \r\nL 302.06419 110.928355 \r\nL 302.210327 110.799663 \r\nL 302.356464 113.994487 \r\nL 302.502601 113.632629 \r\nL 302.648738 114.093671 \r\nL 302.794875 115.891479 \r\nL 302.941012 115.11362 \r\nL 303.087149 117.606149 \r\nL 303.233287 116.917403 \r\nL 303.379424 117.29362 \r\nL 303.525561 118.960471 \r\nL 303.817835 119.202756 \r\nL 304.110109 117.008271 \r\nL 304.402383 116.763061 \r\nL 304.54852 117.343747 \r\nL 304.694657 116.982027 \r\nL 304.840794 114.691043 \r\nL 305.133068 116.267773 \r\nL 305.425342 115.557894 \r\nL 305.571479 124.302514 \r\nL 305.717616 124.537426 \r\nL 305.863754 119.380255 \r\nL 306.009891 121.541821 \r\nL 306.156028 121.348854 \r\nL 306.302165 123.127957 \r\nL 306.448302 122.319311 \r\nL 306.594439 122.528632 \r\nL 306.886713 122.008155 \r\nL 307.03285 121.157851 \r\nL 307.178987 121.270012 \r\nL 307.325124 119.455154 \r\nL 307.471261 119.271801 \r\nL 307.763535 115.26562 \r\nL 308.055809 74.856423 \r\nL 308.201946 74.521412 \r\nL 308.348084 77.347243 \r\nL 308.494221 75.56836 \r\nL 308.640358 81.1002 \r\nL 308.786495 82.191126 \r\nL 308.932632 81.802987 \r\nL 309.078769 79.736814 \r\nL 309.224906 82.087388 \r\nL 309.371043 80.231256 \r\nL 309.51718 81.355123 \r\nL 309.663317 77.098275 \r\nL 309.809454 76.679571 \r\nL 309.955591 67.800268 \r\nL 310.101728 66.076055 \r\nL 310.394002 59.626776 \r\nL 310.540139 58.395343 \r\nL 310.686276 58.885783 \r\nL 310.832414 58.854383 \r\nL 310.978551 59.408919 \r\nL 311.124688 59.504875 \r\nL 311.270825 58.910538 \r\nL 311.416962 52.834285 \r\nL 311.563099 58.562874 \r\nL 311.709236 57.790455 \r\nL 311.855373 58.799052 \r\nL 312.00151 63.742321 \r\nL 312.147647 57.747041 \r\nL 312.439921 57.85319 \r\nL 312.586058 61.126929 \r\nL 312.732195 59.315223 \r\nL 312.878332 59.842427 \r\nL 313.024469 55.415084 \r\nL 313.170606 54.943234 \r\nL 313.316744 56.716325 \r\nL 313.462881 56.617006 \r\nL 313.755155 59.240616 \r\nL 313.901292 59.338076 \r\nL 314.047429 57.369296 \r\nL 314.193566 57.623983 \r\nL 314.48584 57.654397 \r\nL 314.631977 58.008893 \r\nL 315.070388 57.998856 \r\nL 315.362662 60.819017 \r\nL 315.508799 57.474226 \r\nL 315.801073 56.810918 \r\nL 315.947211 57.389849 \r\nL 316.093348 56.57663 \r\nL 316.239485 57.408793 \r\nL 316.531759 55.508129 \r\nL 316.677896 55.800644 \r\nL 316.824033 57.772179 \r\nL 316.97017 57.492529 \r\nL 317.262444 59.379442 \r\nL 317.408581 59.698222 \r\nL 317.554718 59.59961 \r\nL 318.139266 56.54177 \r\nL 318.431541 55.943193 \r\nL 318.577678 55.052977 \r\nL 318.723815 57.340513 \r\nL 318.869952 57.567104 \r\nL 319.016089 56.683385 \r\nL 319.162226 56.908798 \r\nL 319.308363 58.98645 \r\nL 319.746774 60.125621 \r\nL 320.185185 63.182936 \r\nL 320.331322 62.881151 \r\nL 320.477459 62.973369 \r\nL 320.623596 62.903965 \r\nL 320.769733 63.2576 \r\nL 320.915871 62.628866 \r\nL 321.062008 62.601549 \r\nL 321.208145 63.21486 \r\nL 321.354282 61.283943 \r\nL 321.646556 61.119533 \r\nL 321.93883 60.257678 \r\nL 322.084967 60.412418 \r\nL 322.231104 59.584398 \r\nL 322.377241 59.743934 \r\nL 322.523378 59.124573 \r\nL 322.669515 59.121991 \r\nL 322.815652 58.78425 \r\nL 322.961789 59.094095 \r\nL 323.107926 59.02699 \r\nL 323.254063 59.393848 \r\nL 323.400201 63.766115 \r\nL 323.692475 64.004117 \r\nL 324.130886 62.715462 \r\nL 324.277023 62.663861 \r\nL 324.42316 62.812762 \r\nL 324.715434 61.631219 \r\nL 325.007708 61.908983 \r\nL 325.153845 61.618498 \r\nL 325.299982 60.941378 \r\nL 325.446119 61.272959 \r\nL 325.592256 61.196385 \r\nL 325.738393 60.140163 \r\nL 326.030668 60.82635 \r\nL 326.176805 60.41909 \r\nL 326.322942 60.360458 \r\nL 326.615216 60.869132 \r\nL 326.761353 60.866695 \r\nL 327.199764 57.335324 \r\nL 327.492038 56.854646 \r\nL 327.784312 57.886203 \r\nL 327.930449 61.886509 \r\nL 328.076586 62.418859 \r\nL 328.514998 67.801635 \r\nL 328.661135 67.579226 \r\nL 328.953409 70.395047 \r\nL 329.099546 71.144486 \r\nL 329.245683 71.15438 \r\nL 329.537957 72.315349 \r\nL 329.684094 77.39825 \r\nL 329.830231 73.574076 \r\nL 329.976368 74.57788 \r\nL 330.122505 74.420641 \r\nL 330.268642 71.890495 \r\nL 330.414779 76.385147 \r\nL 330.560916 76.85584 \r\nL 330.707053 76.943307 \r\nL 330.85319 72.797411 \r\nL 330.999328 74.25639 \r\nL 331.145465 73.985977 \r\nL 331.437739 81.361221 \r\nL 331.730013 77.029115 \r\nL 332.022287 72.769852 \r\nL 332.168424 72.812875 \r\nL 332.314561 76.452895 \r\nL 332.460698 76.435931 \r\nL 332.606835 76.928882 \r\nL 332.899109 76.504114 \r\nL 333.191383 77.864937 \r\nL 333.33752 78.53344 \r\nL 333.483658 76.308042 \r\nL 333.629795 76.521561 \r\nL 333.775932 83.776005 \r\nL 333.922069 84.762021 \r\nL 334.214343 83.613867 \r\nL 334.36048 83.883925 \r\nL 334.506617 82.990077 \r\nL 334.652754 84.581099 \r\nL 334.798891 84.361166 \r\nL 335.091165 81.173946 \r\nL 335.237302 82.103308 \r\nL 335.383439 81.65382 \r\nL 335.675713 91.632728 \r\nL 335.82185 92.077259 \r\nL 336.114125 93.798218 \r\nL 336.260262 98.437005 \r\nL 336.406399 97.655412 \r\nL 336.698673 98.915531 \r\nL 336.84481 99.081062 \r\nL 336.990947 98.420028 \r\nL 337.137084 99.251601 \r\nL 337.283221 101.918374 \r\nL 337.429358 102.363178 \r\nL 337.575495 98.824856 \r\nL 337.721632 98.484307 \r\nL 337.867769 92.054979 \r\nL 338.160043 93.180334 \r\nL 338.30618 90.077974 \r\nL 338.452317 91.637103 \r\nL 338.598455 91.783307 \r\nL 338.744592 91.34759 \r\nL 338.890729 92.359794 \r\nL 339.036866 92.01004 \r\nL 339.32914 96.971738 \r\nL 339.475277 96.539338 \r\nL 339.767551 97.002281 \r\nL 339.913688 98.092453 \r\nL 340.059825 96.817077 \r\nL 340.205962 97.987396 \r\nL 340.352099 95.466006 \r\nL 340.498236 96.815966 \r\nL 340.644373 96.82242 \r\nL 340.79051 101.751794 \r\nL 340.936647 101.932682 \r\nL 341.228922 100.880629 \r\nL 341.375059 102.51712 \r\nL 341.81347 97.64846 \r\nL 341.959607 97.720304 \r\nL 342.105744 93.995204 \r\nL 342.251881 93.386388 \r\nL 342.398018 94.265912 \r\nL 342.544155 93.321104 \r\nL 342.690292 89.23827 \r\nL 342.982566 93.027334 \r\nL 343.128703 90.20805 \r\nL 343.27484 89.863208 \r\nL 343.420977 90.130256 \r\nL 343.567115 89.319125 \r\nL 343.713252 89.428512 \r\nL 343.859389 90.540866 \r\nL 344.005526 93.138425 \r\nL 344.151663 92.832913 \r\nL 344.443937 92.041949 \r\nL 344.590074 92.086711 \r\nL 345.028485 94.422919 \r\nL 345.174622 93.692082 \r\nL 345.320759 94.206755 \r\nL 345.466896 97.705457 \r\nL 345.75917 98.531101 \r\nL 345.905307 98.726542 \r\nL 346.051445 96.827948 \r\nL 346.343719 87.826108 \r\nL 346.489856 89.179687 \r\nL 346.635993 87.172813 \r\nL 346.928267 86.806471 \r\nL 347.220541 82.164173 \r\nL 347.366678 86.974352 \r\nL 347.512815 86.926821 \r\nL 347.658952 85.539906 \r\nL 347.805089 88.763254 \r\nL 347.951226 88.347885 \r\nL 348.097363 90.001529 \r\nL 348.2435 90.387048 \r\nL 348.389637 92.306446 \r\nL 348.535774 90.877749 \r\nL 348.681912 91.974023 \r\nL 348.974186 89.370618 \r\nL 349.120323 93.19229 \r\nL 349.26646 93.510437 \r\nL 349.412597 93.505209 \r\nL 349.558734 92.851793 \r\nL 349.704871 91.163779 \r\nL 349.851008 90.848379 \r\nL 350.143282 101.739602 \r\nL 350.289419 101.677446 \r\nL 350.435556 101.768206 \r\nL 350.581693 100.587296 \r\nL 350.72783 95.4912 \r\nL 351.020104 94.09286 \r\nL 351.166242 97.428788 \r\nL 351.312379 96.523566 \r\nL 351.458516 94.062274 \r\nL 351.604653 94.683268 \r\nL 351.75079 93.961542 \r\nL 351.896927 94.948261 \r\nL 352.043064 94.933123 \r\nL 352.189201 92.029828 \r\nL 352.481475 92.039452 \r\nL 352.919886 89.856653 \r\nL 353.066023 90.013259 \r\nL 353.21216 88.675802 \r\nL 353.358297 88.661216 \r\nL 353.504434 85.958244 \r\nL 353.650572 87.541833 \r\nL 353.796709 79.581618 \r\nL 353.942846 81.391079 \r\nL 354.23512 80.607915 \r\nL 354.381257 82.206434 \r\nL 354.527394 80.655233 \r\nL 354.673531 82.546218 \r\nL 354.819668 82.324225 \r\nL 354.965805 81.660979 \r\nL 355.111942 81.720701 \r\nL 355.258079 81.536437 \r\nL 355.404216 79.844155 \r\nL 355.550353 79.917713 \r\nL 355.69649 76.883446 \r\nL 355.988764 79.649473 \r\nL 356.281039 87.54803 \r\nL 356.427176 88.698882 \r\nL 356.573313 84.509399 \r\nL 356.71945 85.57584 \r\nL 356.865587 85.150841 \r\nL 357.011724 85.514518 \r\nL 357.157861 84.00514 \r\nL 357.303998 83.730442 \r\nL 357.450135 74.502091 \r\nL 357.596272 73.248226 \r\nL 358.034683 50.648287 \r\nL 358.18082 46.64934 \r\nL 358.326957 46.810319 \r\nL 358.473094 46.253487 \r\nL 358.619232 47.325095 \r\nL 358.911506 47.368696 \r\nL 359.057643 45.271374 \r\nL 359.20378 45.242426 \r\nL 359.349917 43.718071 \r\nL 359.496054 43.601324 \r\nL 359.788328 42.387804 \r\nL 359.934465 41.56494 \r\nL 360.080602 42.086211 \r\nL 360.226739 42.188371 \r\nL 360.372876 42.516989 \r\nL 360.66515 42.226453 \r\nL 360.811287 42.371598 \r\nL 361.103561 43.183207 \r\nL 361.249699 42.522099 \r\nL 361.395836 42.956619 \r\nL 361.541973 42.958256 \r\nL 361.980384 41.580499 \r\nL 362.272658 42.189227 \r\nL 362.564932 38.896673 \r\nL 362.711069 39.103822 \r\nL 362.857206 38.967539 \r\nL 363.003343 38.646873 \r\nL 363.295617 39.918995 \r\nL 363.441754 39.214507 \r\nL 363.587891 39.292364 \r\nL 364.026303 37.257683 \r\nL 364.17244 37.065156 \r\nL 364.318577 36.43674 \r\nL 364.464714 36.386977 \r\nL 364.610851 37.074279 \r\nL 364.756988 36.484513 \r\nL 364.903125 37.218056 \r\nL 364.903125 37.218056 \r\n\" style=\"fill:none;stroke:#ff7f0e;stroke-linecap:square;stroke-width:1.5;\"/>\r\n   </g>\r\n   <g id=\"line2d_48\">\r\n    <path clip-path=\"url(#pcbe2a2e957)\" d=\"M 45.301379 74.017565 \r\nL 45.447516 74.214897 \r\nL 45.593653 73.526863 \r\nL 45.885927 73.507643 \r\nL 46.032064 72.916532 \r\nL 46.616613 75.430172 \r\nL 46.76275 74.675704 \r\nL 46.908887 74.681 \r\nL 47.055024 74.369805 \r\nL 47.201161 74.333125 \r\nL 47.347298 75.814696 \r\nL 47.493435 75.953688 \r\nL 47.639572 75.139201 \r\nL 47.785709 75.139904 \r\nL 47.931846 76.370098 \r\nL 48.077983 76.410015 \r\nL 48.22412 76.164585 \r\nL 48.370257 76.574917 \r\nL 48.516394 76.149539 \r\nL 48.662531 78.790713 \r\nL 48.808668 75.892856 \r\nL 48.954805 75.964338 \r\nL 49.100943 77.427851 \r\nL 49.24708 76.4586 \r\nL 49.685491 81.529811 \r\nL 49.831628 80.392608 \r\nL 50.123902 82.309901 \r\nL 50.854587 89.526381 \r\nL 51.000724 89.669052 \r\nL 51.146861 85.178857 \r\nL 51.292998 87.346186 \r\nL 51.73141 84.222212 \r\nL 51.877547 84.215328 \r\nL 52.023684 84.744642 \r\nL 52.169821 84.823258 \r\nL 52.315958 85.260121 \r\nL 52.462095 85.273898 \r\nL 52.608232 87.28749 \r\nL 52.754369 85.534262 \r\nL 52.900506 86.168321 \r\nL 53.046643 86.250767 \r\nL 53.19278 86.687741 \r\nL 53.338917 86.011103 \r\nL 53.485054 86.17386 \r\nL 53.631191 87.166628 \r\nL 53.777328 87.141761 \r\nL 54.21574 89.089121 \r\nL 54.361877 88.043544 \r\nL 54.508014 84.747171 \r\nL 54.654151 85.113463 \r\nL 54.946425 86.837912 \r\nL 55.092562 87.024091 \r\nL 55.238699 88.741364 \r\nL 55.530973 83.58454 \r\nL 55.67711 83.784697 \r\nL 55.823247 83.3604 \r\nL 55.969384 85.888043 \r\nL 56.115521 85.223755 \r\nL 56.553933 87.731536 \r\nL 56.70007 91.417685 \r\nL 56.992344 92.670224 \r\nL 57.138481 92.139902 \r\nL 57.284618 91.158922 \r\nL 57.576892 95.728512 \r\nL 57.723029 92.565408 \r\nL 57.869166 94.243888 \r\nL 58.307577 88.796125 \r\nL 58.453714 84.827059 \r\nL 58.599851 85.172641 \r\nL 58.745988 85.150087 \r\nL 58.892125 87.472206 \r\nL 59.038262 87.539518 \r\nL 59.330537 89.854504 \r\nL 59.476674 90.950024 \r\nL 59.622811 90.882001 \r\nL 59.768948 93.449746 \r\nL 59.915085 92.223469 \r\nL 60.207359 93.895612 \r\nL 60.353496 97.121649 \r\nL 60.791907 88.520486 \r\nL 60.938044 92.122385 \r\nL 61.084181 91.784323 \r\nL 61.376455 87.761913 \r\nL 61.522592 98.495987 \r\nL 61.66873 99.709981 \r\nL 61.961004 98.578252 \r\nL 62.107141 98.848022 \r\nL 62.253278 99.444768 \r\nL 62.399415 98.628715 \r\nL 62.545552 101.552662 \r\nL 62.691689 101.409182 \r\nL 62.983963 103.178663 \r\nL 63.276237 101.674318 \r\nL 63.422374 104.505873 \r\nL 63.568511 103.252064 \r\nL 63.714648 103.334547 \r\nL 63.860785 105.149763 \r\nL 64.006922 105.076785 \r\nL 64.15306 105.460098 \r\nL 64.299197 107.300006 \r\nL 64.591471 105.618188 \r\nL 64.737608 102.487778 \r\nL 64.883745 102.902429 \r\nL 65.029882 105.395305 \r\nL 65.176019 105.367478 \r\nL 65.468293 105.743394 \r\nL 65.760567 106.290876 \r\nL 65.906704 108.846919 \r\nL 66.052841 108.762102 \r\nL 66.198978 105.628744 \r\nL 66.345115 105.183649 \r\nL 66.491252 106.493418 \r\nL 66.63739 103.862207 \r\nL 66.783527 105.396902 \r\nL 66.929664 105.637587 \r\nL 67.075801 106.19764 \r\nL 67.221938 105.722998 \r\nL 67.368075 106.403905 \r\nL 67.514212 106.449302 \r\nL 67.806486 98.153755 \r\nL 67.952623 96.662243 \r\nL 68.09876 98.334319 \r\nL 68.244897 97.563362 \r\nL 68.391034 92.6337 \r\nL 68.537171 93.488892 \r\nL 68.683308 95.238771 \r\nL 68.829445 90.547312 \r\nL 68.975582 90.836006 \r\nL 69.12172 93.451584 \r\nL 69.267857 93.838411 \r\nL 69.413994 94.78651 \r\nL 69.706268 99.175948 \r\nL 69.852405 99.184399 \r\nL 69.998542 101.460627 \r\nL 70.290816 100.451837 \r\nL 70.436953 101.086598 \r\nL 70.875364 96.377997 \r\nL 71.167638 97.742154 \r\nL 71.459912 98.627867 \r\nL 72.044461 103.162037 \r\nL 72.190598 101.95972 \r\nL 72.336735 99.57343 \r\nL 72.482872 99.815442 \r\nL 72.629009 102.337716 \r\nL 72.921283 101.496676 \r\nL 73.06742 99.622284 \r\nL 73.651968 103.972404 \r\nL 73.798105 103.778483 \r\nL 74.236517 105.660259 \r\nL 74.382654 105.823512 \r\nL 74.528791 105.491107 \r\nL 74.674928 105.656592 \r\nL 74.821065 106.534651 \r\nL 75.113339 109.288391 \r\nL 75.259476 107.020145 \r\nL 75.55175 99.485217 \r\nL 75.844024 100.328247 \r\nL 76.136298 97.442218 \r\nL 76.428572 93.366908 \r\nL 76.574709 94.778396 \r\nL 76.866984 101.475049 \r\nL 77.013121 102.994895 \r\nL 77.159258 102.710926 \r\nL 77.305395 102.780212 \r\nL 77.451532 103.47246 \r\nL 77.597669 103.435889 \r\nL 77.889943 101.313298 \r\nL 78.03608 101.468224 \r\nL 78.182217 101.05225 \r\nL 78.474491 103.382784 \r\nL 78.766765 101.6332 \r\nL 78.912902 108.212308 \r\nL 79.059039 108.797985 \r\nL 79.205177 107.213744 \r\nL 79.351314 107.050408 \r\nL 79.497451 105.014826 \r\nL 79.643588 106.833715 \r\nL 79.789725 96.527061 \r\nL 79.935862 97.350265 \r\nL 80.081999 97.187179 \r\nL 80.228136 99.130151 \r\nL 80.52041 93.362662 \r\nL 80.666547 93.917383 \r\nL 80.812684 91.367409 \r\nL 80.958821 91.269346 \r\nL 81.251095 88.399252 \r\nL 81.543369 86.035137 \r\nL 81.981781 87.477223 \r\nL 82.127918 88.707002 \r\nL 82.274055 86.828504 \r\nL 82.420192 90.11929 \r\nL 82.712466 90.280589 \r\nL 82.858603 91.080108 \r\nL 83.00474 90.612102 \r\nL 83.150877 86.574651 \r\nL 83.297014 87.284256 \r\nL 83.589288 89.681052 \r\nL 83.735425 90.589435 \r\nL 83.881562 88.547736 \r\nL 84.027699 88.433802 \r\nL 84.173836 86.917365 \r\nL 84.319974 88.352819 \r\nL 84.466111 87.29398 \r\nL 84.612248 88.112687 \r\nL 84.758385 86.607209 \r\nL 84.904522 87.733902 \r\nL 85.050659 87.529384 \r\nL 85.196796 87.009165 \r\nL 85.342933 86.963992 \r\nL 85.48907 87.734058 \r\nL 85.781344 87.694401 \r\nL 85.927481 88.773514 \r\nL 86.073618 88.688794 \r\nL 86.219755 87.685717 \r\nL 86.365892 87.512542 \r\nL 86.512029 87.906825 \r\nL 86.658166 90.704125 \r\nL 86.804304 89.937189 \r\nL 86.950441 89.780356 \r\nL 87.534989 97.173281 \r\nL 87.827263 94.878295 \r\nL 88.119537 95.131205 \r\nL 88.265674 94.889722 \r\nL 88.411811 96.749367 \r\nL 88.557948 96.709188 \r\nL 88.996359 102.66737 \r\nL 89.142496 101.150158 \r\nL 89.288634 101.569741 \r\nL 89.580908 100.339395 \r\nL 89.727045 100.75284 \r\nL 89.873182 100.772292 \r\nL 90.019319 100.541761 \r\nL 90.311593 98.182972 \r\nL 90.603867 106.769846 \r\nL 90.750004 105.602365 \r\nL 90.896141 102.399254 \r\nL 91.042278 102.509093 \r\nL 91.188415 108.383675 \r\nL 91.334552 108.948013 \r\nL 91.480689 106.566512 \r\nL 91.626826 106.380207 \r\nL 91.772963 105.499553 \r\nL 91.919101 108.683181 \r\nL 92.065238 107.873915 \r\nL 92.211375 107.863404 \r\nL 92.357512 107.708799 \r\nL 92.649786 109.292141 \r\nL 93.380471 103.720637 \r\nL 93.526608 104.61281 \r\nL 93.818882 110.892504 \r\nL 93.965019 111.283325 \r\nL 94.111156 112.105964 \r\nL 94.403431 110.992797 \r\nL 94.695705 118.225033 \r\nL 94.841842 118.502541 \r\nL 94.987979 117.950962 \r\nL 95.280253 114.294124 \r\nL 95.42639 114.597123 \r\nL 95.572527 114.555118 \r\nL 95.718664 111.668349 \r\nL 95.864801 111.18818 \r\nL 96.157075 113.561153 \r\nL 96.303212 112.682862 \r\nL 96.449349 115.663905 \r\nL 96.741623 112.845365 \r\nL 97.033898 115.033121 \r\nL 97.326172 111.843459 \r\nL 97.472309 112.883768 \r\nL 97.618446 112.85146 \r\nL 97.764583 114.63269 \r\nL 97.91072 110.551915 \r\nL 98.056857 113.083652 \r\nL 98.202994 111.974034 \r\nL 98.349131 113.653267 \r\nL 98.495268 111.838281 \r\nL 98.787542 117.434522 \r\nL 98.933679 117.285728 \r\nL 99.079816 120.141678 \r\nL 99.225953 117.618601 \r\nL 99.372091 124.804186 \r\nL 99.518228 126.092079 \r\nL 99.956639 137.118953 \r\nL 100.39505 127.032524 \r\nL 100.541187 127.777064 \r\nL 100.687324 125.045757 \r\nL 100.979598 127.22296 \r\nL 101.125735 124.414369 \r\nL 101.271872 126.084472 \r\nL 101.418009 131.975295 \r\nL 101.710283 128.804853 \r\nL 101.856421 132.851312 \r\nL 102.148695 131.646371 \r\nL 102.294832 131.283609 \r\nL 102.440969 132.131831 \r\nL 102.587106 130.625534 \r\nL 102.733243 133.562372 \r\nL 102.87938 132.96824 \r\nL 103.171654 141.919822 \r\nL 103.317791 141.916446 \r\nL 103.463928 142.216928 \r\nL 103.756202 139.353206 \r\nL 103.902339 138.87097 \r\nL 104.048476 138.938993 \r\nL 104.194613 138.015306 \r\nL 104.34075 138.462657 \r\nL 104.486888 140.636073 \r\nL 104.779162 140.883292 \r\nL 104.925299 144.491221 \r\nL 105.071436 142.747085 \r\nL 105.217573 143.322466 \r\nL 105.36371 141.723048 \r\nL 105.509847 141.349448 \r\nL 105.655984 140.670099 \r\nL 105.802121 137.158899 \r\nL 105.948258 137.227975 \r\nL 106.094395 137.010792 \r\nL 106.240532 137.464248 \r\nL 106.532806 132.924922 \r\nL 106.678943 131.559753 \r\nL 106.82508 131.617374 \r\nL 106.971218 128.567649 \r\nL 107.117355 128.396376 \r\nL 107.263492 127.55425 \r\nL 107.409629 131.186196 \r\nL 107.555766 131.831454 \r\nL 107.701903 130.655732 \r\nL 107.84804 130.642077 \r\nL 108.286451 126.174393 \r\nL 108.432588 125.467937 \r\nL 108.578725 127.857135 \r\nL 108.724862 123.205117 \r\nL 108.870999 122.119283 \r\nL 109.017136 123.59128 \r\nL 109.163273 127.536423 \r\nL 109.30941 126.658333 \r\nL 109.455548 120.983889 \r\nL 109.601685 120.562566 \r\nL 109.747822 125.312616 \r\nL 110.186233 119.652754 \r\nL 110.33237 120.088426 \r\nL 110.478507 118.600997 \r\nL 110.770781 121.664988 \r\nL 110.916918 121.704403 \r\nL 111.063055 126.418531 \r\nL 111.209192 125.421534 \r\nL 111.501466 128.789391 \r\nL 111.647603 123.691347 \r\nL 111.939878 122.064643 \r\nL 112.086015 119.17271 \r\nL 112.232152 119.509013 \r\nL 112.378289 124.741591 \r\nL 112.524426 125.374277 \r\nL 112.670563 125.511534 \r\nL 112.8167 124.236984 \r\nL 112.962837 125.554351 \r\nL 113.108974 125.599674 \r\nL 113.255111 121.088313 \r\nL 113.401248 121.736627 \r\nL 113.547385 125.708363 \r\nL 113.693522 126.163365 \r\nL 113.839659 125.396331 \r\nL 114.131933 129.949406 \r\nL 114.27807 131.579471 \r\nL 114.716482 126.666355 \r\nL 115.154893 128.446374 \r\nL 115.447167 125.394502 \r\nL 115.593304 126.13038 \r\nL 115.739441 129.472549 \r\nL 115.885578 129.35924 \r\nL 116.177852 133.91508 \r\nL 116.616263 129.308317 \r\nL 116.7624 130.998706 \r\nL 116.908537 126.471586 \r\nL 117.054675 125.462028 \r\nL 117.200812 115.713323 \r\nL 117.346949 115.692796 \r\nL 117.493086 115.17975 \r\nL 117.78536 97.191638 \r\nL 117.931497 98.108418 \r\nL 118.077634 97.519894 \r\nL 118.223771 96.167987 \r\nL 118.369908 100.392809 \r\nL 118.808319 96.732694 \r\nL 118.954456 97.680418 \r\nL 119.24673 96.200436 \r\nL 119.392867 97.196231 \r\nL 119.685142 94.846604 \r\nL 119.831279 95.224944 \r\nL 119.977416 93.326265 \r\nL 120.123553 89.638198 \r\nL 120.26969 93.373513 \r\nL 120.415827 92.903088 \r\nL 120.561964 95.504947 \r\nL 120.708101 95.126415 \r\nL 120.854238 95.382729 \r\nL 121.000375 95.227608 \r\nL 121.146512 95.292772 \r\nL 121.438786 91.266829 \r\nL 121.73106 91.382078 \r\nL 121.877197 91.000752 \r\nL 122.023335 90.071321 \r\nL 122.169472 90.094284 \r\nL 122.461746 90.529891 \r\nL 122.900157 89.730615 \r\nL 123.046294 89.851152 \r\nL 123.192431 88.341371 \r\nL 123.338568 88.897271 \r\nL 123.630842 87.108948 \r\nL 123.776979 86.696852 \r\nL 124.069253 87.127492 \r\nL 124.21539 87.127081 \r\nL 124.361527 86.58718 \r\nL 124.507665 85.556019 \r\nL 124.799939 90.341367 \r\nL 124.946076 90.625523 \r\nL 125.092213 89.895647 \r\nL 125.384487 89.797968 \r\nL 125.676761 87.187189 \r\nL 125.822898 86.266601 \r\nL 125.969035 89.52227 \r\nL 126.115172 89.260424 \r\nL 126.261309 89.293175 \r\nL 126.407446 89.68052 \r\nL 126.553583 92.19459 \r\nL 126.69972 92.680267 \r\nL 126.991994 90.910841 \r\nL 127.138132 91.14594 \r\nL 127.284269 90.126639 \r\nL 127.430406 89.978919 \r\nL 127.576543 90.599429 \r\nL 127.868817 92.410875 \r\nL 128.161091 90.601402 \r\nL 128.307228 90.592349 \r\nL 128.453365 89.962443 \r\nL 128.745639 90.360615 \r\nL 128.891776 88.802278 \r\nL 129.037913 89.863949 \r\nL 129.18405 89.392872 \r\nL 129.476324 87.302459 \r\nL 129.622462 86.936501 \r\nL 129.768599 87.989678 \r\nL 129.914736 87.581014 \r\nL 130.353147 92.747875 \r\nL 130.499284 91.822752 \r\nL 130.645421 87.986524 \r\nL 130.791558 88.129583 \r\nL 130.937695 87.945024 \r\nL 131.229969 87.065493 \r\nL 131.376106 86.923823 \r\nL 131.522243 87.578717 \r\nL 131.66838 89.312051 \r\nL 131.814517 85.876204 \r\nL 131.960654 85.758699 \r\nL 132.106792 87.762394 \r\nL 132.399066 86.097369 \r\nL 132.545203 83.385967 \r\nL 132.69134 83.804773 \r\nL 132.983614 85.558675 \r\nL 133.129751 84.947153 \r\nL 133.275888 83.808105 \r\nL 133.714299 91.815242 \r\nL 133.860436 91.866776 \r\nL 134.006573 89.20179 \r\nL 134.15271 89.572026 \r\nL 134.298847 87.910538 \r\nL 134.444984 87.887922 \r\nL 134.591122 88.236069 \r\nL 134.737259 90.754556 \r\nL 134.883396 90.870273 \r\nL 135.17567 87.176789 \r\nL 135.321807 86.628661 \r\nL 135.467944 92.436134 \r\nL 135.614081 91.15696 \r\nL 135.906355 96.314253 \r\nL 136.052492 103.493752 \r\nL 136.198629 101.890249 \r\nL 136.344766 102.185128 \r\nL 136.783177 95.270031 \r\nL 136.929314 96.953479 \r\nL 137.075451 93.903627 \r\nL 137.221589 93.575003 \r\nL 137.367726 93.53567 \r\nL 137.513863 92.088549 \r\nL 137.66 92.435606 \r\nL 137.952274 95.575593 \r\nL 138.098411 94.34633 \r\nL 138.390685 97.953411 \r\nL 138.536822 95.848887 \r\nL 138.682959 97.652054 \r\nL 138.829096 94.76076 \r\nL 138.975233 101.512706 \r\nL 139.12137 101.464213 \r\nL 139.267507 101.93114 \r\nL 139.413644 101.734158 \r\nL 139.559781 100.141556 \r\nL 139.705919 101.41728 \r\nL 139.998193 100.031903 \r\nL 140.14433 100.638968 \r\nL 140.290467 101.969328 \r\nL 140.436604 102.000386 \r\nL 140.582741 101.625893 \r\nL 140.728878 99.538346 \r\nL 141.021152 99.772603 \r\nL 141.167289 97.464717 \r\nL 141.313426 97.49599 \r\nL 141.459563 98.293471 \r\nL 141.6057 98.254847 \r\nL 141.751837 97.661316 \r\nL 141.897974 98.400374 \r\nL 142.044111 100.851796 \r\nL 142.190249 100.899601 \r\nL 142.482523 100.061657 \r\nL 142.62866 100.486438 \r\nL 142.774797 101.812737 \r\nL 143.067071 97.684466 \r\nL 143.213208 98.217021 \r\nL 143.359345 100.830241 \r\nL 143.797756 100.76225 \r\nL 143.943893 102.311525 \r\nL 144.09003 102.650417 \r\nL 144.236167 100.199517 \r\nL 144.382304 100.784331 \r\nL 144.528441 94.088411 \r\nL 144.674579 94.098018 \r\nL 144.966853 89.59538 \r\nL 145.11299 89.29493 \r\nL 145.259127 90.209257 \r\nL 145.405264 90.011251 \r\nL 145.551401 90.588982 \r\nL 145.697538 92.216124 \r\nL 145.843675 90.980645 \r\nL 145.989812 92.074338 \r\nL 146.282086 90.771087 \r\nL 146.428223 91.799224 \r\nL 146.57436 91.737287 \r\nL 146.720497 92.592776 \r\nL 146.866634 91.731715 \r\nL 147.012771 93.837279 \r\nL 147.158909 92.710644 \r\nL 147.451183 93.738798 \r\nL 147.59732 93.666385 \r\nL 147.743457 96.152925 \r\nL 148.035731 93.786564 \r\nL 148.181868 94.524148 \r\nL 148.474142 94.249244 \r\nL 148.766416 95.14226 \r\nL 148.912553 96.909016 \r\nL 149.204827 96.139729 \r\nL 149.350964 97.348066 \r\nL 149.497101 96.814607 \r\nL 149.643238 96.855337 \r\nL 149.789376 101.3868 \r\nL 149.935513 98.406101 \r\nL 150.08165 98.829988 \r\nL 150.227787 99.929369 \r\nL 150.520061 97.790115 \r\nL 150.666198 98.490187 \r\nL 150.812335 100.237661 \r\nL 150.958472 98.900874 \r\nL 151.104609 99.524022 \r\nL 151.396883 97.503441 \r\nL 151.54302 99.118034 \r\nL 151.981431 88.600211 \r\nL 152.127568 88.610801 \r\nL 152.419843 87.126043 \r\nL 152.56598 88.134733 \r\nL 152.712117 87.979464 \r\nL 152.858254 87.641307 \r\nL 153.004391 85.949908 \r\nL 153.150528 85.847615 \r\nL 153.588939 92.803403 \r\nL 153.735076 92.701039 \r\nL 153.881213 94.22084 \r\nL 154.02735 91.175877 \r\nL 154.173487 91.393681 \r\nL 154.319624 91.139554 \r\nL 154.465761 90.437557 \r\nL 154.611898 90.87404 \r\nL 155.342584 111.612854 \r\nL 155.488721 105.624858 \r\nL 155.780995 108.559633 \r\nL 155.927132 110.980219 \r\nL 156.219406 106.946163 \r\nL 156.51168 113.918776 \r\nL 156.657817 113.815129 \r\nL 156.803954 113.183161 \r\nL 157.388503 100.377106 \r\nL 157.53464 100.183982 \r\nL 157.826914 100.578623 \r\nL 157.973051 100.167607 \r\nL 158.119188 97.561224 \r\nL 158.265325 98.972369 \r\nL 158.411462 99.140328 \r\nL 158.557599 92.888755 \r\nL 158.703736 92.839614 \r\nL 158.849873 92.480506 \r\nL 158.99601 95.877344 \r\nL 159.142147 95.212345 \r\nL 159.288284 95.903044 \r\nL 159.434421 96.005589 \r\nL 159.580558 96.386249 \r\nL 159.726695 95.393992 \r\nL 159.872833 91.359673 \r\nL 160.01897 91.017028 \r\nL 160.165107 92.308194 \r\nL 160.457381 84.485535 \r\nL 160.603518 84.769289 \r\nL 160.749655 84.798888 \r\nL 160.895792 85.132699 \r\nL 161.041929 83.378807 \r\nL 161.188066 83.272109 \r\nL 161.626477 74.864815 \r\nL 161.772614 74.683901 \r\nL 161.918751 73.290168 \r\nL 162.064888 74.801363 \r\nL 162.211025 74.130967 \r\nL 162.357163 74.241841 \r\nL 162.5033 74.104989 \r\nL 162.649437 73.702568 \r\nL 162.795574 84.485922 \r\nL 162.941711 84.139846 \r\nL 163.087848 81.890096 \r\nL 163.233985 84.006839 \r\nL 163.526259 82.505985 \r\nL 163.818533 85.537625 \r\nL 163.96467 83.252302 \r\nL 164.110807 83.214094 \r\nL 164.256944 81.594923 \r\nL 164.403081 83.33795 \r\nL 164.841493 91.553506 \r\nL 164.98763 91.008659 \r\nL 165.133767 95.549519 \r\nL 165.279904 93.38702 \r\nL 165.426041 94.507151 \r\nL 165.572178 87.801754 \r\nL 165.718315 87.839417 \r\nL 166.010589 86.169289 \r\nL 166.302863 87.429624 \r\nL 166.449 89.679354 \r\nL 166.595137 88.976823 \r\nL 166.741274 89.141381 \r\nL 166.887411 88.132885 \r\nL 167.033548 88.685205 \r\nL 167.179685 86.772183 \r\nL 167.47196 87.172307 \r\nL 167.764234 88.353492 \r\nL 168.056508 97.167884 \r\nL 168.202645 97.447071 \r\nL 168.348782 97.138348 \r\nL 168.494919 97.12884 \r\nL 168.787193 98.886818 \r\nL 168.93333 98.521572 \r\nL 169.079467 98.492699 \r\nL 169.371741 102.212102 \r\nL 169.664015 104.482379 \r\nL 169.810152 104.15377 \r\nL 169.95629 104.229806 \r\nL 170.102427 106.239232 \r\nL 170.248564 104.137769 \r\nL 170.540838 107.052292 \r\nL 170.833112 113.394566 \r\nL 171.125386 113.076387 \r\nL 171.271523 113.175526 \r\nL 171.41766 115.110936 \r\nL 171.563797 115.341401 \r\nL 171.856071 122.995603 \r\nL 172.148345 123.908244 \r\nL 172.294482 123.172324 \r\nL 172.44062 123.795671 \r\nL 172.586757 123.766736 \r\nL 172.732894 125.133254 \r\nL 172.879031 124.915216 \r\nL 173.025168 127.475994 \r\nL 173.171305 124.529455 \r\nL 173.317442 124.483005 \r\nL 173.609716 124.807546 \r\nL 173.755853 129.28279 \r\nL 173.90199 129.013669 \r\nL 174.194264 125.739054 \r\nL 174.486538 126.575777 \r\nL 174.778812 123.786397 \r\nL 174.92495 123.658771 \r\nL 175.071087 122.661367 \r\nL 175.363361 124.02364 \r\nL 175.509498 122.724352 \r\nL 175.801772 124.234133 \r\nL 175.947909 124.458547 \r\nL 176.094046 123.851289 \r\nL 176.240183 124.152226 \r\nL 176.38632 128.618087 \r\nL 176.532457 127.298617 \r\nL 176.678594 127.830715 \r\nL 176.970868 138.277082 \r\nL 177.117005 138.842853 \r\nL 177.263142 138.216648 \r\nL 177.40928 139.398447 \r\nL 177.555417 139.05076 \r\nL 177.701554 146.601455 \r\nL 177.847691 146.285024 \r\nL 177.993828 146.293154 \r\nL 178.286102 154.24498 \r\nL 178.578376 152.729531 \r\nL 178.724513 163.40905 \r\nL 179.016787 162.392694 \r\nL 179.162924 162.436473 \r\nL 179.455198 166.301801 \r\nL 179.601335 173.325128 \r\nL 179.747472 174.33996 \r\nL 179.89361 181.303564 \r\nL 180.039747 182.297788 \r\nL 180.185884 188.602061 \r\nL 180.332021 189.577567 \r\nL 180.478158 191.666956 \r\nL 180.624295 189.333307 \r\nL 180.770432 190.304931 \r\nL 180.916569 189.219649 \r\nL 181.062706 184.10781 \r\nL 181.208843 185.286694 \r\nL 181.35498 192.831568 \r\nL 181.501117 192.742829 \r\nL 181.647254 194.750116 \r\nL 181.793391 194.141948 \r\nL 181.939528 190.496882 \r\nL 182.231802 191.897266 \r\nL 182.377939 191.916696 \r\nL 182.524077 192.886775 \r\nL 182.670214 192.127136 \r\nL 182.962488 189.753483 \r\nL 183.108625 191.117235 \r\nL 183.254762 190.870423 \r\nL 183.400899 188.156929 \r\nL 183.547036 190.108306 \r\nL 183.693173 189.086793 \r\nL 183.83931 197.809996 \r\nL 183.985447 198.720277 \r\nL 184.131584 198.79929 \r\nL 184.277721 198.072641 \r\nL 184.423858 198.739673 \r\nL 184.716132 192.785557 \r\nL 184.862269 192.577012 \r\nL 185.008407 186.104 \r\nL 185.154544 185.888094 \r\nL 185.446818 181.911253 \r\nL 185.592955 183.086504 \r\nL 186.031366 180.589286 \r\nL 186.32364 167.149224 \r\nL 186.615914 169.039239 \r\nL 186.908188 164.005336 \r\nL 187.054325 165.709691 \r\nL 187.346599 166.139323 \r\nL 187.492737 164.7959 \r\nL 187.638874 164.722871 \r\nL 187.785011 163.954425 \r\nL 188.223422 166.037446 \r\nL 188.369559 136.11802 \r\nL 188.515696 140.333318 \r\nL 188.661833 137.895081 \r\nL 189.100244 127.224415 \r\nL 189.392518 129.306656 \r\nL 189.538655 129.592011 \r\nL 189.830929 127.523902 \r\nL 190.123204 118.717136 \r\nL 190.269341 117.781626 \r\nL 190.415478 114.749225 \r\nL 190.561615 115.57346 \r\nL 190.707752 112.838843 \r\nL 191.000026 114.491812 \r\nL 191.146163 114.558984 \r\nL 191.2923 112.083512 \r\nL 191.438437 114.848617 \r\nL 191.730711 114.321574 \r\nL 192.022985 112.665241 \r\nL 192.169122 112.987608 \r\nL 192.315259 114.868428 \r\nL 192.461396 114.866565 \r\nL 192.607534 114.523601 \r\nL 192.753671 114.766159 \r\nL 193.045945 112.930847 \r\nL 193.192082 113.003435 \r\nL 193.338219 112.457473 \r\nL 193.484356 112.431792 \r\nL 193.77663 113.109426 \r\nL 193.922767 110.103299 \r\nL 194.215041 109.231471 \r\nL 194.361178 107.672402 \r\nL 194.507315 108.157108 \r\nL 194.799589 105.68104 \r\nL 195.091864 104.356901 \r\nL 195.238001 101.140351 \r\nL 195.384138 101.120725 \r\nL 195.676412 100.903684 \r\nL 195.822549 101.109279 \r\nL 195.968686 92.262359 \r\nL 196.114823 90.28008 \r\nL 196.26096 90.136999 \r\nL 196.553234 89.46422 \r\nL 196.699371 89.689037 \r\nL 196.845508 89.231121 \r\nL 196.991645 85.674293 \r\nL 197.137782 84.905287 \r\nL 197.283919 86.745483 \r\nL 197.576194 84.560055 \r\nL 197.722331 84.692852 \r\nL 197.868468 85.752919 \r\nL 198.014605 83.056879 \r\nL 198.160742 83.949596 \r\nL 198.599153 82.758605 \r\nL 198.891427 80.233144 \r\nL 199.329838 74.555248 \r\nL 199.475975 72.809108 \r\nL 199.622112 72.811564 \r\nL 199.768249 72.560119 \r\nL 199.914386 72.8907 \r\nL 200.060524 73.623078 \r\nL 200.352798 70.182763 \r\nL 200.498935 68.423085 \r\nL 200.645072 68.43081 \r\nL 200.791209 68.244975 \r\nL 201.083483 59.609224 \r\nL 201.375757 56.581742 \r\nL 201.521894 56.230755 \r\nL 201.814168 53.105725 \r\nL 201.960305 52.53126 \r\nL 202.106442 53.063907 \r\nL 202.690991 46.158119 \r\nL 202.837128 46.486963 \r\nL 202.983265 45.420672 \r\nL 203.275539 50.942771 \r\nL 203.421676 51.862353 \r\nL 203.567813 51.837158 \r\nL 204.152361 41.978527 \r\nL 204.298498 42.664463 \r\nL 204.444635 42.434157 \r\nL 204.590772 41.979522 \r\nL 204.736909 42.840871 \r\nL 204.883046 39.403816 \r\nL 205.175321 41.227822 \r\nL 205.321458 39.68172 \r\nL 205.467595 35.72027 \r\nL 205.613732 36.090076 \r\nL 205.759869 37.651565 \r\nL 205.906006 41.019131 \r\nL 206.052143 40.378487 \r\nL 206.19828 41.883791 \r\nL 206.344417 39.061819 \r\nL 206.490554 39.074648 \r\nL 206.636691 45.053454 \r\nL 206.928965 45.101903 \r\nL 207.075102 44.954769 \r\nL 207.367376 42.927087 \r\nL 207.513513 41.120468 \r\nL 207.659651 41.043366 \r\nL 207.805788 41.249117 \r\nL 207.951925 40.905589 \r\nL 208.098062 40.107599 \r\nL 208.244199 41.368959 \r\nL 208.536473 39.939934 \r\nL 208.68261 40.687492 \r\nL 208.828747 40.079199 \r\nL 208.974884 40.441914 \r\nL 209.121021 39.390064 \r\nL 209.267158 39.256086 \r\nL 209.413295 40.038031 \r\nL 209.559432 38.923237 \r\nL 209.705569 38.782959 \r\nL 209.851706 39.108384 \r\nL 210.143981 38.762993 \r\nL 210.728529 38.637526 \r\nL 210.874666 38.178316 \r\nL 211.020803 39.43371 \r\nL 211.16694 39.54348 \r\nL 211.459214 40.138255 \r\nL 211.751488 40.026412 \r\nL 211.897625 40.151884 \r\nL 212.189899 39.520465 \r\nL 212.336036 42.483654 \r\nL 212.482173 42.447994 \r\nL 212.628311 42.878268 \r\nL 212.774448 42.639402 \r\nL 212.920585 40.723362 \r\nL 213.066722 42.683001 \r\nL 214.089681 44.44896 \r\nL 214.235818 42.676128 \r\nL 214.381955 43.216597 \r\nL 214.528092 43.203728 \r\nL 214.674229 42.88608 \r\nL 214.820366 40.973815 \r\nL 214.966503 43.084794 \r\nL 215.11264 42.506094 \r\nL 215.258778 42.459432 \r\nL 215.404915 41.453981 \r\nL 215.551052 41.343352 \r\nL 215.697189 40.889906 \r\nL 215.843326 40.872201 \r\nL 215.989463 41.053281 \r\nL 216.1356 43.98516 \r\nL 216.281737 44.516791 \r\nL 216.427874 44.091735 \r\nL 216.574011 44.081795 \r\nL 216.720148 42.744983 \r\nL 216.866285 43.05541 \r\nL 217.158559 44.745743 \r\nL 217.450833 44.706971 \r\nL 217.59697 44.861425 \r\nL 217.743108 44.625661 \r\nL 217.889245 44.174908 \r\nL 218.035382 44.323014 \r\nL 218.181519 44.247886 \r\nL 218.327656 43.846346 \r\nL 218.766067 44.072356 \r\nL 218.912204 43.759911 \r\nL 219.058341 43.715329 \r\nL 219.204478 43.932718 \r\nL 219.496752 43.712456 \r\nL 219.642889 44.119422 \r\nL 219.789026 44.156197 \r\nL 219.935163 44.432736 \r\nL 220.0813 44.172871 \r\nL 220.227438 44.313854 \r\nL 220.373575 44.006503 \r\nL 220.519712 44.123696 \r\nL 220.811986 46.020987 \r\nL 220.958123 45.770796 \r\nL 221.10426 46.451713 \r\nL 221.250397 46.175659 \r\nL 221.396534 43.895391 \r\nL 221.542671 44.27108 \r\nL 221.688808 43.600366 \r\nL 221.834945 43.706961 \r\nL 222.127219 44.980506 \r\nL 222.273356 44.537535 \r\nL 222.419493 46.627832 \r\nL 222.56563 46.436612 \r\nL 222.857905 47.40715 \r\nL 223.004042 46.870851 \r\nL 223.150179 48.061777 \r\nL 223.296316 48.011818 \r\nL 223.442453 47.822139 \r\nL 223.58859 48.692322 \r\nL 223.734727 52.303531 \r\nL 223.880864 52.549429 \r\nL 224.027001 51.335737 \r\nL 224.173138 46.434344 \r\nL 224.319275 46.797314 \r\nL 224.465412 45.532589 \r\nL 224.611549 47.36552 \r\nL 224.757686 47.419596 \r\nL 225.04996 45.422136 \r\nL 225.342235 46.850898 \r\nL 225.488372 46.934625 \r\nL 225.780646 50.645606 \r\nL 226.219057 49.219596 \r\nL 226.365194 49.489753 \r\nL 226.511331 48.957343 \r\nL 226.657468 49.312532 \r\nL 226.949742 48.393598 \r\nL 227.095879 49.265909 \r\nL 227.242016 49.047084 \r\nL 227.388153 47.870875 \r\nL 227.680427 48.773107 \r\nL 227.826565 46.080108 \r\nL 228.264976 45.661738 \r\nL 228.411113 45.939365 \r\nL 228.703387 44.076401 \r\nL 228.849524 45.605731 \r\nL 228.995661 45.612966 \r\nL 229.141798 45.875552 \r\nL 229.287935 45.31272 \r\nL 229.434072 46.967991 \r\nL 229.580209 47.192373 \r\nL 229.726346 46.974651 \r\nL 229.872483 47.772438 \r\nL 230.01862 46.655779 \r\nL 230.164757 47.590713 \r\nL 230.457032 47.840027 \r\nL 230.603169 45.995313 \r\nL 230.895443 46.751901 \r\nL 231.04158 46.938977 \r\nL 231.187717 48.465497 \r\nL 231.772265 46.592991 \r\nL 231.918402 47.007766 \r\nL 232.064539 46.890334 \r\nL 232.210676 46.28542 \r\nL 232.356813 46.516613 \r\nL 232.50295 50.502902 \r\nL 232.795225 50.647343 \r\nL 232.941362 50.611648 \r\nL 233.087499 53.549655 \r\nL 233.233636 63.284623 \r\nL 233.379773 63.916791 \r\nL 233.52591 63.845561 \r\nL 233.672047 65.705525 \r\nL 233.818184 65.278945 \r\nL 233.964321 65.93171 \r\nL 234.110458 65.88506 \r\nL 234.256595 66.453838 \r\nL 234.402732 62.133441 \r\nL 234.548869 62.258538 \r\nL 234.695006 61.87423 \r\nL 234.841143 62.944073 \r\nL 234.98728 65.786516 \r\nL 235.425692 67.512804 \r\nL 235.571829 66.947234 \r\nL 235.717966 66.986206 \r\nL 236.156377 71.711986 \r\nL 236.302514 72.014131 \r\nL 236.448651 71.788535 \r\nL 236.594788 73.581797 \r\nL 236.740925 73.602188 \r\nL 237.033199 70.138939 \r\nL 237.179336 72.571751 \r\nL 237.325473 72.965325 \r\nL 237.617747 77.620061 \r\nL 237.910022 77.55106 \r\nL 238.056159 78.349567 \r\nL 238.202296 77.841341 \r\nL 238.348433 81.006297 \r\nL 238.49457 80.541049 \r\nL 238.640707 83.615798 \r\nL 238.786844 83.660999 \r\nL 238.932981 82.883697 \r\nL 239.079118 82.939044 \r\nL 239.225255 84.182623 \r\nL 239.371392 84.096932 \r\nL 239.663666 85.160619 \r\nL 239.809803 85.035664 \r\nL 239.95594 85.690944 \r\nL 240.102077 85.419357 \r\nL 240.248214 90.757757 \r\nL 240.394352 88.58766 \r\nL 240.540489 91.574232 \r\nL 240.686626 89.921739 \r\nL 240.832763 90.141794 \r\nL 240.9789 90.765701 \r\nL 241.125037 99.202474 \r\nL 241.855722 108.093642 \r\nL 242.001859 109.322511 \r\nL 242.294133 108.325063 \r\nL 242.44027 115.531833 \r\nL 242.586407 113.530133 \r\nL 242.878682 113.16292 \r\nL 243.024819 113.68748 \r\nL 243.170956 111.583592 \r\nL 243.317093 112.407553 \r\nL 243.609367 109.75377 \r\nL 243.755504 110.048286 \r\nL 243.901641 108.27804 \r\nL 244.193915 111.294992 \r\nL 244.340052 111.597928 \r\nL 244.486189 112.910055 \r\nL 244.632326 115.987822 \r\nL 244.778463 115.624608 \r\nL 244.9246 115.639976 \r\nL 245.070737 119.104607 \r\nL 245.216874 117.377996 \r\nL 245.509149 117.320929 \r\nL 245.655286 119.927205 \r\nL 245.801423 119.590816 \r\nL 245.94756 118.830593 \r\nL 246.093697 129.300326 \r\nL 246.239834 130.024744 \r\nL 246.385971 127.136369 \r\nL 246.532108 128.494404 \r\nL 246.824382 125.105323 \r\nL 246.970519 130.058752 \r\nL 247.116656 129.835926 \r\nL 247.262793 130.546978 \r\nL 247.555067 115.846533 \r\nL 247.701204 115.715381 \r\nL 247.993479 108.578275 \r\nL 248.139616 109.445471 \r\nL 248.285753 112.09654 \r\nL 248.43189 111.418444 \r\nL 248.578027 109.011285 \r\nL 248.724164 109.055454 \r\nL 249.016438 83.64915 \r\nL 249.308712 84.658238 \r\nL 249.600986 86.730014 \r\nL 249.89326 91.156987 \r\nL 250.039397 78.016039 \r\nL 250.185534 83.965895 \r\nL 250.331671 61.07691 \r\nL 250.477809 60.926378 \r\nL 250.623946 52.612716 \r\nL 250.770083 51.336714 \r\nL 250.91622 51.340417 \r\nL 251.354631 45.907055 \r\nL 251.500768 45.48914 \r\nL 251.646905 45.653661 \r\nL 251.793042 45.131867 \r\nL 251.939179 39.546981 \r\nL 252.085316 39.623654 \r\nL 252.37759 41.222695 \r\nL 252.523727 41.12876 \r\nL 253.108276 38.984946 \r\nL 253.254413 39.040872 \r\nL 253.40055 38.891236 \r\nL 253.546687 38.269016 \r\nL 253.692824 35.990125 \r\nL 253.985098 36.699166 \r\nL 254.131235 36.506316 \r\nL 254.277372 36.808144 \r\nL 254.569646 33.743767 \r\nL 254.715783 34.497985 \r\nL 254.86192 34.557604 \r\nL 255.008057 34.355101 \r\nL 255.154194 34.510145 \r\nL 255.300331 35.051111 \r\nL 255.592606 33.680713 \r\nL 255.738743 33.416468 \r\nL 255.88488 32.862561 \r\nL 256.031017 33.940625 \r\nL 256.323291 33.513994 \r\nL 256.761702 33.430109 \r\nL 257.053976 32.954874 \r\nL 257.34625 33.093672 \r\nL 257.492387 33.641692 \r\nL 257.784661 33.796863 \r\nL 258.223073 33.770801 \r\nL 258.36921 33.845403 \r\nL 258.515347 33.45034 \r\nL 259.246032 33.670532 \r\nL 259.392169 32.136855 \r\nL 259.684443 31.680953 \r\nL 259.976717 31.398841 \r\nL 260.122854 30.643452 \r\nL 260.415128 30.479991 \r\nL 260.707403 30.555892 \r\nL 260.85354 30.408936 \r\nL 260.999677 29.85976 \r\nL 261.145814 29.943529 \r\nL 261.291951 29.449952 \r\nL 261.438088 29.519924 \r\nL 261.584225 30.350939 \r\nL 261.730362 30.226943 \r\nL 261.876499 30.265786 \r\nL 262.461047 29.641739 \r\nL 262.753321 29.959007 \r\nL 262.899458 29.326837 \r\nL 263.045596 29.987581 \r\nL 263.191733 29.925297 \r\nL 263.33787 29.733463 \r\nL 263.484007 29.79662 \r\nL 263.630144 29.464339 \r\nL 264.214692 29.408048 \r\nL 264.360829 28.622086 \r\nL 264.79924 28.548022 \r\nL 264.945377 28.210001 \r\nL 265.091514 28.423099 \r\nL 265.237651 28.347886 \r\nL 265.383788 27.875205 \r\nL 265.529926 27.968956 \r\nL 265.8222 28.731244 \r\nL 265.968337 28.64332 \r\nL 266.114474 28.995113 \r\nL 266.260611 28.843214 \r\nL 266.406748 28.333836 \r\nL 266.552885 28.229879 \r\nL 266.845159 28.70052 \r\nL 266.991296 28.646248 \r\nL 267.28357 29.258381 \r\nL 267.429707 29.130911 \r\nL 267.868118 27.940013 \r\nL 268.160393 26.657041 \r\nL 268.30653 28.141059 \r\nL 268.452667 25.636575 \r\nL 268.598804 28.968215 \r\nL 268.744941 28.899752 \r\nL 268.891078 31.090599 \r\nL 269.037215 29.790077 \r\nL 269.183352 29.650732 \r\nL 269.329489 29.672728 \r\nL 269.475626 30.075984 \r\nL 269.621763 30.814041 \r\nL 269.7679 26.281179 \r\nL 269.914037 26.454216 \r\nL 270.060174 26.899989 \r\nL 270.206311 30.580629 \r\nL 270.352448 30.70449 \r\nL 270.498585 30.287934 \r\nL 270.644723 29.287471 \r\nL 270.79086 29.250411 \r\nL 271.229271 32.661961 \r\nL 271.375408 32.102473 \r\nL 271.521545 32.916502 \r\nL 271.667682 33.074023 \r\nL 271.813819 34.113308 \r\nL 271.959956 36.423176 \r\nL 272.106093 36.212399 \r\nL 272.398367 35.088214 \r\nL 272.544504 35.618548 \r\nL 272.690641 38.163556 \r\nL 272.836778 37.919201 \r\nL 272.982915 38.668239 \r\nL 273.129053 38.334731 \r\nL 273.27519 39.160614 \r\nL 273.421327 38.974719 \r\nL 273.567464 38.576232 \r\nL 273.859738 44.21156 \r\nL 274.005875 44.207016 \r\nL 274.152012 44.799912 \r\nL 274.298149 43.52938 \r\nL 274.590423 45.091004 \r\nL 274.73656 44.788585 \r\nL 274.882697 43.191614 \r\nL 275.174971 43.27252 \r\nL 275.321108 45.03356 \r\nL 275.467245 45.246378 \r\nL 275.613383 44.271886 \r\nL 275.905657 41.829536 \r\nL 276.051794 41.31382 \r\nL 276.197931 41.301083 \r\nL 276.344068 41.400728 \r\nL 276.490205 41.107668 \r\nL 276.636342 39.696717 \r\nL 276.782479 39.428298 \r\nL 276.928616 39.954728 \r\nL 277.074753 39.580279 \r\nL 277.367027 40.636309 \r\nL 277.513164 39.29993 \r\nL 277.659301 39.981444 \r\nL 277.805438 39.130056 \r\nL 278.097713 39.669296 \r\nL 278.24385 38.611979 \r\nL 278.389987 39.593498 \r\nL 278.682261 38.402465 \r\nL 278.828398 38.52656 \r\nL 278.974535 37.87005 \r\nL 279.266809 38.897285 \r\nL 279.559083 38.784349 \r\nL 279.70522 39.808502 \r\nL 279.851357 38.420736 \r\nL 279.997494 38.788212 \r\nL 280.143631 38.428888 \r\nL 280.289768 38.419488 \r\nL 280.435905 38.69289 \r\nL 280.582043 38.682653 \r\nL 280.72818 39.608571 \r\nL 280.874317 39.633639 \r\nL 281.020454 39.502291 \r\nL 281.166591 41.512712 \r\nL 281.312728 39.608042 \r\nL 281.458865 39.394734 \r\nL 281.605002 40.060459 \r\nL 281.751139 40.04418 \r\nL 281.897276 42.204567 \r\nL 282.18955 41.151471 \r\nL 282.481824 41.494768 \r\nL 282.774098 43.860275 \r\nL 283.066372 44.203029 \r\nL 283.21251 48.762109 \r\nL 283.358647 49.116106 \r\nL 283.504784 50.166592 \r\nL 283.650921 53.917897 \r\nL 283.943195 49.138036 \r\nL 284.089332 52.987189 \r\nL 284.235469 50.926807 \r\nL 284.381606 51.572329 \r\nL 284.527743 51.284205 \r\nL 284.67388 51.316407 \r\nL 284.820017 53.568057 \r\nL 284.966154 52.802461 \r\nL 285.112291 53.257355 \r\nL 285.258428 54.263339 \r\nL 285.404565 65.243013 \r\nL 285.550702 66.539142 \r\nL 285.69684 66.243774 \r\nL 285.989114 68.16516 \r\nL 286.135251 69.226583 \r\nL 286.281388 67.471076 \r\nL 286.427525 67.687534 \r\nL 286.573662 68.81583 \r\nL 286.719799 68.768922 \r\nL 286.865936 68.220613 \r\nL 287.012073 69.660621 \r\nL 287.15821 69.490202 \r\nL 287.304347 67.131527 \r\nL 287.450484 67.002031 \r\nL 287.742758 61.537486 \r\nL 287.888895 61.650483 \r\nL 288.18117 57.307042 \r\nL 288.473444 59.003966 \r\nL 288.619581 57.990815 \r\nL 289.057992 60.15952 \r\nL 289.204129 58.020111 \r\nL 289.350266 60.395314 \r\nL 289.788677 51.128977 \r\nL 289.934814 55.367035 \r\nL 290.080951 55.167653 \r\nL 290.227088 55.324381 \r\nL 290.373225 54.334758 \r\nL 290.519362 55.081694 \r\nL 290.6655 52.121275 \r\nL 290.811637 52.520895 \r\nL 290.957774 51.119264 \r\nL 291.103911 51.429651 \r\nL 291.250048 52.86116 \r\nL 291.542322 52.82957 \r\nL 291.688459 53.35026 \r\nL 291.980733 52.620672 \r\nL 292.12687 53.141827 \r\nL 292.273007 54.807538 \r\nL 292.419144 55.182 \r\nL 292.565281 54.358838 \r\nL 292.711418 56.283804 \r\nL 292.857555 55.231953 \r\nL 293.149829 56.193859 \r\nL 293.295967 54.705805 \r\nL 293.442104 54.531415 \r\nL 293.588241 53.998606 \r\nL 293.880515 52.286058 \r\nL 294.026652 53.556014 \r\nL 294.172789 53.581276 \r\nL 294.6112 54.48953 \r\nL 294.757337 54.169674 \r\nL 294.903474 72.061862 \r\nL 295.049611 71.800094 \r\nL 295.195748 71.293968 \r\nL 295.341885 73.77703 \r\nL 295.634159 73.586648 \r\nL 295.780297 74.031636 \r\nL 295.926434 74.114369 \r\nL 296.072571 78.578011 \r\nL 296.364845 78.596646 \r\nL 296.510982 81.360263 \r\nL 296.657119 81.45228 \r\nL 296.803256 80.661474 \r\nL 296.949393 80.90527 \r\nL 297.09553 79.173691 \r\nL 297.241667 79.253096 \r\nL 297.387804 85.570325 \r\nL 297.533941 85.466397 \r\nL 297.680078 85.626091 \r\nL 297.826215 86.471939 \r\nL 297.972352 84.53985 \r\nL 298.118489 85.526745 \r\nL 298.264627 89.068983 \r\nL 298.410764 88.328221 \r\nL 298.556901 88.28463 \r\nL 298.703038 88.698268 \r\nL 298.849175 87.547221 \r\nL 298.995312 81.467332 \r\nL 299.141449 81.83501 \r\nL 299.287586 81.786946 \r\nL 299.433723 82.080446 \r\nL 299.57986 82.906029 \r\nL 299.725997 82.488638 \r\nL 300.018271 78.663824 \r\nL 300.164408 78.321812 \r\nL 300.310545 79.025706 \r\nL 300.456682 73.397431 \r\nL 300.602819 73.710543 \r\nL 300.748957 77.531094 \r\nL 301.041231 75.024393 \r\nL 301.187368 75.264041 \r\nL 301.333505 77.25912 \r\nL 301.625779 71.383179 \r\nL 301.771916 71.584604 \r\nL 301.918053 70.952244 \r\nL 302.06419 70.823692 \r\nL 302.210327 71.46159 \r\nL 302.356464 71.265495 \r\nL 302.648738 70.527479 \r\nL 302.794875 71.526683 \r\nL 303.087149 71.193065 \r\nL 303.817835 68.082382 \r\nL 303.963972 68.899394 \r\nL 304.256246 69.233166 \r\nL 304.402383 69.669248 \r\nL 304.54852 69.670851 \r\nL 304.694657 70.323046 \r\nL 304.986931 69.520803 \r\nL 305.279205 71.205998 \r\nL 305.425342 71.100382 \r\nL 305.571479 73.523915 \r\nL 305.717616 73.897328 \r\nL 306.009891 76.514517 \r\nL 306.156028 76.557852 \r\nL 306.302165 76.388164 \r\nL 306.448302 76.459503 \r\nL 306.594439 75.850485 \r\nL 306.740576 75.731956 \r\nL 306.886713 77.897741 \r\nL 307.03285 77.331755 \r\nL 307.178987 75.725582 \r\nL 307.471261 76.510513 \r\nL 307.617398 75.546162 \r\nL 307.763535 76.599525 \r\nL 307.909672 78.625073 \r\nL 308.055809 78.144823 \r\nL 308.201946 70.874793 \r\nL 308.348084 72.251981 \r\nL 308.494221 68.966956 \r\nL 308.640358 75.347612 \r\nL 308.786495 76.134378 \r\nL 308.932632 74.337781 \r\nL 309.078769 73.952385 \r\nL 309.224906 80.656102 \r\nL 309.371043 79.216901 \r\nL 309.51718 80.476435 \r\nL 309.663317 77.038319 \r\nL 309.809454 77.126364 \r\nL 309.955591 70.295488 \r\nL 310.101728 72.072736 \r\nL 310.394002 68.985068 \r\nL 310.540139 68.338177 \r\nL 310.686276 69.456409 \r\nL 310.832414 67.67415 \r\nL 310.978551 69.069344 \r\nL 311.124688 68.779077 \r\nL 311.270825 68.762115 \r\nL 311.416962 62.239868 \r\nL 311.563099 63.094538 \r\nL 311.709236 62.601661 \r\nL 311.855373 63.794674 \r\nL 312.00151 63.6372 \r\nL 312.293784 56.209358 \r\nL 312.439921 56.209532 \r\nL 312.586058 55.349489 \r\nL 312.732195 52.558945 \r\nL 312.878332 52.374706 \r\nL 313.024469 48.718174 \r\nL 313.170606 31.717353 \r\nL 313.316744 34.875481 \r\nL 313.462881 35.010508 \r\nL 313.609018 32.467858 \r\nL 313.755155 32.407311 \r\nL 313.901292 32.534436 \r\nL 314.193566 31.391413 \r\nL 314.339703 31.446902 \r\nL 314.48584 31.765411 \r\nL 314.631977 31.727287 \r\nL 314.778114 31.182012 \r\nL 314.924251 31.773159 \r\nL 315.070388 31.371547 \r\nL 315.362662 34.413536 \r\nL 315.654936 33.735415 \r\nL 315.947211 33.447694 \r\nL 316.093348 32.870309 \r\nL 316.239485 33.353132 \r\nL 316.385622 32.342781 \r\nL 316.531759 32.209855 \r\nL 316.677896 32.554072 \r\nL 316.824033 32.597554 \r\nL 316.97017 32.158064 \r\nL 317.116307 32.198286 \r\nL 317.262444 32.868386 \r\nL 317.554718 30.874863 \r\nL 317.700855 30.457751 \r\nL 317.993129 28.856847 \r\nL 318.139266 28.887397 \r\nL 318.285403 28.072602 \r\nL 318.577678 29.405869 \r\nL 318.869952 31.712671 \r\nL 319.016089 31.582827 \r\nL 319.162226 33.888997 \r\nL 319.600637 34.333219 \r\nL 319.746774 34.308783 \r\nL 319.892911 34.837605 \r\nL 320.039048 33.618671 \r\nL 320.185185 33.652622 \r\nL 320.477459 33.387737 \r\nL 320.623596 33.121033 \r\nL 320.769733 34.157513 \r\nL 320.915871 33.687195 \r\nL 321.062008 33.633656 \r\nL 321.208145 34.995443 \r\nL 321.354282 34.91117 \r\nL 321.500419 34.969935 \r\nL 322.084967 34.350103 \r\nL 322.231104 32.712458 \r\nL 322.523378 32.882838 \r\nL 322.815652 32.343158 \r\nL 323.107926 32.195357 \r\nL 323.254063 32.230612 \r\nL 323.400201 33.099984 \r\nL 323.546338 32.854465 \r\nL 323.838612 32.960845 \r\nL 323.984749 32.989101 \r\nL 324.130886 32.560087 \r\nL 324.42316 32.576476 \r\nL 324.715434 32.820938 \r\nL 324.861571 33.078451 \r\nL 325.007708 32.860798 \r\nL 325.446119 33.323152 \r\nL 325.592256 33.262825 \r\nL 325.738393 32.65118 \r\nL 325.88453 32.725581 \r\nL 326.030668 32.54299 \r\nL 326.176805 32.007168 \r\nL 326.615216 32.104184 \r\nL 326.90749 32.296311 \r\nL 327.053627 32.462774 \r\nL 327.345901 31.951503 \r\nL 327.492038 29.688568 \r\nL 327.638175 29.99488 \r\nL 327.784312 29.386899 \r\nL 328.076586 30.798279 \r\nL 328.222723 33.026244 \r\nL 328.514998 32.20599 \r\nL 328.661135 32.198536 \r\nL 328.807272 32.063268 \r\nL 328.953409 30.875517 \r\nL 329.099546 31.616133 \r\nL 329.245683 31.621475 \r\nL 329.39182 33.794491 \r\nL 329.537957 33.854919 \r\nL 329.684094 37.967048 \r\nL 329.830231 37.522442 \r\nL 329.976368 38.128687 \r\nL 330.122505 36.880416 \r\nL 330.268642 36.995248 \r\nL 330.560916 39.649601 \r\nL 330.707053 39.702236 \r\nL 330.85319 39.985514 \r\nL 330.999328 41.22548 \r\nL 331.145465 40.896525 \r\nL 331.291602 44.239176 \r\nL 331.437739 43.916405 \r\nL 331.730013 39.880418 \r\nL 331.87615 43.530664 \r\nL 332.022287 43.691477 \r\nL 332.168424 43.517623 \r\nL 332.314561 44.64711 \r\nL 332.752972 44.470103 \r\nL 332.899109 44.391597 \r\nL 333.045246 45.727279 \r\nL 333.191383 44.866261 \r\nL 333.33752 46.091065 \r\nL 333.483658 42.846748 \r\nL 333.629795 42.33725 \r\nL 333.775932 44.035419 \r\nL 333.922069 44.090115 \r\nL 334.068206 44.510095 \r\nL 334.214343 44.477374 \r\nL 334.36048 44.578862 \r\nL 334.652754 43.659022 \r\nL 334.798891 43.656034 \r\nL 335.091165 42.660791 \r\nL 335.237302 42.557854 \r\nL 335.529576 43.904593 \r\nL 335.675713 47.111821 \r\nL 335.967988 47.54605 \r\nL 336.114125 48.33149 \r\nL 336.260262 50.24585 \r\nL 336.406399 50.092188 \r\nL 336.698673 50.701553 \r\nL 336.84481 49.68172 \r\nL 337.137084 49.982501 \r\nL 337.283221 54.549795 \r\nL 337.429358 51.139106 \r\nL 337.575495 50.834924 \r\nL 337.721632 50.86847 \r\nL 337.867769 49.532689 \r\nL 338.160043 51.473005 \r\nL 338.30618 53.267587 \r\nL 338.452317 53.535447 \r\nL 338.598455 54.189815 \r\nL 338.744592 54.064787 \r\nL 338.890729 56.384387 \r\nL 339.036866 54.523557 \r\nL 339.621414 63.988983 \r\nL 339.767551 63.543442 \r\nL 339.913688 64.315464 \r\nL 340.205962 68.839057 \r\nL 340.498236 96.277287 \r\nL 340.644373 96.147107 \r\nL 340.79051 99.664858 \r\nL 340.936647 99.957243 \r\nL 341.082785 100.865669 \r\nL 341.228922 100.607 \r\nL 341.375059 101.058398 \r\nL 341.521196 99.610015 \r\nL 341.667333 95.740785 \r\nL 341.81347 97.641919 \r\nL 341.959607 97.171592 \r\nL 342.105744 90.011542 \r\nL 342.251881 89.471807 \r\nL 342.398018 91.154251 \r\nL 342.544155 89.450117 \r\nL 342.836429 82.571372 \r\nL 342.982566 82.231849 \r\nL 343.128703 79.630927 \r\nL 343.27484 79.478493 \r\nL 343.420977 79.776952 \r\nL 343.567115 80.539678 \r\nL 343.713252 80.687211 \r\nL 343.859389 81.049945 \r\nL 344.005526 83.926271 \r\nL 344.151663 82.55121 \r\nL 344.2978 82.513812 \r\nL 345.174622 83.161456 \r\nL 345.320759 83.61824 \r\nL 345.613033 86.572269 \r\nL 345.75917 86.632739 \r\nL 345.905307 86.374802 \r\nL 346.051445 84.342951 \r\nL 346.197582 83.932729 \r\nL 346.343719 81.631617 \r\nL 346.635993 81.093147 \r\nL 346.928267 80.688029 \r\nL 347.074404 80.687067 \r\nL 347.220541 84.195095 \r\nL 347.366678 84.341455 \r\nL 347.512815 84.230962 \r\nL 347.658952 80.588497 \r\nL 347.805089 80.01126 \r\nL 347.951226 76.881869 \r\nL 348.097363 78.157795 \r\nL 348.2435 78.009539 \r\nL 348.389637 82.071053 \r\nL 348.535774 79.762574 \r\nL 348.681912 82.303015 \r\nL 348.828049 82.661776 \r\nL 348.974186 82.199037 \r\nL 349.120323 84.717333 \r\nL 349.412597 84.686097 \r\nL 349.558734 84.675969 \r\nL 349.704871 83.299918 \r\nL 349.851008 83.194235 \r\nL 349.997145 87.518359 \r\nL 350.289419 84.996486 \r\nL 350.435556 84.922433 \r\nL 350.581693 84.349273 \r\nL 350.72783 82.248217 \r\nL 350.873967 82.318398 \r\nL 351.020104 82.760011 \r\nL 351.166242 81.668648 \r\nL 351.312379 81.522038 \r\nL 351.458516 83.476785 \r\nL 351.604653 83.553632 \r\nL 351.75079 81.297916 \r\nL 351.896927 81.67941 \r\nL 352.043064 80.668193 \r\nL 352.189201 77.511672 \r\nL 352.335338 77.154374 \r\nL 352.481475 77.573081 \r\nL 352.919886 76.07682 \r\nL 353.066023 76.72419 \r\nL 353.21216 74.904981 \r\nL 353.358297 75.472735 \r\nL 353.650572 72.383594 \r\nL 353.796709 70.956451 \r\nL 354.23512 71.07982 \r\nL 354.381257 71.700717 \r\nL 354.527394 71.18423 \r\nL 354.819668 73.649033 \r\nL 354.965805 73.458824 \r\nL 355.258079 73.465482 \r\nL 355.69649 70.955844 \r\nL 355.842627 71.063462 \r\nL 355.988764 69.463653 \r\nL 356.134902 69.703914 \r\nL 356.281039 69.700669 \r\nL 356.427176 72.224896 \r\nL 356.573313 71.86921 \r\nL 356.71945 73.27542 \r\nL 356.865587 72.995064 \r\nL 357.011724 73.330676 \r\nL 357.157861 69.786998 \r\nL 357.303998 70.284579 \r\nL 357.450135 59.046244 \r\nL 357.596272 59.181459 \r\nL 357.742409 45.376285 \r\nL 357.888546 46.409745 \r\nL 358.18082 37.347127 \r\nL 358.326957 37.197433 \r\nL 358.473094 36.182354 \r\nL 358.765369 28.10358 \r\nL 359.057643 23.668315 \r\nL 359.20378 23.736326 \r\nL 359.349917 22.197741 \r\nL 359.496054 23.208089 \r\nL 359.642191 22.791165 \r\nL 359.788328 22.71399 \r\nL 360.226739 22.175694 \r\nL 360.519013 22.059115 \r\nL 360.66515 21.670141 \r\nL 360.811287 21.812138 \r\nL 360.957424 21.282084 \r\nL 361.103561 21.197591 \r\nL 361.249699 20.43476 \r\nL 361.395836 20.504576 \r\nL 361.541973 21.101035 \r\nL 361.68811 20.898668 \r\nL 361.980384 20.138396 \r\nL 362.126521 20.052017 \r\nL 362.272658 19.805177 \r\nL 362.564932 18.283714 \r\nL 362.711069 18.406862 \r\nL 363.003343 17.860765 \r\nL 363.14948 18.026889 \r\nL 363.295617 18.493061 \r\nL 363.587891 18.276145 \r\nL 363.734029 17.228211 \r\nL 363.880166 17.083636 \r\nL 364.026303 18.43427 \r\nL 364.17244 18.397706 \r\nL 364.318577 17.608846 \r\nL 364.756988 17.732524 \r\nL 364.903125 17.524395 \r\nL 364.903125 17.524395 \r\n\" style=\"fill:none;stroke:#2ca02c;stroke-linecap:square;stroke-width:1.5;\"/>\r\n   </g>\r\n   <g id=\"patch_3\">\r\n    <path d=\"M 30.103125 224.64 \r\nL 30.103125 7.2 \r\n\" style=\"fill:none;stroke:#000000;stroke-linecap:square;stroke-linejoin:miter;stroke-width:0.8;\"/>\r\n   </g>\r\n   <g id=\"patch_4\">\r\n    <path d=\"M 364.903125 224.64 \r\nL 364.903125 7.2 \r\n\" style=\"fill:none;stroke:#000000;stroke-linecap:square;stroke-linejoin:miter;stroke-width:0.8;\"/>\r\n   </g>\r\n   <g id=\"patch_5\">\r\n    <path d=\"M 30.103125 224.64 \r\nL 364.903125 224.64 \r\n\" style=\"fill:none;stroke:#000000;stroke-linecap:square;stroke-linejoin:miter;stroke-width:0.8;\"/>\r\n   </g>\r\n   <g id=\"patch_6\">\r\n    <path d=\"M 30.103125 7.2 \r\nL 364.903125 7.2 \r\n\" style=\"fill:none;stroke:#000000;stroke-linecap:square;stroke-linejoin:miter;stroke-width:0.8;\"/>\r\n   </g>\r\n   <g id=\"legend_1\">\r\n    <g id=\"patch_7\">\r\n     <path d=\"M 37.103125 219.64 \r\nL 95.764063 219.64 \r\nQ 97.764063 219.64 97.764063 217.64 \r\nL 97.764063 174.605625 \r\nQ 97.764063 172.605625 95.764063 172.605625 \r\nL 37.103125 172.605625 \r\nQ 35.103125 172.605625 35.103125 174.605625 \r\nL 35.103125 217.64 \r\nQ 35.103125 219.64 37.103125 219.64 \r\nz\r\n\" style=\"fill:#ffffff;opacity:0.8;stroke:#cccccc;stroke-linejoin:miter;\"/>\r\n    </g>\r\n    <g id=\"line2d_49\">\r\n     <path d=\"M 39.103125 180.704062 \r\nL 59.103125 180.704062 \r\n\" style=\"fill:none;stroke:#1f77b4;stroke-linecap:square;stroke-width:1.5;\"/>\r\n    </g>\r\n    <g id=\"line2d_50\"/>\r\n    <g id=\"text_17\">\r\n     <!-- AAPL -->\r\n     <g transform=\"translate(67.103125 184.204062)scale(0.1 -0.1)\">\r\n      <defs>\r\n       <path d=\"M 34.1875 63.1875 \r\nL 20.796875 26.90625 \r\nL 47.609375 26.90625 \r\nz\r\nM 28.609375 72.90625 \r\nL 39.796875 72.90625 \r\nL 67.578125 0 \r\nL 57.328125 0 \r\nL 50.6875 18.703125 \r\nL 17.828125 18.703125 \r\nL 11.1875 0 \r\nL 0.78125 0 \r\nz\r\n\" id=\"DejaVuSans-65\"/>\r\n       <path d=\"M 19.671875 64.796875 \r\nL 19.671875 37.40625 \r\nL 32.078125 37.40625 \r\nQ 38.96875 37.40625 42.71875 40.96875 \r\nQ 46.484375 44.53125 46.484375 51.125 \r\nQ 46.484375 57.671875 42.71875 61.234375 \r\nQ 38.96875 64.796875 32.078125 64.796875 \r\nz\r\nM 9.8125 72.90625 \r\nL 32.078125 72.90625 \r\nQ 44.34375 72.90625 50.609375 67.359375 \r\nQ 56.890625 61.8125 56.890625 51.125 \r\nQ 56.890625 40.328125 50.609375 34.8125 \r\nQ 44.34375 29.296875 32.078125 29.296875 \r\nL 19.671875 29.296875 \r\nL 19.671875 0 \r\nL 9.8125 0 \r\nz\r\n\" id=\"DejaVuSans-80\"/>\r\n       <path d=\"M 9.8125 72.90625 \r\nL 19.671875 72.90625 \r\nL 19.671875 8.296875 \r\nL 55.171875 8.296875 \r\nL 55.171875 0 \r\nL 9.8125 0 \r\nz\r\n\" id=\"DejaVuSans-76\"/>\r\n      </defs>\r\n      <use xlink:href=\"#DejaVuSans-65\"/>\r\n      <use x=\"71.158203\" xlink:href=\"#DejaVuSans-65\"/>\r\n      <use x=\"139.566406\" xlink:href=\"#DejaVuSans-80\"/>\r\n      <use x=\"199.869141\" xlink:href=\"#DejaVuSans-76\"/>\r\n     </g>\r\n    </g>\r\n    <g id=\"line2d_51\">\r\n     <path d=\"M 39.103125 195.382187 \r\nL 59.103125 195.382187 \r\n\" style=\"fill:none;stroke:#ff7f0e;stroke-linecap:square;stroke-width:1.5;\"/>\r\n    </g>\r\n    <g id=\"line2d_52\"/>\r\n    <g id=\"text_18\">\r\n     <!-- MSFT -->\r\n     <g transform=\"translate(67.103125 198.882187)scale(0.1 -0.1)\">\r\n      <defs>\r\n       <path d=\"M 9.8125 72.90625 \r\nL 24.515625 72.90625 \r\nL 43.109375 23.296875 \r\nL 61.8125 72.90625 \r\nL 76.515625 72.90625 \r\nL 76.515625 0 \r\nL 66.890625 0 \r\nL 66.890625 64.015625 \r\nL 48.09375 14.015625 \r\nL 38.1875 14.015625 \r\nL 19.390625 64.015625 \r\nL 19.390625 0 \r\nL 9.8125 0 \r\nz\r\n\" id=\"DejaVuSans-77\"/>\r\n       <path d=\"M 53.515625 70.515625 \r\nL 53.515625 60.890625 \r\nQ 47.90625 63.578125 42.921875 64.890625 \r\nQ 37.9375 66.21875 33.296875 66.21875 \r\nQ 25.25 66.21875 20.875 63.09375 \r\nQ 16.5 59.96875 16.5 54.203125 \r\nQ 16.5 49.359375 19.40625 46.890625 \r\nQ 22.3125 44.4375 30.421875 42.921875 \r\nL 36.375 41.703125 \r\nQ 47.40625 39.59375 52.65625 34.296875 \r\nQ 57.90625 29 57.90625 20.125 \r\nQ 57.90625 9.515625 50.796875 4.046875 \r\nQ 43.703125 -1.421875 29.984375 -1.421875 \r\nQ 24.8125 -1.421875 18.96875 -0.25 \r\nQ 13.140625 0.921875 6.890625 3.21875 \r\nL 6.890625 13.375 \r\nQ 12.890625 10.015625 18.65625 8.296875 \r\nQ 24.421875 6.59375 29.984375 6.59375 \r\nQ 38.421875 6.59375 43.015625 9.90625 \r\nQ 47.609375 13.234375 47.609375 19.390625 \r\nQ 47.609375 24.75 44.3125 27.78125 \r\nQ 41.015625 30.8125 33.5 32.328125 \r\nL 27.484375 33.5 \r\nQ 16.453125 35.6875 11.515625 40.375 \r\nQ 6.59375 45.0625 6.59375 53.421875 \r\nQ 6.59375 63.09375 13.40625 68.65625 \r\nQ 20.21875 74.21875 32.171875 74.21875 \r\nQ 37.3125 74.21875 42.625 73.28125 \r\nQ 47.953125 72.359375 53.515625 70.515625 \r\nz\r\n\" id=\"DejaVuSans-83\"/>\r\n       <path d=\"M 9.8125 72.90625 \r\nL 51.703125 72.90625 \r\nL 51.703125 64.59375 \r\nL 19.671875 64.59375 \r\nL 19.671875 43.109375 \r\nL 48.578125 43.109375 \r\nL 48.578125 34.8125 \r\nL 19.671875 34.8125 \r\nL 19.671875 0 \r\nL 9.8125 0 \r\nz\r\n\" id=\"DejaVuSans-70\"/>\r\n       <path d=\"M -0.296875 72.90625 \r\nL 61.375 72.90625 \r\nL 61.375 64.59375 \r\nL 35.5 64.59375 \r\nL 35.5 0 \r\nL 25.59375 0 \r\nL 25.59375 64.59375 \r\nL -0.296875 64.59375 \r\nz\r\n\" id=\"DejaVuSans-84\"/>\r\n      </defs>\r\n      <use xlink:href=\"#DejaVuSans-77\"/>\r\n      <use x=\"86.279297\" xlink:href=\"#DejaVuSans-83\"/>\r\n      <use x=\"149.755859\" xlink:href=\"#DejaVuSans-70\"/>\r\n      <use x=\"205.525391\" xlink:href=\"#DejaVuSans-84\"/>\r\n     </g>\r\n    </g>\r\n    <g id=\"line2d_53\">\r\n     <path d=\"M 39.103125 210.060312 \r\nL 59.103125 210.060312 \r\n\" style=\"fill:none;stroke:#2ca02c;stroke-linecap:square;stroke-width:1.5;\"/>\r\n    </g>\r\n    <g id=\"line2d_54\"/>\r\n    <g id=\"text_19\">\r\n     <!-- XOM -->\r\n     <g transform=\"translate(67.103125 213.560312)scale(0.1 -0.1)\">\r\n      <defs>\r\n       <path d=\"M 6.296875 72.90625 \r\nL 16.890625 72.90625 \r\nL 35.015625 45.796875 \r\nL 53.21875 72.90625 \r\nL 63.8125 72.90625 \r\nL 40.375 37.890625 \r\nL 65.375 0 \r\nL 54.78125 0 \r\nL 34.28125 31 \r\nL 13.625 0 \r\nL 2.984375 0 \r\nL 29 38.921875 \r\nz\r\n\" id=\"DejaVuSans-88\"/>\r\n       <path d=\"M 39.40625 66.21875 \r\nQ 28.65625 66.21875 22.328125 58.203125 \r\nQ 16.015625 50.203125 16.015625 36.375 \r\nQ 16.015625 22.609375 22.328125 14.59375 \r\nQ 28.65625 6.59375 39.40625 6.59375 \r\nQ 50.140625 6.59375 56.421875 14.59375 \r\nQ 62.703125 22.609375 62.703125 36.375 \r\nQ 62.703125 50.203125 56.421875 58.203125 \r\nQ 50.140625 66.21875 39.40625 66.21875 \r\nz\r\nM 39.40625 74.21875 \r\nQ 54.734375 74.21875 63.90625 63.9375 \r\nQ 73.09375 53.65625 73.09375 36.375 \r\nQ 73.09375 19.140625 63.90625 8.859375 \r\nQ 54.734375 -1.421875 39.40625 -1.421875 \r\nQ 24.03125 -1.421875 14.8125 8.828125 \r\nQ 5.609375 19.09375 5.609375 36.375 \r\nQ 5.609375 53.65625 14.8125 63.9375 \r\nQ 24.03125 74.21875 39.40625 74.21875 \r\nz\r\n\" id=\"DejaVuSans-79\"/>\r\n      </defs>\r\n      <use xlink:href=\"#DejaVuSans-88\"/>\r\n      <use x=\"62.130859\" xlink:href=\"#DejaVuSans-79\"/>\r\n      <use x=\"140.841797\" xlink:href=\"#DejaVuSans-77\"/>\r\n     </g>\r\n    </g>\r\n   </g>\r\n  </g>\r\n </g>\r\n <defs>\r\n  <clipPath id=\"pcbe2a2e957\">\r\n   <rect height=\"217.44\" width=\"334.8\" x=\"30.103125\" y=\"7.2\"/>\r\n  </clipPath>\r\n </defs>\r\n</svg>\r\n",
      "image/png": "[encoded data removed]"
     },
     "metadata": {
      "needs_background": "light"
     }
    }
   ],
   "source": [
    "corr.plot()"
   ]
  },
  {
   "cell_type": "code",
   "execution_count": 286,
   "metadata": {},
   "outputs": [],
   "source": [
    "from scipy.stats import percentileofscore"
   ]
  },
  {
   "cell_type": "code",
   "execution_count": 287,
   "metadata": {},
   "outputs": [],
   "source": [
    "score_at_2percent = lambda x: percentileofscore(x, 0.02)"
   ]
  },
  {
   "cell_type": "code",
   "execution_count": 288,
   "metadata": {},
   "outputs": [],
   "source": [
    "result = returns.AAPL.rolling(250).apply(score_at_2percent)"
   ]
  },
  {
   "cell_type": "code",
   "execution_count": 289,
   "metadata": {},
   "outputs": [
    {
     "output_type": "execute_result",
     "data": {
      "text/plain": [
       "<AxesSubplot:>"
      ]
     },
     "metadata": {},
     "execution_count": 289
    },
    {
     "output_type": "display_data",
     "data": {
      "text/plain": "<Figure size 432x288 with 1 Axes>",
      "image/svg+xml": "<?xml version=\"1.0\" encoding=\"utf-8\" standalone=\"no\"?>\r\n<!DOCTYPE svg PUBLIC \"-//W3C//DTD SVG 1.1//EN\"\r\n  \"http://www.w3.org/Graphics/SVG/1.1/DTD/svg11.dtd\">\r\n<!-- Created with matplotlib (https://matplotlib.org/) -->\r\n<svg height=\"248.518125pt\" version=\"1.1\" viewBox=\"0 0 378.465625 248.518125\" width=\"378.465625pt\" xmlns=\"http://www.w3.org/2000/svg\" xmlns:xlink=\"http://www.w3.org/1999/xlink\">\r\n <metadata>\r\n  <rdf:RDF xmlns:cc=\"http://creativecommons.org/ns#\" xmlns:dc=\"http://purl.org/dc/elements/1.1/\" xmlns:rdf=\"http://www.w3.org/1999/02/22-rdf-syntax-ns#\">\r\n   <cc:Work>\r\n    <dc:type rdf:resource=\"http://purl.org/dc/dcmitype/StillImage\"/>\r\n    <dc:date>2021-05-11T11:56:14.752391</dc:date>\r\n    <dc:format>image/svg+xml</dc:format>\r\n    <dc:creator>\r\n     <cc:Agent>\r\n      <dc:title>Matplotlib v3.3.2, https://matplotlib.org/</dc:title>\r\n     </cc:Agent>\r\n    </dc:creator>\r\n   </cc:Work>\r\n  </rdf:RDF>\r\n </metadata>\r\n <defs>\r\n  <style type=\"text/css\">*{stroke-linecap:butt;stroke-linejoin:round;}</style>\r\n </defs>\r\n <g id=\"figure_1\">\r\n  <g id=\"patch_1\">\r\n   <path d=\"M 0 248.518125 \r\nL 378.465625 248.518125 \r\nL 378.465625 0 \r\nL 0 0 \r\nz\r\n\" style=\"fill:none;\"/>\r\n  </g>\r\n  <g id=\"axes_1\">\r\n   <g id=\"patch_2\">\r\n    <path d=\"M 36.465625 224.64 \r\nL 371.265625 224.64 \r\nL 371.265625 7.2 \r\nL 36.465625 7.2 \r\nz\r\n\" style=\"fill:#ffffff;\"/>\r\n   </g>\r\n   <g id=\"matplotlib.axis_1\">\r\n    <g id=\"xtick_1\">\r\n     <g id=\"line2d_1\">\r\n      <defs>\r\n       <path d=\"M 0 0 \r\nL 0 3.5 \r\n\" id=\"m82931d25b2\" style=\"stroke:#000000;stroke-width:0.8;\"/>\r\n      </defs>\r\n      <g>\r\n       <use style=\"stroke:#000000;stroke-width:0.8;\" x=\"36.465625\" xlink:href=\"#m82931d25b2\" y=\"224.64\"/>\r\n      </g>\r\n     </g>\r\n    </g>\r\n    <g id=\"xtick_2\">\r\n     <g id=\"line2d_2\">\r\n      <g>\r\n       <use style=\"stroke:#000000;stroke-width:0.8;\" x=\"74.46126\" xlink:href=\"#m82931d25b2\" y=\"224.64\"/>\r\n      </g>\r\n     </g>\r\n     <g id=\"text_1\">\r\n      <!-- 2004 -->\r\n      <g transform=\"translate(61.73626 239.238437)scale(0.1 -0.1)\">\r\n       <defs>\r\n        <path d=\"M 19.1875 8.296875 \r\nL 53.609375 8.296875 \r\nL 53.609375 0 \r\nL 7.328125 0 \r\nL 7.328125 8.296875 \r\nQ 12.9375 14.109375 22.625 23.890625 \r\nQ 32.328125 33.6875 34.8125 36.53125 \r\nQ 39.546875 41.84375 41.421875 45.53125 \r\nQ 43.3125 49.21875 43.3125 52.78125 \r\nQ 43.3125 58.59375 39.234375 62.25 \r\nQ 35.15625 65.921875 28.609375 65.921875 \r\nQ 23.96875 65.921875 18.8125 64.3125 \r\nQ 13.671875 62.703125 7.8125 59.421875 \r\nL 7.8125 69.390625 \r\nQ 13.765625 71.78125 18.9375 73 \r\nQ 24.125 74.21875 28.421875 74.21875 \r\nQ 39.75 74.21875 46.484375 68.546875 \r\nQ 53.21875 62.890625 53.21875 53.421875 \r\nQ 53.21875 48.921875 51.53125 44.890625 \r\nQ 49.859375 40.875 45.40625 35.40625 \r\nQ 44.1875 33.984375 37.640625 27.21875 \r\nQ 31.109375 20.453125 19.1875 8.296875 \r\nz\r\n\" id=\"DejaVuSans-50\"/>\r\n        <path d=\"M 31.78125 66.40625 \r\nQ 24.171875 66.40625 20.328125 58.90625 \r\nQ 16.5 51.421875 16.5 36.375 \r\nQ 16.5 21.390625 20.328125 13.890625 \r\nQ 24.171875 6.390625 31.78125 6.390625 \r\nQ 39.453125 6.390625 43.28125 13.890625 \r\nQ 47.125 21.390625 47.125 36.375 \r\nQ 47.125 51.421875 43.28125 58.90625 \r\nQ 39.453125 66.40625 31.78125 66.40625 \r\nz\r\nM 31.78125 74.21875 \r\nQ 44.046875 74.21875 50.515625 64.515625 \r\nQ 56.984375 54.828125 56.984375 36.375 \r\nQ 56.984375 17.96875 50.515625 8.265625 \r\nQ 44.046875 -1.421875 31.78125 -1.421875 \r\nQ 19.53125 -1.421875 13.0625 8.265625 \r\nQ 6.59375 17.96875 6.59375 36.375 \r\nQ 6.59375 54.828125 13.0625 64.515625 \r\nQ 19.53125 74.21875 31.78125 74.21875 \r\nz\r\n\" id=\"DejaVuSans-48\"/>\r\n        <path d=\"M 37.796875 64.3125 \r\nL 12.890625 25.390625 \r\nL 37.796875 25.390625 \r\nz\r\nM 35.203125 72.90625 \r\nL 47.609375 72.90625 \r\nL 47.609375 25.390625 \r\nL 58.015625 25.390625 \r\nL 58.015625 17.1875 \r\nL 47.609375 17.1875 \r\nL 47.609375 0 \r\nL 37.796875 0 \r\nL 37.796875 17.1875 \r\nL 4.890625 17.1875 \r\nL 4.890625 26.703125 \r\nz\r\n\" id=\"DejaVuSans-52\"/>\r\n       </defs>\r\n       <use xlink:href=\"#DejaVuSans-50\"/>\r\n       <use x=\"63.623047\" xlink:href=\"#DejaVuSans-48\"/>\r\n       <use x=\"127.246094\" xlink:href=\"#DejaVuSans-48\"/>\r\n       <use x=\"190.869141\" xlink:href=\"#DejaVuSans-52\"/>\r\n      </g>\r\n     </g>\r\n    </g>\r\n    <g id=\"xtick_3\">\r\n     <g id=\"line2d_3\">\r\n      <g>\r\n       <use style=\"stroke:#000000;stroke-width:0.8;\" x=\"112.749169\" xlink:href=\"#m82931d25b2\" y=\"224.64\"/>\r\n      </g>\r\n     </g>\r\n     <g id=\"text_2\">\r\n      <!-- 2005 -->\r\n      <g transform=\"translate(100.024169 239.238437)scale(0.1 -0.1)\">\r\n       <defs>\r\n        <path d=\"M 10.796875 72.90625 \r\nL 49.515625 72.90625 \r\nL 49.515625 64.59375 \r\nL 19.828125 64.59375 \r\nL 19.828125 46.734375 \r\nQ 21.96875 47.46875 24.109375 47.828125 \r\nQ 26.265625 48.1875 28.421875 48.1875 \r\nQ 40.625 48.1875 47.75 41.5 \r\nQ 54.890625 34.8125 54.890625 23.390625 \r\nQ 54.890625 11.625 47.5625 5.09375 \r\nQ 40.234375 -1.421875 26.90625 -1.421875 \r\nQ 22.3125 -1.421875 17.546875 -0.640625 \r\nQ 12.796875 0.140625 7.71875 1.703125 \r\nL 7.71875 11.625 \r\nQ 12.109375 9.234375 16.796875 8.0625 \r\nQ 21.484375 6.890625 26.703125 6.890625 \r\nQ 35.15625 6.890625 40.078125 11.328125 \r\nQ 45.015625 15.765625 45.015625 23.390625 \r\nQ 45.015625 31 40.078125 35.4375 \r\nQ 35.15625 39.890625 26.703125 39.890625 \r\nQ 22.75 39.890625 18.8125 39.015625 \r\nQ 14.890625 38.140625 10.796875 36.28125 \r\nz\r\n\" id=\"DejaVuSans-53\"/>\r\n       </defs>\r\n       <use xlink:href=\"#DejaVuSans-50\"/>\r\n       <use x=\"63.623047\" xlink:href=\"#DejaVuSans-48\"/>\r\n       <use x=\"127.246094\" xlink:href=\"#DejaVuSans-48\"/>\r\n       <use x=\"190.869141\" xlink:href=\"#DejaVuSans-53\"/>\r\n      </g>\r\n     </g>\r\n    </g>\r\n    <g id=\"xtick_4\">\r\n     <g id=\"line2d_4\">\r\n      <g>\r\n       <use style=\"stroke:#000000;stroke-width:0.8;\" x=\"150.744804\" xlink:href=\"#m82931d25b2\" y=\"224.64\"/>\r\n      </g>\r\n     </g>\r\n     <g id=\"text_3\">\r\n      <!-- 2006 -->\r\n      <g transform=\"translate(138.019804 239.238437)scale(0.1 -0.1)\">\r\n       <defs>\r\n        <path d=\"M 33.015625 40.375 \r\nQ 26.375 40.375 22.484375 35.828125 \r\nQ 18.609375 31.296875 18.609375 23.390625 \r\nQ 18.609375 15.53125 22.484375 10.953125 \r\nQ 26.375 6.390625 33.015625 6.390625 \r\nQ 39.65625 6.390625 43.53125 10.953125 \r\nQ 47.40625 15.53125 47.40625 23.390625 \r\nQ 47.40625 31.296875 43.53125 35.828125 \r\nQ 39.65625 40.375 33.015625 40.375 \r\nz\r\nM 52.59375 71.296875 \r\nL 52.59375 62.3125 \r\nQ 48.875 64.0625 45.09375 64.984375 \r\nQ 41.3125 65.921875 37.59375 65.921875 \r\nQ 27.828125 65.921875 22.671875 59.328125 \r\nQ 17.53125 52.734375 16.796875 39.40625 \r\nQ 19.671875 43.65625 24.015625 45.921875 \r\nQ 28.375 48.1875 33.59375 48.1875 \r\nQ 44.578125 48.1875 50.953125 41.515625 \r\nQ 57.328125 34.859375 57.328125 23.390625 \r\nQ 57.328125 12.15625 50.6875 5.359375 \r\nQ 44.046875 -1.421875 33.015625 -1.421875 \r\nQ 20.359375 -1.421875 13.671875 8.265625 \r\nQ 6.984375 17.96875 6.984375 36.375 \r\nQ 6.984375 53.65625 15.1875 63.9375 \r\nQ 23.390625 74.21875 37.203125 74.21875 \r\nQ 40.921875 74.21875 44.703125 73.484375 \r\nQ 48.484375 72.75 52.59375 71.296875 \r\nz\r\n\" id=\"DejaVuSans-54\"/>\r\n       </defs>\r\n       <use xlink:href=\"#DejaVuSans-50\"/>\r\n       <use x=\"63.623047\" xlink:href=\"#DejaVuSans-48\"/>\r\n       <use x=\"127.246094\" xlink:href=\"#DejaVuSans-48\"/>\r\n       <use x=\"190.869141\" xlink:href=\"#DejaVuSans-54\"/>\r\n      </g>\r\n     </g>\r\n    </g>\r\n    <g id=\"xtick_5\">\r\n     <g id=\"line2d_5\">\r\n      <g>\r\n       <use style=\"stroke:#000000;stroke-width:0.8;\" x=\"188.740439\" xlink:href=\"#m82931d25b2\" y=\"224.64\"/>\r\n      </g>\r\n     </g>\r\n     <g id=\"text_4\">\r\n      <!-- 2007 -->\r\n      <g transform=\"translate(176.015439 239.238437)scale(0.1 -0.1)\">\r\n       <defs>\r\n        <path d=\"M 8.203125 72.90625 \r\nL 55.078125 72.90625 \r\nL 55.078125 68.703125 \r\nL 28.609375 0 \r\nL 18.3125 0 \r\nL 43.21875 64.59375 \r\nL 8.203125 64.59375 \r\nz\r\n\" id=\"DejaVuSans-55\"/>\r\n       </defs>\r\n       <use xlink:href=\"#DejaVuSans-50\"/>\r\n       <use x=\"63.623047\" xlink:href=\"#DejaVuSans-48\"/>\r\n       <use x=\"127.246094\" xlink:href=\"#DejaVuSans-48\"/>\r\n       <use x=\"190.869141\" xlink:href=\"#DejaVuSans-55\"/>\r\n      </g>\r\n     </g>\r\n    </g>\r\n    <g id=\"xtick_6\">\r\n     <g id=\"line2d_6\">\r\n      <g>\r\n       <use style=\"stroke:#000000;stroke-width:0.8;\" x=\"226.882212\" xlink:href=\"#m82931d25b2\" y=\"224.64\"/>\r\n      </g>\r\n     </g>\r\n     <g id=\"text_5\">\r\n      <!-- 2008 -->\r\n      <g transform=\"translate(214.157212 239.238437)scale(0.1 -0.1)\">\r\n       <defs>\r\n        <path d=\"M 31.78125 34.625 \r\nQ 24.75 34.625 20.71875 30.859375 \r\nQ 16.703125 27.09375 16.703125 20.515625 \r\nQ 16.703125 13.921875 20.71875 10.15625 \r\nQ 24.75 6.390625 31.78125 6.390625 \r\nQ 38.8125 6.390625 42.859375 10.171875 \r\nQ 46.921875 13.96875 46.921875 20.515625 \r\nQ 46.921875 27.09375 42.890625 30.859375 \r\nQ 38.875 34.625 31.78125 34.625 \r\nz\r\nM 21.921875 38.8125 \r\nQ 15.578125 40.375 12.03125 44.71875 \r\nQ 8.5 49.078125 8.5 55.328125 \r\nQ 8.5 64.0625 14.71875 69.140625 \r\nQ 20.953125 74.21875 31.78125 74.21875 \r\nQ 42.671875 74.21875 48.875 69.140625 \r\nQ 55.078125 64.0625 55.078125 55.328125 \r\nQ 55.078125 49.078125 51.53125 44.71875 \r\nQ 48 40.375 41.703125 38.8125 \r\nQ 48.828125 37.15625 52.796875 32.3125 \r\nQ 56.78125 27.484375 56.78125 20.515625 \r\nQ 56.78125 9.90625 50.3125 4.234375 \r\nQ 43.84375 -1.421875 31.78125 -1.421875 \r\nQ 19.734375 -1.421875 13.25 4.234375 \r\nQ 6.78125 9.90625 6.78125 20.515625 \r\nQ 6.78125 27.484375 10.78125 32.3125 \r\nQ 14.796875 37.15625 21.921875 38.8125 \r\nz\r\nM 18.3125 54.390625 \r\nQ 18.3125 48.734375 21.84375 45.5625 \r\nQ 25.390625 42.390625 31.78125 42.390625 \r\nQ 38.140625 42.390625 41.71875 45.5625 \r\nQ 45.3125 48.734375 45.3125 54.390625 \r\nQ 45.3125 60.0625 41.71875 63.234375 \r\nQ 38.140625 66.40625 31.78125 66.40625 \r\nQ 25.390625 66.40625 21.84375 63.234375 \r\nQ 18.3125 60.0625 18.3125 54.390625 \r\nz\r\n\" id=\"DejaVuSans-56\"/>\r\n       </defs>\r\n       <use xlink:href=\"#DejaVuSans-50\"/>\r\n       <use x=\"63.623047\" xlink:href=\"#DejaVuSans-48\"/>\r\n       <use x=\"127.246094\" xlink:href=\"#DejaVuSans-48\"/>\r\n       <use x=\"190.869141\" xlink:href=\"#DejaVuSans-56\"/>\r\n      </g>\r\n     </g>\r\n    </g>\r\n    <g id=\"xtick_7\">\r\n     <g id=\"line2d_7\">\r\n      <g>\r\n       <use style=\"stroke:#000000;stroke-width:0.8;\" x=\"265.170121\" xlink:href=\"#m82931d25b2\" y=\"224.64\"/>\r\n      </g>\r\n     </g>\r\n     <g id=\"text_6\">\r\n      <!-- 2009 -->\r\n      <g transform=\"translate(252.445121 239.238437)scale(0.1 -0.1)\">\r\n       <defs>\r\n        <path d=\"M 10.984375 1.515625 \r\nL 10.984375 10.5 \r\nQ 14.703125 8.734375 18.5 7.8125 \r\nQ 22.3125 6.890625 25.984375 6.890625 \r\nQ 35.75 6.890625 40.890625 13.453125 \r\nQ 46.046875 20.015625 46.78125 33.40625 \r\nQ 43.953125 29.203125 39.59375 26.953125 \r\nQ 35.25 24.703125 29.984375 24.703125 \r\nQ 19.046875 24.703125 12.671875 31.3125 \r\nQ 6.296875 37.9375 6.296875 49.421875 \r\nQ 6.296875 60.640625 12.9375 67.421875 \r\nQ 19.578125 74.21875 30.609375 74.21875 \r\nQ 43.265625 74.21875 49.921875 64.515625 \r\nQ 56.59375 54.828125 56.59375 36.375 \r\nQ 56.59375 19.140625 48.40625 8.859375 \r\nQ 40.234375 -1.421875 26.421875 -1.421875 \r\nQ 22.703125 -1.421875 18.890625 -0.6875 \r\nQ 15.09375 0.046875 10.984375 1.515625 \r\nz\r\nM 30.609375 32.421875 \r\nQ 37.25 32.421875 41.125 36.953125 \r\nQ 45.015625 41.5 45.015625 49.421875 \r\nQ 45.015625 57.28125 41.125 61.84375 \r\nQ 37.25 66.40625 30.609375 66.40625 \r\nQ 23.96875 66.40625 20.09375 61.84375 \r\nQ 16.21875 57.28125 16.21875 49.421875 \r\nQ 16.21875 41.5 20.09375 36.953125 \r\nQ 23.96875 32.421875 30.609375 32.421875 \r\nz\r\n\" id=\"DejaVuSans-57\"/>\r\n       </defs>\r\n       <use xlink:href=\"#DejaVuSans-50\"/>\r\n       <use x=\"63.623047\" xlink:href=\"#DejaVuSans-48\"/>\r\n       <use x=\"127.246094\" xlink:href=\"#DejaVuSans-48\"/>\r\n       <use x=\"190.869141\" xlink:href=\"#DejaVuSans-57\"/>\r\n      </g>\r\n     </g>\r\n    </g>\r\n    <g id=\"xtick_8\">\r\n     <g id=\"line2d_8\">\r\n      <g>\r\n       <use style=\"stroke:#000000;stroke-width:0.8;\" x=\"303.311893\" xlink:href=\"#m82931d25b2\" y=\"224.64\"/>\r\n      </g>\r\n     </g>\r\n     <g id=\"text_7\">\r\n      <!-- 2010 -->\r\n      <g transform=\"translate(290.586893 239.238437)scale(0.1 -0.1)\">\r\n       <defs>\r\n        <path d=\"M 12.40625 8.296875 \r\nL 28.515625 8.296875 \r\nL 28.515625 63.921875 \r\nL 10.984375 60.40625 \r\nL 10.984375 69.390625 \r\nL 28.421875 72.90625 \r\nL 38.28125 72.90625 \r\nL 38.28125 8.296875 \r\nL 54.390625 8.296875 \r\nL 54.390625 0 \r\nL 12.40625 0 \r\nz\r\n\" id=\"DejaVuSans-49\"/>\r\n       </defs>\r\n       <use xlink:href=\"#DejaVuSans-50\"/>\r\n       <use x=\"63.623047\" xlink:href=\"#DejaVuSans-48\"/>\r\n       <use x=\"127.246094\" xlink:href=\"#DejaVuSans-49\"/>\r\n       <use x=\"190.869141\" xlink:href=\"#DejaVuSans-48\"/>\r\n      </g>\r\n     </g>\r\n    </g>\r\n    <g id=\"xtick_9\">\r\n     <g id=\"line2d_9\">\r\n      <g>\r\n       <use style=\"stroke:#000000;stroke-width:0.8;\" x=\"341.453665\" xlink:href=\"#m82931d25b2\" y=\"224.64\"/>\r\n      </g>\r\n     </g>\r\n     <g id=\"text_8\">\r\n      <!-- 2011 -->\r\n      <g transform=\"translate(328.728665 239.238437)scale(0.1 -0.1)\">\r\n       <use xlink:href=\"#DejaVuSans-50\"/>\r\n       <use x=\"63.623047\" xlink:href=\"#DejaVuSans-48\"/>\r\n       <use x=\"127.246094\" xlink:href=\"#DejaVuSans-49\"/>\r\n       <use x=\"190.869141\" xlink:href=\"#DejaVuSans-49\"/>\r\n      </g>\r\n     </g>\r\n    </g>\r\n    <g id=\"xtick_10\">\r\n     <g id=\"line2d_10\">\r\n      <g>\r\n       <use style=\"stroke:#000000;stroke-width:0.8;\" x=\"371.265625\" xlink:href=\"#m82931d25b2\" y=\"224.64\"/>\r\n      </g>\r\n     </g>\r\n    </g>\r\n    <g id=\"xtick_11\">\r\n     <g id=\"line2d_11\">\r\n      <defs>\r\n       <path d=\"M 0 0 \r\nL 0 2 \r\n\" id=\"m67de4b4de7\" style=\"stroke:#000000;stroke-width:0.6;\"/>\r\n      </defs>\r\n      <g>\r\n       <use style=\"stroke:#000000;stroke-width:0.6;\" x=\"45.67226\" xlink:href=\"#m67de4b4de7\" y=\"224.64\"/>\r\n      </g>\r\n     </g>\r\n    </g>\r\n    <g id=\"xtick_12\">\r\n     <g id=\"line2d_12\">\r\n      <g>\r\n       <use style=\"stroke:#000000;stroke-width:0.6;\" x=\"55.171168\" xlink:href=\"#m67de4b4de7\" y=\"224.64\"/>\r\n      </g>\r\n     </g>\r\n    </g>\r\n    <g id=\"xtick_13\">\r\n     <g id=\"line2d_13\">\r\n      <g>\r\n       <use style=\"stroke:#000000;stroke-width:0.6;\" x=\"64.816214\" xlink:href=\"#m67de4b4de7\" y=\"224.64\"/>\r\n      </g>\r\n     </g>\r\n    </g>\r\n    <g id=\"xtick_14\">\r\n     <g id=\"line2d_14\">\r\n      <g>\r\n       <use style=\"stroke:#000000;stroke-width:0.6;\" x=\"83.960169\" xlink:href=\"#m67de4b4de7\" y=\"224.64\"/>\r\n      </g>\r\n     </g>\r\n    </g>\r\n    <g id=\"xtick_15\">\r\n     <g id=\"line2d_15\">\r\n      <g>\r\n       <use style=\"stroke:#000000;stroke-width:0.6;\" x=\"93.459078\" xlink:href=\"#m67de4b4de7\" y=\"224.64\"/>\r\n      </g>\r\n     </g>\r\n    </g>\r\n    <g id=\"xtick_16\">\r\n     <g id=\"line2d_16\">\r\n      <g>\r\n       <use style=\"stroke:#000000;stroke-width:0.6;\" x=\"103.104123\" xlink:href=\"#m67de4b4de7\" y=\"224.64\"/>\r\n      </g>\r\n     </g>\r\n    </g>\r\n    <g id=\"xtick_17\">\r\n     <g id=\"line2d_17\">\r\n      <g>\r\n       <use style=\"stroke:#000000;stroke-width:0.6;\" x=\"122.101941\" xlink:href=\"#m67de4b4de7\" y=\"224.64\"/>\r\n      </g>\r\n     </g>\r\n    </g>\r\n    <g id=\"xtick_18\">\r\n     <g id=\"line2d_18\">\r\n      <g>\r\n       <use style=\"stroke:#000000;stroke-width:0.6;\" x=\"131.60085\" xlink:href=\"#m67de4b4de7\" y=\"224.64\"/>\r\n      </g>\r\n     </g>\r\n    </g>\r\n    <g id=\"xtick_19\">\r\n     <g id=\"line2d_19\">\r\n      <g>\r\n       <use style=\"stroke:#000000;stroke-width:0.6;\" x=\"141.245896\" xlink:href=\"#m67de4b4de7\" y=\"224.64\"/>\r\n      </g>\r\n     </g>\r\n    </g>\r\n    <g id=\"xtick_20\">\r\n     <g id=\"line2d_20\">\r\n      <g>\r\n       <use style=\"stroke:#000000;stroke-width:0.6;\" x=\"160.243713\" xlink:href=\"#m67de4b4de7\" y=\"224.64\"/>\r\n      </g>\r\n     </g>\r\n    </g>\r\n    <g id=\"xtick_21\">\r\n     <g id=\"line2d_21\">\r\n      <g>\r\n       <use style=\"stroke:#000000;stroke-width:0.6;\" x=\"169.742622\" xlink:href=\"#m67de4b4de7\" y=\"224.64\"/>\r\n      </g>\r\n     </g>\r\n    </g>\r\n    <g id=\"xtick_22\">\r\n     <g id=\"line2d_22\">\r\n      <g>\r\n       <use style=\"stroke:#000000;stroke-width:0.6;\" x=\"179.241531\" xlink:href=\"#m67de4b4de7\" y=\"224.64\"/>\r\n      </g>\r\n     </g>\r\n    </g>\r\n    <g id=\"xtick_23\">\r\n     <g id=\"line2d_23\">\r\n      <g>\r\n       <use style=\"stroke:#000000;stroke-width:0.6;\" x=\"198.239348\" xlink:href=\"#m67de4b4de7\" y=\"224.64\"/>\r\n      </g>\r\n     </g>\r\n    </g>\r\n    <g id=\"xtick_24\">\r\n     <g id=\"line2d_24\">\r\n      <g>\r\n       <use style=\"stroke:#000000;stroke-width:0.6;\" x=\"207.738257\" xlink:href=\"#m67de4b4de7\" y=\"224.64\"/>\r\n      </g>\r\n     </g>\r\n    </g>\r\n    <g id=\"xtick_25\">\r\n     <g id=\"line2d_25\">\r\n      <g>\r\n       <use style=\"stroke:#000000;stroke-width:0.6;\" x=\"217.237166\" xlink:href=\"#m67de4b4de7\" y=\"224.64\"/>\r\n      </g>\r\n     </g>\r\n    </g>\r\n    <g id=\"xtick_26\">\r\n     <g id=\"line2d_26\">\r\n      <g>\r\n       <use style=\"stroke:#000000;stroke-width:0.6;\" x=\"236.38112\" xlink:href=\"#m67de4b4de7\" y=\"224.64\"/>\r\n      </g>\r\n     </g>\r\n    </g>\r\n    <g id=\"xtick_27\">\r\n     <g id=\"line2d_27\">\r\n      <g>\r\n       <use style=\"stroke:#000000;stroke-width:0.6;\" x=\"245.880029\" xlink:href=\"#m67de4b4de7\" y=\"224.64\"/>\r\n      </g>\r\n     </g>\r\n    </g>\r\n    <g id=\"xtick_28\">\r\n     <g id=\"line2d_28\">\r\n      <g>\r\n       <use style=\"stroke:#000000;stroke-width:0.6;\" x=\"255.525075\" xlink:href=\"#m67de4b4de7\" y=\"224.64\"/>\r\n      </g>\r\n     </g>\r\n    </g>\r\n    <g id=\"xtick_29\">\r\n     <g id=\"line2d_29\">\r\n      <g>\r\n       <use style=\"stroke:#000000;stroke-width:0.6;\" x=\"274.522893\" xlink:href=\"#m67de4b4de7\" y=\"224.64\"/>\r\n      </g>\r\n     </g>\r\n    </g>\r\n    <g id=\"xtick_30\">\r\n     <g id=\"line2d_30\">\r\n      <g>\r\n       <use style=\"stroke:#000000;stroke-width:0.6;\" x=\"284.021801\" xlink:href=\"#m67de4b4de7\" y=\"224.64\"/>\r\n      </g>\r\n     </g>\r\n    </g>\r\n    <g id=\"xtick_31\">\r\n     <g id=\"line2d_31\">\r\n      <g>\r\n       <use style=\"stroke:#000000;stroke-width:0.6;\" x=\"293.666847\" xlink:href=\"#m67de4b4de7\" y=\"224.64\"/>\r\n      </g>\r\n     </g>\r\n    </g>\r\n    <g id=\"xtick_32\">\r\n     <g id=\"line2d_32\">\r\n      <g>\r\n       <use style=\"stroke:#000000;stroke-width:0.6;\" x=\"312.664665\" xlink:href=\"#m67de4b4de7\" y=\"224.64\"/>\r\n      </g>\r\n     </g>\r\n    </g>\r\n    <g id=\"xtick_33\">\r\n     <g id=\"line2d_33\">\r\n      <g>\r\n       <use style=\"stroke:#000000;stroke-width:0.6;\" x=\"322.163573\" xlink:href=\"#m67de4b4de7\" y=\"224.64\"/>\r\n      </g>\r\n     </g>\r\n    </g>\r\n    <g id=\"xtick_34\">\r\n     <g id=\"line2d_34\">\r\n      <g>\r\n       <use style=\"stroke:#000000;stroke-width:0.6;\" x=\"331.808619\" xlink:href=\"#m67de4b4de7\" y=\"224.64\"/>\r\n      </g>\r\n     </g>\r\n    </g>\r\n    <g id=\"xtick_35\">\r\n     <g id=\"line2d_35\">\r\n      <g>\r\n       <use style=\"stroke:#000000;stroke-width:0.6;\" x=\"350.806437\" xlink:href=\"#m67de4b4de7\" y=\"224.64\"/>\r\n      </g>\r\n     </g>\r\n    </g>\r\n    <g id=\"xtick_36\">\r\n     <g id=\"line2d_36\">\r\n      <g>\r\n       <use style=\"stroke:#000000;stroke-width:0.6;\" x=\"360.305346\" xlink:href=\"#m67de4b4de7\" y=\"224.64\"/>\r\n      </g>\r\n     </g>\r\n    </g>\r\n    <g id=\"xtick_37\">\r\n     <g id=\"line2d_37\">\r\n      <g>\r\n       <use style=\"stroke:#000000;stroke-width:0.6;\" x=\"369.950391\" xlink:href=\"#m67de4b4de7\" y=\"224.64\"/>\r\n      </g>\r\n     </g>\r\n    </g>\r\n   </g>\r\n   <g id=\"matplotlib.axis_2\">\r\n    <g id=\"ytick_1\">\r\n     <g id=\"line2d_38\">\r\n      <defs>\r\n       <path d=\"M 0 0 \r\nL -3.5 0 \r\n\" id=\"m2a00cd3ffc\" style=\"stroke:#000000;stroke-width:0.8;\"/>\r\n      </defs>\r\n      <g>\r\n       <use style=\"stroke:#000000;stroke-width:0.8;\" x=\"36.465625\" xlink:href=\"#m2a00cd3ffc\" y=\"208.579091\"/>\r\n      </g>\r\n     </g>\r\n     <g id=\"text_9\">\r\n      <!-- 75.0 -->\r\n      <g transform=\"translate(7.2 212.37831)scale(0.1 -0.1)\">\r\n       <defs>\r\n        <path d=\"M 10.6875 12.40625 \r\nL 21 12.40625 \r\nL 21 0 \r\nL 10.6875 0 \r\nz\r\n\" id=\"DejaVuSans-46\"/>\r\n       </defs>\r\n       <use xlink:href=\"#DejaVuSans-55\"/>\r\n       <use x=\"63.623047\" xlink:href=\"#DejaVuSans-53\"/>\r\n       <use x=\"127.246094\" xlink:href=\"#DejaVuSans-46\"/>\r\n       <use x=\"159.033203\" xlink:href=\"#DejaVuSans-48\"/>\r\n      </g>\r\n     </g>\r\n    </g>\r\n    <g id=\"ytick_2\">\r\n     <g id=\"line2d_39\">\r\n      <g>\r\n       <use style=\"stroke:#000000;stroke-width:0.8;\" x=\"36.465625\" xlink:href=\"#m2a00cd3ffc\" y=\"182.840455\"/>\r\n      </g>\r\n     </g>\r\n     <g id=\"text_10\">\r\n      <!-- 77.5 -->\r\n      <g transform=\"translate(7.2 186.639673)scale(0.1 -0.1)\">\r\n       <use xlink:href=\"#DejaVuSans-55\"/>\r\n       <use x=\"63.623047\" xlink:href=\"#DejaVuSans-55\"/>\r\n       <use x=\"127.246094\" xlink:href=\"#DejaVuSans-46\"/>\r\n       <use x=\"159.033203\" xlink:href=\"#DejaVuSans-53\"/>\r\n      </g>\r\n     </g>\r\n    </g>\r\n    <g id=\"ytick_3\">\r\n     <g id=\"line2d_40\">\r\n      <g>\r\n       <use style=\"stroke:#000000;stroke-width:0.8;\" x=\"36.465625\" xlink:href=\"#m2a00cd3ffc\" y=\"157.101818\"/>\r\n      </g>\r\n     </g>\r\n     <g id=\"text_11\">\r\n      <!-- 80.0 -->\r\n      <g transform=\"translate(7.2 160.901037)scale(0.1 -0.1)\">\r\n       <use xlink:href=\"#DejaVuSans-56\"/>\r\n       <use x=\"63.623047\" xlink:href=\"#DejaVuSans-48\"/>\r\n       <use x=\"127.246094\" xlink:href=\"#DejaVuSans-46\"/>\r\n       <use x=\"159.033203\" xlink:href=\"#DejaVuSans-48\"/>\r\n      </g>\r\n     </g>\r\n    </g>\r\n    <g id=\"ytick_4\">\r\n     <g id=\"line2d_41\">\r\n      <g>\r\n       <use style=\"stroke:#000000;stroke-width:0.8;\" x=\"36.465625\" xlink:href=\"#m2a00cd3ffc\" y=\"131.363182\"/>\r\n      </g>\r\n     </g>\r\n     <g id=\"text_12\">\r\n      <!-- 82.5 -->\r\n      <g transform=\"translate(7.2 135.162401)scale(0.1 -0.1)\">\r\n       <use xlink:href=\"#DejaVuSans-56\"/>\r\n       <use x=\"63.623047\" xlink:href=\"#DejaVuSans-50\"/>\r\n       <use x=\"127.246094\" xlink:href=\"#DejaVuSans-46\"/>\r\n       <use x=\"159.033203\" xlink:href=\"#DejaVuSans-53\"/>\r\n      </g>\r\n     </g>\r\n    </g>\r\n    <g id=\"ytick_5\">\r\n     <g id=\"line2d_42\">\r\n      <g>\r\n       <use style=\"stroke:#000000;stroke-width:0.8;\" x=\"36.465625\" xlink:href=\"#m2a00cd3ffc\" y=\"105.624545\"/>\r\n      </g>\r\n     </g>\r\n     <g id=\"text_13\">\r\n      <!-- 85.0 -->\r\n      <g transform=\"translate(7.2 109.423764)scale(0.1 -0.1)\">\r\n       <use xlink:href=\"#DejaVuSans-56\"/>\r\n       <use x=\"63.623047\" xlink:href=\"#DejaVuSans-53\"/>\r\n       <use x=\"127.246094\" xlink:href=\"#DejaVuSans-46\"/>\r\n       <use x=\"159.033203\" xlink:href=\"#DejaVuSans-48\"/>\r\n      </g>\r\n     </g>\r\n    </g>\r\n    <g id=\"ytick_6\">\r\n     <g id=\"line2d_43\">\r\n      <g>\r\n       <use style=\"stroke:#000000;stroke-width:0.8;\" x=\"36.465625\" xlink:href=\"#m2a00cd3ffc\" y=\"79.885909\"/>\r\n      </g>\r\n     </g>\r\n     <g id=\"text_14\">\r\n      <!-- 87.5 -->\r\n      <g transform=\"translate(7.2 83.685128)scale(0.1 -0.1)\">\r\n       <use xlink:href=\"#DejaVuSans-56\"/>\r\n       <use x=\"63.623047\" xlink:href=\"#DejaVuSans-55\"/>\r\n       <use x=\"127.246094\" xlink:href=\"#DejaVuSans-46\"/>\r\n       <use x=\"159.033203\" xlink:href=\"#DejaVuSans-53\"/>\r\n      </g>\r\n     </g>\r\n    </g>\r\n    <g id=\"ytick_7\">\r\n     <g id=\"line2d_44\">\r\n      <g>\r\n       <use style=\"stroke:#000000;stroke-width:0.8;\" x=\"36.465625\" xlink:href=\"#m2a00cd3ffc\" y=\"54.147273\"/>\r\n      </g>\r\n     </g>\r\n     <g id=\"text_15\">\r\n      <!-- 90.0 -->\r\n      <g transform=\"translate(7.2 57.946491)scale(0.1 -0.1)\">\r\n       <use xlink:href=\"#DejaVuSans-57\"/>\r\n       <use x=\"63.623047\" xlink:href=\"#DejaVuSans-48\"/>\r\n       <use x=\"127.246094\" xlink:href=\"#DejaVuSans-46\"/>\r\n       <use x=\"159.033203\" xlink:href=\"#DejaVuSans-48\"/>\r\n      </g>\r\n     </g>\r\n    </g>\r\n    <g id=\"ytick_8\">\r\n     <g id=\"line2d_45\">\r\n      <g>\r\n       <use style=\"stroke:#000000;stroke-width:0.8;\" x=\"36.465625\" xlink:href=\"#m2a00cd3ffc\" y=\"28.408636\"/>\r\n      </g>\r\n     </g>\r\n     <g id=\"text_16\">\r\n      <!-- 92.5 -->\r\n      <g transform=\"translate(7.2 32.207855)scale(0.1 -0.1)\">\r\n       <use xlink:href=\"#DejaVuSans-57\"/>\r\n       <use x=\"63.623047\" xlink:href=\"#DejaVuSans-50\"/>\r\n       <use x=\"127.246094\" xlink:href=\"#DejaVuSans-46\"/>\r\n       <use x=\"159.033203\" xlink:href=\"#DejaVuSans-53\"/>\r\n      </g>\r\n     </g>\r\n    </g>\r\n   </g>\r\n   <g id=\"line2d_46\">\r\n    <path clip-path=\"url(#p9b28aaf052)\" d=\"M 72.99989 136.510909 \r\nL 73.438301 136.510909 \r\nL 73.584438 140.629091 \r\nL 74.607397 140.629091 \r\nL 74.753534 144.747273 \r\nL 74.899671 144.747273 \r\nL 75.045808 148.865455 \r\nL 75.48422 148.865455 \r\nL 75.776494 140.629091 \r\nL 76.068768 140.629091 \r\nL 76.214905 136.510909 \r\nL 76.799453 136.510909 \r\nL 76.94559 140.629091 \r\nL 77.676275 140.629091 \r\nL 77.822412 136.510909 \r\nL 77.968549 136.510909 \r\nL 78.114687 140.629091 \r\nL 78.553098 140.629091 \r\nL 78.699235 144.747273 \r\nL 78.845372 140.629091 \r\nL 80.160605 140.629091 \r\nL 80.306742 136.510909 \r\nL 80.452879 140.629091 \r\nL 80.891291 140.629091 \r\nL 81.183565 148.865455 \r\nL 81.329702 148.865455 \r\nL 81.621976 157.101818 \r\nL 82.206524 157.101818 \r\nL 82.352661 152.983636 \r\nL 83.083347 152.983636 \r\nL 83.229484 157.101818 \r\nL 84.106306 157.101818 \r\nL 84.252443 161.22 \r\nL 84.39858 157.101818 \r\nL 84.836991 157.101818 \r\nL 84.983128 152.983636 \r\nL 85.275402 152.983636 \r\nL 85.421539 157.101818 \r\nL 85.567677 157.101818 \r\nL 85.859951 148.865455 \r\nL 86.006088 148.865455 \r\nL 86.152225 144.747273 \r\nL 87.467458 144.747273 \r\nL 87.613595 140.629091 \r\nL 89.951788 140.629091 \r\nL 90.097925 136.510909 \r\nL 90.682474 136.510909 \r\nL 90.828611 140.629091 \r\nL 91.705433 140.629091 \r\nL 91.85157 144.747273 \r\nL 92.143844 144.747273 \r\nL 92.289981 140.629091 \r\nL 92.436118 140.629091 \r\nL 92.582255 144.747273 \r\nL 93.312941 144.747273 \r\nL 93.459078 140.629091 \r\nL 94.189763 140.629091 \r\nL 94.3359 136.510909 \r\nL 95.066585 136.510909 \r\nL 95.212722 132.392727 \r\nL 95.943408 132.392727 \r\nL 96.089545 136.510909 \r\nL 96.235682 132.392727 \r\nL 96.527956 132.392727 \r\nL 96.674093 128.274545 \r\nL 96.82023 128.274545 \r\nL 97.112504 120.038182 \r\nL 97.404778 120.038182 \r\nL 97.550915 124.156364 \r\nL 97.843189 115.92 \r\nL 98.281601 115.92 \r\nL 98.427738 120.038182 \r\nL 98.866149 120.038182 \r\nL 99.30456 132.392727 \r\nL 99.450697 128.274545 \r\nL 99.742971 128.274545 \r\nL 99.889108 132.392727 \r\nL 100.035245 128.274545 \r\nL 100.912068 128.274545 \r\nL 101.058205 124.156364 \r\nL 101.350479 124.156364 \r\nL 101.496616 128.274545 \r\nL 101.642753 128.274545 \r\nL 101.935027 120.038182 \r\nL 102.373438 120.038182 \r\nL 102.519575 115.92 \r\nL 103.104123 115.92 \r\nL 103.250261 111.801818 \r\nL 103.396398 111.801818 \r\nL 103.542535 115.92 \r\nL 103.980946 115.92 \r\nL 104.127083 111.801818 \r\nL 104.419357 120.038182 \r\nL 104.565494 120.038182 \r\nL 104.711631 124.156364 \r\nL 105.734591 124.156364 \r\nL 105.880728 128.274545 \r\nL 106.319139 128.274545 \r\nL 106.465276 132.392727 \r\nL 106.75755 132.392727 \r\nL 106.903687 128.274545 \r\nL 107.488235 128.274545 \r\nL 107.634372 124.156364 \r\nL 108.218921 124.156364 \r\nL 108.365058 128.274545 \r\nL 108.511195 128.274545 \r\nL 108.657332 132.392727 \r\nL 108.803469 128.274545 \r\nL 108.949606 128.274545 \r\nL 109.095743 132.392727 \r\nL 109.680291 132.392727 \r\nL 109.826428 136.510909 \r\nL 109.972565 136.510909 \r\nL 110.118702 132.392727 \r\nL 110.849388 132.392727 \r\nL 110.995525 136.510909 \r\nL 111.141662 136.510909 \r\nL 111.287799 132.392727 \r\nL 111.433936 132.392727 \r\nL 111.72621 124.156364 \r\nL 111.872347 124.156364 \r\nL 112.018484 120.038182 \r\nL 113.18758 120.038182 \r\nL 113.333718 124.156364 \r\nL 113.479855 120.038182 \r\nL 113.772129 120.038182 \r\nL 113.918266 124.156364 \r\nL 114.502814 124.156364 \r\nL 114.648951 120.038182 \r\nL 115.087362 120.038182 \r\nL 115.233499 115.92 \r\nL 115.525773 115.92 \r\nL 115.67191 120.038182 \r\nL 115.818048 120.038182 \r\nL 115.964185 124.156364 \r\nL 116.402596 124.156364 \r\nL 116.548733 128.274545 \r\nL 116.987144 128.274545 \r\nL 117.279418 136.510909 \r\nL 117.425555 136.510909 \r\nL 117.717829 128.274545 \r\nL 117.863966 128.274545 \r\nL 118.010103 124.156364 \r\nL 119.033063 124.156364 \r\nL 119.1792 128.274545 \r\nL 119.617611 128.274545 \r\nL 119.763748 124.156364 \r\nL 119.909885 124.156364 \r\nL 120.056022 120.038182 \r\nL 120.348296 120.038182 \r\nL 120.494433 124.156364 \r\nL 120.64057 124.156364 \r\nL 120.786707 120.038182 \r\nL 121.66353 120.038182 \r\nL 121.809667 124.156364 \r\nL 121.955804 120.038182 \r\nL 122.540352 120.038182 \r\nL 122.686489 124.156364 \r\nL 123.709449 124.156364 \r\nL 123.855586 128.274545 \r\nL 124.001723 128.274545 \r\nL 124.14786 132.392727 \r\nL 124.293997 132.392727 \r\nL 124.440134 136.510909 \r\nL 124.586271 132.392727 \r\nL 125.316956 132.392727 \r\nL 125.463093 136.510909 \r\nL 125.901505 136.510909 \r\nL 126.047642 132.392727 \r\nL 126.486053 132.392727 \r\nL 126.63219 136.510909 \r\nL 126.778327 136.510909 \r\nL 126.924464 132.392727 \r\nL 127.070601 136.510909 \r\nL 127.655149 136.510909 \r\nL 127.801286 140.629091 \r\nL 128.239697 140.629091 \r\nL 128.385835 136.510909 \r\nL 128.824246 136.510909 \r\nL 129.11652 128.274545 \r\nL 129.701068 128.274545 \r\nL 129.993342 136.510909 \r\nL 131.308576 136.510909 \r\nL 131.454713 132.392727 \r\nL 131.746987 132.392727 \r\nL 131.893124 136.510909 \r\nL 132.477672 136.510909 \r\nL 132.623809 132.392727 \r\nL 132.769946 132.392727 \r\nL 132.916083 136.510909 \r\nL 133.208357 136.510909 \r\nL 133.354494 140.629091 \r\nL 133.939043 140.629091 \r\nL 134.08518 136.510909 \r\nL 134.815865 136.510909 \r\nL 134.962002 132.392727 \r\nL 135.54655 132.392727 \r\nL 135.838824 124.156364 \r\nL 136.131099 132.392727 \r\nL 136.277236 132.392727 \r\nL 136.423373 128.274545 \r\nL 137.884743 128.274545 \r\nL 138.177017 120.038182 \r\nL 138.323154 120.038182 \r\nL 138.469292 124.156364 \r\nL 138.615429 124.156364 \r\nL 138.907703 132.392727 \r\nL 139.492251 132.392727 \r\nL 139.784525 140.629091 \r\nL 139.930662 140.629091 \r\nL 140.076799 136.510909 \r\nL 140.222936 136.510909 \r\nL 140.369073 140.629091 \r\nL 140.661347 140.629091 \r\nL 140.807484 136.510909 \r\nL 140.953622 136.510909 \r\nL 141.099759 140.629091 \r\nL 141.245896 136.510909 \r\nL 141.976581 136.510909 \r\nL 142.122718 140.629091 \r\nL 142.268855 136.510909 \r\nL 142.99954 136.510909 \r\nL 143.145677 140.629091 \r\nL 143.291814 140.629091 \r\nL 143.437951 144.747273 \r\nL 144.0225 144.747273 \r\nL 144.168637 148.865455 \r\nL 144.314774 148.865455 \r\nL 144.607048 157.101818 \r\nL 144.753185 157.101818 \r\nL 144.899322 152.983636 \r\nL 145.045459 152.983636 \r\nL 145.191596 148.865455 \r\nL 145.48387 148.865455 \r\nL 145.630007 144.747273 \r\nL 145.776144 144.747273 \r\nL 145.922281 148.865455 \r\nL 146.214556 148.865455 \r\nL 146.360693 144.747273 \r\nL 146.50683 148.865455 \r\nL 146.799104 148.865455 \r\nL 146.945241 152.983636 \r\nL 147.822063 152.983636 \r\nL 147.9682 157.101818 \r\nL 149.721845 157.101818 \r\nL 149.867982 152.983636 \r\nL 150.306393 152.983636 \r\nL 150.45253 148.865455 \r\nL 150.744804 148.865455 \r\nL 150.890941 152.983636 \r\nL 151.183216 152.983636 \r\nL 151.329353 157.101818 \r\nL 151.47549 157.101818 \r\nL 151.767764 165.338182 \r\nL 152.060038 165.338182 \r\nL 152.206175 161.22 \r\nL 152.352312 161.22 \r\nL 152.498449 157.101818 \r\nL 152.790723 157.101818 \r\nL 152.93686 161.22 \r\nL 153.082997 157.101818 \r\nL 153.375271 157.101818 \r\nL 153.521409 152.983636 \r\nL 153.667546 152.983636 \r\nL 153.813683 148.865455 \r\nL 154.544368 148.865455 \r\nL 154.690505 144.747273 \r\nL 154.836642 144.747273 \r\nL 154.982779 148.865455 \r\nL 155.128916 148.865455 \r\nL 155.42119 157.101818 \r\nL 155.567327 157.101818 \r\nL 155.713464 152.983636 \r\nL 156.005738 152.983636 \r\nL 156.151876 157.101818 \r\nL 156.882561 157.101818 \r\nL 157.028698 152.983636 \r\nL 157.90552 152.983636 \r\nL 158.197794 161.22 \r\nL 158.343931 157.101818 \r\nL 159.074617 157.101818 \r\nL 159.220754 152.983636 \r\nL 159.659165 152.983636 \r\nL 159.805302 157.101818 \r\nL 160.243713 157.101818 \r\nL 160.38985 152.983636 \r\nL 160.535987 157.101818 \r\nL 160.828261 157.101818 \r\nL 160.974398 152.983636 \r\nL 161.705084 152.983636 \r\nL 161.851221 157.101818 \r\nL 161.997358 152.983636 \r\nL 162.143495 157.101818 \r\nL 162.581906 157.101818 \r\nL 162.728043 161.22 \r\nL 163.020317 161.22 \r\nL 163.166454 157.101818 \r\nL 163.312591 161.22 \r\nL 163.458728 161.22 \r\nL 163.604866 157.101818 \r\nL 163.751003 157.101818 \r\nL 163.89714 152.983636 \r\nL 164.189414 152.983636 \r\nL 164.335551 148.865455 \r\nL 165.066236 148.865455 \r\nL 165.212373 152.983636 \r\nL 166.235333 152.983636 \r\nL 166.38147 148.865455 \r\nL 167.112155 148.865455 \r\nL 167.258292 152.983636 \r\nL 167.550566 152.983636 \r\nL 167.696703 157.101818 \r\nL 167.84284 157.101818 \r\nL 167.988977 161.22 \r\nL 168.281251 161.22 \r\nL 168.427388 157.101818 \r\nL 168.573525 157.101818 \r\nL 168.719663 161.22 \r\nL 169.742622 161.22 \r\nL 169.888759 157.101818 \r\nL 171.057855 157.101818 \r\nL 171.203993 161.22 \r\nL 171.35013 161.22 \r\nL 171.642404 169.456364 \r\nL 171.934678 169.456364 \r\nL 172.080815 165.338182 \r\nL 172.226952 169.456364 \r\nL 172.957637 169.456364 \r\nL 173.103774 173.574545 \r\nL 174.126734 173.574545 \r\nL 174.419008 181.810909 \r\nL 174.857419 181.810909 \r\nL 175.003556 177.692727 \r\nL 175.149693 177.692727 \r\nL 175.441967 169.456364 \r\nL 176.026515 169.456364 \r\nL 176.31879 161.22 \r\nL 176.464927 165.338182 \r\nL 176.611064 165.338182 \r\nL 176.757201 169.456364 \r\nL 176.903338 165.338182 \r\nL 177.195612 165.338182 \r\nL 177.341749 169.456364 \r\nL 177.634023 161.22 \r\nL 177.926297 161.22 \r\nL 178.072434 165.338182 \r\nL 178.364708 165.338182 \r\nL 178.510845 169.456364 \r\nL 178.80312 169.456364 \r\nL 178.949257 165.338182 \r\nL 179.387668 165.338182 \r\nL 179.679942 157.101818 \r\nL 179.826079 157.101818 \r\nL 179.972216 152.983636 \r\nL 180.26449 152.983636 \r\nL 180.410627 157.101818 \r\nL 180.556764 157.101818 \r\nL 180.702901 152.983636 \r\nL 180.849038 152.983636 \r\nL 180.995175 148.865455 \r\nL 182.310409 148.865455 \r\nL 182.456546 144.747273 \r\nL 182.894957 144.747273 \r\nL 183.041094 140.629091 \r\nL 183.187231 144.747273 \r\nL 183.333368 144.747273 \r\nL 183.479505 140.629091 \r\nL 183.917917 140.629091 \r\nL 184.064054 136.510909 \r\nL 185.087013 136.510909 \r\nL 185.23315 140.629091 \r\nL 186.694521 140.629091 \r\nL 186.840658 144.747273 \r\nL 187.279069 144.747273 \r\nL 187.425206 140.629091 \r\nL 187.71748 140.629091 \r\nL 187.863617 136.510909 \r\nL 188.009754 136.510909 \r\nL 188.302028 128.274545 \r\nL 188.448165 128.274545 \r\nL 188.594302 132.392727 \r\nL 189.032714 132.392727 \r\nL 189.178851 136.510909 \r\nL 189.324988 136.510909 \r\nL 189.471125 132.392727 \r\nL 189.763399 140.629091 \r\nL 190.055673 140.629091 \r\nL 190.20181 136.510909 \r\nL 190.347947 140.629091 \r\nL 191.370907 140.629091 \r\nL 191.517044 136.510909 \r\nL 191.663181 136.510909 \r\nL 191.955455 128.274545 \r\nL 194.001374 128.274545 \r\nL 194.147511 132.392727 \r\nL 194.439785 132.392727 \r\nL 194.732059 124.156364 \r\nL 194.878196 124.156364 \r\nL 195.024333 128.274545 \r\nL 195.316607 128.274545 \r\nL 195.462744 132.392727 \r\nL 195.901155 132.392727 \r\nL 196.047292 136.510909 \r\nL 196.193429 136.510909 \r\nL 196.339567 132.392727 \r\nL 197.070252 132.392727 \r\nL 197.216389 128.274545 \r\nL 197.362526 128.274545 \r\nL 197.508663 132.392727 \r\nL 198.239348 132.392727 \r\nL 198.385485 128.274545 \r\nL 198.531622 128.274545 \r\nL 198.677759 124.156364 \r\nL 199.116171 124.156364 \r\nL 199.262308 120.038182 \r\nL 199.700719 120.038182 \r\nL 199.846856 115.92 \r\nL 200.285267 115.92 \r\nL 200.431404 120.038182 \r\nL 200.577541 120.038182 \r\nL 200.869815 128.274545 \r\nL 201.600501 128.274545 \r\nL 201.746638 124.156364 \r\nL 201.892775 128.274545 \r\nL 202.915734 128.274545 \r\nL 203.061871 124.156364 \r\nL 203.646419 124.156364 \r\nL 203.792556 120.038182 \r\nL 203.938694 124.156364 \r\nL 204.084831 124.156364 \r\nL 204.230968 120.038182 \r\nL 204.377105 124.156364 \r\nL 204.669379 124.156364 \r\nL 204.815516 128.274545 \r\nL 205.10779 128.274545 \r\nL 205.253927 124.156364 \r\nL 205.838475 124.156364 \r\nL 205.984612 120.038182 \r\nL 206.130749 120.038182 \r\nL 206.276886 124.156364 \r\nL 207.59212 124.156364 \r\nL 207.738257 120.038182 \r\nL 207.884394 124.156364 \r\nL 208.030531 120.038182 \r\nL 208.615079 120.038182 \r\nL 208.761216 115.92 \r\nL 209.053491 115.92 \r\nL 209.199628 111.801818 \r\nL 209.491902 111.801818 \r\nL 209.638039 107.683636 \r\nL 209.784176 111.801818 \r\nL 210.222587 111.801818 \r\nL 210.368724 115.92 \r\nL 210.660998 115.92 \r\nL 210.807135 111.801818 \r\nL 211.245546 111.801818 \r\nL 211.391683 115.92 \r\nL 211.976232 115.92 \r\nL 212.122369 120.038182 \r\nL 212.56078 120.038182 \r\nL 212.706917 124.156364 \r\nL 212.999191 124.156364 \r\nL 213.145328 128.274545 \r\nL 213.291465 124.156364 \r\nL 213.437602 128.274545 \r\nL 214.314425 128.274545 \r\nL 214.460562 132.392727 \r\nL 214.606699 128.274545 \r\nL 215.04511 128.274545 \r\nL 215.191247 124.156364 \r\nL 216.214206 124.156364 \r\nL 216.652618 136.510909 \r\nL 216.798755 136.510909 \r\nL 216.944892 132.392727 \r\nL 217.52944 132.392727 \r\nL 217.675577 128.274545 \r\nL 217.967851 136.510909 \r\nL 218.406262 136.510909 \r\nL 218.552399 140.629091 \r\nL 219.283085 140.629091 \r\nL 219.575359 148.865455 \r\nL 219.721496 144.747273 \r\nL 222.351963 144.747273 \r\nL 222.4981 148.865455 \r\nL 223.374922 148.865455 \r\nL 223.521059 152.983636 \r\nL 223.95947 152.983636 \r\nL 224.397882 165.338182 \r\nL 224.98243 165.338182 \r\nL 225.128567 161.22 \r\nL 225.713115 161.22 \r\nL 226.005389 169.456364 \r\nL 226.297663 161.22 \r\nL 226.736075 161.22 \r\nL 226.882212 157.101818 \r\nL 227.612897 157.101818 \r\nL 227.759034 161.22 \r\nL 228.051308 161.22 \r\nL 228.197445 165.338182 \r\nL 229.074268 165.338182 \r\nL 229.220405 161.22 \r\nL 229.95109 161.22 \r\nL 230.097227 165.338182 \r\nL 230.535638 165.338182 \r\nL 230.681775 161.22 \r\nL 230.827912 161.22 \r\nL 231.120186 169.456364 \r\nL 231.266323 169.456364 \r\nL 231.41246 173.574545 \r\nL 231.558598 169.456364 \r\nL 231.850872 169.456364 \r\nL 231.997009 165.338182 \r\nL 232.43542 165.338182 \r\nL 232.581557 161.22 \r\nL 232.727694 161.22 \r\nL 233.019968 169.456364 \r\nL 233.312242 169.456364 \r\nL 233.458379 173.574545 \r\nL 233.604516 169.456364 \r\nL 233.89679 169.456364 \r\nL 234.042927 165.338182 \r\nL 234.189065 169.456364 \r\nL 234.773613 169.456364 \r\nL 234.91975 173.574545 \r\nL 235.065887 173.574545 \r\nL 235.212024 177.692727 \r\nL 235.358161 177.692727 \r\nL 235.504298 181.810909 \r\nL 235.650435 181.810909 \r\nL 235.796572 185.929091 \r\nL 236.234983 185.929091 \r\nL 236.38112 190.047273 \r\nL 236.527257 190.047273 \r\nL 236.673395 194.165455 \r\nL 236.819532 194.165455 \r\nL 236.965669 190.047273 \r\nL 237.111806 190.047273 \r\nL 237.257943 185.929091 \r\nL 237.842491 185.929091 \r\nL 237.988628 190.047273 \r\nL 238.134765 190.047273 \r\nL 238.280902 194.165455 \r\nL 238.719313 194.165455 \r\nL 238.86545 198.283636 \r\nL 239.449999 198.283636 \r\nL 239.596136 202.401818 \r\nL 239.742273 202.401818 \r\nL 239.88841 206.52 \r\nL 240.326821 206.52 \r\nL 240.472958 202.401818 \r\nL 240.619095 206.52 \r\nL 240.765232 206.52 \r\nL 241.057506 198.283636 \r\nL 241.203643 198.283636 \r\nL 241.34978 194.165455 \r\nL 241.788192 194.165455 \r\nL 241.934329 198.283636 \r\nL 242.080466 198.283636 \r\nL 242.226603 202.401818 \r\nL 242.665014 202.401818 \r\nL 242.811151 198.283636 \r\nL 243.103425 198.283636 \r\nL 243.249562 202.401818 \r\nL 243.541836 202.401818 \r\nL 243.687973 206.52 \r\nL 244.126384 206.52 \r\nL 244.272522 210.638182 \r\nL 244.564796 210.638182 \r\nL 244.710933 206.52 \r\nL 245.149344 206.52 \r\nL 245.295481 210.638182 \r\nL 245.441618 210.638182 \r\nL 245.587755 206.52 \r\nL 245.733892 206.52 \r\nL 245.880029 210.638182 \r\nL 246.172303 210.638182 \r\nL 246.31844 206.52 \r\nL 246.610714 214.756364 \r\nL 246.756852 214.756364 \r\nL 246.902989 210.638182 \r\nL 247.3414 210.638182 \r\nL 247.487537 206.52 \r\nL 247.779811 206.52 \r\nL 247.925948 202.401818 \r\nL 248.072085 202.401818 \r\nL 248.218222 206.52 \r\nL 248.510496 206.52 \r\nL 248.656633 202.401818 \r\nL 249.095044 202.401818 \r\nL 249.241182 198.283636 \r\nL 249.971867 198.283636 \r\nL 250.118004 202.401818 \r\nL 250.264141 202.401818 \r\nL 250.410278 198.283636 \r\nL 250.848689 198.283636 \r\nL 250.994826 194.165455 \r\nL 251.433237 194.165455 \r\nL 251.579374 190.047273 \r\nL 252.748471 190.047273 \r\nL 253.186882 177.692727 \r\nL 254.063704 177.692727 \r\nL 254.209841 181.810909 \r\nL 254.355979 181.810909 \r\nL 254.502116 177.692727 \r\nL 254.79439 177.692727 \r\nL 254.940527 181.810909 \r\nL 255.086664 177.692727 \r\nL 255.232801 177.692727 \r\nL 255.378938 181.810909 \r\nL 255.817349 181.810909 \r\nL 256.109623 173.574545 \r\nL 256.401897 173.574545 \r\nL 256.694171 181.810909 \r\nL 256.986446 181.810909 \r\nL 257.132583 185.929091 \r\nL 257.424857 185.929091 \r\nL 257.570994 181.810909 \r\nL 257.717131 185.929091 \r\nL 258.301679 185.929091 \r\nL 258.593953 194.165455 \r\nL 259.76305 194.165455 \r\nL 259.909187 190.047273 \r\nL 260.347598 190.047273 \r\nL 260.493735 194.165455 \r\nL 260.786009 185.929091 \r\nL 260.932146 185.929091 \r\nL 261.078283 190.047273 \r\nL 261.22442 190.047273 \r\nL 261.370557 194.165455 \r\nL 261.808969 194.165455 \r\nL 262.101243 202.401818 \r\nL 262.24738 198.283636 \r\nL 262.978065 198.283636 \r\nL 263.124202 202.401818 \r\nL 264.147161 202.401818 \r\nL 264.293299 198.283636 \r\nL 264.585573 198.283636 \r\nL 264.73171 194.165455 \r\nL 265.170121 194.165455 \r\nL 265.462395 202.401818 \r\nL 266.485354 202.401818 \r\nL 266.631491 198.283636 \r\nL 267.069903 198.283636 \r\nL 267.362177 206.52 \r\nL 267.654451 198.283636 \r\nL 268.67741 198.283636 \r\nL 269.115821 210.638182 \r\nL 269.261958 210.638182 \r\nL 269.408096 206.52 \r\nL 269.846507 206.52 \r\nL 269.992644 202.401818 \r\nL 271.307877 202.401818 \r\nL 271.454014 198.283636 \r\nL 271.600151 202.401818 \r\nL 271.746288 198.283636 \r\nL 271.892426 198.283636 \r\nL 272.038563 194.165455 \r\nL 272.1847 198.283636 \r\nL 272.330837 198.283636 \r\nL 272.476974 202.401818 \r\nL 273.061522 202.401818 \r\nL 273.207659 198.283636 \r\nL 273.353796 198.283636 \r\nL 273.499933 202.401818 \r\nL 274.522893 202.401818 \r\nL 274.66903 206.52 \r\nL 276.276537 206.52 \r\nL 276.422674 202.401818 \r\nL 276.714948 202.401818 \r\nL 276.861085 206.52 \r\nL 277.007223 206.52 \r\nL 277.15336 202.401818 \r\nL 277.737908 202.401818 \r\nL 277.884045 206.52 \r\nL 278.322456 206.52 \r\nL 278.468593 202.401818 \r\nL 278.61473 202.401818 \r\nL 278.760867 198.283636 \r\nL 278.907004 198.283636 \r\nL 279.053141 202.401818 \r\nL 279.199278 202.401818 \r\nL 279.345415 206.52 \r\nL 279.63769 206.52 \r\nL 279.783827 202.401818 \r\nL 280.806786 202.401818 \r\nL 280.952923 198.283636 \r\nL 281.683608 198.283636 \r\nL 281.829745 194.165455 \r\nL 282.268157 194.165455 \r\nL 282.414294 190.047273 \r\nL 282.706568 190.047273 \r\nL 282.852705 194.165455 \r\nL 283.144979 185.929091 \r\nL 283.291116 185.929091 \r\nL 283.437253 190.047273 \r\nL 284.60635 190.047273 \r\nL 284.752487 185.929091 \r\nL 285.044761 185.929091 \r\nL 285.190898 190.047273 \r\nL 285.337035 190.047273 \r\nL 285.483172 194.165455 \r\nL 285.629309 194.165455 \r\nL 285.775446 198.283636 \r\nL 285.921583 198.283636 \r\nL 286.06772 194.165455 \r\nL 286.359994 194.165455 \r\nL 286.652268 185.929091 \r\nL 288.844324 185.929091 \r\nL 288.990461 190.047273 \r\nL 290.597969 190.047273 \r\nL 290.744106 185.929091 \r\nL 291.328654 185.929091 \r\nL 291.474791 181.810909 \r\nL 291.767065 181.810909 \r\nL 291.913202 177.692727 \r\nL 292.05934 181.810909 \r\nL 292.936162 181.810909 \r\nL 293.082299 177.692727 \r\nL 293.52071 177.692727 \r\nL 293.666847 173.574545 \r\nL 293.812984 177.692727 \r\nL 293.959121 177.692727 \r\nL 294.105258 181.810909 \r\nL 294.251395 177.692727 \r\nL 294.689807 177.692727 \r\nL 295.128218 165.338182 \r\nL 295.566629 165.338182 \r\nL 295.712766 169.456364 \r\nL 296.881862 169.456364 \r\nL 297.028 165.338182 \r\nL 297.320274 165.338182 \r\nL 297.466411 161.22 \r\nL 297.758685 161.22 \r\nL 297.904822 157.101818 \r\nL 298.343233 157.101818 \r\nL 298.635507 148.865455 \r\nL 298.781644 148.865455 \r\nL 298.927781 144.747273 \r\nL 299.512329 144.747273 \r\nL 299.658467 140.629091 \r\nL 300.681426 140.629091 \r\nL 300.827563 144.747273 \r\nL 301.704385 144.747273 \r\nL 301.996659 136.510909 \r\nL 302.288934 136.510909 \r\nL 302.435071 140.629091 \r\nL 303.604167 140.629091 \r\nL 303.896441 132.392727 \r\nL 304.334852 132.392727 \r\nL 304.480989 128.274545 \r\nL 304.919401 128.274545 \r\nL 305.065538 132.392727 \r\nL 305.211675 132.392727 \r\nL 305.503949 124.156364 \r\nL 305.94236 124.156364 \r\nL 306.088497 120.038182 \r\nL 307.111457 120.038182 \r\nL 307.257594 115.92 \r\nL 307.988279 115.92 \r\nL 308.134416 111.801818 \r\nL 308.572827 111.801818 \r\nL 309.011238 99.447273 \r\nL 309.157375 99.447273 \r\nL 309.303512 103.565455 \r\nL 309.449649 99.447273 \r\nL 309.741924 99.447273 \r\nL 309.888061 103.565455 \r\nL 310.034198 99.447273 \r\nL 310.326472 99.447273 \r\nL 310.472609 95.329091 \r\nL 310.91102 95.329091 \r\nL 311.495568 78.856364 \r\nL 311.787842 78.856364 \r\nL 311.933979 74.738182 \r\nL 312.518528 74.738182 \r\nL 312.664665 70.62 \r\nL 313.249213 70.62 \r\nL 313.39535 66.501818 \r\nL 314.272172 66.501818 \r\nL 314.418309 62.383636 \r\nL 314.564446 62.383636 \r\nL 314.856721 70.62 \r\nL 316.464228 70.62 \r\nL 316.610365 74.738182 \r\nL 316.756502 70.62 \r\nL 316.902639 74.738182 \r\nL 317.194914 74.738182 \r\nL 317.341051 70.62 \r\nL 318.36401 70.62 \r\nL 318.510147 74.738182 \r\nL 319.240832 74.738182 \r\nL 319.386969 70.62 \r\nL 320.263792 70.62 \r\nL 320.556066 78.856364 \r\nL 321.579025 78.856364 \r\nL 321.725162 74.738182 \r\nL 321.871299 74.738182 \r\nL 322.017436 70.62 \r\nL 322.163573 70.62 \r\nL 322.309711 66.501818 \r\nL 323.917218 66.501818 \r\nL 324.063355 70.62 \r\nL 325.378589 70.62 \r\nL 325.524726 66.501818 \r\nL 327.278371 66.501818 \r\nL 327.424508 62.383636 \r\nL 328.739741 62.383636 \r\nL 328.885878 66.501818 \r\nL 329.616563 66.501818 \r\nL 329.762701 62.383636 \r\nL 330.054975 62.383636 \r\nL 330.201112 66.501818 \r\nL 330.347249 62.383636 \r\nL 330.493386 66.501818 \r\nL 330.639523 62.383636 \r\nL 332.100893 62.383636 \r\nL 332.24703 58.265455 \r\nL 332.977716 58.265455 \r\nL 333.123853 54.147273 \r\nL 333.26999 58.265455 \r\nL 334.000675 58.265455 \r\nL 334.146812 54.147273 \r\nL 335.462046 54.147273 \r\nL 335.608183 50.029091 \r\nL 336.631142 50.029091 \r\nL 336.777279 54.147273 \r\nL 336.923416 54.147273 \r\nL 337.069553 58.265455 \r\nL 337.21569 58.265455 \r\nL 337.361828 54.147273 \r\nL 338.823198 54.147273 \r\nL 338.969335 50.029091 \r\nL 341.307528 50.029091 \r\nL 341.453665 54.147273 \r\nL 341.599802 50.029091 \r\nL 342.038213 50.029091 \r\nL 342.18435 45.910909 \r\nL 343.499584 45.910909 \r\nL 343.645721 50.029091 \r\nL 345.69164 50.029091 \r\nL 345.837777 45.910909 \r\nL 346.276188 45.910909 \r\nL 346.422325 41.792727 \r\nL 347.591422 41.792727 \r\nL 347.737559 45.910909 \r\nL 349.345066 45.910909 \r\nL 349.491203 50.029091 \r\nL 351.098711 50.029091 \r\nL 351.390985 41.792727 \r\nL 351.975533 41.792727 \r\nL 352.12167 37.674545 \r\nL 352.267807 37.674545 \r\nL 352.413945 33.556364 \r\nL 352.706219 33.556364 \r\nL 352.852356 37.674545 \r\nL 352.998493 37.674545 \r\nL 353.14463 33.556364 \r\nL 353.290767 33.556364 \r\nL 353.436904 29.438182 \r\nL 354.898274 29.438182 \r\nL 355.044412 25.32 \r\nL 356.359645 25.32 \r\nL 356.505782 21.201818 \r\nL 356.944193 21.201818 \r\nL 357.09033 17.083636 \r\nL 358.990112 17.083636 \r\nL 359.136249 21.201818 \r\nL 359.282386 17.083636 \r\nL 359.428523 21.201818 \r\nL 360.159209 21.201818 \r\nL 360.305346 25.32 \r\nL 360.451483 25.32 \r\nL 360.59762 21.201818 \r\nL 361.766716 21.201818 \r\nL 361.912853 25.32 \r\nL 362.05899 25.32 \r\nL 362.205127 29.438182 \r\nL 364.104909 29.438182 \r\nL 364.251046 33.556364 \r\nL 364.397183 33.556364 \r\nL 364.54332 37.674545 \r\nL 364.981732 37.674545 \r\nL 365.127869 33.556364 \r\nL 365.274006 33.556364 \r\nL 365.420143 29.438182 \r\nL 365.56628 29.438182 \r\nL 365.712417 33.556364 \r\nL 366.004691 33.556364 \r\nL 366.150828 37.674545 \r\nL 366.589239 37.674545 \r\nL 366.735376 33.556364 \r\nL 366.881513 33.556364 \r\nL 367.02765 29.438182 \r\nL 368.342884 29.438182 \r\nL 368.489021 33.556364 \r\nL 368.635158 29.438182 \r\nL 369.658117 29.438182 \r\nL 369.804254 25.32 \r\nL 370.53494 25.32 \r\nL 370.827214 33.556364 \r\nL 371.119488 33.556364 \r\nL 371.265625 37.674545 \r\nL 371.265625 37.674545 \r\n\" style=\"fill:none;stroke:#1f77b4;stroke-linecap:square;stroke-width:1.5;\"/>\r\n   </g>\r\n   <g id=\"patch_3\">\r\n    <path d=\"M 36.465625 224.64 \r\nL 36.465625 7.2 \r\n\" style=\"fill:none;stroke:#000000;stroke-linecap:square;stroke-linejoin:miter;stroke-width:0.8;\"/>\r\n   </g>\r\n   <g id=\"patch_4\">\r\n    <path d=\"M 371.265625 224.64 \r\nL 371.265625 7.2 \r\n\" style=\"fill:none;stroke:#000000;stroke-linecap:square;stroke-linejoin:miter;stroke-width:0.8;\"/>\r\n   </g>\r\n   <g id=\"patch_5\">\r\n    <path d=\"M 36.465625 224.64 \r\nL 371.265625 224.64 \r\n\" style=\"fill:none;stroke:#000000;stroke-linecap:square;stroke-linejoin:miter;stroke-width:0.8;\"/>\r\n   </g>\r\n   <g id=\"patch_6\">\r\n    <path d=\"M 36.465625 7.2 \r\nL 371.265625 7.2 \r\n\" style=\"fill:none;stroke:#000000;stroke-linecap:square;stroke-linejoin:miter;stroke-width:0.8;\"/>\r\n   </g>\r\n  </g>\r\n </g>\r\n <defs>\r\n  <clipPath id=\"p9b28aaf052\">\r\n   <rect height=\"217.44\" width=\"334.8\" x=\"36.465625\" y=\"7.2\"/>\r\n  </clipPath>\r\n </defs>\r\n</svg>\r\n",
      "image/png": "[encoded data removed]"
     },
     "metadata": {
      "needs_background": "light"
     }
    }
   ],
   "source": [
    "result.plot()"
   ]
  }
 ],
 "metadata": {
  "interpreter": {
   "hash": "9d2551a9749556e3c0c1217eb76a7dc61235d18c2a53835cd4577df410224461"
  },
  "kernelspec": {
   "name": "python385jvsc74a57bd0cef9e06bb236b2a8629b07e87a04b187b952a0f661eff5533360a155783f0c33",
   "display_name": "Python 3.8.5 64-bit (conda)"
  },
  "language_info": {
   "codemirror_mode": {
    "name": "ipython",
    "version": 3
   },
   "file_extension": ".py",
   "mimetype": "text/x-python",
   "name": "python",
   "nbconvert_exporter": "python",
   "pygments_lexer": "ipython3",
   "version": "3.8.5"
  },
  "orig_nbformat": 2,
  "metadata": {
   "interpreter": {
    "hash": "9d2551a9749556e3c0c1217eb76a7dc61235d18c2a53835cd4577df410224461"
   }
  }
 },
 "nbformat": 4,
 "nbformat_minor": 2
}