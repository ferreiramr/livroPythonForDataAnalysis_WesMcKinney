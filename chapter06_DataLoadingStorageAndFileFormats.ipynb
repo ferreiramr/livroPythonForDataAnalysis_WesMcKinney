{
 "cells": [
  {
   "cell_type": "markdown",
   "metadata": {},
   "source": [
    "# CHAPTER 06 - DATA LOADING, STORAGE, AND FILE FORMATS"
   ]
  },
  {
   "cell_type": "code",
   "execution_count": 100,
   "metadata": {},
   "outputs": [],
   "source": [
    "import numpy as np\n",
    "import pandas as pd\n",
    "np.random.seed(12345)\n",
    "import matplotlib.pyplot as plt\n",
    "plt.rc('figure', figsize=(10, 6))\n",
    "np.set_printoptions(precision=4, suppress=True)"
   ]
  },
  {
   "cell_type": "code",
   "execution_count": 101,
   "metadata": {},
   "outputs": [],
   "source": [
    "df = pd.read_csv('examples/ex1.csv')"
   ]
  },
  {
   "cell_type": "code",
   "execution_count": 102,
   "metadata": {},
   "outputs": [
    {
     "data": {
      "text/html": "<div>\n<style scoped>\n    .dataframe tbody tr th:only-of-type {\n        vertical-align: middle;\n    }\n\n    .dataframe tbody tr th {\n        vertical-align: top;\n    }\n\n    .dataframe thead th {\n        text-align: right;\n    }\n</style>\n<table border=\"1\" class=\"dataframe\">\n  <thead>\n    <tr style=\"text-align: right;\">\n      <th></th>\n      <th>a</th>\n      <th>b</th>\n      <th>c</th>\n      <th>d</th>\n      <th>message</th>\n    </tr>\n  </thead>\n  <tbody>\n    <tr>\n      <th>0</th>\n      <td>1</td>\n      <td>2</td>\n      <td>3</td>\n      <td>4</td>\n      <td>hello</td>\n    </tr>\n    <tr>\n      <th>1</th>\n      <td>5</td>\n      <td>6</td>\n      <td>7</td>\n      <td>8</td>\n      <td>world</td>\n    </tr>\n    <tr>\n      <th>2</th>\n      <td>9</td>\n      <td>10</td>\n      <td>11</td>\n      <td>12</td>\n      <td>foo</td>\n    </tr>\n  </tbody>\n</table>\n</div>",
      "text/plain": "   a   b   c   d message\n0  1   2   3   4   hello\n1  5   6   7   8   world\n2  9  10  11  12     foo"
     },
     "execution_count": 102,
     "metadata": {},
     "output_type": "execute_result"
    }
   ],
   "source": [
    "df"
   ]
  },
  {
   "cell_type": "code",
   "execution_count": 103,
   "metadata": {},
   "outputs": [
    {
     "data": {
      "text/html": "<div>\n<style scoped>\n    .dataframe tbody tr th:only-of-type {\n        vertical-align: middle;\n    }\n\n    .dataframe tbody tr th {\n        vertical-align: top;\n    }\n\n    .dataframe thead th {\n        text-align: right;\n    }\n</style>\n<table border=\"1\" class=\"dataframe\">\n  <thead>\n    <tr style=\"text-align: right;\">\n      <th></th>\n      <th>a</th>\n      <th>b</th>\n      <th>c</th>\n      <th>d</th>\n      <th>message</th>\n    </tr>\n  </thead>\n  <tbody>\n    <tr>\n      <th>0</th>\n      <td>1</td>\n      <td>2</td>\n      <td>3</td>\n      <td>4</td>\n      <td>hello</td>\n    </tr>\n    <tr>\n      <th>1</th>\n      <td>5</td>\n      <td>6</td>\n      <td>7</td>\n      <td>8</td>\n      <td>world</td>\n    </tr>\n    <tr>\n      <th>2</th>\n      <td>9</td>\n      <td>10</td>\n      <td>11</td>\n      <td>12</td>\n      <td>foo</td>\n    </tr>\n  </tbody>\n</table>\n</div>",
      "text/plain": "   a   b   c   d message\n0  1   2   3   4   hello\n1  5   6   7   8   world\n2  9  10  11  12     foo"
     },
     "execution_count": 103,
     "metadata": {},
     "output_type": "execute_result"
    }
   ],
   "source": [
    "pd.read_table('examples/ex1.csv', sep=',')"
   ]
  },
  {
   "cell_type": "code",
   "execution_count": 104,
   "metadata": {},
   "outputs": [
    {
     "data": {
      "text/html": "<div>\n<style scoped>\n    .dataframe tbody tr th:only-of-type {\n        vertical-align: middle;\n    }\n\n    .dataframe tbody tr th {\n        vertical-align: top;\n    }\n\n    .dataframe thead th {\n        text-align: right;\n    }\n</style>\n<table border=\"1\" class=\"dataframe\">\n  <thead>\n    <tr style=\"text-align: right;\">\n      <th></th>\n      <th>0</th>\n      <th>1</th>\n      <th>2</th>\n      <th>3</th>\n      <th>4</th>\n    </tr>\n  </thead>\n  <tbody>\n    <tr>\n      <th>0</th>\n      <td>1</td>\n      <td>2</td>\n      <td>3</td>\n      <td>4</td>\n      <td>hello</td>\n    </tr>\n    <tr>\n      <th>1</th>\n      <td>5</td>\n      <td>6</td>\n      <td>7</td>\n      <td>8</td>\n      <td>world</td>\n    </tr>\n    <tr>\n      <th>2</th>\n      <td>9</td>\n      <td>10</td>\n      <td>11</td>\n      <td>12</td>\n      <td>foo</td>\n    </tr>\n  </tbody>\n</table>\n</div>",
      "text/plain": "   0   1   2   3      4\n0  1   2   3   4  hello\n1  5   6   7   8  world\n2  9  10  11  12    foo"
     },
     "execution_count": 104,
     "metadata": {},
     "output_type": "execute_result"
    }
   ],
   "source": [
    "pd.read_csv('examples/ex2.csv', header=None)"
   ]
  },
  {
   "cell_type": "code",
   "execution_count": 105,
   "metadata": {},
   "outputs": [
    {
     "data": {
      "text/html": "<div>\n<style scoped>\n    .dataframe tbody tr th:only-of-type {\n        vertical-align: middle;\n    }\n\n    .dataframe tbody tr th {\n        vertical-align: top;\n    }\n\n    .dataframe thead th {\n        text-align: right;\n    }\n</style>\n<table border=\"1\" class=\"dataframe\">\n  <thead>\n    <tr style=\"text-align: right;\">\n      <th></th>\n      <th>a</th>\n      <th>b</th>\n      <th>c</th>\n      <th>d</th>\n      <th>message</th>\n    </tr>\n  </thead>\n  <tbody>\n    <tr>\n      <th>0</th>\n      <td>1</td>\n      <td>2</td>\n      <td>3</td>\n      <td>4</td>\n      <td>hello</td>\n    </tr>\n    <tr>\n      <th>1</th>\n      <td>5</td>\n      <td>6</td>\n      <td>7</td>\n      <td>8</td>\n      <td>world</td>\n    </tr>\n    <tr>\n      <th>2</th>\n      <td>9</td>\n      <td>10</td>\n      <td>11</td>\n      <td>12</td>\n      <td>foo</td>\n    </tr>\n  </tbody>\n</table>\n</div>",
      "text/plain": "   a   b   c   d message\n0  1   2   3   4   hello\n1  5   6   7   8   world\n2  9  10  11  12     foo"
     },
     "execution_count": 105,
     "metadata": {},
     "output_type": "execute_result"
    }
   ],
   "source": [
    "pd.read_csv('examples/ex2.csv', names=['a', 'b', 'c', 'd', 'message'])"
   ]
  },
  {
   "cell_type": "code",
   "execution_count": 106,
   "metadata": {},
   "outputs": [],
   "source": [
    "names = ['a', 'b', 'c', 'd', 'message']"
   ]
  },
  {
   "cell_type": "code",
   "execution_count": 107,
   "metadata": {},
   "outputs": [
    {
     "data": {
      "text/html": "<div>\n<style scoped>\n    .dataframe tbody tr th:only-of-type {\n        vertical-align: middle;\n    }\n\n    .dataframe tbody tr th {\n        vertical-align: top;\n    }\n\n    .dataframe thead th {\n        text-align: right;\n    }\n</style>\n<table border=\"1\" class=\"dataframe\">\n  <thead>\n    <tr style=\"text-align: right;\">\n      <th></th>\n      <th>a</th>\n      <th>b</th>\n      <th>c</th>\n      <th>d</th>\n    </tr>\n    <tr>\n      <th>message</th>\n      <th></th>\n      <th></th>\n      <th></th>\n      <th></th>\n    </tr>\n  </thead>\n  <tbody>\n    <tr>\n      <th>hello</th>\n      <td>1</td>\n      <td>2</td>\n      <td>3</td>\n      <td>4</td>\n    </tr>\n    <tr>\n      <th>world</th>\n      <td>5</td>\n      <td>6</td>\n      <td>7</td>\n      <td>8</td>\n    </tr>\n    <tr>\n      <th>foo</th>\n      <td>9</td>\n      <td>10</td>\n      <td>11</td>\n      <td>12</td>\n    </tr>\n  </tbody>\n</table>\n</div>",
      "text/plain": "         a   b   c   d\nmessage               \nhello    1   2   3   4\nworld    5   6   7   8\nfoo      9  10  11  12"
     },
     "execution_count": 107,
     "metadata": {},
     "output_type": "execute_result"
    }
   ],
   "source": [
    "pd.read_csv('examples/ex2.csv', names=names, index_col='message')"
   ]
  },
  {
   "cell_type": "code",
   "execution_count": 108,
   "metadata": {},
   "outputs": [],
   "source": [
    "parsed = pd.read_csv('examples/csv_mindex.csv',\n",
    "                     index_col=['key1', 'key2'])"
   ]
  },
  {
   "cell_type": "code",
   "execution_count": 109,
   "metadata": {},
   "outputs": [
    {
     "data": {
      "text/html": "<div>\n<style scoped>\n    .dataframe tbody tr th:only-of-type {\n        vertical-align: middle;\n    }\n\n    .dataframe tbody tr th {\n        vertical-align: top;\n    }\n\n    .dataframe thead th {\n        text-align: right;\n    }\n</style>\n<table border=\"1\" class=\"dataframe\">\n  <thead>\n    <tr style=\"text-align: right;\">\n      <th></th>\n      <th></th>\n      <th>value1</th>\n      <th>value2</th>\n    </tr>\n    <tr>\n      <th>key1</th>\n      <th>key2</th>\n      <th></th>\n      <th></th>\n    </tr>\n  </thead>\n  <tbody>\n    <tr>\n      <th rowspan=\"4\" valign=\"top\">one</th>\n      <th>a</th>\n      <td>1</td>\n      <td>2</td>\n    </tr>\n    <tr>\n      <th>b</th>\n      <td>3</td>\n      <td>4</td>\n    </tr>\n    <tr>\n      <th>c</th>\n      <td>5</td>\n      <td>6</td>\n    </tr>\n    <tr>\n      <th>d</th>\n      <td>7</td>\n      <td>8</td>\n    </tr>\n    <tr>\n      <th rowspan=\"4\" valign=\"top\">two</th>\n      <th>a</th>\n      <td>9</td>\n      <td>10</td>\n    </tr>\n    <tr>\n      <th>b</th>\n      <td>11</td>\n      <td>12</td>\n    </tr>\n    <tr>\n      <th>c</th>\n      <td>13</td>\n      <td>14</td>\n    </tr>\n    <tr>\n      <th>d</th>\n      <td>15</td>\n      <td>16</td>\n    </tr>\n  </tbody>\n</table>\n</div>",
      "text/plain": "           value1  value2\nkey1 key2                \none  a          1       2\n     b          3       4\n     c          5       6\n     d          7       8\ntwo  a          9      10\n     b         11      12\n     c         13      14\n     d         15      16"
     },
     "execution_count": 109,
     "metadata": {},
     "output_type": "execute_result"
    }
   ],
   "source": [
    "parsed"
   ]
  },
  {
   "cell_type": "code",
   "execution_count": 110,
   "metadata": {},
   "outputs": [
    {
     "data": {
      "text/plain": "['            A         B         C\\n',\n 'aaa -0.264438 -1.026059 -0.619500\\n',\n 'bbb  0.927272  0.302904 -0.032399\\n',\n 'ccc -0.264273 -0.386314 -0.217601\\n',\n 'ddd -0.871858 -0.348382  1.100491\\n']"
     },
     "execution_count": 110,
     "metadata": {},
     "output_type": "execute_result"
    }
   ],
   "source": [
    "list(open('examples/ex3.txt'))"
   ]
  },
  {
   "cell_type": "code",
   "execution_count": 111,
   "metadata": {},
   "outputs": [],
   "source": [
    "result = pd.read_table('examples/ex3.txt', sep='\\s+')"
   ]
  },
  {
   "cell_type": "code",
   "execution_count": 112,
   "metadata": {},
   "outputs": [
    {
     "data": {
      "text/html": "<div>\n<style scoped>\n    .dataframe tbody tr th:only-of-type {\n        vertical-align: middle;\n    }\n\n    .dataframe tbody tr th {\n        vertical-align: top;\n    }\n\n    .dataframe thead th {\n        text-align: right;\n    }\n</style>\n<table border=\"1\" class=\"dataframe\">\n  <thead>\n    <tr style=\"text-align: right;\">\n      <th></th>\n      <th>A</th>\n      <th>B</th>\n      <th>C</th>\n    </tr>\n  </thead>\n  <tbody>\n    <tr>\n      <th>aaa</th>\n      <td>-0.264438</td>\n      <td>-1.026059</td>\n      <td>-0.619500</td>\n    </tr>\n    <tr>\n      <th>bbb</th>\n      <td>0.927272</td>\n      <td>0.302904</td>\n      <td>-0.032399</td>\n    </tr>\n    <tr>\n      <th>ccc</th>\n      <td>-0.264273</td>\n      <td>-0.386314</td>\n      <td>-0.217601</td>\n    </tr>\n    <tr>\n      <th>ddd</th>\n      <td>-0.871858</td>\n      <td>-0.348382</td>\n      <td>1.100491</td>\n    </tr>\n  </tbody>\n</table>\n</div>",
      "text/plain": "            A         B         C\naaa -0.264438 -1.026059 -0.619500\nbbb  0.927272  0.302904 -0.032399\nccc -0.264273 -0.386314 -0.217601\nddd -0.871858 -0.348382  1.100491"
     },
     "execution_count": 112,
     "metadata": {},
     "output_type": "execute_result"
    }
   ],
   "source": [
    "result"
   ]
  },
  {
   "cell_type": "code",
   "execution_count": 113,
   "metadata": {},
   "outputs": [
    {
     "data": {
      "text/html": "<div>\n<style scoped>\n    .dataframe tbody tr th:only-of-type {\n        vertical-align: middle;\n    }\n\n    .dataframe tbody tr th {\n        vertical-align: top;\n    }\n\n    .dataframe thead th {\n        text-align: right;\n    }\n</style>\n<table border=\"1\" class=\"dataframe\">\n  <thead>\n    <tr style=\"text-align: right;\">\n      <th></th>\n      <th>a</th>\n      <th>b</th>\n      <th>c</th>\n      <th>d</th>\n      <th>message</th>\n    </tr>\n  </thead>\n  <tbody>\n    <tr>\n      <th>0</th>\n      <td>1</td>\n      <td>2</td>\n      <td>3</td>\n      <td>4</td>\n      <td>hello</td>\n    </tr>\n    <tr>\n      <th>1</th>\n      <td>5</td>\n      <td>6</td>\n      <td>7</td>\n      <td>8</td>\n      <td>world</td>\n    </tr>\n    <tr>\n      <th>2</th>\n      <td>9</td>\n      <td>10</td>\n      <td>11</td>\n      <td>12</td>\n      <td>foo</td>\n    </tr>\n  </tbody>\n</table>\n</div>",
      "text/plain": "   a   b   c   d message\n0  1   2   3   4   hello\n1  5   6   7   8   world\n2  9  10  11  12     foo"
     },
     "execution_count": 113,
     "metadata": {},
     "output_type": "execute_result"
    }
   ],
   "source": [
    "pd.read_csv('examples/ex4.csv', skiprows=[0, 2, 3])"
   ]
  },
  {
   "cell_type": "code",
   "execution_count": 114,
   "metadata": {},
   "outputs": [],
   "source": [
    "result = pd.read_csv('examples/ex5.csv')"
   ]
  },
  {
   "cell_type": "code",
   "execution_count": 115,
   "metadata": {},
   "outputs": [
    {
     "data": {
      "text/html": "<div>\n<style scoped>\n    .dataframe tbody tr th:only-of-type {\n        vertical-align: middle;\n    }\n\n    .dataframe tbody tr th {\n        vertical-align: top;\n    }\n\n    .dataframe thead th {\n        text-align: right;\n    }\n</style>\n<table border=\"1\" class=\"dataframe\">\n  <thead>\n    <tr style=\"text-align: right;\">\n      <th></th>\n      <th>something</th>\n      <th>a</th>\n      <th>b</th>\n      <th>c</th>\n      <th>d</th>\n      <th>message</th>\n    </tr>\n  </thead>\n  <tbody>\n    <tr>\n      <th>0</th>\n      <td>one</td>\n      <td>1</td>\n      <td>2</td>\n      <td>3.0</td>\n      <td>4</td>\n      <td>NaN</td>\n    </tr>\n    <tr>\n      <th>1</th>\n      <td>two</td>\n      <td>5</td>\n      <td>6</td>\n      <td>NaN</td>\n      <td>8</td>\n      <td>world</td>\n    </tr>\n    <tr>\n      <th>2</th>\n      <td>three</td>\n      <td>9</td>\n      <td>10</td>\n      <td>11.0</td>\n      <td>12</td>\n      <td>foo</td>\n    </tr>\n  </tbody>\n</table>\n</div>",
      "text/plain": "  something  a   b     c   d message\n0       one  1   2   3.0   4     NaN\n1       two  5   6   NaN   8   world\n2     three  9  10  11.0  12     foo"
     },
     "execution_count": 115,
     "metadata": {},
     "output_type": "execute_result"
    }
   ],
   "source": [
    "result"
   ]
  },
  {
   "cell_type": "code",
   "execution_count": 116,
   "metadata": {},
   "outputs": [
    {
     "data": {
      "text/html": "<div>\n<style scoped>\n    .dataframe tbody tr th:only-of-type {\n        vertical-align: middle;\n    }\n\n    .dataframe tbody tr th {\n        vertical-align: top;\n    }\n\n    .dataframe thead th {\n        text-align: right;\n    }\n</style>\n<table border=\"1\" class=\"dataframe\">\n  <thead>\n    <tr style=\"text-align: right;\">\n      <th></th>\n      <th>something</th>\n      <th>a</th>\n      <th>b</th>\n      <th>c</th>\n      <th>d</th>\n      <th>message</th>\n    </tr>\n  </thead>\n  <tbody>\n    <tr>\n      <th>0</th>\n      <td>False</td>\n      <td>False</td>\n      <td>False</td>\n      <td>False</td>\n      <td>False</td>\n      <td>True</td>\n    </tr>\n    <tr>\n      <th>1</th>\n      <td>False</td>\n      <td>False</td>\n      <td>False</td>\n      <td>True</td>\n      <td>False</td>\n      <td>False</td>\n    </tr>\n    <tr>\n      <th>2</th>\n      <td>False</td>\n      <td>False</td>\n      <td>False</td>\n      <td>False</td>\n      <td>False</td>\n      <td>False</td>\n    </tr>\n  </tbody>\n</table>\n</div>",
      "text/plain": "   something      a      b      c      d  message\n0      False  False  False  False  False     True\n1      False  False  False   True  False    False\n2      False  False  False  False  False    False"
     },
     "execution_count": 116,
     "metadata": {},
     "output_type": "execute_result"
    }
   ],
   "source": [
    "pd.isnull(result)"
   ]
  },
  {
   "cell_type": "code",
   "execution_count": 117,
   "metadata": {},
   "outputs": [],
   "source": [
    "result = pd.read_csv('examples/ex5.csv', na_values='NULL')"
   ]
  },
  {
   "cell_type": "code",
   "execution_count": 118,
   "metadata": {},
   "outputs": [
    {
     "data": {
      "text/html": "<div>\n<style scoped>\n    .dataframe tbody tr th:only-of-type {\n        vertical-align: middle;\n    }\n\n    .dataframe tbody tr th {\n        vertical-align: top;\n    }\n\n    .dataframe thead th {\n        text-align: right;\n    }\n</style>\n<table border=\"1\" class=\"dataframe\">\n  <thead>\n    <tr style=\"text-align: right;\">\n      <th></th>\n      <th>something</th>\n      <th>a</th>\n      <th>b</th>\n      <th>c</th>\n      <th>d</th>\n      <th>message</th>\n    </tr>\n  </thead>\n  <tbody>\n    <tr>\n      <th>0</th>\n      <td>one</td>\n      <td>1</td>\n      <td>2</td>\n      <td>3.0</td>\n      <td>4</td>\n      <td>NaN</td>\n    </tr>\n    <tr>\n      <th>1</th>\n      <td>two</td>\n      <td>5</td>\n      <td>6</td>\n      <td>NaN</td>\n      <td>8</td>\n      <td>world</td>\n    </tr>\n    <tr>\n      <th>2</th>\n      <td>three</td>\n      <td>9</td>\n      <td>10</td>\n      <td>11.0</td>\n      <td>12</td>\n      <td>foo</td>\n    </tr>\n  </tbody>\n</table>\n</div>",
      "text/plain": "  something  a   b     c   d message\n0       one  1   2   3.0   4     NaN\n1       two  5   6   NaN   8   world\n2     three  9  10  11.0  12     foo"
     },
     "execution_count": 118,
     "metadata": {},
     "output_type": "execute_result"
    }
   ],
   "source": [
    "result"
   ]
  },
  {
   "cell_type": "code",
   "execution_count": null,
   "metadata": {},
   "outputs": [],
   "source": []
  },
  {
   "cell_type": "code",
   "execution_count": 119,
   "metadata": {},
   "outputs": [],
   "source": [
    "sentinels = {'message': ['foo', 'NA'], 'something': ['two']}"
   ]
  },
  {
   "cell_type": "code",
   "execution_count": 120,
   "metadata": {},
   "outputs": [
    {
     "data": {
      "text/html": "<div>\n<style scoped>\n    .dataframe tbody tr th:only-of-type {\n        vertical-align: middle;\n    }\n\n    .dataframe tbody tr th {\n        vertical-align: top;\n    }\n\n    .dataframe thead th {\n        text-align: right;\n    }\n</style>\n<table border=\"1\" class=\"dataframe\">\n  <thead>\n    <tr style=\"text-align: right;\">\n      <th></th>\n      <th>something</th>\n      <th>a</th>\n      <th>b</th>\n      <th>c</th>\n      <th>d</th>\n      <th>message</th>\n    </tr>\n  </thead>\n  <tbody>\n    <tr>\n      <th>0</th>\n      <td>one</td>\n      <td>1</td>\n      <td>2</td>\n      <td>3.0</td>\n      <td>4</td>\n      <td>NaN</td>\n    </tr>\n    <tr>\n      <th>1</th>\n      <td>NaN</td>\n      <td>5</td>\n      <td>6</td>\n      <td>NaN</td>\n      <td>8</td>\n      <td>world</td>\n    </tr>\n    <tr>\n      <th>2</th>\n      <td>three</td>\n      <td>9</td>\n      <td>10</td>\n      <td>11.0</td>\n      <td>12</td>\n      <td>NaN</td>\n    </tr>\n  </tbody>\n</table>\n</div>",
      "text/plain": "  something  a   b     c   d message\n0       one  1   2   3.0   4     NaN\n1       NaN  5   6   NaN   8   world\n2     three  9  10  11.0  12     NaN"
     },
     "execution_count": 120,
     "metadata": {},
     "output_type": "execute_result"
    }
   ],
   "source": [
    "pd.read_csv('examples/ex5.csv', na_values=sentinels)"
   ]
  },
  {
   "cell_type": "code",
   "execution_count": 121,
   "metadata": {},
   "outputs": [],
   "source": [
    "pd.options.display.max_rows = 10"
   ]
  },
  {
   "cell_type": "code",
   "execution_count": 122,
   "metadata": {},
   "outputs": [],
   "source": [
    "result = pd.read_csv('examples/ex6.csv')"
   ]
  },
  {
   "cell_type": "code",
   "execution_count": 123,
   "metadata": {},
   "outputs": [
    {
     "data": {
      "text/html": "<div>\n<style scoped>\n    .dataframe tbody tr th:only-of-type {\n        vertical-align: middle;\n    }\n\n    .dataframe tbody tr th {\n        vertical-align: top;\n    }\n\n    .dataframe thead th {\n        text-align: right;\n    }\n</style>\n<table border=\"1\" class=\"dataframe\">\n  <thead>\n    <tr style=\"text-align: right;\">\n      <th></th>\n      <th>one</th>\n      <th>two</th>\n      <th>three</th>\n      <th>four</th>\n      <th>key</th>\n    </tr>\n  </thead>\n  <tbody>\n    <tr>\n      <th>0</th>\n      <td>0.467976</td>\n      <td>-0.038649</td>\n      <td>-0.295344</td>\n      <td>-1.824726</td>\n      <td>L</td>\n    </tr>\n    <tr>\n      <th>1</th>\n      <td>-0.358893</td>\n      <td>1.404453</td>\n      <td>0.704965</td>\n      <td>-0.200638</td>\n      <td>B</td>\n    </tr>\n    <tr>\n      <th>2</th>\n      <td>-0.501840</td>\n      <td>0.659254</td>\n      <td>-0.421691</td>\n      <td>-0.057688</td>\n      <td>G</td>\n    </tr>\n    <tr>\n      <th>3</th>\n      <td>0.204886</td>\n      <td>1.074134</td>\n      <td>1.388361</td>\n      <td>-0.982404</td>\n      <td>R</td>\n    </tr>\n    <tr>\n      <th>4</th>\n      <td>0.354628</td>\n      <td>-0.133116</td>\n      <td>0.283763</td>\n      <td>-0.837063</td>\n      <td>Q</td>\n    </tr>\n    <tr>\n      <th>...</th>\n      <td>...</td>\n      <td>...</td>\n      <td>...</td>\n      <td>...</td>\n      <td>...</td>\n    </tr>\n    <tr>\n      <th>9995</th>\n      <td>2.311896</td>\n      <td>-0.417070</td>\n      <td>-1.409599</td>\n      <td>-0.515821</td>\n      <td>L</td>\n    </tr>\n    <tr>\n      <th>9996</th>\n      <td>-0.479893</td>\n      <td>-0.650419</td>\n      <td>0.745152</td>\n      <td>-0.646038</td>\n      <td>E</td>\n    </tr>\n    <tr>\n      <th>9997</th>\n      <td>0.523331</td>\n      <td>0.787112</td>\n      <td>0.486066</td>\n      <td>1.093156</td>\n      <td>K</td>\n    </tr>\n    <tr>\n      <th>9998</th>\n      <td>-0.362559</td>\n      <td>0.598894</td>\n      <td>-1.843201</td>\n      <td>0.887292</td>\n      <td>G</td>\n    </tr>\n    <tr>\n      <th>9999</th>\n      <td>-0.096376</td>\n      <td>-1.012999</td>\n      <td>-0.657431</td>\n      <td>-0.573315</td>\n      <td>0</td>\n    </tr>\n  </tbody>\n</table>\n<p>10000 rows × 5 columns</p>\n</div>",
      "text/plain": "           one       two     three      four key\n0     0.467976 -0.038649 -0.295344 -1.824726   L\n1    -0.358893  1.404453  0.704965 -0.200638   B\n2    -0.501840  0.659254 -0.421691 -0.057688   G\n3     0.204886  1.074134  1.388361 -0.982404   R\n4     0.354628 -0.133116  0.283763 -0.837063   Q\n...        ...       ...       ...       ...  ..\n9995  2.311896 -0.417070 -1.409599 -0.515821   L\n9996 -0.479893 -0.650419  0.745152 -0.646038   E\n9997  0.523331  0.787112  0.486066  1.093156   K\n9998 -0.362559  0.598894 -1.843201  0.887292   G\n9999 -0.096376 -1.012999 -0.657431 -0.573315   0\n\n[10000 rows x 5 columns]"
     },
     "execution_count": 123,
     "metadata": {},
     "output_type": "execute_result"
    }
   ],
   "source": [
    "result"
   ]
  },
  {
   "cell_type": "code",
   "execution_count": 124,
   "metadata": {},
   "outputs": [
    {
     "data": {
      "text/html": "<div>\n<style scoped>\n    .dataframe tbody tr th:only-of-type {\n        vertical-align: middle;\n    }\n\n    .dataframe tbody tr th {\n        vertical-align: top;\n    }\n\n    .dataframe thead th {\n        text-align: right;\n    }\n</style>\n<table border=\"1\" class=\"dataframe\">\n  <thead>\n    <tr style=\"text-align: right;\">\n      <th></th>\n      <th>one</th>\n      <th>two</th>\n      <th>three</th>\n      <th>four</th>\n      <th>key</th>\n    </tr>\n  </thead>\n  <tbody>\n    <tr>\n      <th>0</th>\n      <td>0.467976</td>\n      <td>-0.038649</td>\n      <td>-0.295344</td>\n      <td>-1.824726</td>\n      <td>L</td>\n    </tr>\n    <tr>\n      <th>1</th>\n      <td>-0.358893</td>\n      <td>1.404453</td>\n      <td>0.704965</td>\n      <td>-0.200638</td>\n      <td>B</td>\n    </tr>\n    <tr>\n      <th>2</th>\n      <td>-0.501840</td>\n      <td>0.659254</td>\n      <td>-0.421691</td>\n      <td>-0.057688</td>\n      <td>G</td>\n    </tr>\n    <tr>\n      <th>3</th>\n      <td>0.204886</td>\n      <td>1.074134</td>\n      <td>1.388361</td>\n      <td>-0.982404</td>\n      <td>R</td>\n    </tr>\n    <tr>\n      <th>4</th>\n      <td>0.354628</td>\n      <td>-0.133116</td>\n      <td>0.283763</td>\n      <td>-0.837063</td>\n      <td>Q</td>\n    </tr>\n  </tbody>\n</table>\n</div>",
      "text/plain": "        one       two     three      four key\n0  0.467976 -0.038649 -0.295344 -1.824726   L\n1 -0.358893  1.404453  0.704965 -0.200638   B\n2 -0.501840  0.659254 -0.421691 -0.057688   G\n3  0.204886  1.074134  1.388361 -0.982404   R\n4  0.354628 -0.133116  0.283763 -0.837063   Q"
     },
     "execution_count": 124,
     "metadata": {},
     "output_type": "execute_result"
    }
   ],
   "source": [
    "pd.read_csv('examples/ex6.csv', nrows=5)"
   ]
  },
  {
   "cell_type": "code",
   "execution_count": 125,
   "metadata": {},
   "outputs": [],
   "source": [
    "chunker = pd.read_csv('examples/ex6.csv', chunksize=1000)"
   ]
  },
  {
   "cell_type": "code",
   "execution_count": 126,
   "metadata": {},
   "outputs": [
    {
     "data": {
      "text/plain": "<pandas.io.parsers.TextFileReader at 0x2224b80bfa0>"
     },
     "execution_count": 126,
     "metadata": {},
     "output_type": "execute_result"
    }
   ],
   "source": [
    "chunker"
   ]
  },
  {
   "cell_type": "code",
   "execution_count": 127,
   "metadata": {},
   "outputs": [
    {
     "name": "stderr",
     "output_type": "stream",
     "text": [
      "<ipython-input-127-0dfcb0830956>:1: DeprecationWarning: The default dtype for empty Series will be 'object' instead of 'float64' in a future version. Specify a dtype explicitly to silence this warning.\n",
      "  tot = pd.Series([])\n"
     ]
    }
   ],
   "source": [
    "tot = pd.Series([])"
   ]
  },
  {
   "cell_type": "code",
   "execution_count": 128,
   "metadata": {},
   "outputs": [],
   "source": [
    "for piece in chunker:\n",
    "    tot = tot.add(piece['key'].value_counts(), fill_value=0)"
   ]
  },
  {
   "cell_type": "code",
   "execution_count": 129,
   "metadata": {},
   "outputs": [],
   "source": [
    "tot = tot.sort_values(ascending=False)"
   ]
  },
  {
   "cell_type": "code",
   "execution_count": 130,
   "metadata": {},
   "outputs": [
    {
     "data": {
      "text/plain": "E    368.0\nX    364.0\nL    346.0\nO    343.0\nQ    340.0\n     ...  \n5    157.0\n2    152.0\n0    151.0\n9    150.0\n1    146.0\nLength: 36, dtype: float64"
     },
     "execution_count": 130,
     "metadata": {},
     "output_type": "execute_result"
    }
   ],
   "source": [
    "tot"
   ]
  },
  {
   "cell_type": "code",
   "execution_count": 131,
   "metadata": {},
   "outputs": [],
   "source": [
    "data = pd.read_csv('examples/ex5.csv')"
   ]
  },
  {
   "cell_type": "code",
   "execution_count": 132,
   "metadata": {},
   "outputs": [
    {
     "data": {
      "text/html": "<div>\n<style scoped>\n    .dataframe tbody tr th:only-of-type {\n        vertical-align: middle;\n    }\n\n    .dataframe tbody tr th {\n        vertical-align: top;\n    }\n\n    .dataframe thead th {\n        text-align: right;\n    }\n</style>\n<table border=\"1\" class=\"dataframe\">\n  <thead>\n    <tr style=\"text-align: right;\">\n      <th></th>\n      <th>something</th>\n      <th>a</th>\n      <th>b</th>\n      <th>c</th>\n      <th>d</th>\n      <th>message</th>\n    </tr>\n  </thead>\n  <tbody>\n    <tr>\n      <th>0</th>\n      <td>one</td>\n      <td>1</td>\n      <td>2</td>\n      <td>3.0</td>\n      <td>4</td>\n      <td>NaN</td>\n    </tr>\n    <tr>\n      <th>1</th>\n      <td>two</td>\n      <td>5</td>\n      <td>6</td>\n      <td>NaN</td>\n      <td>8</td>\n      <td>world</td>\n    </tr>\n    <tr>\n      <th>2</th>\n      <td>three</td>\n      <td>9</td>\n      <td>10</td>\n      <td>11.0</td>\n      <td>12</td>\n      <td>foo</td>\n    </tr>\n  </tbody>\n</table>\n</div>",
      "text/plain": "  something  a   b     c   d message\n0       one  1   2   3.0   4     NaN\n1       two  5   6   NaN   8   world\n2     three  9  10  11.0  12     foo"
     },
     "execution_count": 132,
     "metadata": {},
     "output_type": "execute_result"
    }
   ],
   "source": [
    "data"
   ]
  },
  {
   "cell_type": "code",
   "execution_count": 133,
   "metadata": {},
   "outputs": [],
   "source": [
    "data.to_csv('examples/out.csv')"
   ]
  },
  {
   "cell_type": "code",
   "execution_count": 134,
   "metadata": {},
   "outputs": [],
   "source": [
    "# !cat examples/out.csv"
   ]
  },
  {
   "cell_type": "code",
   "execution_count": 135,
   "metadata": {},
   "outputs": [],
   "source": [
    "import sys"
   ]
  },
  {
   "cell_type": "code",
   "execution_count": 136,
   "metadata": {},
   "outputs": [
    {
     "name": "stdout",
     "output_type": "stream",
     "text": [
      "|something|a|b|c|d|message\n",
      "0|one|1|2|3.0|4|\n",
      "1|two|5|6||8|world\n",
      "2|three|9|10|11.0|12|foo\n"
     ]
    }
   ],
   "source": [
    "data.to_csv(sys.stdout, sep='|')"
   ]
  },
  {
   "cell_type": "code",
   "execution_count": 137,
   "metadata": {},
   "outputs": [
    {
     "name": "stdout",
     "output_type": "stream",
     "text": [
      ",something,a,b,c,d,message\n",
      "0,one,1,2,3.0,4,NULL\n",
      "1,two,5,6,NULL,8,world\n",
      "2,three,9,10,11.0,12,foo\n"
     ]
    }
   ],
   "source": [
    "data.to_csv(sys.stdout, na_rep='NULL')"
   ]
  },
  {
   "cell_type": "code",
   "execution_count": 138,
   "metadata": {},
   "outputs": [
    {
     "name": "stdout",
     "output_type": "stream",
     "text": [
      "one,1,2,3.0,4,\n",
      "two,5,6,,8,world\n",
      "three,9,10,11.0,12,foo\n"
     ]
    }
   ],
   "source": [
    "data.to_csv(sys.stdout, index=False, header=False)"
   ]
  },
  {
   "cell_type": "code",
   "execution_count": 139,
   "metadata": {},
   "outputs": [
    {
     "name": "stdout",
     "output_type": "stream",
     "text": [
      "a,b,c\n",
      "1,2,3.0\n",
      "5,6,\n",
      "9,10,11.0\n"
     ]
    }
   ],
   "source": [
    "data.to_csv(sys.stdout, index=False, columns=list('abc'))"
   ]
  },
  {
   "cell_type": "code",
   "execution_count": 140,
   "metadata": {},
   "outputs": [],
   "source": [
    "dates = pd.date_range('1/1/2000', periods=7)"
   ]
  },
  {
   "cell_type": "code",
   "execution_count": 141,
   "metadata": {},
   "outputs": [
    {
     "data": {
      "text/plain": "DatetimeIndex(['2000-01-01', '2000-01-02', '2000-01-03', '2000-01-04',\n               '2000-01-05', '2000-01-06', '2000-01-07'],\n              dtype='datetime64[ns]', freq='D')"
     },
     "execution_count": 141,
     "metadata": {},
     "output_type": "execute_result"
    }
   ],
   "source": [
    "dates"
   ]
  },
  {
   "cell_type": "code",
   "execution_count": 142,
   "metadata": {},
   "outputs": [],
   "source": [
    "ts = pd.Series(np.arange(7), index=dates)"
   ]
  },
  {
   "cell_type": "code",
   "execution_count": 143,
   "metadata": {},
   "outputs": [
    {
     "data": {
      "text/plain": "2000-01-01    0\n2000-01-02    1\n2000-01-03    2\n2000-01-04    3\n2000-01-05    4\n2000-01-06    5\n2000-01-07    6\nFreq: D, dtype: int32"
     },
     "execution_count": 143,
     "metadata": {},
     "output_type": "execute_result"
    }
   ],
   "source": [
    "ts"
   ]
  },
  {
   "cell_type": "code",
   "execution_count": 144,
   "metadata": {},
   "outputs": [],
   "source": [
    "ts.to_csv('examples/tseries.csv')"
   ]
  },
  {
   "cell_type": "code",
   "execution_count": 145,
   "metadata": {},
   "outputs": [],
   "source": [
    "# !cat examples/tseries.csv"
   ]
  },
  {
   "cell_type": "code",
   "execution_count": 146,
   "metadata": {},
   "outputs": [],
   "source": [
    "# !cat examples/ex7.csv"
   ]
  },
  {
   "cell_type": "code",
   "execution_count": 147,
   "metadata": {},
   "outputs": [],
   "source": [
    "import csv"
   ]
  },
  {
   "cell_type": "code",
   "execution_count": 148,
   "metadata": {},
   "outputs": [],
   "source": [
    "f = open('examples/ex7.csv')"
   ]
  },
  {
   "cell_type": "code",
   "execution_count": 149,
   "metadata": {},
   "outputs": [],
   "source": [
    "reader = csv.reader(f)"
   ]
  },
  {
   "cell_type": "code",
   "execution_count": 150,
   "metadata": {},
   "outputs": [
    {
     "data": {
      "text/plain": "<_csv.reader at 0x2224bedd2e0>"
     },
     "execution_count": 150,
     "metadata": {},
     "output_type": "execute_result"
    }
   ],
   "source": [
    "reader"
   ]
  },
  {
   "cell_type": "code",
   "execution_count": 151,
   "metadata": {},
   "outputs": [
    {
     "name": "stdout",
     "output_type": "stream",
     "text": [
      "['a', 'b', 'c']\n",
      "['1', '2', '3']\n",
      "['1', '2', '3']\n"
     ]
    }
   ],
   "source": [
    "for line in reader:\n",
    "    print(line)"
   ]
  },
  {
   "cell_type": "code",
   "execution_count": 152,
   "metadata": {},
   "outputs": [],
   "source": [
    "with open('examples/ex7.csv') as file:\n",
    "    lines = list(csv.reader(file))"
   ]
  },
  {
   "cell_type": "code",
   "execution_count": 153,
   "metadata": {},
   "outputs": [],
   "source": [
    "header, *values = lines"
   ]
  },
  {
   "cell_type": "code",
   "execution_count": 154,
   "metadata": {},
   "outputs": [
    {
     "data": {
      "text/plain": "['a', 'b', 'c']"
     },
     "execution_count": 154,
     "metadata": {},
     "output_type": "execute_result"
    }
   ],
   "source": [
    "header"
   ]
  },
  {
   "cell_type": "code",
   "execution_count": 155,
   "metadata": {},
   "outputs": [
    {
     "data": {
      "text/plain": "[['1', '2', '3'], ['1', '2', '3']]"
     },
     "execution_count": 155,
     "metadata": {},
     "output_type": "execute_result"
    }
   ],
   "source": [
    "values"
   ]
  },
  {
   "cell_type": "code",
   "execution_count": 156,
   "metadata": {},
   "outputs": [],
   "source": [
    "data_dict = {h: v for h, v in zip(header, zip(*values))}"
   ]
  },
  {
   "cell_type": "code",
   "execution_count": 157,
   "metadata": {},
   "outputs": [
    {
     "data": {
      "text/plain": "{'a': ('1', '1'), 'b': ('2', '2'), 'c': ('3', '3')}"
     },
     "execution_count": 157,
     "metadata": {},
     "output_type": "execute_result"
    }
   ],
   "source": [
    "data_dict"
   ]
  },
  {
   "cell_type": "code",
   "execution_count": 158,
   "metadata": {},
   "outputs": [],
   "source": [
    "class my_dialect(csv.Dialect):\n",
    "    lineterminator = '\\n'\n",
    "    delimiter = ';'\n",
    "    quotechar = '\"'\n",
    "    quoting = csv.QUOTE_MINIMAL"
   ]
  },
  {
   "cell_type": "code",
   "execution_count": 159,
   "metadata": {},
   "outputs": [],
   "source": [
    "reader = csv.reader(f, dialect=my_dialect)"
   ]
  },
  {
   "cell_type": "code",
   "execution_count": 160,
   "metadata": {},
   "outputs": [],
   "source": [
    "reader = csv.reader(f, delimiter='|')"
   ]
  },
  {
   "cell_type": "markdown",
   "metadata": {},
   "source": [
    "## USING HDF5 FORMAT"
   ]
  },
  {
   "cell_type": "code",
   "execution_count": 161,
   "metadata": {},
   "outputs": [],
   "source": [
    "frame = pd.DataFrame({'a' : np.random.randn(100)})"
   ]
  },
  {
   "cell_type": "code",
   "execution_count": 162,
   "metadata": {},
   "outputs": [
    {
     "data": {
      "text/html": "<div>\n<style scoped>\n    .dataframe tbody tr th:only-of-type {\n        vertical-align: middle;\n    }\n\n    .dataframe tbody tr th {\n        vertical-align: top;\n    }\n\n    .dataframe thead th {\n        text-align: right;\n    }\n</style>\n<table border=\"1\" class=\"dataframe\">\n  <thead>\n    <tr style=\"text-align: right;\">\n      <th></th>\n      <th>a</th>\n    </tr>\n  </thead>\n  <tbody>\n    <tr>\n      <th>0</th>\n      <td>-0.204708</td>\n    </tr>\n    <tr>\n      <th>1</th>\n      <td>0.478943</td>\n    </tr>\n    <tr>\n      <th>2</th>\n      <td>-0.519439</td>\n    </tr>\n    <tr>\n      <th>3</th>\n      <td>-0.555730</td>\n    </tr>\n    <tr>\n      <th>4</th>\n      <td>1.965781</td>\n    </tr>\n    <tr>\n      <th>...</th>\n      <td>...</td>\n    </tr>\n    <tr>\n      <th>95</th>\n      <td>0.795253</td>\n    </tr>\n    <tr>\n      <th>96</th>\n      <td>0.118110</td>\n    </tr>\n    <tr>\n      <th>97</th>\n      <td>-0.748532</td>\n    </tr>\n    <tr>\n      <th>98</th>\n      <td>0.584970</td>\n    </tr>\n    <tr>\n      <th>99</th>\n      <td>0.152677</td>\n    </tr>\n  </tbody>\n</table>\n<p>100 rows × 1 columns</p>\n</div>",
      "text/plain": "           a\n0  -0.204708\n1   0.478943\n2  -0.519439\n3  -0.555730\n4   1.965781\n..       ...\n95  0.795253\n96  0.118110\n97 -0.748532\n98  0.584970\n99  0.152677\n\n[100 rows x 1 columns]"
     },
     "execution_count": 162,
     "metadata": {},
     "output_type": "execute_result"
    }
   ],
   "source": [
    "frame"
   ]
  },
  {
   "cell_type": "code",
   "execution_count": 163,
   "metadata": {},
   "outputs": [],
   "source": [
    "store = pd.HDFStore('files/mydata.h5')"
   ]
  },
  {
   "cell_type": "code",
   "execution_count": 164,
   "metadata": {},
   "outputs": [
    {
     "data": {
      "text/plain": "<class 'pandas.io.pytables.HDFStore'>\nFile path: files/mydata.h5"
     },
     "execution_count": 164,
     "metadata": {},
     "output_type": "execute_result"
    }
   ],
   "source": [
    "store"
   ]
  },
  {
   "cell_type": "code",
   "execution_count": 165,
   "metadata": {},
   "outputs": [],
   "source": [
    "store['obj1'] = frame"
   ]
  },
  {
   "cell_type": "code",
   "execution_count": 166,
   "metadata": {},
   "outputs": [],
   "source": [
    "store['obj1_col'] = frame['a']"
   ]
  },
  {
   "cell_type": "code",
   "execution_count": 167,
   "metadata": {},
   "outputs": [
    {
     "data": {
      "text/plain": "<class 'pandas.io.pytables.HDFStore'>\nFile path: files/mydata.h5"
     },
     "execution_count": 167,
     "metadata": {},
     "output_type": "execute_result"
    }
   ],
   "source": [
    "store"
   ]
  },
  {
   "cell_type": "code",
   "execution_count": 168,
   "metadata": {},
   "outputs": [
    {
     "data": {
      "text/html": "<div>\n<style scoped>\n    .dataframe tbody tr th:only-of-type {\n        vertical-align: middle;\n    }\n\n    .dataframe tbody tr th {\n        vertical-align: top;\n    }\n\n    .dataframe thead th {\n        text-align: right;\n    }\n</style>\n<table border=\"1\" class=\"dataframe\">\n  <thead>\n    <tr style=\"text-align: right;\">\n      <th></th>\n      <th>a</th>\n    </tr>\n  </thead>\n  <tbody>\n    <tr>\n      <th>0</th>\n      <td>-0.204708</td>\n    </tr>\n    <tr>\n      <th>1</th>\n      <td>0.478943</td>\n    </tr>\n    <tr>\n      <th>2</th>\n      <td>-0.519439</td>\n    </tr>\n    <tr>\n      <th>3</th>\n      <td>-0.555730</td>\n    </tr>\n    <tr>\n      <th>4</th>\n      <td>1.965781</td>\n    </tr>\n    <tr>\n      <th>...</th>\n      <td>...</td>\n    </tr>\n    <tr>\n      <th>95</th>\n      <td>0.795253</td>\n    </tr>\n    <tr>\n      <th>96</th>\n      <td>0.118110</td>\n    </tr>\n    <tr>\n      <th>97</th>\n      <td>-0.748532</td>\n    </tr>\n    <tr>\n      <th>98</th>\n      <td>0.584970</td>\n    </tr>\n    <tr>\n      <th>99</th>\n      <td>0.152677</td>\n    </tr>\n  </tbody>\n</table>\n<p>100 rows × 1 columns</p>\n</div>",
      "text/plain": "           a\n0  -0.204708\n1   0.478943\n2  -0.519439\n3  -0.555730\n4   1.965781\n..       ...\n95  0.795253\n96  0.118110\n97 -0.748532\n98  0.584970\n99  0.152677\n\n[100 rows x 1 columns]"
     },
     "execution_count": 168,
     "metadata": {},
     "output_type": "execute_result"
    }
   ],
   "source": [
    "store['obj1']"
   ]
  },
  {
   "cell_type": "code",
   "execution_count": 169,
   "metadata": {},
   "outputs": [],
   "source": [
    "store.put('obj2', frame, format='table')"
   ]
  },
  {
   "cell_type": "code",
   "execution_count": 170,
   "metadata": {},
   "outputs": [
    {
     "data": {
      "text/html": "<div>\n<style scoped>\n    .dataframe tbody tr th:only-of-type {\n        vertical-align: middle;\n    }\n\n    .dataframe tbody tr th {\n        vertical-align: top;\n    }\n\n    .dataframe thead th {\n        text-align: right;\n    }\n</style>\n<table border=\"1\" class=\"dataframe\">\n  <thead>\n    <tr style=\"text-align: right;\">\n      <th></th>\n      <th>a</th>\n    </tr>\n  </thead>\n  <tbody>\n    <tr>\n      <th>10</th>\n      <td>1.007189</td>\n    </tr>\n    <tr>\n      <th>11</th>\n      <td>-1.296221</td>\n    </tr>\n    <tr>\n      <th>12</th>\n      <td>0.274992</td>\n    </tr>\n    <tr>\n      <th>13</th>\n      <td>0.228913</td>\n    </tr>\n    <tr>\n      <th>14</th>\n      <td>1.352917</td>\n    </tr>\n    <tr>\n      <th>15</th>\n      <td>0.886429</td>\n    </tr>\n  </tbody>\n</table>\n</div>",
      "text/plain": "           a\n10  1.007189\n11 -1.296221\n12  0.274992\n13  0.228913\n14  1.352917\n15  0.886429"
     },
     "execution_count": 170,
     "metadata": {},
     "output_type": "execute_result"
    }
   ],
   "source": [
    "store.select('obj2', where=['index >= 10 and index <=15'])"
   ]
  },
  {
   "cell_type": "code",
   "execution_count": 171,
   "metadata": {},
   "outputs": [],
   "source": [
    "store.close()"
   ]
  },
  {
   "cell_type": "code",
   "execution_count": 172,
   "metadata": {},
   "outputs": [],
   "source": [
    "frame.to_hdf('files/mydata.h5', 'obj3', format='table')"
   ]
  },
  {
   "cell_type": "code",
   "execution_count": 173,
   "metadata": {},
   "outputs": [
    {
     "data": {
      "text/html": "<div>\n<style scoped>\n    .dataframe tbody tr th:only-of-type {\n        vertical-align: middle;\n    }\n\n    .dataframe tbody tr th {\n        vertical-align: top;\n    }\n\n    .dataframe thead th {\n        text-align: right;\n    }\n</style>\n<table border=\"1\" class=\"dataframe\">\n  <thead>\n    <tr style=\"text-align: right;\">\n      <th></th>\n      <th>a</th>\n    </tr>\n  </thead>\n  <tbody>\n    <tr>\n      <th>0</th>\n      <td>-0.204708</td>\n    </tr>\n    <tr>\n      <th>1</th>\n      <td>0.478943</td>\n    </tr>\n    <tr>\n      <th>2</th>\n      <td>-0.519439</td>\n    </tr>\n    <tr>\n      <th>3</th>\n      <td>-0.555730</td>\n    </tr>\n    <tr>\n      <th>4</th>\n      <td>1.965781</td>\n    </tr>\n  </tbody>\n</table>\n</div>",
      "text/plain": "          a\n0 -0.204708\n1  0.478943\n2 -0.519439\n3 -0.555730\n4  1.965781"
     },
     "execution_count": 173,
     "metadata": {},
     "output_type": "execute_result"
    }
   ],
   "source": [
    "pd.read_hdf('files/mydata.h5', 'obj3', where=['index < 5'])"
   ]
  },
  {
   "cell_type": "markdown",
   "metadata": {},
   "source": [
    " ## READING MICROSOFT EXCEL FILES"
   ]
  },
  {
   "cell_type": "code",
   "execution_count": 174,
   "metadata": {},
   "outputs": [],
   "source": [
    " xlsx = pd.ExcelFile('examples/ex1.xlsx')"
   ]
  },
  {
   "cell_type": "code",
   "execution_count": 175,
   "metadata": {},
   "outputs": [
    {
     "data": {
      "text/plain": "<pandas.io.excel._base.ExcelFile at 0x2224b80d160>"
     },
     "execution_count": 175,
     "metadata": {},
     "output_type": "execute_result"
    }
   ],
   "source": [
    "xlsx"
   ]
  },
  {
   "cell_type": "code",
   "execution_count": 176,
   "metadata": {},
   "outputs": [
    {
     "data": {
      "text/html": "<div>\n<style scoped>\n    .dataframe tbody tr th:only-of-type {\n        vertical-align: middle;\n    }\n\n    .dataframe tbody tr th {\n        vertical-align: top;\n    }\n\n    .dataframe thead th {\n        text-align: right;\n    }\n</style>\n<table border=\"1\" class=\"dataframe\">\n  <thead>\n    <tr style=\"text-align: right;\">\n      <th></th>\n      <th>Unnamed: 0</th>\n      <th>a</th>\n      <th>b</th>\n      <th>c</th>\n      <th>d</th>\n      <th>message</th>\n    </tr>\n  </thead>\n  <tbody>\n    <tr>\n      <th>0</th>\n      <td>0</td>\n      <td>1</td>\n      <td>2</td>\n      <td>3</td>\n      <td>4</td>\n      <td>hello</td>\n    </tr>\n    <tr>\n      <th>1</th>\n      <td>1</td>\n      <td>5</td>\n      <td>6</td>\n      <td>7</td>\n      <td>8</td>\n      <td>world</td>\n    </tr>\n    <tr>\n      <th>2</th>\n      <td>2</td>\n      <td>9</td>\n      <td>10</td>\n      <td>11</td>\n      <td>12</td>\n      <td>foo</td>\n    </tr>\n  </tbody>\n</table>\n</div>",
      "text/plain": "   Unnamed: 0  a   b   c   d message\n0           0  1   2   3   4   hello\n1           1  5   6   7   8   world\n2           2  9  10  11  12     foo"
     },
     "execution_count": 176,
     "metadata": {},
     "output_type": "execute_result"
    }
   ],
   "source": [
    "pd.read_excel(xlsx, 'Sheet1')"
   ]
  },
  {
   "cell_type": "code",
   "execution_count": 177,
   "metadata": {},
   "outputs": [],
   "source": [
    "writer = pd.ExcelWriter('examples/ex2.xlsx')"
   ]
  },
  {
   "cell_type": "code",
   "execution_count": 178,
   "metadata": {},
   "outputs": [],
   "source": [
    "frame.to_excel(writer, 'Sheet1')"
   ]
  },
  {
   "cell_type": "code",
   "execution_count": 179,
   "metadata": {},
   "outputs": [],
   "source": [
    "writer.save()"
   ]
  },
  {
   "cell_type": "code",
   "execution_count": 180,
   "metadata": {},
   "outputs": [],
   "source": [
    "frame.to_excel('examples/ex2.xlsx')"
   ]
  },
  {
   "cell_type": "markdown",
   "metadata": {},
   "source": [
    "## INTERACTING WITH WEB APIs"
   ]
  },
  {
   "cell_type": "code",
   "execution_count": 181,
   "metadata": {},
   "outputs": [],
   "source": [
    "import requests\n"
   ]
  },
  {
   "cell_type": "code",
   "execution_count": 182,
   "metadata": {},
   "outputs": [],
   "source": [
    "url  =  'https://api.github.com/repos/pandas-dev/pandas/issues'"
   ]
  },
  {
   "cell_type": "code",
   "execution_count": 183,
   "metadata": {},
   "outputs": [],
   "source": [
    "resp = requests.get(url)"
   ]
  },
  {
   "cell_type": "code",
   "execution_count": 184,
   "metadata": {},
   "outputs": [
    {
     "data": {
      "text/plain": "<Response [200]>"
     },
     "execution_count": 184,
     "metadata": {},
     "output_type": "execute_result"
    }
   ],
   "source": [
    "resp"
   ]
  },
  {
   "cell_type": "code",
   "execution_count": 185,
   "metadata": {},
   "outputs": [],
   "source": [
    "data = resp.json()"
   ]
  },
  {
   "cell_type": "code",
   "execution_count": 186,
   "metadata": {},
   "outputs": [
    {
     "data": {
      "text/plain": "[{'url': 'https://api.github.com/repos/pandas-dev/pandas/issues/40315',\n  'repository_url': 'https://api.github.com/repos/pandas-dev/pandas',\n  'labels_url': 'https://api.github.com/repos/pandas-dev/pandas/issues/40315/labels{/name}',\n  'comments_url': 'https://api.github.com/repos/pandas-dev/pandas/issues/40315/comments',\n  'events_url': 'https://api.github.com/repos/pandas-dev/pandas/issues/40315/events',\n  'html_url': 'https://github.com/pandas-dev/pandas/issues/40315',\n  'id': 825378135,\n  'node_id': 'MDU6SXNzdWU4MjUzNzgxMzU=',\n  'number': 40315,\n  'title': 'BUG: Inconsistent rounding up and rounding down in Timestamp.round (v1.2.3)',\n  'user': {'login': 'najeeb-kazmi',\n   'id': 14131235,\n   'node_id': 'MDQ6VXNlcjE0MTMxMjM1',\n   'avatar_url': 'https://avatars.githubusercontent.com/u/14131235?v=4',\n   'gravatar_id': '',\n   'url': 'https://api.github.com/users/najeeb-kazmi',\n   'html_url': 'https://github.com/najeeb-kazmi',\n   'followers_url': 'https://api.github.com/users/najeeb-kazmi/followers',\n   'following_url': 'https://api.github.com/users/najeeb-kazmi/following{/other_user}',\n   'gists_url': 'https://api.github.com/users/najeeb-kazmi/gists{/gist_id}',\n   'starred_url': 'https://api.github.com/users/najeeb-kazmi/starred{/owner}{/repo}',\n   'subscriptions_url': 'https://api.github.com/users/najeeb-kazmi/subscriptions',\n   'organizations_url': 'https://api.github.com/users/najeeb-kazmi/orgs',\n   'repos_url': 'https://api.github.com/users/najeeb-kazmi/repos',\n   'events_url': 'https://api.github.com/users/najeeb-kazmi/events{/privacy}',\n   'received_events_url': 'https://api.github.com/users/najeeb-kazmi/received_events',\n   'type': 'User',\n   'site_admin': False},\n  'labels': [{'id': 76811,\n    'node_id': 'MDU6TGFiZWw3NjgxMQ==',\n    'url': 'https://api.github.com/repos/pandas-dev/pandas/labels/Bug',\n    'name': 'Bug',\n    'color': 'e10c02',\n    'default': False,\n    'description': None},\n   {'id': 1954720290,\n    'node_id': 'MDU6TGFiZWwxOTU0NzIwMjkw',\n    'url': 'https://api.github.com/repos/pandas-dev/pandas/labels/Needs%20Triage',\n    'name': 'Needs Triage',\n    'color': '0052cc',\n    'default': False,\n    'description': 'Issue that has not been reviewed by a pandas team member'}],\n  'state': 'open',\n  'locked': False,\n  'assignee': None,\n  'assignees': [],\n  'milestone': None,\n  'comments': 0,\n  'created_at': '2021-03-09T05:47:35Z',\n  'updated_at': '2021-03-09T05:47:50Z',\n  'closed_at': None,\n  'author_association': 'NONE',\n  'active_lock_reason': None,\n  'body': '- [x] I have checked that this issue has not already been reported.\\r\\n\\r\\n- [x] I have confirmed this bug exists on the latest version of pandas.\\r\\n\\r\\n- [ ] (optional) I have confirmed this bug exists on the master branch of pandas.\\r\\n\\r\\n---\\r\\n\\r\\n**Note**: Please read [this guide](https://matthewrocklin.com/blog/work/2018/02/28/minimal-bug-reports) detailing how to provide the necessary information for us to reproduce your bug.\\r\\n\\r\\n#### Code Sample, a copy-pastable example\\r\\n\\r\\n```python\\r\\nprint(pd.Timestamp(\\'2021-03-03T23:20:30\\').round(\"1min\"))\\r\\nprint(pd.Timestamp(\\'2021-03-03T23:21:30\\').round(\"1min\"))\\r\\n\\r\\nprint(pd.Timestamp(\\'2021-03-03T23:22:30\\').round(\"5min\"))\\r\\nprint(pd.Timestamp(\\'2021-03-03T23:27:30\\').round(\"5min\"))\\r\\n```\\r\\nOutput:\\r\\n```\\r\\n2021-03-03 23:20:00\\r\\n2021-03-03 23:22:00\\r\\n2021-03-03 23:20:00\\r\\n2021-03-03 23:30:00\\r\\n```\\r\\n\\r\\n\\r\\n#### Problem description\\r\\nRounding a `Timestamp` has inconsistent behavior w.r.t. rounding up vs rounding down when the `Timestamp` is exactly in the middle of the rounding resolution. In the above example, if the minute is even, it rounds down, and if the minute is odd, it rounds up.\\r\\n\\r\\n#### Expected Output\\r\\nRound up consistently\\r\\n```\\r\\n2021-03-03 23:21:00\\r\\n2021-03-03 23:22:00\\r\\n2021-03-03 23:25:00\\r\\n2021-03-03 23:30:00\\r\\n```\\r\\n\\r\\n#### Output of ``pd.show_versions()``\\r\\n```\\r\\nINSTALLED VERSIONS\\r\\n------------------\\r\\ncommit           : f2c8480af2f25efdbd803218b9d87980f416563e\\r\\npython           : 3.7.7.final.0\\r\\npython-bits      : 64\\r\\nOS               : Linux\\r\\nOS-release       : 5.0.0-1032-azure\\r\\nVersion          : #34-Ubuntu SMP Mon Feb 10 19:37:25 UTC 2020\\r\\nmachine          : x86_64\\r\\nprocessor        : x86_64\\r\\nbyteorder        : little\\r\\nLC_ALL           : None\\r\\nLANG             : None\\r\\nLOCALE           : en_US.UTF-8\\r\\n\\r\\npandas           : 1.2.3\\r\\nnumpy            : 1.20.1\\r\\npytz             : 2020.1\\r\\ndateutil         : 2.8.1\\r\\npip              : 21.0.1\\r\\nsetuptools       : 50.3.0.post20201006\\r\\nCython           : None\\r\\npytest           : 6.1.1\\r\\nhypothesis       : None\\r\\nsphinx           : 3.2.1\\r\\nblosc            : None\\r\\nfeather          : None\\r\\nxlsxwriter       : None\\r\\nlxml.etree       : None\\r\\nhtml5lib         : None\\r\\npymysql          : None\\r\\npsycopg2         : None\\r\\njinja2           : 2.11.2\\r\\nIPython          : 7.18.1\\r\\npandas_datareader: None\\r\\nbs4              : None\\r\\nbottleneck       : None\\r\\nfsspec           : 0.8.3\\r\\nfastparquet      : None\\r\\ngcsfs            : None\\r\\nmatplotlib       : 3.2.1\\r\\nnumexpr          : None\\r\\nodfpy            : None\\r\\nopenpyxl         : None\\r\\npandas_gbq       : None\\r\\npyarrow          : None\\r\\npyxlsb           : None\\r\\ns3fs             : 0.4.2\\r\\nscipy            : 1.3.3\\r\\nsqlalchemy       : None\\r\\ntables           : None\\r\\ntabulate         : None\\r\\nxarray           : 0.16.0\\r\\nxlrd             : None\\r\\nxlwt             : None\\r\\nnumba            : None\\r\\n```\\r\\n</details>\\r\\n',\n  'performed_via_github_app': None},\n {'url': 'https://api.github.com/repos/pandas-dev/pandas/issues/40314',\n  'repository_url': 'https://api.github.com/repos/pandas-dev/pandas',\n  'labels_url': 'https://api.github.com/repos/pandas-dev/pandas/issues/40314/labels{/name}',\n  'comments_url': 'https://api.github.com/repos/pandas-dev/pandas/issues/40314/comments',\n  'events_url': 'https://api.github.com/repos/pandas-dev/pandas/issues/40314/events',\n  'html_url': 'https://github.com/pandas-dev/pandas/pull/40314',\n  'id': 825340207,\n  'node_id': 'MDExOlB1bGxSZXF1ZXN0NTg3NDQ1NzMw',\n  'number': 40314,\n  'title': 'ERR: Raise NotImplimentedError for EWMA with times and adjust=False',\n  'user': {'login': 'mroeschke',\n   'id': 10647082,\n   'node_id': 'MDQ6VXNlcjEwNjQ3MDgy',\n   'avatar_url': 'https://avatars.githubusercontent.com/u/10647082?v=4',\n   'gravatar_id': '',\n   'url': 'https://api.github.com/users/mroeschke',\n   'html_url': 'https://github.com/mroeschke',\n   'followers_url': 'https://api.github.com/users/mroeschke/followers',\n   'following_url': 'https://api.github.com/users/mroeschke/following{/other_user}',\n   'gists_url': 'https://api.github.com/users/mroeschke/gists{/gist_id}',\n   'starred_url': 'https://api.github.com/users/mroeschke/starred{/owner}{/repo}',\n   'subscriptions_url': 'https://api.github.com/users/mroeschke/subscriptions',\n   'organizations_url': 'https://api.github.com/users/mroeschke/orgs',\n   'repos_url': 'https://api.github.com/users/mroeschke/repos',\n   'events_url': 'https://api.github.com/users/mroeschke/events{/privacy}',\n   'received_events_url': 'https://api.github.com/users/mroeschke/received_events',\n   'type': 'User',\n   'site_admin': False},\n  'labels': [{'id': 42670965,\n    'node_id': 'MDU6TGFiZWw0MjY3MDk2NQ==',\n    'url': 'https://api.github.com/repos/pandas-dev/pandas/labels/Error%20Reporting',\n    'name': 'Error Reporting',\n    'color': 'ffa0ff',\n    'default': False,\n    'description': 'Incorrect or improved errors from pandas'},\n   {'id': 1045950827,\n    'node_id': 'MDU6TGFiZWwxMDQ1OTUwODI3',\n    'url': 'https://api.github.com/repos/pandas-dev/pandas/labels/Window',\n    'name': 'Window',\n    'color': 'd4c5f9',\n    'default': False,\n    'description': 'rolling, ewma, expanding'}],\n  'state': 'open',\n  'locked': False,\n  'assignee': None,\n  'assignees': [],\n  'milestone': {'url': 'https://api.github.com/repos/pandas-dev/pandas/milestones/80',\n   'html_url': 'https://github.com/pandas-dev/pandas/milestone/80',\n   'labels_url': 'https://api.github.com/repos/pandas-dev/pandas/milestones/80/labels',\n   'id': 6095818,\n   'node_id': 'MDk6TWlsZXN0b25lNjA5NTgxOA==',\n   'number': 80,\n   'title': '1.3',\n   'description': '',\n   'creator': {'login': 'jreback',\n    'id': 953992,\n    'node_id': 'MDQ6VXNlcjk1Mzk5Mg==',\n    'avatar_url': 'https://avatars.githubusercontent.com/u/953992?v=4',\n    'gravatar_id': '',\n    'url': 'https://api.github.com/users/jreback',\n    'html_url': 'https://github.com/jreback',\n    'followers_url': 'https://api.github.com/users/jreback/followers',\n    'following_url': 'https://api.github.com/users/jreback/following{/other_user}',\n    'gists_url': 'https://api.github.com/users/jreback/gists{/gist_id}',\n    'starred_url': 'https://api.github.com/users/jreback/starred{/owner}{/repo}',\n    'subscriptions_url': 'https://api.github.com/users/jreback/subscriptions',\n    'organizations_url': 'https://api.github.com/users/jreback/orgs',\n    'repos_url': 'https://api.github.com/users/jreback/repos',\n    'events_url': 'https://api.github.com/users/jreback/events{/privacy}',\n    'received_events_url': 'https://api.github.com/users/jreback/received_events',\n    'type': 'User',\n    'site_admin': False},\n   'open_issues': 110,\n   'closed_issues': 1068,\n   'state': 'open',\n   'created_at': '2020-11-11T19:05:43Z',\n   'updated_at': '2021-03-09T05:10:54Z',\n   'due_on': '2021-05-31T07:00:00Z',\n   'closed_at': None},\n  'comments': 0,\n  'created_at': '2021-03-09T05:10:47Z',\n  'updated_at': '2021-03-09T05:11:05Z',\n  'closed_at': None,\n  'author_association': 'MEMBER',\n  'active_lock_reason': None,\n  'pull_request': {'url': 'https://api.github.com/repos/pandas-dev/pandas/pulls/40314',\n   'html_url': 'https://github.com/pandas-dev/pandas/pull/40314',\n   'diff_url': 'https://github.com/pandas-dev/pandas/pull/40314.diff',\n   'patch_url': 'https://github.com/pandas-dev/pandas/pull/40314.patch'},\n  'body': '- [x] closes #40098\\r\\n- [x] tests added / passed\\r\\n- [x] Ensure all linting tests pass, see [here](https://pandas.pydata.org/pandas-docs/dev/development/contributing.html#code-standards) for how to run them\\r\\n- [x] whatsnew entry\\r\\n',\n  'performed_via_github_app': None},\n {'url': 'https://api.github.com/repos/pandas-dev/pandas/issues/40313',\n  'repository_url': 'https://api.github.com/repos/pandas-dev/pandas',\n  'labels_url': 'https://api.github.com/repos/pandas-dev/pandas/issues/40313/labels{/name}',\n  'comments_url': 'https://api.github.com/repos/pandas-dev/pandas/issues/40313/comments',\n  'events_url': 'https://api.github.com/repos/pandas-dev/pandas/issues/40313/events',\n  'html_url': 'https://github.com/pandas-dev/pandas/issues/40313',\n  'id': 825126757,\n  'node_id': 'MDU6SXNzdWU4MjUxMjY3NTc=',\n  'number': 40313,\n  'title': 'BUG: incorrect calculation of centered moving averages for even window size',\n  'user': {'login': 'TomasBeuzen',\n   'id': 40379073,\n   'node_id': 'MDQ6VXNlcjQwMzc5MDcz',\n   'avatar_url': 'https://avatars.githubusercontent.com/u/40379073?v=4',\n   'gravatar_id': '',\n   'url': 'https://api.github.com/users/TomasBeuzen',\n   'html_url': 'https://github.com/TomasBeuzen',\n   'followers_url': 'https://api.github.com/users/TomasBeuzen/followers',\n   'following_url': 'https://api.github.com/users/TomasBeuzen/following{/other_user}',\n   'gists_url': 'https://api.github.com/users/TomasBeuzen/gists{/gist_id}',\n   'starred_url': 'https://api.github.com/users/TomasBeuzen/starred{/owner}{/repo}',\n   'subscriptions_url': 'https://api.github.com/users/TomasBeuzen/subscriptions',\n   'organizations_url': 'https://api.github.com/users/TomasBeuzen/orgs',\n   'repos_url': 'https://api.github.com/users/TomasBeuzen/repos',\n   'events_url': 'https://api.github.com/users/TomasBeuzen/events{/privacy}',\n   'received_events_url': 'https://api.github.com/users/TomasBeuzen/received_events',\n   'type': 'User',\n   'site_admin': False},\n  'labels': [{'id': 76812,\n    'node_id': 'MDU6TGFiZWw3NjgxMg==',\n    'url': 'https://api.github.com/repos/pandas-dev/pandas/labels/Enhancement',\n    'name': 'Enhancement',\n    'color': '4E9A06',\n    'default': False,\n    'description': None},\n   {'id': 219960758,\n    'node_id': 'MDU6TGFiZWwyMTk5NjA3NTg=',\n    'url': 'https://api.github.com/repos/pandas-dev/pandas/labels/Needs%20Discussion',\n    'name': 'Needs Discussion',\n    'color': '207de5',\n    'default': False,\n    'description': None},\n   {'id': 1045950827,\n    'node_id': 'MDU6TGFiZWwxMDQ1OTUwODI3',\n    'url': 'https://api.github.com/repos/pandas-dev/pandas/labels/Window',\n    'name': 'Window',\n    'color': 'd4c5f9',\n    'default': False,\n    'description': 'rolling, ewma, expanding'}],\n  'state': 'open',\n  'locked': False,\n  'assignee': None,\n  'assignees': [],\n  'milestone': None,\n  'comments': 1,\n  'created_at': '2021-03-09T01:04:37Z',\n  'updated_at': '2021-03-09T04:21:12Z',\n  'closed_at': None,\n  'author_association': 'NONE',\n  'active_lock_reason': None,\n  'body': '- [x] I have checked that this issue has not already been reported (originally reported in the now quite old #14425 but reviving here with a more thorough description of the problem)\\r\\n\\r\\n- [x] I have confirmed this bug exists on the latest version of pandas.\\r\\n\\r\\n- [ ] (optional) I have confirmed this bug exists on the master branch of pandas.\\r\\n\\r\\n---\\r\\n#### Code Sample\\r\\n\\r\\nThe current `rolling(window, center=True).mean()` behaviour in Pandas first calculates the rolling mean and then shifts the result back to \"center\" the labels. This does not give the expected result (at least to me):\\r\\n\\r\\n```python\\r\\nimport pandas as pd\\r\\nwindow_size = 2\\r\\ndf = pd.DataFrame([2, 6, 4, 2, 0, 1, 5, 3],\\r\\n                  index=[\"Jan\", \"Feb\", \"Mar\", \"Apr\", \"May\", \"Jun\", \"Jul\", \"Aug\"])\\r\\ndf.rolling(window=window_size).mean()\\r\\n```\\r\\n\\r\\n|     |     0 |\\r\\n|:----|------:|\\r\\n| Jan | nan   |\\r\\n| Feb |   4   |\\r\\n| Mar |   5   |\\r\\n| Apr |   3   |\\r\\n| May |   1   |\\r\\n| Jun |   0.5 |\\r\\n| Jul |   3   |\\r\\n| Aug |   4   |\\r\\n\\r\\n#### Problem description\\r\\n\\r\\nFor rolling averages with an even sized window (e.g., 2, 4, 6, 8, etc.) [it is common](https://otexts.com/fpp2/moving-averages.html#moving-averages-of-moving-averages) to apply a moving average with window size = 2 (`2 x MA`) to the result of the original moving average output to line up results with the original index. \\r\\n\\r\\nHere\\'s an example animation showing the expected behaviour:\\r\\n\\r\\n![2-moving-average](https://user-images.githubusercontent.com/40379073/110401570-a335e000-802e-11eb-9341-cf31365fa74b.gif)\\r\\n\\r\\n#### Expected Output\\r\\n\\r\\nThe following code achieves the above (correct?) behaviour:\\r\\n\\r\\n```python\\r\\n(df.rolling(window=window_size).mean()\\r\\n   .rolling(window=2).mean()\\r\\n   .shift(-window_size // 2)\\r\\n)\\r\\n```\\r\\n\\r\\n|     |      0 |\\r\\n|:----|-------:|\\r\\n| Jan | nan    |\\r\\n| Feb |   4.5  |\\r\\n| Mar |   4    |\\r\\n| Apr |   2    |\\r\\n| May |   0.75 |\\r\\n| Jun |   1.75 |\\r\\n| Jul |   3.5  |\\r\\n| Aug | nan    |\\r\\n\\r\\n#### Additional context\\r\\n\\r\\nI\\'m not sure if this needs to be changed in the codebase as the above workaround is not too bad. But I wanted to document the issue here for anyone who encounters it. I\\'d also be happy to work on a PR if this did want to be implemented.\\r\\n\\r\\n#### Output of ``pd.show_versions()``\\r\\n\\r\\n<details>\\r\\n\\r\\nINSTALLED VERSIONS\\r\\n------------------\\r\\ncommit           : f2c8480af2f25efdbd803218b9d87980f416563e\\r\\npython           : 3.9.2.final.0\\r\\npython-bits      : 64\\r\\nOS               : Darwin\\r\\nOS-release       : 18.7.0\\r\\nVersion          : Darwin Kernel Version 18.7.0: Tue Aug 20 16:57:14 PDT 2019; root:xnu-4903.271.2~2/RELEASE_X86_64\\r\\nmachine          : x86_64\\r\\nprocessor        : i386\\r\\nbyteorder        : little\\r\\nLC_ALL           : None\\r\\nLANG             : en_CA.UTF-8\\r\\nLOCALE           : en_CA.UTF-8\\r\\n\\r\\npandas           : 1.2.3\\r\\nnumpy            : 1.20.1\\r\\npytz             : 2021.1\\r\\ndateutil         : 2.8.1\\r\\npip              : 21.0.1\\r\\nsetuptools       : 49.6.0.post20210108\\r\\nCython           : None\\r\\npytest           : None\\r\\nhypothesis       : None\\r\\nsphinx           : None\\r\\nblosc            : None\\r\\nfeather          : None\\r\\nxlsxwriter       : None\\r\\nlxml.etree       : None\\r\\nhtml5lib         : None\\r\\npymysql          : None\\r\\npsycopg2         : None\\r\\njinja2           : None\\r\\nIPython          : None\\r\\npandas_datareader: None\\r\\nbs4              : None\\r\\nbottleneck       : None\\r\\nfsspec           : None\\r\\nfastparquet      : None\\r\\ngcsfs            : None\\r\\nmatplotlib       : None\\r\\nnumexpr          : None\\r\\nodfpy            : None\\r\\nopenpyxl         : None\\r\\npandas_gbq       : None\\r\\npyarrow          : None\\r\\npyxlsb           : None\\r\\ns3fs             : None\\r\\nscipy            : None\\r\\nsqlalchemy       : None\\r\\ntables           : None\\r\\ntabulate         : None\\r\\nxarray           : None\\r\\nxlrd             : None\\r\\nxlwt             : None\\r\\nnumba            : None\\r\\n\\r\\n</details>\\r\\n',\n  'performed_via_github_app': None},\n {'url': 'https://api.github.com/repos/pandas-dev/pandas/issues/40312',\n  'repository_url': 'https://api.github.com/repos/pandas-dev/pandas',\n  'labels_url': 'https://api.github.com/repos/pandas-dev/pandas/issues/40312/labels{/name}',\n  'comments_url': 'https://api.github.com/repos/pandas-dev/pandas/issues/40312/comments',\n  'events_url': 'https://api.github.com/repos/pandas-dev/pandas/issues/40312/events',\n  'html_url': 'https://github.com/pandas-dev/pandas/pull/40312',\n  'id': 824951347,\n  'node_id': 'MDExOlB1bGxSZXF1ZXN0NTg3MTAyNjQx',\n  'number': 40312,\n  'title': '[WIP] API: `Styler.to_html` can ultimately replace `DataFrame.to_html`',\n  'user': {'login': 'attack68',\n   'id': 24256554,\n   'node_id': 'MDQ6VXNlcjI0MjU2NTU0',\n   'avatar_url': 'https://avatars.githubusercontent.com/u/24256554?v=4',\n   'gravatar_id': '',\n   'url': 'https://api.github.com/users/attack68',\n   'html_url': 'https://github.com/attack68',\n   'followers_url': 'https://api.github.com/users/attack68/followers',\n   'following_url': 'https://api.github.com/users/attack68/following{/other_user}',\n   'gists_url': 'https://api.github.com/users/attack68/gists{/gist_id}',\n   'starred_url': 'https://api.github.com/users/attack68/starred{/owner}{/repo}',\n   'subscriptions_url': 'https://api.github.com/users/attack68/subscriptions',\n   'organizations_url': 'https://api.github.com/users/attack68/orgs',\n   'repos_url': 'https://api.github.com/users/attack68/repos',\n   'events_url': 'https://api.github.com/users/attack68/events{/privacy}',\n   'received_events_url': 'https://api.github.com/users/attack68/received_events',\n   'type': 'User',\n   'site_admin': False},\n  'labels': [],\n  'state': 'open',\n  'locked': False,\n  'assignee': None,\n  'assignees': [],\n  'milestone': None,\n  'comments': 0,\n  'created_at': '2021-03-08T21:04:33Z',\n  'updated_at': '2021-03-08T23:02:34Z',\n  'closed_at': None,\n  'author_association': 'CONTRIBUTOR',\n  'active_lock_reason': None,\n  'pull_request': {'url': 'https://api.github.com/repos/pandas-dev/pandas/pulls/40312',\n   'html_url': 'https://github.com/pandas-dev/pandas/pull/40312',\n   'diff_url': 'https://github.com/pandas-dev/pandas/pull/40312.diff',\n   'patch_url': 'https://github.com/pandas-dev/pandas/pull/40312.patch'},\n  'body': '- [x] closes #11700 #13379\\r\\n\\r\\n`Styler` is currently faster at rendering HTML than `DataFrame.to_html` (#39972). If `css classes` and html element `ids` are optionally removed (as in this PR) it is also 25% faster. As seen this is fairly easy to incorporate by providing two `jinja2` templates catering for either the classes and ids option or not.\\r\\n\\r\\n`DataFrame.to_html()` contains some arguments that generate deprecated HTML (#39951). It also contains some arguments that, in my opinion are pointless:\\r\\n`max_rowsint`\\r\\n`min_rowsint`\\r\\n`max_colsint`\\r\\n`show_dimensions`\\r\\nthese are all related to console display, and have no real purpose for the HTML.\\r\\n\\r\\nSome arguments in `DataFrame.to_html()` can be easily converted to `Styler`s format.\\r\\n\\r\\n`jinja2` becomes a dependency, but it already is for `Styler` and if you need to use `to_html` it stands to reason you may be familiar with `jinja2` anyhow.\\r\\n\\r\\nThe entire `HTMLFormatter` logic could perhaps be removed?\\r\\n',\n  'performed_via_github_app': None},\n {'url': 'https://api.github.com/repos/pandas-dev/pandas/issues/40309',\n  'repository_url': 'https://api.github.com/repos/pandas-dev/pandas',\n  'labels_url': 'https://api.github.com/repos/pandas-dev/pandas/issues/40309/labels{/name}',\n  'comments_url': 'https://api.github.com/repos/pandas-dev/pandas/issues/40309/comments',\n  'events_url': 'https://api.github.com/repos/pandas-dev/pandas/issues/40309/events',\n  'html_url': 'https://github.com/pandas-dev/pandas/issues/40309',\n  'id': 824656326,\n  'node_id': 'MDU6SXNzdWU4MjQ2NTYzMjY=',\n  'number': 40309,\n  'title': 'BUG: I am facing parse error but it was note resolved so can someone please give an idea to resolve this issue?',\n  'user': {'login': 'bhasker-1996',\n   'id': 18751111,\n   'node_id': 'MDQ6VXNlcjE4NzUxMTEx',\n   'avatar_url': 'https://avatars.githubusercontent.com/u/18751111?v=4',\n   'gravatar_id': '',\n   'url': 'https://api.github.com/users/bhasker-1996',\n   'html_url': 'https://github.com/bhasker-1996',\n   'followers_url': 'https://api.github.com/users/bhasker-1996/followers',\n   'following_url': 'https://api.github.com/users/bhasker-1996/following{/other_user}',\n   'gists_url': 'https://api.github.com/users/bhasker-1996/gists{/gist_id}',\n   'starred_url': 'https://api.github.com/users/bhasker-1996/starred{/owner}{/repo}',\n   'subscriptions_url': 'https://api.github.com/users/bhasker-1996/subscriptions',\n   'organizations_url': 'https://api.github.com/users/bhasker-1996/orgs',\n   'repos_url': 'https://api.github.com/users/bhasker-1996/repos',\n   'events_url': 'https://api.github.com/users/bhasker-1996/events{/privacy}',\n   'received_events_url': 'https://api.github.com/users/bhasker-1996/received_events',\n   'type': 'User',\n   'site_admin': False},\n  'labels': [{'id': 307649777,\n    'node_id': 'MDU6TGFiZWwzMDc2NDk3Nzc=',\n    'url': 'https://api.github.com/repos/pandas-dev/pandas/labels/Needs%20Info',\n    'name': 'Needs Info',\n    'color': '207de5',\n    'default': False,\n    'description': 'Clarification about behavior needed to assess issue'}],\n  'state': 'open',\n  'locked': False,\n  'assignee': None,\n  'assignees': [],\n  'milestone': None,\n  'comments': 1,\n  'created_at': '2021-03-08T15:11:59Z',\n  'updated_at': '2021-03-08T17:37:51Z',\n  'closed_at': None,\n  'author_association': 'NONE',\n  'active_lock_reason': None,\n  'body': 'line1 : import pandas as pd\\r\\nline2 : import numpy as np\\r\\nline3 :\\r\\nline4 : gd = pd.read_csv(\\'Desktop/Data_Science/abcd_efgh.csv\\')\\r\\n\\r\\nfor the above code i was getting the error as follows \\r\\n---------------------------------------------------------------------------\\r\\nParserError                               Traceback (most recent call last)\\r\\n<ipython-input-5-61cbc9c13f04> in <module>\\r\\n      2 import numpy as np\\r\\n      3 \\r\\n----> 4 gd = pd.read_csv(\\'Desktop/Data_Science/abcd_efgh.csv\\')\\r\\n      5 gd\\r\\n\\r\\n~\\\\anaconda3\\\\lib\\\\site-packages\\\\pandas\\\\io\\\\parsers.py in parser_f(filepath_or_buffer, sep, delimiter, header, names, index_col, usecols, squeeze, prefix, mangle_dupe_cols, dtype, engine, converters, true_values, false_values, skipinitialspace, skiprows, skipfooter, nrows, na_values, keep_default_na, na_filter, verbose, skip_blank_lines, parse_dates, infer_datetime_format, keep_date_col, date_parser, dayfirst, cache_dates, iterator, chunksize, compression, thousands, decimal, lineterminator, quotechar, quoting, doublequote, escapechar, comment, encoding, dialect, error_bad_lines, warn_bad_lines, delim_whitespace, low_memory, memory_map, float_precision)\\r\\n    674         )\\r\\n    675 \\r\\n--> 676         return _read(filepath_or_buffer, kwds)\\r\\n    677 \\r\\n    678     parser_f.__name__ = name\\r\\n\\r\\n~\\\\anaconda3\\\\lib\\\\site-packages\\\\pandas\\\\io\\\\parsers.py in _read(filepath_or_buffer, kwds)\\r\\n    452 \\r\\n    453     try:\\r\\n--> 454         data = parser.read(nrows)\\r\\n    455     finally:\\r\\n    456         parser.close()\\r\\n\\r\\n~\\\\anaconda3\\\\lib\\\\site-packages\\\\pandas\\\\io\\\\parsers.py in read(self, nrows)\\r\\n   1131     def read(self, nrows=None):\\r\\n   1132         nrows = _validate_integer(\"nrows\", nrows)\\r\\n-> 1133         ret = self._engine.read(nrows)\\r\\n   1134 \\r\\n   1135         # May alter columns / col_dict\\r\\n\\r\\n~\\\\anaconda3\\\\lib\\\\site-packages\\\\pandas\\\\io\\\\parsers.py in read(self, nrows)\\r\\n   2035     def read(self, nrows=None):\\r\\n   2036         try:\\r\\n-> 2037             data = self._reader.read(nrows)\\r\\n   2038         except StopIteration:\\r\\n   2039             if self._first_chunk:\\r\\n\\r\\npandas\\\\_libs\\\\parsers.pyx in pandas._libs.parsers.TextReader.read()\\r\\n\\r\\npandas\\\\_libs\\\\parsers.pyx in pandas._libs.parsers.TextReader._read_low_memory()\\r\\n\\r\\npandas\\\\_libs\\\\parsers.pyx in pandas._libs.parsers.TextReader._read_rows()\\r\\n\\r\\npandas\\\\_libs\\\\parsers.pyx in pandas._libs.parsers.TextReader._tokenize_rows()\\r\\n\\r\\npandas\\\\_libs\\\\parsers.pyx in pandas._libs.parsers.raise_parser_error()\\r\\n\\r\\nParserError: Error tokenizing data. C error: Expected 3 fields in line 5, saw 66',\n  'performed_via_github_app': None},\n {'url': 'https://api.github.com/repos/pandas-dev/pandas/issues/40307',\n  'repository_url': 'https://api.github.com/repos/pandas-dev/pandas',\n  'labels_url': 'https://api.github.com/repos/pandas-dev/pandas/issues/40307/labels{/name}',\n  'comments_url': 'https://api.github.com/repos/pandas-dev/pandas/issues/40307/comments',\n  'events_url': 'https://api.github.com/repos/pandas-dev/pandas/issues/40307/events',\n  'html_url': 'https://github.com/pandas-dev/pandas/issues/40307',\n  'id': 824635440,\n  'node_id': 'MDU6SXNzdWU4MjQ2MzU0NDA=',\n  'number': 40307,\n  'title': 'Use oldest-supported-numpy in pyproject.toml',\n  'user': {'login': 'TomAugspurger',\n   'id': 1312546,\n   'node_id': 'MDQ6VXNlcjEzMTI1NDY=',\n   'avatar_url': 'https://avatars.githubusercontent.com/u/1312546?v=4',\n   'gravatar_id': '',\n   'url': 'https://api.github.com/users/TomAugspurger',\n   'html_url': 'https://github.com/TomAugspurger',\n   'followers_url': 'https://api.github.com/users/TomAugspurger/followers',\n   'following_url': 'https://api.github.com/users/TomAugspurger/following{/other_user}',\n   'gists_url': 'https://api.github.com/users/TomAugspurger/gists{/gist_id}',\n   'starred_url': 'https://api.github.com/users/TomAugspurger/starred{/owner}{/repo}',\n   'subscriptions_url': 'https://api.github.com/users/TomAugspurger/subscriptions',\n   'organizations_url': 'https://api.github.com/users/TomAugspurger/orgs',\n   'repos_url': 'https://api.github.com/users/TomAugspurger/repos',\n   'events_url': 'https://api.github.com/users/TomAugspurger/events{/privacy}',\n   'received_events_url': 'https://api.github.com/users/TomAugspurger/received_events',\n   'type': 'User',\n   'site_admin': False},\n  'labels': [{'id': 129350,\n    'node_id': 'MDU6TGFiZWwxMjkzNTA=',\n    'url': 'https://api.github.com/repos/pandas-dev/pandas/labels/Build',\n    'name': 'Build',\n    'color': '75507B',\n    'default': False,\n    'description': 'Library building on various platforms'}],\n  'state': 'open',\n  'locked': False,\n  'assignee': None,\n  'assignees': [],\n  'milestone': None,\n  'comments': 0,\n  'created_at': '2021-03-08T14:46:49Z',\n  'updated_at': '2021-03-08T14:46:49Z',\n  'closed_at': None,\n  'author_association': 'CONTRIBUTOR',\n  'active_lock_reason': None,\n  'body': 'We should be able to replace the build requires section of our pyproject.toml with https://pypi.org/project/oldest-supported-numpy/',\n  'performed_via_github_app': None},\n {'url': 'https://api.github.com/repos/pandas-dev/pandas/issues/40306',\n  'repository_url': 'https://api.github.com/repos/pandas-dev/pandas',\n  'labels_url': 'https://api.github.com/repos/pandas-dev/pandas/issues/40306/labels{/name}',\n  'comments_url': 'https://api.github.com/repos/pandas-dev/pandas/issues/40306/comments',\n  'events_url': 'https://api.github.com/repos/pandas-dev/pandas/issues/40306/events',\n  'html_url': 'https://github.com/pandas-dev/pandas/pull/40306',\n  'id': 824614668,\n  'node_id': 'MDExOlB1bGxSZXF1ZXN0NTg2ODIwNjU5',\n  'number': 40306,\n  'title': 'REF: de-duplicate code for pad/backfill',\n  'user': {'login': 'simonjayhawkins',\n   'id': 13159005,\n   'node_id': 'MDQ6VXNlcjEzMTU5MDA1',\n   'avatar_url': 'https://avatars.githubusercontent.com/u/13159005?v=4',\n   'gravatar_id': '',\n   'url': 'https://api.github.com/users/simonjayhawkins',\n   'html_url': 'https://github.com/simonjayhawkins',\n   'followers_url': 'https://api.github.com/users/simonjayhawkins/followers',\n   'following_url': 'https://api.github.com/users/simonjayhawkins/following{/other_user}',\n   'gists_url': 'https://api.github.com/users/simonjayhawkins/gists{/gist_id}',\n   'starred_url': 'https://api.github.com/users/simonjayhawkins/starred{/owner}{/repo}',\n   'subscriptions_url': 'https://api.github.com/users/simonjayhawkins/subscriptions',\n   'organizations_url': 'https://api.github.com/users/simonjayhawkins/orgs',\n   'repos_url': 'https://api.github.com/users/simonjayhawkins/repos',\n   'events_url': 'https://api.github.com/users/simonjayhawkins/events{/privacy}',\n   'received_events_url': 'https://api.github.com/users/simonjayhawkins/received_events',\n   'type': 'User',\n   'site_admin': False},\n  'labels': [{'id': 2822342,\n    'node_id': 'MDU6TGFiZWwyODIyMzQy',\n    'url': 'https://api.github.com/repos/pandas-dev/pandas/labels/Missing-data',\n    'name': 'Missing-data',\n    'color': 'd7e102',\n    'default': False,\n    'description': None},\n   {'id': 127681,\n    'node_id': 'MDU6TGFiZWwxMjc2ODE=',\n    'url': 'https://api.github.com/repos/pandas-dev/pandas/labels/Refactor',\n    'name': 'Refactor',\n    'color': 'FCE94F',\n    'default': False,\n    'description': 'Internal refactoring of code'}],\n  'state': 'open',\n  'locked': False,\n  'assignee': None,\n  'assignees': [],\n  'milestone': None,\n  'comments': 1,\n  'created_at': '2021-03-08T14:21:10Z',\n  'updated_at': '2021-03-09T01:31:03Z',\n  'closed_at': None,\n  'author_association': 'MEMBER',\n  'active_lock_reason': None,\n  'pull_request': {'url': 'https://api.github.com/repos/pandas-dev/pandas/pulls/40306',\n   'html_url': 'https://github.com/pandas-dev/pandas/pull/40306',\n   'diff_url': 'https://github.com/pandas-dev/pandas/pull/40306.diff',\n   'patch_url': 'https://github.com/pandas-dev/pandas/pull/40306.patch'},\n  'body': \"```\\r\\n       before           after         ratio\\r\\n     [5ef41593]       [6a7ac9e4]\\r\\n     <master>         <interpolate_2d>\\r\\n+     3.44±0.04ms       5.14±0.4ms     1.50  frame_methods.Fillna.time_frame_fillna(True, 'pad', 'Float64')\\r\\n+      3.48±0.1ms       5.06±0.3ms     1.45  frame_methods.Fillna.time_frame_fillna(True, 'pad', 'Int64')\\r\\n+     3.32±0.05ms      4.59±0.05ms     1.38  frame_methods.Fillna.time_frame_fillna(False, 'bfill', 'Int64')\\r\\n+     3.30±0.05ms       4.42±0.1ms     1.34  frame_methods.Fillna.time_frame_fillna(False, 'bfill', 'Float64')\\r\\n+     3.37±0.03ms       4.43±0.1ms     1.32  frame_methods.Fillna.time_frame_fillna(False, 'pad', 'Int64')\\r\\n+     3.34±0.05ms      4.30±0.08ms     1.29  frame_methods.Fillna.time_frame_fillna(False, 'pad', 'Float64')\\r\\n+     2.15±0.04ms       2.48±0.2ms     1.15  frame_methods.Fillna.time_frame_fillna(True, 'bfill', 'Float64')\\r\\n\\r\\nSOME BENCHMARKS HAVE CHANGED SIGNIFICANTLY.\\r\\nPERFORMANCE DECREASED.\\r\\n```\\r\\n\\r\\nif the general idea of this PR is acceptable, could try to improve these but these were already significantly improved in #39953. \\r\\n\\r\\nwith the cython functions reduced from 4 to 1, it is feasible to add 1 dedicated function for no limit (my numba branch is quicker than cython with that change) instead of 4 extra functions.\\r\\n\\r\\nalso may pave the way to add limit area and limit direction support to EAs\\r\\n\\r\\nand maybe also for 2D masked arrays? cc @jbrockmendel \\r\\n\\r\\nalso having 1 cython function, I think also paves the way for a cython version for the limit area to remove the python set logic could be investigated.\",\n  'performed_via_github_app': None},\n {'url': 'https://api.github.com/repos/pandas-dev/pandas/issues/40305',\n  'repository_url': 'https://api.github.com/repos/pandas-dev/pandas',\n  'labels_url': 'https://api.github.com/repos/pandas-dev/pandas/issues/40305/labels{/name}',\n  'comments_url': 'https://api.github.com/repos/pandas-dev/pandas/issues/40305/comments',\n  'events_url': 'https://api.github.com/repos/pandas-dev/pandas/issues/40305/events',\n  'html_url': 'https://github.com/pandas-dev/pandas/pull/40305',\n  'id': 824539547,\n  'node_id': 'MDExOlB1bGxSZXF1ZXN0NTg2NzU2MzYw',\n  'number': 40305,\n  'title': 'docs: changes to documentation',\n  'user': {'login': 'mohamed-khoualed',\n   'id': 78821202,\n   'node_id': 'MDQ6VXNlcjc4ODIxMjAy',\n   'avatar_url': 'https://avatars.githubusercontent.com/u/78821202?v=4',\n   'gravatar_id': '',\n   'url': 'https://api.github.com/users/mohamed-khoualed',\n   'html_url': 'https://github.com/mohamed-khoualed',\n   'followers_url': 'https://api.github.com/users/mohamed-khoualed/followers',\n   'following_url': 'https://api.github.com/users/mohamed-khoualed/following{/other_user}',\n   'gists_url': 'https://api.github.com/users/mohamed-khoualed/gists{/gist_id}',\n   'starred_url': 'https://api.github.com/users/mohamed-khoualed/starred{/owner}{/repo}',\n   'subscriptions_url': 'https://api.github.com/users/mohamed-khoualed/subscriptions',\n   'organizations_url': 'https://api.github.com/users/mohamed-khoualed/orgs',\n   'repos_url': 'https://api.github.com/users/mohamed-khoualed/repos',\n   'events_url': 'https://api.github.com/users/mohamed-khoualed/events{/privacy}',\n   'received_events_url': 'https://api.github.com/users/mohamed-khoualed/received_events',\n   'type': 'User',\n   'site_admin': False},\n  'labels': [{'id': 134699,\n    'node_id': 'MDU6TGFiZWwxMzQ2OTk=',\n    'url': 'https://api.github.com/repos/pandas-dev/pandas/labels/Docs',\n    'name': 'Docs',\n    'color': '3465A4',\n    'default': False,\n    'description': None}],\n  'state': 'open',\n  'locked': False,\n  'assignee': None,\n  'assignees': [],\n  'milestone': None,\n  'comments': 0,\n  'created_at': '2021-03-08T13:05:25Z',\n  'updated_at': '2021-03-08T14:14:00Z',\n  'closed_at': None,\n  'author_association': 'NONE',\n  'active_lock_reason': None,\n  'pull_request': {'url': 'https://api.github.com/repos/pandas-dev/pandas/pulls/40305',\n   'html_url': 'https://github.com/pandas-dev/pandas/pull/40305',\n   'diff_url': 'https://github.com/pandas-dev/pandas/pull/40305.diff',\n   'patch_url': 'https://github.com/pandas-dev/pandas/pull/40305.patch'},\n  'body': 'docs: changes to documentation\\r\\nsmall grammatical update to the documentation',\n  'performed_via_github_app': None},\n {'url': 'https://api.github.com/repos/pandas-dev/pandas/issues/40304',\n  'repository_url': 'https://api.github.com/repos/pandas-dev/pandas',\n  'labels_url': 'https://api.github.com/repos/pandas-dev/pandas/issues/40304/labels{/name}',\n  'comments_url': 'https://api.github.com/repos/pandas-dev/pandas/issues/40304/comments',\n  'events_url': 'https://api.github.com/repos/pandas-dev/pandas/issues/40304/events',\n  'html_url': 'https://github.com/pandas-dev/pandas/pull/40304',\n  'id': 824516960,\n  'node_id': 'MDExOlB1bGxSZXF1ZXN0NTg2NzM4MzQ0',\n  'number': 40304,\n  'title': '[ArrayManager] Add Series._as_manager (consolidate with DataFrame)',\n  'user': {'login': 'jorisvandenbossche',\n   'id': 1020496,\n   'node_id': 'MDQ6VXNlcjEwMjA0OTY=',\n   'avatar_url': 'https://avatars.githubusercontent.com/u/1020496?v=4',\n   'gravatar_id': '',\n   'url': 'https://api.github.com/users/jorisvandenbossche',\n   'html_url': 'https://github.com/jorisvandenbossche',\n   'followers_url': 'https://api.github.com/users/jorisvandenbossche/followers',\n   'following_url': 'https://api.github.com/users/jorisvandenbossche/following{/other_user}',\n   'gists_url': 'https://api.github.com/users/jorisvandenbossche/gists{/gist_id}',\n   'starred_url': 'https://api.github.com/users/jorisvandenbossche/starred{/owner}{/repo}',\n   'subscriptions_url': 'https://api.github.com/users/jorisvandenbossche/subscriptions',\n   'organizations_url': 'https://api.github.com/users/jorisvandenbossche/orgs',\n   'repos_url': 'https://api.github.com/users/jorisvandenbossche/repos',\n   'events_url': 'https://api.github.com/users/jorisvandenbossche/events{/privacy}',\n   'received_events_url': 'https://api.github.com/users/jorisvandenbossche/received_events',\n   'type': 'User',\n   'site_admin': False},\n  'labels': [{'id': 49094459,\n    'node_id': 'MDU6TGFiZWw0OTA5NDQ1OQ==',\n    'url': 'https://api.github.com/repos/pandas-dev/pandas/labels/Internals',\n    'name': 'Internals',\n    'color': 'fbca04',\n    'default': False,\n    'description': 'Related to non-user accessible pandas implementation'}],\n  'state': 'open',\n  'locked': False,\n  'assignee': None,\n  'assignees': [],\n  'milestone': None,\n  'comments': 0,\n  'created_at': '2021-03-08T12:33:42Z',\n  'updated_at': '2021-03-09T01:28:37Z',\n  'closed_at': None,\n  'author_association': 'MEMBER',\n  'active_lock_reason': None,\n  'pull_request': {'url': 'https://api.github.com/repos/pandas-dev/pandas/pulls/40304',\n   'html_url': 'https://github.com/pandas-dev/pandas/pull/40304',\n   'diff_url': 'https://github.com/pandas-dev/pandas/pull/40304.diff',\n   'patch_url': 'https://github.com/pandas-dev/pandas/pull/40304.patch'},\n  'body': 'Move the `_as_manager` helper to `generic.py`, and ensure it works for Series as well',\n  'performed_via_github_app': None},\n {'url': 'https://api.github.com/repos/pandas-dev/pandas/issues/40303',\n  'repository_url': 'https://api.github.com/repos/pandas-dev/pandas',\n  'labels_url': 'https://api.github.com/repos/pandas-dev/pandas/issues/40303/labels{/name}',\n  'comments_url': 'https://api.github.com/repos/pandas-dev/pandas/issues/40303/comments',\n  'events_url': 'https://api.github.com/repos/pandas-dev/pandas/issues/40303/events',\n  'html_url': 'https://github.com/pandas-dev/pandas/pull/40303',\n  'id': 824496656,\n  'node_id': 'MDExOlB1bGxSZXF1ZXN0NTg2NzIxNzk3',\n  'number': 40303,\n  'title': '[ArrayManager] Enable read_parquet to not create 2D blocks when using ArrayManager',\n  'user': {'login': 'jorisvandenbossche',\n   'id': 1020496,\n   'node_id': 'MDQ6VXNlcjEwMjA0OTY=',\n   'avatar_url': 'https://avatars.githubusercontent.com/u/1020496?v=4',\n   'gravatar_id': '',\n   'url': 'https://api.github.com/users/jorisvandenbossche',\n   'html_url': 'https://github.com/jorisvandenbossche',\n   'followers_url': 'https://api.github.com/users/jorisvandenbossche/followers',\n   'following_url': 'https://api.github.com/users/jorisvandenbossche/following{/other_user}',\n   'gists_url': 'https://api.github.com/users/jorisvandenbossche/gists{/gist_id}',\n   'starred_url': 'https://api.github.com/users/jorisvandenbossche/starred{/owner}{/repo}',\n   'subscriptions_url': 'https://api.github.com/users/jorisvandenbossche/subscriptions',\n   'organizations_url': 'https://api.github.com/users/jorisvandenbossche/orgs',\n   'repos_url': 'https://api.github.com/users/jorisvandenbossche/repos',\n   'events_url': 'https://api.github.com/users/jorisvandenbossche/events{/privacy}',\n   'received_events_url': 'https://api.github.com/users/jorisvandenbossche/received_events',\n   'type': 'User',\n   'site_admin': False},\n  'labels': [{'id': 685114413,\n    'node_id': 'MDU6TGFiZWw2ODUxMTQ0MTM=',\n    'url': 'https://api.github.com/repos/pandas-dev/pandas/labels/IO%20Parquet',\n    'name': 'IO Parquet',\n    'color': '5319e7',\n    'default': False,\n    'description': 'parquet, feather, pyarrow'},\n   {'id': 49094459,\n    'node_id': 'MDU6TGFiZWw0OTA5NDQ1OQ==',\n    'url': 'https://api.github.com/repos/pandas-dev/pandas/labels/Internals',\n    'name': 'Internals',\n    'color': 'fbca04',\n    'default': False,\n    'description': 'Related to non-user accessible pandas implementation'}],\n  'state': 'open',\n  'locked': False,\n  'assignee': None,\n  'assignees': [],\n  'milestone': None,\n  'comments': 0,\n  'created_at': '2021-03-08T12:05:55Z',\n  'updated_at': '2021-03-08T12:05:55Z',\n  'closed_at': None,\n  'author_association': 'MEMBER',\n  'active_lock_reason': None,\n  'pull_request': {'url': 'https://api.github.com/repos/pandas-dev/pandas/pulls/40303',\n   'html_url': 'https://github.com/pandas-dev/pandas/pull/40303',\n   'diff_url': 'https://github.com/pandas-dev/pandas/pull/40303.diff',\n   'patch_url': 'https://github.com/pandas-dev/pandas/pull/40303.patch'},\n  'body': \"xref https://github.com/pandas-dev/pandas/issues/39146\\r\\n\\r\\nI was exploring the Parquet IO, and pyarrow has an option to not created consolidated blocks. If we do this when wanting to create an ArrayManager, we can reduce the memory usage. It's a bit slower, though, because there is still the overhead of creating more blocks (that's something that would need to be changed in pyarrow).\\r\\n\\r\\nWould still need to add a test that checks the option is honored.\\r\\n\",\n  'performed_via_github_app': None},\n {'url': 'https://api.github.com/repos/pandas-dev/pandas/issues/40300',\n  'repository_url': 'https://api.github.com/repos/pandas-dev/pandas',\n  'labels_url': 'https://api.github.com/repos/pandas-dev/pandas/issues/40300/labels{/name}',\n  'comments_url': 'https://api.github.com/repos/pandas-dev/pandas/issues/40300/comments',\n  'events_url': 'https://api.github.com/repos/pandas-dev/pandas/issues/40300/events',\n  'html_url': 'https://github.com/pandas-dev/pandas/pull/40300',\n  'id': 824358222,\n  'node_id': 'MDExOlB1bGxSZXF1ZXN0NTg2NjA2NzUx',\n  'number': 40300,\n  'title': 'PERF: further improve take (reindex/unstack) for ArrayManager',\n  'user': {'login': 'jorisvandenbossche',\n   'id': 1020496,\n   'node_id': 'MDQ6VXNlcjEwMjA0OTY=',\n   'avatar_url': 'https://avatars.githubusercontent.com/u/1020496?v=4',\n   'gravatar_id': '',\n   'url': 'https://api.github.com/users/jorisvandenbossche',\n   'html_url': 'https://github.com/jorisvandenbossche',\n   'followers_url': 'https://api.github.com/users/jorisvandenbossche/followers',\n   'following_url': 'https://api.github.com/users/jorisvandenbossche/following{/other_user}',\n   'gists_url': 'https://api.github.com/users/jorisvandenbossche/gists{/gist_id}',\n   'starred_url': 'https://api.github.com/users/jorisvandenbossche/starred{/owner}{/repo}',\n   'subscriptions_url': 'https://api.github.com/users/jorisvandenbossche/subscriptions',\n   'organizations_url': 'https://api.github.com/users/jorisvandenbossche/orgs',\n   'repos_url': 'https://api.github.com/users/jorisvandenbossche/repos',\n   'events_url': 'https://api.github.com/users/jorisvandenbossche/events{/privacy}',\n   'received_events_url': 'https://api.github.com/users/jorisvandenbossche/received_events',\n   'type': 'User',\n   'site_admin': False},\n  'labels': [{'id': 57296398,\n    'node_id': 'MDU6TGFiZWw1NzI5NjM5OA==',\n    'url': 'https://api.github.com/repos/pandas-dev/pandas/labels/Algos',\n    'name': 'Algos',\n    'color': 'eb6420',\n    'default': False,\n    'description': 'Non-arithmetic algos: value_counts, factorize, sorting, isin, clip, shift, diff'},\n   {'id': 8935311,\n    'node_id': 'MDU6TGFiZWw4OTM1MzEx',\n    'url': 'https://api.github.com/repos/pandas-dev/pandas/labels/Performance',\n    'name': 'Performance',\n    'color': 'a10c02',\n    'default': False,\n    'description': 'Memory or execution speed performance'},\n   {'id': 13098779,\n    'node_id': 'MDU6TGFiZWwxMzA5ODc3OQ==',\n    'url': 'https://api.github.com/repos/pandas-dev/pandas/labels/Reshaping',\n    'name': 'Reshaping',\n    'color': '02d7e1',\n    'default': False,\n    'description': 'Concat, Merge/Join, Stack/Unstack'}],\n  'state': 'open',\n  'locked': False,\n  'assignee': None,\n  'assignees': [],\n  'milestone': None,\n  'comments': 0,\n  'created_at': '2021-03-08T09:16:06Z',\n  'updated_at': '2021-03-08T19:18:01Z',\n  'closed_at': None,\n  'author_association': 'MEMBER',\n  'active_lock_reason': None,\n  'pull_request': {'url': 'https://api.github.com/repos/pandas-dev/pandas/pulls/40300',\n   'html_url': 'https://github.com/pandas-dev/pandas/pull/40300',\n   'diff_url': 'https://github.com/pandas-dev/pandas/pull/40300.diff',\n   'patch_url': 'https://github.com/pandas-dev/pandas/pull/40300.patch'},\n  'body': 'A few related changes to `take_1d` / `ArrayManager.unstack`:\\r\\n\\r\\n- Check in `ArrayManager.unstack` whether there will be missing values introduced or not, and if not, pass `allow_fill=False` to the `take` function, so this can take a more performant path (and doesn\\'t need to check repeatedly for `indexer == -1`). And the same for `ArrayManager.reindex_indexer`.\\r\\n- In the `take_1d`, if `allow_fill=False`, use the numpy `take` instead of our own cython implementation (numpy is a bit faster).\\r\\n-  Move the `ensure_int64` check for the indexer out of the shared `_take_preprocess_indexer_and_fill_value`. This way, we can do this once in ArrayManager.unstack and avoid doing it repeatedly for the same indexer inside `take_1d`.\\r\\n\\r\\nCase from the `frame_methods.py::Unstack.time_full_product` ASV benchmark:\\r\\n\\r\\n```python\\r\\ndtype = \\'int\\'\\r\\nm = 100\\r\\nn = 1000\\r\\n\\r\\nlevels = np.arange(m)\\r\\nindex = pd.MultiIndex.from_product([levels] * 2)\\r\\ncolumns = np.arange(n)\\r\\nvalues = np.arange(m * m * n).reshape(m * m, n)\\r\\n\\r\\ndf = pd.DataFrame(values, index, columns)\\r\\ndf_am = df._as_manager(\"array\")\\r\\n```\\r\\n\\r\\nwith the combined changes, this gives:\\r\\n\\r\\n```\\r\\nIn [2]: %timeit df_am.unstack()\\r\\n1.09 s ± 68.5 ms per loop (mean ± std. dev. of 7 runs, 1 loop each)  <-- master\\r\\n276 ms ± 19.9 ms per loop (mean ± std. dev. of 7 runs, 1 loop each)  <-- PR\\r\\n```',\n  'performed_via_github_app': None},\n {'url': 'https://api.github.com/repos/pandas-dev/pandas/issues/40299',\n  'repository_url': 'https://api.github.com/repos/pandas-dev/pandas',\n  'labels_url': 'https://api.github.com/repos/pandas-dev/pandas/issues/40299/labels{/name}',\n  'comments_url': 'https://api.github.com/repos/pandas-dev/pandas/issues/40299/comments',\n  'events_url': 'https://api.github.com/repos/pandas-dev/pandas/issues/40299/events',\n  'html_url': 'https://github.com/pandas-dev/pandas/pull/40299',\n  'id': 824338518,\n  'node_id': 'MDExOlB1bGxSZXF1ZXN0NTg2NTg5ODU5',\n  'number': 40299,\n  'title': 'PERF: get_dummies create array of 0/1s with appropriate layout for internals',\n  'user': {'login': 'jorisvandenbossche',\n   'id': 1020496,\n   'node_id': 'MDQ6VXNlcjEwMjA0OTY=',\n   'avatar_url': 'https://avatars.githubusercontent.com/u/1020496?v=4',\n   'gravatar_id': '',\n   'url': 'https://api.github.com/users/jorisvandenbossche',\n   'html_url': 'https://github.com/jorisvandenbossche',\n   'followers_url': 'https://api.github.com/users/jorisvandenbossche/followers',\n   'following_url': 'https://api.github.com/users/jorisvandenbossche/following{/other_user}',\n   'gists_url': 'https://api.github.com/users/jorisvandenbossche/gists{/gist_id}',\n   'starred_url': 'https://api.github.com/users/jorisvandenbossche/starred{/owner}{/repo}',\n   'subscriptions_url': 'https://api.github.com/users/jorisvandenbossche/subscriptions',\n   'organizations_url': 'https://api.github.com/users/jorisvandenbossche/orgs',\n   'repos_url': 'https://api.github.com/users/jorisvandenbossche/repos',\n   'events_url': 'https://api.github.com/users/jorisvandenbossche/events{/privacy}',\n   'received_events_url': 'https://api.github.com/users/jorisvandenbossche/received_events',\n   'type': 'User',\n   'site_admin': False},\n  'labels': [{'id': 49094459,\n    'node_id': 'MDU6TGFiZWw0OTA5NDQ1OQ==',\n    'url': 'https://api.github.com/repos/pandas-dev/pandas/labels/Internals',\n    'name': 'Internals',\n    'color': 'fbca04',\n    'default': False,\n    'description': 'Related to non-user accessible pandas implementation'},\n   {'id': 8935311,\n    'node_id': 'MDU6TGFiZWw4OTM1MzEx',\n    'url': 'https://api.github.com/repos/pandas-dev/pandas/labels/Performance',\n    'name': 'Performance',\n    'color': 'a10c02',\n    'default': False,\n    'description': 'Memory or execution speed performance'},\n   {'id': 13098779,\n    'node_id': 'MDU6TGFiZWwxMzA5ODc3OQ==',\n    'url': 'https://api.github.com/repos/pandas-dev/pandas/labels/Reshaping',\n    'name': 'Reshaping',\n    'color': '02d7e1',\n    'default': False,\n    'description': 'Concat, Merge/Join, Stack/Unstack'}],\n  'state': 'open',\n  'locked': False,\n  'assignee': None,\n  'assignees': [],\n  'milestone': {'url': 'https://api.github.com/repos/pandas-dev/pandas/milestones/80',\n   'html_url': 'https://github.com/pandas-dev/pandas/milestone/80',\n   'labels_url': 'https://api.github.com/repos/pandas-dev/pandas/milestones/80/labels',\n   'id': 6095818,\n   'node_id': 'MDk6TWlsZXN0b25lNjA5NTgxOA==',\n   'number': 80,\n   'title': '1.3',\n   'description': '',\n   'creator': {'login': 'jreback',\n    'id': 953992,\n    'node_id': 'MDQ6VXNlcjk1Mzk5Mg==',\n    'avatar_url': 'https://avatars.githubusercontent.com/u/953992?v=4',\n    'gravatar_id': '',\n    'url': 'https://api.github.com/users/jreback',\n    'html_url': 'https://github.com/jreback',\n    'followers_url': 'https://api.github.com/users/jreback/followers',\n    'following_url': 'https://api.github.com/users/jreback/following{/other_user}',\n    'gists_url': 'https://api.github.com/users/jreback/gists{/gist_id}',\n    'starred_url': 'https://api.github.com/users/jreback/starred{/owner}{/repo}',\n    'subscriptions_url': 'https://api.github.com/users/jreback/subscriptions',\n    'organizations_url': 'https://api.github.com/users/jreback/orgs',\n    'repos_url': 'https://api.github.com/users/jreback/repos',\n    'events_url': 'https://api.github.com/users/jreback/events{/privacy}',\n    'received_events_url': 'https://api.github.com/users/jreback/received_events',\n    'type': 'User',\n    'site_admin': False},\n   'open_issues': 110,\n   'closed_issues': 1068,\n   'state': 'open',\n   'created_at': '2020-11-11T19:05:43Z',\n   'updated_at': '2021-03-09T05:10:54Z',\n   'due_on': '2021-05-31T07:00:00Z',\n   'closed_at': None},\n  'comments': 0,\n  'created_at': '2021-03-08T08:55:13Z',\n  'updated_at': '2021-03-08T13:21:53Z',\n  'closed_at': None,\n  'author_association': 'MEMBER',\n  'active_lock_reason': None,\n  'pull_request': {'url': 'https://api.github.com/repos/pandas-dev/pandas/pulls/40299',\n   'html_url': 'https://github.com/pandas-dev/pandas/pull/40299',\n   'diff_url': 'https://github.com/pandas-dev/pandas/pull/40299.diff',\n   'patch_url': 'https://github.com/pandas-dev/pandas/pull/40299.patch'},\n  'body': 'This ensures that the 2D ndarray that is created in `get_dummies` for a single column is directly in the \"right\" layout as the internals prefer it (column-major, so it\\'s row-major in the transposed Block.values).\\r\\n\\r\\nFor ArrayManager, this gives a speed-up for `get_dummies` itself (because we still copy the arrays to ensure proper contiguous memory layout for each column, currently):\\r\\n\\r\\n```\\r\\nIn [7]: %timeit pd.get_dummies(s, sparse=False)\\r\\n23.2 ms ± 1.16 ms per loop (mean ± std. dev. of 7 runs, 10 loops each)  <-- master\\r\\n16.6 ms ± 689 µs per loop (mean ± std. dev. of 7 runs, 100 loops each)  <-- PR\\r\\n```\\r\\n\\r\\nFor the current BlockManager, it makes the actual get_dummies a bit slower, but can make a follow-up operation actually faster (where a copy, or consolidation, or a reduction, or .. would happen):\\r\\n\\r\\n```\\r\\nIn [4]: %timeit pd.get_dummies(s, sparse=False)\\r\\n10.7 ms ± 397 µs per loop (mean ± std. dev. of 7 runs, 100 loops each)  <-- master\\r\\n14.2 ms ± 713 µs per loop (mean ± std. dev. of 7 runs, 100 loops each)  <-- PR\\r\\n\\r\\nIn [5]: %timeit pd.get_dummies(s, sparse=False).copy()\\r\\n22.3 ms ± 260 µs per loop (mean ± std. dev. of 7 runs, 10 loops each)  <-- master\\r\\n17.8 ms ± 1.92 ms per loop (mean ± std. dev. of 7 runs, 100 loops each)  <-- PR\\r\\n```\\r\\n\\r\\nThe timing is from the following example taken from the `frame_methods.py::GetDummies` ASV case:\\r\\n\\r\\n```\\r\\nimport string\\r\\n\\r\\ncategories = list(string.ascii_letters[:12])\\r\\ns = pd.Series(\\r\\n    np.random.choice(categories, size=1000000),\\r\\n    dtype=pd.CategoricalDtype(categories),\\r\\n)\\r\\n```\\r\\n\\r\\nSo it makes the actual `get_dummies` a bit slower for the BlockManager, and thus I could also explicitly only do this for the ArrayManager. But since it improves follow-up operations, I think it can actually be beneficial overall for BlockManager as well. But either is fine for me.',\n  'performed_via_github_app': None},\n {'url': 'https://api.github.com/repos/pandas-dev/pandas/issues/40298',\n  'repository_url': 'https://api.github.com/repos/pandas-dev/pandas',\n  'labels_url': 'https://api.github.com/repos/pandas-dev/pandas/issues/40298/labels{/name}',\n  'comments_url': 'https://api.github.com/repos/pandas-dev/pandas/issues/40298/comments',\n  'events_url': 'https://api.github.com/repos/pandas-dev/pandas/issues/40298/events',\n  'html_url': 'https://github.com/pandas-dev/pandas/pull/40298',\n  'id': 824322671,\n  'node_id': 'MDExOlB1bGxSZXF1ZXN0NTg2NTc2NDE0',\n  'number': 40298,\n  'title': '[ArrayManager] TST: enable IO tests',\n  'user': {'login': 'jorisvandenbossche',\n   'id': 1020496,\n   'node_id': 'MDQ6VXNlcjEwMjA0OTY=',\n   'avatar_url': 'https://avatars.githubusercontent.com/u/1020496?v=4',\n   'gravatar_id': '',\n   'url': 'https://api.github.com/users/jorisvandenbossche',\n   'html_url': 'https://github.com/jorisvandenbossche',\n   'followers_url': 'https://api.github.com/users/jorisvandenbossche/followers',\n   'following_url': 'https://api.github.com/users/jorisvandenbossche/following{/other_user}',\n   'gists_url': 'https://api.github.com/users/jorisvandenbossche/gists{/gist_id}',\n   'starred_url': 'https://api.github.com/users/jorisvandenbossche/starred{/owner}{/repo}',\n   'subscriptions_url': 'https://api.github.com/users/jorisvandenbossche/subscriptions',\n   'organizations_url': 'https://api.github.com/users/jorisvandenbossche/orgs',\n   'repos_url': 'https://api.github.com/users/jorisvandenbossche/repos',\n   'events_url': 'https://api.github.com/users/jorisvandenbossche/events{/privacy}',\n   'received_events_url': 'https://api.github.com/users/jorisvandenbossche/received_events',\n   'type': 'User',\n   'site_admin': False},\n  'labels': [{'id': 49094459,\n    'node_id': 'MDU6TGFiZWw0OTA5NDQ1OQ==',\n    'url': 'https://api.github.com/repos/pandas-dev/pandas/labels/Internals',\n    'name': 'Internals',\n    'color': 'fbca04',\n    'default': False,\n    'description': 'Related to non-user accessible pandas implementation'},\n   {'id': 127685,\n    'node_id': 'MDU6TGFiZWwxMjc2ODU=',\n    'url': 'https://api.github.com/repos/pandas-dev/pandas/labels/Testing',\n    'name': 'Testing',\n    'color': 'C4A000',\n    'default': False,\n    'description': 'Custom testing functions or related to the test suite'}],\n  'state': 'open',\n  'locked': False,\n  'assignee': None,\n  'assignees': [],\n  'milestone': None,\n  'comments': 1,\n  'created_at': '2021-03-08T08:36:53Z',\n  'updated_at': '2021-03-08T11:54:57Z',\n  'closed_at': None,\n  'author_association': 'MEMBER',\n  'active_lock_reason': None,\n  'pull_request': {'url': 'https://api.github.com/repos/pandas-dev/pandas/pulls/40298',\n   'html_url': 'https://github.com/pandas-dev/pandas/pull/40298',\n   'diff_url': 'https://github.com/pandas-dev/pandas/pull/40298.diff',\n   'patch_url': 'https://github.com/pandas-dev/pandas/pull/40298.patch'},\n  'body': 'xref https://github.com/pandas-dev/pandas/issues/39146\\r\\n\\r\\nThis basically just adds IO testing to the set of tests we run for ArrayManager. I already added skips for JSON in the past (and now also for PyTables IO and pickle), so those are still skipped now as well.',\n  'performed_via_github_app': None},\n {'url': 'https://api.github.com/repos/pandas-dev/pandas/issues/40296',\n  'repository_url': 'https://api.github.com/repos/pandas-dev/pandas',\n  'labels_url': 'https://api.github.com/repos/pandas-dev/pandas/issues/40296/labels{/name}',\n  'comments_url': 'https://api.github.com/repos/pandas-dev/pandas/issues/40296/comments',\n  'events_url': 'https://api.github.com/repos/pandas-dev/pandas/issues/40296/events',\n  'html_url': 'https://github.com/pandas-dev/pandas/issues/40296',\n  'id': 824197556,\n  'node_id': 'MDU6SXNzdWU4MjQxOTc1NTY=',\n  'number': 40296,\n  'title': \"ENH: add fast DataFrame iterator that doesn't rename columns\",\n  'user': {'login': 'AlexKirko',\n   'id': 23253999,\n   'node_id': 'MDQ6VXNlcjIzMjUzOTk5',\n   'avatar_url': 'https://avatars.githubusercontent.com/u/23253999?v=4',\n   'gravatar_id': '',\n   'url': 'https://api.github.com/users/AlexKirko',\n   'html_url': 'https://github.com/AlexKirko',\n   'followers_url': 'https://api.github.com/users/AlexKirko/followers',\n   'following_url': 'https://api.github.com/users/AlexKirko/following{/other_user}',\n   'gists_url': 'https://api.github.com/users/AlexKirko/gists{/gist_id}',\n   'starred_url': 'https://api.github.com/users/AlexKirko/starred{/owner}{/repo}',\n   'subscriptions_url': 'https://api.github.com/users/AlexKirko/subscriptions',\n   'organizations_url': 'https://api.github.com/users/AlexKirko/orgs',\n   'repos_url': 'https://api.github.com/users/AlexKirko/repos',\n   'events_url': 'https://api.github.com/users/AlexKirko/events{/privacy}',\n   'received_events_url': 'https://api.github.com/users/AlexKirko/received_events',\n   'type': 'User',\n   'site_admin': False},\n  'labels': [{'id': 1049312478,\n    'node_id': 'MDU6TGFiZWwxMDQ5MzEyNDc4',\n    'url': 'https://api.github.com/repos/pandas-dev/pandas/labels/DataFrame',\n    'name': 'DataFrame',\n    'color': '370f77',\n    'default': False,\n    'description': 'DataFrame data structure'},\n   {'id': 76812,\n    'node_id': 'MDU6TGFiZWw3NjgxMg==',\n    'url': 'https://api.github.com/repos/pandas-dev/pandas/labels/Enhancement',\n    'name': 'Enhancement',\n    'color': '4E9A06',\n    'default': False,\n    'description': None},\n   {'id': 219960758,\n    'node_id': 'MDU6TGFiZWwyMTk5NjA3NTg=',\n    'url': 'https://api.github.com/repos/pandas-dev/pandas/labels/Needs%20Discussion',\n    'name': 'Needs Discussion',\n    'color': '207de5',\n    'default': False,\n    'description': None}],\n  'state': 'open',\n  'locked': False,\n  'assignee': None,\n  'assignees': [],\n  'milestone': None,\n  'comments': 1,\n  'created_at': '2021-03-08T05:52:03Z',\n  'updated_at': '2021-03-08T17:38:40Z',\n  'closed_at': None,\n  'author_association': 'MEMBER',\n  'active_lock_reason': None,\n  'body': 'Hello, everyone.\\r\\n\\r\\n#### Is your feature request related to a problem?\\r\\n\\r\\nSo we have come across a problem at work. We often pre-process data by feeding generators into each other. In order to be able to work with rows independently and not store meta information somewhere, these rows are fed through as dicts where the keys are column names. The datasets can be a dozen gigabytes in size.\\r\\n\\r\\nDataFrame objects are convenient for a lot of purposes, including the ease of vectorized operations, but to use them, we need to be able to feed the DataFrame row by row into the pipeline. None of the DataFrame iterators we have in pandas get the job done without wrappers or cludges:\\r\\n\\r\\n* `iteritems` iterates over columns, so it\\'s a no-go;\\r\\n* `iterrows` does type conversion, and we need to preserve original types. It\\'s also slow;\\r\\n* `itertuples` returns a `namedtuple`, which can\\'t be relied upon, because it renames columns.\\r\\n\\r\\n#### Describe the solution you\\'d like\\r\\n\\r\\nPassing data through the pipeline as a dict of `column: value` pairs is quite common, I believe. Can we add a `DataFrame.iterdicts` method that would return rows as `OrderedDict` to guarantee column order and preserve their names and types?\\r\\n\\r\\n#### API breaking implications\\r\\n\\r\\nNone. Adding a new method to the `DataFrame` API.\\r\\n\\r\\n#### Describe alternatives you\\'ve considered\\r\\n\\r\\nWe had to cludge this by doing something like:\\r\\n\\r\\n```python\\r\\ndef iterdicts(df):\\r\\n    \"\"\"\\r\\n    Yield a dictionary for each row of `df`.\\r\\n    :param df:\\r\\n    :return:\\r\\n    \"\"\"\\r\\n    col = df.columns\\r\\n    for row in df.itertuples(index=False, name=None):\\r\\n        yield dict(zip(col, row))\\r\\n```\\r\\n\\r\\nI think anyone can do this for themselves, but it would be nice to have such a convenience method as part of the native API.\\r\\n\\r\\nAnother alternative is to move the warning about `itertuples` renaming columns to the very top of the doc. This, at least, will ensure that someone who needs to read a hundred docs a day at work won\\'t miss it, and then end up with a bug that pops up only on some datasets.\\r\\n\\r\\n#### Additional context\\r\\n\\r\\nHeard the same complaint at my previous workplace, but there I could answer with, \\'Have you heard of apply and all the pre-programmed Cython functions in pandas?\\' With most datasets, the preferred approach should be to use vectorized operations, and it makes sense to get pandas iterators convenient and good enough, and then leave them at that.\\r\\n\\r\\nBut when you are pushing around dozens of gigabytes of data in an environment with parallelization, network IO, and a lot of other stuff, it becomes unviable to process the entire dataset in a DataFrame (or an ndarray, for that matter). And other parts of the pipeline take up the majority of its runtime, so processing it row by row is the optimal way to code this, when the preprocessing operations are sufficiently complex and spread out.\\r\\n\\r\\nI believe that the need for this iterator is widespread enough to add it to the pandas API, but I\\'m biased as I didn\\'t read the docs far enough down (as you do, when you are in a hurry), and then spent half a day debugging the solution only to discover that some datasets have columns that are invalid python names and get renamed. This is probably the worst part about `itertuples` being the fastest option recommeded for such a use case right now: you code a pipeline, and then it breaks only on some datasets.',\n  'performed_via_github_app': None},\n {'url': 'https://api.github.com/repos/pandas-dev/pandas/issues/40293',\n  'repository_url': 'https://api.github.com/repos/pandas-dev/pandas',\n  'labels_url': 'https://api.github.com/repos/pandas-dev/pandas/issues/40293/labels{/name}',\n  'comments_url': 'https://api.github.com/repos/pandas-dev/pandas/issues/40293/comments',\n  'events_url': 'https://api.github.com/repos/pandas-dev/pandas/issues/40293/events',\n  'html_url': 'https://github.com/pandas-dev/pandas/pull/40293',\n  'id': 824114214,\n  'node_id': 'MDExOlB1bGxSZXF1ZXN0NTg2Mzk5MDgy',\n  'number': 40293,\n  'title': 'TYP: Window code',\n  'user': {'login': 'mroeschke',\n   'id': 10647082,\n   'node_id': 'MDQ6VXNlcjEwNjQ3MDgy',\n   'avatar_url': 'https://avatars.githubusercontent.com/u/10647082?v=4',\n   'gravatar_id': '',\n   'url': 'https://api.github.com/users/mroeschke',\n   'html_url': 'https://github.com/mroeschke',\n   'followers_url': 'https://api.github.com/users/mroeschke/followers',\n   'following_url': 'https://api.github.com/users/mroeschke/following{/other_user}',\n   'gists_url': 'https://api.github.com/users/mroeschke/gists{/gist_id}',\n   'starred_url': 'https://api.github.com/users/mroeschke/starred{/owner}{/repo}',\n   'subscriptions_url': 'https://api.github.com/users/mroeschke/subscriptions',\n   'organizations_url': 'https://api.github.com/users/mroeschke/orgs',\n   'repos_url': 'https://api.github.com/users/mroeschke/repos',\n   'events_url': 'https://api.github.com/users/mroeschke/events{/privacy}',\n   'received_events_url': 'https://api.github.com/users/mroeschke/received_events',\n   'type': 'User',\n   'site_admin': False},\n  'labels': [{'id': 1280988427,\n    'node_id': 'MDU6TGFiZWwxMjgwOTg4NDI3',\n    'url': 'https://api.github.com/repos/pandas-dev/pandas/labels/Typing',\n    'name': 'Typing',\n    'color': 'ea91a4',\n    'default': False,\n    'description': 'mypy type annotations'},\n   {'id': 1045950827,\n    'node_id': 'MDU6TGFiZWwxMDQ1OTUwODI3',\n    'url': 'https://api.github.com/repos/pandas-dev/pandas/labels/Window',\n    'name': 'Window',\n    'color': 'd4c5f9',\n    'default': False,\n    'description': 'rolling, ewma, expanding'}],\n  'state': 'open',\n  'locked': False,\n  'assignee': None,\n  'assignees': [],\n  'milestone': {'url': 'https://api.github.com/repos/pandas-dev/pandas/milestones/80',\n   'html_url': 'https://github.com/pandas-dev/pandas/milestone/80',\n   'labels_url': 'https://api.github.com/repos/pandas-dev/pandas/milestones/80/labels',\n   'id': 6095818,\n   'node_id': 'MDk6TWlsZXN0b25lNjA5NTgxOA==',\n   'number': 80,\n   'title': '1.3',\n   'description': '',\n   'creator': {'login': 'jreback',\n    'id': 953992,\n    'node_id': 'MDQ6VXNlcjk1Mzk5Mg==',\n    'avatar_url': 'https://avatars.githubusercontent.com/u/953992?v=4',\n    'gravatar_id': '',\n    'url': 'https://api.github.com/users/jreback',\n    'html_url': 'https://github.com/jreback',\n    'followers_url': 'https://api.github.com/users/jreback/followers',\n    'following_url': 'https://api.github.com/users/jreback/following{/other_user}',\n    'gists_url': 'https://api.github.com/users/jreback/gists{/gist_id}',\n    'starred_url': 'https://api.github.com/users/jreback/starred{/owner}{/repo}',\n    'subscriptions_url': 'https://api.github.com/users/jreback/subscriptions',\n    'organizations_url': 'https://api.github.com/users/jreback/orgs',\n    'repos_url': 'https://api.github.com/users/jreback/repos',\n    'events_url': 'https://api.github.com/users/jreback/events{/privacy}',\n    'received_events_url': 'https://api.github.com/users/jreback/received_events',\n    'type': 'User',\n    'site_admin': False},\n   'open_issues': 110,\n   'closed_issues': 1068,\n   'state': 'open',\n   'created_at': '2020-11-11T19:05:43Z',\n   'updated_at': '2021-03-09T05:10:54Z',\n   'due_on': '2021-05-31T07:00:00Z',\n   'closed_at': None},\n  'comments': 0,\n  'created_at': '2021-03-08T02:47:36Z',\n  'updated_at': '2021-03-08T12:59:06Z',\n  'closed_at': None,\n  'author_association': 'MEMBER',\n  'active_lock_reason': None,\n  'pull_request': {'url': 'https://api.github.com/repos/pandas-dev/pandas/pulls/40293',\n   'html_url': 'https://github.com/pandas-dev/pandas/pull/40293',\n   'diff_url': 'https://github.com/pandas-dev/pandas/pull/40293.diff',\n   'patch_url': 'https://github.com/pandas-dev/pandas/pull/40293.patch'},\n  'body': '- [x] tests added / passed\\r\\n- [x] Ensure all linting tests pass, see [here](https://pandas.pydata.org/pandas-docs/dev/development/contributing.html#code-standards) for how to run them\\r\\n\\r\\n',\n  'performed_via_github_app': None},\n {'url': 'https://api.github.com/repos/pandas-dev/pandas/issues/40291',\n  'repository_url': 'https://api.github.com/repos/pandas-dev/pandas',\n  'labels_url': 'https://api.github.com/repos/pandas-dev/pandas/issues/40291/labels{/name}',\n  'comments_url': 'https://api.github.com/repos/pandas-dev/pandas/issues/40291/comments',\n  'events_url': 'https://api.github.com/repos/pandas-dev/pandas/issues/40291/events',\n  'html_url': 'https://github.com/pandas-dev/pandas/issues/40291',\n  'id': 824026456,\n  'node_id': 'MDU6SXNzdWU4MjQwMjY0NTY=',\n  'number': 40291,\n  'title': 'EHN: Refactor pd.read_excel/DataFrame.to_excel like DataFrame.plot',\n  'user': {'login': 'rhshadrach',\n   'id': 45562402,\n   'node_id': 'MDQ6VXNlcjQ1NTYyNDAy',\n   'avatar_url': 'https://avatars.githubusercontent.com/u/45562402?v=4',\n   'gravatar_id': '',\n   'url': 'https://api.github.com/users/rhshadrach',\n   'html_url': 'https://github.com/rhshadrach',\n   'followers_url': 'https://api.github.com/users/rhshadrach/followers',\n   'following_url': 'https://api.github.com/users/rhshadrach/following{/other_user}',\n   'gists_url': 'https://api.github.com/users/rhshadrach/gists{/gist_id}',\n   'starred_url': 'https://api.github.com/users/rhshadrach/starred{/owner}{/repo}',\n   'subscriptions_url': 'https://api.github.com/users/rhshadrach/subscriptions',\n   'organizations_url': 'https://api.github.com/users/rhshadrach/orgs',\n   'repos_url': 'https://api.github.com/users/rhshadrach/repos',\n   'events_url': 'https://api.github.com/users/rhshadrach/events{/privacy}',\n   'received_events_url': 'https://api.github.com/users/rhshadrach/received_events',\n   'type': 'User',\n   'site_admin': False},\n  'labels': [{'id': 35818298,\n    'node_id': 'MDU6TGFiZWwzNTgxODI5OA==',\n    'url': 'https://api.github.com/repos/pandas-dev/pandas/labels/API%20Design',\n    'name': 'API Design',\n    'color': 'AD7FA8',\n    'default': False,\n    'description': None},\n   {'id': 76812,\n    'node_id': 'MDU6TGFiZWw3NjgxMg==',\n    'url': 'https://api.github.com/repos/pandas-dev/pandas/labels/Enhancement',\n    'name': 'Enhancement',\n    'color': '4E9A06',\n    'default': False,\n    'description': None},\n   {'id': 49254273,\n    'node_id': 'MDU6TGFiZWw0OTI1NDI3Mw==',\n    'url': 'https://api.github.com/repos/pandas-dev/pandas/labels/IO%20Excel',\n    'name': 'IO Excel',\n    'color': 'bfe5bf',\n    'default': False,\n    'description': 'read_excel, to_excel'},\n   {'id': 219960758,\n    'node_id': 'MDU6TGFiZWwyMTk5NjA3NTg=',\n    'url': 'https://api.github.com/repos/pandas-dev/pandas/labels/Needs%20Discussion',\n    'name': 'Needs Discussion',\n    'color': '207de5',\n    'default': False,\n    'description': None}],\n  'state': 'open',\n  'locked': False,\n  'assignee': None,\n  'assignees': [],\n  'milestone': None,\n  'comments': 2,\n  'created_at': '2021-03-07T21:33:35Z',\n  'updated_at': '2021-03-07T21:42:29Z',\n  'closed_at': None,\n  'author_association': 'MEMBER',\n  'active_lock_reason': None,\n  'body': \"Two issues have recently come up (#40274 and #40230) looking to add engine-specific arguments to either `pd.read_excel` or `DataFrame.to_excel`. Thus far these are either just to pass through the engine or fix/enhance the current pandas layer, and I'm generally positive on doing so, but I do not like adding engine-specific arguments to these methods.\\r\\n\\r\\nThus I am proposing to refactor `pd.read_excel` and `DataFrame.to_excel` to mirror (at least, from an API perspective) the design of `DataFrame.plot` so that a user could call, e.g.\\r\\n\\r\\n - pd.read_excel\\r\\n - pd.read_excel.openpyxl\\r\\n - pd.read_excel.xlrd\\r\\n - pd.read_excel.ods\\r\\n - etc.\\r\\n\\r\\nThe arguments to `pd.read_excel` would be those that are common to all engines, whereas the arguments to e.g. `pd.read_excel.openpyxl` would be that plus any engine-specific arguments. The new methods would just be interfaces to the backend subclasses that exist today, and only responsible for validating the arguments provided.\\r\\n\\r\\nThe only alternative I see (besides not allowing engine-specific options at all, which is also an option) is to use `**kwargs` instead. This would result in poorer documentation and we would need to react to upstream enhancements in the engine rather than being able opt-in to them.\\r\\n\",\n  'performed_via_github_app': None},\n {'url': 'https://api.github.com/repos/pandas-dev/pandas/issues/40289',\n  'repository_url': 'https://api.github.com/repos/pandas-dev/pandas',\n  'labels_url': 'https://api.github.com/repos/pandas-dev/pandas/issues/40289/labels{/name}',\n  'comments_url': 'https://api.github.com/repos/pandas-dev/pandas/issues/40289/comments',\n  'events_url': 'https://api.github.com/repos/pandas-dev/pandas/issues/40289/events',\n  'html_url': 'https://github.com/pandas-dev/pandas/issues/40289',\n  'id': 824000531,\n  'node_id': 'MDU6SXNzdWU4MjQwMDA1MzE=',\n  'number': 40289,\n  'title': 'BUG: Inconsistent behaviour between excel engines when writing multiple times using the same ExcelWriter',\n  'user': {'login': 'mrob95',\n   'id': 42875462,\n   'node_id': 'MDQ6VXNlcjQyODc1NDYy',\n   'avatar_url': 'https://avatars.githubusercontent.com/u/42875462?v=4',\n   'gravatar_id': '',\n   'url': 'https://api.github.com/users/mrob95',\n   'html_url': 'https://github.com/mrob95',\n   'followers_url': 'https://api.github.com/users/mrob95/followers',\n   'following_url': 'https://api.github.com/users/mrob95/following{/other_user}',\n   'gists_url': 'https://api.github.com/users/mrob95/gists{/gist_id}',\n   'starred_url': 'https://api.github.com/users/mrob95/starred{/owner}{/repo}',\n   'subscriptions_url': 'https://api.github.com/users/mrob95/subscriptions',\n   'organizations_url': 'https://api.github.com/users/mrob95/orgs',\n   'repos_url': 'https://api.github.com/users/mrob95/repos',\n   'events_url': 'https://api.github.com/users/mrob95/events{/privacy}',\n   'received_events_url': 'https://api.github.com/users/mrob95/received_events',\n   'type': 'User',\n   'site_admin': False},\n  'labels': [{'id': 76811,\n    'node_id': 'MDU6TGFiZWw3NjgxMQ==',\n    'url': 'https://api.github.com/repos/pandas-dev/pandas/labels/Bug',\n    'name': 'Bug',\n    'color': 'e10c02',\n    'default': False,\n    'description': None},\n   {'id': 1954720290,\n    'node_id': 'MDU6TGFiZWwxOTU0NzIwMjkw',\n    'url': 'https://api.github.com/repos/pandas-dev/pandas/labels/Needs%20Triage',\n    'name': 'Needs Triage',\n    'color': '0052cc',\n    'default': False,\n    'description': 'Issue that has not been reviewed by a pandas team member'}],\n  'state': 'open',\n  'locked': False,\n  'assignee': None,\n  'assignees': [],\n  'milestone': None,\n  'comments': 0,\n  'created_at': '2021-03-07T19:41:57Z',\n  'updated_at': '2021-03-07T20:01:30Z',\n  'closed_at': None,\n  'author_association': 'NONE',\n  'active_lock_reason': None,\n  'body': '- [x] I have checked that this issue has not already been reported.\\r\\n\\r\\n- [x] I have confirmed this bug exists on the latest version of pandas.\\r\\n\\r\\n- [x] (optional) I have confirmed this bug exists on the master branch of pandas.\\r\\n\\r\\n---\\r\\n\\r\\n#### Code Sample, a copy-pastable example\\r\\n\\r\\n```python\\r\\nimport pandas as pd\\r\\nimport io\\r\\n\\r\\ndf = pd.DataFrame({\"A\": [0, 1], \"B\": [10, 11]})\\r\\n\\r\\nfor engine in [\"openpyxl\", \"xlsxwriter\", \"odf\"]:\\r\\n    excel = io.BytesIO()\\r\\n    with pd.ExcelWriter(excel, engine=engine) as writer:\\r\\n        df.to_excel(writer, sheet_name=\"foo\", columns=[\"A\"], index=False)\\r\\n        df.to_excel(writer, sheet_name=\"foo\", columns=[\"B\"], startcol=1, index=False)\\r\\n\\r\\n    result = pd.read_excel(excel, \"foo\")\\r\\n    print(engine)\\r\\n    print(result)\\r\\n    print()\\r\\n```\\r\\n\\r\\nProduces:\\r\\n```\\r\\nopenpyxl\\r\\n   A   B\\r\\n0  0  10\\r\\n1  1  11\\r\\n\\r\\nxlsxwriter\\r\\n   A   B\\r\\n0  0  10\\r\\n1  1  11\\r\\n\\r\\nodf\\r\\n     A Unnamed: 1\\r\\n0  0.0        NaN\\r\\n1  1.0        NaN\\r\\n2  NaN          B\\r\\n3  NaN         10\\r\\n4  NaN         11\\r\\n```\\r\\n\\r\\nAdding this test to `test_writers.py` (line 1327) will also catch the issue:\\r\\n```python\\r\\n\\r\\n    def test_excel_multiple_writes_one_writer(self, path):\\r\\n        df = DataFrame({\"A\": [0, 1], \"B\": [10, 11]})\\r\\n\\r\\n        with ExcelWriter(path) as writer:\\r\\n            df.to_excel(writer, columns=[\"A\"], index=False)\\r\\n            df.to_excel(writer, columns=[\"B\"], startcol=1, index=False)\\r\\n\\r\\n        result = pd.read_excel(path)\\r\\n        tm.assert_frame_equal(result, df)\\r\\n```\\r\\n\\r\\n#### Problem description\\r\\nThis came up when implementing #40231, the behaviour between the engines here seems to be inconsistent.\\r\\n\\r\\n#### Output of ``pd.show_versions()``\\r\\n\\r\\n<details>\\r\\n\\r\\nINSTALLED VERSIONS\\r\\n------------------\\r\\ncommit           : 6baec67643923ae93b685bdec01105b51f1c0a94\\r\\npython           : 3.7.3.final.0\\r\\npython-bits      : 64\\r\\nOS               : Windows\\r\\nOS-release       : 10\\r\\nVersion          : 10.0.19041\\r\\nmachine          : AMD64\\r\\nprocessor        : Intel64 Family 6 Model 60 Stepping 3, GenuineIntel\\r\\nbyteorder        : little\\r\\nLC_ALL           : None\\r\\nLANG             : en_US.UTF-8\\r\\nLOCALE           : None.None\\r\\n\\r\\npandas           : 1.3.0.dev0+979.g6baec67643.dirty\\r\\nnumpy            : 1.20.0\\r\\npytz             : 2019.1\\r\\ndateutil         : 2.8.1\\r\\npip              : 20.3.3\\r\\nsetuptools       : 41.4.0\\r\\nCython           : 0.29.21\\r\\npytest           : 6.2.2\\r\\nhypothesis       : 6.1.1\\r\\nsphinx           : 2.4.0\\r\\nblosc            : None\\r\\nfeather          : 0.4.0\\r\\nxlsxwriter       : 1.3.7\\r\\nlxml.etree       : 4.4.1\\r\\nhtml5lib         : None\\r\\npymysql          : None\\r\\npsycopg2         : None\\r\\njinja2           : 2.10.1\\r\\nIPython          : 7.5.0\\r\\npandas_datareader: None\\r\\nbs4              : 4.8.0\\r\\nbottleneck       : None\\r\\nfsspec           : None\\r\\nfastparquet      : None\\r\\ngcsfs            : None\\r\\nmatplotlib       : 3.1.0\\r\\nnumexpr          : 2.7.1\\r\\nodfpy            : None\\r\\nopenpyxl         : 3.0.6\\r\\npandas_gbq       : None\\r\\npyarrow          : 0.13.0\\r\\npyxlsb           : None\\r\\ns3fs             : None\\r\\nscipy            : 1.3.0\\r\\nsqlalchemy       : 1.3.13\\r\\ntables           : 3.6.1\\r\\ntabulate         : None\\r\\nxarray           : None\\r\\nxlrd             : 2.0.1\\r\\nxlwt             : 1.3.0\\r\\nnumba            : None\\r\\n\\r\\n</details>\\r\\n',\n  'performed_via_github_app': None},\n {'url': 'https://api.github.com/repos/pandas-dev/pandas/issues/40288',\n  'repository_url': 'https://api.github.com/repos/pandas-dev/pandas',\n  'labels_url': 'https://api.github.com/repos/pandas-dev/pandas/issues/40288/labels{/name}',\n  'comments_url': 'https://api.github.com/repos/pandas-dev/pandas/issues/40288/comments',\n  'events_url': 'https://api.github.com/repos/pandas-dev/pandas/issues/40288/events',\n  'html_url': 'https://github.com/pandas-dev/pandas/pull/40288',\n  'id': 823963964,\n  'node_id': 'MDExOlB1bGxSZXF1ZXN0NTg2Mjg2ODY2',\n  'number': 40288,\n  'title': 'DEPR: Series/DataFrame.transform partial failure except TypeError',\n  'user': {'login': 'rhshadrach',\n   'id': 45562402,\n   'node_id': 'MDQ6VXNlcjQ1NTYyNDAy',\n   'avatar_url': 'https://avatars.githubusercontent.com/u/45562402?v=4',\n   'gravatar_id': '',\n   'url': 'https://api.github.com/users/rhshadrach',\n   'html_url': 'https://github.com/rhshadrach',\n   'followers_url': 'https://api.github.com/users/rhshadrach/followers',\n   'following_url': 'https://api.github.com/users/rhshadrach/following{/other_user}',\n   'gists_url': 'https://api.github.com/users/rhshadrach/gists{/gist_id}',\n   'starred_url': 'https://api.github.com/users/rhshadrach/starred{/owner}{/repo}',\n   'subscriptions_url': 'https://api.github.com/users/rhshadrach/subscriptions',\n   'organizations_url': 'https://api.github.com/users/rhshadrach/orgs',\n   'repos_url': 'https://api.github.com/users/rhshadrach/repos',\n   'events_url': 'https://api.github.com/users/rhshadrach/events{/privacy}',\n   'received_events_url': 'https://api.github.com/users/rhshadrach/received_events',\n   'type': 'User',\n   'site_admin': False},\n  'labels': [{'id': 697792067,\n    'node_id': 'MDU6TGFiZWw2OTc3OTIwNjc=',\n    'url': 'https://api.github.com/repos/pandas-dev/pandas/labels/Apply',\n    'name': 'Apply',\n    'color': 'fbca04',\n    'default': False,\n    'description': 'Apply, Aggregate, Transform'},\n   {'id': 87485152,\n    'node_id': 'MDU6TGFiZWw4NzQ4NTE1Mg==',\n    'url': 'https://api.github.com/repos/pandas-dev/pandas/labels/Deprecate',\n    'name': 'Deprecate',\n    'color': '5319e7',\n    'default': False,\n    'description': 'Functionality to remove in pandas'}],\n  'state': 'open',\n  'locked': False,\n  'assignee': None,\n  'assignees': [],\n  'milestone': None,\n  'comments': 0,\n  'created_at': '2021-03-07T17:00:51Z',\n  'updated_at': '2021-03-07T17:00:51Z',\n  'closed_at': None,\n  'author_association': 'MEMBER',\n  'active_lock_reason': None,\n  'pull_request': {'url': 'https://api.github.com/repos/pandas-dev/pandas/pulls/40288',\n   'html_url': 'https://github.com/pandas-dev/pandas/pull/40288',\n   'diff_url': 'https://github.com/pandas-dev/pandas/pull/40288.diff',\n   'patch_url': 'https://github.com/pandas-dev/pandas/pull/40288.patch'},\n  'body': '- [x] closes #40211\\r\\n- [x] tests added / passed\\r\\n- [x] Ensure all linting tests pass, see [here](https://pandas.pydata.org/pandas-docs/dev/development/contributing.html#code-standards) for how to run them\\r\\n- [x] whatsnew entry\\r\\n\\r\\nPartial revert of #40238. I did not realize how `TypeError` was handled differently than other errors in other UDF functions (https://github.com/pandas-dev/pandas/issues/40211#issuecomment-792030597). The deprecation is now only for partial failure when something other than TypeError is raised.',\n  'performed_via_github_app': None},\n {'url': 'https://api.github.com/repos/pandas-dev/pandas/issues/40287',\n  'repository_url': 'https://api.github.com/repos/pandas-dev/pandas',\n  'labels_url': 'https://api.github.com/repos/pandas-dev/pandas/issues/40287/labels{/name}',\n  'comments_url': 'https://api.github.com/repos/pandas-dev/pandas/issues/40287/comments',\n  'events_url': 'https://api.github.com/repos/pandas-dev/pandas/issues/40287/events',\n  'html_url': 'https://github.com/pandas-dev/pandas/issues/40287',\n  'id': 823931365,\n  'node_id': 'MDU6SXNzdWU4MjM5MzEzNjU=',\n  'number': 40287,\n  'title': 'ENH: IO support for R data files with `pandas.read_rds` and `DataFrame.to_rds`',\n  'user': {'login': 'ParfaitG',\n   'id': 13602663,\n   'node_id': 'MDQ6VXNlcjEzNjAyNjYz',\n   'avatar_url': 'https://avatars.githubusercontent.com/u/13602663?v=4',\n   'gravatar_id': '',\n   'url': 'https://api.github.com/users/ParfaitG',\n   'html_url': 'https://github.com/ParfaitG',\n   'followers_url': 'https://api.github.com/users/ParfaitG/followers',\n   'following_url': 'https://api.github.com/users/ParfaitG/following{/other_user}',\n   'gists_url': 'https://api.github.com/users/ParfaitG/gists{/gist_id}',\n   'starred_url': 'https://api.github.com/users/ParfaitG/starred{/owner}{/repo}',\n   'subscriptions_url': 'https://api.github.com/users/ParfaitG/subscriptions',\n   'organizations_url': 'https://api.github.com/users/ParfaitG/orgs',\n   'repos_url': 'https://api.github.com/users/ParfaitG/repos',\n   'events_url': 'https://api.github.com/users/ParfaitG/events{/privacy}',\n   'received_events_url': 'https://api.github.com/users/ParfaitG/received_events',\n   'type': 'User',\n   'site_admin': False},\n  'labels': [{'id': 76812,\n    'node_id': 'MDU6TGFiZWw3NjgxMg==',\n    'url': 'https://api.github.com/repos/pandas-dev/pandas/labels/Enhancement',\n    'name': 'Enhancement',\n    'color': '4E9A06',\n    'default': False,\n    'description': None},\n   {'id': 1954720290,\n    'node_id': 'MDU6TGFiZWwxOTU0NzIwMjkw',\n    'url': 'https://api.github.com/repos/pandas-dev/pandas/labels/Needs%20Triage',\n    'name': 'Needs Triage',\n    'color': '0052cc',\n    'default': False,\n    'description': 'Issue that has not been reviewed by a pandas team member'}],\n  'state': 'open',\n  'locked': False,\n  'assignee': None,\n  'assignees': [],\n  'milestone': None,\n  'comments': 3,\n  'created_at': '2021-03-07T14:30:30Z',\n  'updated_at': '2021-03-08T22:21:58Z',\n  'closed_at': None,\n  'author_association': 'CONTRIBUTOR',\n  'active_lock_reason': None,\n  'body': 'Currently, [Pandas IO tools](https://pandas.pydata.org/pandas-docs/stable/user_guide/io.html) for binary files support largely the commercial statistical packages (SAS, Stata, SPSS). Interestingly, R binary types (.rds, .rda) are not included. Since many data science teams work between the open source stacks, some IO pandas support of R data files may be worthwhile to pursue.\\r\\n\\r\\nI know there is some history of pandas with rpy2. However, there may be a way to integrate an IO module for R data files without optional dependency (i.e, [pyreadr](https://github.com/ofajardo/pyreadr)) but using a lightweight C library: [librdata](https://github.com/WizardMac/librdata/tree/master/src). Also, R\\'s [`saveRDS`](https://www.rdocumentation.org/packages/base/versions/3.6.2/topics/readRDS) uses compression types (`gzip`, `bzip2`, and `xz`) already handled with pandas io. \\r\\n\\r\\nThanks to the authors of pyreadr and librdata (not unlike the `sas7bdat` authors for `read_sas` or `PyDTA` authors for `read_stata`), I was able to implement a demo on an uncompressed rds type. \\r\\n\\r\\n### R\\r\\n\\r\\n```r\\r\\nset.seed(332020)\\r\\nalpha <- c(LETTERS, letters, c(0:9))\\r\\ndata_tools <- c(\"sas\", \"stata\", \"spss\", \"python\", \"r\", \"julia\")\\r\\n\\r\\nrandom_df <- data.frame(\\r\\n  group = factor(sample(data_tools, 500, replace=TRUE)),\\r\\n  int = sample(1:15, 500, replace=TRUE),\\r\\n  num = rnorm(500),\\r\\n  char = replicate(500, paste(sample(alpha, 3, replace=TRUE), collapse=\"\")),\\r\\n  bool = sample(c(TRUE, FALSE), 500, replace=TRUE),\\r\\n  date = sample(seq(as.Date(\"2001-01-01\"), Sys.Date(), by=\"days\"), 500, replace=TRUE),\\r\\n  ts= as.POSIXct(sample(1577836800:as.integer(Sys.time()), 500, replace=TRUE), origin=\"1970-01-01\")\\r\\n)\\r\\n\\r\\nhead(random_df, 5)\\r\\n#    group int        num char  bool       date                  ts\\r\\n# 1      r  15  1.2012638  3kp  TRUE 2006-12-07 2020-04-30 09:49:15\\r\\n# 2   spss   5  0.9627570  rf6  TRUE 2010-10-28 2020-07-23 08:05:29\\r\\n# 3  julia   9 -0.7922929  t9Q FALSE 2003-01-02 2020-05-28 19:44:38\\r\\n# 4  julia  14 -0.4305794  zWw  TRUE 2004-11-24 2020-10-09 09:08:38\\r\\n# 5 python   5 -1.0262956  LqK  TRUE 2020-08-20 2020-04-10 22:10:28\\r\\n\\r\\ntail(random_df, 5)\\r\\n#      group int        num char  bool       date                  ts\\r\\n# 496 python   2  1.1038483  xGh  TRUE 2011-03-15 2020-10-19 09:55:11\\r\\n# 497    sas   1 -0.5588906  BbC  TRUE 2003-03-02 2021-02-06 15:17:06\\r\\n# 498    sas   1  0.3989181  FHi  TRUE 2001-10-23 2020-06-21 21:29:26\\r\\n# 499 python   1 -0.7840641  e3k FALSE 2002-05-31 2020-03-15 12:00:23\\r\\n# 500   spss   7  0.2351526  Klv  TRUE 2020-02-01 2021-01-18 04:39:34\\r\\n\\r\\nsaveRDS(random_df, \\r\\n        file.path(\"/path/to/r_df.rds\"),\\r\\n        compress=FALSE)\\r\\n```\\r\\n\\r\\n### Python *(using a Cython built module)*\\r\\n\\r\\n**Parser**\\r\\n\\r\\n```python\\r\\nfrom rparser import Parser, Writer           # slight adjustments to pyreadr\\'s pyx w/o 3rd party imports\\r\\nimport pandas as pd\\r\\nfrom datetime import datetime as dt, timedelta\\r\\n\\r\\nclass BaseRParser(Parser):\\r\\n    \"\"\"\\r\\n    Parses the RData or Rds file using the parser defined\\r\\n    in librdata.pyx which in turn uses the C API of librdata.\\r\\n    \"\"\"\\r\\n\\r\\n    def __init__(self):\\r\\n        self.counter = 0\\r\\n        self.is_factor = False\\r\\n        self.col_names = {}\\r\\n        self.row_names = {}\\r\\n        self.col_types = {}\\r\\n        self.col_data = {}\\r\\n        self.text_vals = {}\\r\\n        self.value_labels = {}\\r\\n\\r\\n\\r\\n    def handle_table(self, name):\\r\\n        \"\"\"\\r\\n        Every object in the file is called table, this method is evoked once per object.\\r\\n        :param name: str: the name of the table\\r\\n        \"\"\"\\r\\n        pass\\r\\n\\r\\n\\r\\n    def handle_column(self, name, data_type, data, count):\\r\\n        \"\"\"\\r\\n        Evoked once per each column in the table.\\r\\n        :param name: str: column name, may be None\\r\\n        :param data_type: object of type DataType(Enum) (defined in librdata.pyx)\\r\\n        :param data: a dictionary containing the data in R vector, may be empty\\r\\n        :param count: int: number of elements in the array\\r\\n        \"\"\"\\r\\n        \\r\\n        self.row_count = count\\r\\n\\r\\n        if self.is_factor:\\r\\n            data = {k:self.value_labels[v] for k,v in data.items()}\\r\\n            self.is_factor = False\\r\\n\\r\\n        if data_type == \"bool\":\\r\\n            data = {k:True if v==1 else False for k,v in data.items()}\\r\\n\\r\\n        if data_type == \"date\":\\r\\n            data = {k:dt(1970,1,1,0,0) + timedelta(v) for k,v in data.items()}        \\r\\n\\r\\n        if data_type == \"datetime\":\\r\\n            data = {k:dt.fromtimestamp(v) for k,v in data.items()}        \\r\\n\\r\\n        self.col_data = {**self.col_data, **{self.counter: data}}\\r\\n        self.col_types[self.counter] = data_type\\r\\n        self.counter += 1\\r\\n  \\r\\n    def handle_column_name(self, name, index):\\r\\n        \"\"\"\\r\\n        Some times name is None in handle column but it is recovered with this method.\\r\\n        :param name: str: name of the column\\r\\n        :param index: int: index of the column\\r\\n        \"\"\"\\r\\n\\r\\n        self.col_names[index] = name\\r\\n\\r\\n        if index == (self.counter - 1):\\r\\n            self.compile_dataframe()\\r\\n\\r\\n    def handle_dim(self, name, data_type, data, count):\\r\\n        \"\"\"\\r\\n        Evoked once to retrieve the number of dimensions\\r\\n        :param name: str: column name, may be None\\r\\n        :param data_type: object of type DataType(Enum) (defined in librdata.pyx)\\r\\n        :param data: a numpy array representing the number of dimensions\\r\\n        :param count: int: number of elements in the array\\r\\n        \"\"\"\\r\\n        pass\\r\\n\\r\\n    def handle_dim_name(self, name, index):\\r\\n        \"\"\"\\r\\n        Get one dimension name, one at a time, for matrices, arrays, tables.\\r\\n        :param name: str: name of the dimension\\r\\n        :param index: int: index of the dimension\\r\\n        \"\"\"\\r\\n        pass\\r\\n\\r\\n    def handle_row_name(self, name, index):\\r\\n        \"\"\"\\r\\n        Handles R dataframe\\'s rownames\\r\\n        :param name: str: name of the row\\r\\n        :param index: int: index of the row\\r\\n        \"\"\"\\r\\n\\r\\n        self.row_names[index] = name\\r\\n\\r\\n    def handle_text_value(self, name, index):\\r\\n        \"\"\"\\r\\n        For character vectors this will be called once per row and will \\r\\n        retrieve the string value for that row.\\r\\n        :param name: str: string value for the row\\r\\n        :param index: int: index of the row\\r\\n        :return:\\r\\n        \"\"\"\\r\\n\\r\\n        self.text_vals[index] = name\\r\\n        if index == (self.row_count - 1):\\r\\n            self.col_data = {**self.col_data, **{self.counter-1: self.text_vals}}\\r\\n            self.text_vals = {} \\r\\n\\r\\n    def handle_value_label(self, name, index):\\r\\n        \"\"\"\\r\\n        Factors are represented as integer vectors.\\r\\n        For factors, this method is called before reading the integer data \\r\\n        in the Factor column with handle_column and will give all the \\r\\n        string values corresponding to the integer values.\\r\\n        :param name: str: string value\\r\\n        :param index: int: integer value\\r\\n        :return:\\r\\n        \"\"\"\\r\\n        \\r\\n        self.is_factor = True\\r\\n        self.value_labels[index+1] = name\\r\\n\\r\\n    def compile_dataframe(self):\\r\\n        df_data = {n:v for (k,v),n in zip(self.col_data.items(), list(self.col_names.values()))}\\r\\n\\r\\n        self.r_dataframe = pd.DataFrame(df_data) \\r\\n```\\r\\n```python\\r\\nparser = BaseRParser()\\r\\nparser.read_rds(\"/path/to/r_df.rds\")\\r\\n\\r\\npy_df = parser.r_dataframe\\r\\nprint(py_df)\\r\\n#       group  int       num char   bool       date                  ts\\r\\n# 0         r   15  1.201264  3kp   True 2006-12-07 2020-04-30 09:49:15\\r\\n# 1      spss    5  0.962757  rf6   True 2010-10-28 2020-07-23 08:05:29\\r\\n# 2     julia    9 -0.792293  t9Q  False 2003-01-02 2020-05-28 19:44:38\\r\\n# 3     julia   14 -0.430579  zWw   True 2004-11-24 2020-10-09 09:08:38\\r\\n# 4    python    5 -1.026296  LqK   True 2020-08-20 2020-04-10 22:10:28\\r\\n# ..      ...  ...       ...  ...    ...        ...                 ...\\r\\n# 495  python    2  1.103848  xGh   True 2003-03-02 2020-10-19 09:55:11\\r\\n# 496     sas    1 -0.558891  BbC   True 2001-10-23 2021-02-06 15:17:06\\r\\n# 497     sas    1  0.398918  FHi   True 2002-05-31 2020-06-21 21:29:26\\r\\n# 498  python    1 -0.784064  e3k  False 2020-02-01 2020-03-15 12:00:23\\r\\n# 499    spss    7  0.235153  Klv   True 2004-06-23 2021-01-18 04:39:34\\r\\n\\r\\n# [500 rows x 7 columns]\\r\\n```\\r\\n\\r\\n**Writer**\\r\\n\\r\\n```python\\r\\nclass BaseRWriter(Writer):\\r\\n    \"\"\"\\r\\n    Writes pandas data to the RData or Rds file using the writer defined \\r\\n    in librdata.pyx which in turn uses the C API of librdata.\\r\\n    \"\"\"\\r\\n\\r\\n    def write_rds(self, path=None, file_format=\"rds\", frame=None, frame_name=None):\\r\\n        \"\"\"\\r\\n        write a RData or Rds file. \\r\\n        path: str: path to the file\\r\\n        file_format: str: rdata or rds\\r\\n        df: pandas data frame\\r\\n        df_name = name of the object to write. Irrelevant if rds format.\\r\\n        \"\"\" \\r\\n\\r\\n        py_to_r_types = {\\r\\n            \"int64\": \"INTEGER\",\\r\\n            \"float64\": \"REAL\",\\r\\n            \"bool\": \"LOGICAL\",\\r\\n            \"object\": \"CHARACTER\",\\r\\n            \"datetime64[ns]\": \"TIMESTAMP\"\\r\\n        }\\r\\n                        \\r\\n        self.open(path, file_format)\\r\\n        self.set_row_count(frame.shape[0])\\r\\n        self.set_table_name(frame_name)\\r\\n\\r\\n        for col_name, col_type in zip(frame.columns.tolist(), frame.dtypes.tolist()):\\r\\n            cur_type = py_to_r_types[str(col_type)]\\r\\n\\r\\n            self.add_column(str(col_name), str(cur_type))\\r\\n\\r\\n        for col in frame.select_dtypes(include=[\\'datetime\\']).columns:\\r\\n            frame[col] = frame[col].astype(int).div(10**9)\\r\\n\\r\\n        for col_indx,((col,ser),dtype) in enumerate(zip(frame.to_dict().items(), frame.dtypes.tolist())):\\r\\n            cur_type = py_to_r_types[str(dtype)]\\r\\n\\r\\n            for row_indx, (indx, val) in enumerate(ser.items()):\\r\\n                self.insert_value(row_indx, col_indx, val, cur_type)\\r\\n\\r\\n        self.close()\\r\\n```\\r\\n```python\\r\\nwriter = BaseRWriter()\\r\\nwriter.write_rds(\\r\\n    path=\"/path/to//py_df.rds\", \\r\\n    file_format=\"rds\",\\r\\n    frame=py_df, \\r\\n    frame_name=\"pandas_df\"\\r\\n)\\r\\n```\\r\\n\\r\\n**R** *(will fix date time hour issues)*\\r\\n\\r\\n```r\\r\\npy_df <- readRDS(\"/path/to//py_df.rds\")\\r\\n\\r\\nhead(py_df, 5)\\r\\n#    group int        num char  bool                date                  ts\\r\\n# 1      r  15  1.2012638  3kp  TRUE 2006-12-06 18:00:00 2020-04-30 04:49:15\\r\\n# 2   spss   5  0.9627570  rf6  TRUE 2010-10-27 19:00:00 2020-07-23 03:05:29\\r\\n# 3  julia   9 -0.7922929  t9Q FALSE 2003-01-01 18:00:00 2020-05-28 14:44:38\\r\\n# 4  julia  14 -0.4305794  zWw  TRUE 2004-11-23 18:00:00 2020-10-09 04:08:38\\r\\n# 5 python   5 -1.0262956  LqK  TRUE 2020-08-19 19:00:00 2020-04-10 17:10:28\\r\\n\\r\\ntail(py_df, 5)\\r\\n#      group int        num char  bool                date                  ts\\r\\n# 496 python   2  1.1038483  xGh  TRUE 2003-03-01 18:00:00 2020-10-19 04:55:11\\r\\n# 497    sas   1 -0.5588906  BbC  TRUE 2001-10-22 19:00:00 2021-02-06 09:17:06\\r\\n# 498    sas   1  0.3989181  FHi  TRUE 2002-05-30 19:00:00 2020-06-21 16:29:26\\r\\n# 499 python   1 -0.7840641  e3k FALSE 2020-01-31 18:00:00 2020-03-15 07:00:23\\r\\n# 500   spss   7  0.2351526  Klv  TRUE 2004-06-22 19:00:00 2021-01-17 22:39:34\\r\\n```\\r\\n\\r\\n\\r\\n\\r\\n',\n  'performed_via_github_app': None},\n {'url': 'https://api.github.com/repos/pandas-dev/pandas/issues/40286',\n  'repository_url': 'https://api.github.com/repos/pandas-dev/pandas',\n  'labels_url': 'https://api.github.com/repos/pandas-dev/pandas/issues/40286/labels{/name}',\n  'comments_url': 'https://api.github.com/repos/pandas-dev/pandas/issues/40286/comments',\n  'events_url': 'https://api.github.com/repos/pandas-dev/pandas/issues/40286/events',\n  'html_url': 'https://github.com/pandas-dev/pandas/pull/40286',\n  'id': 823925149,\n  'node_id': 'MDExOlB1bGxSZXF1ZXN0NTg2MjU3NzY3',\n  'number': 40286,\n  'title': 'STYLE: Resolved Inconsistent namespace',\n  'user': {'login': 'deepang17',\n   'id': 47976918,\n   'node_id': 'MDQ6VXNlcjQ3OTc2OTE4',\n   'avatar_url': 'https://avatars.githubusercontent.com/u/47976918?v=4',\n   'gravatar_id': '',\n   'url': 'https://api.github.com/users/deepang17',\n   'html_url': 'https://github.com/deepang17',\n   'followers_url': 'https://api.github.com/users/deepang17/followers',\n   'following_url': 'https://api.github.com/users/deepang17/following{/other_user}',\n   'gists_url': 'https://api.github.com/users/deepang17/gists{/gist_id}',\n   'starred_url': 'https://api.github.com/users/deepang17/starred{/owner}{/repo}',\n   'subscriptions_url': 'https://api.github.com/users/deepang17/subscriptions',\n   'organizations_url': 'https://api.github.com/users/deepang17/orgs',\n   'repos_url': 'https://api.github.com/users/deepang17/repos',\n   'events_url': 'https://api.github.com/users/deepang17/events{/privacy}',\n   'received_events_url': 'https://api.github.com/users/deepang17/received_events',\n   'type': 'User',\n   'site_admin': False},\n  'labels': [{'id': 106935113,\n    'node_id': 'MDU6TGFiZWwxMDY5MzUxMTM=',\n    'url': 'https://api.github.com/repos/pandas-dev/pandas/labels/Style',\n    'name': 'Style',\n    'color': 'eb6420',\n    'default': False,\n    'description': 'Code style, linting, code_checks'}],\n  'state': 'open',\n  'locked': False,\n  'assignee': None,\n  'assignees': [],\n  'milestone': {'url': 'https://api.github.com/repos/pandas-dev/pandas/milestones/80',\n   'html_url': 'https://github.com/pandas-dev/pandas/milestone/80',\n   'labels_url': 'https://api.github.com/repos/pandas-dev/pandas/milestones/80/labels',\n   'id': 6095818,\n   'node_id': 'MDk6TWlsZXN0b25lNjA5NTgxOA==',\n   'number': 80,\n   'title': '1.3',\n   'description': '',\n   'creator': {'login': 'jreback',\n    'id': 953992,\n    'node_id': 'MDQ6VXNlcjk1Mzk5Mg==',\n    'avatar_url': 'https://avatars.githubusercontent.com/u/953992?v=4',\n    'gravatar_id': '',\n    'url': 'https://api.github.com/users/jreback',\n    'html_url': 'https://github.com/jreback',\n    'followers_url': 'https://api.github.com/users/jreback/followers',\n    'following_url': 'https://api.github.com/users/jreback/following{/other_user}',\n    'gists_url': 'https://api.github.com/users/jreback/gists{/gist_id}',\n    'starred_url': 'https://api.github.com/users/jreback/starred{/owner}{/repo}',\n    'subscriptions_url': 'https://api.github.com/users/jreback/subscriptions',\n    'organizations_url': 'https://api.github.com/users/jreback/orgs',\n    'repos_url': 'https://api.github.com/users/jreback/repos',\n    'events_url': 'https://api.github.com/users/jreback/events{/privacy}',\n    'received_events_url': 'https://api.github.com/users/jreback/received_events',\n    'type': 'User',\n    'site_admin': False},\n   'open_issues': 110,\n   'closed_issues': 1068,\n   'state': 'open',\n   'created_at': '2020-11-11T19:05:43Z',\n   'updated_at': '2021-03-09T05:10:54Z',\n   'due_on': '2021-05-31T07:00:00Z',\n   'closed_at': None},\n  'comments': 12,\n  'created_at': '2021-03-07T14:00:31Z',\n  'updated_at': '2021-03-08T23:46:09Z',\n  'closed_at': None,\n  'author_association': 'CONTRIBUTOR',\n  'active_lock_reason': None,\n  'pull_request': {'url': 'https://api.github.com/repos/pandas-dev/pandas/pulls/40286',\n   'html_url': 'https://github.com/pandas-dev/pandas/pull/40286',\n   'diff_url': 'https://github.com/pandas-dev/pandas/pull/40286.diff',\n   'patch_url': 'https://github.com/pandas-dev/pandas/pull/40286.patch'},\n  'body': '- [x] closes #39992 \\r\\n- [x] tests added / passed\\r\\n- [x] Ensure all linting tests pass, see [here](https://pandas.pydata.org/pandas-docs/dev/development/contributing.html#code-standards) for how to run them\\r\\n- [ ] whatsnew entry\\r\\n',\n  'performed_via_github_app': None},\n {'url': 'https://api.github.com/repos/pandas-dev/pandas/issues/40285',\n  'repository_url': 'https://api.github.com/repos/pandas-dev/pandas',\n  'labels_url': 'https://api.github.com/repos/pandas-dev/pandas/issues/40285/labels{/name}',\n  'comments_url': 'https://api.github.com/repos/pandas-dev/pandas/issues/40285/comments',\n  'events_url': 'https://api.github.com/repos/pandas-dev/pandas/issues/40285/events',\n  'html_url': 'https://github.com/pandas-dev/pandas/pull/40285',\n  'id': 823915580,\n  'node_id': 'MDExOlB1bGxSZXF1ZXN0NTg2MjUwNTI5',\n  'number': 40285,\n  'title': 'BLD: GH30873 Workaround parallel build failures',\n  'user': {'login': 'mgorny',\n   'id': 110765,\n   'node_id': 'MDQ6VXNlcjExMDc2NQ==',\n   'avatar_url': 'https://avatars.githubusercontent.com/u/110765?v=4',\n   'gravatar_id': '',\n   'url': 'https://api.github.com/users/mgorny',\n   'html_url': 'https://github.com/mgorny',\n   'followers_url': 'https://api.github.com/users/mgorny/followers',\n   'following_url': 'https://api.github.com/users/mgorny/following{/other_user}',\n   'gists_url': 'https://api.github.com/users/mgorny/gists{/gist_id}',\n   'starred_url': 'https://api.github.com/users/mgorny/starred{/owner}{/repo}',\n   'subscriptions_url': 'https://api.github.com/users/mgorny/subscriptions',\n   'organizations_url': 'https://api.github.com/users/mgorny/orgs',\n   'repos_url': 'https://api.github.com/users/mgorny/repos',\n   'events_url': 'https://api.github.com/users/mgorny/events{/privacy}',\n   'received_events_url': 'https://api.github.com/users/mgorny/received_events',\n   'type': 'User',\n   'site_admin': False},\n  'labels': [],\n  'state': 'open',\n  'locked': False,\n  'assignee': None,\n  'assignees': [],\n  'milestone': None,\n  'comments': 13,\n  'created_at': '2021-03-07T13:11:56Z',\n  'updated_at': '2021-03-08T17:38:07Z',\n  'closed_at': None,\n  'author_association': 'NONE',\n  'active_lock_reason': None,\n  'pull_request': {'url': 'https://api.github.com/repos/pandas-dev/pandas/pulls/40285',\n   'html_url': 'https://github.com/pandas-dev/pandas/pull/40285',\n   'diff_url': 'https://github.com/pandas-dev/pandas/pull/40285.diff',\n   'patch_url': 'https://github.com/pandas-dev/pandas/pull/40285.patch'},\n  'body': 'Fix parallel build race conditions due to the same source files being\\r\\nused in multiple targets.  To workaround the distutils bug, create\\r\\nunique .c files for each target that just #include the original file.\\r\\n\\r\\n- [x] closes #30873 \\r\\n- [ ] tests added / passed\\r\\n- [ ] Ensure all linting tests pass, see [here](https://pandas.pydata.org/pandas-docs/dev/development/contributing.html#code-standards) for how to run them\\r\\n- [ ] whatsnew entry\\r\\n',\n  'performed_via_github_app': None},\n {'url': 'https://api.github.com/repos/pandas-dev/pandas/issues/40275',\n  'repository_url': 'https://api.github.com/repos/pandas-dev/pandas',\n  'labels_url': 'https://api.github.com/repos/pandas-dev/pandas/issues/40275/labels{/name}',\n  'comments_url': 'https://api.github.com/repos/pandas-dev/pandas/issues/40275/comments',\n  'events_url': 'https://api.github.com/repos/pandas-dev/pandas/issues/40275/events',\n  'html_url': 'https://github.com/pandas-dev/pandas/pull/40275',\n  'id': 823693020,\n  'node_id': 'MDExOlB1bGxSZXF1ZXN0NTg2MDk3MzUy',\n  'number': 40275,\n  'title': 'POC: aggregate always aggregates',\n  'user': {'login': 'rhshadrach',\n   'id': 45562402,\n   'node_id': 'MDQ6VXNlcjQ1NTYyNDAy',\n   'avatar_url': 'https://avatars.githubusercontent.com/u/45562402?v=4',\n   'gravatar_id': '',\n   'url': 'https://api.github.com/users/rhshadrach',\n   'html_url': 'https://github.com/rhshadrach',\n   'followers_url': 'https://api.github.com/users/rhshadrach/followers',\n   'following_url': 'https://api.github.com/users/rhshadrach/following{/other_user}',\n   'gists_url': 'https://api.github.com/users/rhshadrach/gists{/gist_id}',\n   'starred_url': 'https://api.github.com/users/rhshadrach/starred{/owner}{/repo}',\n   'subscriptions_url': 'https://api.github.com/users/rhshadrach/subscriptions',\n   'organizations_url': 'https://api.github.com/users/rhshadrach/orgs',\n   'repos_url': 'https://api.github.com/users/rhshadrach/repos',\n   'events_url': 'https://api.github.com/users/rhshadrach/events{/privacy}',\n   'received_events_url': 'https://api.github.com/users/rhshadrach/received_events',\n   'type': 'User',\n   'site_admin': False},\n  'labels': [{'id': 697792067,\n    'node_id': 'MDU6TGFiZWw2OTc3OTIwNjc=',\n    'url': 'https://api.github.com/repos/pandas-dev/pandas/labels/Apply',\n    'name': 'Apply',\n    'color': 'fbca04',\n    'default': False,\n    'description': 'Apply, Aggregate, Transform'}],\n  'state': 'open',\n  'locked': False,\n  'assignee': None,\n  'assignees': [],\n  'milestone': None,\n  'comments': 0,\n  'created_at': '2021-03-06T16:49:35Z',\n  'updated_at': '2021-03-06T16:52:49Z',\n  'closed_at': None,\n  'author_association': 'MEMBER',\n  'active_lock_reason': None,\n  'pull_request': {'url': 'https://api.github.com/repos/pandas-dev/pandas/pulls/40275',\n   'html_url': 'https://github.com/pandas-dev/pandas/pull/40275',\n   'diff_url': 'https://github.com/pandas-dev/pandas/pull/40275.diff',\n   'patch_url': 'https://github.com/pandas-dev/pandas/pull/40275.patch'},\n  'body': '- [x] Ensure all linting tests pass, see [here](https://pandas.pydata.org/pandas-docs/dev/development/contributing.html#code-standards) for how to run them\\r\\n\\r\\nProof of concept to show what it would take for #35725 (needs tests, docs, and some comments cleaned up). I wanted to make sure the desired behavior has a viable path before deprecating. I\\'m planning to put up a PR to deprecate for #35725 in the next week or so, but since this seems to be a somewhat substantial behavior change, I\\'m wondering if it should be behind an option so that users can opt-in earlier and restore previous behavior for at least 1 release after the deprecation takes effect.\\r\\n\\r\\nThis makes any call to `*.agg` aggregate. For example:\\r\\n\\r\\n     pd.DataFrame({\\'a\\': [1, 1], \\'b\\': [2, 2]}).agg(lambda x: x)\\r\\n\\r\\nwill return a Series with 2 rows whose entries are Series themselves. On master, this would be a no-op. Some notes:\\r\\n\\r\\n - GroupBy.aggregate is now almost entirely handled by either core.apply or _python_agg_general. The only case that isn\\'t is where the result is empty; this should be able to be simplified.\\r\\n - Also closes #39169, #39436\\r\\n - Closes the agg portion of #38042\\r\\n - Series.agg no longer uses \"try ser.apply(f), fallback to f(ser)\"; it just does the latter now.',\n  'performed_via_github_app': None},\n {'url': 'https://api.github.com/repos/pandas-dev/pandas/issues/40274',\n  'repository_url': 'https://api.github.com/repos/pandas-dev/pandas',\n  'labels_url': 'https://api.github.com/repos/pandas-dev/pandas/issues/40274/labels{/name}',\n  'comments_url': 'https://api.github.com/repos/pandas-dev/pandas/issues/40274/comments',\n  'events_url': 'https://api.github.com/repos/pandas-dev/pandas/issues/40274/events',\n  'html_url': 'https://github.com/pandas-dev/pandas/issues/40274',\n  'id': 823673300,\n  'node_id': 'MDU6SXNzdWU4MjM2NzMzMDA=',\n  'number': 40274,\n  'title': 'ENH: read_excel (xlrd engine) add parameter for ignore_workbook_corruption',\n  'user': {'login': 'aster94',\n   'id': 21184718,\n   'node_id': 'MDQ6VXNlcjIxMTg0NzE4',\n   'avatar_url': 'https://avatars.githubusercontent.com/u/21184718?v=4',\n   'gravatar_id': '',\n   'url': 'https://api.github.com/users/aster94',\n   'html_url': 'https://github.com/aster94',\n   'followers_url': 'https://api.github.com/users/aster94/followers',\n   'following_url': 'https://api.github.com/users/aster94/following{/other_user}',\n   'gists_url': 'https://api.github.com/users/aster94/gists{/gist_id}',\n   'starred_url': 'https://api.github.com/users/aster94/starred{/owner}{/repo}',\n   'subscriptions_url': 'https://api.github.com/users/aster94/subscriptions',\n   'organizations_url': 'https://api.github.com/users/aster94/orgs',\n   'repos_url': 'https://api.github.com/users/aster94/repos',\n   'events_url': 'https://api.github.com/users/aster94/events{/privacy}',\n   'received_events_url': 'https://api.github.com/users/aster94/received_events',\n   'type': 'User',\n   'site_admin': False},\n  'labels': [{'id': 76812,\n    'node_id': 'MDU6TGFiZWw3NjgxMg==',\n    'url': 'https://api.github.com/repos/pandas-dev/pandas/labels/Enhancement',\n    'name': 'Enhancement',\n    'color': '4E9A06',\n    'default': False,\n    'description': None},\n   {'id': 1954720290,\n    'node_id': 'MDU6TGFiZWwxOTU0NzIwMjkw',\n    'url': 'https://api.github.com/repos/pandas-dev/pandas/labels/Needs%20Triage',\n    'name': 'Needs Triage',\n    'color': '0052cc',\n    'default': False,\n    'description': 'Issue that has not been reviewed by a pandas team member'}],\n  'state': 'open',\n  'locked': False,\n  'assignee': None,\n  'assignees': [],\n  'milestone': None,\n  'comments': 2,\n  'created_at': '2021-03-06T15:21:02Z',\n  'updated_at': '2021-03-07T21:04:57Z',\n  'closed_at': None,\n  'author_association': 'NONE',\n  'active_lock_reason': None,\n  'body': \"#### Is your feature request related to a problem?\\r\\n\\r\\nyes, sometimes, expecially when created by 3rd party application old excel file can be corrupted:\\r\\n\\r\\nhttps://www.codeforests.com/2020/05/28/fix-the-compdocerror-for-xlrd/\\r\\nhttps://stackoverflow.com/questions/12705527/reading-excel-files-with-xlrd\\r\\nhttps://stackoverflow.com/questions/34550624/python-xlrd-read-excel-file-error/\\r\\nhttps://titanwolf.org/Network/Articles/Article?AID=f1370e16-c9ef-4892-a00e-b1bafee2f6a8#gsc.tab=0\\r\\n\\r\\n#### Describe the solution you'd like\\r\\n\\r\\nxlrd's team recently in version 2.0 (december 2020) solved this with a flag: `ignore_workbook_corruption`, please see https://xlrd.readthedocs.io/en/latest/changes.html\\r\\nSo my desire would be to just have this flag inside the pandas's function `read_excel`\\r\\n\\r\\n#### API breaking implications\\r\\n\\r\\nany, I guess\\r\\n\\r\\n#### Describe alternatives you've considered\\r\\n\\r\\nOpen the file directly with xlrd and pass it to pandas\\r\\nI may be unaware of other solutions\",\n  'performed_via_github_app': None},\n {'url': 'https://api.github.com/repos/pandas-dev/pandas/issues/40273',\n  'repository_url': 'https://api.github.com/repos/pandas-dev/pandas',\n  'labels_url': 'https://api.github.com/repos/pandas-dev/pandas/issues/40273/labels{/name}',\n  'comments_url': 'https://api.github.com/repos/pandas-dev/pandas/issues/40273/comments',\n  'events_url': 'https://api.github.com/repos/pandas-dev/pandas/issues/40273/events',\n  'html_url': 'https://github.com/pandas-dev/pandas/issues/40273',\n  'id': 823668824,\n  'node_id': 'MDU6SXNzdWU4MjM2Njg4MjQ=',\n  'number': 40273,\n  'title': 'ENH: pandas.read_json Add skip error line',\n  'user': {'login': 'iwantmyway',\n   'id': 69646982,\n   'node_id': 'MDQ6VXNlcjY5NjQ2OTgy',\n   'avatar_url': 'https://avatars.githubusercontent.com/u/69646982?v=4',\n   'gravatar_id': '',\n   'url': 'https://api.github.com/users/iwantmyway',\n   'html_url': 'https://github.com/iwantmyway',\n   'followers_url': 'https://api.github.com/users/iwantmyway/followers',\n   'following_url': 'https://api.github.com/users/iwantmyway/following{/other_user}',\n   'gists_url': 'https://api.github.com/users/iwantmyway/gists{/gist_id}',\n   'starred_url': 'https://api.github.com/users/iwantmyway/starred{/owner}{/repo}',\n   'subscriptions_url': 'https://api.github.com/users/iwantmyway/subscriptions',\n   'organizations_url': 'https://api.github.com/users/iwantmyway/orgs',\n   'repos_url': 'https://api.github.com/users/iwantmyway/repos',\n   'events_url': 'https://api.github.com/users/iwantmyway/events{/privacy}',\n   'received_events_url': 'https://api.github.com/users/iwantmyway/received_events',\n   'type': 'User',\n   'site_admin': False},\n  'labels': [{'id': 76812,\n    'node_id': 'MDU6TGFiZWw3NjgxMg==',\n    'url': 'https://api.github.com/repos/pandas-dev/pandas/labels/Enhancement',\n    'name': 'Enhancement',\n    'color': '4E9A06',\n    'default': False,\n    'description': None},\n   {'id': 49379259,\n    'node_id': 'MDU6TGFiZWw0OTM3OTI1OQ==',\n    'url': 'https://api.github.com/repos/pandas-dev/pandas/labels/IO%20JSON',\n    'name': 'IO JSON',\n    'color': '207de5',\n    'default': False,\n    'description': 'read_json, to_json, json_normalize'},\n   {'id': 307649777,\n    'node_id': 'MDU6TGFiZWwzMDc2NDk3Nzc=',\n    'url': 'https://api.github.com/repos/pandas-dev/pandas/labels/Needs%20Info',\n    'name': 'Needs Info',\n    'color': '207de5',\n    'default': False,\n    'description': 'Clarification about behavior needed to assess issue'},\n   {'id': 1954720290,\n    'node_id': 'MDU6TGFiZWwxOTU0NzIwMjkw',\n    'url': 'https://api.github.com/repos/pandas-dev/pandas/labels/Needs%20Triage',\n    'name': 'Needs Triage',\n    'color': '0052cc',\n    'default': False,\n    'description': 'Issue that has not been reviewed by a pandas team member'}],\n  'state': 'open',\n  'locked': False,\n  'assignee': None,\n  'assignees': [],\n  'milestone': None,\n  'comments': 1,\n  'created_at': '2021-03-06T14:59:11Z',\n  'updated_at': '2021-03-06T19:49:15Z',\n  'closed_at': None,\n  'author_association': 'NONE',\n  'active_lock_reason': None,\n  'body': 'It will be great if pandas.read_json have skip error line like pandas.read_csv do.',\n  'performed_via_github_app': None},\n {'url': 'https://api.github.com/repos/pandas-dev/pandas/issues/40269',\n  'repository_url': 'https://api.github.com/repos/pandas-dev/pandas',\n  'labels_url': 'https://api.github.com/repos/pandas-dev/pandas/issues/40269/labels{/name}',\n  'comments_url': 'https://api.github.com/repos/pandas-dev/pandas/issues/40269/comments',\n  'events_url': 'https://api.github.com/repos/pandas-dev/pandas/issues/40269/events',\n  'html_url': 'https://github.com/pandas-dev/pandas/pull/40269',\n  'id': 823639310,\n  'node_id': 'MDExOlB1bGxSZXF1ZXN0NTg2MDU2NTc4',\n  'number': 40269,\n  'title': 'Add examples to documentation for DataFrame.swaplevel',\n  'user': {'login': 'thordisstella',\n   'id': 34509662,\n   'node_id': 'MDQ6VXNlcjM0NTA5NjYy',\n   'avatar_url': 'https://avatars.githubusercontent.com/u/34509662?v=4',\n   'gravatar_id': '',\n   'url': 'https://api.github.com/users/thordisstella',\n   'html_url': 'https://github.com/thordisstella',\n   'followers_url': 'https://api.github.com/users/thordisstella/followers',\n   'following_url': 'https://api.github.com/users/thordisstella/following{/other_user}',\n   'gists_url': 'https://api.github.com/users/thordisstella/gists{/gist_id}',\n   'starred_url': 'https://api.github.com/users/thordisstella/starred{/owner}{/repo}',\n   'subscriptions_url': 'https://api.github.com/users/thordisstella/subscriptions',\n   'organizations_url': 'https://api.github.com/users/thordisstella/orgs',\n   'repos_url': 'https://api.github.com/users/thordisstella/repos',\n   'events_url': 'https://api.github.com/users/thordisstella/events{/privacy}',\n   'received_events_url': 'https://api.github.com/users/thordisstella/received_events',\n   'type': 'User',\n   'site_admin': False},\n  'labels': [],\n  'state': 'open',\n  'locked': False,\n  'assignee': None,\n  'assignees': [],\n  'milestone': None,\n  'comments': 3,\n  'created_at': '2021-03-06T12:42:07Z',\n  'updated_at': '2021-03-08T20:58:38Z',\n  'closed_at': None,\n  'author_association': 'NONE',\n  'active_lock_reason': None,\n  'pull_request': {'url': 'https://api.github.com/repos/pandas-dev/pandas/pulls/40269',\n   'html_url': 'https://github.com/pandas-dev/pandas/pull/40269',\n   'diff_url': 'https://github.com/pandas-dev/pandas/pull/40269.diff',\n   'patch_url': 'https://github.com/pandas-dev/pandas/pull/40269.patch'},\n  'body': '- [x ] closes https://github.com/MarcoGorelli/pyladies-sprint-March-2021/issues/13\\r\\n- [ ] tests added / passed\\r\\n- [ ] Ensure all linting tests pass, see [here](https://pandas.pydata.org/pandas-docs/dev/development/contributing.html#code-standards) for how to run them\\r\\n- [ ] whatsnew entry\\r\\n',\n  'performed_via_github_app': None},\n {'url': 'https://api.github.com/repos/pandas-dev/pandas/issues/40263',\n  'repository_url': 'https://api.github.com/repos/pandas-dev/pandas',\n  'labels_url': 'https://api.github.com/repos/pandas-dev/pandas/issues/40263/labels{/name}',\n  'comments_url': 'https://api.github.com/repos/pandas-dev/pandas/issues/40263/comments',\n  'events_url': 'https://api.github.com/repos/pandas-dev/pandas/issues/40263/events',\n  'html_url': 'https://github.com/pandas-dev/pandas/issues/40263',\n  'id': 823550703,\n  'node_id': 'MDU6SXNzdWU4MjM1NTA3MDM=',\n  'number': 40263,\n  'title': 'DES: How much perf penalty will we accept to get rid of libreduction?',\n  'user': {'login': 'jbrockmendel',\n   'id': 8078968,\n   'node_id': 'MDQ6VXNlcjgwNzg5Njg=',\n   'avatar_url': 'https://avatars.githubusercontent.com/u/8078968?v=4',\n   'gravatar_id': '',\n   'url': 'https://api.github.com/users/jbrockmendel',\n   'html_url': 'https://github.com/jbrockmendel',\n   'followers_url': 'https://api.github.com/users/jbrockmendel/followers',\n   'following_url': 'https://api.github.com/users/jbrockmendel/following{/other_user}',\n   'gists_url': 'https://api.github.com/users/jbrockmendel/gists{/gist_id}',\n   'starred_url': 'https://api.github.com/users/jbrockmendel/starred{/owner}{/repo}',\n   'subscriptions_url': 'https://api.github.com/users/jbrockmendel/subscriptions',\n   'organizations_url': 'https://api.github.com/users/jbrockmendel/orgs',\n   'repos_url': 'https://api.github.com/users/jbrockmendel/repos',\n   'events_url': 'https://api.github.com/users/jbrockmendel/events{/privacy}',\n   'received_events_url': 'https://api.github.com/users/jbrockmendel/received_events',\n   'type': 'User',\n   'site_admin': False},\n  'labels': [{'id': 76811,\n    'node_id': 'MDU6TGFiZWw3NjgxMQ==',\n    'url': 'https://api.github.com/repos/pandas-dev/pandas/labels/Bug',\n    'name': 'Bug',\n    'color': 'e10c02',\n    'default': False,\n    'description': None},\n   {'id': 1954720290,\n    'node_id': 'MDU6TGFiZWwxOTU0NzIwMjkw',\n    'url': 'https://api.github.com/repos/pandas-dev/pandas/labels/Needs%20Triage',\n    'name': 'Needs Triage',\n    'color': '0052cc',\n    'default': False,\n    'description': 'Issue that has not been reviewed by a pandas team member'}],\n  'state': 'open',\n  'locked': False,\n  'assignee': None,\n  'assignees': [],\n  'milestone': None,\n  'comments': 0,\n  'created_at': '2021-03-06T03:35:31Z',\n  'updated_at': '2021-03-06T03:35:31Z',\n  'closed_at': None,\n  'author_association': 'MEMBER',\n  'active_lock_reason': None,\n  'body': 'xref some discussion https://github.com/pandas-dev/pandas/pull/40171#issuecomment-790219422 \\r\\n\\r\\nlibreduction and the associated callers are a disproportionate maintenance headache [citation needed].  It would be nice to be able to rip it out and just have one path for those methods, but that would entail a non-trivial performance hit.  Recently, though, we\\'ve managed to optimize the pure-python path a bit, and im optimistic we can shave off some more of the difference.\\r\\n\\r\\nThe question: how much of a perf penalty are we willing to accept in order to remove libreduction?\\r\\n\\r\\nCopying from https://github.com/pandas-dev/pandas/pull/40171#issuecomment-789077389\\r\\n\\r\\n> I\\'ll throw out a number: if we could get worst-case down to within about 3x and most-cases within 1.5x, I\\'d be open to removing the cython paths. They are a disproportionate producer of headaches. (From #36459 (possibly out of date) \"entirely disabling the cython path leads to 4 currently-xfailed tests passing\")\\r\\n\\r\\n> Besides which, if/when cython3 becomes available, we may have to get rid of these anyway.',\n  'performed_via_github_app': None},\n {'url': 'https://api.github.com/repos/pandas-dev/pandas/issues/40262',\n  'repository_url': 'https://api.github.com/repos/pandas-dev/pandas',\n  'labels_url': 'https://api.github.com/repos/pandas-dev/pandas/issues/40262/labels{/name}',\n  'comments_url': 'https://api.github.com/repos/pandas-dev/pandas/issues/40262/comments',\n  'events_url': 'https://api.github.com/repos/pandas-dev/pandas/issues/40262/events',\n  'html_url': 'https://github.com/pandas-dev/pandas/pull/40262',\n  'id': 823504898,\n  'node_id': 'MDExOlB1bGxSZXF1ZXN0NTg1OTUzNTIx',\n  'number': 40262,\n  'title': 'CLN: BlockManager.get_slice require only slice arg',\n  'user': {'login': 'jbrockmendel',\n   'id': 8078968,\n   'node_id': 'MDQ6VXNlcjgwNzg5Njg=',\n   'avatar_url': 'https://avatars.githubusercontent.com/u/8078968?v=4',\n   'gravatar_id': '',\n   'url': 'https://api.github.com/users/jbrockmendel',\n   'html_url': 'https://github.com/jbrockmendel',\n   'followers_url': 'https://api.github.com/users/jbrockmendel/followers',\n   'following_url': 'https://api.github.com/users/jbrockmendel/following{/other_user}',\n   'gists_url': 'https://api.github.com/users/jbrockmendel/gists{/gist_id}',\n   'starred_url': 'https://api.github.com/users/jbrockmendel/starred{/owner}{/repo}',\n   'subscriptions_url': 'https://api.github.com/users/jbrockmendel/subscriptions',\n   'organizations_url': 'https://api.github.com/users/jbrockmendel/orgs',\n   'repos_url': 'https://api.github.com/users/jbrockmendel/repos',\n   'events_url': 'https://api.github.com/users/jbrockmendel/events{/privacy}',\n   'received_events_url': 'https://api.github.com/users/jbrockmendel/received_events',\n   'type': 'User',\n   'site_admin': False},\n  'labels': [{'id': 49094459,\n    'node_id': 'MDU6TGFiZWw0OTA5NDQ1OQ==',\n    'url': 'https://api.github.com/repos/pandas-dev/pandas/labels/Internals',\n    'name': 'Internals',\n    'color': 'fbca04',\n    'default': False,\n    'description': 'Related to non-user accessible pandas implementation'},\n   {'id': 127681,\n    'node_id': 'MDU6TGFiZWwxMjc2ODE=',\n    'url': 'https://api.github.com/repos/pandas-dev/pandas/labels/Refactor',\n    'name': 'Refactor',\n    'color': 'FCE94F',\n    'default': False,\n    'description': 'Internal refactoring of code'}],\n  'state': 'open',\n  'locked': False,\n  'assignee': None,\n  'assignees': [],\n  'milestone': {'url': 'https://api.github.com/repos/pandas-dev/pandas/milestones/80',\n   'html_url': 'https://github.com/pandas-dev/pandas/milestone/80',\n   'labels_url': 'https://api.github.com/repos/pandas-dev/pandas/milestones/80/labels',\n   'id': 6095818,\n   'node_id': 'MDk6TWlsZXN0b25lNjA5NTgxOA==',\n   'number': 80,\n   'title': '1.3',\n   'description': '',\n   'creator': {'login': 'jreback',\n    'id': 953992,\n    'node_id': 'MDQ6VXNlcjk1Mzk5Mg==',\n    'avatar_url': 'https://avatars.githubusercontent.com/u/953992?v=4',\n    'gravatar_id': '',\n    'url': 'https://api.github.com/users/jreback',\n    'html_url': 'https://github.com/jreback',\n    'followers_url': 'https://api.github.com/users/jreback/followers',\n    'following_url': 'https://api.github.com/users/jreback/following{/other_user}',\n    'gists_url': 'https://api.github.com/users/jreback/gists{/gist_id}',\n    'starred_url': 'https://api.github.com/users/jreback/starred{/owner}{/repo}',\n    'subscriptions_url': 'https://api.github.com/users/jreback/subscriptions',\n    'organizations_url': 'https://api.github.com/users/jreback/orgs',\n    'repos_url': 'https://api.github.com/users/jreback/repos',\n    'events_url': 'https://api.github.com/users/jreback/events{/privacy}',\n    'received_events_url': 'https://api.github.com/users/jreback/received_events',\n    'type': 'User',\n    'site_admin': False},\n   'open_issues': 110,\n   'closed_issues': 1068,\n   'state': 'open',\n   'created_at': '2020-11-11T19:05:43Z',\n   'updated_at': '2021-03-09T05:10:54Z',\n   'due_on': '2021-05-31T07:00:00Z',\n   'closed_at': None},\n  'comments': 3,\n  'created_at': '2021-03-06T00:10:50Z',\n  'updated_at': '2021-03-09T01:44:03Z',\n  'closed_at': None,\n  'author_association': 'MEMBER',\n  'active_lock_reason': None,\n  'pull_request': {'url': 'https://api.github.com/repos/pandas-dev/pandas/pulls/40262',\n   'html_url': 'https://github.com/pandas-dev/pandas/pull/40262',\n   'diff_url': 'https://github.com/pandas-dev/pandas/pull/40262.diff',\n   'patch_url': 'https://github.com/pandas-dev/pandas/pull/40262.patch'},\n  'body': '- [ ] closes #xxxx\\r\\n- [ ] tests added / passed\\r\\n- [ ] Ensure all linting tests pass, see [here](https://pandas.pydata.org/pandas-docs/dev/development/contributing.html#code-standards) for how to run them\\r\\n- [ ] whatsnew entry\\r\\n\\r\\nnon-slice objects are currently getting past mypy.  This ensures we only get slices, will open up some optimization options.\\r\\n\\r\\nAlso did some docstring/typing cleanup in the neighborhood.\\r\\n\\r\\n<b>update</b>: updated to implement Index._getitem_slice.  Cuts about 10% off of the benchmark discussed in https://github.com/pandas-dev/pandas/pull/40171#issuecomment-790219422 (as compared to current master, not then-master)',\n  'performed_via_github_app': None},\n {'url': 'https://api.github.com/repos/pandas-dev/pandas/issues/40258',\n  'repository_url': 'https://api.github.com/repos/pandas-dev/pandas',\n  'labels_url': 'https://api.github.com/repos/pandas-dev/pandas/issues/40258/labels{/name}',\n  'comments_url': 'https://api.github.com/repos/pandas-dev/pandas/issues/40258/comments',\n  'events_url': 'https://api.github.com/repos/pandas-dev/pandas/issues/40258/events',\n  'html_url': 'https://github.com/pandas-dev/pandas/issues/40258',\n  'id': 823390477,\n  'node_id': 'MDU6SXNzdWU4MjMzOTA0Nzc=',\n  'number': 40258,\n  'title': 'BUG: df.sort_values(by=[]) fails with IndexError',\n  'user': {'login': 'lealanko-rt',\n   'id': 53175128,\n   'node_id': 'MDQ6VXNlcjUzMTc1MTI4',\n   'avatar_url': 'https://avatars.githubusercontent.com/u/53175128?v=4',\n   'gravatar_id': '',\n   'url': 'https://api.github.com/users/lealanko-rt',\n   'html_url': 'https://github.com/lealanko-rt',\n   'followers_url': 'https://api.github.com/users/lealanko-rt/followers',\n   'following_url': 'https://api.github.com/users/lealanko-rt/following{/other_user}',\n   'gists_url': 'https://api.github.com/users/lealanko-rt/gists{/gist_id}',\n   'starred_url': 'https://api.github.com/users/lealanko-rt/starred{/owner}{/repo}',\n   'subscriptions_url': 'https://api.github.com/users/lealanko-rt/subscriptions',\n   'organizations_url': 'https://api.github.com/users/lealanko-rt/orgs',\n   'repos_url': 'https://api.github.com/users/lealanko-rt/repos',\n   'events_url': 'https://api.github.com/users/lealanko-rt/events{/privacy}',\n   'received_events_url': 'https://api.github.com/users/lealanko-rt/received_events',\n   'type': 'User',\n   'site_admin': False},\n  'labels': [{'id': 76811,\n    'node_id': 'MDU6TGFiZWw3NjgxMQ==',\n    'url': 'https://api.github.com/repos/pandas-dev/pandas/labels/Bug',\n    'name': 'Bug',\n    'color': 'e10c02',\n    'default': False,\n    'description': None},\n   {'id': 1954720290,\n    'node_id': 'MDU6TGFiZWwxOTU0NzIwMjkw',\n    'url': 'https://api.github.com/repos/pandas-dev/pandas/labels/Needs%20Triage',\n    'name': 'Needs Triage',\n    'color': '0052cc',\n    'default': False,\n    'description': 'Issue that has not been reviewed by a pandas team member'}],\n  'state': 'open',\n  'locked': False,\n  'assignee': None,\n  'assignees': [],\n  'milestone': None,\n  'comments': 0,\n  'created_at': '2021-03-05T20:28:48Z',\n  'updated_at': '2021-03-05T20:28:48Z',\n  'closed_at': None,\n  'author_association': 'NONE',\n  'active_lock_reason': None,\n  'body': \"- [X] I have checked that this issue has not already been reported.\\r\\n\\r\\n- [X] I have confirmed this bug exists on the latest version of pandas.\\r\\n\\r\\n- [X] (optional) I have confirmed this bug exists on the master branch of pandas.\\r\\n\\r\\n---\\r\\n\\r\\n#### Code Sample, a copy-pastable example\\r\\n\\r\\n```python\\r\\nimport pandas as pd\\r\\ndf = pd.DataFrame({'x': [4, 3]})\\r\\nassert df.sort_values(by=[]).equals(df)\\r\\n```\\r\\n\\r\\n#### Problem description\\r\\n\\r\\nWhen a dataframe is sorted by no columns, it should return the original dataframe (or at least a dataframe with some permutation of the original's rows). Instead it currently fails with an IndexError in frame.py:5451.\\r\\n\\r\\n#### Expected Output\\r\\n\\r\\nThe assertion in the sample code should succeed, or at least the `sort_values()` call should not raise an error.\\r\\n\\r\\n#### Output of ``pd.show_versions()``\\r\\n\\r\\n<details>\\r\\n\\r\\nINSTALLED VERSIONS\\r\\n------------------\\r\\ncommit           : 7d32926db8f7541c356066dcadabf854487738de\\r\\npython           : 3.7.3.final.0\\r\\npython-bits      : 64\\r\\nOS               : Linux\\r\\nOS-release       : 4.4.0-17763-Microsoft\\r\\nVersion          : #864-Microsoft Thu Nov 07 15:22:00 PST 2019\\r\\nmachine          : x86_64\\r\\nprocessor        : \\r\\nbyteorder        : little\\r\\nLC_ALL           : C\\r\\nLANG             : en_US.UTF-8\\r\\nLOCALE           : None.None\\r\\n\\r\\npandas           : 1.2.2\\r\\nnumpy            : 1.20.1\\r\\npytz             : 2021.1\\r\\ndateutil         : 2.8.1\\r\\npip              : 18.1\\r\\nsetuptools       : 40.8.0\\r\\nCython           : 0.29.22\\r\\npytest           : None\\r\\nhypothesis       : None\\r\\nsphinx           : 3.4.3\\r\\nblosc            : None\\r\\nfeather          : None\\r\\nxlsxwriter       : None\\r\\nlxml.etree       : 4.4.2\\r\\nhtml5lib         : 1.0.1\\r\\npymysql          : None\\r\\npsycopg2         : None\\r\\njinja2           : 2.11.2\\r\\nIPython          : 5.8.0\\r\\npandas_datareader: None\\r\\nbs4              : 4.7.1\\r\\nbottleneck       : None\\r\\nfsspec           : None\\r\\nfastparquet      : None\\r\\ngcsfs            : None\\r\\nmatplotlib       : 3.0.2\\r\\nnumexpr          : 2.6.9\\r\\nodfpy            : None\\r\\nopenpyxl         : None\\r\\npandas_gbq       : None\\r\\npyarrow          : None\\r\\npyxlsb           : None\\r\\ns3fs             : None\\r\\nscipy            : 1.1.0\\r\\nsqlalchemy       : None\\r\\ntables           : 3.4.4\\r\\ntabulate         : 0.8.2\\r\\nxarray           : None\\r\\nxlrd             : None\\r\\nxlwt             : None\\r\\nnumba            : None\\r\\n\\r\\n</details>\\r\\n\",\n  'performed_via_github_app': None},\n {'url': 'https://api.github.com/repos/pandas-dev/pandas/issues/40257',\n  'repository_url': 'https://api.github.com/repos/pandas-dev/pandas',\n  'labels_url': 'https://api.github.com/repos/pandas-dev/pandas/issues/40257/labels{/name}',\n  'comments_url': 'https://api.github.com/repos/pandas-dev/pandas/issues/40257/comments',\n  'events_url': 'https://api.github.com/repos/pandas-dev/pandas/issues/40257/events',\n  'html_url': 'https://github.com/pandas-dev/pandas/issues/40257',\n  'id': 823266131,\n  'node_id': 'MDU6SXNzdWU4MjMyNjYxMzE=',\n  'number': 40257,\n  'title': \"BUG: drop_duplicates() doesn't drop zero-column rows\",\n  'user': {'login': 'lealanko-rt',\n   'id': 53175128,\n   'node_id': 'MDQ6VXNlcjUzMTc1MTI4',\n   'avatar_url': 'https://avatars.githubusercontent.com/u/53175128?v=4',\n   'gravatar_id': '',\n   'url': 'https://api.github.com/users/lealanko-rt',\n   'html_url': 'https://github.com/lealanko-rt',\n   'followers_url': 'https://api.github.com/users/lealanko-rt/followers',\n   'following_url': 'https://api.github.com/users/lealanko-rt/following{/other_user}',\n   'gists_url': 'https://api.github.com/users/lealanko-rt/gists{/gist_id}',\n   'starred_url': 'https://api.github.com/users/lealanko-rt/starred{/owner}{/repo}',\n   'subscriptions_url': 'https://api.github.com/users/lealanko-rt/subscriptions',\n   'organizations_url': 'https://api.github.com/users/lealanko-rt/orgs',\n   'repos_url': 'https://api.github.com/users/lealanko-rt/repos',\n   'events_url': 'https://api.github.com/users/lealanko-rt/events{/privacy}',\n   'received_events_url': 'https://api.github.com/users/lealanko-rt/received_events',\n   'type': 'User',\n   'site_admin': False},\n  'labels': [{'id': 76811,\n    'node_id': 'MDU6TGFiZWw3NjgxMQ==',\n    'url': 'https://api.github.com/repos/pandas-dev/pandas/labels/Bug',\n    'name': 'Bug',\n    'color': 'e10c02',\n    'default': False,\n    'description': None},\n   {'id': 1954720290,\n    'node_id': 'MDU6TGFiZWwxOTU0NzIwMjkw',\n    'url': 'https://api.github.com/repos/pandas-dev/pandas/labels/Needs%20Triage',\n    'name': 'Needs Triage',\n    'color': '0052cc',\n    'default': False,\n    'description': 'Issue that has not been reviewed by a pandas team member'}],\n  'state': 'open',\n  'locked': False,\n  'assignee': None,\n  'assignees': [],\n  'milestone': None,\n  'comments': 0,\n  'created_at': '2021-03-05T17:06:02Z',\n  'updated_at': '2021-03-05T17:06:02Z',\n  'closed_at': None,\n  'author_association': 'NONE',\n  'active_lock_reason': None,\n  'body': '- [x] I have checked that this issue has not already been reported.\\r\\n\\r\\n- [x] I have confirmed this bug exists on the latest version of pandas.\\r\\n\\r\\n- [x] (optional) I have confirmed this bug exists on the master branch of pandas.\\r\\n\\r\\n---\\r\\n\\r\\n#### Code Sample, a copy-pastable example\\r\\n\\r\\n```python\\r\\nimport pandas as pd\\r\\ndf_01 = pd.DataFrame([[]])\\r\\ndf_02 = pd.DataFrame([[],[]])\\r\\nassert df_02.drop_duplicates().equals(df_01)\\r\\nassert df_02.duplicated().equals(pd.Series([False,True]))\\r\\n```\\r\\n\\r\\n#### Problem description\\r\\n\\r\\nDuplicates checking fails on various zero-column dataframes. They check for `self.empty` for a fast-path bypass, when they really should be checking e.g. `self.index.empty`.\\r\\n\\r\\n#### Expected Output\\r\\n\\r\\nThe above assertions should succeed.\\r\\n\\r\\n#### Output of ``pd.show_versions()``\\r\\n\\r\\n<details>\\r\\n\\r\\nINSTALLED VERSIONS\\r\\n------------------\\r\\ncommit           : 7d32926db8f7541c356066dcadabf854487738de\\r\\npython           : 3.7.3.final.0\\r\\npython-bits      : 64\\r\\nOS               : Linux\\r\\nOS-release       : 4.4.0-17763-Microsoft\\r\\nVersion          : #864-Microsoft Thu Nov 07 15:22:00 PST 2019\\r\\nmachine          : x86_64\\r\\nprocessor        : \\r\\nbyteorder        : little\\r\\nLC_ALL           : C\\r\\nLANG             : en_US.UTF-8\\r\\nLOCALE           : None.None\\r\\n\\r\\npandas           : 1.2.2\\r\\nnumpy            : 1.20.1\\r\\npytz             : 2021.1\\r\\ndateutil         : 2.8.1\\r\\npip              : 18.1\\r\\nsetuptools       : 40.8.0\\r\\nCython           : None\\r\\npytest           : None\\r\\nhypothesis       : None\\r\\nsphinx           : 3.4.3\\r\\nblosc            : None\\r\\nfeather          : None\\r\\nxlsxwriter       : None\\r\\nlxml.etree       : 4.4.2\\r\\nhtml5lib         : 1.0.1\\r\\npymysql          : None\\r\\npsycopg2         : None\\r\\njinja2           : 2.11.2\\r\\nIPython          : 5.8.0\\r\\npandas_datareader: None\\r\\nbs4              : 4.7.1\\r\\nbottleneck       : None\\r\\nfsspec           : None\\r\\nfastparquet      : None\\r\\ngcsfs            : None\\r\\nmatplotlib       : 3.0.2\\r\\nnumexpr          : 2.6.9\\r\\nodfpy            : None\\r\\nopenpyxl         : None\\r\\npandas_gbq       : None\\r\\npyarrow          : None\\r\\npyxlsb           : None\\r\\ns3fs             : None\\r\\nscipy            : 1.1.0\\r\\nsqlalchemy       : None\\r\\ntables           : 3.4.4\\r\\ntabulate         : 0.8.2\\r\\nxarray           : None\\r\\nxlrd             : None\\r\\nxlwt             : None\\r\\nnumba            : None\\r\\n\\r\\n</details>',\n  'performed_via_github_app': None},\n {'url': 'https://api.github.com/repos/pandas-dev/pandas/issues/40256',\n  'repository_url': 'https://api.github.com/repos/pandas-dev/pandas',\n  'labels_url': 'https://api.github.com/repos/pandas-dev/pandas/issues/40256/labels{/name}',\n  'comments_url': 'https://api.github.com/repos/pandas-dev/pandas/issues/40256/comments',\n  'events_url': 'https://api.github.com/repos/pandas-dev/pandas/issues/40256/events',\n  'html_url': 'https://github.com/pandas-dev/pandas/pull/40256',\n  'id': 823245877,\n  'node_id': 'MDExOlB1bGxSZXF1ZXN0NTg1NzM3MjU1',\n  'number': 40256,\n  'title': 'REF: simplify operating-columnwise dispatch',\n  'user': {'login': 'jbrockmendel',\n   'id': 8078968,\n   'node_id': 'MDQ6VXNlcjgwNzg5Njg=',\n   'avatar_url': 'https://avatars.githubusercontent.com/u/8078968?v=4',\n   'gravatar_id': '',\n   'url': 'https://api.github.com/users/jbrockmendel',\n   'html_url': 'https://github.com/jbrockmendel',\n   'followers_url': 'https://api.github.com/users/jbrockmendel/followers',\n   'following_url': 'https://api.github.com/users/jbrockmendel/following{/other_user}',\n   'gists_url': 'https://api.github.com/users/jbrockmendel/gists{/gist_id}',\n   'starred_url': 'https://api.github.com/users/jbrockmendel/starred{/owner}{/repo}',\n   'subscriptions_url': 'https://api.github.com/users/jbrockmendel/subscriptions',\n   'organizations_url': 'https://api.github.com/users/jbrockmendel/orgs',\n   'repos_url': 'https://api.github.com/users/jbrockmendel/repos',\n   'events_url': 'https://api.github.com/users/jbrockmendel/events{/privacy}',\n   'received_events_url': 'https://api.github.com/users/jbrockmendel/received_events',\n   'type': 'User',\n   'site_admin': False},\n  'labels': [{'id': 127681,\n    'node_id': 'MDU6TGFiZWwxMjc2ODE=',\n    'url': 'https://api.github.com/repos/pandas-dev/pandas/labels/Refactor',\n    'name': 'Refactor',\n    'color': 'FCE94F',\n    'default': False,\n    'description': 'Internal refactoring of code'}],\n  'state': 'open',\n  'locked': False,\n  'assignee': None,\n  'assignees': [],\n  'milestone': None,\n  'comments': 1,\n  'created_at': '2021-03-05T16:38:17Z',\n  'updated_at': '2021-03-09T02:26:49Z',\n  'closed_at': None,\n  'author_association': 'MEMBER',\n  'active_lock_reason': None,\n  'pull_request': {'url': 'https://api.github.com/repos/pandas-dev/pandas/pulls/40256',\n   'html_url': 'https://github.com/pandas-dev/pandas/pull/40256',\n   'diff_url': 'https://github.com/pandas-dev/pandas/pull/40256.diff',\n   'patch_url': 'https://github.com/pandas-dev/pandas/pull/40256.patch'},\n  'body': \"After this we have one usage of split_and_operate left and 2 places where we can _almost_ use `@maybe_split`.  In both cases I'm still trying to untangle things.\",\n  'performed_via_github_app': None}]"
     },
     "execution_count": 186,
     "metadata": {},
     "output_type": "execute_result"
    }
   ],
   "source": [
    "data"
   ]
  },
  {
   "cell_type": "code",
   "execution_count": 187,
   "metadata": {},
   "outputs": [
    {
     "data": {
      "text/plain": "'BUG: Inconsistent rounding up and rounding down in Timestamp.round (v1.2.3)'"
     },
     "execution_count": 187,
     "metadata": {},
     "output_type": "execute_result"
    }
   ],
   "source": [
    "data[0]['title']"
   ]
  },
  {
   "cell_type": "code",
   "execution_count": 188,
   "metadata": {},
   "outputs": [],
   "source": [
    "issues = pd.DataFrame(data, columns = ['number', 'title',\n",
    "                                       'labels', 'state'])"
   ]
  },
  {
   "cell_type": "code",
   "execution_count": 189,
   "metadata": {},
   "outputs": [
    {
     "data": {
      "text/html": "<div>\n<style scoped>\n    .dataframe tbody tr th:only-of-type {\n        vertical-align: middle;\n    }\n\n    .dataframe tbody tr th {\n        vertical-align: top;\n    }\n\n    .dataframe thead th {\n        text-align: right;\n    }\n</style>\n<table border=\"1\" class=\"dataframe\">\n  <thead>\n    <tr style=\"text-align: right;\">\n      <th></th>\n      <th>number</th>\n      <th>title</th>\n      <th>labels</th>\n      <th>state</th>\n    </tr>\n  </thead>\n  <tbody>\n    <tr>\n      <th>0</th>\n      <td>40315</td>\n      <td>BUG: Inconsistent rounding up and rounding dow...</td>\n      <td>[{'id': 76811, 'node_id': 'MDU6TGFiZWw3NjgxMQ=...</td>\n      <td>open</td>\n    </tr>\n    <tr>\n      <th>1</th>\n      <td>40314</td>\n      <td>ERR: Raise NotImplimentedError for EWMA with t...</td>\n      <td>[{'id': 42670965, 'node_id': 'MDU6TGFiZWw0MjY3...</td>\n      <td>open</td>\n    </tr>\n    <tr>\n      <th>2</th>\n      <td>40313</td>\n      <td>BUG: incorrect calculation of centered moving ...</td>\n      <td>[{'id': 76812, 'node_id': 'MDU6TGFiZWw3NjgxMg=...</td>\n      <td>open</td>\n    </tr>\n    <tr>\n      <th>3</th>\n      <td>40312</td>\n      <td>[WIP] API: `Styler.to_html` can ultimately rep...</td>\n      <td>[]</td>\n      <td>open</td>\n    </tr>\n    <tr>\n      <th>4</th>\n      <td>40309</td>\n      <td>BUG: I am facing parse error but it was note r...</td>\n      <td>[{'id': 307649777, 'node_id': 'MDU6TGFiZWwzMDc...</td>\n      <td>open</td>\n    </tr>\n    <tr>\n      <th>...</th>\n      <td>...</td>\n      <td>...</td>\n      <td>...</td>\n      <td>...</td>\n    </tr>\n    <tr>\n      <th>25</th>\n      <td>40263</td>\n      <td>DES: How much perf penalty will we accept to g...</td>\n      <td>[{'id': 76811, 'node_id': 'MDU6TGFiZWw3NjgxMQ=...</td>\n      <td>open</td>\n    </tr>\n    <tr>\n      <th>26</th>\n      <td>40262</td>\n      <td>CLN: BlockManager.get_slice require only slice...</td>\n      <td>[{'id': 49094459, 'node_id': 'MDU6TGFiZWw0OTA5...</td>\n      <td>open</td>\n    </tr>\n    <tr>\n      <th>27</th>\n      <td>40258</td>\n      <td>BUG: df.sort_values(by=[]) fails with IndexError</td>\n      <td>[{'id': 76811, 'node_id': 'MDU6TGFiZWw3NjgxMQ=...</td>\n      <td>open</td>\n    </tr>\n    <tr>\n      <th>28</th>\n      <td>40257</td>\n      <td>BUG: drop_duplicates() doesn't drop zero-colum...</td>\n      <td>[{'id': 76811, 'node_id': 'MDU6TGFiZWw3NjgxMQ=...</td>\n      <td>open</td>\n    </tr>\n    <tr>\n      <th>29</th>\n      <td>40256</td>\n      <td>REF: simplify operating-columnwise dispatch</td>\n      <td>[{'id': 127681, 'node_id': 'MDU6TGFiZWwxMjc2OD...</td>\n      <td>open</td>\n    </tr>\n  </tbody>\n</table>\n<p>30 rows × 4 columns</p>\n</div>",
      "text/plain": "    number                                              title  \\\n0    40315  BUG: Inconsistent rounding up and rounding dow...   \n1    40314  ERR: Raise NotImplimentedError for EWMA with t...   \n2    40313  BUG: incorrect calculation of centered moving ...   \n3    40312  [WIP] API: `Styler.to_html` can ultimately rep...   \n4    40309  BUG: I am facing parse error but it was note r...   \n..     ...                                                ...   \n25   40263  DES: How much perf penalty will we accept to g...   \n26   40262  CLN: BlockManager.get_slice require only slice...   \n27   40258   BUG: df.sort_values(by=[]) fails with IndexError   \n28   40257  BUG: drop_duplicates() doesn't drop zero-colum...   \n29   40256        REF: simplify operating-columnwise dispatch   \n\n                                               labels state  \n0   [{'id': 76811, 'node_id': 'MDU6TGFiZWw3NjgxMQ=...  open  \n1   [{'id': 42670965, 'node_id': 'MDU6TGFiZWw0MjY3...  open  \n2   [{'id': 76812, 'node_id': 'MDU6TGFiZWw3NjgxMg=...  open  \n3                                                  []  open  \n4   [{'id': 307649777, 'node_id': 'MDU6TGFiZWwzMDc...  open  \n..                                                ...   ...  \n25  [{'id': 76811, 'node_id': 'MDU6TGFiZWw3NjgxMQ=...  open  \n26  [{'id': 49094459, 'node_id': 'MDU6TGFiZWw0OTA5...  open  \n27  [{'id': 76811, 'node_id': 'MDU6TGFiZWw3NjgxMQ=...  open  \n28  [{'id': 76811, 'node_id': 'MDU6TGFiZWw3NjgxMQ=...  open  \n29  [{'id': 127681, 'node_id': 'MDU6TGFiZWwxMjc2OD...  open  \n\n[30 rows x 4 columns]"
     },
     "execution_count": 189,
     "metadata": {},
     "output_type": "execute_result"
    }
   ],
   "source": [
    "issues"
   ]
  },
  {
   "cell_type": "markdown",
   "metadata": {},
   "source": [
    "## INTERACTING WITH DATABASES"
   ]
  },
  {
   "cell_type": "code",
   "execution_count": 190,
   "metadata": {},
   "outputs": [],
   "source": [
    "import sqlite3"
   ]
  },
  {
   "cell_type": "code",
   "execution_count": 191,
   "metadata": {},
   "outputs": [],
   "source": [
    "query  =  \"\"\"CREATE TABLE test2\r\n",
    "             (a VARCHAR(20), b VARCHAR(20),   \r\n",
    "             c REAL,        d INTEGER    \r\n",
    "             );\"\"\""
   ]
  },
  {
   "cell_type": "code",
   "execution_count": 192,
   "metadata": {},
   "outputs": [],
   "source": [
    "con = sqlite3.connect('files/mydata.sqlite')"
   ]
  },
  {
   "cell_type": "code",
   "execution_count": 193,
   "metadata": {},
   "outputs": [
    {
     "data": {
      "text/plain": "<sqlite3.Connection at 0x2224bed5120>"
     },
     "execution_count": 193,
     "metadata": {},
     "output_type": "execute_result"
    }
   ],
   "source": [
    "con"
   ]
  },
  {
   "cell_type": "code",
   "execution_count": 194,
   "metadata": {},
   "outputs": [
    {
     "data": {
      "text/plain": "<sqlite3.Cursor at 0x2224c4412d0>"
     },
     "execution_count": 194,
     "metadata": {},
     "output_type": "execute_result"
    }
   ],
   "source": [
    "con.execute(query)"
   ]
  },
  {
   "cell_type": "code",
   "execution_count": 195,
   "metadata": {},
   "outputs": [],
   "source": [
    "con.commit()"
   ]
  },
  {
   "cell_type": "code",
   "execution_count": 196,
   "metadata": {},
   "outputs": [],
   "source": [
    "  data  =  [('Atlanta',  'Georgia',  1.25,  6),\n",
    "            ('Tallahassee',  'Florida',  2.6,  3),\n",
    "            ('Sacramento',  'California',  1.7,  5)]"
   ]
  },
  {
   "cell_type": "code",
   "execution_count": 197,
   "metadata": {},
   "outputs": [],
   "source": [
    "stmt  =  \"INSERT INTO test VALUES(?, ?, ?, ?)\""
   ]
  },
  {
   "cell_type": "code",
   "execution_count": 198,
   "metadata": {},
   "outputs": [
    {
     "data": {
      "text/plain": "<sqlite3.Cursor at 0x2224c36f650>"
     },
     "execution_count": 198,
     "metadata": {},
     "output_type": "execute_result"
    }
   ],
   "source": [
    "con.executemany(stmt, data)"
   ]
  },
  {
   "cell_type": "code",
   "execution_count": 199,
   "metadata": {},
   "outputs": [],
   "source": [
    "con.commit()"
   ]
  },
  {
   "cell_type": "code",
   "execution_count": 200,
   "metadata": {},
   "outputs": [],
   "source": [
    "cursor = con.execute('SELECT * FROM test')"
   ]
  },
  {
   "cell_type": "code",
   "execution_count": 201,
   "metadata": {},
   "outputs": [
    {
     "data": {
      "text/plain": "<sqlite3.Cursor at 0x2224b81cc00>"
     },
     "execution_count": 201,
     "metadata": {},
     "output_type": "execute_result"
    }
   ],
   "source": [
    "cursor"
   ]
  },
  {
   "cell_type": "code",
   "execution_count": 202,
   "metadata": {},
   "outputs": [],
   "source": [
    "rows = cursor.fetchall()"
   ]
  },
  {
   "cell_type": "code",
   "execution_count": 203,
   "metadata": {},
   "outputs": [
    {
     "data": {
      "text/plain": "[('Atlanta', 'Georgia', 1.25, 6),\n ('Tallahassee', 'Florida', 2.6, 3),\n ('Sacramento', 'California', 1.7, 5),\n ('Atlanta', 'Georgia', 1.25, 6),\n ('Tallahassee', 'Florida', 2.6, 3),\n ('Sacramento', 'California', 1.7, 5)]"
     },
     "execution_count": 203,
     "metadata": {},
     "output_type": "execute_result"
    }
   ],
   "source": [
    "rows"
   ]
  },
  {
   "cell_type": "code",
   "execution_count": 204,
   "metadata": {},
   "outputs": [
    {
     "data": {
      "text/plain": "(('a', None, None, None, None, None, None),\n ('b', None, None, None, None, None, None),\n ('c', None, None, None, None, None, None),\n ('d', None, None, None, None, None, None))"
     },
     "execution_count": 204,
     "metadata": {},
     "output_type": "execute_result"
    }
   ],
   "source": [
    "cursor.description"
   ]
  },
  {
   "cell_type": "code",
   "execution_count": 205,
   "metadata": {},
   "outputs": [
    {
     "data": {
      "text/html": "<div>\n<style scoped>\n    .dataframe tbody tr th:only-of-type {\n        vertical-align: middle;\n    }\n\n    .dataframe tbody tr th {\n        vertical-align: top;\n    }\n\n    .dataframe thead th {\n        text-align: right;\n    }\n</style>\n<table border=\"1\" class=\"dataframe\">\n  <thead>\n    <tr style=\"text-align: right;\">\n      <th></th>\n      <th>a</th>\n      <th>b</th>\n      <th>c</th>\n      <th>d</th>\n    </tr>\n  </thead>\n  <tbody>\n    <tr>\n      <th>0</th>\n      <td>Atlanta</td>\n      <td>Georgia</td>\n      <td>1.25</td>\n      <td>6</td>\n    </tr>\n    <tr>\n      <th>1</th>\n      <td>Tallahassee</td>\n      <td>Florida</td>\n      <td>2.60</td>\n      <td>3</td>\n    </tr>\n    <tr>\n      <th>2</th>\n      <td>Sacramento</td>\n      <td>California</td>\n      <td>1.70</td>\n      <td>5</td>\n    </tr>\n    <tr>\n      <th>3</th>\n      <td>Atlanta</td>\n      <td>Georgia</td>\n      <td>1.25</td>\n      <td>6</td>\n    </tr>\n    <tr>\n      <th>4</th>\n      <td>Tallahassee</td>\n      <td>Florida</td>\n      <td>2.60</td>\n      <td>3</td>\n    </tr>\n    <tr>\n      <th>5</th>\n      <td>Sacramento</td>\n      <td>California</td>\n      <td>1.70</td>\n      <td>5</td>\n    </tr>\n  </tbody>\n</table>\n</div>",
      "text/plain": "             a           b     c  d\n0      Atlanta     Georgia  1.25  6\n1  Tallahassee     Florida  2.60  3\n2   Sacramento  California  1.70  5\n3      Atlanta     Georgia  1.25  6\n4  Tallahassee     Florida  2.60  3\n5   Sacramento  California  1.70  5"
     },
     "execution_count": 205,
     "metadata": {},
     "output_type": "execute_result"
    }
   ],
   "source": [
    "pd.DataFrame(rows, columns=[x[0] for x in cursor.description])"
   ]
  },
  {
   "cell_type": "code",
   "execution_count": 206,
   "metadata": {},
   "outputs": [],
   "source": [
    "import sqlalchemy as sqla"
   ]
  },
  {
   "cell_type": "code",
   "execution_count": 207,
   "metadata": {},
   "outputs": [],
   "source": [
    "db  =  sqla.create_engine('sqlite:///files/mydata.sqlite')"
   ]
  },
  {
   "cell_type": "code",
   "execution_count": 208,
   "metadata": {},
   "outputs": [
    {
     "data": {
      "text/html": "<div>\n<style scoped>\n    .dataframe tbody tr th:only-of-type {\n        vertical-align: middle;\n    }\n\n    .dataframe tbody tr th {\n        vertical-align: top;\n    }\n\n    .dataframe thead th {\n        text-align: right;\n    }\n</style>\n<table border=\"1\" class=\"dataframe\">\n  <thead>\n    <tr style=\"text-align: right;\">\n      <th></th>\n      <th>a</th>\n      <th>b</th>\n      <th>c</th>\n      <th>d</th>\n    </tr>\n  </thead>\n  <tbody>\n    <tr>\n      <th>0</th>\n      <td>Atlanta</td>\n      <td>Georgia</td>\n      <td>1.25</td>\n      <td>6</td>\n    </tr>\n    <tr>\n      <th>1</th>\n      <td>Tallahassee</td>\n      <td>Florida</td>\n      <td>2.60</td>\n      <td>3</td>\n    </tr>\n    <tr>\n      <th>2</th>\n      <td>Sacramento</td>\n      <td>California</td>\n      <td>1.70</td>\n      <td>5</td>\n    </tr>\n    <tr>\n      <th>3</th>\n      <td>Atlanta</td>\n      <td>Georgia</td>\n      <td>1.25</td>\n      <td>6</td>\n    </tr>\n    <tr>\n      <th>4</th>\n      <td>Tallahassee</td>\n      <td>Florida</td>\n      <td>2.60</td>\n      <td>3</td>\n    </tr>\n    <tr>\n      <th>5</th>\n      <td>Sacramento</td>\n      <td>California</td>\n      <td>1.70</td>\n      <td>5</td>\n    </tr>\n  </tbody>\n</table>\n</div>",
      "text/plain": "             a           b     c  d\n0      Atlanta     Georgia  1.25  6\n1  Tallahassee     Florida  2.60  3\n2   Sacramento  California  1.70  5\n3      Atlanta     Georgia  1.25  6\n4  Tallahassee     Florida  2.60  3\n5   Sacramento  California  1.70  5"
     },
     "execution_count": 208,
     "metadata": {},
     "output_type": "execute_result"
    }
   ],
   "source": [
    "pd.read_sql('SELECT * FROM test', db)"
   ]
  }
 ],
 "metadata": {
  "kernelspec": {
   "display_name": "Python 3",
   "language": "python",
   "name": "python3"
  },
  "language_info": {
   "codemirror_mode": {
    "name": "ipython",
    "version": 3
   },
   "file_extension": ".py",
   "mimetype": "text/x-python",
   "name": "python",
   "nbconvert_exporter": "python",
   "pygments_lexer": "ipython3",
   "version": "3.8.5"
  }
 },
 "nbformat": 4,
 "nbformat_minor": 2
}