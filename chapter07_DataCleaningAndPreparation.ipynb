{
 "cells": [
  {
   "cell_type": "markdown",
   "metadata": {},
   "source": [
    "# CHAPTER 07 - DATA CLEANING AND PREPARATION"
   ]
  },
  {
   "cell_type": "markdown",
   "metadata": {},
   "source": [
    "## HANDILING MISSING DATA"
   ]
  },
  {
   "cell_type": "code",
   "execution_count": 1,
   "metadata": {},
   "outputs": [],
   "source": [
    "import pandas as pd\n",
    "import numpy as np"
   ]
  },
  {
   "cell_type": "code",
   "execution_count": 2,
   "metadata": {},
   "outputs": [],
   "source": [
    "string_data = pd.Series(['aardvark', 'artichoke', np.nan, 'avocado'])"
   ]
  },
  {
   "cell_type": "code",
   "execution_count": 3,
   "metadata": {},
   "outputs": [
    {
     "data": {
      "text/plain": "0     aardvark\n1    artichoke\n2          NaN\n3      avocado\ndtype: object"
     },
     "execution_count": 3,
     "metadata": {},
     "output_type": "execute_result"
    }
   ],
   "source": [
    "string_data"
   ]
  },
  {
   "cell_type": "code",
   "execution_count": 4,
   "metadata": {},
   "outputs": [
    {
     "data": {
      "text/plain": "0    False\n1    False\n2     True\n3    False\ndtype: bool"
     },
     "execution_count": 4,
     "metadata": {},
     "output_type": "execute_result"
    }
   ],
   "source": [
    "string_data.isnull()"
   ]
  },
  {
   "cell_type": "code",
   "execution_count": 5,
   "metadata": {},
   "outputs": [],
   "source": [
    "string_data[0] = None"
   ]
  },
  {
   "cell_type": "code",
   "execution_count": 6,
   "metadata": {},
   "outputs": [
    {
     "data": {
      "text/plain": "0         None\n1    artichoke\n2          NaN\n3      avocado\ndtype: object"
     },
     "execution_count": 6,
     "metadata": {},
     "output_type": "execute_result"
    }
   ],
   "source": [
    "string_data"
   ]
  },
  {
   "cell_type": "code",
   "execution_count": 7,
   "metadata": {},
   "outputs": [
    {
     "data": {
      "text/plain": "0     True\n1    False\n2     True\n3    False\ndtype: bool"
     },
     "execution_count": 7,
     "metadata": {},
     "output_type": "execute_result"
    }
   ],
   "source": [
    "string_data.isnull()"
   ]
  },
  {
   "cell_type": "markdown",
   "metadata": {},
   "source": [
    "## FILTERING OUT MISSING DATA"
   ]
  },
  {
   "cell_type": "code",
   "execution_count": 9,
   "metadata": {},
   "outputs": [],
   "source": [
    "from numpy import nan as NA"
   ]
  },
  {
   "cell_type": "code",
   "execution_count": 10,
   "metadata": {},
   "outputs": [],
   "source": [
    "data = pd.Series([1, NA, 3.5, NA, 7])"
   ]
  },
  {
   "cell_type": "code",
   "execution_count": 11,
   "metadata": {},
   "outputs": [
    {
     "data": {
      "text/plain": "0    1.0\n1    NaN\n2    3.5\n3    NaN\n4    7.0\ndtype: float64"
     },
     "execution_count": 11,
     "metadata": {},
     "output_type": "execute_result"
    }
   ],
   "source": [
    "data"
   ]
  },
  {
   "cell_type": "code",
   "execution_count": 12,
   "metadata": {},
   "outputs": [
    {
     "data": {
      "text/plain": "0    1.0\n2    3.5\n4    7.0\ndtype: float64"
     },
     "execution_count": 12,
     "metadata": {},
     "output_type": "execute_result"
    }
   ],
   "source": [
    "data.dropna()"
   ]
  },
  {
   "cell_type": "code",
   "execution_count": 13,
   "metadata": {},
   "outputs": [
    {
     "data": {
      "text/plain": "0    1.0\n1    NaN\n2    3.5\n3    NaN\n4    7.0\ndtype: float64"
     },
     "execution_count": 13,
     "metadata": {},
     "output_type": "execute_result"
    }
   ],
   "source": [
    "data"
   ]
  },
  {
   "cell_type": "code",
   "execution_count": 14,
   "metadata": {},
   "outputs": [],
   "source": [
    "data.dropna(inplace=True)"
   ]
  },
  {
   "cell_type": "code",
   "execution_count": 15,
   "metadata": {},
   "outputs": [
    {
     "data": {
      "text/plain": "0    1.0\n2    3.5\n4    7.0\ndtype: float64"
     },
     "execution_count": 15,
     "metadata": {},
     "output_type": "execute_result"
    }
   ],
   "source": [
    "data"
   ]
  },
  {
   "cell_type": "code",
   "execution_count": 16,
   "metadata": {},
   "outputs": [],
   "source": [
    "data = pd.DataFrame([[1., 6.5, 3.], [1., NA, NA],[NA, NA, NA], [NA, 6.5, 3.]])"
   ]
  },
  {
   "cell_type": "code",
   "execution_count": 17,
   "metadata": {},
   "outputs": [
    {
     "data": {
      "text/html": "<div>\n<style scoped>\n    .dataframe tbody tr th:only-of-type {\n        vertical-align: middle;\n    }\n\n    .dataframe tbody tr th {\n        vertical-align: top;\n    }\n\n    .dataframe thead th {\n        text-align: right;\n    }\n</style>\n<table border=\"1\" class=\"dataframe\">\n  <thead>\n    <tr style=\"text-align: right;\">\n      <th></th>\n      <th>0</th>\n      <th>1</th>\n      <th>2</th>\n    </tr>\n  </thead>\n  <tbody>\n    <tr>\n      <th>0</th>\n      <td>1.0</td>\n      <td>6.5</td>\n      <td>3.0</td>\n    </tr>\n    <tr>\n      <th>1</th>\n      <td>1.0</td>\n      <td>NaN</td>\n      <td>NaN</td>\n    </tr>\n    <tr>\n      <th>2</th>\n      <td>NaN</td>\n      <td>NaN</td>\n      <td>NaN</td>\n    </tr>\n    <tr>\n      <th>3</th>\n      <td>NaN</td>\n      <td>6.5</td>\n      <td>3.0</td>\n    </tr>\n  </tbody>\n</table>\n</div>",
      "text/plain": "     0    1    2\n0  1.0  6.5  3.0\n1  1.0  NaN  NaN\n2  NaN  NaN  NaN\n3  NaN  6.5  3.0"
     },
     "execution_count": 17,
     "metadata": {},
     "output_type": "execute_result"
    }
   ],
   "source": [
    "data"
   ]
  },
  {
   "cell_type": "code",
   "execution_count": 18,
   "metadata": {},
   "outputs": [],
   "source": [
    "cleaned = data.dropna()"
   ]
  },
  {
   "cell_type": "code",
   "execution_count": 19,
   "metadata": {},
   "outputs": [
    {
     "data": {
      "text/html": "<div>\n<style scoped>\n    .dataframe tbody tr th:only-of-type {\n        vertical-align: middle;\n    }\n\n    .dataframe tbody tr th {\n        vertical-align: top;\n    }\n\n    .dataframe thead th {\n        text-align: right;\n    }\n</style>\n<table border=\"1\" class=\"dataframe\">\n  <thead>\n    <tr style=\"text-align: right;\">\n      <th></th>\n      <th>0</th>\n      <th>1</th>\n      <th>2</th>\n    </tr>\n  </thead>\n  <tbody>\n    <tr>\n      <th>0</th>\n      <td>1.0</td>\n      <td>6.5</td>\n      <td>3.0</td>\n    </tr>\n  </tbody>\n</table>\n</div>",
      "text/plain": "     0    1    2\n0  1.0  6.5  3.0"
     },
     "execution_count": 19,
     "metadata": {},
     "output_type": "execute_result"
    }
   ],
   "source": [
    "cleaned"
   ]
  },
  {
   "cell_type": "code",
   "execution_count": 21,
   "metadata": {},
   "outputs": [
    {
     "data": {
      "text/html": "<div>\n<style scoped>\n    .dataframe tbody tr th:only-of-type {\n        vertical-align: middle;\n    }\n\n    .dataframe tbody tr th {\n        vertical-align: top;\n    }\n\n    .dataframe thead th {\n        text-align: right;\n    }\n</style>\n<table border=\"1\" class=\"dataframe\">\n  <thead>\n    <tr style=\"text-align: right;\">\n      <th></th>\n      <th>0</th>\n      <th>1</th>\n      <th>2</th>\n    </tr>\n  </thead>\n  <tbody>\n    <tr>\n      <th>0</th>\n      <td>1.0</td>\n      <td>6.5</td>\n      <td>3.0</td>\n    </tr>\n    <tr>\n      <th>1</th>\n      <td>1.0</td>\n      <td>NaN</td>\n      <td>NaN</td>\n    </tr>\n    <tr>\n      <th>3</th>\n      <td>NaN</td>\n      <td>6.5</td>\n      <td>3.0</td>\n    </tr>\n  </tbody>\n</table>\n</div>",
      "text/plain": "     0    1    2\n0  1.0  6.5  3.0\n1  1.0  NaN  NaN\n3  NaN  6.5  3.0"
     },
     "execution_count": 21,
     "metadata": {},
     "output_type": "execute_result"
    }
   ],
   "source": [
    "data.dropna(how='all')"
   ]
  },
  {
   "cell_type": "code",
   "execution_count": 22,
   "metadata": {},
   "outputs": [],
   "source": [
    "data[4] = NA"
   ]
  },
  {
   "cell_type": "code",
   "execution_count": 23,
   "metadata": {},
   "outputs": [
    {
     "data": {
      "text/html": "<div>\n<style scoped>\n    .dataframe tbody tr th:only-of-type {\n        vertical-align: middle;\n    }\n\n    .dataframe tbody tr th {\n        vertical-align: top;\n    }\n\n    .dataframe thead th {\n        text-align: right;\n    }\n</style>\n<table border=\"1\" class=\"dataframe\">\n  <thead>\n    <tr style=\"text-align: right;\">\n      <th></th>\n      <th>0</th>\n      <th>1</th>\n      <th>2</th>\n      <th>4</th>\n    </tr>\n  </thead>\n  <tbody>\n    <tr>\n      <th>0</th>\n      <td>1.0</td>\n      <td>6.5</td>\n      <td>3.0</td>\n      <td>NaN</td>\n    </tr>\n    <tr>\n      <th>1</th>\n      <td>1.0</td>\n      <td>NaN</td>\n      <td>NaN</td>\n      <td>NaN</td>\n    </tr>\n    <tr>\n      <th>2</th>\n      <td>NaN</td>\n      <td>NaN</td>\n      <td>NaN</td>\n      <td>NaN</td>\n    </tr>\n    <tr>\n      <th>3</th>\n      <td>NaN</td>\n      <td>6.5</td>\n      <td>3.0</td>\n      <td>NaN</td>\n    </tr>\n  </tbody>\n</table>\n</div>",
      "text/plain": "     0    1    2   4\n0  1.0  6.5  3.0 NaN\n1  1.0  NaN  NaN NaN\n2  NaN  NaN  NaN NaN\n3  NaN  6.5  3.0 NaN"
     },
     "execution_count": 23,
     "metadata": {},
     "output_type": "execute_result"
    }
   ],
   "source": [
    "data"
   ]
  },
  {
   "cell_type": "code",
   "execution_count": 25,
   "metadata": {},
   "outputs": [
    {
     "data": {
      "text/html": "<div>\n<style scoped>\n    .dataframe tbody tr th:only-of-type {\n        vertical-align: middle;\n    }\n\n    .dataframe tbody tr th {\n        vertical-align: top;\n    }\n\n    .dataframe thead th {\n        text-align: right;\n    }\n</style>\n<table border=\"1\" class=\"dataframe\">\n  <thead>\n    <tr style=\"text-align: right;\">\n      <th></th>\n      <th>0</th>\n      <th>1</th>\n      <th>2</th>\n    </tr>\n  </thead>\n  <tbody>\n    <tr>\n      <th>0</th>\n      <td>1.0</td>\n      <td>6.5</td>\n      <td>3.0</td>\n    </tr>\n    <tr>\n      <th>1</th>\n      <td>1.0</td>\n      <td>NaN</td>\n      <td>NaN</td>\n    </tr>\n    <tr>\n      <th>2</th>\n      <td>NaN</td>\n      <td>NaN</td>\n      <td>NaN</td>\n    </tr>\n    <tr>\n      <th>3</th>\n      <td>NaN</td>\n      <td>6.5</td>\n      <td>3.0</td>\n    </tr>\n  </tbody>\n</table>\n</div>",
      "text/plain": "     0    1    2\n0  1.0  6.5  3.0\n1  1.0  NaN  NaN\n2  NaN  NaN  NaN\n3  NaN  6.5  3.0"
     },
     "execution_count": 25,
     "metadata": {},
     "output_type": "execute_result"
    }
   ],
   "source": [
    "data.dropna(axis=1, how='all')"
   ]
  },
  {
   "cell_type": "code",
   "execution_count": 26,
   "metadata": {},
   "outputs": [],
   "source": [
    "df = pd.DataFrame(np.random.randn(7,3))"
   ]
  },
  {
   "cell_type": "code",
   "execution_count": 27,
   "metadata": {},
   "outputs": [
    {
     "data": {
      "text/html": "<div>\n<style scoped>\n    .dataframe tbody tr th:only-of-type {\n        vertical-align: middle;\n    }\n\n    .dataframe tbody tr th {\n        vertical-align: top;\n    }\n\n    .dataframe thead th {\n        text-align: right;\n    }\n</style>\n<table border=\"1\" class=\"dataframe\">\n  <thead>\n    <tr style=\"text-align: right;\">\n      <th></th>\n      <th>0</th>\n      <th>1</th>\n      <th>2</th>\n    </tr>\n  </thead>\n  <tbody>\n    <tr>\n      <th>0</th>\n      <td>0.088695</td>\n      <td>-0.732912</td>\n      <td>-0.469802</td>\n    </tr>\n    <tr>\n      <th>1</th>\n      <td>1.321890</td>\n      <td>1.566563</td>\n      <td>-0.317430</td>\n    </tr>\n    <tr>\n      <th>2</th>\n      <td>-0.100747</td>\n      <td>-0.043977</td>\n      <td>1.551595</td>\n    </tr>\n    <tr>\n      <th>3</th>\n      <td>-0.459046</td>\n      <td>-1.435905</td>\n      <td>-2.736256</td>\n    </tr>\n    <tr>\n      <th>4</th>\n      <td>0.063026</td>\n      <td>-0.294556</td>\n      <td>1.256250</td>\n    </tr>\n    <tr>\n      <th>5</th>\n      <td>0.322530</td>\n      <td>-0.773284</td>\n      <td>-0.970637</td>\n    </tr>\n    <tr>\n      <th>6</th>\n      <td>1.103354</td>\n      <td>0.340005</td>\n      <td>0.353191</td>\n    </tr>\n  </tbody>\n</table>\n</div>",
      "text/plain": "          0         1         2\n0  0.088695 -0.732912 -0.469802\n1  1.321890  1.566563 -0.317430\n2 -0.100747 -0.043977  1.551595\n3 -0.459046 -1.435905 -2.736256\n4  0.063026 -0.294556  1.256250\n5  0.322530 -0.773284 -0.970637\n6  1.103354  0.340005  0.353191"
     },
     "execution_count": 27,
     "metadata": {},
     "output_type": "execute_result"
    }
   ],
   "source": [
    "df"
   ]
  },
  {
   "cell_type": "code",
   "execution_count": 28,
   "metadata": {},
   "outputs": [],
   "source": [
    "df.iloc[:4, 1] = NA"
   ]
  },
  {
   "cell_type": "code",
   "execution_count": 29,
   "metadata": {},
   "outputs": [
    {
     "data": {
      "text/html": "<div>\n<style scoped>\n    .dataframe tbody tr th:only-of-type {\n        vertical-align: middle;\n    }\n\n    .dataframe tbody tr th {\n        vertical-align: top;\n    }\n\n    .dataframe thead th {\n        text-align: right;\n    }\n</style>\n<table border=\"1\" class=\"dataframe\">\n  <thead>\n    <tr style=\"text-align: right;\">\n      <th></th>\n      <th>0</th>\n      <th>1</th>\n      <th>2</th>\n    </tr>\n  </thead>\n  <tbody>\n    <tr>\n      <th>0</th>\n      <td>0.088695</td>\n      <td>NaN</td>\n      <td>-0.469802</td>\n    </tr>\n    <tr>\n      <th>1</th>\n      <td>1.321890</td>\n      <td>NaN</td>\n      <td>-0.317430</td>\n    </tr>\n    <tr>\n      <th>2</th>\n      <td>-0.100747</td>\n      <td>NaN</td>\n      <td>1.551595</td>\n    </tr>\n    <tr>\n      <th>3</th>\n      <td>-0.459046</td>\n      <td>NaN</td>\n      <td>-2.736256</td>\n    </tr>\n    <tr>\n      <th>4</th>\n      <td>0.063026</td>\n      <td>-0.294556</td>\n      <td>1.256250</td>\n    </tr>\n    <tr>\n      <th>5</th>\n      <td>0.322530</td>\n      <td>-0.773284</td>\n      <td>-0.970637</td>\n    </tr>\n    <tr>\n      <th>6</th>\n      <td>1.103354</td>\n      <td>0.340005</td>\n      <td>0.353191</td>\n    </tr>\n  </tbody>\n</table>\n</div>",
      "text/plain": "          0         1         2\n0  0.088695       NaN -0.469802\n1  1.321890       NaN -0.317430\n2 -0.100747       NaN  1.551595\n3 -0.459046       NaN -2.736256\n4  0.063026 -0.294556  1.256250\n5  0.322530 -0.773284 -0.970637\n6  1.103354  0.340005  0.353191"
     },
     "execution_count": 29,
     "metadata": {},
     "output_type": "execute_result"
    }
   ],
   "source": [
    "df"
   ]
  },
  {
   "cell_type": "code",
   "execution_count": 31,
   "metadata": {},
   "outputs": [],
   "source": [
    "df.iloc[:2, 2] = NA"
   ]
  },
  {
   "cell_type": "code",
   "execution_count": 32,
   "metadata": {},
   "outputs": [
    {
     "data": {
      "text/html": "<div>\n<style scoped>\n    .dataframe tbody tr th:only-of-type {\n        vertical-align: middle;\n    }\n\n    .dataframe tbody tr th {\n        vertical-align: top;\n    }\n\n    .dataframe thead th {\n        text-align: right;\n    }\n</style>\n<table border=\"1\" class=\"dataframe\">\n  <thead>\n    <tr style=\"text-align: right;\">\n      <th></th>\n      <th>0</th>\n      <th>1</th>\n      <th>2</th>\n    </tr>\n  </thead>\n  <tbody>\n    <tr>\n      <th>0</th>\n      <td>0.088695</td>\n      <td>NaN</td>\n      <td>NaN</td>\n    </tr>\n    <tr>\n      <th>1</th>\n      <td>1.321890</td>\n      <td>NaN</td>\n      <td>NaN</td>\n    </tr>\n    <tr>\n      <th>2</th>\n      <td>-0.100747</td>\n      <td>NaN</td>\n      <td>1.551595</td>\n    </tr>\n    <tr>\n      <th>3</th>\n      <td>-0.459046</td>\n      <td>NaN</td>\n      <td>-2.736256</td>\n    </tr>\n    <tr>\n      <th>4</th>\n      <td>0.063026</td>\n      <td>-0.294556</td>\n      <td>1.256250</td>\n    </tr>\n    <tr>\n      <th>5</th>\n      <td>0.322530</td>\n      <td>-0.773284</td>\n      <td>-0.970637</td>\n    </tr>\n    <tr>\n      <th>6</th>\n      <td>1.103354</td>\n      <td>0.340005</td>\n      <td>0.353191</td>\n    </tr>\n  </tbody>\n</table>\n</div>",
      "text/plain": "          0         1         2\n0  0.088695       NaN       NaN\n1  1.321890       NaN       NaN\n2 -0.100747       NaN  1.551595\n3 -0.459046       NaN -2.736256\n4  0.063026 -0.294556  1.256250\n5  0.322530 -0.773284 -0.970637\n6  1.103354  0.340005  0.353191"
     },
     "execution_count": 32,
     "metadata": {},
     "output_type": "execute_result"
    }
   ],
   "source": [
    "df"
   ]
  },
  {
   "cell_type": "code",
   "execution_count": 33,
   "metadata": {},
   "outputs": [
    {
     "data": {
      "text/html": "<div>\n<style scoped>\n    .dataframe tbody tr th:only-of-type {\n        vertical-align: middle;\n    }\n\n    .dataframe tbody tr th {\n        vertical-align: top;\n    }\n\n    .dataframe thead th {\n        text-align: right;\n    }\n</style>\n<table border=\"1\" class=\"dataframe\">\n  <thead>\n    <tr style=\"text-align: right;\">\n      <th></th>\n      <th>0</th>\n      <th>1</th>\n      <th>2</th>\n    </tr>\n  </thead>\n  <tbody>\n    <tr>\n      <th>4</th>\n      <td>0.063026</td>\n      <td>-0.294556</td>\n      <td>1.256250</td>\n    </tr>\n    <tr>\n      <th>5</th>\n      <td>0.322530</td>\n      <td>-0.773284</td>\n      <td>-0.970637</td>\n    </tr>\n    <tr>\n      <th>6</th>\n      <td>1.103354</td>\n      <td>0.340005</td>\n      <td>0.353191</td>\n    </tr>\n  </tbody>\n</table>\n</div>",
      "text/plain": "          0         1         2\n4  0.063026 -0.294556  1.256250\n5  0.322530 -0.773284 -0.970637\n6  1.103354  0.340005  0.353191"
     },
     "execution_count": 33,
     "metadata": {},
     "output_type": "execute_result"
    }
   ],
   "source": [
    "df.dropna()"
   ]
  },
  {
   "cell_type": "code",
   "execution_count": 34,
   "metadata": {},
   "outputs": [
    {
     "data": {
      "text/html": "<div>\n<style scoped>\n    .dataframe tbody tr th:only-of-type {\n        vertical-align: middle;\n    }\n\n    .dataframe tbody tr th {\n        vertical-align: top;\n    }\n\n    .dataframe thead th {\n        text-align: right;\n    }\n</style>\n<table border=\"1\" class=\"dataframe\">\n  <thead>\n    <tr style=\"text-align: right;\">\n      <th></th>\n      <th>0</th>\n      <th>1</th>\n      <th>2</th>\n    </tr>\n  </thead>\n  <tbody>\n    <tr>\n      <th>2</th>\n      <td>-0.100747</td>\n      <td>NaN</td>\n      <td>1.551595</td>\n    </tr>\n    <tr>\n      <th>3</th>\n      <td>-0.459046</td>\n      <td>NaN</td>\n      <td>-2.736256</td>\n    </tr>\n    <tr>\n      <th>4</th>\n      <td>0.063026</td>\n      <td>-0.294556</td>\n      <td>1.256250</td>\n    </tr>\n    <tr>\n      <th>5</th>\n      <td>0.322530</td>\n      <td>-0.773284</td>\n      <td>-0.970637</td>\n    </tr>\n    <tr>\n      <th>6</th>\n      <td>1.103354</td>\n      <td>0.340005</td>\n      <td>0.353191</td>\n    </tr>\n  </tbody>\n</table>\n</div>",
      "text/plain": "          0         1         2\n2 -0.100747       NaN  1.551595\n3 -0.459046       NaN -2.736256\n4  0.063026 -0.294556  1.256250\n5  0.322530 -0.773284 -0.970637\n6  1.103354  0.340005  0.353191"
     },
     "execution_count": 34,
     "metadata": {},
     "output_type": "execute_result"
    }
   ],
   "source": [
    "df.dropna(thresh=2)"
   ]
  },
  {
   "cell_type": "markdown",
   "metadata": {},
   "source": [
    "## FILLINING IN MISSING DATA"
   ]
  },
  {
   "cell_type": "code",
   "execution_count": 37,
   "metadata": {},
   "outputs": [
    {
     "data": {
      "text/html": "<div>\n<style scoped>\n    .dataframe tbody tr th:only-of-type {\n        vertical-align: middle;\n    }\n\n    .dataframe tbody tr th {\n        vertical-align: top;\n    }\n\n    .dataframe thead th {\n        text-align: right;\n    }\n</style>\n<table border=\"1\" class=\"dataframe\">\n  <thead>\n    <tr style=\"text-align: right;\">\n      <th></th>\n      <th>0</th>\n      <th>1</th>\n      <th>2</th>\n    </tr>\n  </thead>\n  <tbody>\n    <tr>\n      <th>0</th>\n      <td>0.088695</td>\n      <td>0.000000</td>\n      <td>0.000000</td>\n    </tr>\n    <tr>\n      <th>1</th>\n      <td>1.321890</td>\n      <td>0.000000</td>\n      <td>0.000000</td>\n    </tr>\n    <tr>\n      <th>2</th>\n      <td>-0.100747</td>\n      <td>0.000000</td>\n      <td>1.551595</td>\n    </tr>\n    <tr>\n      <th>3</th>\n      <td>-0.459046</td>\n      <td>0.000000</td>\n      <td>-2.736256</td>\n    </tr>\n    <tr>\n      <th>4</th>\n      <td>0.063026</td>\n      <td>-0.294556</td>\n      <td>1.256250</td>\n    </tr>\n    <tr>\n      <th>5</th>\n      <td>0.322530</td>\n      <td>-0.773284</td>\n      <td>-0.970637</td>\n    </tr>\n    <tr>\n      <th>6</th>\n      <td>1.103354</td>\n      <td>0.340005</td>\n      <td>0.353191</td>\n    </tr>\n  </tbody>\n</table>\n</div>",
      "text/plain": "          0         1         2\n0  0.088695  0.000000  0.000000\n1  1.321890  0.000000  0.000000\n2 -0.100747  0.000000  1.551595\n3 -0.459046  0.000000 -2.736256\n4  0.063026 -0.294556  1.256250\n5  0.322530 -0.773284 -0.970637\n6  1.103354  0.340005  0.353191"
     },
     "execution_count": 37,
     "metadata": {},
     "output_type": "execute_result"
    }
   ],
   "source": [
    "df.fillna(0)"
   ]
  },
  {
   "cell_type": "code",
   "execution_count": 38,
   "metadata": {},
   "outputs": [
    {
     "data": {
      "text/html": "<div>\n<style scoped>\n    .dataframe tbody tr th:only-of-type {\n        vertical-align: middle;\n    }\n\n    .dataframe tbody tr th {\n        vertical-align: top;\n    }\n\n    .dataframe thead th {\n        text-align: right;\n    }\n</style>\n<table border=\"1\" class=\"dataframe\">\n  <thead>\n    <tr style=\"text-align: right;\">\n      <th></th>\n      <th>0</th>\n      <th>1</th>\n      <th>2</th>\n    </tr>\n  </thead>\n  <tbody>\n    <tr>\n      <th>0</th>\n      <td>0.088695</td>\n      <td>0.500000</td>\n      <td>0.000000</td>\n    </tr>\n    <tr>\n      <th>1</th>\n      <td>1.321890</td>\n      <td>0.500000</td>\n      <td>0.000000</td>\n    </tr>\n    <tr>\n      <th>2</th>\n      <td>-0.100747</td>\n      <td>0.500000</td>\n      <td>1.551595</td>\n    </tr>\n    <tr>\n      <th>3</th>\n      <td>-0.459046</td>\n      <td>0.500000</td>\n      <td>-2.736256</td>\n    </tr>\n    <tr>\n      <th>4</th>\n      <td>0.063026</td>\n      <td>-0.294556</td>\n      <td>1.256250</td>\n    </tr>\n    <tr>\n      <th>5</th>\n      <td>0.322530</td>\n      <td>-0.773284</td>\n      <td>-0.970637</td>\n    </tr>\n    <tr>\n      <th>6</th>\n      <td>1.103354</td>\n      <td>0.340005</td>\n      <td>0.353191</td>\n    </tr>\n  </tbody>\n</table>\n</div>",
      "text/plain": "          0         1         2\n0  0.088695  0.500000  0.000000\n1  1.321890  0.500000  0.000000\n2 -0.100747  0.500000  1.551595\n3 -0.459046  0.500000 -2.736256\n4  0.063026 -0.294556  1.256250\n5  0.322530 -0.773284 -0.970637\n6  1.103354  0.340005  0.353191"
     },
     "execution_count": 38,
     "metadata": {},
     "output_type": "execute_result"
    }
   ],
   "source": [
    "df.fillna({1: 0.5, 2: 0})"
   ]
  },
  {
   "cell_type": "code",
   "execution_count": 39,
   "metadata": {},
   "outputs": [],
   "source": [
    "_ = df.fillna(0, inplace=True)"
   ]
  },
  {
   "cell_type": "code",
   "execution_count": 40,
   "metadata": {},
   "outputs": [
    {
     "data": {
      "text/html": "<div>\n<style scoped>\n    .dataframe tbody tr th:only-of-type {\n        vertical-align: middle;\n    }\n\n    .dataframe tbody tr th {\n        vertical-align: top;\n    }\n\n    .dataframe thead th {\n        text-align: right;\n    }\n</style>\n<table border=\"1\" class=\"dataframe\">\n  <thead>\n    <tr style=\"text-align: right;\">\n      <th></th>\n      <th>0</th>\n      <th>1</th>\n      <th>2</th>\n    </tr>\n  </thead>\n  <tbody>\n    <tr>\n      <th>0</th>\n      <td>0.088695</td>\n      <td>0.000000</td>\n      <td>0.000000</td>\n    </tr>\n    <tr>\n      <th>1</th>\n      <td>1.321890</td>\n      <td>0.000000</td>\n      <td>0.000000</td>\n    </tr>\n    <tr>\n      <th>2</th>\n      <td>-0.100747</td>\n      <td>0.000000</td>\n      <td>1.551595</td>\n    </tr>\n    <tr>\n      <th>3</th>\n      <td>-0.459046</td>\n      <td>0.000000</td>\n      <td>-2.736256</td>\n    </tr>\n    <tr>\n      <th>4</th>\n      <td>0.063026</td>\n      <td>-0.294556</td>\n      <td>1.256250</td>\n    </tr>\n    <tr>\n      <th>5</th>\n      <td>0.322530</td>\n      <td>-0.773284</td>\n      <td>-0.970637</td>\n    </tr>\n    <tr>\n      <th>6</th>\n      <td>1.103354</td>\n      <td>0.340005</td>\n      <td>0.353191</td>\n    </tr>\n  </tbody>\n</table>\n</div>",
      "text/plain": "          0         1         2\n0  0.088695  0.000000  0.000000\n1  1.321890  0.000000  0.000000\n2 -0.100747  0.000000  1.551595\n3 -0.459046  0.000000 -2.736256\n4  0.063026 -0.294556  1.256250\n5  0.322530 -0.773284 -0.970637\n6  1.103354  0.340005  0.353191"
     },
     "execution_count": 40,
     "metadata": {},
     "output_type": "execute_result"
    }
   ],
   "source": [
    "df"
   ]
  },
  {
   "cell_type": "code",
   "execution_count": 41,
   "metadata": {},
   "outputs": [],
   "source": [
    "df = pd.DataFrame(np.random.randn(6, 3))"
   ]
  },
  {
   "cell_type": "code",
   "execution_count": 42,
   "metadata": {},
   "outputs": [
    {
     "data": {
      "text/html": "<div>\n<style scoped>\n    .dataframe tbody tr th:only-of-type {\n        vertical-align: middle;\n    }\n\n    .dataframe tbody tr th {\n        vertical-align: top;\n    }\n\n    .dataframe thead th {\n        text-align: right;\n    }\n</style>\n<table border=\"1\" class=\"dataframe\">\n  <thead>\n    <tr style=\"text-align: right;\">\n      <th></th>\n      <th>0</th>\n      <th>1</th>\n      <th>2</th>\n    </tr>\n  </thead>\n  <tbody>\n    <tr>\n      <th>0</th>\n      <td>-0.616699</td>\n      <td>-1.093488</td>\n      <td>-0.889186</td>\n    </tr>\n    <tr>\n      <th>1</th>\n      <td>-0.894985</td>\n      <td>1.950260</td>\n      <td>-0.539130</td>\n    </tr>\n    <tr>\n      <th>2</th>\n      <td>0.549203</td>\n      <td>1.208315</td>\n      <td>-0.471867</td>\n    </tr>\n    <tr>\n      <th>3</th>\n      <td>-1.440860</td>\n      <td>0.655387</td>\n      <td>-0.759680</td>\n    </tr>\n    <tr>\n      <th>4</th>\n      <td>-0.544441</td>\n      <td>1.943526</td>\n      <td>0.457472</td>\n    </tr>\n    <tr>\n      <th>5</th>\n      <td>0.196416</td>\n      <td>-1.294130</td>\n      <td>0.162320</td>\n    </tr>\n  </tbody>\n</table>\n</div>",
      "text/plain": "          0         1         2\n0 -0.616699 -1.093488 -0.889186\n1 -0.894985  1.950260 -0.539130\n2  0.549203  1.208315 -0.471867\n3 -1.440860  0.655387 -0.759680\n4 -0.544441  1.943526  0.457472\n5  0.196416 -1.294130  0.162320"
     },
     "execution_count": 42,
     "metadata": {},
     "output_type": "execute_result"
    }
   ],
   "source": [
    "df"
   ]
  },
  {
   "cell_type": "code",
   "execution_count": 45,
   "metadata": {},
   "outputs": [],
   "source": [
    "df.iloc[2:, 1] = NA"
   ]
  },
  {
   "cell_type": "code",
   "execution_count": 46,
   "metadata": {},
   "outputs": [
    {
     "data": {
      "text/html": "<div>\n<style scoped>\n    .dataframe tbody tr th:only-of-type {\n        vertical-align: middle;\n    }\n\n    .dataframe tbody tr th {\n        vertical-align: top;\n    }\n\n    .dataframe thead th {\n        text-align: right;\n    }\n</style>\n<table border=\"1\" class=\"dataframe\">\n  <thead>\n    <tr style=\"text-align: right;\">\n      <th></th>\n      <th>0</th>\n      <th>1</th>\n      <th>2</th>\n    </tr>\n  </thead>\n  <tbody>\n    <tr>\n      <th>0</th>\n      <td>-0.616699</td>\n      <td>-1.093488</td>\n      <td>-0.889186</td>\n    </tr>\n    <tr>\n      <th>1</th>\n      <td>-0.894985</td>\n      <td>1.950260</td>\n      <td>-0.539130</td>\n    </tr>\n    <tr>\n      <th>2</th>\n      <td>0.549203</td>\n      <td>NaN</td>\n      <td>-0.471867</td>\n    </tr>\n    <tr>\n      <th>3</th>\n      <td>-1.440860</td>\n      <td>NaN</td>\n      <td>-0.759680</td>\n    </tr>\n    <tr>\n      <th>4</th>\n      <td>-0.544441</td>\n      <td>NaN</td>\n      <td>0.457472</td>\n    </tr>\n    <tr>\n      <th>5</th>\n      <td>0.196416</td>\n      <td>NaN</td>\n      <td>0.162320</td>\n    </tr>\n  </tbody>\n</table>\n</div>",
      "text/plain": "          0         1         2\n0 -0.616699 -1.093488 -0.889186\n1 -0.894985  1.950260 -0.539130\n2  0.549203       NaN -0.471867\n3 -1.440860       NaN -0.759680\n4 -0.544441       NaN  0.457472\n5  0.196416       NaN  0.162320"
     },
     "execution_count": 46,
     "metadata": {},
     "output_type": "execute_result"
    }
   ],
   "source": [
    "df"
   ]
  },
  {
   "cell_type": "code",
   "execution_count": 47,
   "metadata": {},
   "outputs": [],
   "source": [
    "df.iloc[4:, 2] = NA"
   ]
  },
  {
   "cell_type": "code",
   "execution_count": 48,
   "metadata": {},
   "outputs": [
    {
     "data": {
      "text/html": "<div>\n<style scoped>\n    .dataframe tbody tr th:only-of-type {\n        vertical-align: middle;\n    }\n\n    .dataframe tbody tr th {\n        vertical-align: top;\n    }\n\n    .dataframe thead th {\n        text-align: right;\n    }\n</style>\n<table border=\"1\" class=\"dataframe\">\n  <thead>\n    <tr style=\"text-align: right;\">\n      <th></th>\n      <th>0</th>\n      <th>1</th>\n      <th>2</th>\n    </tr>\n  </thead>\n  <tbody>\n    <tr>\n      <th>0</th>\n      <td>-0.616699</td>\n      <td>-1.093488</td>\n      <td>-0.889186</td>\n    </tr>\n    <tr>\n      <th>1</th>\n      <td>-0.894985</td>\n      <td>1.950260</td>\n      <td>-0.539130</td>\n    </tr>\n    <tr>\n      <th>2</th>\n      <td>0.549203</td>\n      <td>NaN</td>\n      <td>-0.471867</td>\n    </tr>\n    <tr>\n      <th>3</th>\n      <td>-1.440860</td>\n      <td>NaN</td>\n      <td>-0.759680</td>\n    </tr>\n    <tr>\n      <th>4</th>\n      <td>-0.544441</td>\n      <td>NaN</td>\n      <td>NaN</td>\n    </tr>\n    <tr>\n      <th>5</th>\n      <td>0.196416</td>\n      <td>NaN</td>\n      <td>NaN</td>\n    </tr>\n  </tbody>\n</table>\n</div>",
      "text/plain": "          0         1         2\n0 -0.616699 -1.093488 -0.889186\n1 -0.894985  1.950260 -0.539130\n2  0.549203       NaN -0.471867\n3 -1.440860       NaN -0.759680\n4 -0.544441       NaN       NaN\n5  0.196416       NaN       NaN"
     },
     "execution_count": 48,
     "metadata": {},
     "output_type": "execute_result"
    }
   ],
   "source": [
    "df"
   ]
  },
  {
   "cell_type": "code",
   "execution_count": 49,
   "metadata": {},
   "outputs": [
    {
     "data": {
      "text/html": "<div>\n<style scoped>\n    .dataframe tbody tr th:only-of-type {\n        vertical-align: middle;\n    }\n\n    .dataframe tbody tr th {\n        vertical-align: top;\n    }\n\n    .dataframe thead th {\n        text-align: right;\n    }\n</style>\n<table border=\"1\" class=\"dataframe\">\n  <thead>\n    <tr style=\"text-align: right;\">\n      <th></th>\n      <th>0</th>\n      <th>1</th>\n      <th>2</th>\n    </tr>\n  </thead>\n  <tbody>\n    <tr>\n      <th>0</th>\n      <td>-0.616699</td>\n      <td>-1.093488</td>\n      <td>-0.889186</td>\n    </tr>\n    <tr>\n      <th>1</th>\n      <td>-0.894985</td>\n      <td>1.950260</td>\n      <td>-0.539130</td>\n    </tr>\n    <tr>\n      <th>2</th>\n      <td>0.549203</td>\n      <td>1.950260</td>\n      <td>-0.471867</td>\n    </tr>\n    <tr>\n      <th>3</th>\n      <td>-1.440860</td>\n      <td>1.950260</td>\n      <td>-0.759680</td>\n    </tr>\n    <tr>\n      <th>4</th>\n      <td>-0.544441</td>\n      <td>1.950260</td>\n      <td>-0.759680</td>\n    </tr>\n    <tr>\n      <th>5</th>\n      <td>0.196416</td>\n      <td>1.950260</td>\n      <td>-0.759680</td>\n    </tr>\n  </tbody>\n</table>\n</div>",
      "text/plain": "          0         1         2\n0 -0.616699 -1.093488 -0.889186\n1 -0.894985  1.950260 -0.539130\n2  0.549203  1.950260 -0.471867\n3 -1.440860  1.950260 -0.759680\n4 -0.544441  1.950260 -0.759680\n5  0.196416  1.950260 -0.759680"
     },
     "execution_count": 49,
     "metadata": {},
     "output_type": "execute_result"
    }
   ],
   "source": [
    "df.fillna(method='ffill')"
   ]
  },
  {
   "cell_type": "code",
   "execution_count": 50,
   "metadata": {},
   "outputs": [
    {
     "data": {
      "text/html": "<div>\n<style scoped>\n    .dataframe tbody tr th:only-of-type {\n        vertical-align: middle;\n    }\n\n    .dataframe tbody tr th {\n        vertical-align: top;\n    }\n\n    .dataframe thead th {\n        text-align: right;\n    }\n</style>\n<table border=\"1\" class=\"dataframe\">\n  <thead>\n    <tr style=\"text-align: right;\">\n      <th></th>\n      <th>0</th>\n      <th>1</th>\n      <th>2</th>\n    </tr>\n  </thead>\n  <tbody>\n    <tr>\n      <th>0</th>\n      <td>-0.616699</td>\n      <td>-1.093488</td>\n      <td>-0.889186</td>\n    </tr>\n    <tr>\n      <th>1</th>\n      <td>-0.894985</td>\n      <td>1.950260</td>\n      <td>-0.539130</td>\n    </tr>\n    <tr>\n      <th>2</th>\n      <td>0.549203</td>\n      <td>1.950260</td>\n      <td>-0.471867</td>\n    </tr>\n    <tr>\n      <th>3</th>\n      <td>-1.440860</td>\n      <td>1.950260</td>\n      <td>-0.759680</td>\n    </tr>\n    <tr>\n      <th>4</th>\n      <td>-0.544441</td>\n      <td>NaN</td>\n      <td>-0.759680</td>\n    </tr>\n    <tr>\n      <th>5</th>\n      <td>0.196416</td>\n      <td>NaN</td>\n      <td>-0.759680</td>\n    </tr>\n  </tbody>\n</table>\n</div>",
      "text/plain": "          0         1         2\n0 -0.616699 -1.093488 -0.889186\n1 -0.894985  1.950260 -0.539130\n2  0.549203  1.950260 -0.471867\n3 -1.440860  1.950260 -0.759680\n4 -0.544441       NaN -0.759680\n5  0.196416       NaN -0.759680"
     },
     "execution_count": 50,
     "metadata": {},
     "output_type": "execute_result"
    }
   ],
   "source": [
    "df.fillna(method='ffill', limit=2)"
   ]
  },
  {
   "cell_type": "code",
   "execution_count": 51,
   "metadata": {},
   "outputs": [],
   "source": [
    "data = pd.Series([1., NA, 3.5, NA, 7])"
   ]
  },
  {
   "cell_type": "code",
   "execution_count": 52,
   "metadata": {},
   "outputs": [
    {
     "data": {
      "text/plain": "0    1.000000\n1    3.833333\n2    3.500000\n3    3.833333\n4    7.000000\ndtype: float64"
     },
     "execution_count": 52,
     "metadata": {},
     "output_type": "execute_result"
    }
   ],
   "source": [
    "data.fillna(data.mean())"
   ]
  },
  {
   "cell_type": "markdown",
   "metadata": {},
   "source": [
    "## DATA TRANSFORMATION"
   ]
  },
  {
   "cell_type": "code",
   "execution_count": null,
   "metadata": {},
   "outputs": [],
   "source": []
  }
 ],
 "metadata": {
  "kernelspec": {
   "display_name": "Python 3",
   "language": "python",
   "name": "python3"
  },
  "language_info": {
   "codemirror_mode": {
    "name": "ipython",
    "version": 3
   },
   "file_extension": ".py",
   "mimetype": "text/x-python",
   "name": "python",
   "nbconvert_exporter": "python",
   "pygments_lexer": "ipython3",
   "version": "3.8.5"
  }
 },
 "nbformat": 4,
 "nbformat_minor": 4
}