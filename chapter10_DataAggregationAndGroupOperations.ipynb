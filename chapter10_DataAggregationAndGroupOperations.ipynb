{
 "cells": [
  {
   "cell_type": "markdown",
   "metadata": {},
   "source": [
    "# CHAPTAR 10 - DATA AGGREGATION AND GROUP OPERATIONS"
   ]
  },
  {
   "cell_type": "code",
   "execution_count": 2,
   "metadata": {},
   "outputs": [],
   "source": [
    "import pandas as pd\n",
    "import numpy as np "
   ]
  },
  {
   "cell_type": "code",
   "execution_count": 3,
   "metadata": {},
   "outputs": [],
   "source": [
    "df = pd.DataFrame({'key1' : ['a', 'a', 'b', 'b', 'a'],\n",
    "                   'key2' : ['one', 'two', 'one', 'two', 'one'],\n",
    "                   'data1' : np.random.randn(5),\n",
    "                   'data2' : np.random.randn(5)\n",
    "                   })"
   ]
  },
  {
   "cell_type": "code",
   "execution_count": 4,
   "metadata": {},
   "outputs": [
    {
     "data": {
      "text/html": "<div>\n<style scoped>\n    .dataframe tbody tr th:only-of-type {\n        vertical-align: middle;\n    }\n\n    .dataframe tbody tr th {\n        vertical-align: top;\n    }\n\n    .dataframe thead th {\n        text-align: right;\n    }\n</style>\n<table border=\"1\" class=\"dataframe\">\n  <thead>\n    <tr style=\"text-align: right;\">\n      <th></th>\n      <th>key1</th>\n      <th>key2</th>\n      <th>data1</th>\n      <th>data2</th>\n    </tr>\n  </thead>\n  <tbody>\n    <tr>\n      <th>0</th>\n      <td>a</td>\n      <td>one</td>\n      <td>1.409084</td>\n      <td>-0.549369</td>\n    </tr>\n    <tr>\n      <th>1</th>\n      <td>a</td>\n      <td>two</td>\n      <td>-0.564068</td>\n      <td>0.914947</td>\n    </tr>\n    <tr>\n      <th>2</th>\n      <td>b</td>\n      <td>one</td>\n      <td>0.461127</td>\n      <td>0.419971</td>\n    </tr>\n    <tr>\n      <th>3</th>\n      <td>b</td>\n      <td>two</td>\n      <td>-0.142463</td>\n      <td>-1.337168</td>\n    </tr>\n    <tr>\n      <th>4</th>\n      <td>a</td>\n      <td>one</td>\n      <td>-0.214141</td>\n      <td>-0.392309</td>\n    </tr>\n  </tbody>\n</table>\n</div>",
      "text/plain": "  key1 key2     data1     data2\n0    a  one  1.409084 -0.549369\n1    a  two -0.564068  0.914947\n2    b  one  0.461127  0.419971\n3    b  two -0.142463 -1.337168\n4    a  one -0.214141 -0.392309"
     },
     "execution_count": 4,
     "metadata": {},
     "output_type": "execute_result"
    }
   ],
   "source": [
    "df"
   ]
  },
  {
   "cell_type": "code",
   "execution_count": 12,
   "metadata": {},
   "outputs": [],
   "source": [
    "grouped = df['data1'].groupby(df['key1'])"
   ]
  },
  {
   "cell_type": "code",
   "execution_count": 13,
   "metadata": {},
   "outputs": [
    {
     "data": {
      "text/plain": "<pandas.core.groupby.generic.SeriesGroupBy object at 0x7f47e5123f40>"
     },
     "execution_count": 13,
     "metadata": {},
     "output_type": "execute_result"
    }
   ],
   "source": [
    "grouped"
   ]
  },
  {
   "cell_type": "code",
   "execution_count": 15,
   "metadata": {},
   "outputs": [
    {
     "data": {
      "text/plain": "key1\na    0.210292\nb    0.159332\nName: data1, dtype: float64"
     },
     "execution_count": 15,
     "metadata": {},
     "output_type": "execute_result"
    }
   ],
   "source": [
    "grouped.mean()"
   ]
  },
  {
   "cell_type": "code",
   "execution_count": 17,
   "metadata": {},
   "outputs": [],
   "source": [
    "means = df['data1'].groupby([df['key1'], df['key2']]).mean()"
   ]
  },
  {
   "cell_type": "code",
   "execution_count": 18,
   "metadata": {},
   "outputs": [
    {
     "data": {
      "text/plain": "key1  key2\na     one     0.597472\n      two    -0.564068\nb     one     0.461127\n      two    -0.142463\nName: data1, dtype: float64"
     },
     "execution_count": 18,
     "metadata": {},
     "output_type": "execute_result"
    }
   ],
   "source": [
    "means"
   ]
  },
  {
   "cell_type": "code",
   "execution_count": 19,
   "metadata": {},
   "outputs": [
    {
     "data": {
      "text/html": "<div>\n<style scoped>\n    .dataframe tbody tr th:only-of-type {\n        vertical-align: middle;\n    }\n\n    .dataframe tbody tr th {\n        vertical-align: top;\n    }\n\n    .dataframe thead th {\n        text-align: right;\n    }\n</style>\n<table border=\"1\" class=\"dataframe\">\n  <thead>\n    <tr style=\"text-align: right;\">\n      <th>key2</th>\n      <th>one</th>\n      <th>two</th>\n    </tr>\n    <tr>\n      <th>key1</th>\n      <th></th>\n      <th></th>\n    </tr>\n  </thead>\n  <tbody>\n    <tr>\n      <th>a</th>\n      <td>0.597472</td>\n      <td>-0.564068</td>\n    </tr>\n    <tr>\n      <th>b</th>\n      <td>0.461127</td>\n      <td>-0.142463</td>\n    </tr>\n  </tbody>\n</table>\n</div>",
      "text/plain": "key2       one       two\nkey1                    \na     0.597472 -0.564068\nb     0.461127 -0.142463"
     },
     "execution_count": 19,
     "metadata": {},
     "output_type": "execute_result"
    }
   ],
   "source": [
    "means.unstack()"
   ]
  },
  {
   "cell_type": "code",
   "execution_count": 20,
   "metadata": {},
   "outputs": [
    {
     "data": {
      "text/html": "<div>\n<style scoped>\n    .dataframe tbody tr th:only-of-type {\n        vertical-align: middle;\n    }\n\n    .dataframe tbody tr th {\n        vertical-align: top;\n    }\n\n    .dataframe thead th {\n        text-align: right;\n    }\n</style>\n<table border=\"1\" class=\"dataframe\">\n  <thead>\n    <tr style=\"text-align: right;\">\n      <th></th>\n      <th>data1</th>\n      <th>data2</th>\n    </tr>\n    <tr>\n      <th>key1</th>\n      <th></th>\n      <th></th>\n    </tr>\n  </thead>\n  <tbody>\n    <tr>\n      <th>a</th>\n      <td>0.210292</td>\n      <td>-0.008910</td>\n    </tr>\n    <tr>\n      <th>b</th>\n      <td>0.159332</td>\n      <td>-0.458599</td>\n    </tr>\n  </tbody>\n</table>\n</div>",
      "text/plain": "         data1     data2\nkey1                    \na     0.210292 -0.008910\nb     0.159332 -0.458599"
     },
     "execution_count": 20,
     "metadata": {},
     "output_type": "execute_result"
    }
   ],
   "source": [
    "df.groupby('key1').mean()"
   ]
  },
  {
   "cell_type": "code",
   "execution_count": 22,
   "metadata": {},
   "outputs": [
    {
     "data": {
      "text/html": "<div>\n<style scoped>\n    .dataframe tbody tr th:only-of-type {\n        vertical-align: middle;\n    }\n\n    .dataframe tbody tr th {\n        vertical-align: top;\n    }\n\n    .dataframe thead th {\n        text-align: right;\n    }\n</style>\n<table border=\"1\" class=\"dataframe\">\n  <thead>\n    <tr style=\"text-align: right;\">\n      <th></th>\n      <th></th>\n      <th>data1</th>\n      <th>data2</th>\n    </tr>\n    <tr>\n      <th>key1</th>\n      <th>key2</th>\n      <th></th>\n      <th></th>\n    </tr>\n  </thead>\n  <tbody>\n    <tr>\n      <th rowspan=\"2\" valign=\"top\">a</th>\n      <th>one</th>\n      <td>0.597472</td>\n      <td>-0.470839</td>\n    </tr>\n    <tr>\n      <th>two</th>\n      <td>-0.564068</td>\n      <td>0.914947</td>\n    </tr>\n    <tr>\n      <th rowspan=\"2\" valign=\"top\">b</th>\n      <th>one</th>\n      <td>0.461127</td>\n      <td>0.419971</td>\n    </tr>\n    <tr>\n      <th>two</th>\n      <td>-0.142463</td>\n      <td>-1.337168</td>\n    </tr>\n  </tbody>\n</table>\n</div>",
      "text/plain": "              data1     data2\nkey1 key2                    \na    one   0.597472 -0.470839\n     two  -0.564068  0.914947\nb    one   0.461127  0.419971\n     two  -0.142463 -1.337168"
     },
     "execution_count": 22,
     "metadata": {},
     "output_type": "execute_result"
    }
   ],
   "source": [
    "df.groupby(['key1', 'key2']).mean()"
   ]
  },
  {
   "cell_type": "code",
   "execution_count": 23,
   "metadata": {},
   "outputs": [
    {
     "data": {
      "text/plain": "key1  key2\na     one     2\n      two     1\nb     one     1\n      two     1\ndtype: int64"
     },
     "execution_count": 23,
     "metadata": {},
     "output_type": "execute_result"
    }
   ],
   "source": [
    "df.groupby(['key1', 'key2']).size()"
   ]
  },
  {
   "cell_type": "markdown",
   "metadata": {},
   "source": [
    "## INTERATING OVER GROUPS"
   ]
  },
  {
   "cell_type": "code",
   "execution_count": 25,
   "metadata": {},
   "outputs": [
    {
     "name": "stdout",
     "output_type": "stream",
     "text": [
      "a\n",
      "  key1 key2     data1     data2\n",
      "0    a  one  1.409084 -0.549369\n",
      "1    a  two -0.564068  0.914947\n",
      "4    a  one -0.214141 -0.392309\n",
      "b\n",
      "  key1 key2     data1     data2\n",
      "2    b  one  0.461127  0.419971\n",
      "3    b  two -0.142463 -1.337168\n"
     ]
    }
   ],
   "source": [
    "for name, group in df.groupby('key1'):\n",
    "    print(name)\n",
    "    print(group)"
   ]
  },
  {
   "cell_type": "code",
   "execution_count": 27,
   "metadata": {},
   "outputs": [
    {
     "name": "stdout",
     "output_type": "stream",
     "text": [
      "a one\n",
      "  key1 key2     data1     data2\n",
      "0    a  one  1.409084 -0.549369\n",
      "4    a  one -0.214141 -0.392309\n",
      "a two\n",
      "  key1 key2     data1     data2\n",
      "1    a  two -0.564068  0.914947\n",
      "b one\n",
      "  key1 key2     data1     data2\n",
      "2    b  one  0.461127  0.419971\n",
      "b two\n",
      "  key1 key2     data1     data2\n",
      "3    b  two -0.142463 -1.337168\n"
     ]
    }
   ],
   "source": [
    "for (k1, k2), group in df.groupby(['key1', 'key2']):\n",
    "    print(k1, k2)\n",
    "    print(group)"
   ]
  },
  {
   "cell_type": "code",
   "execution_count": 29,
   "metadata": {},
   "outputs": [],
   "source": [
    "pieces = dict(list(df.groupby('key1')))"
   ]
  },
  {
   "cell_type": "code",
   "execution_count": 31,
   "metadata": {},
   "outputs": [
    {
     "data": {
      "text/html": "<div>\n<style scoped>\n    .dataframe tbody tr th:only-of-type {\n        vertical-align: middle;\n    }\n\n    .dataframe tbody tr th {\n        vertical-align: top;\n    }\n\n    .dataframe thead th {\n        text-align: right;\n    }\n</style>\n<table border=\"1\" class=\"dataframe\">\n  <thead>\n    <tr style=\"text-align: right;\">\n      <th></th>\n      <th>key1</th>\n      <th>key2</th>\n      <th>data1</th>\n      <th>data2</th>\n    </tr>\n  </thead>\n  <tbody>\n    <tr>\n      <th>0</th>\n      <td>a</td>\n      <td>one</td>\n      <td>1.409084</td>\n      <td>-0.549369</td>\n    </tr>\n    <tr>\n      <th>1</th>\n      <td>a</td>\n      <td>two</td>\n      <td>-0.564068</td>\n      <td>0.914947</td>\n    </tr>\n    <tr>\n      <th>4</th>\n      <td>a</td>\n      <td>one</td>\n      <td>-0.214141</td>\n      <td>-0.392309</td>\n    </tr>\n  </tbody>\n</table>\n</div>",
      "text/plain": "  key1 key2     data1     data2\n0    a  one  1.409084 -0.549369\n1    a  two -0.564068  0.914947\n4    a  one -0.214141 -0.392309"
     },
     "execution_count": 31,
     "metadata": {},
     "output_type": "execute_result"
    }
   ],
   "source": [
    "pieces['a']"
   ]
  },
  {
   "cell_type": "code",
   "execution_count": 32,
   "metadata": {},
   "outputs": [
    {
     "data": {
      "text/plain": "pandas.core.frame.DataFrame"
     },
     "execution_count": 32,
     "metadata": {},
     "output_type": "execute_result"
    }
   ],
   "source": [
    "type(pieces['a'])"
   ]
  },
  {
   "cell_type": "code",
   "execution_count": 33,
   "metadata": {},
   "outputs": [
    {
     "data": {
      "text/plain": "key1      object\nkey2      object\ndata1    float64\ndata2    float64\ndtype: object"
     },
     "execution_count": 33,
     "metadata": {},
     "output_type": "execute_result"
    }
   ],
   "source": [
    "df.dtypes"
   ]
  },
  {
   "cell_type": "code",
   "execution_count": 34,
   "metadata": {},
   "outputs": [],
   "source": [
    "grouped = df.groupby(df.dtypes, axis=1)"
   ]
  },
  {
   "cell_type": "code",
   "execution_count": 38,
   "metadata": {},
   "outputs": [
    {
     "data": {
      "text/plain": "<pandas.core.groupby.generic.DataFrameGroupBy object at 0x7f47e448e100>"
     },
     "execution_count": 38,
     "metadata": {},
     "output_type": "execute_result"
    }
   ],
   "source": [
    "grouped"
   ]
  },
  {
   "cell_type": "code",
   "execution_count": 39,
   "metadata": {},
   "outputs": [
    {
     "name": "stdout",
     "output_type": "stream",
     "text": [
      "float64\n",
      "      data1     data2\n",
      "0  1.409084 -0.549369\n",
      "1 -0.564068  0.914947\n",
      "2  0.461127  0.419971\n",
      "3 -0.142463 -1.337168\n",
      "4 -0.214141 -0.392309\n",
      "object\n",
      "  key1 key2\n",
      "0    a  one\n",
      "1    a  two\n",
      "2    b  one\n",
      "3    b  two\n",
      "4    a  one\n"
     ]
    }
   ],
   "source": [
    "for dtype, group in grouped:\n",
    "    print(dtype)\n",
    "    print(group)"
   ]
  },
  {
   "cell_type": "markdown",
   "metadata": {},
   "source": [
    "## SELECTING A CLOUMN OR SUBSET OF COLUMNS"
   ]
  },
  {
   "cell_type": "code",
   "execution_count": 42,
   "metadata": {},
   "outputs": [
    {
     "data": {
      "text/plain": "<pandas.core.groupby.generic.SeriesGroupBy object at 0x7f47e47a5d60>"
     },
     "execution_count": 42,
     "metadata": {},
     "output_type": "execute_result"
    }
   ],
   "source": [
    "df.groupby('key1')['data1']"
   ]
  },
  {
   "cell_type": "code",
   "execution_count": 43,
   "metadata": {},
   "outputs": [
    {
     "data": {
      "text/plain": "<pandas.core.groupby.generic.DataFrameGroupBy object at 0x7f47e47a5610>"
     },
     "execution_count": 43,
     "metadata": {},
     "output_type": "execute_result"
    }
   ],
   "source": [
    "df.groupby('key1')[['data1']]"
   ]
  },
  {
   "cell_type": "code",
   "execution_count": 44,
   "metadata": {},
   "outputs": [
    {
     "data": {
      "text/plain": "key1\na    0.210292\nb    0.159332\nName: data1, dtype: float64"
     },
     "execution_count": 44,
     "metadata": {},
     "output_type": "execute_result"
    }
   ],
   "source": [
    "df.groupby('key1')['data1'].mean()"
   ]
  },
  {
   "cell_type": "code",
   "execution_count": 45,
   "metadata": {},
   "outputs": [
    {
     "data": {
      "text/html": "<div>\n<style scoped>\n    .dataframe tbody tr th:only-of-type {\n        vertical-align: middle;\n    }\n\n    .dataframe tbody tr th {\n        vertical-align: top;\n    }\n\n    .dataframe thead th {\n        text-align: right;\n    }\n</style>\n<table border=\"1\" class=\"dataframe\">\n  <thead>\n    <tr style=\"text-align: right;\">\n      <th></th>\n      <th>data1</th>\n    </tr>\n    <tr>\n      <th>key1</th>\n      <th></th>\n    </tr>\n  </thead>\n  <tbody>\n    <tr>\n      <th>a</th>\n      <td>0.210292</td>\n    </tr>\n    <tr>\n      <th>b</th>\n      <td>0.159332</td>\n    </tr>\n  </tbody>\n</table>\n</div>",
      "text/plain": "         data1\nkey1          \na     0.210292\nb     0.159332"
     },
     "execution_count": 45,
     "metadata": {},
     "output_type": "execute_result"
    }
   ],
   "source": [
    "df.groupby('key1')[['data1']].mean()"
   ]
  },
  {
   "cell_type": "code",
   "execution_count": 46,
   "metadata": {},
   "outputs": [
    {
     "data": {
      "text/html": "<div>\n<style scoped>\n    .dataframe tbody tr th:only-of-type {\n        vertical-align: middle;\n    }\n\n    .dataframe tbody tr th {\n        vertical-align: top;\n    }\n\n    .dataframe thead th {\n        text-align: right;\n    }\n</style>\n<table border=\"1\" class=\"dataframe\">\n  <thead>\n    <tr style=\"text-align: right;\">\n      <th></th>\n      <th>data1</th>\n    </tr>\n  </thead>\n  <tbody>\n    <tr>\n      <th>0</th>\n      <td>1.409084</td>\n    </tr>\n    <tr>\n      <th>1</th>\n      <td>-0.564068</td>\n    </tr>\n    <tr>\n      <th>2</th>\n      <td>0.461127</td>\n    </tr>\n    <tr>\n      <th>3</th>\n      <td>-0.142463</td>\n    </tr>\n    <tr>\n      <th>4</th>\n      <td>-0.214141</td>\n    </tr>\n  </tbody>\n</table>\n</div>",
      "text/plain": "      data1\n0  1.409084\n1 -0.564068\n2  0.461127\n3 -0.142463\n4 -0.214141"
     },
     "execution_count": 46,
     "metadata": {},
     "output_type": "execute_result"
    }
   ],
   "source": [
    "df.groupby('key1')[['data1']].head()"
   ]
  },
  {
   "cell_type": "code",
   "execution_count": 48,
   "metadata": {},
   "outputs": [
    {
     "data": {
      "text/plain": "<pandas.core.groupby.generic.SeriesGroupBy object at 0x7f47e4d11e80>"
     },
     "execution_count": 48,
     "metadata": {},
     "output_type": "execute_result"
    }
   ],
   "source": [
    "df['data1'].groupby(df['key1'])"
   ]
  },
  {
   "cell_type": "code",
   "execution_count": 49,
   "metadata": {},
   "outputs": [
    {
     "data": {
      "text/plain": "<pandas.core.groupby.generic.DataFrameGroupBy object at 0x7f47e48fcbb0>"
     },
     "execution_count": 49,
     "metadata": {},
     "output_type": "execute_result"
    }
   ],
   "source": [
    "df[['data2']].groupby(df['key1'])"
   ]
  },
  {
   "cell_type": "code",
   "execution_count": 51,
   "metadata": {},
   "outputs": [
    {
     "data": {
      "text/html": "<div>\n<style scoped>\n    .dataframe tbody tr th:only-of-type {\n        vertical-align: middle;\n    }\n\n    .dataframe tbody tr th {\n        vertical-align: top;\n    }\n\n    .dataframe thead th {\n        text-align: right;\n    }\n</style>\n<table border=\"1\" class=\"dataframe\">\n  <thead>\n    <tr style=\"text-align: right;\">\n      <th></th>\n      <th></th>\n      <th>data2</th>\n    </tr>\n    <tr>\n      <th>key1</th>\n      <th>key2</th>\n      <th></th>\n    </tr>\n  </thead>\n  <tbody>\n    <tr>\n      <th rowspan=\"2\" valign=\"top\">a</th>\n      <th>one</th>\n      <td>-0.470839</td>\n    </tr>\n    <tr>\n      <th>two</th>\n      <td>0.914947</td>\n    </tr>\n    <tr>\n      <th rowspan=\"2\" valign=\"top\">b</th>\n      <th>one</th>\n      <td>0.419971</td>\n    </tr>\n    <tr>\n      <th>two</th>\n      <td>-1.337168</td>\n    </tr>\n  </tbody>\n</table>\n</div>",
      "text/plain": "              data2\nkey1 key2          \na    one  -0.470839\n     two   0.914947\nb    one   0.419971\n     two  -1.337168"
     },
     "execution_count": 51,
     "metadata": {},
     "output_type": "execute_result"
    }
   ],
   "source": [
    "df.groupby(['key1', 'key2'])[['data2']].mean()"
   ]
  },
  {
   "cell_type": "code",
   "execution_count": null,
   "metadata": {},
   "outputs": [],
   "source": []
  },
  {
   "cell_type": "markdown",
   "metadata": {},
   "source": [
    "## GROUPING WITH DICTS AND SERIES"
   ]
  },
  {
   "cell_type": "code",
   "execution_count": 53,
   "metadata": {},
   "outputs": [],
   "source": [
    "people = pd.DataFrame(np.random.randn(5, 5),\n",
    "                      columns=['a', 'b', 'c', 'd', 'e'],\n",
    "                      index=['Joe', 'Steve', 'Wes', 'Jim', 'Travis']\n",
    "                      )"
   ]
  },
  {
   "cell_type": "code",
   "execution_count": 54,
   "metadata": {},
   "outputs": [
    {
     "data": {
      "text/html": "<div>\n<style scoped>\n    .dataframe tbody tr th:only-of-type {\n        vertical-align: middle;\n    }\n\n    .dataframe tbody tr th {\n        vertical-align: top;\n    }\n\n    .dataframe thead th {\n        text-align: right;\n    }\n</style>\n<table border=\"1\" class=\"dataframe\">\n  <thead>\n    <tr style=\"text-align: right;\">\n      <th></th>\n      <th>a</th>\n      <th>b</th>\n      <th>c</th>\n      <th>d</th>\n      <th>e</th>\n    </tr>\n  </thead>\n  <tbody>\n    <tr>\n      <th>Joe</th>\n      <td>-1.376942</td>\n      <td>0.593537</td>\n      <td>-0.163805</td>\n      <td>1.215964</td>\n      <td>1.114112</td>\n    </tr>\n    <tr>\n      <th>Steve</th>\n      <td>-1.689730</td>\n      <td>1.014497</td>\n      <td>3.591184</td>\n      <td>-0.190666</td>\n      <td>1.267457</td>\n    </tr>\n    <tr>\n      <th>Wes</th>\n      <td>0.632058</td>\n      <td>1.069136</td>\n      <td>-0.499502</td>\n      <td>0.976368</td>\n      <td>-0.255175</td>\n    </tr>\n    <tr>\n      <th>Jim</th>\n      <td>0.175210</td>\n      <td>-1.033968</td>\n      <td>0.235336</td>\n      <td>-0.259195</td>\n      <td>-0.154208</td>\n    </tr>\n    <tr>\n      <th>Travis</th>\n      <td>0.441842</td>\n      <td>2.140923</td>\n      <td>-1.207755</td>\n      <td>-1.127811</td>\n      <td>1.491529</td>\n    </tr>\n  </tbody>\n</table>\n</div>",
      "text/plain": "               a         b         c         d         e\nJoe    -1.376942  0.593537 -0.163805  1.215964  1.114112\nSteve  -1.689730  1.014497  3.591184 -0.190666  1.267457\nWes     0.632058  1.069136 -0.499502  0.976368 -0.255175\nJim     0.175210 -1.033968  0.235336 -0.259195 -0.154208\nTravis  0.441842  2.140923 -1.207755 -1.127811  1.491529"
     },
     "execution_count": 54,
     "metadata": {},
     "output_type": "execute_result"
    }
   ],
   "source": [
    "people"
   ]
  },
  {
   "cell_type": "code",
   "execution_count": 57,
   "metadata": {},
   "outputs": [],
   "source": [
    "people.iloc[2:3, [1, 2]] = np.nan # Add a few NA values"
   ]
  },
  {
   "cell_type": "code",
   "execution_count": 58,
   "metadata": {},
   "outputs": [
    {
     "data": {
      "text/html": "<div>\n<style scoped>\n    .dataframe tbody tr th:only-of-type {\n        vertical-align: middle;\n    }\n\n    .dataframe tbody tr th {\n        vertical-align: top;\n    }\n\n    .dataframe thead th {\n        text-align: right;\n    }\n</style>\n<table border=\"1\" class=\"dataframe\">\n  <thead>\n    <tr style=\"text-align: right;\">\n      <th></th>\n      <th>a</th>\n      <th>b</th>\n      <th>c</th>\n      <th>d</th>\n      <th>e</th>\n    </tr>\n  </thead>\n  <tbody>\n    <tr>\n      <th>Joe</th>\n      <td>-1.376942</td>\n      <td>0.593537</td>\n      <td>-0.163805</td>\n      <td>1.215964</td>\n      <td>1.114112</td>\n    </tr>\n    <tr>\n      <th>Steve</th>\n      <td>-1.689730</td>\n      <td>1.014497</td>\n      <td>3.591184</td>\n      <td>-0.190666</td>\n      <td>1.267457</td>\n    </tr>\n    <tr>\n      <th>Wes</th>\n      <td>0.632058</td>\n      <td>NaN</td>\n      <td>NaN</td>\n      <td>0.976368</td>\n      <td>-0.255175</td>\n    </tr>\n    <tr>\n      <th>Jim</th>\n      <td>0.175210</td>\n      <td>-1.033968</td>\n      <td>0.235336</td>\n      <td>-0.259195</td>\n      <td>-0.154208</td>\n    </tr>\n    <tr>\n      <th>Travis</th>\n      <td>0.441842</td>\n      <td>2.140923</td>\n      <td>-1.207755</td>\n      <td>-1.127811</td>\n      <td>1.491529</td>\n    </tr>\n  </tbody>\n</table>\n</div>",
      "text/plain": "               a         b         c         d         e\nJoe    -1.376942  0.593537 -0.163805  1.215964  1.114112\nSteve  -1.689730  1.014497  3.591184 -0.190666  1.267457\nWes     0.632058       NaN       NaN  0.976368 -0.255175\nJim     0.175210 -1.033968  0.235336 -0.259195 -0.154208\nTravis  0.441842  2.140923 -1.207755 -1.127811  1.491529"
     },
     "execution_count": 58,
     "metadata": {},
     "output_type": "execute_result"
    }
   ],
   "source": [
    "people"
   ]
  },
  {
   "cell_type": "code",
   "execution_count": 56,
   "metadata": {},
   "outputs": [],
   "source": [
    "mapping = {'a': 'red', 'b': 'red', 'c': 'blue', 'd': 'blue', 'e': 'red', 'f' : 'orange'}"
   ]
  },
  {
   "cell_type": "code",
   "execution_count": 71,
   "metadata": {},
   "outputs": [
    {
     "data": {
      "text/html": "<div>\n<style scoped>\n    .dataframe tbody tr th:only-of-type {\n        vertical-align: middle;\n    }\n\n    .dataframe tbody tr th {\n        vertical-align: top;\n    }\n\n    .dataframe thead th {\n        text-align: right;\n    }\n</style>\n<table border=\"1\" class=\"dataframe\">\n  <thead>\n    <tr style=\"text-align: right;\">\n      <th></th>\n      <th>blue</th>\n      <th>red</th>\n    </tr>\n  </thead>\n  <tbody>\n    <tr>\n      <th>Joe</th>\n      <td>1.052158</td>\n      <td>0.330707</td>\n    </tr>\n    <tr>\n      <th>Steve</th>\n      <td>3.400518</td>\n      <td>0.592224</td>\n    </tr>\n    <tr>\n      <th>Wes</th>\n      <td>0.976368</td>\n      <td>0.376883</td>\n    </tr>\n    <tr>\n      <th>Jim</th>\n      <td>-0.023860</td>\n      <td>-1.012966</td>\n    </tr>\n    <tr>\n      <th>Travis</th>\n      <td>-2.335566</td>\n      <td>4.074295</td>\n    </tr>\n  </tbody>\n</table>\n</div>",
      "text/plain": "            blue       red\nJoe     1.052158  0.330707\nSteve   3.400518  0.592224\nWes     0.976368  0.376883\nJim    -0.023860 -1.012966\nTravis -2.335566  4.074295"
     },
     "execution_count": 71,
     "metadata": {},
     "output_type": "execute_result"
    }
   ],
   "source": [
    "people.groupby(mapping, axis=1).sum()"
   ]
  },
  {
   "cell_type": "code",
   "execution_count": 73,
   "metadata": {},
   "outputs": [],
   "source": [
    "map_series = pd.Series(mapping)"
   ]
  },
  {
   "cell_type": "code",
   "execution_count": 74,
   "metadata": {},
   "outputs": [
    {
     "data": {
      "text/plain": "a       red\nb       red\nc      blue\nd      blue\ne       red\nf    orange\ndtype: object"
     },
     "execution_count": 74,
     "metadata": {},
     "output_type": "execute_result"
    }
   ],
   "source": [
    "map_series"
   ]
  },
  {
   "cell_type": "code",
   "execution_count": 75,
   "metadata": {},
   "outputs": [
    {
     "data": {
      "text/html": "<div>\n<style scoped>\n    .dataframe tbody tr th:only-of-type {\n        vertical-align: middle;\n    }\n\n    .dataframe tbody tr th {\n        vertical-align: top;\n    }\n\n    .dataframe thead th {\n        text-align: right;\n    }\n</style>\n<table border=\"1\" class=\"dataframe\">\n  <thead>\n    <tr style=\"text-align: right;\">\n      <th></th>\n      <th>blue</th>\n      <th>red</th>\n    </tr>\n  </thead>\n  <tbody>\n    <tr>\n      <th>Joe</th>\n      <td>2</td>\n      <td>3</td>\n    </tr>\n    <tr>\n      <th>Steve</th>\n      <td>2</td>\n      <td>3</td>\n    </tr>\n    <tr>\n      <th>Wes</th>\n      <td>1</td>\n      <td>2</td>\n    </tr>\n    <tr>\n      <th>Jim</th>\n      <td>2</td>\n      <td>3</td>\n    </tr>\n    <tr>\n      <th>Travis</th>\n      <td>2</td>\n      <td>3</td>\n    </tr>\n  </tbody>\n</table>\n</div>",
      "text/plain": "        blue  red\nJoe        2    3\nSteve      2    3\nWes        1    2\nJim        2    3\nTravis     2    3"
     },
     "execution_count": 75,
     "metadata": {},
     "output_type": "execute_result"
    }
   ],
   "source": [
    "people.groupby(map_series, axis=1).count()"
   ]
  },
  {
   "cell_type": "markdown",
   "metadata": {},
   "source": [
    "## GROUPING WITH FUNCTIONS"
   ]
  },
  {
   "cell_type": "code",
   "execution_count": 77,
   "metadata": {},
   "outputs": [
    {
     "data": {
      "text/html": "<div>\n<style scoped>\n    .dataframe tbody tr th:only-of-type {\n        vertical-align: middle;\n    }\n\n    .dataframe tbody tr th {\n        vertical-align: top;\n    }\n\n    .dataframe thead th {\n        text-align: right;\n    }\n</style>\n<table border=\"1\" class=\"dataframe\">\n  <thead>\n    <tr style=\"text-align: right;\">\n      <th></th>\n      <th>a</th>\n      <th>b</th>\n      <th>c</th>\n      <th>d</th>\n      <th>e</th>\n    </tr>\n  </thead>\n  <tbody>\n    <tr>\n      <th>3</th>\n      <td>-0.569673</td>\n      <td>-0.440432</td>\n      <td>0.071530</td>\n      <td>1.933136</td>\n      <td>0.704729</td>\n    </tr>\n    <tr>\n      <th>5</th>\n      <td>-1.689730</td>\n      <td>1.014497</td>\n      <td>3.591184</td>\n      <td>-0.190666</td>\n      <td>1.267457</td>\n    </tr>\n    <tr>\n      <th>6</th>\n      <td>0.441842</td>\n      <td>2.140923</td>\n      <td>-1.207755</td>\n      <td>-1.127811</td>\n      <td>1.491529</td>\n    </tr>\n  </tbody>\n</table>\n</div>",
      "text/plain": "          a         b         c         d         e\n3 -0.569673 -0.440432  0.071530  1.933136  0.704729\n5 -1.689730  1.014497  3.591184 -0.190666  1.267457\n6  0.441842  2.140923 -1.207755 -1.127811  1.491529"
     },
     "execution_count": 77,
     "metadata": {},
     "output_type": "execute_result"
    }
   ],
   "source": [
    "people.groupby(len).sum()"
   ]
  },
  {
   "cell_type": "code",
   "execution_count": 78,
   "metadata": {},
   "outputs": [],
   "source": [
    "key_list = ['one', 'one', 'one', 'two', 'two']"
   ]
  },
  {
   "cell_type": "code",
   "execution_count": 79,
   "metadata": {},
   "outputs": [
    {
     "data": {
      "text/html": "<div>\n<style scoped>\n    .dataframe tbody tr th:only-of-type {\n        vertical-align: middle;\n    }\n\n    .dataframe tbody tr th {\n        vertical-align: top;\n    }\n\n    .dataframe thead th {\n        text-align: right;\n    }\n</style>\n<table border=\"1\" class=\"dataframe\">\n  <thead>\n    <tr style=\"text-align: right;\">\n      <th></th>\n      <th></th>\n      <th>a</th>\n      <th>b</th>\n      <th>c</th>\n      <th>d</th>\n      <th>e</th>\n    </tr>\n  </thead>\n  <tbody>\n    <tr>\n      <th rowspan=\"2\" valign=\"top\">3</th>\n      <th>one</th>\n      <td>-1.376942</td>\n      <td>0.593537</td>\n      <td>-0.163805</td>\n      <td>0.976368</td>\n      <td>-0.255175</td>\n    </tr>\n    <tr>\n      <th>two</th>\n      <td>0.175210</td>\n      <td>-1.033968</td>\n      <td>0.235336</td>\n      <td>-0.259195</td>\n      <td>-0.154208</td>\n    </tr>\n    <tr>\n      <th>5</th>\n      <th>one</th>\n      <td>-1.689730</td>\n      <td>1.014497</td>\n      <td>3.591184</td>\n      <td>-0.190666</td>\n      <td>1.267457</td>\n    </tr>\n    <tr>\n      <th>6</th>\n      <th>two</th>\n      <td>0.441842</td>\n      <td>2.140923</td>\n      <td>-1.207755</td>\n      <td>-1.127811</td>\n      <td>1.491529</td>\n    </tr>\n  </tbody>\n</table>\n</div>",
      "text/plain": "              a         b         c         d         e\n3 one -1.376942  0.593537 -0.163805  0.976368 -0.255175\n  two  0.175210 -1.033968  0.235336 -0.259195 -0.154208\n5 one -1.689730  1.014497  3.591184 -0.190666  1.267457\n6 two  0.441842  2.140923 -1.207755 -1.127811  1.491529"
     },
     "execution_count": 79,
     "metadata": {},
     "output_type": "execute_result"
    }
   ],
   "source": [
    "people.groupby([len, key_list]).min()"
   ]
  },
  {
   "cell_type": "markdown",
   "metadata": {},
   "source": [
    "## GROUPING BY INDEX LEVELS "
   ]
  },
  {
   "cell_type": "code",
   "execution_count": 86,
   "metadata": {},
   "outputs": [],
   "source": [
    "columns = pd.MultiIndex.from_arrays([['US', 'US', 'US', 'JP', 'JP'],\n",
    "                                    [1, 3, 5, 1, 3]],\n",
    "                                    names=['city', 'tenor'])"
   ]
  },
  {
   "cell_type": "code",
   "execution_count": 87,
   "metadata": {},
   "outputs": [],
   "source": [
    "hier_df = pd.DataFrame(np.random.randn(4,5), columns=columns)"
   ]
  },
  {
   "cell_type": "code",
   "execution_count": 88,
   "metadata": {},
   "outputs": [
    {
     "data": {
      "text/html": "<div>\n<style scoped>\n    .dataframe tbody tr th:only-of-type {\n        vertical-align: middle;\n    }\n\n    .dataframe tbody tr th {\n        vertical-align: top;\n    }\n\n    .dataframe thead tr th {\n        text-align: left;\n    }\n</style>\n<table border=\"1\" class=\"dataframe\">\n  <thead>\n    <tr>\n      <th>city</th>\n      <th colspan=\"3\" halign=\"left\">US</th>\n      <th colspan=\"2\" halign=\"left\">JP</th>\n    </tr>\n    <tr>\n      <th>tenor</th>\n      <th>1</th>\n      <th>3</th>\n      <th>5</th>\n      <th>1</th>\n      <th>3</th>\n    </tr>\n  </thead>\n  <tbody>\n    <tr>\n      <th>0</th>\n      <td>-1.998446</td>\n      <td>0.726953</td>\n      <td>0.590445</td>\n      <td>-0.073148</td>\n      <td>-0.055749</td>\n    </tr>\n    <tr>\n      <th>1</th>\n      <td>0.663994</td>\n      <td>-0.372361</td>\n      <td>0.113784</td>\n      <td>-0.361384</td>\n      <td>0.042564</td>\n    </tr>\n    <tr>\n      <th>2</th>\n      <td>-1.045035</td>\n      <td>-0.480192</td>\n      <td>1.320869</td>\n      <td>-0.692187</td>\n      <td>1.338442</td>\n    </tr>\n    <tr>\n      <th>3</th>\n      <td>-1.005002</td>\n      <td>1.138283</td>\n      <td>-0.454171</td>\n      <td>1.555592</td>\n      <td>-0.048439</td>\n    </tr>\n  </tbody>\n</table>\n</div>",
      "text/plain": "city         US                            JP          \ntenor         1         3         5         1         3\n0     -1.998446  0.726953  0.590445 -0.073148 -0.055749\n1      0.663994 -0.372361  0.113784 -0.361384  0.042564\n2     -1.045035 -0.480192  1.320869 -0.692187  1.338442\n3     -1.005002  1.138283 -0.454171  1.555592 -0.048439"
     },
     "execution_count": 88,
     "metadata": {},
     "output_type": "execute_result"
    }
   ],
   "source": [
    "hier_df"
   ]
  },
  {
   "cell_type": "code",
   "execution_count": 89,
   "metadata": {},
   "outputs": [
    {
     "data": {
      "text/html": "<div>\n<style scoped>\n    .dataframe tbody tr th:only-of-type {\n        vertical-align: middle;\n    }\n\n    .dataframe tbody tr th {\n        vertical-align: top;\n    }\n\n    .dataframe thead th {\n        text-align: right;\n    }\n</style>\n<table border=\"1\" class=\"dataframe\">\n  <thead>\n    <tr style=\"text-align: right;\">\n      <th>city</th>\n      <th>JP</th>\n      <th>US</th>\n    </tr>\n  </thead>\n  <tbody>\n    <tr>\n      <th>0</th>\n      <td>2</td>\n      <td>3</td>\n    </tr>\n    <tr>\n      <th>1</th>\n      <td>2</td>\n      <td>3</td>\n    </tr>\n    <tr>\n      <th>2</th>\n      <td>2</td>\n      <td>3</td>\n    </tr>\n    <tr>\n      <th>3</th>\n      <td>2</td>\n      <td>3</td>\n    </tr>\n  </tbody>\n</table>\n</div>",
      "text/plain": "city  JP  US\n0      2   3\n1      2   3\n2      2   3\n3      2   3"
     },
     "execution_count": 89,
     "metadata": {},
     "output_type": "execute_result"
    }
   ],
   "source": [
    "hier_df.groupby(level='city', axis=1).count()"
   ]
  },
  {
   "cell_type": "markdown",
   "metadata": {},
   "source": [
    "## DATA AGREGATION"
   ]
  },
  {
   "cell_type": "code",
   "execution_count": 90,
   "metadata": {},
   "outputs": [
    {
     "data": {
      "text/html": "<div>\n<style scoped>\n    .dataframe tbody tr th:only-of-type {\n        vertical-align: middle;\n    }\n\n    .dataframe tbody tr th {\n        vertical-align: top;\n    }\n\n    .dataframe thead th {\n        text-align: right;\n    }\n</style>\n<table border=\"1\" class=\"dataframe\">\n  <thead>\n    <tr style=\"text-align: right;\">\n      <th></th>\n      <th>key1</th>\n      <th>key2</th>\n      <th>data1</th>\n      <th>data2</th>\n    </tr>\n  </thead>\n  <tbody>\n    <tr>\n      <th>0</th>\n      <td>a</td>\n      <td>one</td>\n      <td>1.409084</td>\n      <td>-0.549369</td>\n    </tr>\n    <tr>\n      <th>1</th>\n      <td>a</td>\n      <td>two</td>\n      <td>-0.564068</td>\n      <td>0.914947</td>\n    </tr>\n    <tr>\n      <th>2</th>\n      <td>b</td>\n      <td>one</td>\n      <td>0.461127</td>\n      <td>0.419971</td>\n    </tr>\n    <tr>\n      <th>3</th>\n      <td>b</td>\n      <td>two</td>\n      <td>-0.142463</td>\n      <td>-1.337168</td>\n    </tr>\n    <tr>\n      <th>4</th>\n      <td>a</td>\n      <td>one</td>\n      <td>-0.214141</td>\n      <td>-0.392309</td>\n    </tr>\n  </tbody>\n</table>\n</div>",
      "text/plain": "  key1 key2     data1     data2\n0    a  one  1.409084 -0.549369\n1    a  two -0.564068  0.914947\n2    b  one  0.461127  0.419971\n3    b  two -0.142463 -1.337168\n4    a  one -0.214141 -0.392309"
     },
     "execution_count": 90,
     "metadata": {},
     "output_type": "execute_result"
    }
   ],
   "source": [
    "df"
   ]
  },
  {
   "cell_type": "code",
   "execution_count": 91,
   "metadata": {},
   "outputs": [],
   "source": [
    "grouped = df.groupby('key1')"
   ]
  },
  {
   "cell_type": "code",
   "execution_count": 92,
   "metadata": {},
   "outputs": [
    {
     "data": {
      "text/plain": "key1\na    1.084439\nb    0.400768\nName: data1, dtype: float64"
     },
     "execution_count": 92,
     "metadata": {},
     "output_type": "execute_result"
    }
   ],
   "source": [
    "grouped['data1'].quantile(0.9)"
   ]
  },
  {
   "cell_type": "code",
   "execution_count": 93,
   "metadata": {},
   "outputs": [],
   "source": [
    "def peak_to_peak(arr):\n",
    "    return arr.max() - arr.min()"
   ]
  },
  {
   "cell_type": "code",
   "execution_count": 94,
   "metadata": {},
   "outputs": [
    {
     "data": {
      "text/html": "<div>\n<style scoped>\n    .dataframe tbody tr th:only-of-type {\n        vertical-align: middle;\n    }\n\n    .dataframe tbody tr th {\n        vertical-align: top;\n    }\n\n    .dataframe thead th {\n        text-align: right;\n    }\n</style>\n<table border=\"1\" class=\"dataframe\">\n  <thead>\n    <tr style=\"text-align: right;\">\n      <th></th>\n      <th>data1</th>\n      <th>data2</th>\n    </tr>\n    <tr>\n      <th>key1</th>\n      <th></th>\n      <th></th>\n    </tr>\n  </thead>\n  <tbody>\n    <tr>\n      <th>a</th>\n      <td>1.973152</td>\n      <td>1.464316</td>\n    </tr>\n    <tr>\n      <th>b</th>\n      <td>0.603590</td>\n      <td>1.757140</td>\n    </tr>\n  </tbody>\n</table>\n</div>",
      "text/plain": "         data1     data2\nkey1                    \na     1.973152  1.464316\nb     0.603590  1.757140"
     },
     "execution_count": 94,
     "metadata": {},
     "output_type": "execute_result"
    }
   ],
   "source": [
    "grouped.agg(peak_to_peak)"
   ]
  },
  {
   "cell_type": "code",
   "execution_count": 98,
   "metadata": {},
   "outputs": [
    {
     "data": {
      "text/plain": "1.4090842914958823"
     },
     "execution_count": 98,
     "metadata": {},
     "output_type": "execute_result"
    }
   ],
   "source": [
    "df.data1.max()"
   ]
  },
  {
   "cell_type": "code",
   "execution_count": 99,
   "metadata": {},
   "outputs": [
    {
     "data": {
      "text/plain": "-0.5640675671123234"
     },
     "execution_count": 99,
     "metadata": {},
     "output_type": "execute_result"
    }
   ],
   "source": [
    "df.data1.min()"
   ]
  },
  {
   "cell_type": "code",
   "execution_count": 103,
   "metadata": {},
   "outputs": [
    {
     "data": {
      "text/html": "<div>\n<style scoped>\n    .dataframe tbody tr th:only-of-type {\n        vertical-align: middle;\n    }\n\n    .dataframe tbody tr th {\n        vertical-align: top;\n    }\n\n    .dataframe thead tr th {\n        text-align: left;\n    }\n\n    .dataframe thead tr:last-of-type th {\n        text-align: right;\n    }\n</style>\n<table border=\"1\" class=\"dataframe\">\n  <thead>\n    <tr>\n      <th></th>\n      <th colspan=\"8\" halign=\"left\">data1</th>\n      <th colspan=\"8\" halign=\"left\">data2</th>\n    </tr>\n    <tr>\n      <th></th>\n      <th>count</th>\n      <th>mean</th>\n      <th>std</th>\n      <th>min</th>\n      <th>25%</th>\n      <th>50%</th>\n      <th>75%</th>\n      <th>max</th>\n      <th>count</th>\n      <th>mean</th>\n      <th>std</th>\n      <th>min</th>\n      <th>25%</th>\n      <th>50%</th>\n      <th>75%</th>\n      <th>max</th>\n    </tr>\n    <tr>\n      <th>key1</th>\n      <th></th>\n      <th></th>\n      <th></th>\n      <th></th>\n      <th></th>\n      <th></th>\n      <th></th>\n      <th></th>\n      <th></th>\n      <th></th>\n      <th></th>\n      <th></th>\n      <th></th>\n      <th></th>\n      <th></th>\n      <th></th>\n    </tr>\n  </thead>\n  <tbody>\n    <tr>\n      <th>a</th>\n      <td>3.0</td>\n      <td>0.210292</td>\n      <td>1.052825</td>\n      <td>-0.564068</td>\n      <td>-0.389104</td>\n      <td>-0.214141</td>\n      <td>0.597472</td>\n      <td>1.409084</td>\n      <td>3.0</td>\n      <td>-0.008910</td>\n      <td>0.803929</td>\n      <td>-0.549369</td>\n      <td>-0.470839</td>\n      <td>-0.392309</td>\n      <td>0.261319</td>\n      <td>0.914947</td>\n    </tr>\n    <tr>\n      <th>b</th>\n      <td>2.0</td>\n      <td>0.159332</td>\n      <td>0.426802</td>\n      <td>-0.142463</td>\n      <td>0.008435</td>\n      <td>0.159332</td>\n      <td>0.310229</td>\n      <td>0.461127</td>\n      <td>2.0</td>\n      <td>-0.458599</td>\n      <td>1.242485</td>\n      <td>-1.337168</td>\n      <td>-0.897884</td>\n      <td>-0.458599</td>\n      <td>-0.019314</td>\n      <td>0.419971</td>\n    </tr>\n  </tbody>\n</table>\n</div>",
      "text/plain": "     data1                                                              \\\n     count      mean       std       min       25%       50%       75%   \nkey1                                                                     \na      3.0  0.210292  1.052825 -0.564068 -0.389104 -0.214141  0.597472   \nb      2.0  0.159332  0.426802 -0.142463  0.008435  0.159332  0.310229   \n\n               data2                                                    \\\n           max count      mean       std       min       25%       50%   \nkey1                                                                     \na     1.409084   3.0 -0.008910  0.803929 -0.549369 -0.470839 -0.392309   \nb     0.461127   2.0 -0.458599  1.242485 -1.337168 -0.897884 -0.458599   \n\n                          \n           75%       max  \nkey1                      \na     0.261319  0.914947  \nb    -0.019314  0.419971  "
     },
     "execution_count": 103,
     "metadata": {},
     "output_type": "execute_result"
    }
   ],
   "source": [
    "grouped.describe()"
   ]
  }
 ],
 "metadata": {
  "language_info": {
   "codemirror_mode": {
    "name": "ipython",
    "version": 3
   },
   "file_extension": ".py",
   "mimetype": "text/x-python",
   "name": "python",
   "nbconvert_exporter": "python",
   "pygments_lexer": "ipython3",
   "version": 3
  },
  "orig_nbformat": 2
 },
 "nbformat": 4,
 "nbformat_minor": 2
}